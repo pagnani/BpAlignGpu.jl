{
 "cells": [
  {
   "cell_type": "code",
   "execution_count": 1,
   "metadata": {},
   "outputs": [],
   "source": [
    "using DelimitedFiles, Plots"
   ]
  },
  {
   "cell_type": "code",
   "execution_count": 2,
   "metadata": {},
   "outputs": [
    {
     "name": "stderr",
     "output_type": "stream",
     "text": [
      "\u001b[32m\u001b[1m  Activating\u001b[22m\u001b[39m project at `~/MSA/BpAlignGpu.jl`\n"
     ]
    }
   ],
   "source": [
    "using Revise, Pkg\n",
    "Pkg.activate(\"/home/louise/MSA/BpAlignGpu.jl\")\n",
    "using BpAlignGpu"
   ]
  },
  {
   "cell_type": "code",
   "execution_count": 3,
   "metadata": {},
   "outputs": [
    {
     "name": "stderr",
     "output_type": "stream",
     "text": [
      "┌ Warning: The NVIDIA driver on this system only supports up to CUDA 11.0.0.\n",
      "│ For performance reasons, it is recommended to upgrade to a driver that supports CUDA 11.2 or higher.\n",
      "└ @ CUDA /home/louise/.julia/packages/CUDA/Uurn4/src/initialization.jl:70\n"
     ]
    },
    {
     "data": {
      "text/plain": [
       "CuDevice(0): TITAN RTX"
      ]
     },
     "execution_count": 3,
     "metadata": {},
     "output_type": "execute_result"
    }
   ],
   "source": [
    "using CUDA\n",
    "CUDA.device!(0)"
   ]
  },
  {
   "cell_type": "code",
   "execution_count": 4,
   "metadata": {},
   "outputs": [],
   "source": [
    "T = Float32\n",
    "q = 21\n",
    "ctype=Symbol(\"amino\")\n",
    "typel=Symbol(\"bm\")\n",
    "muext = 0.00\n",
    "muint = 2.50;"
   ]
  },
  {
   "cell_type": "markdown",
   "metadata": {},
   "source": [
    "### choose family"
   ]
  },
  {
   "cell_type": "code",
   "execution_count": 5,
   "metadata": {},
   "outputs": [
    {
     "name": "stderr",
     "output_type": "stream",
     "text": [
      "┌ Info: Assuming J i j a b and h i a format\n",
      "└ @ BpAlignGpu /home/louise/MSA/BpAlignGpu.jl/src/utils.jl:37\n",
      "┌ Info: Output tersors: J[a b i j] and h[a i]\n",
      "└ @ BpAlignGpu /home/louise/MSA/BpAlignGpu.jl/src/utils.jl:39\n",
      "┌ Info: Gap in input file 0 now in 21\n",
      "└ @ BpAlignGpu /home/louise/MSA/BpAlignGpu.jl/src/utils.jl:40\n"
     ]
    }
   ],
   "source": [
    "fam = \"PF00684\"\n",
    "\n",
    "open(\"/home/louise/MSA/Data/test/PF00684/\")\n",
    "L = 67; \n",
    "\n",
    "J, H = BpAlignGpu.read_parameters(\"/home/louise/MSA/Data/test/PF00684/Parameters_bm_PF00684seed_potts.dat\", q, L, gap=0, typel=typel);\n",
    "\n",
    "delta = 50;\n",
    "al = BpAlignGpu.enveloptoalign( \"/home/louise/MSA/Data/test/PF00684/Test_PF00684.full\", \"/home/louise/MSA/Data/test/PF00684/Test_PF00684.fasta\", \"/home/louise/MSA/Data/test/PF00684/Test_PF00684.ins\", delta = delta, ctype = ctype);\n",
    "M = length(al)\n",
    "\n",
    "using DelimitedFiles\n",
    "Lambda_all = readdlm(\"/home/louise/MSA/Data/test/PF00684/Lambda_PF00684.dat\")\n",
    "lambda_o = Lambda_all[:,1];\n",
    "lambda_e = Lambda_all[:,2];\n"
   ]
  },
  {
   "cell_type": "code",
   "execution_count": 6,
   "metadata": {},
   "outputs": [],
   "source": [
    "#fam = \"PF00397\"\n",
    "\n",
    "#open(\"/home/louise/MSA/Data/test/PF00397/\")\n",
    "#L = 31; \n",
    "\n",
    "#J, H = BpAlignGpu.read_parameters(\"/home/louise/MSA/Data/test/PF00397/Parameters_plm_PF00397.dat\", q, L, gap=0, typel=typel);\n",
    "\n",
    "#delta = 5;\n",
    "#al = BpAlignGpu.enveloptoalign( \"/home/louise/MSA/Data/test/PF00397/PF00397_full_length_sequences.fasta\", \"/home/louise/MSA/Data/test/PF00397/PF00397_full.fasta\", \"/home/louise/MSA/Data/test/PF00397/PF00397_full.inse\", delta = delta, ctype = ctype);\n",
    "#M = length(al)\n",
    "\n",
    "#using DelimitedFiles\n",
    "#Lambda_all = readdlm(\"/home/louise/MSA/Data/test/PF00397/Lambda_PF00397.dat\")\n",
    "#lambda_o = Lambda_all[1,:];\n",
    "#lambda_e = Lambda_all[2,:];"
   ]
  },
  {
   "cell_type": "markdown",
   "metadata": {},
   "source": [
    "### load results"
   ]
  },
  {
   "cell_type": "code",
   "execution_count": 35,
   "metadata": {},
   "outputs": [
    {
     "data": {
      "text/plain": [
       "extract_data (generic function with 1 method)"
      ]
     },
     "execution_count": 35,
     "metadata": {},
     "output_type": "execute_result"
    }
   ],
   "source": [
    "function extract_data(namefile::String)\n",
    "    data = readdlm(namefile);\n",
    "    #np = 14\n",
    "    param = data[1,:] #param = data[1,1:np]\n",
    "    nsamp =param[1]\n",
    "\n",
    "    inds = data[2,1:nsamp];\n",
    "    res = data[3:end,:];\n",
    "\n",
    "    xnsols = fill((0,0), L, nsamp)\n",
    "    for ns in 1:nsamp\n",
    "        for i=1:L\n",
    "            x = res[ns,i]\n",
    "            n = res[ns,L+i]\n",
    "            xnsols[i,ns] = (x,n)\n",
    "        end\n",
    "    end\n",
    "\n",
    "    sats = []\n",
    "    ens = []\n",
    "    for (i, idx0) in pairs(inds)\n",
    "    #    @show i, idx0\n",
    "        seq = BpAlignGpu.Seq(al[idx0][3], al[idx0][2], ctype)\n",
    "        N = length(al[idx0][2])\n",
    "        pm = ParamModel{T}(N, L, q, muint, muext, lambda_o, lambda_e, H, J)\n",
    "\n",
    "        c = BpAlignGpu.check_sr!(xnsols[:,i], L, N)\n",
    "\n",
    "        seqsol = BpAlignGpu.convert_soltosequence!(xnsols[:,i], seq.strseq, N, L)\n",
    "        energy = BpAlignGpu.compute_cost_function(pm.J, pm.H, seqsol[2], pm.L, seq.ctype, pm.lambda_o, pm.lambda_e, pm.muext, pm.muint)\n",
    "        append!(sats, sum(c))\n",
    "        append!(ens, energy)\n",
    "    end\n",
    "    return param, inds, sats, ens, xnsols\n",
    "end\n"
   ]
  },
  {
   "cell_type": "code",
   "execution_count": 57,
   "metadata": {},
   "outputs": [],
   "source": [
    "nsamples = \"60\"\n",
    "\n",
    "method = \"mf\"\n",
    "decim = \"maxP\"\n",
    "namefile = \"run_GS_\"*fam*\"_n\"*nsamples*\"_\"*method*\"_\"*decim*\".txt\"\n",
    "param_mf_maxP, inds_mf_maxP, sats_mf_maxP, ens_mf_maxP, xnsols_mf_maxP = extract_data(namefile);"
   ]
  },
  {
   "cell_type": "code",
   "execution_count": 58,
   "metadata": {},
   "outputs": [],
   "source": [
    "method = \"mf\"\n",
    "decim = \"nucleation\"\n",
    "namefile = \"run_GS_\"*fam*\"_n\"*nsamples*\"_\"*method*\"_\"*decim*\".txt\"\n",
    "param_mf_nucleation, inds_mf_nucleation, sats_mf_nucleation, ens_mf_nucleation, xnsols_mf_nucleation = extract_data(namefile);"
   ]
  },
  {
   "cell_type": "code",
   "execution_count": 59,
   "metadata": {},
   "outputs": [],
   "source": [
    "method = \"mf\"\n",
    "decim = \"viterbi\"\n",
    "namefile = \"run_GS_\"*fam*\"_n\"*nsamples*\"_\"*method*\"_\"*decim*\".txt\"\n",
    "param_mf_viterbi, inds_mf_viterbi, sats_mf_viterbi, ens_mf_viterbi, xnsols_mf_viterbi = extract_data(namefile);"
   ]
  },
  {
   "cell_type": "code",
   "execution_count": 60,
   "metadata": {},
   "outputs": [],
   "source": [
    "method = \"sce\"\n",
    "decim = \"maxP\"\n",
    "namefile = \"run_GS_\"*fam*\"_n\"*nsamples*\"_\"*method*\"_\"*decim*\".txt\"\n",
    "param_sce_maxP, inds_sce_maxP, sats_sce_maxP, ens_sce_maxP, xnsols_sce_maxP = extract_data(namefile);"
   ]
  },
  {
   "cell_type": "code",
   "execution_count": 61,
   "metadata": {},
   "outputs": [],
   "source": [
    "method = \"sce\"\n",
    "decim = \"nucleation\"\n",
    "namefile = \"run_GS_\"*fam*\"_n\"*nsamples*\"_\"*method*\"_\"*decim*\".txt\"\n",
    "param_sce_nucleation, inds_sce_nucleation, sats_sce_nucleation, ens_sce_nucleation, xnsols_sce_nucleation = extract_data(namefile);\n"
   ]
  },
  {
   "cell_type": "code",
   "execution_count": 62,
   "metadata": {},
   "outputs": [],
   "source": [
    "method = \"sce\"\n",
    "decim = \"viterbi\"\n",
    "namefile = \"run_GS_\"*fam*\"_n\"*nsamples*\"_\"*method*\"_\"*decim*\".txt\"\n",
    "param_sce_viterbi, inds_sce_viterbi, sats_sce_viterbi, ens_sce_viterbi, xnsols_sce_viterbi = extract_data(namefile);"
   ]
  },
  {
   "cell_type": "code",
   "execution_count": 63,
   "metadata": {},
   "outputs": [],
   "source": [
    "inds = inds_mf_maxP;"
   ]
  },
  {
   "cell_type": "code",
   "execution_count": 64,
   "metadata": {},
   "outputs": [],
   "source": [
    "#inds |> unique"
   ]
  },
  {
   "cell_type": "code",
   "execution_count": 65,
   "metadata": {},
   "outputs": [
    {
     "data": {
      "text/plain": [
       "1-element Vector{Vector{Any}}:\n",
       " [-136.10445f0, -142.8652f0, -124.42836f0, -164.48659f0, -134.47443f0, -122.74458f0, -147.7068f0, -176.14442f0, -174.7197f0, -139.60654f0  …  -135.34436f0, -167.25708f0, -157.96045f0, -164.49744f0, -139.92998f0, -150.53888f0, -102.19451f0, -166.65474f0, -157.31967f0, -68.56604f0]"
      ]
     },
     "execution_count": 65,
     "metadata": {},
     "output_type": "execute_result"
    }
   ],
   "source": [
    "ens_hhmer = []\n",
    "for (i, idx0) in pairs(inds)\n",
    "#    @show i, idx0\n",
    "    seq = BpAlignGpu.Seq(al[idx0][3], al[idx0][2], ctype)\n",
    "    N = length(al[idx0][2])\n",
    "    pm = ParamModel{T}(N, L, q, muint, muext, lambda_o, lambda_e, H, J)\n",
    "    \n",
    "    seqsol = al[idx0][4]\n",
    "    energy = BpAlignGpu.compute_cost_function(pm.J, pm.H, seqsol, pm.L, seq.ctype, pm.lambda_o, pm.lambda_e, pm.muext, pm.muint)\n",
    "#    @show energy\n",
    "    append!(ens_hhmer, energy)\n",
    "end\n",
    "[ens_hhmer]"
   ]
  },
  {
   "cell_type": "code",
   "execution_count": 66,
   "metadata": {},
   "outputs": [],
   "source": [
    "# DCAlign results:\n",
    "\n",
    "namefile2 = \"run_GS_\"*fam*\"_n\"*nsamples*\"_DCAlign.txt\"\n",
    "res_GS_DCA = readdlm(namefile2);\n",
    "\n",
    "sats_DCA = []\n",
    "match_mf_DCA = []\n",
    "ens_DCA = []\n",
    "for (i, idx0) in pairs(inds)\n",
    "#    @show i, idx0\n",
    "    seq = BpAlignGpu.Seq(al[idx0][3], al[idx0][2], ctype)\n",
    "    N = length(al[idx0][2])\n",
    "    pm = ParamModel{T}(N, L, q, muint, muext, lambda_o, lambda_e, H, J)\n",
    "    \n",
    "    seqsol = (String(res_GS_DCA[i,2]), String(res_GS_DCA[i,3]), res_GS_DCA[i,4], res_GS_DCA[i,5])\n",
    "    energy = BpAlignGpu.compute_cost_function(pm.J, pm.H, seqsol[2], pm.L, seq.ctype, pm.lambda_o, pm.lambda_e, pm.muext, pm.muint)\n",
    "    \n",
    "    seqsol_mf = BpAlignGpu.convert_soltosequence!(xnsols_mf_maxP[:,i], seq.strseq, N, L)\n",
    "    match = (seqsol == seqsol_mf)\n",
    "\n",
    "    sat = res_GS_DCA[i,6]\n",
    "\n",
    "#    @show energy, match, sat\n",
    "    \n",
    "    \n",
    "    append!(sats_DCA, sat)\n",
    "    append!(match_mf_DCA, match)\n",
    "    append!(ens_DCA, energy)\n",
    "end\n"
   ]
  },
  {
   "cell_type": "code",
   "execution_count": 67,
   "metadata": {},
   "outputs": [],
   "source": [
    "#open(\"inds.txt\", \"a\") do io\n",
    "#    writedlm(io, [inds])\n",
    "#end"
   ]
  },
  {
   "cell_type": "markdown",
   "metadata": {},
   "source": [
    "### Questions to ask\n",
    "* solutions are SAT ?\n",
    "* Sols found with mf are equal to sols found by DCAlign ??\n",
    "* Compare energies hhmer/DCAlign/mf/sce\n",
    "* compare energies obtained with different decimations\n",
    "* do all these comparisons for several families\n"
   ]
  },
  {
   "cell_type": "markdown",
   "metadata": {},
   "source": [
    "### Solutions are SAT ?"
   ]
  },
  {
   "cell_type": "code",
   "execution_count": 78,
   "metadata": {},
   "outputs": [
    {
     "data": {
      "text/plain": [
       "(7, 25, 5)"
      ]
     },
     "execution_count": 78,
     "metadata": {},
     "output_type": "execute_result"
    }
   ],
   "source": [
    "Nsats_mf_maxP = sum(sats_mf_maxP .!= 0)\n",
    "Nsats_sce_maxP = sum(sats_sce_maxP .!= 0)\n",
    "Nsats_DCAlign = sum(sats_DCA .== false)\n",
    "Nsats_mf_maxP, Nsats_sce_maxP, Nsats_DCAlign"
   ]
  },
  {
   "cell_type": "markdown",
   "metadata": {},
   "source": [
    "### Match DCAlign - mf"
   ]
  },
  {
   "cell_type": "code",
   "execution_count": 69,
   "metadata": {},
   "outputs": [
    {
     "data": {
      "text/plain": [
       "49"
      ]
     },
     "execution_count": 69,
     "metadata": {},
     "output_type": "execute_result"
    }
   ],
   "source": [
    "sum(match_mf_DCA)"
   ]
  },
  {
   "cell_type": "code",
   "execution_count": 70,
   "metadata": {},
   "outputs": [],
   "source": [
    "#open(\"ens_mf_vit.txt\", \"a\") do io\n",
    "#    writedlm(io, ens_mf_viterbi)\n",
    "#end"
   ]
  },
  {
   "cell_type": "markdown",
   "metadata": {},
   "source": [
    "### Compare decimations (on mf)"
   ]
  },
  {
   "cell_type": "code",
   "execution_count": 71,
   "metadata": {},
   "outputs": [
    {
     "data": {
      "text/plain": [
       "(5, 48, 0)"
      ]
     },
     "execution_count": 71,
     "metadata": {},
     "output_type": "execute_result"
    }
   ],
   "source": [
    "indssat_mf = findall(sats_mf_maxP .== 0)\n",
    "x1 = sum(ens_mf_viterbi[indssat_mf] .<  ens_mf_maxP[indssat_mf])\n",
    "x2 = sum(ens_mf_viterbi[indssat_mf] .==  ens_mf_maxP[indssat_mf])\n",
    "x3 = sum(ens_mf_viterbi[indssat_mf] .>  ens_mf_maxP[indssat_mf])\n",
    "(x1, x2, x3)"
   ]
  },
  {
   "cell_type": "code",
   "execution_count": 72,
   "metadata": {},
   "outputs": [
    {
     "data": {
      "text/plain": [
       "(0, 53, 0)"
      ]
     },
     "execution_count": 72,
     "metadata": {},
     "output_type": "execute_result"
    }
   ],
   "source": [
    "x1 = sum(ens_mf_nucleation[indssat_mf] .<  ens_mf_maxP[indssat_mf])\n",
    "x2 = sum(ens_mf_nucleation[indssat_mf] .==  ens_mf_maxP[indssat_mf])\n",
    "x3 = sum(ens_mf_nucleation[indssat_mf] .>  ens_mf_maxP[indssat_mf])\n",
    "(x1, x2, x3)"
   ]
  },
  {
   "cell_type": "code",
   "execution_count": 73,
   "metadata": {},
   "outputs": [
    {
     "data": {
      "text/plain": [
       "(8, 51, 1)"
      ]
     },
     "execution_count": 73,
     "metadata": {},
     "output_type": "execute_result"
    }
   ],
   "source": [
    "x1 = sum(ens_mf_viterbi .<  ens_mf_nucleation)\n",
    "x2 = sum(ens_mf_viterbi .==  ens_mf_nucleation)\n",
    "x3 = sum(ens_mf_viterbi .>  ens_mf_nucleation)\n",
    "(x1, x2, x3)"
   ]
  },
  {
   "cell_type": "code",
   "execution_count": 86,
   "metadata": {},
   "outputs": [
    {
     "data": {
      "text/plain": [
       "1-element Vector{Int64}:\n",
       " 60"
      ]
     },
     "execution_count": 86,
     "metadata": {},
     "output_type": "execute_result"
    }
   ],
   "source": [
    "findall(ens_mf_viterbi .>  ens_mf_nucleation)"
   ]
  },
  {
   "cell_type": "markdown",
   "metadata": {},
   "source": [
    "### Compare decimations (on sce) "
   ]
  },
  {
   "cell_type": "code",
   "execution_count": 74,
   "metadata": {},
   "outputs": [
    {
     "data": {
      "text/plain": [
       "(6, 29, 0)"
      ]
     },
     "execution_count": 74,
     "metadata": {},
     "output_type": "execute_result"
    }
   ],
   "source": [
    "indssat_sce = findall(sats_sce_maxP .== 0)\n",
    "x1 = sum(ens_sce_viterbi[indssat_sce] .<  ens_sce_maxP[indssat_sce])\n",
    "x2 = sum(ens_sce_viterbi[indssat_sce] .==  ens_sce_maxP[indssat_sce])\n",
    "x3 = sum(ens_sce_viterbi[indssat_sce] .>  ens_sce_maxP[indssat_sce])\n",
    "(x1, x2, x3)"
   ]
  },
  {
   "cell_type": "code",
   "execution_count": 75,
   "metadata": {},
   "outputs": [
    {
     "data": {
      "text/plain": [
       "(0, 35, 0)"
      ]
     },
     "execution_count": 75,
     "metadata": {},
     "output_type": "execute_result"
    }
   ],
   "source": [
    "indssat_sce = findall(sats_sce_maxP .== 0)\n",
    "x1 = sum(ens_sce_nucleation[indssat_sce] .<  ens_sce_maxP[indssat_sce])\n",
    "x2 = sum(ens_sce_nucleation[indssat_sce] .==  ens_sce_maxP[indssat_sce])\n",
    "x3 = sum(ens_sce_nucleation[indssat_sce] .>  ens_sce_maxP[indssat_sce])\n",
    "(x1, x2, x3)"
   ]
  },
  {
   "cell_type": "code",
   "execution_count": 77,
   "metadata": {},
   "outputs": [
    {
     "data": {
      "text/plain": [
       "(24, 36, 0)"
      ]
     },
     "execution_count": 77,
     "metadata": {},
     "output_type": "execute_result"
    }
   ],
   "source": [
    "x1 = sum(ens_sce_viterbi .<  ens_sce_nucleation)\n",
    "x2 = sum(ens_sce_viterbi .==  ens_sce_nucleation)\n",
    "x3 = sum(ens_sce_viterbi .>  ens_sce_nucleation)\n",
    "(x1, x2, x3)"
   ]
  },
  {
   "cell_type": "markdown",
   "metadata": {},
   "source": [
    "### compare with hhmer"
   ]
  },
  {
   "cell_type": "code",
   "execution_count": 79,
   "metadata": {},
   "outputs": [
    {
     "data": {
      "text/plain": [
       "(37, 22, 1)"
      ]
     },
     "execution_count": 79,
     "metadata": {},
     "output_type": "execute_result"
    }
   ],
   "source": [
    "x1 = sum(ens_mf_viterbi .<  ens_hhmer)\n",
    "x2 = sum(ens_mf_viterbi .==  ens_hhmer)\n",
    "x3 = sum(ens_mf_viterbi .>  ens_hhmer)\n",
    "(x1, x2, x3)"
   ]
  },
  {
   "cell_type": "code",
   "execution_count": 89,
   "metadata": {},
   "outputs": [
    {
     "data": {
      "text/plain": [
       "([24], Any[-129.05228f0], Any[-129.51018f0])"
      ]
     },
     "execution_count": 89,
     "metadata": {},
     "output_type": "execute_result"
    }
   ],
   "source": [
    "id1 = findall(ens_mf_viterbi .>  ens_hhmer)\n",
    "id1, ens_mf_viterbi[id1], ens_hhmer[id1]"
   ]
  },
  {
   "cell_type": "code",
   "execution_count": 80,
   "metadata": {},
   "outputs": [
    {
     "data": {
      "text/plain": [
       "(33, 22, 5)"
      ]
     },
     "execution_count": 80,
     "metadata": {},
     "output_type": "execute_result"
    }
   ],
   "source": [
    "x1 = sum(ens_sce_viterbi .<  ens_hhmer)\n",
    "x2 = sum(ens_sce_viterbi .==  ens_hhmer)\n",
    "x3 = sum(ens_sce_viterbi .>  ens_hhmer)\n",
    "(x1, x2, x3)"
   ]
  },
  {
   "cell_type": "code",
   "execution_count": 88,
   "metadata": {},
   "outputs": [
    {
     "data": {
      "text/plain": [
       "5-element Vector{Int64}:\n",
       " 17\n",
       " 21\n",
       " 24\n",
       " 38\n",
       " 60"
      ]
     },
     "execution_count": 88,
     "metadata": {},
     "output_type": "execute_result"
    }
   ],
   "source": [
    "findall(ens_sce_viterbi .>  ens_hhmer)"
   ]
  },
  {
   "cell_type": "markdown",
   "metadata": {},
   "source": [
    "### compare sce and mf"
   ]
  },
  {
   "cell_type": "code",
   "execution_count": 81,
   "metadata": {},
   "outputs": [
    {
     "data": {
      "text/plain": [
       "(0, 52, 8)"
      ]
     },
     "execution_count": 81,
     "metadata": {},
     "output_type": "execute_result"
    }
   ],
   "source": [
    "x1 = sum(ens_sce_viterbi .<  ens_mf_viterbi)\n",
    "x2 = sum(ens_sce_viterbi .==  ens_mf_viterbi)\n",
    "x3 = sum(ens_sce_viterbi .>  ens_mf_viterbi)\n",
    "(x1, x2, x3)"
   ]
  },
  {
   "cell_type": "code",
   "execution_count": 83,
   "metadata": {},
   "outputs": [
    {
     "data": {
      "text/plain": [
       "8-element Vector{Int64}:\n",
       " 17\n",
       " 21\n",
       " 38\n",
       " 48\n",
       " 50\n",
       " 56\n",
       " 57\n",
       " 60"
      ]
     },
     "execution_count": 83,
     "metadata": {},
     "output_type": "execute_result"
    }
   ],
   "source": [
    "indstocheck = findall(ens_sce_viterbi .>  ens_mf_viterbi)"
   ]
  },
  {
   "cell_type": "code",
   "execution_count": 84,
   "metadata": {},
   "outputs": [
    {
     "data": {
      "text/plain": [
       "8-element Vector{Float32}:\n",
       " 103.71113\n",
       "  43.72876\n",
       "  41.093834\n",
       "   6.990219\n",
       "   1.0961151\n",
       "   0.0340271\n",
       "   0.25248718\n",
       "  91.34402"
      ]
     },
     "execution_count": 84,
     "metadata": {},
     "output_type": "execute_result"
    }
   ],
   "source": [
    "[(ens_sce_viterbi[i],  ens_mf_viterbi[i]) for i in indstocheck]"
   ]
  },
  {
   "cell_type": "code",
   "execution_count": null,
   "metadata": {},
   "outputs": [],
   "source": []
  }
 ],
 "metadata": {
  "kernelspec": {
   "display_name": "Julia 1.7.1",
   "language": "julia",
   "name": "julia-1.7"
  },
  "language_info": {
   "file_extension": ".jl",
   "mimetype": "application/julia",
   "name": "julia",
   "version": "1.7.1"
  }
 },
 "nbformat": 4,
 "nbformat_minor": 4
}
