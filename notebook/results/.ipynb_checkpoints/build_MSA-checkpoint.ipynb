{
 "cells": [
  {
   "cell_type": "code",
   "execution_count": 1,
   "metadata": {},
   "outputs": [
    {
     "name": "stderr",
     "output_type": "stream",
     "text": [
      "\u001b[32m\u001b[1m  Activating\u001b[22m\u001b[39m project at `~/MSA/BpAlignGpu.jl`\n"
     ]
    }
   ],
   "source": [
    "using Revise, Pkg\n",
    "Pkg.activate(\"/home/louise/MSA/BpAlignGpu.jl\")\n",
    "using BpAlignGpu"
   ]
  },
  {
   "cell_type": "code",
   "execution_count": 2,
   "metadata": {},
   "outputs": [],
   "source": [
    "namefile_GS = \"run_GS_PF00684_n60_mf_maxP.txt\"\n",
    "family = \"PF00684\"\n",
    "method = \"mf\"\n",
    "decod = \"maxP\";"
   ]
  },
  {
   "cell_type": "code",
   "execution_count": 3,
   "metadata": {},
   "outputs": [],
   "source": [
    "T = Float32\n",
    "q = 21\n",
    "ctype=Symbol(\"amino\")\n",
    "typel=Symbol(\"bm\");"
   ]
  },
  {
   "cell_type": "code",
   "execution_count": 18,
   "metadata": {},
   "outputs": [
    {
     "data": {
      "text/plain": [
       "100"
      ]
     },
     "execution_count": 18,
     "metadata": {},
     "output_type": "execute_result"
    }
   ],
   "source": [
    "L=67\n",
    "delta = 5;\n",
    "path_full = \"/home/louise/MSA/Data/test/PF00684/Test_PF00684.full\"\n",
    "path_hmmer = \"/home/louise/MSA/Data/test/PF00684/Test_PF00684.fasta\"\n",
    "path_hmmer_ins = \"/home/louise/MSA/Data/test/PF00684/Test_PF00684.ins\"\n",
    "delta = 50;\n",
    "al = BpAlignGpu.enveloptoalign( path_full, path_hmmer, path_hmmer_ins, delta = delta, ctype = ctype);\n",
    "M = length(al)\n"
   ]
  },
  {
   "cell_type": "code",
   "execution_count": 19,
   "metadata": {},
   "outputs": [
    {
     "data": {
      "text/plain": [
       "1"
      ]
     },
     "execution_count": 19,
     "metadata": {},
     "output_type": "execute_result"
    }
   ],
   "source": [
    "#i = rand(1:M)\n",
    "i=1"
   ]
  },
  {
   "cell_type": "code",
   "execution_count": 20,
   "metadata": {},
   "outputs": [],
   "source": [
    "nameseq = \"\"\n",
    "le = \"true\"\n",
    "for (n,c) in pairs(al[i][1])\n",
    "    if c == '/'\n",
    "        le = \"false\"\n",
    "    end\n",
    "    if le == \"true\"\n",
    "        nameseq *= c\n",
    "    end\n",
    "end"
   ]
  },
  {
   "cell_type": "code",
   "execution_count": 21,
   "metadata": {
    "scrolled": true
   },
   "outputs": [
    {
     "data": {
      "text/plain": [
       "(\"A0A1U7L4K2_9APHY\", \">A0A1U7L4K2_9APHY/143-310\")"
      ]
     },
     "execution_count": 21,
     "metadata": {},
     "output_type": "execute_result"
    }
   ],
   "source": [
    "nameseq, \">\"*al[i][1]"
   ]
  },
  {
   "cell_type": "code",
   "execution_count": 22,
   "metadata": {},
   "outputs": [
    {
     "data": {
      "text/plain": [
       "\"ELFGGAQFGFNFGGRPHRTRGQDTVIPHDVTLEDLYNGKSVKMNMEKNAVCGVCKGSGARGSAKAKQCAKCEGNGYITVNSARGGGVIGVSKAMCTDCSGEGEKLREKDRCKKCKGNKIIKDKTRHEIFVERGMPDKHRITIAGAGDEEPGVPPGDVVFALRTRPHAS\""
      ]
     },
     "execution_count": 22,
     "metadata": {},
     "output_type": "execute_result"
    }
   ],
   "source": [
    "al[i][2]"
   ]
  },
  {
   "cell_type": "code",
   "execution_count": 23,
   "metadata": {},
   "outputs": [
    {
     "data": {
      "text/plain": [
       "\"CGVCKGSGARGAKAKQCAKCEGNGYITVNSARGGGVIGVSKAMCTDCSGEGEKLREKDRCKKCKGNK\""
      ]
     },
     "execution_count": 23,
     "metadata": {},
     "output_type": "execute_result"
    }
   ],
   "source": [
    "al[i][3]"
   ]
  },
  {
   "cell_type": "code",
   "execution_count": 24,
   "metadata": {},
   "outputs": [
    {
     "data": {
      "text/plain": [
       "\"CGVCKGSGARGsAKAKQCAKCEGNGYITVNSARGGGVIGVSKAMCTDCSGEGEKLREKDRCKKCKGNK\""
      ]
     },
     "execution_count": 24,
     "metadata": {},
     "output_type": "execute_result"
    }
   ],
   "source": [
    "al[i][4]"
   ]
  },
  {
   "cell_type": "code",
   "execution_count": 25,
   "metadata": {},
   "outputs": [
    {
     "data": {
      "text/plain": [
       "build_MSA (generic function with 1 method)"
      ]
     },
     "execution_count": 25,
     "metadata": {},
     "output_type": "execute_result"
    }
   ],
   "source": [
    "using DelimitedFiles\n",
    "function build_MSA(namefile::String, family::String, method::String, decod::String)\n",
    "    #read GS file\n",
    "    data = readdlm(namefile);\n",
    "    param = data[1,:] \n",
    "    nsamp =param[1]\n",
    "    inds = data[2,1:nsamp];\n",
    "    res = data[3:end,:];\n",
    "    #extract xn solutions from GS file\n",
    "    xnsols = fill((0,0), L, nsamp)\n",
    "    for ns in 1:nsamp\n",
    "        for i=1:L\n",
    "            x = res[ns,i]\n",
    "            n = res[ns,L+i]\n",
    "            xnsols[i,ns] = (x,n)\n",
    "        end\n",
    "    end\n",
    "    \n",
    "    #build MSA file\n",
    "    nameout = \"MSA_\"*family*\"_\"*method*decod*\".fasta\"\n",
    "    \n",
    "    for (i, idx0) in pairs(inds)\n",
    "    #    @show i, idx0\n",
    "        seq = BpAlignGpu.Seq(al[idx0][3], al[idx0][2], ctype)\n",
    "        N = length(al[idx0][2])\n",
    "        seqsol = BpAlignGpu.convert_soltosequence!(xnsols[:,i], seq.strseq, N, L)\n",
    "        @show seqsol[1]\n",
    "        \n",
    "        open(nameout, \"a\") do io\n",
    "            writedlm(io, [\">\"*al[idx0][1]])\n",
    "            writedlm(io, [seqsol[1]])\n",
    "        end\n",
    "    end\n",
    "    return nothing\n",
    "end\n"
   ]
  },
  {
   "cell_type": "code",
   "execution_count": 26,
   "metadata": {},
   "outputs": [
    {
     "name": "stdout",
     "output_type": "stream",
     "text": [
      "seqsol = (\"CGVCKGSGARGAKAKQCAKCEGNGITVNSA--RGGVIGVSKAMCTDCSGEGEKLREKDRCKKCKGNK\", \"CGVCKGSGARGsAKAKQCAKCEGNGyITVNSA--RGGgVIGVSKAMCTDCSGEGEKLREKDRCKKCKGNK\", 51, 118)\n",
      "seqsol = (\"CPECHGSGAEKGFPVTCPTCQGKGRVARATQSFGTFM--TSSTCPTCKAEGSVI--EKKCSTCTGKG\", \"CPECHGSGAEKGFqPVTCPTCQGKGRVARATQSiFGTFM--TSSTCPTCKAEGSVI--EKKCSTCTGKG\", 51, 115)\n",
      "seqsol = (\"CERCDGKGNEPGTVQHCHYCSGSGM--ETINTFVM-----RSTCRRCGGRGSII--TNPCVVCRGAG\", \"CERCDGKGNEPGTkVQHCHYCSGSGM--ETINTgpFVM-----RSTCRRCGGRGSII--TNPCVVCRGAG\", 51, 111)\n",
      "seqsol = (\"CATCGGSGAKPGTPITCRKCGGRGTIQVERRTLGNMM--TEQECDVCHGSGKEI--EEKCETCHGSG\", \"CATCGGSGAKPGTsPITCRKCGGRGTIQVERRTpLGNMM--TEQECDVCHGSGKEI--EEKCETCHGSG\", 51, 115)\n",
      "seqsol = (\"CTVCHGSGSEAGGRKVCATCQGSGQVRRSS-GFSI-----ASPCPSCSGEGYMI--DKPCRACGGSG\", \"CTVCHGSGSEAGGgRKVCATCQGSGQVRRSS-GfFSI-----ASPCPSCSGEGYMI--DKPCRACGGSG\", 51, 111)\n",
      "seqsol = (\"CAACKGSGVKPGTPVSCVTCGGLGVEQMGLGGFRM-----RTTCPACKGAGKIY--KEKCADCRGAG\", \"CAACKGSGVKPGTePVSCVTCGGLGaVEQMGLGGmFRM-----RTTCPACKGAGKIY--KEKCADCRGAG\", 51, 113)\n",
      "seqsol = (\"CQSCNGSGARKGSPKNCETCNGIGQVRIQQ-GFSI-----QQTCPHCHGEGKVI--TDPCTACHGQG\", \"CQSCNGSGARKGSsPKNCETCNGIGQVRIQQ-GfFSI-----QQTCPHCHGEGKVI--TDPCTACHGQG\", 51, 111)\n",
      "seqsol = (\"CETCNGTGAKPGTPSSCGTCGGSGQVRRATRTFGSFT--QVSVCPTCNGSGQVI--EEKCGTCAGKG\", \"CETCNGTGAKPGTrPSSCGTCGGSGQVRRATRTpFGSFT--QVSVCPTCNGSGQVI--EEKCGTCAGKG\", 51, 115)\n",
      "seqsol = (\"CDTCSGSGAKPGTPETCKHCQGTGQMNIEQNTFGRVV--NKRVCHHCSGTGKEI--KEKCTTCSGKG\", \"CDTCSGSGAKPGTkPETCKHCQGTGQMNIEQNTpFGRVV--NKRVCHHCSGTGKEI--KEKCTTCSGKG\", 51, 115)\n",
      "seqsol = (\"CSKCDGTGSQDKKTQTCHVCHGSGRVRIKRQ-LAPMIQQQDIPCQQCGGKGSVV--KHKCTTCQGN-\", \"CSKCDGTGSQDKKTQTCHVCHGSGRVRIKRQ-LAPgMIQQQDIPCQQCGGKGSVV--KHKCTTCQGN-\", 51, 114)\n",
      "seqsol = (\"CKTCEGSGAAPGTPETCDTCGGAGRVRAQQ-GFTM-----ERTCPRCNGKGKTI--KKPCKDCGGAG\", \"CKTCEGSGAAPGTePETCDTCGGAGRVRAQQ-GfFTM-----ERTCPRCNGKGKTI--KKPCKDCGGAG\", 51, 111)\n",
      "seqsol = (\"CDRCRGAGTAEGTVTTCDTCGGQGEIQSVQRSLGQVV--TARPCPVCRGFGEVI--TDPCQQCGGDG\", \"CDRCRGAGTAEgGTVTTCDTCGGQGEIQSVQRSfLGQVV--TARPCPVCRGFGEVI--TDPCQQCGGDG\", 51, 115)\n",
      "seqsol = (\"CEVCLGTGSKVGSMRICSTCGGRGQVMRTEQTFGLFS--QVSVCPNCGGDGEVI--SEYCRKCSGKG\", \"CEVCLGTGSKVGSrMRICSTCGGRGQVMRTEQTpFGLFS--QVSVCPNCGGDGEVI--SEYCRKCSGKG\", 51, 115)\n",
      "seqsol = (\"CGTCKGDGLKPGSRQQCKRCNGTG-TRVHVMQG--FQMA--SSCDACSGTGVVIPRGSECNTCAGNG\", \"CGTCKGDGLKPGSsRQQCKRCNGTG-TRVHVMQaG--FQMA--SSCDACSGTGVVIPRGSECNTCAGNG\", 51, 114)\n",
      "seqsol = (\"CDHCDATGSESKAPVMCDQCHGAGEIQEVQRSLGNVM--TSRPCPKCSGFGEVI--KDPCHKCDGDG\", \"CDHCDATGSESKAdPVMCDQCHGAGEIQEVQRSfLGNVM--TSRPCPKCSGFGEVI--KDPCHKCDGDG\", 51, 115)\n",
      "seqsol = (\"CDVCDGSGAKKGTATTCGTCHGAGQVQMRQ-GFAV-----QQTCPTCHGRGKII--KDPCSKCHGDG\", \"CDVCDGSGAKKGTsATTCGTCHGAGQVQMRQ-GfFAV-----QQTCPTCHGRGKII--KDPCSKCHGDG\", 51, 111)\n",
      "seqsol = (\"CTTCGGSGAKPGTPETCSKCSGSGRINVERQTLGRMM--SQQTCDECHGTGKTI--KDKCTTCNGAG\", \"CTTCGGSGAKPGTqPETCSKCSGSGRINVERQTpLGRMM--SQQTCDECHGTGKTI--KDKCTTCNGAG\", 51, 115)\n",
      "seqsol = (\"CGTCKGSGGKAVKPQQCEKCRGAGAEAYRQ--VGPLVRKETVICDRCEGSGNIFKEKDRCKKCKGKR\", \"CGTCKGSGGKAsVKPQQCEKCRGAGmAEAYRQ--VGPgLVRKETVICDRCEGSGNIFKEKDRCKKCKGKR\", 51, 118)\n",
      "seqsol = (\"CETCKGSCCQEGTPVTCDICGGSGHVQRQVRSLGNVV--TSQPCGTCEGYGTTI--PYPCGTCAGQG\", \"CETCKGSCCQEGTsPVTCDICGGSGHVQRQVRSlLGNVV--TSQPCGTCEGYGTTI--PYPCGTCAGQG\", 51, 115)\n",
      "seqsol = (\"CEACDGNGAEKGSPEACGTCKGMGQVRMQQ-GFTV-----QQACPTCRGAGKVI--KNPCSKCQGQG\", \"CEACDGNGAEKGSrPEACGTCKGMGQVRMQQ-GfFTV-----QQACPTCRGAGKVI--KNPCSKCQGQG\", 51, 111)\n",
      "seqsol = (\"CDTCDGDGAKPGSTTTCTTCAGQGAVRMSQ-GFSV-----QQTCPDCQGTGQMI--KDPCGDCHGQG\", \"CDTCDGDGAKPGSgTTTCTTCAGQGAVRMSQ-GfFSV-----QQTCPDCQGTGQMI--KDPCGDCHGQG\", 51, 111)\n",
      "seqsol = (\"CHTCDGSGAKPGTPVTCPKCQGTGFVEVEQQSLGRIR--SRQACDRCGGKGKII--ENPCETCHGTG\", \"CHTCDGSGAKPGTsPVTCPKCQGTGFVEVEQQSpLGRIR--SRQACDRCGGKGKII--ENPCETCHGTG\", 51, 115)\n",
      "seqsol = (\"CPKCAGSKCEPGTPGRCQYCNGTGF--ETISTFVM-----RSTCRYCQGTRQYI--KYPCAECEGKG\", \"CPKCAGSKCEPGTkPGRCQYCNGTGF--ETISTgpFVM-----RSTCRYCQGTRQYI--KYPCAECEGKG\", 51, 111)\n",
      "seqsol = (\"CNNCNGSGKKPGTLTICKVCNGSGIQRIER-GIII-----GVPCRNCSGNGQII--NNPCKQCSGSG\", \"CNNCNGSGKKPGTnLTICKVCNGSGIQRIER-GpIII-----iGVPCRNCSGNGQII--NNPCKQCSGSG\", 51, 111)\n",
      "seqsol = (\"CQPCHGHGTKNGKPETCKVCHGTG-QQKISLQG--FHMA--APCQACGGVGTMLQKGKECHTCGGVG\", \"CQPCHGHGTKNGKaPETCKVCHGTG-QQKISLQG--FHMA--APCQACGGVGTMLQKGKECHTCGGVG\", 51, 113)\n",
      "seqsol = (\"CDTCSGSGAKPGSPTTCSTCSGSGRVRASQ-GFSV-----ERTCPACNGRGEVI--SDPCPDCSGQG\", \"CDTCSGSGAKPGSsPTTCSTCSGSGRVRASQ-GfFSV-----ERTCPACNGRGEVI--SDPCPDCSGQG\", 51, 111)\n",
      "seqsol = (\"CKACNGKGGK---VKKCATCNGTGKFVTRQ--MGPMIQRFQTTCDVCHGEGDIMNEKDRCGKCHGKK\", \"CKACNGKGGK---nVKKCATCNGTGmKFVTRQ--MGPMIQRFQTTCDVCHGEGDIMNEKDRCGKCHGKK\", 51, 114)\n",
      "seqsol = (\"CGGCDGRGGKEGAVKECAGCNGSGKTMMRQ--MGPMIQRFQTVCPDCNGEGEIVRDKDRCKKCNGKK\", \"CGGCDGRGGKEGAVKECAGCNGSGmKTMMRQ--MGPMIQRFQTVCPDCNGEGEIVRDKDRCKKCNGKK\", 51, 116)\n",
      "seqsol = (\"CADCSGTGAESGKLEECKTCNGQGRVRQSVRTFGVFA--QVVACQKCDGDGVVA--HTKCHSCNGAG\", \"CADCSGTGAESGKLEECKTCNGQGRVRQSVRTpFGVFA--QVVACQKCDGDGVVA--HTKCHSCNGAG\", 51, 114)\n",
      "seqsol = (\"CESCHGTGSNAGSVETCPSCHGAGKVRAQQ-GFVV-----ERPCPTCHGAGRTV--KDPCKVCHGEG\", \"CESCHGTGSNAGeSgVETCPSCHGAGKVRAQQ-GfFVV-----ERPCPTCHGAGRTV--KDPCKVCHGEG\", 51, 112)\n",
      "seqsol = (\"CESCDGTGSADKQPETCPSCHGAGKVRAQQ-GFFV-----ERPCPTCHGTGRLI--RNPCKECHGAG\", \"CESCDGTGSADKdQpPETCPSCHGAGKVRAQQ-GfFFV-----ERPCPTCHGTGRLI--RNPCKECHGAG\", 51, 112)\n",
      "seqsol = (\"CDVCHGSGAKAGSPVTCPTCHGQGQVQMRQ-GFTV-----QQACPTCQGRGNII--KDPCSKCHGHG\", \"CDVCHGSGAKAGSkPVTCPTCHGQGQVQMRQ-GfFTV-----QQACPTCQGRGNII--KDPCSKCHGHG\", 51, 111)\n",
      "seqsol = (\"CDVCHGHGAKPGTAQTCPTCGGQGQVRMSQ-GFSV-----QQTCPKCHGTGSYI--PDPCTKCHGVG\", \"CDVCHGHGAKPGTkAQTCPTCGGQGQVRMSQ-GfFSV-----QQTCPKCHGTGSYI--PDPCTKCHGVG\", 51, 111)\n",
      "seqsol = (\"CKACSGTGDKNGTPRVCPTCLGTGQVSRGT-GFSL-----TDPCVDCKGRGLIA--QDPCDVCKGSG\", \"CKACSGTGDKNGTPRVCPTCLGTGQVSRGT-gGgFSL-----TDPCVDCKGRGLIA--QDPCDVCKGSG\", 51, 111)\n",
      "seqsol = (\"CGTCNGSGAKPGTPSRCSTCGGQGRVVSSTRTLGIFQ--QSMTCSSCNGTGE-I--STPCNTCSGDG\", \"CGTCNGSGAKPGTtPSRCSTCGGQGRVVSSTRTpLGIFQ--QSMTCSSCNGTGE-I--STPCNTCSGDG\", 51, 114)\n",
      "seqsol = (\"CPTCGGSGAAKGSPETCSVCHGTGQEQVMQRTFGSMM--TSRTCSHCHGTGKII--KDPCKDCHGTG\", \"CPTCGGSGAAKGStPETCSVCHGTGQEQVMQRTmFGSMM--TSRTCSHCHGTGKII--KDPCKDCHGTG\", 51, 115)\n",
      "seqsol = (\"CSLCHGKGGKEATAKKCGTCDGHGREVLQQ--MGGFLTQSSVPCTTCSGEGSYFSPKDKCKKCKGK-\", \"CSLCHGKGGKErATAKKCGTCDGHGfREVLQQ--MGGFLTQSSVPCTTCSGEGSYFSPKDKCKKCKGK-\", 51, 116)\n",
      "seqsol = (\"CNACTGTGSATGSIQRCRTCGGSGVQRVER-GIVL-----GIPCRQCNGAGQVI--THPCRTCRGTG\", \"CNACTGTGSATGSggIQRCRTCGGSGVQRVER-GpIVL-----GIPCRQCNGAGQVI--THPCRTCRGTG\", 51, 112)\n",
      "seqsol = (\"CSRCNGSRVEPGSPSTCPTCGGSGKVQHVTQTLGHFT--QVSTCPQCQGQGRII--SNPCKECRGEG\", \"CSRCNGSRVEPGSaPSTCPTCGGSGKVQHVTQTiLGHFT--QVSTCPQCQGQGRII--SNPCKECRGEG\", 51, 115)\n",
      "seqsol = (\"CEKCQGSGAEPGSINTCPKCHGQGQIKTQRRTFGVMQ--SASTCDRCDGSGKIP--ERSCSECRGTG\", \"CEKCQGSGAEPGSkINTCPKCHGQGQIKTQRRTiFGVMQ--SASTCDRCDGSGKIP--ERSCSECRGTG\", 51, 115)\n",
      "seqsol = (\"CNSCSGSGAKPGTKVTCKKCNGRGSIRVQRQSFGTVV--SEELCNECNGTGEIV--EEKCEKCKGK-\", \"CNSCSGSGAKPGTkKVTCKKCNGRGSIRVQRQSfFGTVV--SEELCNECNGTGEIV--EEKCEKCKGK-\", 51, 114)\n",
      "seqsol = (\"CSTCGGNGAKPGTPETCHKCHGSGSINVERQTLGRVM--SRQTCDVCRGTGKEI--KEPCPTCHGTG\", \"CSTCGGNGAKPGThPETCHKCHGSGSINVERQTpLGRVM--SRQTCDVCRGTGKEI--KEPCPTCHGTG\", 51, 115)\n",
      "seqsol = (\"CLSCNGSGAKAGAMETCKQCNGQGKIHETKKSLGVIS--STKICEVCYGEGEVP--KEVCDKCKGKG\", \"CLSCNGSGAKAGAkMETCKQCNGQGKIHETKKSfLGVIS--STKICEVCYGEGEVP--KEVCDKCKGKG\", 51, 115)\n",
      "seqsol = (\"CSKCEGRGGKEGAVKKCVGCDGHGKTMMRQ--MGPMIQRFQTVCPDCNGEGEIIREKDKCKQCNGKK\", \"CSKCEGRGGKEGAVKKCVGCDGHGmKTMMRQ--MGPMIQRFQTVCPDCNGEGEIIREKDKCKQCNGKK\", 51, 116)\n",
      "seqsol = (\"CESCHGSGAAAGSPETCPTCGGSGTIRTTERTLGTMQ--VQKTCPRCGGKGKII--GSPCTSCGGQG\", \"CESCHGSGAAAGSsPETCPTCGGSGTIRTTERTmLGTMQ--VQKTCPRCGGKGKII--GSPCTSCGGQG\", 51, 115)\n",
      "seqsol = (\"CTACDGTGARSGTAEGCPTCGGVGQVRIQQ-GFSV-----QQACPRCHGSGKII--PDPCPSCRGEG\", \"CTACDGTGARSGTrAEGCPTCGGVGQVRIQQ-GfFSV-----QQACPRCHGSGKII--PDPCPSCRGEG\", 51, 111)\n",
      "seqsol = (\"CQTCGGSGAKAGTPETCSKCHGQGTINVERQTLGRVM--SRQTCDQCGGSGQTI--KEPCSDCHGSG\", \"CQTCGGSGAKAGThPETCSKCHGQGTINVERQTpLGRVM--SRQTCDQCGGSGQTI--KEPCSDCHGSG\", 51, 115)\n",
      "seqsol = (\"CDSCHGRGI--AKRI-CPTCGGIG-----R-RTIP-PFS--TTCSSCKGSGRVITEK--CGSCKGHG\", \"CDSCHGRGypI--dAKaRI-CPTCGGIG-----R-RvTIP-PFS--TTCSSCKGSGRVITEK--CGSCKGHG\", 51, 107)\n",
      "seqsol = (\"CPGCDGIGGKPGSVKQCGPCGGTGRTMMRQ--MGPMIQRFVVECSDCDRTGQVINERDRCKKCKGNK\", \"CPGCDGIGGKPGSVKQCGPCGGTGkRTMMRQ--MGPMIQRFVVECSDCDRTGQVINERDRCKKCKGNK\", 51, 116)\n",
      "seqsol = (\"CRNCKGTGSKTGSSSRCAECLGSGRTNIRQ--LGPMIQQIQSVCSGCGGSGETIREEDKCGQCKGQK\", \"CRNCKGTGSKTGSSSRCAECLGSGRTNlIRQ--LGPnMIQQIQSVCSGCGGSGETIREEDKCGQCKGQK\", 51, 117)\n",
      "seqsol = (\"CHHCHGKGAAHEDVHVCNECGGQGVKTTTRR-VGPFIQQFQTTCEKCHGKGKIY--TSTCPVCGGRK\", \"CHHCHGKGAAHeEDVHVCNECGGQGVKTTTRR-VGPgFIQQFQTTCEKCHGKGKIY--TSTCPVCGGRK\", 51, 116)\n",
      "seqsol = (\"CSRCEGRGGAEGAEKTCDTCQGRGRVQLRH--IAPMVQQMQSVCPDCRGQGKSIRESDRCKACKGKK\", \"CSRCEGRGGAEGAEKTCDTCQGRGmRVQLRH--IAPgMVQQMQSVCPDCRGQGKSIRESDRCKACKGKK\", 51, 117)\n",
      "seqsol = (\"CAKCHGTGAKPGTPQTCPKCGGKGQVMYTQQSFGVVR--NVATCPDCNGTGKII--KEKCPDCYGSG\", \"CAKCHGTGAKPGTdPQTCPKCGGKGQVMYTQQSlFGVVR--NVATCPDCNGTGKII--KEKCPDCYGSG\", 51, 115)\n",
      "seqsol = (\"CPHCHGAKAEPGTTKTCETCGGSGQVRHVNNTLGQFA--TVRPCSVCKGEGKII--ETPCSECQGKG\", \"CPHCHGAKAEPGTdTKTCETCGGSGQVRHVNNTpLGQFA--TVRPCSVCKGEGKII--ETPCSECQGKG\", 51, 115)\n",
      "seqsol = (\"CRVCSGTGAKAGTPRVCPTCVGAGTVSRGQ-GFAL-----SEPCRDCKGRGMLV--DDPCTVCHGSG\", \"CRVCSGTGAKAGTtPRVCPTCVGAGTVSRGQ-GaFAL-----SEPCRDCKGRGMLV--DDPCTVCHGSG\", 51, 111)\n",
      "seqsol = (\"CKPCGGKGGK---VKECTTCHGQGRIINRQ--MGPMIQRMQVQCDKCNGTGDIMDAKDRCKTCHGKK\", \"CKPCGGKGGK---nVKECTTCHGQGiRIINRQ--MGPMIQRMQVQCDKCNGTGDIMDAKDRCKTCHGKK\", 51, 114)\n",
      "seqsol = (\"--LLLRKGTKSGAPGTCYGCHGIGKTITRQ--IGLMIQQMNTVCPECRGSGEIIRERDRCPNCTANK\", \"--LLLRKGTKSGAPGTCYGCHGIGmKTITRQ--IGLgMIQQMNTVCPECRGSGEIIRERDRCPNCTANK\", 49, 112)\n",
      "seqsol = (\"CSTCSGEGAAPGTAQTCDMCRGRGEVSQVTRSLGQVM--TSRPCPQCQGFGTVV--PTPCPECAGDG\", \"CSTCSGEGAAPGTsAQTCDMCRGRGEVSQVTRSfLGQVM--TSRPCPQCQGFGTVV--PTPCPECAGDG\", 51, 115)\n",
      "seqsol = (\"CETCQGACTQPGTEVTCDICHGSGHVQRTVRSLGNVV--TSQPCTVCHGHGTTI--PYPCGTCQGQG\", \"CETCQGACTQPGTsEVTCDICHGSGHVQRTVRSlLGNVV--TSQPCTVCHGHGTTI--PYPCGTCQGQG\", 51, 115)\n",
      "seqsol = (\"CPDCHGRGYEAISTEICPVCKGKGKSKSVKG-KGSIE--VTRPCEACEGLGKIY-----CKVCG---\", \"CPDCHGRGYEAISTEICPVCKGKGKSKSVdfmkisekdidsflkngavcekcKG-KGSIE--VTRPCEACEGLGKIY-----tCKVCG---\", 5, 84)\n"
     ]
    }
   ],
   "source": [
    "build_MSA(namefile_GS, family, method, decod)"
   ]
  },
  {
   "cell_type": "code",
   "execution_count": null,
   "metadata": {},
   "outputs": [],
   "source": []
  }
 ],
 "metadata": {
  "kernelspec": {
   "display_name": "Julia 1.7.1",
   "language": "julia",
   "name": "julia-1.7"
  },
  "language_info": {
   "file_extension": ".jl",
   "mimetype": "application/julia",
   "name": "julia",
   "version": "1.7.1"
  }
 },
 "nbformat": 4,
 "nbformat_minor": 4
}
