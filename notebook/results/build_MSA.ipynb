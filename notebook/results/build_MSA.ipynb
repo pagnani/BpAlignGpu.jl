{
 "cells": [
  {
   "cell_type": "code",
   "execution_count": 1,
   "metadata": {},
   "outputs": [
    {
     "name": "stderr",
     "output_type": "stream",
     "text": [
      "\u001b[32m\u001b[1m  Activating\u001b[22m\u001b[39m project at `~/MSA/BpAlignGpu.jl`\n"
     ]
    }
   ],
   "source": [
    "using Revise, Pkg\n",
    "Pkg.activate(\"/home/louise/MSA/BpAlignGpu.jl\")\n",
    "using BpAlignGpu"
   ]
  },
  {
   "cell_type": "code",
   "execution_count": 2,
   "metadata": {},
   "outputs": [],
   "source": [
    "namefile_GS = \"run_GS_PF00684_n60_mf_maxP.txt\"\n",
    "family = \"PF00684\"\n",
    "method = \"mf\"\n",
    "decod = \"maxP\";"
   ]
  },
  {
   "cell_type": "code",
   "execution_count": 3,
   "metadata": {},
   "outputs": [],
   "source": [
    "T = Float32\n",
    "q = 21\n",
    "ctype=Symbol(\"amino\")\n",
    "typel=Symbol(\"bm\");"
   ]
  },
  {
   "cell_type": "code",
   "execution_count": 18,
   "metadata": {},
   "outputs": [
    {
     "data": {
      "text/plain": [
       "100"
      ]
     },
     "execution_count": 18,
     "metadata": {},
     "output_type": "execute_result"
    }
   ],
   "source": [
    "L=67\n",
    "delta = 5;\n",
    "path_full = \"/home/louise/MSA/Data/test/PF00684/Test_PF00684.full\"\n",
    "path_hmmer = \"/home/louise/MSA/Data/test/PF00684/Test_PF00684.fasta\"\n",
    "path_hmmer_ins = \"/home/louise/MSA/Data/test/PF00684/Test_PF00684.ins\"\n",
    "delta = 50;\n",
    "al = BpAlignGpu.enveloptoalign( path_full, path_hmmer, path_hmmer_ins, delta = delta, ctype = ctype);\n",
    "M = length(al)\n"
   ]
  },
  {
   "cell_type": "code",
   "execution_count": 19,
   "metadata": {},
   "outputs": [
    {
     "data": {
      "text/plain": [
       "1"
      ]
     },
     "execution_count": 19,
     "metadata": {},
     "output_type": "execute_result"
    }
   ],
   "source": [
    "#i = rand(1:M)\n",
    "i=1"
   ]
  },
  {
   "cell_type": "code",
   "execution_count": 20,
   "metadata": {},
   "outputs": [],
   "source": [
    "nameseq = \"\"\n",
    "le = \"true\"\n",
    "for (n,c) in pairs(al[i][1])\n",
    "    if c == '/'\n",
    "        le = \"false\"\n",
    "    end\n",
    "    if le == \"true\"\n",
    "        nameseq *= c\n",
    "    end\n",
    "end"
   ]
  },
  {
   "cell_type": "code",
   "execution_count": 21,
   "metadata": {
    "scrolled": true
   },
   "outputs": [
    {
     "data": {
      "text/plain": [
       "(\"A0A1U7L4K2_9APHY\", \">A0A1U7L4K2_9APHY/143-310\")"
      ]
     },
     "execution_count": 21,
     "metadata": {},
     "output_type": "execute_result"
    }
   ],
   "source": [
    "nameseq, \">\"*al[i][1]"
   ]
  },
  {
   "cell_type": "code",
   "execution_count": 22,
   "metadata": {},
   "outputs": [
    {
     "data": {
      "text/plain": [
       "\"ELFGGAQFGFNFGGRPHRTRGQDTVIPHDVTLEDLYNGKSVKMNMEKNAVCGVCKGSGARGSAKAKQCAKCEGNGYITVNSARGGGVIGVSKAMCTDCSGEGEKLREKDRCKKCKGNKIIKDKTRHEIFVERGMPDKHRITIAGAGDEEPGVPPGDVVFALRTRPHAS\""
      ]
     },
     "execution_count": 22,
     "metadata": {},
     "output_type": "execute_result"
    }
   ],
   "source": [
    "al[i][2]"
   ]
  },
  {
   "cell_type": "code",
   "execution_count": 23,
   "metadata": {},
   "outputs": [
    {
     "data": {
      "text/plain": [
       "\"CGVCKGSGARGAKAKQCAKCEGNGYITVNSARGGGVIGVSKAMCTDCSGEGEKLREKDRCKKCKGNK\""
      ]
     },
     "execution_count": 23,
     "metadata": {},
     "output_type": "execute_result"
    }
   ],
   "source": [
    "al[i][3]"
   ]
  },
  {
   "cell_type": "code",
   "execution_count": 24,
   "metadata": {},
   "outputs": [
    {
     "data": {
      "text/plain": [
       "\"CGVCKGSGARGsAKAKQCAKCEGNGYITVNSARGGGVIGVSKAMCTDCSGEGEKLREKDRCKKCKGNK\""
      ]
     },
     "execution_count": 24,
     "metadata": {},
     "output_type": "execute_result"
    }
   ],
   "source": [
    "al[i][4]"
   ]
  },
  {
   "cell_type": "code",
   "execution_count": 27,
   "metadata": {},
   "outputs": [
    {
     "data": {
      "text/plain": [
       "build_MSA (generic function with 1 method)"
      ]
     },
     "execution_count": 27,
     "metadata": {},
     "output_type": "execute_result"
    }
   ],
   "source": [
    "using DelimitedFiles\n",
    "function build_MSA(namefile::String, family::String, method::String, decod::String)\n",
    "    #read GS file\n",
    "    data = readdlm(namefile);\n",
    "    param = data[1,:] \n",
    "    nsamp =param[1]\n",
    "    inds = data[2,1:nsamp];\n",
    "    res = data[3:end,:];\n",
    "    #extract xn solutions from GS file\n",
    "    xnsols = fill((0,0), L, nsamp)\n",
    "    for ns in 1:nsamp\n",
    "        for i=1:L\n",
    "            x = res[ns,i]\n",
    "            n = res[ns,L+i]\n",
    "            xnsols[i,ns] = (x,n)\n",
    "        end\n",
    "    end\n",
    "    \n",
    "    #build MSA file\n",
    "    nameout = \"MSA_\"*family*\"_\"*method*decod*\".fasta\"\n",
    "    \n",
    "    for (i, idx0) in pairs(inds)\n",
    "    #    @show i, idx0\n",
    "        seq = BpAlignGpu.Seq(al[idx0][3], al[idx0][2], ctype)\n",
    "        N = length(al[idx0][2])\n",
    "        seqsol = BpAlignGpu.convert_soltosequence!(xnsols[:,i], seq.strseq, N, L)\n",
    "        @show seqsol[1]\n",
    "        \n",
    "        open(nameout, \"a\") do io\n",
    "            writedlm(io, [\">\"*al[idx0][1]])\n",
    "            writedlm(io, [seqsol[1]])\n",
    "        end\n",
    "    end\n",
    "    return nothing\n",
    "end\n"
   ]
  },
  {
   "cell_type": "code",
   "execution_count": 28,
   "metadata": {},
   "outputs": [
    {
     "name": "stdout",
     "output_type": "stream",
     "text": [
      "seqsol[1] = \"CGVCKGSGARGAKAKQCAKCEGNGITVNSA--RGGVIGVSKAMCTDCSGEGEKLREKDRCKKCKGNK\"\n",
      "seqsol[1] = \"CPECHGSGAEKGFPVTCPTCQGKGRVARATQSFGTFM--TSSTCPTCKAEGSVI--EKKCSTCTGKG\"\n",
      "seqsol[1] = \"CERCDGKGNEPGTVQHCHYCSGSGM--ETINTFVM-----RSTCRRCGGRGSII--TNPCVVCRGAG\"\n",
      "seqsol[1] = \"CATCGGSGAKPGTPITCRKCGGRGTIQVERRTLGNMM--TEQECDVCHGSGKEI--EEKCETCHGSG\"\n",
      "seqsol[1] = \"CTVCHGSGSEAGGRKVCATCQGSGQVRRSS-GFSI-----ASPCPSCSGEGYMI--DKPCRACGGSG\"\n",
      "seqsol[1] = \"CAACKGSGVKPGTPVSCVTCGGLGVEQMGLGGFRM-----RTTCPACKGAGKIY--KEKCADCRGAG\"\n",
      "seqsol[1] = \"CQSCNGSGARKGSPKNCETCNGIGQVRIQQ-GFSI-----QQTCPHCHGEGKVI--TDPCTACHGQG\"\n",
      "seqsol[1] = \"CETCNGTGAKPGTPSSCGTCGGSGQVRRATRTFGSFT--QVSVCPTCNGSGQVI--EEKCGTCAGKG\"\n",
      "seqsol[1] = \"CDTCSGSGAKPGTPETCKHCQGTGQMNIEQNTFGRVV--NKRVCHHCSGTGKEI--KEKCTTCSGKG\"\n",
      "seqsol[1] = \"CSKCDGTGSQDKKTQTCHVCHGSGRVRIKRQ-LAPMIQQQDIPCQQCGGKGSVV--KHKCTTCQGN-\"\n",
      "seqsol[1] = \"CKTCEGSGAAPGTPETCDTCGGAGRVRAQQ-GFTM-----ERTCPRCNGKGKTI--KKPCKDCGGAG\"\n",
      "seqsol[1] = \"CDRCRGAGTAEGTVTTCDTCGGQGEIQSVQRSLGQVV--TARPCPVCRGFGEVI--TDPCQQCGGDG\"\n",
      "seqsol[1] = \"CEVCLGTGSKVGSMRICSTCGGRGQVMRTEQTFGLFS--QVSVCPNCGGDGEVI--SEYCRKCSGKG\"\n",
      "seqsol[1] = \"CGTCKGDGLKPGSRQQCKRCNGTG-TRVHVMQG--FQMA--SSCDACSGTGVVIPRGSECNTCAGNG\"\n",
      "seqsol[1] = \"CDHCDATGSESKAPVMCDQCHGAGEIQEVQRSLGNVM--TSRPCPKCSGFGEVI--KDPCHKCDGDG\"\n",
      "seqsol[1] = \"CDVCDGSGAKKGTATTCGTCHGAGQVQMRQ-GFAV-----QQTCPTCHGRGKII--KDPCSKCHGDG\"\n",
      "seqsol[1] = \"CTTCGGSGAKPGTPETCSKCSGSGRINVERQTLGRMM--SQQTCDECHGTGKTI--KDKCTTCNGAG\"\n",
      "seqsol[1] = \"CGTCKGSGGKAVKPQQCEKCRGAGAEAYRQ--VGPLVRKETVICDRCEGSGNIFKEKDRCKKCKGKR\"\n",
      "seqsol[1] = \"CETCKGSCCQEGTPVTCDICGGSGHVQRQVRSLGNVV--TSQPCGTCEGYGTTI--PYPCGTCAGQG\"\n",
      "seqsol[1] = \"CEACDGNGAEKGSPEACGTCKGMGQVRMQQ-GFTV-----QQACPTCRGAGKVI--KNPCSKCQGQG\"\n",
      "seqsol[1] = \"CDTCDGDGAKPGSTTTCTTCAGQGAVRMSQ-GFSV-----QQTCPDCQGTGQMI--KDPCGDCHGQG\"\n",
      "seqsol[1] = \"CHTCDGSGAKPGTPVTCPKCQGTGFVEVEQQSLGRIR--SRQACDRCGGKGKII--ENPCETCHGTG\"\n",
      "seqsol[1] = \"CPKCAGSKCEPGTPGRCQYCNGTGF--ETISTFVM-----RSTCRYCQGTRQYI--KYPCAECEGKG\"\n",
      "seqsol[1] = \"CNNCNGSGKKPGTLTICKVCNGSGIQRIER-GIII-----GVPCRNCSGNGQII--NNPCKQCSGSG\"\n",
      "seqsol[1] = \"CQPCHGHGTKNGKPETCKVCHGTG-QQKISLQG--FHMA--APCQACGGVGTMLQKGKECHTCGGVG\"\n",
      "seqsol[1] = \"CDTCSGSGAKPGSPTTCSTCSGSGRVRASQ-GFSV-----ERTCPACNGRGEVI--SDPCPDCSGQG\"\n",
      "seqsol[1] = \"CKACNGKGGK---VKKCATCNGTGKFVTRQ--MGPMIQRFQTTCDVCHGEGDIMNEKDRCGKCHGKK\"\n",
      "seqsol[1] = \"CGGCDGRGGKEGAVKECAGCNGSGKTMMRQ--MGPMIQRFQTVCPDCNGEGEIVRDKDRCKKCNGKK\"\n",
      "seqsol[1] = \"CADCSGTGAESGKLEECKTCNGQGRVRQSVRTFGVFA--QVVACQKCDGDGVVA--HTKCHSCNGAG\"\n",
      "seqsol[1] = \"CESCHGTGSNAGSVETCPSCHGAGKVRAQQ-GFVV-----ERPCPTCHGAGRTV--KDPCKVCHGEG\"\n",
      "seqsol[1] = \"CESCDGTGSADKQPETCPSCHGAGKVRAQQ-GFFV-----ERPCPTCHGTGRLI--RNPCKECHGAG\"\n",
      "seqsol[1] = \"CDVCHGSGAKAGSPVTCPTCHGQGQVQMRQ-GFTV-----QQACPTCQGRGNII--KDPCSKCHGHG\"\n",
      "seqsol[1] = \"CDVCHGHGAKPGTAQTCPTCGGQGQVRMSQ-GFSV-----QQTCPKCHGTGSYI--PDPCTKCHGVG\"\n",
      "seqsol[1] = \"CKACSGTGDKNGTPRVCPTCLGTGQVSRGT-GFSL-----TDPCVDCKGRGLIA--QDPCDVCKGSG\"\n",
      "seqsol[1] = \"CGTCNGSGAKPGTPSRCSTCGGQGRVVSSTRTLGIFQ--QSMTCSSCNGTGE-I--STPCNTCSGDG\"\n",
      "seqsol[1] = \"CPTCGGSGAAKGSPETCSVCHGTGQEQVMQRTFGSMM--TSRTCSHCHGTGKII--KDPCKDCHGTG\"\n",
      "seqsol[1] = \"CSLCHGKGGKEATAKKCGTCDGHGREVLQQ--MGGFLTQSSVPCTTCSGEGSYFSPKDKCKKCKGK-\"\n",
      "seqsol[1] = \"CNACTGTGSATGSIQRCRTCGGSGVQRVER-GIVL-----GIPCRQCNGAGQVI--THPCRTCRGTG\"\n",
      "seqsol[1] = \"CSRCNGSRVEPGSPSTCPTCGGSGKVQHVTQTLGHFT--QVSTCPQCQGQGRII--SNPCKECRGEG\"\n",
      "seqsol[1] = \"CEKCQGSGAEPGSINTCPKCHGQGQIKTQRRTFGVMQ--SASTCDRCDGSGKIP--ERSCSECRGTG\"\n",
      "seqsol[1] = \"CNSCSGSGAKPGTKVTCKKCNGRGSIRVQRQSFGTVV--SEELCNECNGTGEIV--EEKCEKCKGK-\"\n",
      "seqsol[1] = \"CSTCGGNGAKPGTPETCHKCHGSGSINVERQTLGRVM--SRQTCDVCRGTGKEI--KEPCPTCHGTG\"\n",
      "seqsol[1] = \"CLSCNGSGAKAGAMETCKQCNGQGKIHETKKSLGVIS--STKICEVCYGEGEVP--KEVCDKCKGKG\"\n",
      "seqsol[1] = \"CSKCEGRGGKEGAVKKCVGCDGHGKTMMRQ--MGPMIQRFQTVCPDCNGEGEIIREKDKCKQCNGKK\"\n",
      "seqsol[1] = \"CESCHGSGAAAGSPETCPTCGGSGTIRTTERTLGTMQ--VQKTCPRCGGKGKII--GSPCTSCGGQG\"\n",
      "seqsol[1] = \"CTACDGTGARSGTAEGCPTCGGVGQVRIQQ-GFSV-----QQACPRCHGSGKII--PDPCPSCRGEG\"\n",
      "seqsol[1] = \"CQTCGGSGAKAGTPETCSKCHGQGTINVERQTLGRVM--SRQTCDQCGGSGQTI--KEPCSDCHGSG\"\n",
      "seqsol[1] = \"CDSCHGRGI--AKRI-CPTCGGIG-----R-RTIP-PFS--TTCSSCKGSGRVITEK--CGSCKGHG\"\n",
      "seqsol[1] = \"CPGCDGIGGKPGSVKQCGPCGGTGRTMMRQ--MGPMIQRFVVECSDCDRTGQVINERDRCKKCKGNK\"\n",
      "seqsol[1] = \"CRNCKGTGSKTGSSSRCAECLGSGRTNIRQ--LGPMIQQIQSVCSGCGGSGETIREEDKCGQCKGQK\"\n",
      "seqsol[1] = \"CHHCHGKGAAHEDVHVCNECGGQGVKTTTRR-VGPFIQQFQTTCEKCHGKGKIY--TSTCPVCGGRK\"\n",
      "seqsol[1] = \"CSRCEGRGGAEGAEKTCDTCQGRGRVQLRH--IAPMVQQMQSVCPDCRGQGKSIRESDRCKACKGKK\"\n",
      "seqsol[1] = \"CAKCHGTGAKPGTPQTCPKCGGKGQVMYTQQSFGVVR--NVATCPDCNGTGKII--KEKCPDCYGSG\"\n",
      "seqsol[1] = \"CPHCHGAKAEPGTTKTCETCGGSGQVRHVNNTLGQFA--TVRPCSVCKGEGKII--ETPCSECQGKG\"\n",
      "seqsol[1] = \"CRVCSGTGAKAGTPRVCPTCVGAGTVSRGQ-GFAL-----SEPCRDCKGRGMLV--DDPCTVCHGSG\"\n",
      "seqsol[1] = \"CKPCGGKGGK---VKECTTCHGQGRIINRQ--MGPMIQRMQVQCDKCNGTGDIMDAKDRCKTCHGKK\"\n",
      "seqsol[1] = \"--LLLRKGTKSGAPGTCYGCHGIGKTITRQ--IGLMIQQMNTVCPECRGSGEIIRERDRCPNCTANK\"\n",
      "seqsol[1] = \"CSTCSGEGAAPGTAQTCDMCRGRGEVSQVTRSLGQVM--TSRPCPQCQGFGTVV--PTPCPECAGDG\"\n",
      "seqsol[1] = \"CETCQGACTQPGTEVTCDICHGSGHVQRTVRSLGNVV--TSQPCTVCHGHGTTI--PYPCGTCQGQG\"\n",
      "seqsol[1] = \"CPDCHGRGYEAISTEICPVCKGKGKSKSVKG-KGSIE--VTRPCEACEGLGKIY-----CKVCG---\"\n"
     ]
    }
   ],
   "source": [
    "build_MSA(namefile_GS, family, method, decod)"
   ]
  },
  {
   "cell_type": "code",
   "execution_count": null,
   "metadata": {},
   "outputs": [],
   "source": []
  }
 ],
 "metadata": {
  "kernelspec": {
   "display_name": "Julia 1.7.1",
   "language": "julia",
   "name": "julia-1.7"
  },
  "language_info": {
   "file_extension": ".jl",
   "mimetype": "application/julia",
   "name": "julia",
   "version": "1.7.1"
  }
 },
 "nbformat": 4,
 "nbformat_minor": 4
}
