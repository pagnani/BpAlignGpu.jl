{
 "cells": [
  {
   "cell_type": "code",
   "execution_count": 1,
   "metadata": {},
   "outputs": [],
   "source": [
    "using DelimitedFiles, Plots"
   ]
  },
  {
   "cell_type": "code",
   "execution_count": 2,
   "metadata": {},
   "outputs": [
    {
     "name": "stderr",
     "output_type": "stream",
     "text": [
      "\u001b[32m\u001b[1m  Activating\u001b[22m\u001b[39m project at `~/MSA/BpAlignGpu.jl`\n"
     ]
    }
   ],
   "source": [
    "using Revise, Pkg\n",
    "Pkg.activate(\"/home/louise/MSA/BpAlignGpu.jl\")\n",
    "using BpAlignGpu"
   ]
  },
  {
   "cell_type": "code",
   "execution_count": 3,
   "metadata": {},
   "outputs": [
    {
     "name": "stderr",
     "output_type": "stream",
     "text": [
      "┌ Warning: The NVIDIA driver on this system only supports up to CUDA 11.0.0.\n",
      "│ For performance reasons, it is recommended to upgrade to a driver that supports CUDA 11.2 or higher.\n",
      "└ @ CUDA /home/louise/.julia/packages/CUDA/Uurn4/src/initialization.jl:70\n"
     ]
    },
    {
     "data": {
      "text/plain": [
       "CuDevice(0): TITAN RTX"
      ]
     },
     "execution_count": 3,
     "metadata": {},
     "output_type": "execute_result"
    }
   ],
   "source": [
    "using CUDA\n",
    "CUDA.device!(0)"
   ]
  },
  {
   "cell_type": "code",
   "execution_count": 4,
   "metadata": {},
   "outputs": [],
   "source": [
    "T = Float32\n",
    "q = 21\n",
    "ctype=Symbol(\"amino\")\n",
    "typel=Symbol(\"bm\")\n",
    "muext = 0.00\n",
    "muint = 2.50;"
   ]
  },
  {
   "cell_type": "markdown",
   "metadata": {},
   "source": [
    "### choose family"
   ]
  },
  {
   "cell_type": "code",
   "execution_count": 5,
   "metadata": {},
   "outputs": [
    {
     "name": "stderr",
     "output_type": "stream",
     "text": [
      "┌ Info: Assuming J i j a b and h i a format\n",
      "└ @ BpAlignGpu /home/louise/MSA/BpAlignGpu.jl/src/utils.jl:37\n",
      "┌ Info: Output tersors: J[a b i j] and h[a i]\n",
      "└ @ BpAlignGpu /home/louise/MSA/BpAlignGpu.jl/src/utils.jl:39\n",
      "┌ Info: Gap in input file 0 now in 21\n",
      "└ @ BpAlignGpu /home/louise/MSA/BpAlignGpu.jl/src/utils.jl:40\n"
     ]
    }
   ],
   "source": [
    "fam = \"PF00684\"\n",
    "\n",
    "open(\"/home/louise/MSA/Data/test/PF00684/\")\n",
    "L = 67; \n",
    "\n",
    "J, H = BpAlignGpu.read_parameters(\"/home/louise/MSA/Data/test/PF00684/Parameters_bm_PF00684seed_potts.dat\", q, L, gap=0, typel=typel);\n",
    "\n",
    "delta = 50;\n",
    "al = BpAlignGpu.enveloptoalign( \"/home/louise/MSA/Data/test/PF00684/Test_PF00684.full\", \"/home/louise/MSA/Data/test/PF00684/Test_PF00684.fasta\", \"/home/louise/MSA/Data/test/PF00684/Test_PF00684.ins\", delta = delta, ctype = ctype);\n",
    "M = length(al)\n",
    "\n",
    "using DelimitedFiles\n",
    "Lambda_all = readdlm(\"/home/louise/MSA/Data/test/PF00684/Lambda_PF00684.dat\")\n",
    "lambda_o = Lambda_all[:,1];\n",
    "lambda_e = Lambda_all[:,2];\n"
   ]
  },
  {
   "cell_type": "code",
   "execution_count": 6,
   "metadata": {},
   "outputs": [],
   "source": [
    "#fam = \"PF00397\"\n",
    "\n",
    "#open(\"/home/louise/MSA/Data/test/PF00397/\")\n",
    "#L = 31; \n",
    "\n",
    "#J, H = BpAlignGpu.read_parameters(\"/home/louise/MSA/Data/test/PF00397/Parameters_plm_PF00397.dat\", q, L, gap=0, typel=typel);\n",
    "\n",
    "#delta = 5;\n",
    "#al = BpAlignGpu.enveloptoalign( \"/home/louise/MSA/Data/test/PF00397/PF00397_full_length_sequences.fasta\", \"/home/louise/MSA/Data/test/PF00397/PF00397_full.fasta\", \"/home/louise/MSA/Data/test/PF00397/PF00397_full.inse\", delta = delta, ctype = ctype);\n",
    "#M = length(al)\n",
    "\n",
    "#using DelimitedFiles\n",
    "#Lambda_all = readdlm(\"/home/louise/MSA/Data/test/PF00397/Lambda_PF00397.dat\")\n",
    "#lambda_o = Lambda_all[1,:];\n",
    "#lambda_e = Lambda_all[2,:];"
   ]
  },
  {
   "cell_type": "markdown",
   "metadata": {},
   "source": [
    "### load results"
   ]
  },
  {
   "cell_type": "code",
   "execution_count": 7,
   "metadata": {},
   "outputs": [
    {
     "data": {
      "text/plain": [
       "extract_data (generic function with 1 method)"
      ]
     },
     "execution_count": 7,
     "metadata": {},
     "output_type": "execute_result"
    }
   ],
   "source": [
    "function extract_data(namefile::String)\n",
    "    data = readdlm(namefile);\n",
    "    #np = 14\n",
    "    param = data[1,:] #param = data[1,1:np]\n",
    "    nsamp =param[1]\n",
    "\n",
    "    inds = data[2,1:nsamp];\n",
    "    res = data[3:end,:];\n",
    "\n",
    "    xnsols = fill((0,0), L, nsamp)\n",
    "    for ns in 1:nsamp\n",
    "        for i=1:L\n",
    "            x = res[ns,i]\n",
    "            n = res[ns,L+i]\n",
    "            xnsols[i,ns] = (x,n)\n",
    "        end\n",
    "    end\n",
    "\n",
    "    sats = []\n",
    "    ens = []\n",
    "    for (i, idx0) in pairs(inds)\n",
    "    #    @show i, idx0\n",
    "        seq = BpAlignGpu.Seq(al[idx0][3], al[idx0][2], ctype)\n",
    "        N = length(al[idx0][2])\n",
    "        pm = ParamModel{T}(N, L, q, muint, muext, lambda_o, lambda_e, H, J)\n",
    "\n",
    "        c = BpAlignGpu.check_sr!(xnsols[:,i], L, N)\n",
    "\n",
    "        seqsol = BpAlignGpu.convert_soltosequence!(xnsols[:,i], seq.strseq, N, L)\n",
    "        energy = BpAlignGpu.compute_cost_function(pm.J, pm.H, seqsol[2], pm.L, seq.ctype, pm.lambda_o, pm.lambda_e, pm.muext, pm.muint)\n",
    "        append!(sats, sum(c))\n",
    "        append!(ens, energy)\n",
    "    end\n",
    "    return param, inds, sats, ens, xnsols\n",
    "end\n"
   ]
  },
  {
   "cell_type": "code",
   "execution_count": 60,
   "metadata": {},
   "outputs": [
    {
     "data": {
      "text/plain": [
       "\"data_GS_solutions/\""
      ]
     },
     "execution_count": 60,
     "metadata": {},
     "output_type": "execute_result"
    }
   ],
   "source": [
    "path = \"data_GS_solutions/\""
   ]
  },
  {
   "cell_type": "code",
   "execution_count": 61,
   "metadata": {},
   "outputs": [],
   "source": [
    "nsamples = \"60\"\n",
    "\n",
    "method = \"mf\"\n",
    "decim = \"maxP\"\n",
    "namefile = path * \"run_GS_\"*fam*\"_n\"*nsamples*\"_\"*method*\"_\"*decim*\".txt\"\n",
    "param_mf_maxP, inds_mf_maxP, sats_mf_maxP, ens_mf_maxP, xnsols_mf_maxP = extract_data(namefile);"
   ]
  },
  {
   "cell_type": "code",
   "execution_count": 62,
   "metadata": {},
   "outputs": [],
   "source": [
    "method = \"mf\"\n",
    "decim = \"nucleation\"\n",
    "namefile = path * \"run_GS_\"*fam*\"_n\"*nsamples*\"_\"*method*\"_\"*decim*\".txt\"\n",
    "param_mf_nucleation, inds_mf_nucleation, sats_mf_nucleation, ens_mf_nucleation, xnsols_mf_nucleation = extract_data(namefile);"
   ]
  },
  {
   "cell_type": "code",
   "execution_count": 63,
   "metadata": {},
   "outputs": [],
   "source": [
    "method = \"mf\"\n",
    "decim = \"viterbi\"\n",
    "namefile = path * \"run_GS_\"*fam*\"_n\"*nsamples*\"_\"*method*\"_\"*decim*\".txt\"\n",
    "param_mf_viterbi, inds_mf_viterbi, sats_mf_viterbi, ens_mf_viterbi, xnsols_mf_viterbi = extract_data(namefile);"
   ]
  },
  {
   "cell_type": "code",
   "execution_count": 64,
   "metadata": {},
   "outputs": [],
   "source": [
    "method = \"sce\"\n",
    "decim = \"maxP\"\n",
    "namefile = path * \"run_GS_\"*fam*\"_n\"*nsamples*\"_\"*method*\"_\"*decim*\".txt\"\n",
    "param_sce_maxP, inds_sce_maxP, sats_sce_maxP, ens_sce_maxP, xnsols_sce_maxP = extract_data(namefile);"
   ]
  },
  {
   "cell_type": "code",
   "execution_count": 65,
   "metadata": {},
   "outputs": [],
   "source": [
    "nsamples = \"8\"\n",
    "method = \"sce\"\n",
    "decim = \"maxP\"\n",
    "namefile = path * \"run_GS_\"*fam*\"_n\"*nsamples*\"_\"*method*\"_\"*decim*\"_damp0p5.txt\"\n",
    "param2_d, inds2_d, sats2_d, ens2_d, xnsols2_d = extract_data(namefile);\n",
    "\n",
    "j=0\n",
    "for i in inds_sce_maxP\n",
    "    if i in inds2_d\n",
    "        j += 1\n",
    "        sats_sce_maxP[i] = sats2_d[j]\n",
    "        ens_sce_maxP[i] = ens2_d[j]\n",
    "        xnsols_sce_maxP[:,i] = xnsols2_d[:,j]\n",
    "    end\n",
    "end"
   ]
  },
  {
   "cell_type": "code",
   "execution_count": 66,
   "metadata": {},
   "outputs": [],
   "source": [
    "nsamples = \"60\"\n",
    "\n",
    "method = \"sce\"\n",
    "decim = \"nucleation\"\n",
    "namefile = path * \"run_GS_\"*fam*\"_n\"*nsamples*\"_\"*method*\"_\"*decim*\".txt\"\n",
    "param_sce_nucleation, inds_sce_nucleation, sats_sce_nucleation, ens_sce_nucleation, xnsols_sce_nucleation = extract_data(namefile);\n"
   ]
  },
  {
   "cell_type": "code",
   "execution_count": 67,
   "metadata": {},
   "outputs": [],
   "source": [
    "nsamples = \"8\"\n",
    "method = \"sce\"\n",
    "decim = \"nucleation\"\n",
    "namefile = path * \"run_GS_\"*fam*\"_n\"*nsamples*\"_\"*method*\"_\"*decim*\"_damp0p5.txt\"\n",
    "param2_d, inds2_d, sats2_d, ens2_d, xnsols2_d = extract_data(namefile);\n",
    "\n",
    "j=0\n",
    "for i in inds_sce_maxP\n",
    "    if i in inds2_d\n",
    "        j += 1\n",
    "        sats_sce_nucleation[i] = sats2_d[j]\n",
    "        ens_sce_nucleation[i] = ens2_d[j]\n",
    "        xnsols_sce_nucleation[:,i] = xnsols2_d[:,j]\n",
    "    end\n",
    "end"
   ]
  },
  {
   "cell_type": "code",
   "execution_count": 68,
   "metadata": {},
   "outputs": [],
   "source": [
    "nsamples = \"60\"\n",
    "\n",
    "method = \"sce\"\n",
    "decim = \"viterbi\"\n",
    "namefile = path * \"run_GS_\"*fam*\"_n\"*nsamples*\"_\"*method*\"_\"*decim*\".txt\"\n",
    "param_sce_viterbi, inds_sce_viterbi, sats_sce_viterbi, ens_sce_viterbi, xnsols_sce_viterbi = extract_data(namefile);"
   ]
  },
  {
   "cell_type": "code",
   "execution_count": 69,
   "metadata": {},
   "outputs": [],
   "source": [
    "nsamples = \"8\"\n",
    "method = \"sce\"\n",
    "decim = \"viterbi\"\n",
    "namefile = path * \"run_GS_\"*fam*\"_n\"*nsamples*\"_\"*method*\"_\"*decim*\"_damp0p5.txt\"\n",
    "param2_d, inds2_d, sats2_d, ens2_d, xnsols2_d = extract_data(namefile);\n",
    "\n",
    "j=0\n",
    "for i in inds_sce_maxP\n",
    "    if i in inds2_d\n",
    "        j += 1\n",
    "        sats_sce_viterbi[i] = sats2_d[j]\n",
    "        ens_sce_viterbi[i] = ens2_d[j]\n",
    "        xnsols_sce_viterbi[:,i] = xnsols2_d[:,j]\n",
    "    end\n",
    "end"
   ]
  },
  {
   "cell_type": "code",
   "execution_count": 70,
   "metadata": {},
   "outputs": [],
   "source": [
    "inds = inds_mf_maxP;"
   ]
  },
  {
   "cell_type": "code",
   "execution_count": 71,
   "metadata": {},
   "outputs": [],
   "source": [
    "#inds |> unique"
   ]
  },
  {
   "cell_type": "code",
   "execution_count": 38,
   "metadata": {},
   "outputs": [
    {
     "data": {
      "text/plain": [
       "1-element Vector{Vector{Any}}:\n",
       " [-136.10445f0, -142.8652f0, -124.42836f0, -164.48659f0, -134.47443f0, -122.74458f0, -147.7068f0, -176.14442f0, -174.7197f0, -139.60654f0  …  -135.34436f0, -167.25708f0, -157.96045f0, -164.49744f0, -139.92998f0, -150.53888f0, -102.19451f0, -166.65474f0, -157.31967f0, -68.56604f0]"
      ]
     },
     "execution_count": 38,
     "metadata": {},
     "output_type": "execute_result"
    }
   ],
   "source": [
    "ens_hhmer = []\n",
    "for (i, idx0) in pairs(inds)\n",
    "#    @show i, idx0\n",
    "    seq = BpAlignGpu.Seq(al[idx0][3], al[idx0][2], ctype)\n",
    "    N = length(al[idx0][2])\n",
    "    pm = ParamModel{T}(N, L, q, muint, muext, lambda_o, lambda_e, H, J)\n",
    "    \n",
    "    seqsol = al[idx0][4]\n",
    "    energy = BpAlignGpu.compute_cost_function(pm.J, pm.H, seqsol, pm.L, seq.ctype, pm.lambda_o, pm.lambda_e, pm.muext, pm.muint)\n",
    "#    @show energy\n",
    "    append!(ens_hhmer, energy)\n",
    "end\n",
    "[ens_hhmer]"
   ]
  },
  {
   "cell_type": "code",
   "execution_count": 40,
   "metadata": {},
   "outputs": [],
   "source": [
    "# DCAlign results:\n",
    "nsamples = \"60\"\n",
    "\n",
    "namefile2 = path * \"run_GS_\"*fam*\"_n\"*nsamples*\"_DCAlign.txt\"\n",
    "res_GS_DCA = readdlm(namefile2);\n",
    "\n",
    "sats_DCA = []\n",
    "match_mf_DCA = []\n",
    "ens_DCA = []\n",
    "for (i, idx0) in pairs(inds)\n",
    "#    @show i, idx0\n",
    "    seq = BpAlignGpu.Seq(al[idx0][3], al[idx0][2], ctype)\n",
    "    N = length(al[idx0][2])\n",
    "    pm = ParamModel{T}(N, L, q, muint, muext, lambda_o, lambda_e, H, J)\n",
    "    \n",
    "    seqsol = (String(res_GS_DCA[i,2]), String(res_GS_DCA[i,3]), res_GS_DCA[i,4], res_GS_DCA[i,5])\n",
    "    energy = BpAlignGpu.compute_cost_function(pm.J, pm.H, seqsol[2], pm.L, seq.ctype, pm.lambda_o, pm.lambda_e, pm.muext, pm.muint)\n",
    "    \n",
    "    seqsol_mf = BpAlignGpu.convert_soltosequence!(xnsols_mf_maxP[:,i], seq.strseq, N, L)\n",
    "    match = (seqsol == seqsol_mf)\n",
    "\n",
    "    sat = res_GS_DCA[i,6]\n",
    "\n",
    "#    @show energy, match, sat\n",
    "    \n",
    "    \n",
    "    append!(sats_DCA, sat)\n",
    "    append!(match_mf_DCA, match)\n",
    "    append!(ens_DCA, energy)\n",
    "end\n"
   ]
  },
  {
   "cell_type": "code",
   "execution_count": 72,
   "metadata": {},
   "outputs": [
    {
     "data": {
      "image/svg+xml": [
       "<?xml version=\"1.0\" encoding=\"utf-8\"?>\n",
       "<svg xmlns=\"http://www.w3.org/2000/svg\" xmlns:xlink=\"http://www.w3.org/1999/xlink\" width=\"600\" height=\"400\" viewBox=\"0 0 2400 1600\">\n",
       "<defs>\n",
       "  <clipPath id=\"clip270\">\n",
       "    <rect x=\"0\" y=\"0\" width=\"2400\" height=\"1600\"/>\n",
       "  </clipPath>\n",
       "</defs>\n",
       "<path clip-path=\"url(#clip270)\" d=\"\n",
       "M0 1600 L2400 1600 L2400 0 L0 0  Z\n",
       "  \" fill=\"#ffffff\" fill-rule=\"evenodd\" fill-opacity=\"1\"/>\n",
       "<defs>\n",
       "  <clipPath id=\"clip271\">\n",
       "    <rect x=\"480\" y=\"0\" width=\"1681\" height=\"1600\"/>\n",
       "  </clipPath>\n",
       "</defs>\n",
       "<path clip-path=\"url(#clip270)\" d=\"\n",
       "M209.029 1486.45 L2352.76 1486.45 L2352.76 47.2441 L209.029 47.2441  Z\n",
       "  \" fill=\"#ffffff\" fill-rule=\"evenodd\" fill-opacity=\"1\"/>\n",
       "<defs>\n",
       "  <clipPath id=\"clip272\">\n",
       "    <rect x=\"209\" y=\"47\" width=\"2145\" height=\"1440\"/>\n",
       "  </clipPath>\n",
       "</defs>\n",
       "<polyline clip-path=\"url(#clip272)\" style=\"stroke:#000000; stroke-linecap:butt; stroke-linejoin:round; stroke-width:2; stroke-opacity:0.1; fill:none\" points=\"\n",
       "  539.811,1486.45 539.811,47.2441 \n",
       "  \"/>\n",
       "<polyline clip-path=\"url(#clip272)\" style=\"stroke:#000000; stroke-linecap:butt; stroke-linejoin:round; stroke-width:2; stroke-opacity:0.1; fill:none\" points=\"\n",
       "  951.398,1486.45 951.398,47.2441 \n",
       "  \"/>\n",
       "<polyline clip-path=\"url(#clip272)\" style=\"stroke:#000000; stroke-linecap:butt; stroke-linejoin:round; stroke-width:2; stroke-opacity:0.1; fill:none\" points=\"\n",
       "  1362.99,1486.45 1362.99,47.2441 \n",
       "  \"/>\n",
       "<polyline clip-path=\"url(#clip272)\" style=\"stroke:#000000; stroke-linecap:butt; stroke-linejoin:round; stroke-width:2; stroke-opacity:0.1; fill:none\" points=\"\n",
       "  1774.57,1486.45 1774.57,47.2441 \n",
       "  \"/>\n",
       "<polyline clip-path=\"url(#clip272)\" style=\"stroke:#000000; stroke-linecap:butt; stroke-linejoin:round; stroke-width:2; stroke-opacity:0.1; fill:none\" points=\"\n",
       "  2186.16,1486.45 2186.16,47.2441 \n",
       "  \"/>\n",
       "<polyline clip-path=\"url(#clip270)\" style=\"stroke:#000000; stroke-linecap:butt; stroke-linejoin:round; stroke-width:4; stroke-opacity:1; fill:none\" points=\"\n",
       "  209.029,1486.45 2352.76,1486.45 \n",
       "  \"/>\n",
       "<polyline clip-path=\"url(#clip270)\" style=\"stroke:#000000; stroke-linecap:butt; stroke-linejoin:round; stroke-width:4; stroke-opacity:1; fill:none\" points=\"\n",
       "  539.811,1486.45 539.811,1467.55 \n",
       "  \"/>\n",
       "<polyline clip-path=\"url(#clip270)\" style=\"stroke:#000000; stroke-linecap:butt; stroke-linejoin:round; stroke-width:4; stroke-opacity:1; fill:none\" points=\"\n",
       "  951.398,1486.45 951.398,1467.55 \n",
       "  \"/>\n",
       "<polyline clip-path=\"url(#clip270)\" style=\"stroke:#000000; stroke-linecap:butt; stroke-linejoin:round; stroke-width:4; stroke-opacity:1; fill:none\" points=\"\n",
       "  1362.99,1486.45 1362.99,1467.55 \n",
       "  \"/>\n",
       "<polyline clip-path=\"url(#clip270)\" style=\"stroke:#000000; stroke-linecap:butt; stroke-linejoin:round; stroke-width:4; stroke-opacity:1; fill:none\" points=\"\n",
       "  1774.57,1486.45 1774.57,1467.55 \n",
       "  \"/>\n",
       "<polyline clip-path=\"url(#clip270)\" style=\"stroke:#000000; stroke-linecap:butt; stroke-linejoin:round; stroke-width:4; stroke-opacity:1; fill:none\" points=\"\n",
       "  2186.16,1486.45 2186.16,1467.55 \n",
       "  \"/>\n",
       "<path clip-path=\"url(#clip270)\" d=\"M479.291 1532.02 L508.967 1532.02 L508.967 1535.95 L479.291 1535.95 L479.291 1532.02 Z\" fill=\"#000000\" fill-rule=\"evenodd\" fill-opacity=\"1\" /><path clip-path=\"url(#clip270)\" d=\"M519.869 1544.91 L527.508 1544.91 L527.508 1518.55 L519.198 1520.21 L519.198 1515.95 L527.462 1514.29 L532.138 1514.29 L532.138 1544.91 L539.777 1544.91 L539.777 1548.85 L519.869 1548.85 L519.869 1544.91 Z\" fill=\"#000000\" fill-rule=\"evenodd\" fill-opacity=\"1\" /><path clip-path=\"url(#clip270)\" d=\"M548.041 1514.29 L570.263 1514.29 L570.263 1516.28 L557.716 1548.85 L552.832 1548.85 L564.638 1518.22 L548.041 1518.22 L548.041 1514.29 Z\" fill=\"#000000\" fill-rule=\"evenodd\" fill-opacity=\"1\" /><path clip-path=\"url(#clip270)\" d=\"M579.429 1514.29 L597.786 1514.29 L597.786 1518.22 L583.712 1518.22 L583.712 1526.7 Q584.73 1526.35 585.749 1526.19 Q586.767 1526 587.786 1526 Q593.573 1526 596.952 1529.17 Q600.332 1532.34 600.332 1537.76 Q600.332 1543.34 596.86 1546.44 Q593.388 1549.52 587.068 1549.52 Q584.892 1549.52 582.624 1549.15 Q580.378 1548.78 577.971 1548.04 L577.971 1543.34 Q580.054 1544.47 582.277 1545.03 Q584.499 1545.58 586.976 1545.58 Q590.98 1545.58 593.318 1543.48 Q595.656 1541.37 595.656 1537.76 Q595.656 1534.15 593.318 1532.04 Q590.98 1529.94 586.976 1529.94 Q585.101 1529.94 583.226 1530.35 Q581.374 1530.77 579.429 1531.65 L579.429 1514.29 Z\" fill=\"#000000\" fill-rule=\"evenodd\" fill-opacity=\"1\" /><path clip-path=\"url(#clip270)\" d=\"M890.38 1532.02 L920.056 1532.02 L920.056 1535.95 L890.38 1535.95 L890.38 1532.02 Z\" fill=\"#000000\" fill-rule=\"evenodd\" fill-opacity=\"1\" /><path clip-path=\"url(#clip270)\" d=\"M930.959 1544.91 L938.598 1544.91 L938.598 1518.55 L930.287 1520.21 L930.287 1515.95 L938.551 1514.29 L943.227 1514.29 L943.227 1544.91 L950.866 1544.91 L950.866 1548.85 L930.959 1548.85 L930.959 1544.91 Z\" fill=\"#000000\" fill-rule=\"evenodd\" fill-opacity=\"1\" /><path clip-path=\"url(#clip270)\" d=\"M960.357 1514.29 L978.713 1514.29 L978.713 1518.22 L964.639 1518.22 L964.639 1526.7 Q965.658 1526.35 966.676 1526.19 Q967.695 1526 968.713 1526 Q974.5 1526 977.88 1529.17 Q981.259 1532.34 981.259 1537.76 Q981.259 1543.34 977.787 1546.44 Q974.315 1549.52 967.995 1549.52 Q965.82 1549.52 963.551 1549.15 Q961.306 1548.78 958.898 1548.04 L958.898 1543.34 Q960.982 1544.47 963.204 1545.03 Q965.426 1545.58 967.903 1545.58 Q971.908 1545.58 974.245 1543.48 Q976.583 1541.37 976.583 1537.76 Q976.583 1534.15 974.245 1532.04 Q971.908 1529.94 967.903 1529.94 Q966.028 1529.94 964.153 1530.35 Q962.301 1530.77 960.357 1531.65 L960.357 1514.29 Z\" fill=\"#000000\" fill-rule=\"evenodd\" fill-opacity=\"1\" /><path clip-path=\"url(#clip270)\" d=\"M1000.47 1517.37 Q996.861 1517.37 995.032 1520.93 Q993.227 1524.47 993.227 1531.6 Q993.227 1538.71 995.032 1542.27 Q996.861 1545.82 1000.47 1545.82 Q1004.11 1545.82 1005.91 1542.27 Q1007.74 1538.71 1007.74 1531.6 Q1007.74 1524.47 1005.91 1520.93 Q1004.11 1517.37 1000.47 1517.37 M1000.47 1513.66 Q1006.28 1513.66 1009.34 1518.27 Q1012.42 1522.85 1012.42 1531.6 Q1012.42 1540.33 1009.34 1544.94 Q1006.28 1549.52 1000.47 1549.52 Q994.662 1549.52 991.583 1544.94 Q988.528 1540.33 988.528 1531.6 Q988.528 1522.85 991.583 1518.27 Q994.662 1513.66 1000.47 1513.66 Z\" fill=\"#000000\" fill-rule=\"evenodd\" fill-opacity=\"1\" /><path clip-path=\"url(#clip270)\" d=\"M1302.46 1532.02 L1332.14 1532.02 L1332.14 1535.95 L1302.46 1535.95 L1302.46 1532.02 Z\" fill=\"#000000\" fill-rule=\"evenodd\" fill-opacity=\"1\" /><path clip-path=\"url(#clip270)\" d=\"M1343.04 1544.91 L1350.68 1544.91 L1350.68 1518.55 L1342.37 1520.21 L1342.37 1515.95 L1350.64 1514.29 L1355.31 1514.29 L1355.31 1544.91 L1362.95 1544.91 L1362.95 1548.85 L1343.04 1548.85 L1343.04 1544.91 Z\" fill=\"#000000\" fill-rule=\"evenodd\" fill-opacity=\"1\" /><path clip-path=\"url(#clip270)\" d=\"M1376.42 1544.91 L1392.74 1544.91 L1392.74 1548.85 L1370.8 1548.85 L1370.8 1544.91 Q1373.46 1542.16 1378.04 1537.53 Q1382.65 1532.88 1383.83 1531.53 Q1386.08 1529.01 1386.96 1527.27 Q1387.86 1525.51 1387.86 1523.82 Q1387.86 1521.07 1385.91 1519.33 Q1383.99 1517.6 1380.89 1517.6 Q1378.69 1517.6 1376.24 1518.36 Q1373.81 1519.13 1371.03 1520.68 L1371.03 1515.95 Q1373.85 1514.82 1376.31 1514.24 Q1378.76 1513.66 1380.8 1513.66 Q1386.17 1513.66 1389.36 1516.35 Q1392.56 1519.03 1392.56 1523.52 Q1392.56 1525.65 1391.75 1527.57 Q1390.96 1529.47 1388.85 1532.07 Q1388.27 1532.74 1385.17 1535.95 Q1382.07 1539.15 1376.42 1544.91 Z\" fill=\"#000000\" fill-rule=\"evenodd\" fill-opacity=\"1\" /><path clip-path=\"url(#clip270)\" d=\"M1402.6 1514.29 L1420.96 1514.29 L1420.96 1518.22 L1406.89 1518.22 L1406.89 1526.7 Q1407.9 1526.35 1408.92 1526.19 Q1409.94 1526 1410.96 1526 Q1416.75 1526 1420.13 1529.17 Q1423.51 1532.34 1423.51 1537.76 Q1423.51 1543.34 1420.03 1546.44 Q1416.56 1549.52 1410.24 1549.52 Q1408.07 1549.52 1405.8 1549.15 Q1403.55 1548.78 1401.14 1548.04 L1401.14 1543.34 Q1403.23 1544.47 1405.45 1545.03 Q1407.67 1545.58 1410.15 1545.58 Q1414.15 1545.58 1416.49 1543.48 Q1418.83 1541.37 1418.83 1537.76 Q1418.83 1534.15 1416.49 1532.04 Q1414.15 1529.94 1410.15 1529.94 Q1408.27 1529.94 1406.4 1530.35 Q1404.55 1530.77 1402.6 1531.65 L1402.6 1514.29 Z\" fill=\"#000000\" fill-rule=\"evenodd\" fill-opacity=\"1\" /><path clip-path=\"url(#clip270)\" d=\"M1713.55 1532.02 L1743.23 1532.02 L1743.23 1535.95 L1713.55 1535.95 L1713.55 1532.02 Z\" fill=\"#000000\" fill-rule=\"evenodd\" fill-opacity=\"1\" /><path clip-path=\"url(#clip270)\" d=\"M1754.13 1544.91 L1761.77 1544.91 L1761.77 1518.55 L1753.46 1520.21 L1753.46 1515.95 L1761.72 1514.29 L1766.4 1514.29 L1766.4 1544.91 L1774.04 1544.91 L1774.04 1548.85 L1754.13 1548.85 L1754.13 1544.91 Z\" fill=\"#000000\" fill-rule=\"evenodd\" fill-opacity=\"1\" /><path clip-path=\"url(#clip270)\" d=\"M1793.48 1517.37 Q1789.87 1517.37 1788.04 1520.93 Q1786.24 1524.47 1786.24 1531.6 Q1786.24 1538.71 1788.04 1542.27 Q1789.87 1545.82 1793.48 1545.82 Q1797.12 1545.82 1798.92 1542.27 Q1800.75 1538.71 1800.75 1531.6 Q1800.75 1524.47 1798.92 1520.93 Q1797.12 1517.37 1793.48 1517.37 M1793.48 1513.66 Q1799.29 1513.66 1802.35 1518.27 Q1805.43 1522.85 1805.43 1531.6 Q1805.43 1540.33 1802.35 1544.94 Q1799.29 1549.52 1793.48 1549.52 Q1787.67 1549.52 1784.6 1544.94 Q1781.54 1540.33 1781.54 1531.6 Q1781.54 1522.85 1784.6 1518.27 Q1787.67 1513.66 1793.48 1513.66 Z\" fill=\"#000000\" fill-rule=\"evenodd\" fill-opacity=\"1\" /><path clip-path=\"url(#clip270)\" d=\"M1823.65 1517.37 Q1820.03 1517.37 1818.21 1520.93 Q1816.4 1524.47 1816.4 1531.6 Q1816.4 1538.71 1818.21 1542.27 Q1820.03 1545.82 1823.65 1545.82 Q1827.28 1545.82 1829.09 1542.27 Q1830.91 1538.71 1830.91 1531.6 Q1830.91 1524.47 1829.09 1520.93 Q1827.28 1517.37 1823.65 1517.37 M1823.65 1513.66 Q1829.46 1513.66 1832.51 1518.27 Q1835.59 1522.85 1835.59 1531.6 Q1835.59 1540.33 1832.51 1544.94 Q1829.46 1549.52 1823.65 1549.52 Q1817.84 1549.52 1814.76 1544.94 Q1811.7 1540.33 1811.7 1531.6 Q1811.7 1522.85 1814.76 1518.27 Q1817.84 1513.66 1823.65 1513.66 Z\" fill=\"#000000\" fill-rule=\"evenodd\" fill-opacity=\"1\" /><path clip-path=\"url(#clip270)\" d=\"M2140.72 1532.02 L2170.4 1532.02 L2170.4 1535.95 L2140.72 1535.95 L2140.72 1532.02 Z\" fill=\"#000000\" fill-rule=\"evenodd\" fill-opacity=\"1\" /><path clip-path=\"url(#clip270)\" d=\"M2179.31 1514.29 L2201.53 1514.29 L2201.53 1516.28 L2188.98 1548.85 L2184.1 1548.85 L2195.9 1518.22 L2179.31 1518.22 L2179.31 1514.29 Z\" fill=\"#000000\" fill-rule=\"evenodd\" fill-opacity=\"1\" /><path clip-path=\"url(#clip270)\" d=\"M2210.7 1514.29 L2229.05 1514.29 L2229.05 1518.22 L2214.98 1518.22 L2214.98 1526.7 Q2216 1526.35 2217.02 1526.19 Q2218.03 1526 2219.05 1526 Q2224.84 1526 2228.22 1529.17 Q2231.6 1532.34 2231.6 1537.76 Q2231.6 1543.34 2228.13 1546.44 Q2224.65 1549.52 2218.33 1549.52 Q2216.16 1549.52 2213.89 1549.15 Q2211.65 1548.78 2209.24 1548.04 L2209.24 1543.34 Q2211.32 1544.47 2213.54 1545.03 Q2215.77 1545.58 2218.24 1545.58 Q2222.25 1545.58 2224.58 1543.48 Q2226.92 1541.37 2226.92 1537.76 Q2226.92 1534.15 2224.58 1532.04 Q2222.25 1529.94 2218.24 1529.94 Q2216.37 1529.94 2214.49 1530.35 Q2212.64 1530.77 2210.7 1531.65 L2210.7 1514.29 Z\" fill=\"#000000\" fill-rule=\"evenodd\" fill-opacity=\"1\" /><polyline clip-path=\"url(#clip272)\" style=\"stroke:#000000; stroke-linecap:butt; stroke-linejoin:round; stroke-width:2; stroke-opacity:0.1; fill:none\" points=\"\n",
       "  209.029,1346.7 2352.76,1346.7 \n",
       "  \"/>\n",
       "<polyline clip-path=\"url(#clip272)\" style=\"stroke:#000000; stroke-linecap:butt; stroke-linejoin:round; stroke-width:2; stroke-opacity:0.1; fill:none\" points=\"\n",
       "  209.029,1086.28 2352.76,1086.28 \n",
       "  \"/>\n",
       "<polyline clip-path=\"url(#clip272)\" style=\"stroke:#000000; stroke-linecap:butt; stroke-linejoin:round; stroke-width:2; stroke-opacity:0.1; fill:none\" points=\"\n",
       "  209.029,825.858 2352.76,825.858 \n",
       "  \"/>\n",
       "<polyline clip-path=\"url(#clip272)\" style=\"stroke:#000000; stroke-linecap:butt; stroke-linejoin:round; stroke-width:2; stroke-opacity:0.1; fill:none\" points=\"\n",
       "  209.029,565.438 2352.76,565.438 \n",
       "  \"/>\n",
       "<polyline clip-path=\"url(#clip272)\" style=\"stroke:#000000; stroke-linecap:butt; stroke-linejoin:round; stroke-width:2; stroke-opacity:0.1; fill:none\" points=\"\n",
       "  209.029,305.018 2352.76,305.018 \n",
       "  \"/>\n",
       "<polyline clip-path=\"url(#clip270)\" style=\"stroke:#000000; stroke-linecap:butt; stroke-linejoin:round; stroke-width:4; stroke-opacity:1; fill:none\" points=\"\n",
       "  209.029,1486.45 209.029,47.2441 \n",
       "  \"/>\n",
       "<polyline clip-path=\"url(#clip270)\" style=\"stroke:#000000; stroke-linecap:butt; stroke-linejoin:round; stroke-width:4; stroke-opacity:1; fill:none\" points=\"\n",
       "  209.029,1346.7 227.926,1346.7 \n",
       "  \"/>\n",
       "<polyline clip-path=\"url(#clip270)\" style=\"stroke:#000000; stroke-linecap:butt; stroke-linejoin:round; stroke-width:4; stroke-opacity:1; fill:none\" points=\"\n",
       "  209.029,1086.28 227.926,1086.28 \n",
       "  \"/>\n",
       "<polyline clip-path=\"url(#clip270)\" style=\"stroke:#000000; stroke-linecap:butt; stroke-linejoin:round; stroke-width:4; stroke-opacity:1; fill:none\" points=\"\n",
       "  209.029,825.858 227.926,825.858 \n",
       "  \"/>\n",
       "<polyline clip-path=\"url(#clip270)\" style=\"stroke:#000000; stroke-linecap:butt; stroke-linejoin:round; stroke-width:4; stroke-opacity:1; fill:none\" points=\"\n",
       "  209.029,565.438 227.926,565.438 \n",
       "  \"/>\n",
       "<polyline clip-path=\"url(#clip270)\" style=\"stroke:#000000; stroke-linecap:butt; stroke-linejoin:round; stroke-width:4; stroke-opacity:1; fill:none\" points=\"\n",
       "  209.029,305.018 227.926,305.018 \n",
       "  \"/>\n",
       "<path clip-path=\"url(#clip270)\" d=\"M50.9921 1347.15 L80.6679 1347.15 L80.6679 1351.08 L50.9921 1351.08 L50.9921 1347.15 Z\" fill=\"#000000\" fill-rule=\"evenodd\" fill-opacity=\"1\" /><path clip-path=\"url(#clip270)\" d=\"M91.5706 1360.04 L99.2095 1360.04 L99.2095 1333.68 L90.8993 1335.34 L90.8993 1331.08 L99.1632 1329.42 L103.839 1329.42 L103.839 1360.04 L111.478 1360.04 L111.478 1363.98 L91.5706 1363.98 L91.5706 1360.04 Z\" fill=\"#000000\" fill-rule=\"evenodd\" fill-opacity=\"1\" /><path clip-path=\"url(#clip270)\" d=\"M130.922 1347.57 Q127.589 1347.57 125.668 1349.35 Q123.77 1351.13 123.77 1354.26 Q123.77 1357.38 125.668 1359.16 Q127.589 1360.95 130.922 1360.95 Q134.256 1360.95 136.177 1359.16 Q138.098 1357.36 138.098 1354.26 Q138.098 1351.13 136.177 1349.35 Q134.279 1347.57 130.922 1347.57 M126.246 1345.58 Q123.237 1344.83 121.547 1342.77 Q119.881 1340.71 119.881 1337.75 Q119.881 1333.61 122.82 1331.2 Q125.783 1328.79 130.922 1328.79 Q136.084 1328.79 139.024 1331.2 Q141.964 1333.61 141.964 1337.75 Q141.964 1340.71 140.274 1342.77 Q138.607 1344.83 135.621 1345.58 Q139.001 1346.36 140.876 1348.65 Q142.774 1350.95 142.774 1354.26 Q142.774 1359.28 139.695 1361.96 Q136.64 1364.65 130.922 1364.65 Q125.205 1364.65 122.126 1361.96 Q119.07 1359.28 119.07 1354.26 Q119.07 1350.95 120.969 1348.65 Q122.867 1346.36 126.246 1345.58 M124.533 1338.19 Q124.533 1340.88 126.2 1342.38 Q127.89 1343.89 130.922 1343.89 Q133.931 1343.89 135.621 1342.38 Q137.334 1340.88 137.334 1338.19 Q137.334 1335.51 135.621 1334 Q133.931 1332.5 130.922 1332.5 Q127.89 1332.5 126.2 1334 Q124.533 1335.51 124.533 1338.19 Z\" fill=\"#000000\" fill-rule=\"evenodd\" fill-opacity=\"1\" /><path clip-path=\"url(#clip270)\" d=\"M161.084 1332.5 Q157.473 1332.5 155.644 1336.06 Q153.839 1339.6 153.839 1346.73 Q153.839 1353.84 155.644 1357.4 Q157.473 1360.95 161.084 1360.95 Q164.718 1360.95 166.524 1357.4 Q168.353 1353.84 168.353 1346.73 Q168.353 1339.6 166.524 1336.06 Q164.718 1332.5 161.084 1332.5 M161.084 1328.79 Q166.894 1328.79 169.95 1333.4 Q173.029 1337.98 173.029 1346.73 Q173.029 1355.46 169.95 1360.07 Q166.894 1364.65 161.084 1364.65 Q155.274 1364.65 152.195 1360.07 Q149.14 1355.46 149.14 1346.73 Q149.14 1337.98 152.195 1333.4 Q155.274 1328.79 161.084 1328.79 Z\" fill=\"#000000\" fill-rule=\"evenodd\" fill-opacity=\"1\" /><path clip-path=\"url(#clip270)\" d=\"M50.9921 1086.73 L80.6679 1086.73 L80.6679 1090.66 L50.9921 1090.66 L50.9921 1086.73 Z\" fill=\"#000000\" fill-rule=\"evenodd\" fill-opacity=\"1\" /><path clip-path=\"url(#clip270)\" d=\"M91.5706 1099.62 L99.2095 1099.62 L99.2095 1073.26 L90.8993 1074.92 L90.8993 1070.66 L99.1632 1069 L103.839 1069 L103.839 1099.62 L111.478 1099.62 L111.478 1103.56 L91.5706 1103.56 L91.5706 1099.62 Z\" fill=\"#000000\" fill-rule=\"evenodd\" fill-opacity=\"1\" /><path clip-path=\"url(#clip270)\" d=\"M120.969 1069 L139.325 1069 L139.325 1072.93 L125.251 1072.93 L125.251 1081.41 Q126.27 1081.06 127.288 1080.9 Q128.307 1080.71 129.325 1080.71 Q135.112 1080.71 138.492 1083.88 Q141.871 1087.05 141.871 1092.47 Q141.871 1098.05 138.399 1101.15 Q134.927 1104.23 128.607 1104.23 Q126.432 1104.23 124.163 1103.86 Q121.918 1103.49 119.51 1102.75 L119.51 1098.05 Q121.594 1099.18 123.816 1099.74 Q126.038 1100.29 128.515 1100.29 Q132.519 1100.29 134.857 1098.19 Q137.195 1096.08 137.195 1092.47 Q137.195 1088.86 134.857 1086.75 Q132.519 1084.65 128.515 1084.65 Q126.64 1084.65 124.765 1085.06 Q122.913 1085.48 120.969 1086.36 L120.969 1069 Z\" fill=\"#000000\" fill-rule=\"evenodd\" fill-opacity=\"1\" /><path clip-path=\"url(#clip270)\" d=\"M161.084 1072.08 Q157.473 1072.08 155.644 1075.64 Q153.839 1079.18 153.839 1086.31 Q153.839 1093.42 155.644 1096.98 Q157.473 1100.53 161.084 1100.53 Q164.718 1100.53 166.524 1096.98 Q168.353 1093.42 168.353 1086.31 Q168.353 1079.18 166.524 1075.64 Q164.718 1072.08 161.084 1072.08 M161.084 1068.37 Q166.894 1068.37 169.95 1072.98 Q173.029 1077.56 173.029 1086.31 Q173.029 1095.04 169.95 1099.65 Q166.894 1104.23 161.084 1104.23 Q155.274 1104.23 152.195 1099.65 Q149.14 1095.04 149.14 1086.31 Q149.14 1077.56 152.195 1072.98 Q155.274 1068.37 161.084 1068.37 Z\" fill=\"#000000\" fill-rule=\"evenodd\" fill-opacity=\"1\" /><path clip-path=\"url(#clip270)\" d=\"M50.9921 826.309 L80.6679 826.309 L80.6679 830.244 L50.9921 830.244 L50.9921 826.309 Z\" fill=\"#000000\" fill-rule=\"evenodd\" fill-opacity=\"1\" /><path clip-path=\"url(#clip270)\" d=\"M91.5706 839.203 L99.2095 839.203 L99.2095 812.837 L90.8993 814.504 L90.8993 810.245 L99.1632 808.578 L103.839 808.578 L103.839 839.203 L111.478 839.203 L111.478 843.138 L91.5706 843.138 L91.5706 839.203 Z\" fill=\"#000000\" fill-rule=\"evenodd\" fill-opacity=\"1\" /><path clip-path=\"url(#clip270)\" d=\"M124.95 839.203 L141.269 839.203 L141.269 843.138 L119.325 843.138 L119.325 839.203 Q121.987 836.448 126.57 831.818 Q131.177 827.166 132.357 825.823 Q134.603 823.3 135.482 821.564 Q136.385 819.805 136.385 818.115 Q136.385 815.36 134.441 813.624 Q132.519 811.888 129.418 811.888 Q127.219 811.888 124.765 812.652 Q122.334 813.416 119.557 814.967 L119.557 810.245 Q122.381 809.11 124.834 808.532 Q127.288 807.953 129.325 807.953 Q134.695 807.953 137.89 810.638 Q141.084 813.323 141.084 817.814 Q141.084 819.944 140.274 821.865 Q139.487 823.763 137.381 826.356 Q136.802 827.027 133.7 830.244 Q130.598 833.439 124.95 839.203 Z\" fill=\"#000000\" fill-rule=\"evenodd\" fill-opacity=\"1\" /><path clip-path=\"url(#clip270)\" d=\"M161.084 811.657 Q157.473 811.657 155.644 815.221 Q153.839 818.763 153.839 825.893 Q153.839 832.999 155.644 836.564 Q157.473 840.105 161.084 840.105 Q164.718 840.105 166.524 836.564 Q168.353 832.999 168.353 825.893 Q168.353 818.763 166.524 815.221 Q164.718 811.657 161.084 811.657 M161.084 807.953 Q166.894 807.953 169.95 812.559 Q173.029 817.143 173.029 825.893 Q173.029 834.619 169.95 839.226 Q166.894 843.809 161.084 843.809 Q155.274 843.809 152.195 839.226 Q149.14 834.619 149.14 825.893 Q149.14 817.143 152.195 812.559 Q155.274 807.953 161.084 807.953 Z\" fill=\"#000000\" fill-rule=\"evenodd\" fill-opacity=\"1\" /><path clip-path=\"url(#clip270)\" d=\"M81.154 565.889 L110.83 565.889 L110.83 569.824 L81.154 569.824 L81.154 565.889 Z\" fill=\"#000000\" fill-rule=\"evenodd\" fill-opacity=\"1\" /><path clip-path=\"url(#clip270)\" d=\"M121.061 582 L121.061 577.741 Q122.82 578.574 124.626 579.014 Q126.432 579.454 128.168 579.454 Q132.797 579.454 135.228 576.352 Q137.681 573.227 138.029 566.885 Q136.686 568.875 134.626 569.94 Q132.566 571.005 130.066 571.005 Q124.881 571.005 121.848 567.88 Q118.839 564.732 118.839 559.292 Q118.839 553.968 121.987 550.75 Q125.135 547.533 130.367 547.533 Q136.362 547.533 139.51 552.139 Q142.681 556.723 142.681 565.473 Q142.681 573.644 138.793 578.528 Q134.927 583.389 128.376 583.389 Q126.617 583.389 124.811 583.042 Q123.006 582.695 121.061 582 M130.367 567.348 Q133.515 567.348 135.344 565.195 Q137.195 563.042 137.195 559.292 Q137.195 555.565 135.344 553.412 Q133.515 551.237 130.367 551.237 Q127.219 551.237 125.367 553.412 Q123.538 555.565 123.538 559.292 Q123.538 563.042 125.367 565.195 Q127.219 567.348 130.367 567.348 Z\" fill=\"#000000\" fill-rule=\"evenodd\" fill-opacity=\"1\" /><path clip-path=\"url(#clip270)\" d=\"M161.084 551.237 Q157.473 551.237 155.644 554.801 Q153.839 558.343 153.839 565.473 Q153.839 572.579 155.644 576.144 Q157.473 579.685 161.084 579.685 Q164.718 579.685 166.524 576.144 Q168.353 572.579 168.353 565.473 Q168.353 558.343 166.524 554.801 Q164.718 551.237 161.084 551.237 M161.084 547.533 Q166.894 547.533 169.95 552.139 Q173.029 556.723 173.029 565.473 Q173.029 574.199 169.95 578.806 Q166.894 583.389 161.084 583.389 Q155.274 583.389 152.195 578.806 Q149.14 574.199 149.14 565.473 Q149.14 556.723 152.195 552.139 Q155.274 547.533 161.084 547.533 Z\" fill=\"#000000\" fill-rule=\"evenodd\" fill-opacity=\"1\" /><path clip-path=\"url(#clip270)\" d=\"M81.154 305.469 L110.83 305.469 L110.83 309.404 L81.154 309.404 L81.154 305.469 Z\" fill=\"#000000\" fill-rule=\"evenodd\" fill-opacity=\"1\" /><path clip-path=\"url(#clip270)\" d=\"M131.501 303.154 Q128.353 303.154 126.501 305.307 Q124.672 307.46 124.672 311.21 Q124.672 314.937 126.501 317.113 Q128.353 319.265 131.501 319.265 Q134.649 319.265 136.478 317.113 Q138.33 314.937 138.33 311.21 Q138.33 307.46 136.478 305.307 Q134.649 303.154 131.501 303.154 M140.783 288.502 L140.783 292.761 Q139.024 291.928 137.219 291.488 Q135.436 291.048 133.677 291.048 Q129.047 291.048 126.594 294.173 Q124.163 297.298 123.816 303.617 Q125.182 301.604 127.242 300.539 Q129.302 299.451 131.779 299.451 Q136.987 299.451 139.996 302.622 Q143.029 305.77 143.029 311.21 Q143.029 316.534 139.881 319.752 Q136.732 322.969 131.501 322.969 Q125.506 322.969 122.334 318.386 Q119.163 313.779 119.163 305.053 Q119.163 296.858 123.052 291.997 Q126.941 287.113 133.492 287.113 Q135.251 287.113 137.033 287.46 Q138.839 287.807 140.783 288.502 Z\" fill=\"#000000\" fill-rule=\"evenodd\" fill-opacity=\"1\" /><path clip-path=\"url(#clip270)\" d=\"M161.084 290.817 Q157.473 290.817 155.644 294.381 Q153.839 297.923 153.839 305.053 Q153.839 312.159 155.644 315.724 Q157.473 319.265 161.084 319.265 Q164.718 319.265 166.524 315.724 Q168.353 312.159 168.353 305.053 Q168.353 297.923 166.524 294.381 Q164.718 290.817 161.084 290.817 M161.084 287.113 Q166.894 287.113 169.95 291.719 Q173.029 296.303 173.029 305.053 Q173.029 313.779 169.95 318.386 Q166.894 322.969 161.084 322.969 Q155.274 322.969 152.195 318.386 Q149.14 313.779 149.14 305.053 Q149.14 296.303 152.195 291.719 Q155.274 287.113 161.084 287.113 Z\" fill=\"#000000\" fill-rule=\"evenodd\" fill-opacity=\"1\" /><circle clip-path=\"url(#clip272)\" cx=\"1180.17\" cy=\"1019.62\" r=\"14\" fill=\"#009af9\" fill-rule=\"evenodd\" fill-opacity=\"1\" stroke=\"#000000\" stroke-opacity=\"1\" stroke-width=\"3.2\"/>\n",
       "<circle clip-path=\"url(#clip272)\" cx=\"1068.86\" cy=\"1024.34\" r=\"14\" fill=\"#009af9\" fill-rule=\"evenodd\" fill-opacity=\"1\" stroke=\"#000000\" stroke-opacity=\"1\" stroke-width=\"3.2\"/>\n",
       "<circle clip-path=\"url(#clip272)\" cx=\"1372.4\" cy=\"1090.04\" r=\"14\" fill=\"#009af9\" fill-rule=\"evenodd\" fill-opacity=\"1\" stroke=\"#000000\" stroke-opacity=\"1\" stroke-width=\"3.2\"/>\n",
       "<circle clip-path=\"url(#clip272)\" cx=\"712.899\" cy=\"1212.03\" r=\"14\" fill=\"#009af9\" fill-rule=\"evenodd\" fill-opacity=\"1\" stroke=\"#000000\" stroke-opacity=\"1\" stroke-width=\"3.2\"/>\n",
       "<circle clip-path=\"url(#clip272)\" cx=\"1207\" cy=\"1096.49\" r=\"14\" fill=\"#009af9\" fill-rule=\"evenodd\" fill-opacity=\"1\" stroke=\"#000000\" stroke-opacity=\"1\" stroke-width=\"3.2\"/>\n",
       "<circle clip-path=\"url(#clip272)\" cx=\"1400.12\" cy=\"938.598\" r=\"14\" fill=\"#009af9\" fill-rule=\"evenodd\" fill-opacity=\"1\" stroke=\"#000000\" stroke-opacity=\"1\" stroke-width=\"3.2\"/>\n",
       "<circle clip-path=\"url(#clip272)\" cx=\"989.152\" cy=\"1207.9\" r=\"14\" fill=\"#009af9\" fill-rule=\"evenodd\" fill-opacity=\"1\" stroke=\"#000000\" stroke-opacity=\"1\" stroke-width=\"3.2\"/>\n",
       "<circle clip-path=\"url(#clip272)\" cx=\"520.97\" cy=\"1313.23\" r=\"14\" fill=\"#009af9\" fill-rule=\"evenodd\" fill-opacity=\"1\" stroke=\"#000000\" stroke-opacity=\"1\" stroke-width=\"3.2\"/>\n",
       "<circle clip-path=\"url(#clip272)\" cx=\"544.426\" cy=\"1300.86\" r=\"14\" fill=\"#009af9\" fill-rule=\"evenodd\" fill-opacity=\"1\" stroke=\"#000000\" stroke-opacity=\"1\" stroke-width=\"3.2\"/>\n",
       "<circle clip-path=\"url(#clip272)\" cx=\"1122.51\" cy=\"996.056\" r=\"14\" fill=\"#009af9\" fill-rule=\"evenodd\" fill-opacity=\"1\" stroke=\"#000000\" stroke-opacity=\"1\" stroke-width=\"3.2\"/>\n",
       "<circle clip-path=\"url(#clip272)\" cx=\"825.832\" cy=\"1243.93\" r=\"14\" fill=\"#009af9\" fill-rule=\"evenodd\" fill-opacity=\"1\" stroke=\"#000000\" stroke-opacity=\"1\" stroke-width=\"3.2\"/>\n",
       "<circle clip-path=\"url(#clip272)\" cx=\"813.891\" cy=\"1158.78\" r=\"14\" fill=\"#009af9\" fill-rule=\"evenodd\" fill-opacity=\"1\" stroke=\"#000000\" stroke-opacity=\"1\" stroke-width=\"3.2\"/>\n",
       "<circle clip-path=\"url(#clip272)\" cx=\"1048.88\" cy=\"1034.88\" r=\"14\" fill=\"#009af9\" fill-rule=\"evenodd\" fill-opacity=\"1\" stroke=\"#000000\" stroke-opacity=\"1\" stroke-width=\"3.2\"/>\n",
       "<circle clip-path=\"url(#clip272)\" cx=\"1464\" cy=\"1227.76\" r=\"14\" fill=\"#009af9\" fill-rule=\"evenodd\" fill-opacity=\"1\" stroke=\"#000000\" stroke-opacity=\"1\" stroke-width=\"3.2\"/>\n",
       "<circle clip-path=\"url(#clip272)\" cx=\"862.007\" cy=\"1133.41\" r=\"14\" fill=\"#009af9\" fill-rule=\"evenodd\" fill-opacity=\"1\" stroke=\"#000000\" stroke-opacity=\"1\" stroke-width=\"3.2\"/>\n",
       "<circle clip-path=\"url(#clip272)\" cx=\"674.061\" cy=\"1334.86\" r=\"14\" fill=\"#009af9\" fill-rule=\"evenodd\" fill-opacity=\"1\" stroke=\"#000000\" stroke-opacity=\"1\" stroke-width=\"3.2\"/>\n",
       "<circle clip-path=\"url(#clip272)\" cx=\"590.288\" cy=\"1276.68\" r=\"14\" fill=\"#009af9\" fill-rule=\"evenodd\" fill-opacity=\"1\" stroke=\"#000000\" stroke-opacity=\"1\" stroke-width=\"3.2\"/>\n",
       "<circle clip-path=\"url(#clip272)\" cx=\"855.262\" cy=\"1207.52\" r=\"14\" fill=\"#009af9\" fill-rule=\"evenodd\" fill-opacity=\"1\" stroke=\"#000000\" stroke-opacity=\"1\" stroke-width=\"3.2\"/>\n",
       "<circle clip-path=\"url(#clip272)\" cx=\"782.425\" cy=\"1175.37\" r=\"14\" fill=\"#009af9\" fill-rule=\"evenodd\" fill-opacity=\"1\" stroke=\"#000000\" stroke-opacity=\"1\" stroke-width=\"3.2\"/>\n",
       "<circle clip-path=\"url(#clip272)\" cx=\"912.903\" cy=\"1208.08\" r=\"14\" fill=\"#009af9\" fill-rule=\"evenodd\" fill-opacity=\"1\" stroke=\"#000000\" stroke-opacity=\"1\" stroke-width=\"3.2\"/>\n",
       "<circle clip-path=\"url(#clip272)\" cx=\"977.153\" cy=\"1229.88\" r=\"14\" fill=\"#009af9\" fill-rule=\"evenodd\" fill-opacity=\"1\" stroke=\"#000000\" stroke-opacity=\"1\" stroke-width=\"3.2\"/>\n",
       "<circle clip-path=\"url(#clip272)\" cx=\"884.259\" cy=\"1195.01\" r=\"14\" fill=\"#009af9\" fill-rule=\"evenodd\" fill-opacity=\"1\" stroke=\"#000000\" stroke-opacity=\"1\" stroke-width=\"3.2\"/>\n",
       "<circle clip-path=\"url(#clip272)\" cx=\"1224.48\" cy=\"1224.98\" r=\"14\" fill=\"#009af9\" fill-rule=\"evenodd\" fill-opacity=\"1\" stroke=\"#000000\" stroke-opacity=\"1\" stroke-width=\"3.2\"/>\n",
       "<circle clip-path=\"url(#clip272)\" cx=\"1288.73\" cy=\"904.438\" r=\"14\" fill=\"#009af9\" fill-rule=\"evenodd\" fill-opacity=\"1\" stroke=\"#000000\" stroke-opacity=\"1\" stroke-width=\"3.2\"/>\n",
       "<circle clip-path=\"url(#clip272)\" cx=\"1735.82\" cy=\"814.059\" r=\"14\" fill=\"#009af9\" fill-rule=\"evenodd\" fill-opacity=\"1\" stroke=\"#000000\" stroke-opacity=\"1\" stroke-width=\"3.2\"/>\n",
       "<circle clip-path=\"url(#clip272)\" cx=\"831.839\" cy=\"1316.91\" r=\"14\" fill=\"#009af9\" fill-rule=\"evenodd\" fill-opacity=\"1\" stroke=\"#000000\" stroke-opacity=\"1\" stroke-width=\"3.2\"/>\n",
       "<circle clip-path=\"url(#clip272)\" cx=\"791.199\" cy=\"1207.06\" r=\"14\" fill=\"#009af9\" fill-rule=\"evenodd\" fill-opacity=\"1\" stroke=\"#000000\" stroke-opacity=\"1\" stroke-width=\"3.2\"/>\n",
       "<circle clip-path=\"url(#clip272)\" cx=\"336.599\" cy=\"1410.44\" r=\"14\" fill=\"#009af9\" fill-rule=\"evenodd\" fill-opacity=\"1\" stroke=\"#000000\" stroke-opacity=\"1\" stroke-width=\"3.2\"/>\n",
       "<circle clip-path=\"url(#clip272)\" cx=\"1279.93\" cy=\"913.054\" r=\"14\" fill=\"#009af9\" fill-rule=\"evenodd\" fill-opacity=\"1\" stroke=\"#000000\" stroke-opacity=\"1\" stroke-width=\"3.2\"/>\n",
       "<circle clip-path=\"url(#clip272)\" cx=\"946.381\" cy=\"1205.63\" r=\"14\" fill=\"#009af9\" fill-rule=\"evenodd\" fill-opacity=\"1\" stroke=\"#000000\" stroke-opacity=\"1\" stroke-width=\"3.2\"/>\n",
       "<circle clip-path=\"url(#clip272)\" cx=\"982.47\" cy=\"1162.2\" r=\"14\" fill=\"#009af9\" fill-rule=\"evenodd\" fill-opacity=\"1\" stroke=\"#000000\" stroke-opacity=\"1\" stroke-width=\"3.2\"/>\n",
       "<circle clip-path=\"url(#clip272)\" cx=\"696.385\" cy=\"1288.33\" r=\"14\" fill=\"#009af9\" fill-rule=\"evenodd\" fill-opacity=\"1\" stroke=\"#000000\" stroke-opacity=\"1\" stroke-width=\"3.2\"/>\n",
       "<circle clip-path=\"url(#clip272)\" cx=\"935.495\" cy=\"1260.66\" r=\"14\" fill=\"#009af9\" fill-rule=\"evenodd\" fill-opacity=\"1\" stroke=\"#000000\" stroke-opacity=\"1\" stroke-width=\"3.2\"/>\n",
       "<circle clip-path=\"url(#clip272)\" cx=\"1433.41\" cy=\"937.072\" r=\"14\" fill=\"#009af9\" fill-rule=\"evenodd\" fill-opacity=\"1\" stroke=\"#000000\" stroke-opacity=\"1\" stroke-width=\"3.2\"/>\n",
       "<circle clip-path=\"url(#clip272)\" cx=\"919.466\" cy=\"1160.94\" r=\"14\" fill=\"#009af9\" fill-rule=\"evenodd\" fill-opacity=\"1\" stroke=\"#000000\" stroke-opacity=\"1\" stroke-width=\"3.2\"/>\n",
       "<circle clip-path=\"url(#clip272)\" cx=\"577.412\" cy=\"1283.47\" r=\"14\" fill=\"#009af9\" fill-rule=\"evenodd\" fill-opacity=\"1\" stroke=\"#000000\" stroke-opacity=\"1\" stroke-width=\"3.2\"/>\n",
       "<circle clip-path=\"url(#clip272)\" cx=\"711.513\" cy=\"1212.76\" r=\"14\" fill=\"#009af9\" fill-rule=\"evenodd\" fill-opacity=\"1\" stroke=\"#000000\" stroke-opacity=\"1\" stroke-width=\"3.2\"/>\n",
       "<circle clip-path=\"url(#clip272)\" cx=\"1420.32\" cy=\"851.903\" r=\"14\" fill=\"#009af9\" fill-rule=\"evenodd\" fill-opacity=\"1\" stroke=\"#000000\" stroke-opacity=\"1\" stroke-width=\"3.2\"/>\n",
       "<circle clip-path=\"url(#clip272)\" cx=\"854.158\" cy=\"1137.55\" r=\"14\" fill=\"#009af9\" fill-rule=\"evenodd\" fill-opacity=\"1\" stroke=\"#000000\" stroke-opacity=\"1\" stroke-width=\"3.2\"/>\n",
       "<circle clip-path=\"url(#clip272)\" cx=\"1152.55\" cy=\"1114.65\" r=\"14\" fill=\"#009af9\" fill-rule=\"evenodd\" fill-opacity=\"1\" stroke=\"#000000\" stroke-opacity=\"1\" stroke-width=\"3.2\"/>\n",
       "<circle clip-path=\"url(#clip272)\" cx=\"1073.59\" cy=\"1030.8\" r=\"14\" fill=\"#009af9\" fill-rule=\"evenodd\" fill-opacity=\"1\" stroke=\"#000000\" stroke-opacity=\"1\" stroke-width=\"3.2\"/>\n",
       "<circle clip-path=\"url(#clip272)\" cx=\"524.242\" cy=\"1311.5\" r=\"14\" fill=\"#009af9\" fill-rule=\"evenodd\" fill-opacity=\"1\" stroke=\"#000000\" stroke-opacity=\"1\" stroke-width=\"3.2\"/>\n",
       "<circle clip-path=\"url(#clip272)\" cx=\"1560.52\" cy=\"842.866\" r=\"14\" fill=\"#009af9\" fill-rule=\"evenodd\" fill-opacity=\"1\" stroke=\"#000000\" stroke-opacity=\"1\" stroke-width=\"3.2\"/>\n",
       "<circle clip-path=\"url(#clip272)\" cx=\"269.7\" cy=\"1445.72\" r=\"14\" fill=\"#009af9\" fill-rule=\"evenodd\" fill-opacity=\"1\" stroke=\"#000000\" stroke-opacity=\"1\" stroke-width=\"3.2\"/>\n",
       "<circle clip-path=\"url(#clip272)\" cx=\"1068.41\" cy=\"1140.19\" r=\"14\" fill=\"#009af9\" fill-rule=\"evenodd\" fill-opacity=\"1\" stroke=\"#000000\" stroke-opacity=\"1\" stroke-width=\"3.2\"/>\n",
       "<circle clip-path=\"url(#clip272)\" cx=\"1060.85\" cy=\"1179.86\" r=\"14\" fill=\"#009af9\" fill-rule=\"evenodd\" fill-opacity=\"1\" stroke=\"#000000\" stroke-opacity=\"1\" stroke-width=\"3.2\"/>\n",
       "<circle clip-path=\"url(#clip272)\" cx=\"690.539\" cy=\"1223.82\" r=\"14\" fill=\"#009af9\" fill-rule=\"evenodd\" fill-opacity=\"1\" stroke=\"#000000\" stroke-opacity=\"1\" stroke-width=\"3.2\"/>\n",
       "<circle clip-path=\"url(#clip272)\" cx=\"1840.69\" cy=\"195.216\" r=\"14\" fill=\"#009af9\" fill-rule=\"evenodd\" fill-opacity=\"1\" stroke=\"#000000\" stroke-opacity=\"1\" stroke-width=\"3.2\"/>\n",
       "<circle clip-path=\"url(#clip272)\" cx=\"904.969\" cy=\"1124.22\" r=\"14\" fill=\"#009af9\" fill-rule=\"evenodd\" fill-opacity=\"1\" stroke=\"#000000\" stroke-opacity=\"1\" stroke-width=\"3.2\"/>\n",
       "<circle clip-path=\"url(#clip272)\" cx=\"1129.14\" cy=\"992.563\" r=\"14\" fill=\"#009af9\" fill-rule=\"evenodd\" fill-opacity=\"1\" stroke=\"#000000\" stroke-opacity=\"1\" stroke-width=\"3.2\"/>\n",
       "<circle clip-path=\"url(#clip272)\" cx=\"1192.68\" cy=\"1030.98\" r=\"14\" fill=\"#009af9\" fill-rule=\"evenodd\" fill-opacity=\"1\" stroke=\"#000000\" stroke-opacity=\"1\" stroke-width=\"3.2\"/>\n",
       "<circle clip-path=\"url(#clip272)\" cx=\"667.287\" cy=\"1236.08\" r=\"14\" fill=\"#009af9\" fill-rule=\"evenodd\" fill-opacity=\"1\" stroke=\"#000000\" stroke-opacity=\"1\" stroke-width=\"3.2\"/>\n",
       "<circle clip-path=\"url(#clip272)\" cx=\"820.342\" cy=\"1322.16\" r=\"14\" fill=\"#009af9\" fill-rule=\"evenodd\" fill-opacity=\"1\" stroke=\"#000000\" stroke-opacity=\"1\" stroke-width=\"3.2\"/>\n",
       "<circle clip-path=\"url(#clip272)\" cx=\"712.72\" cy=\"1212.13\" r=\"14\" fill=\"#009af9\" fill-rule=\"evenodd\" fill-opacity=\"1\" stroke=\"#000000\" stroke-opacity=\"1\" stroke-width=\"3.2\"/>\n",
       "<circle clip-path=\"url(#clip272)\" cx=\"1117.19\" cy=\"1189.35\" r=\"14\" fill=\"#009af9\" fill-rule=\"evenodd\" fill-opacity=\"1\" stroke=\"#000000\" stroke-opacity=\"1\" stroke-width=\"3.2\"/>\n",
       "<circle clip-path=\"url(#clip272)\" cx=\"942.527\" cy=\"1109.72\" r=\"14\" fill=\"#009af9\" fill-rule=\"evenodd\" fill-opacity=\"1\" stroke=\"#000000\" stroke-opacity=\"1\" stroke-width=\"3.2\"/>\n",
       "<circle clip-path=\"url(#clip272)\" cx=\"1738.44\" cy=\"819.94\" r=\"14\" fill=\"#009af9\" fill-rule=\"evenodd\" fill-opacity=\"1\" stroke=\"#000000\" stroke-opacity=\"1\" stroke-width=\"3.2\"/>\n",
       "<circle clip-path=\"url(#clip272)\" cx=\"677.203\" cy=\"1230.85\" r=\"14\" fill=\"#009af9\" fill-rule=\"evenodd\" fill-opacity=\"1\" stroke=\"#000000\" stroke-opacity=\"1\" stroke-width=\"3.2\"/>\n",
       "<circle clip-path=\"url(#clip272)\" cx=\"830.891\" cy=\"1149.82\" r=\"14\" fill=\"#009af9\" fill-rule=\"evenodd\" fill-opacity=\"1\" stroke=\"#000000\" stroke-opacity=\"1\" stroke-width=\"3.2\"/>\n",
       "<circle clip-path=\"url(#clip272)\" cx=\"2292.08\" cy=\"87.9763\" r=\"14\" fill=\"#009af9\" fill-rule=\"evenodd\" fill-opacity=\"1\" stroke=\"#000000\" stroke-opacity=\"1\" stroke-width=\"3.2\"/>\n",
       "<path clip-path=\"url(#clip270)\" d=\"\n",
       "M1988.87 198.898 L2281.3 198.898 L2281.3 95.2176 L1988.87 95.2176  Z\n",
       "  \" fill=\"#ffffff\" fill-rule=\"evenodd\" fill-opacity=\"1\"/>\n",
       "<polyline clip-path=\"url(#clip270)\" style=\"stroke:#000000; stroke-linecap:butt; stroke-linejoin:round; stroke-width:4; stroke-opacity:1; fill:none\" points=\"\n",
       "  1988.87,198.898 2281.3,198.898 2281.3,95.2176 1988.87,95.2176 1988.87,198.898 \n",
       "  \"/>\n",
       "<circle clip-path=\"url(#clip270)\" cx=\"2084.87\" cy=\"147.058\" r=\"23\" fill=\"#009af9\" fill-rule=\"evenodd\" fill-opacity=\"1\" stroke=\"#000000\" stroke-opacity=\"1\" stroke-width=\"5.12\"/>\n",
       "<path clip-path=\"url(#clip270)\" d=\"M2194.71 166.745 Q2192.91 171.375 2191.19 172.787 Q2189.48 174.199 2186.61 174.199 L2183.21 174.199 L2183.21 170.634 L2185.71 170.634 Q2187.47 170.634 2188.44 169.8 Q2189.41 168.967 2190.59 165.865 L2191.35 163.921 L2180.87 138.412 L2185.38 138.412 L2193.48 158.689 L2201.59 138.412 L2206.1 138.412 L2194.71 166.745 Z\" fill=\"#000000\" fill-rule=\"evenodd\" fill-opacity=\"1\" /><path clip-path=\"url(#clip270)\" d=\"M2213.39 160.402 L2221.03 160.402 L2221.03 134.037 L2212.72 135.703 L2212.72 131.444 L2220.98 129.778 L2225.66 129.778 L2225.66 160.402 L2233.3 160.402 L2233.3 164.338 L2213.39 164.338 L2213.39 160.402 Z\" fill=\"#000000\" fill-rule=\"evenodd\" fill-opacity=\"1\" /></svg>\n"
      ]
     },
     "execution_count": 72,
     "metadata": {},
     "output_type": "execute_result"
    }
   ],
   "source": [
    "#scatter(ens_DCA, ens_mf_nucleation)\n",
    "scatter(ens_hhmer, ens_sce_viterbi)"
   ]
  },
  {
   "cell_type": "markdown",
   "metadata": {},
   "source": [
    "### Questions to ask\n",
    "* solutions are SAT ?\n",
    "* Sols found with mf are equal to sols found by DCAlign ??\n",
    "* Compare energies hhmer/DCAlign/mf/sce\n",
    "* compare energies obtained with different decimations\n",
    "* do all these comparisons for several families\n"
   ]
  },
  {
   "cell_type": "markdown",
   "metadata": {},
   "source": [
    "### Solutions are SAT ?"
   ]
  },
  {
   "cell_type": "code",
   "execution_count": 73,
   "metadata": {},
   "outputs": [
    {
     "data": {
      "text/plain": [
       "(7, 22, 5)"
      ]
     },
     "execution_count": 73,
     "metadata": {},
     "output_type": "execute_result"
    }
   ],
   "source": [
    "Nsats_mf_maxP = sum(sats_mf_maxP .!= 0)\n",
    "Nsats_sce_maxP = sum(sats_sce_maxP .!= 0)\n",
    "Nsats_DCAlign = sum(sats_DCA .== false)\n",
    "Nsats_mf_maxP, Nsats_sce_maxP, Nsats_DCAlign"
   ]
  },
  {
   "cell_type": "markdown",
   "metadata": {},
   "source": [
    "### Match DCAlign - mf"
   ]
  },
  {
   "cell_type": "code",
   "execution_count": 74,
   "metadata": {},
   "outputs": [
    {
     "data": {
      "text/plain": [
       "49"
      ]
     },
     "execution_count": 74,
     "metadata": {},
     "output_type": "execute_result"
    }
   ],
   "source": [
    "sum(match_mf_DCA)"
   ]
  },
  {
   "cell_type": "markdown",
   "metadata": {},
   "source": [
    "### Compare decimations (on mf)"
   ]
  },
  {
   "cell_type": "code",
   "execution_count": 75,
   "metadata": {},
   "outputs": [
    {
     "data": {
      "text/plain": [
       "(5, 48, 0)"
      ]
     },
     "execution_count": 75,
     "metadata": {},
     "output_type": "execute_result"
    }
   ],
   "source": [
    "indssat_mf = findall(sats_mf_maxP .== 0)\n",
    "x1 = sum(ens_mf_viterbi[indssat_mf] .<  ens_mf_maxP[indssat_mf])\n",
    "x2 = sum(ens_mf_viterbi[indssat_mf] .==  ens_mf_maxP[indssat_mf])\n",
    "x3 = sum(ens_mf_viterbi[indssat_mf] .>  ens_mf_maxP[indssat_mf])\n",
    "(x1, x2, x3)"
   ]
  },
  {
   "cell_type": "code",
   "execution_count": 76,
   "metadata": {},
   "outputs": [
    {
     "data": {
      "text/plain": [
       "(0, 53, 0)"
      ]
     },
     "execution_count": 76,
     "metadata": {},
     "output_type": "execute_result"
    }
   ],
   "source": [
    "x1 = sum(ens_mf_nucleation[indssat_mf] .<  ens_mf_maxP[indssat_mf])\n",
    "x2 = sum(ens_mf_nucleation[indssat_mf] .==  ens_mf_maxP[indssat_mf])\n",
    "x3 = sum(ens_mf_nucleation[indssat_mf] .>  ens_mf_maxP[indssat_mf])\n",
    "(x1, x2, x3)"
   ]
  },
  {
   "cell_type": "code",
   "execution_count": 77,
   "metadata": {},
   "outputs": [
    {
     "data": {
      "text/plain": [
       "(8, 51, 1)"
      ]
     },
     "execution_count": 77,
     "metadata": {},
     "output_type": "execute_result"
    }
   ],
   "source": [
    "x1 = sum(ens_mf_viterbi .<  ens_mf_nucleation)\n",
    "x2 = sum(ens_mf_viterbi .==  ens_mf_nucleation)\n",
    "x3 = sum(ens_mf_viterbi .>  ens_mf_nucleation)\n",
    "(x1, x2, x3)"
   ]
  },
  {
   "cell_type": "code",
   "execution_count": 78,
   "metadata": {},
   "outputs": [
    {
     "data": {
      "text/plain": [
       "1-element Vector{Int64}:\n",
       " 60"
      ]
     },
     "execution_count": 78,
     "metadata": {},
     "output_type": "execute_result"
    }
   ],
   "source": [
    "findall(ens_mf_viterbi .>  ens_mf_nucleation)"
   ]
  },
  {
   "cell_type": "markdown",
   "metadata": {},
   "source": [
    "### Compare decimations (on sce) "
   ]
  },
  {
   "cell_type": "code",
   "execution_count": 79,
   "metadata": {},
   "outputs": [
    {
     "data": {
      "text/plain": [
       "(7, 31, 0)"
      ]
     },
     "execution_count": 79,
     "metadata": {},
     "output_type": "execute_result"
    }
   ],
   "source": [
    "indssat_sce = findall(sats_sce_maxP .== 0)\n",
    "x1 = sum(ens_sce_viterbi[indssat_sce] .<  ens_sce_maxP[indssat_sce])\n",
    "x2 = sum(ens_sce_viterbi[indssat_sce] .==  ens_sce_maxP[indssat_sce])\n",
    "x3 = sum(ens_sce_viterbi[indssat_sce] .>  ens_sce_maxP[indssat_sce])\n",
    "(x1, x2, x3)"
   ]
  },
  {
   "cell_type": "code",
   "execution_count": 80,
   "metadata": {},
   "outputs": [
    {
     "data": {
      "text/plain": [
       "(0, 38, 0)"
      ]
     },
     "execution_count": 80,
     "metadata": {},
     "output_type": "execute_result"
    }
   ],
   "source": [
    "indssat_sce = findall(sats_sce_maxP .== 0)\n",
    "x1 = sum(ens_sce_nucleation[indssat_sce] .<  ens_sce_maxP[indssat_sce])\n",
    "x2 = sum(ens_sce_nucleation[indssat_sce] .==  ens_sce_maxP[indssat_sce])\n",
    "x3 = sum(ens_sce_nucleation[indssat_sce] .>  ens_sce_maxP[indssat_sce])\n",
    "(x1, x2, x3)"
   ]
  },
  {
   "cell_type": "code",
   "execution_count": 81,
   "metadata": {},
   "outputs": [
    {
     "data": {
      "text/plain": [
       "(21, 38, 1)"
      ]
     },
     "execution_count": 81,
     "metadata": {},
     "output_type": "execute_result"
    }
   ],
   "source": [
    "x1 = sum(ens_sce_viterbi .<  ens_sce_nucleation)\n",
    "x2 = sum(ens_sce_viterbi .==  ens_sce_nucleation)\n",
    "x3 = sum(ens_sce_viterbi .>  ens_sce_nucleation)\n",
    "(x1, x2, x3)"
   ]
  },
  {
   "cell_type": "code",
   "execution_count": 82,
   "metadata": {},
   "outputs": [
    {
     "data": {
      "text/plain": [
       "1-element Vector{Int64}:\n",
       " 48"
      ]
     },
     "execution_count": 82,
     "metadata": {},
     "output_type": "execute_result"
    }
   ],
   "source": [
    "findall(ens_sce_viterbi .>  ens_sce_nucleation)"
   ]
  },
  {
   "cell_type": "markdown",
   "metadata": {},
   "source": [
    "### compare with hhmer"
   ]
  },
  {
   "cell_type": "code",
   "execution_count": 83,
   "metadata": {},
   "outputs": [
    {
     "data": {
      "text/plain": [
       "(37, 22, 1)"
      ]
     },
     "execution_count": 83,
     "metadata": {},
     "output_type": "execute_result"
    }
   ],
   "source": [
    "x1 = sum(ens_mf_viterbi .<  ens_hhmer)\n",
    "x2 = sum(ens_mf_viterbi .==  ens_hhmer)\n",
    "x3 = sum(ens_mf_viterbi .>  ens_hhmer)\n",
    "(x1, x2, x3)"
   ]
  },
  {
   "cell_type": "code",
   "execution_count": 84,
   "metadata": {},
   "outputs": [
    {
     "data": {
      "text/plain": [
       "(34, 23, 3)"
      ]
     },
     "execution_count": 84,
     "metadata": {},
     "output_type": "execute_result"
    }
   ],
   "source": [
    "x1 = sum(ens_sce_viterbi .<  ens_hhmer)\n",
    "x2 = sum(ens_sce_viterbi .==  ens_hhmer)\n",
    "x3 = sum(ens_sce_viterbi .>  ens_hhmer)\n",
    "(x1, x2, x3)"
   ]
  },
  {
   "cell_type": "code",
   "execution_count": 85,
   "metadata": {},
   "outputs": [
    {
     "data": {
      "text/plain": [
       "3-element Vector{Int64}:\n",
       " 24\n",
       " 48\n",
       " 60"
      ]
     },
     "execution_count": 85,
     "metadata": {},
     "output_type": "execute_result"
    }
   ],
   "source": [
    "findall(ens_sce_viterbi .>  ens_hhmer)"
   ]
  },
  {
   "cell_type": "markdown",
   "metadata": {},
   "source": [
    "### compare sce and mf"
   ]
  },
  {
   "cell_type": "code",
   "execution_count": 86,
   "metadata": {},
   "outputs": [
    {
     "data": {
      "text/plain": [
       "(0, 55, 5)"
      ]
     },
     "execution_count": 86,
     "metadata": {},
     "output_type": "execute_result"
    }
   ],
   "source": [
    "x1 = sum(ens_sce_viterbi .<  ens_mf_viterbi)\n",
    "x2 = sum(ens_sce_viterbi .==  ens_mf_viterbi)\n",
    "x3 = sum(ens_sce_viterbi .>  ens_mf_viterbi)\n",
    "(x1, x2, x3)"
   ]
  },
  {
   "cell_type": "code",
   "execution_count": 87,
   "metadata": {},
   "outputs": [
    {
     "data": {
      "text/plain": [
       "5-element Vector{Int64}:\n",
       " 48\n",
       " 50\n",
       " 56\n",
       " 57\n",
       " 60"
      ]
     },
     "execution_count": 87,
     "metadata": {},
     "output_type": "execute_result"
    }
   ],
   "source": [
    "indstocheck = findall(ens_sce_viterbi .>  ens_mf_viterbi)"
   ]
  },
  {
   "cell_type": "code",
   "execution_count": null,
   "metadata": {},
   "outputs": [],
   "source": []
  }
 ],
 "metadata": {
  "kernelspec": {
   "display_name": "Julia 1.7.1",
   "language": "julia",
   "name": "julia-1.7"
  },
  "language_info": {
   "file_extension": ".jl",
   "mimetype": "application/julia",
   "name": "julia",
   "version": "1.7.1"
  }
 },
 "nbformat": 4,
 "nbformat_minor": 4
}
