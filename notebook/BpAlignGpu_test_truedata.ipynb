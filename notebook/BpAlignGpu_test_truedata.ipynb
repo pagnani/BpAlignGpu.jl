{
 "cells": [
  {
   "cell_type": "code",
   "execution_count": 1,
   "metadata": {},
   "outputs": [
    {
     "name": "stderr",
     "output_type": "stream",
     "text": [
      "\u001b[32m\u001b[1m  Activating\u001b[22m\u001b[39m project at `~/MSA/BpAlignGpu.jl`\n",
      "┌ Info: Precompiling BpAlignGpu [5a3eb610-29b2-4cbe-8ba2-ea97f65fa95d]\n",
      "└ @ Base loading.jl:1423\n"
     ]
    }
   ],
   "source": [
    "using Revise, Pkg\n",
    "Pkg.activate(\"/home/louise/MSA/BpAlignGpu.jl\")\n",
    "using BpAlignGpu"
   ]
  },
  {
   "cell_type": "code",
   "execution_count": 2,
   "metadata": {},
   "outputs": [
    {
     "data": {
      "text/plain": [
       "Float32"
      ]
     },
     "execution_count": 2,
     "metadata": {},
     "output_type": "execute_result"
    }
   ],
   "source": [
    "T = Float32"
   ]
  },
  {
   "cell_type": "code",
   "execution_count": 3,
   "metadata": {},
   "outputs": [
    {
     "name": "stderr",
     "output_type": "stream",
     "text": [
      "┌ Info: Assuming J i j a b and h i a format\n",
      "└ @ BpAlignGpu /home/louise/MSA/BpAlignGpu.jl/src/utils.jl:37\n",
      "┌ Info: Output tersors: J[a b i j] and h[a i]\n",
      "└ @ BpAlignGpu /home/louise/MSA/BpAlignGpu.jl/src/utils.jl:39\n",
      "┌ Info: Gap in input file 0 now in 21\n",
      "└ @ BpAlignGpu /home/louise/MSA/BpAlignGpu.jl/src/utils.jl:40\n"
     ]
    }
   ],
   "source": [
    "#open(\"/home/louise/MSA/Data/test/PF00684/\")\n",
    "open(\"/home/louise/MSA/Data/test/PF00397/\")\n",
    "q = 21; L = 31; \n",
    "ctype=Symbol(\"amino\")\n",
    "typel=Symbol(\"bm\")\n",
    "\n",
    "#J, H = BpAlignGpu.read_parameters(\"/home/louise/MSA/Data/test/PF00684/Parameters_bm_PF00684seed_potts.dat\", q, L, gap=0, typel=typel);\n",
    "J, H = BpAlignGpu.read_parameters(\"/home/louise/MSA/Data/test/PF00397/Parameters_plm_PF00397.dat\", q, L, gap=0, typel=typel);"
   ]
  },
  {
   "cell_type": "code",
   "execution_count": 4,
   "metadata": {},
   "outputs": [
    {
     "name": "stdout",
     "output_type": "stream",
     "text": [
      "Consider this sequence: \n",
      "A0A401GBT9_9APHY/8-47\n",
      "Full length: \n",
      "MAPPPLPLGWTEHMSPTGQPYYFNTQTQESTYVRPLPPFP\n",
      "Aligned by HMMer (without and with insertions): \n",
      "LPLGWTEHMSPT-GQPYYFNTQTQESTYVRP\n",
      "LPLGWTEHMSPT-GQPYYFNTQTQESTYVRP\n"
     ]
    }
   ],
   "source": [
    "delta = 5;\n",
    "#al = BpAlignGpu.enveloptoalign( \"/home/louise/MSA/Data/test/PF00684/Test_PF00684.full\", \"/home/louise/MSA/Data/test/PF00684/Test_PF00684.fasta\", \"/home/louise/MSA/Data/test/PF00684/Test_PF00684.ins\", delta = delta, ctype = ctype);\n",
    "al = BpAlignGpu.enveloptoalign( \"/home/louise/MSA/Data/test/PF00397/PF00397_full_length_sequences.fasta\", \"/home/louise/MSA/Data/test/PF00397/PF00397_full.fasta\", \"/home/louise/MSA/Data/test/PF00397/PF00397_full.inse\", delta = delta, ctype = ctype);\n",
    "M = length(al)\n",
    "\n",
    "println(\"Consider this sequence: \")\n",
    "# consider one random sequence as an example\n",
    "idx0 = 20# rand(1:M) \n",
    "(aux,garb) = split(al[idx0][1], \"/\")\n",
    "seqsol = al[idx0][3];\n",
    "seqins = al[idx0][4];\n",
    "seq = BpAlignGpu.Seq(seqsol, al[idx0][2], ctype)\n",
    "N = length(al[idx0][2])\n",
    "println(al[idx0][1])\n",
    "println(\"Full length: \")\n",
    "println(al[idx0][2])\n",
    "println(\"Aligned by HMMer (without and with insertions): \")\n",
    "println(seqsol)\n",
    "println(seqins)\n",
    "\n"
   ]
  },
  {
   "cell_type": "code",
   "execution_count": 5,
   "metadata": {},
   "outputs": [],
   "source": [
    "using DelimitedFiles\n"
   ]
  },
  {
   "cell_type": "code",
   "execution_count": 6,
   "metadata": {},
   "outputs": [],
   "source": [
    "#Lambda_all = readdlm(\"/home/louise/MSA/Data/test/PF00684/Lambda_PF00684.dat\")\n",
    "Lambda_all = readdlm(\"/home/louise/MSA/Data/test/PF00397/Lambda_PF00397.dat\")\n",
    "lambda_o = Lambda_all[1,:];\n",
    "lambda_e = Lambda_all[2,:];\n",
    "\n",
    "\n",
    "muext = 0.00;\n",
    "muint = 2.50;"
   ]
  },
  {
   "cell_type": "code",
   "execution_count": 7,
   "metadata": {},
   "outputs": [
    {
     "data": {
      "text/plain": [
       "(21, 40, 31)"
      ]
     },
     "execution_count": 7,
     "metadata": {},
     "output_type": "execute_result"
    }
   ],
   "source": [
    "q, N, L"
   ]
  },
  {
   "cell_type": "code",
   "execution_count": 8,
   "metadata": {},
   "outputs": [
    {
     "data": {
      "text/plain": [
       "ParamModel{Float32}[L=31 N=40 q=21]\n"
      ]
     },
     "execution_count": 8,
     "metadata": {},
     "output_type": "execute_result"
    }
   ],
   "source": [
    "pm = ParamModel{T}(N, L, q, muint, muext, lambda_o, lambda_e, H, J)"
   ]
  },
  {
   "cell_type": "code",
   "execution_count": 34,
   "metadata": {},
   "outputs": [
    {
     "data": {
      "text/plain": []
     },
     "execution_count": 34,
     "metadata": {},
     "output_type": "execute_result"
    },
    {
     "name": "stdout",
     "output_type": "stream",
     "text": [
      "ParamAlgo{Float32}\n",
      "-------------\n",
      "damp=0.1\n",
      "tol=1.0e-9\n",
      "tolnorm=1.0e-5\n",
      "tmax=10\n",
      "upscheme=sequential\n",
      "lr=sce\n",
      "beta=1.0\n",
      "verbose=true\n",
      "-------------\n"
     ]
    }
   ],
   "source": [
    "damp=T(0.1)\n",
    "tol=T(1e-9)\n",
    "tolnorm=T(1e-5)\n",
    "tmax=10\n",
    "upscheme=:sequential # :random or :sequential\n",
    "lr=:sce  # :sce or :mf or :sr\n",
    "beta=T(1.0)\n",
    "verbose=true\n",
    "pa = ParamAlgo(damp, tol, tolnorm, tmax, upscheme, lr, beta, verbose)"
   ]
  },
  {
   "cell_type": "code",
   "execution_count": 35,
   "metadata": {},
   "outputs": [
    {
     "data": {
      "text/plain": [
       "AllFields{Float32}[L=31 N=40 ongpu=true]"
      ]
     },
     "execution_count": 35,
     "metadata": {},
     "output_type": "execute_result"
    }
   ],
   "source": [
    "bpm = BPMessages(seq, pm)\n",
    "bpb = BPBeliefs(N, L)\n",
    "lrf = LongRangeFields(N, L)\n",
    "af = AllFields(bpm, bpb, lrf)"
   ]
  },
  {
   "cell_type": "code",
   "execution_count": 36,
   "metadata": {},
   "outputs": [
    {
     "name": "stdout",
     "output_type": "stream",
     "text": [
      "t=1\t err=0.3689094\n",
      "  0.232065 seconds (44.84 k allocations: 2.511 MiB)\n"
     ]
    }
   ],
   "source": [
    "@time BpAlignGpu.test_sweep!(1,af,pm,pa)"
   ]
  },
  {
   "cell_type": "code",
   "execution_count": 37,
   "metadata": {
    "scrolled": true
   },
   "outputs": [
    {
     "name": "stdout",
     "output_type": "stream",
     "text": [
      "t=1\t err=0.14421543\n",
      "t=2\t err=0.098487556\n",
      "t=3\t err=0.11653647\n",
      "t=4\t err=0.40156886\n",
      "t=5\t err=0.6277066\n",
      "t=6\t err=0.99855477\n",
      "t=7\t err=0.9988382\n",
      "t=8\t err=0.9999244\n",
      "t=9\t err=0.9989824\n",
      "t=10\t err=0.9860648\n",
      "t=11\t err=0.997841\n",
      "t=12\t err=0.989314\n",
      "t=13\t err=0.9983787\n",
      "t=14\t err=0.99576724\n",
      "t=15\t err=0.15897308\n",
      "t=16\t err=0.112752005\n",
      "t=17\t err=0.048441052\n",
      "t=18\t err=0.024398744\n",
      "t=19\t err=0.032469567\n",
      "t=20\t err=0.034692854\n",
      "t=21\t err=0.04320216\n",
      "t=22\t err=0.010672629\n",
      "t=23\t err=0.013447404\n",
      "t=24\t err=0.008033447\n",
      "t=25\t err=0.008464292\n",
      "t=26\t err=0.00939244\n",
      "t=27\t err=0.008786634\n",
      "t=28\t err=0.009029031\n",
      "t=29\t err=0.008864641\n",
      "t=30\t err=0.008902431\n",
      "t=31\t err=0.008409645\n",
      "t=32\t err=0.007983461\n",
      "t=33\t err=0.010448873\n",
      "t=34\t err=0.009492397\n",
      "t=35\t err=0.008919042\n",
      "t=36\t err=0.008794099\n",
      "t=37\t err=0.008765817\n",
      "t=38\t err=0.009048086\n",
      "t=39\t err=0.008882701\n",
      "t=40\t err=0.008681357\n",
      "t=41\t err=0.00873214\n",
      "t=42\t err=0.009111881\n",
      "t=43\t err=0.008808494\n",
      "t=44\t err=0.009397447\n",
      "t=45\t err=0.009250522\n",
      "t=46\t err=0.008798361\n",
      "t=47\t err=0.009300519\n",
      "t=48\t err=0.00851953\n",
      "t=49\t err=0.008794088\n",
      "t=50\t err=0.009112164\n",
      "  9.629468 seconds (2.24 M allocations: 125.543 MiB)\n"
     ]
    }
   ],
   "source": [
    "@time BpAlignGpu.test_sweep!(50,af,pm,pa)"
   ]
  },
  {
   "cell_type": "code",
   "execution_count": 38,
   "metadata": {},
   "outputs": [
    {
     "data": {
      "text/plain": [
       "(CartesianIndex{3}[], CartesianIndex{3}[])"
      ]
     },
     "execution_count": 38,
     "metadata": {},
     "output_type": "execute_result"
    }
   ],
   "source": [
    "findall(isinf.(af.bpb.beliefs)), findall(isnan.(af.bpb.beliefs))"
   ]
  },
  {
   "cell_type": "code",
   "execution_count": 39,
   "metadata": {},
   "outputs": [
    {
     "data": {
      "text/plain": [
       "(CartesianIndex{5}[], CartesianIndex{5}[])"
      ]
     },
     "execution_count": 39,
     "metadata": {},
     "output_type": "execute_result"
    }
   ],
   "source": [
    "findall(isinf.(af.bpb.joint_chain)), findall(isnan.(af.bpb.joint_chain))"
   ]
  },
  {
   "cell_type": "code",
   "execution_count": 40,
   "metadata": {},
   "outputs": [
    {
     "data": {
      "text/plain": [
       "(\"LPLGWTEHMSPT-GQPYYFNTQTQESTYVRP\", \"LPLGWTEHMSPT-GQPYYFNTQTQESTYVRP\", 6, 35)"
      ]
     },
     "execution_count": 40,
     "metadata": {},
     "output_type": "execute_result"
    }
   ],
   "source": [
    "xnsol, maxbel = BpAlignGpu.solmaxbel(af)\n",
    "seqpa, seqpo, deb, fin = BpAlignGpu.convert_soltosequence!(xnsol, seq.strseq, N, L)"
   ]
  },
  {
   "cell_type": "code",
   "execution_count": 41,
   "metadata": {},
   "outputs": [
    {
     "name": "stdout",
     "output_type": "stream",
     "text": [
      "(onesite, couplings) = (-4.881430014967918, -53.71831221552566)\n",
      "(gapcost, inscost) = (2.5f0, 0.0)\n"
     ]
    },
    {
     "name": "stderr",
     "output_type": "stream",
     "text": [
      "┌ Warning: /home/louise/MSA/BpAlignGpu.jl/src/newfun_bpupdate.jl no longer exists, deleted all methods\n",
      "└ @ Revise /home/louise/.julia/packages/Revise/wjNpr/src/packagedef.jl:651\n"
     ]
    },
    {
     "data": {
      "text/plain": [
       "-56.099743f0"
      ]
     },
     "execution_count": 41,
     "metadata": {},
     "output_type": "execute_result"
    }
   ],
   "source": [
    "BpAlignGpu.compute_cost_function(pm.J, pm.H, seqpo, L, ctype, pm.lambda_o, pm.lambda_e, pm.muext, pm.muint)"
   ]
  },
  {
   "cell_type": "code",
   "execution_count": 42,
   "metadata": {},
   "outputs": [
    {
     "data": {
      "text/plain": [
       "(Int64[], 0)"
      ]
     },
     "execution_count": 42,
     "metadata": {},
     "output_type": "execute_result"
    }
   ],
   "source": [
    "check = BpAlignGpu.check_sr!(xnsol, L, N)\n",
    "finderrors, errL = findall(x->x==1, check), check[L]"
   ]
  },
  {
   "cell_type": "code",
   "execution_count": 43,
   "metadata": {},
   "outputs": [],
   "source": [
    "for i in finderrors\n",
    "    @show i\n",
    "    println(xnsol[i-1], \", \", xnsol[i])\n",
    "end"
   ]
  },
  {
   "cell_type": "code",
   "execution_count": 44,
   "metadata": {},
   "outputs": [],
   "source": [
    "using Plots, OffsetArrays"
   ]
  },
  {
   "cell_type": "code",
   "execution_count": 45,
   "metadata": {},
   "outputs": [
    {
     "data": {
      "image/svg+xml": [
       "<?xml version=\"1.0\" encoding=\"utf-8\"?>\n",
       "<svg xmlns=\"http://www.w3.org/2000/svg\" xmlns:xlink=\"http://www.w3.org/1999/xlink\" width=\"600\" height=\"400\" viewBox=\"0 0 2400 1600\">\n",
       "<defs>\n",
       "  <clipPath id=\"clip090\">\n",
       "    <rect x=\"0\" y=\"0\" width=\"2400\" height=\"1600\"/>\n",
       "  </clipPath>\n",
       "</defs>\n",
       "<path clip-path=\"url(#clip090)\" d=\"\n",
       "M0 1600 L2400 1600 L2400 0 L0 0  Z\n",
       "  \" fill=\"#ffffff\" fill-rule=\"evenodd\" fill-opacity=\"1\"/>\n",
       "<defs>\n",
       "  <clipPath id=\"clip091\">\n",
       "    <rect x=\"480\" y=\"0\" width=\"1681\" height=\"1600\"/>\n",
       "  </clipPath>\n",
       "</defs>\n",
       "<path clip-path=\"url(#clip090)\" d=\"\n",
       "M203.964 1423.18 L2112.76 1423.18 L2112.76 123.472 L203.964 123.472  Z\n",
       "  \" fill=\"#ffffff\" fill-rule=\"evenodd\" fill-opacity=\"1\"/>\n",
       "<defs>\n",
       "  <clipPath id=\"clip092\">\n",
       "    <rect x=\"203\" y=\"123\" width=\"1910\" height=\"1301\"/>\n",
       "  </clipPath>\n",
       "</defs>\n",
       "<polyline clip-path=\"url(#clip092)\" style=\"stroke:#000000; stroke-linecap:butt; stroke-linejoin:round; stroke-width:2; stroke-opacity:0.1; fill:none\" points=\"\n",
       "  635.714,1423.18 635.714,123.472 \n",
       "  \"/>\n",
       "<polyline clip-path=\"url(#clip092)\" style=\"stroke:#000000; stroke-linecap:butt; stroke-linejoin:round; stroke-width:2; stroke-opacity:0.1; fill:none\" points=\"\n",
       "  1090.19,1423.18 1090.19,123.472 \n",
       "  \"/>\n",
       "<polyline clip-path=\"url(#clip092)\" style=\"stroke:#000000; stroke-linecap:butt; stroke-linejoin:round; stroke-width:2; stroke-opacity:0.1; fill:none\" points=\"\n",
       "  1544.66,1423.18 1544.66,123.472 \n",
       "  \"/>\n",
       "<polyline clip-path=\"url(#clip092)\" style=\"stroke:#000000; stroke-linecap:butt; stroke-linejoin:round; stroke-width:2; stroke-opacity:0.1; fill:none\" points=\"\n",
       "  1999.14,1423.18 1999.14,123.472 \n",
       "  \"/>\n",
       "<polyline clip-path=\"url(#clip090)\" style=\"stroke:#000000; stroke-linecap:butt; stroke-linejoin:round; stroke-width:4; stroke-opacity:1; fill:none\" points=\"\n",
       "  203.964,1423.18 2112.76,1423.18 \n",
       "  \"/>\n",
       "<polyline clip-path=\"url(#clip090)\" style=\"stroke:#000000; stroke-linecap:butt; stroke-linejoin:round; stroke-width:4; stroke-opacity:1; fill:none\" points=\"\n",
       "  635.714,1423.18 635.714,1404.28 \n",
       "  \"/>\n",
       "<polyline clip-path=\"url(#clip090)\" style=\"stroke:#000000; stroke-linecap:butt; stroke-linejoin:round; stroke-width:4; stroke-opacity:1; fill:none\" points=\"\n",
       "  1090.19,1423.18 1090.19,1404.28 \n",
       "  \"/>\n",
       "<polyline clip-path=\"url(#clip090)\" style=\"stroke:#000000; stroke-linecap:butt; stroke-linejoin:round; stroke-width:4; stroke-opacity:1; fill:none\" points=\"\n",
       "  1544.66,1423.18 1544.66,1404.28 \n",
       "  \"/>\n",
       "<polyline clip-path=\"url(#clip090)\" style=\"stroke:#000000; stroke-linecap:butt; stroke-linejoin:round; stroke-width:4; stroke-opacity:1; fill:none\" points=\"\n",
       "  1999.14,1423.18 1999.14,1404.28 \n",
       "  \"/>\n",
       "<path clip-path=\"url(#clip090)\" d=\"M610.402 1481.64 L618.041 1481.64 L618.041 1455.28 L609.731 1456.95 L609.731 1452.69 L617.994 1451.02 L622.67 1451.02 L622.67 1481.64 L630.309 1481.64 L630.309 1485.58 L610.402 1485.58 L610.402 1481.64 Z\" fill=\"#000000\" fill-rule=\"evenodd\" fill-opacity=\"1\" /><path clip-path=\"url(#clip090)\" d=\"M649.753 1454.1 Q646.142 1454.1 644.314 1457.66 Q642.508 1461.2 642.508 1468.33 Q642.508 1475.44 644.314 1479.01 Q646.142 1482.55 649.753 1482.55 Q653.388 1482.55 655.193 1479.01 Q657.022 1475.44 657.022 1468.33 Q657.022 1461.2 655.193 1457.66 Q653.388 1454.1 649.753 1454.1 M649.753 1450.39 Q655.564 1450.39 658.619 1455 Q661.698 1459.58 661.698 1468.33 Q661.698 1477.06 658.619 1481.67 Q655.564 1486.25 649.753 1486.25 Q643.943 1486.25 640.865 1481.67 Q637.809 1477.06 637.809 1468.33 Q637.809 1459.58 640.865 1455 Q643.943 1450.39 649.753 1450.39 Z\" fill=\"#000000\" fill-rule=\"evenodd\" fill-opacity=\"1\" /><path clip-path=\"url(#clip090)\" d=\"M1068.96 1481.64 L1085.28 1481.64 L1085.28 1485.58 L1063.34 1485.58 L1063.34 1481.64 Q1066 1478.89 1070.58 1474.26 Q1075.19 1469.61 1076.37 1468.27 Q1078.61 1465.74 1079.49 1464.01 Q1080.4 1462.25 1080.4 1460.56 Q1080.4 1457.8 1078.45 1456.07 Q1076.53 1454.33 1073.43 1454.33 Q1071.23 1454.33 1068.78 1455.09 Q1066.35 1455.86 1063.57 1457.41 L1063.57 1452.69 Q1066.39 1451.55 1068.85 1450.97 Q1071.3 1450.39 1073.34 1450.39 Q1078.71 1450.39 1081.9 1453.08 Q1085.1 1455.77 1085.1 1460.26 Q1085.1 1462.39 1084.29 1464.31 Q1083.5 1466.2 1081.39 1468.8 Q1080.81 1469.47 1077.71 1472.69 Q1074.61 1475.88 1068.96 1481.64 Z\" fill=\"#000000\" fill-rule=\"evenodd\" fill-opacity=\"1\" /><path clip-path=\"url(#clip090)\" d=\"M1105.1 1454.1 Q1101.48 1454.1 1099.66 1457.66 Q1097.85 1461.2 1097.85 1468.33 Q1097.85 1475.44 1099.66 1479.01 Q1101.48 1482.55 1105.1 1482.55 Q1108.73 1482.55 1110.54 1479.01 Q1112.36 1475.44 1112.36 1468.33 Q1112.36 1461.2 1110.54 1457.66 Q1108.73 1454.1 1105.1 1454.1 M1105.1 1450.39 Q1110.91 1450.39 1113.96 1455 Q1117.04 1459.58 1117.04 1468.33 Q1117.04 1477.06 1113.96 1481.67 Q1110.91 1486.25 1105.1 1486.25 Q1099.29 1486.25 1096.21 1481.67 Q1093.15 1477.06 1093.15 1468.33 Q1093.15 1459.58 1096.21 1455 Q1099.29 1450.39 1105.1 1450.39 Z\" fill=\"#000000\" fill-rule=\"evenodd\" fill-opacity=\"1\" /><path clip-path=\"url(#clip090)\" d=\"M1533.51 1466.95 Q1536.86 1467.66 1538.74 1469.93 Q1540.64 1472.2 1540.64 1475.53 Q1540.64 1480.65 1537.12 1483.45 Q1533.6 1486.25 1527.12 1486.25 Q1524.94 1486.25 1522.63 1485.81 Q1520.33 1485.39 1517.88 1484.54 L1517.88 1480.02 Q1519.83 1481.16 1522.14 1481.74 Q1524.45 1482.32 1526.98 1482.32 Q1531.38 1482.32 1533.67 1480.58 Q1535.98 1478.84 1535.98 1475.53 Q1535.98 1472.48 1533.83 1470.77 Q1531.7 1469.03 1527.88 1469.03 L1523.85 1469.03 L1523.85 1465.19 L1528.07 1465.19 Q1531.51 1465.19 1533.34 1463.82 Q1535.17 1462.43 1535.17 1459.84 Q1535.17 1457.18 1533.27 1455.77 Q1531.4 1454.33 1527.88 1454.33 Q1525.96 1454.33 1523.76 1454.75 Q1521.56 1455.16 1518.92 1456.04 L1518.92 1451.88 Q1521.58 1451.14 1523.9 1450.77 Q1526.24 1450.39 1528.3 1450.39 Q1533.62 1450.39 1536.72 1452.83 Q1539.83 1455.23 1539.83 1459.35 Q1539.83 1462.22 1538.18 1464.21 Q1536.54 1466.18 1533.51 1466.95 Z\" fill=\"#000000\" fill-rule=\"evenodd\" fill-opacity=\"1\" /><path clip-path=\"url(#clip090)\" d=\"M1559.5 1454.1 Q1555.89 1454.1 1554.06 1457.66 Q1552.26 1461.2 1552.26 1468.33 Q1552.26 1475.44 1554.06 1479.01 Q1555.89 1482.55 1559.5 1482.55 Q1563.14 1482.55 1564.94 1479.01 Q1566.77 1475.44 1566.77 1468.33 Q1566.77 1461.2 1564.94 1457.66 Q1563.14 1454.1 1559.5 1454.1 M1559.5 1450.39 Q1565.31 1450.39 1568.37 1455 Q1571.45 1459.58 1571.45 1468.33 Q1571.45 1477.06 1568.37 1481.67 Q1565.31 1486.25 1559.5 1486.25 Q1553.69 1486.25 1550.61 1481.67 Q1547.56 1477.06 1547.56 1468.33 Q1547.56 1459.58 1550.61 1455 Q1553.69 1450.39 1559.5 1450.39 Z\" fill=\"#000000\" fill-rule=\"evenodd\" fill-opacity=\"1\" /><path clip-path=\"url(#clip090)\" d=\"M1987.31 1455.09 L1975.5 1473.54 L1987.31 1473.54 L1987.31 1455.09 M1986.08 1451.02 L1991.96 1451.02 L1991.96 1473.54 L1996.89 1473.54 L1996.89 1477.43 L1991.96 1477.43 L1991.96 1485.58 L1987.31 1485.58 L1987.31 1477.43 L1971.71 1477.43 L1971.71 1472.92 L1986.08 1451.02 Z\" fill=\"#000000\" fill-rule=\"evenodd\" fill-opacity=\"1\" /><path clip-path=\"url(#clip090)\" d=\"M2014.62 1454.1 Q2011.01 1454.1 2009.18 1457.66 Q2007.38 1461.2 2007.38 1468.33 Q2007.38 1475.44 2009.18 1479.01 Q2011.01 1482.55 2014.62 1482.55 Q2018.26 1482.55 2020.06 1479.01 Q2021.89 1475.44 2021.89 1468.33 Q2021.89 1461.2 2020.06 1457.66 Q2018.26 1454.1 2014.62 1454.1 M2014.62 1450.39 Q2020.43 1450.39 2023.49 1455 Q2026.57 1459.58 2026.57 1468.33 Q2026.57 1477.06 2023.49 1481.67 Q2020.43 1486.25 2014.62 1486.25 Q2008.81 1486.25 2005.73 1481.67 Q2002.68 1477.06 2002.68 1468.33 Q2002.68 1459.58 2005.73 1455 Q2008.81 1450.39 2014.62 1450.39 Z\" fill=\"#000000\" fill-rule=\"evenodd\" fill-opacity=\"1\" /><path clip-path=\"url(#clip090)\" d=\"M1173.29 1546.53 L1173.29 1568.04 L1167.43 1568.04 L1167.43 1546.72 Q1167.43 1541.66 1165.46 1539.14 Q1163.48 1536.63 1159.54 1536.63 Q1154.79 1536.63 1152.06 1539.65 Q1149.32 1542.68 1149.32 1547.9 L1149.32 1568.04 L1143.43 1568.04 L1143.43 1532.4 L1149.32 1532.4 L1149.32 1537.93 Q1151.42 1534.72 1154.25 1533.13 Q1157.12 1531.54 1160.84 1531.54 Q1166.99 1531.54 1170.14 1535.36 Q1173.29 1539.14 1173.29 1546.53 Z\" fill=\"#000000\" fill-rule=\"evenodd\" fill-opacity=\"1\" /><polyline clip-path=\"url(#clip092)\" style=\"stroke:#000000; stroke-linecap:butt; stroke-linejoin:round; stroke-width:2; stroke-opacity:0.1; fill:none\" points=\"\n",
       "  203.964,1234.51 2112.76,1234.51 \n",
       "  \"/>\n",
       "<polyline clip-path=\"url(#clip092)\" style=\"stroke:#000000; stroke-linecap:butt; stroke-linejoin:round; stroke-width:2; stroke-opacity:0.1; fill:none\" points=\"\n",
       "  203.964,1024.88 2112.76,1024.88 \n",
       "  \"/>\n",
       "<polyline clip-path=\"url(#clip092)\" style=\"stroke:#000000; stroke-linecap:butt; stroke-linejoin:round; stroke-width:2; stroke-opacity:0.1; fill:none\" points=\"\n",
       "  203.964,815.252 2112.76,815.252 \n",
       "  \"/>\n",
       "<polyline clip-path=\"url(#clip092)\" style=\"stroke:#000000; stroke-linecap:butt; stroke-linejoin:round; stroke-width:2; stroke-opacity:0.1; fill:none\" points=\"\n",
       "  203.964,605.622 2112.76,605.622 \n",
       "  \"/>\n",
       "<polyline clip-path=\"url(#clip092)\" style=\"stroke:#000000; stroke-linecap:butt; stroke-linejoin:round; stroke-width:2; stroke-opacity:0.1; fill:none\" points=\"\n",
       "  203.964,395.991 2112.76,395.991 \n",
       "  \"/>\n",
       "<polyline clip-path=\"url(#clip092)\" style=\"stroke:#000000; stroke-linecap:butt; stroke-linejoin:round; stroke-width:2; stroke-opacity:0.1; fill:none\" points=\"\n",
       "  203.964,186.361 2112.76,186.361 \n",
       "  \"/>\n",
       "<polyline clip-path=\"url(#clip090)\" style=\"stroke:#000000; stroke-linecap:butt; stroke-linejoin:round; stroke-width:4; stroke-opacity:1; fill:none\" points=\"\n",
       "  203.964,1423.18 203.964,123.472 \n",
       "  \"/>\n",
       "<polyline clip-path=\"url(#clip090)\" style=\"stroke:#000000; stroke-linecap:butt; stroke-linejoin:round; stroke-width:4; stroke-opacity:1; fill:none\" points=\"\n",
       "  203.964,1234.51 220.751,1234.51 \n",
       "  \"/>\n",
       "<polyline clip-path=\"url(#clip090)\" style=\"stroke:#000000; stroke-linecap:butt; stroke-linejoin:round; stroke-width:4; stroke-opacity:1; fill:none\" points=\"\n",
       "  203.964,1024.88 220.751,1024.88 \n",
       "  \"/>\n",
       "<polyline clip-path=\"url(#clip090)\" style=\"stroke:#000000; stroke-linecap:butt; stroke-linejoin:round; stroke-width:4; stroke-opacity:1; fill:none\" points=\"\n",
       "  203.964,815.252 220.751,815.252 \n",
       "  \"/>\n",
       "<polyline clip-path=\"url(#clip090)\" style=\"stroke:#000000; stroke-linecap:butt; stroke-linejoin:round; stroke-width:4; stroke-opacity:1; fill:none\" points=\"\n",
       "  203.964,605.622 220.751,605.622 \n",
       "  \"/>\n",
       "<polyline clip-path=\"url(#clip090)\" style=\"stroke:#000000; stroke-linecap:butt; stroke-linejoin:round; stroke-width:4; stroke-opacity:1; fill:none\" points=\"\n",
       "  203.964,395.991 220.751,395.991 \n",
       "  \"/>\n",
       "<polyline clip-path=\"url(#clip090)\" style=\"stroke:#000000; stroke-linecap:butt; stroke-linejoin:round; stroke-width:4; stroke-opacity:1; fill:none\" points=\"\n",
       "  203.964,186.361 220.751,186.361 \n",
       "  \"/>\n",
       "<path clip-path=\"url(#clip090)\" d=\"M147.061 1217.23 L165.417 1217.23 L165.417 1221.17 L151.343 1221.17 L151.343 1229.64 Q152.362 1229.29 153.38 1229.13 Q154.399 1228.95 155.417 1228.95 Q161.204 1228.95 164.584 1232.12 Q167.964 1235.29 167.964 1240.7 Q167.964 1246.28 164.491 1249.39 Q161.019 1252.46 154.7 1252.46 Q152.524 1252.46 150.255 1252.09 Q148.01 1251.72 145.603 1250.98 L145.603 1246.28 Q147.686 1247.42 149.908 1247.97 Q152.13 1248.53 154.607 1248.53 Q158.612 1248.53 160.95 1246.42 Q163.288 1244.32 163.288 1240.7 Q163.288 1237.09 160.95 1234.99 Q158.612 1232.88 154.607 1232.88 Q152.732 1232.88 150.857 1233.3 Q149.005 1233.71 147.061 1234.59 L147.061 1217.23 Z\" fill=\"#000000\" fill-rule=\"evenodd\" fill-opacity=\"1\" /><path clip-path=\"url(#clip090)\" d=\"M116.668 1038.23 L124.306 1038.23 L124.306 1011.86 L115.996 1013.53 L115.996 1009.27 L124.26 1007.6 L128.936 1007.6 L128.936 1038.23 L136.575 1038.23 L136.575 1042.16 L116.668 1042.16 L116.668 1038.23 Z\" fill=\"#000000\" fill-rule=\"evenodd\" fill-opacity=\"1\" /><path clip-path=\"url(#clip090)\" d=\"M156.019 1010.68 Q152.408 1010.68 150.579 1014.25 Q148.774 1017.79 148.774 1024.92 Q148.774 1032.02 150.579 1035.59 Q152.408 1039.13 156.019 1039.13 Q159.653 1039.13 161.459 1035.59 Q163.288 1032.02 163.288 1024.92 Q163.288 1017.79 161.459 1014.25 Q159.653 1010.68 156.019 1010.68 M156.019 1006.98 Q161.829 1006.98 164.885 1011.58 Q167.964 1016.17 167.964 1024.92 Q167.964 1033.64 164.885 1038.25 Q161.829 1042.83 156.019 1042.83 Q150.209 1042.83 147.13 1038.25 Q144.075 1033.64 144.075 1024.92 Q144.075 1016.17 147.13 1011.58 Q150.209 1006.98 156.019 1006.98 Z\" fill=\"#000000\" fill-rule=\"evenodd\" fill-opacity=\"1\" /><path clip-path=\"url(#clip090)\" d=\"M117.663 828.597 L125.302 828.597 L125.302 802.231 L116.992 803.898 L116.992 799.639 L125.255 797.972 L129.931 797.972 L129.931 828.597 L137.57 828.597 L137.57 832.532 L117.663 832.532 L117.663 828.597 Z\" fill=\"#000000\" fill-rule=\"evenodd\" fill-opacity=\"1\" /><path clip-path=\"url(#clip090)\" d=\"M147.061 797.972 L165.417 797.972 L165.417 801.907 L151.343 801.907 L151.343 810.379 Q152.362 810.032 153.38 809.87 Q154.399 809.685 155.417 809.685 Q161.204 809.685 164.584 812.856 Q167.964 816.027 167.964 821.444 Q167.964 827.023 164.491 830.125 Q161.019 833.203 154.7 833.203 Q152.524 833.203 150.255 832.833 Q148.01 832.463 145.603 831.722 L145.603 827.023 Q147.686 828.157 149.908 828.713 Q152.13 829.268 154.607 829.268 Q158.612 829.268 160.95 827.162 Q163.288 825.055 163.288 821.444 Q163.288 817.833 160.95 815.727 Q158.612 813.62 154.607 813.62 Q152.732 813.62 150.857 814.037 Q149.005 814.453 147.061 815.333 L147.061 797.972 Z\" fill=\"#000000\" fill-rule=\"evenodd\" fill-opacity=\"1\" /><path clip-path=\"url(#clip090)\" d=\"M119.885 618.967 L136.204 618.967 L136.204 622.902 L114.26 622.902 L114.26 618.967 Q116.922 616.212 121.505 611.582 Q126.112 606.93 127.292 605.587 Q129.538 603.064 130.417 601.328 Q131.32 599.569 131.32 597.879 Q131.32 595.124 129.376 593.388 Q127.455 591.652 124.353 591.652 Q122.154 591.652 119.7 592.416 Q117.269 593.18 114.492 594.731 L114.492 590.008 Q117.316 588.874 119.769 588.295 Q122.223 587.717 124.26 587.717 Q129.63 587.717 132.825 590.402 Q136.019 593.087 136.019 597.578 Q136.019 599.707 135.209 601.629 Q134.422 603.527 132.316 606.119 Q131.737 606.791 128.635 610.008 Q125.533 613.203 119.885 618.967 Z\" fill=\"#000000\" fill-rule=\"evenodd\" fill-opacity=\"1\" /><path clip-path=\"url(#clip090)\" d=\"M156.019 591.42 Q152.408 591.42 150.579 594.985 Q148.774 598.527 148.774 605.656 Q148.774 612.763 150.579 616.328 Q152.408 619.869 156.019 619.869 Q159.653 619.869 161.459 616.328 Q163.288 612.763 163.288 605.656 Q163.288 598.527 161.459 594.985 Q159.653 591.42 156.019 591.42 M156.019 587.717 Q161.829 587.717 164.885 592.323 Q167.964 596.907 167.964 605.656 Q167.964 614.383 164.885 618.99 Q161.829 623.573 156.019 623.573 Q150.209 623.573 147.13 618.99 Q144.075 614.383 144.075 605.656 Q144.075 596.907 147.13 592.323 Q150.209 587.717 156.019 587.717 Z\" fill=\"#000000\" fill-rule=\"evenodd\" fill-opacity=\"1\" /><path clip-path=\"url(#clip090)\" d=\"M120.88 409.336 L137.2 409.336 L137.2 413.271 L115.256 413.271 L115.256 409.336 Q117.918 406.582 122.501 401.952 Q127.107 397.299 128.288 395.957 Q130.533 393.434 131.413 391.698 Q132.316 389.938 132.316 388.248 Q132.316 385.494 130.371 383.758 Q128.45 382.022 125.348 382.022 Q123.149 382.022 120.695 382.786 Q118.265 383.549 115.487 385.1 L115.487 380.378 Q118.311 379.244 120.765 378.665 Q123.218 378.086 125.255 378.086 Q130.626 378.086 133.82 380.772 Q137.015 383.457 137.015 387.948 Q137.015 390.077 136.204 391.998 Q135.417 393.897 133.311 396.489 Q132.732 397.16 129.63 400.378 Q126.529 403.572 120.88 409.336 Z\" fill=\"#000000\" fill-rule=\"evenodd\" fill-opacity=\"1\" /><path clip-path=\"url(#clip090)\" d=\"M147.061 378.711 L165.417 378.711 L165.417 382.647 L151.343 382.647 L151.343 391.119 Q152.362 390.772 153.38 390.61 Q154.399 390.424 155.417 390.424 Q161.204 390.424 164.584 393.596 Q167.964 396.767 167.964 402.184 Q167.964 407.762 164.491 410.864 Q161.019 413.943 154.7 413.943 Q152.524 413.943 150.255 413.572 Q148.01 413.202 145.603 412.461 L145.603 407.762 Q147.686 408.897 149.908 409.452 Q152.13 410.008 154.607 410.008 Q158.612 410.008 160.95 407.901 Q163.288 405.795 163.288 402.184 Q163.288 398.572 160.95 396.466 Q158.612 394.36 154.607 394.36 Q152.732 394.36 150.857 394.776 Q149.005 395.193 147.061 396.073 L147.061 378.711 Z\" fill=\"#000000\" fill-rule=\"evenodd\" fill-opacity=\"1\" /><path clip-path=\"url(#clip090)\" d=\"M130.024 185.007 Q133.38 185.725 135.255 187.993 Q137.154 190.262 137.154 193.595 Q137.154 198.711 133.635 201.512 Q130.117 204.313 123.635 204.313 Q121.459 204.313 119.144 203.873 Q116.853 203.456 114.399 202.6 L114.399 198.086 Q116.343 199.22 118.658 199.799 Q120.973 200.377 123.496 200.377 Q127.894 200.377 130.186 198.641 Q132.501 196.905 132.501 193.595 Q132.501 190.539 130.348 188.826 Q128.218 187.09 124.399 187.09 L120.371 187.09 L120.371 183.248 L124.584 183.248 Q128.033 183.248 129.862 181.882 Q131.691 180.493 131.691 177.901 Q131.691 175.239 129.792 173.827 Q127.917 172.391 124.399 172.391 Q122.478 172.391 120.279 172.808 Q118.08 173.225 115.441 174.104 L115.441 169.938 Q118.103 169.197 120.418 168.827 Q122.755 168.456 124.816 168.456 Q130.14 168.456 133.242 170.887 Q136.343 173.294 136.343 177.414 Q136.343 180.285 134.7 182.276 Q133.056 184.243 130.024 185.007 Z\" fill=\"#000000\" fill-rule=\"evenodd\" fill-opacity=\"1\" /><path clip-path=\"url(#clip090)\" d=\"M156.019 172.16 Q152.408 172.16 150.579 175.725 Q148.774 179.266 148.774 186.396 Q148.774 193.502 150.579 197.067 Q152.408 200.609 156.019 200.609 Q159.653 200.609 161.459 197.067 Q163.288 193.502 163.288 186.396 Q163.288 179.266 161.459 175.725 Q159.653 172.16 156.019 172.16 M156.019 168.456 Q161.829 168.456 164.885 173.063 Q167.964 177.646 167.964 186.396 Q167.964 195.123 164.885 199.729 Q161.829 204.313 156.019 204.313 Q150.209 204.313 147.13 199.729 Q144.075 195.123 144.075 186.396 Q144.075 177.646 147.13 173.063 Q150.209 168.456 156.019 168.456 Z\" fill=\"#000000\" fill-rule=\"evenodd\" fill-opacity=\"1\" /><path clip-path=\"url(#clip090)\" d=\"M28.3562 776.254 L28.3562 770.398 L64.0042 770.398 L64.0042 776.254 L28.3562 776.254 M14.479 776.254 L14.479 770.398 L21.895 770.398 L21.895 776.254 L14.479 776.254 Z\" fill=\"#000000\" fill-rule=\"evenodd\" fill-opacity=\"1\" /><path clip-path=\"url(#clip090)\" d=\"M1119.75 27.2059 L1103.35 49.2833 L1120.61 72.576 L1111.81 72.576 L1098.61 54.752 L1085.4 72.576 L1076.61 72.576 L1094.23 48.8377 L1078.11 27.2059 L1086.9 27.2059 L1098.93 43.369 L1110.96 27.2059 L1119.75 27.2059 Z\" fill=\"#000000\" fill-rule=\"evenodd\" fill-opacity=\"1\" /><path clip-path=\"url(#clip090)\" d=\"M1132.11 34.9026 L1184.04 34.9026 L1184.04 41.7081 L1132.11 41.7081 L1132.11 34.9026 M1132.11 51.4303 L1184.04 51.4303 L1184.04 58.3168 L1132.11 58.3168 L1132.11 51.4303 Z\" fill=\"#000000\" fill-rule=\"evenodd\" fill-opacity=\"1\" /><path clip-path=\"url(#clip090)\" d=\"M1219.2 17.4837 Q1212.88 17.4837 1209.68 23.7221 Q1206.52 29.92 1206.52 42.3968 Q1206.52 54.833 1209.68 61.0714 Q1212.88 67.2693 1219.2 67.2693 Q1225.56 67.2693 1228.72 61.0714 Q1231.92 54.833 1231.92 42.3968 Q1231.92 29.92 1228.72 23.7221 Q1225.56 17.4837 1219.2 17.4837 M1219.2 11.0023 Q1229.37 11.0023 1234.72 19.0636 Q1240.11 27.0843 1240.11 42.3968 Q1240.11 57.6687 1234.72 65.73 Q1229.37 73.7508 1219.2 73.7508 Q1209.04 73.7508 1203.65 65.73 Q1198.3 57.6687 1198.3 42.3968 Q1198.3 27.0843 1203.65 19.0636 Q1209.04 11.0023 1219.2 11.0023 Z\" fill=\"#000000\" fill-rule=\"evenodd\" fill-opacity=\"1\" /><g clip-path=\"url(#clip092)\">\n",
       "<image width=\"1909\" height=\"1300\" xlink:href=\"data:image/png;base64,\n",
       "iVBORw0KGgoAAAANSUhEUgAAB3UAAAUUCAYAAADIr0hnAAAgAElEQVR4nOzbsQ3CQAAEwX9siRS3\n",
       "QP89mgYgsJNfoZkKLl/dHGM/BwAAAAAAAPyJuXrAHXNbveCWfXutnnDZ8XyvnnDZY/UAAAAAAAAA\n",
       "AH4TdQEAAAAAAADCRF0AAAAAAACAMFEXAAAAAAAAIEzUBQAAAAAAAAgTdQEAAAAAAADCRF0AAAAA\n",
       "AACAMFEXAAAAAAAAIEzUBQAAAAAAAAgTdQEAAAAAAADCRF0AAAAAAACAMFEXAAAAAAAAIEzUBQAA\n",
       "AAAAAAgTdQEAAAAAAADCRF0AAAAAAACAMFEXAAAAAAAAIEzUBQAAAAAAAAgTdQEAAAAAAADCRF0A\n",
       "AAAAAACAMFEXAAAAAAAAIEzUBQAAAAAAAAgTdQEAAAAAAADCRF0AAAAAAACAMFEXAAAAAAAAIEzU\n",
       "BQAAAAAAAAgTdQEAAAAAAADCRF0AAAAAAACAMFEXAAAAAAAAIEzUBQAAAAAAAAgTdQEAAAAAAADC\n",
       "RF0AAAAAAACAMFEXAAAAAAAAIEzUBQAAAAAAAAgTdQEAAAAAAADCRF0AAAAAAACAMFEXAAAAAAAA\n",
       "IEzUBQAAAAAAAAgTdQEAAAAAAADCRF0AAAAAAACAMFEXAAAAAAAAIEzUBQAAAAAAAAibY+zn6hEA\n",
       "AAAAAAAAfOepCwAAAAAAABAm6gIAAAAAAACEiboAAAAAAAAAYaIuAAAAAAAAQJioCwAAAAAAABAm\n",
       "6gIAAAAAAACEiboAAAAAAAAAYaIuAAAAAAAAQJioCwAAAAAAABAm6gIAAAAAAACEiboAAAAAAAAA\n",
       "YaIuAAAAAAAAQJioCwAAAAAAABAm6gIAAAAAAACEiboAAAAAAAAAYaIuAAAAAAAAQJioCwAAAAAA\n",
       "ABAm6gIAAAAAAACEiboAAAAAAAAAYaIuAAAAAAAAQJioCwAAAAAAABAm6gIAAAAAAACEiboAAAAA\n",
       "AAAAYaIuAAAAAAAAQJioCwAAAAAAABAm6gIAAAAAAACEiboAAAAAAAAAYaIuAAAAAAAAQJioCwAA\n",
       "AAAAABAm6gIAAAAAAACEiboAAAAAAAAAYaIuAAAAAAAAQJioCwAAAAAAABAm6gIAAAAAAACEiboA\n",
       "AAAAAAAAYaIuAAAAAAAAQJioCwAAAAAAABAm6gIAAAAAAACEiboAAAAAAAAAYaIuAAAAAAAAQJio\n",
       "CwAAAAAAABAm6gIAAAAAAACEiboAAAAAAAAAYaIuAAAAAAAAQJioCwAAAAAAABAm6gIAAAAAAACE\n",
       "iboAAAAAAAAAYaIuAAAAAAAAQJioCwAAAAAAABAm6gIAAAAAAACEiboAAAAAAAAAYaIuAAAAAAAA\n",
       "QJioCwAAAAAAABAm6gIAAAAAAACEiboAAAAAAAAAYaIuAAAAAAAAQJioCwAAAAAAABAm6gIAAAAA\n",
       "AACEiboAAAAAAAAAYaIuAAAAAAAAQJioCwAAAAAAABAm6gIAAAAAAACEiboAAAAAAAAAYaIuAAAA\n",
       "AAAAQJioCwAAAAAAABAm6gIAAAAAAACEiboAAAAAAAAAYaIuAAAAAAAAQJioCwAAAAAAABAm6gIA\n",
       "AAAAAACEiboAAAAAAAAAYaIuAAAAAAAAQJioCwAAAAAAABAm6gIAAAAAAACEiboAAAAAAAAAYaIu\n",
       "AAAAAAAAQJioCwAAAAAAABAm6gIAAAAAAACEiboAAAAAAAAAYaIuAAAAAAAAQJioCwAAAAAAABAm\n",
       "6gIAAAAAAACEiboAAAAAAAAAYaIuAAAAAAAAQJioCwAAAAAAABAm6gIAAAAAAACEiboAAAAAAAAA\n",
       "YaIuAAAAAAAAQJioCwAAAAAAABAm6gIAAAAAAACEiboAAAAAAAAAYaIuAAAAAAAAQJioCwAAAAAA\n",
       "ABAm6gIAAAAAAACEiboAAAAAAAAAYaIuAAAAAAAAQJioCwAAAAAAABAm6gIAAAAAAACEiboAAAAA\n",
       "AAAAYaIuAAAAAAAAQJioCwAAAAAAABAm6gIAAAAAAACEiboAAAAAAAAAYaIuAAAAAAAAQJioCwAA\n",
       "AAAAABAm6gIAAAAAAACEiboAAAAAAAAAYaIuAAAAAAAAQJioCwAAAAAAABAm6gIAAAAAAACEiboA\n",
       "AAAAAAAAYaIuAAAAAAAAQJioCwAAAAAAABAm6gIAAAAAAACEiboAAAAAAAAAYaIuAAAAAAAAQJio\n",
       "CwAAAAAAABAm6gIAAAAAAACEiboAAAAAAAAAYaIuAAAAAAAAQJioCwAAAAAAABAm6gIAAAAAAACE\n",
       "iboAAAAAAAAAYaIuAAAAAAAAQJioCwAAAAAAABAm6gIAAAAAAACEiboAAAAAAAAAYaIuAAAAAAAA\n",
       "QJioCwAAAAAAABAm6gIAAAAAAACEiboAAAAAAAAAYaIuAAAAAAAAQJioCwAAAAAAABAm6gIAAAAA\n",
       "AACEiboAAAAAAAAAYaIuAAAAAAAAQJioCwAAAAAAABAm6gIAAAAAAACEiboAAAAAAAAAYaIuAAAA\n",
       "AAAAQJioCwAAAAAAABAm6gIAAAAAAACEiboAAAAAAAAAYaIuAAAAAAAAQJioCwAAAAAAABAm6gIA\n",
       "AAAAAACEiboAAAAAAAAAYaIuAAAAAAAAQJioCwAAAAAAABAm6gIAAAAAAACEiboAAAAAAAAAYaIu\n",
       "AAAAAAAAQJioCwAAAAAAABAm6gIAAAAAAACEiboAAAAAAAAAYaIuAAAAAAAAQJioCwAAAAAAABAm\n",
       "6gIAAAAAAACEiboAAAAAAAAAYaIuAAAAAAAAQJioCwAAAAAAABAm6gIAAAAAAACEiboAAAAAAAAA\n",
       "YaIuAAAAAAAAQJioCwAAAAAAABAm6gIAAAAAAACEiboAAAAAAAAAYaIuAAAAAAAAQJioCwAAAAAA\n",
       "ABAm6gIAAAAAAACEiboAAAAAAAAAYaIuAAAAAAAAQJioCwAAAAAAABAm6gIAAAAAAACEiboAAAAA\n",
       "AAAAYaIuAAAAAAAAQJioCwAAAAAAABAm6gIAAAAAAACEiboAAAAAAAAAYaIuAAAAAAAAQJioCwAA\n",
       "AAAAABAm6gIAAAAAAACEiboAAAAAAAAAYaIuAAAAAAAAQJioCwAAAAAAABAm6gIAAAAAAACEiboA\n",
       "AAAAAAAAYaIuAAAAAAAAQJioCwAAAAAAABAm6gIAAAAAAACEiboAAAAAAAAAYaIuAAAAAAAAQJio\n",
       "CwAAAAAAABAm6gIAAAAAAACEiboAAAAAAAAAYaIuAAAAAAAAQJioCwAAAAAAABAm6gIAAAAAAACE\n",
       "iboAAAAAAAAAYaIuAAAAAAAAQJioCwAAAAAAABAm6gIAAAAAAACEiboAAAAAAAAAYaIuAAAAAAAA\n",
       "QJioCwAAAAAAABAm6gIAAAAAAACEiboAAAAAAAAAYaIuAAAAAAAAQJioCwAAAAAAABAm6gIAAAAA\n",
       "AACEiboAAAAAAAAAYaIuAAAAAAAAQJioCwAAAAAAABAm6gIAAAAAAACEiboAAAAAAAAAYaIuAAAA\n",
       "AAAAQJioCwAAAAAAABAm6gIAAAAAAACEiboAAAAAAAAAYaIuAAAAAAAAQJioCwAAAAAAABAm6gIA\n",
       "AAAAAACEiboAAAAAAAAAYaIuAAAAAAAAQJioCwAAAAAAABAm6gIAAAAAAACEiboAAAAAAAAAYaIu\n",
       "AAAAAAAAQJioCwAAAAAAABAm6gIAAAAAAACEiboAAAAAAAAAYaIuAAAAAAAAQJioCwAAAAAAABAm\n",
       "6gIAAAAAAACEiboAAAAAAAAAYaIuAAAAAAAAQJioCwAAAAAAABAm6gIAAAAAAACEiboAAAAAAAAA\n",
       "YaIuAAAAAAAAQJioCwAAAAAAABAm6gIAAAAAAACEiboAAAAAAAAAYaIuAAAAAAAAQJioCwAAAAAA\n",
       "ABAm6gIAAAAAAACEiboAAAAAAAAAYaIuAAAAAAAAQJioCwAAAAAAABAm6gIAAAAAAACEiboAAAAA\n",
       "AAAAYaIuAAAAAAAAQJioCwAAAAAAABAm6gIAAAAAAACEiboAAAAAAAAAYaIuAAAAAAAAQJioCwAA\n",
       "AAAAABAm6gIAAAAAAACEiboAAAAAAAAAYaIuAAAAAAAAQJioCwAAAAAAABAm6gIAAAAAAACEiboA\n",
       "AAAAAAAAYaIuAAAAAAAAQJioCwAAAAAAABAm6gIAAAAAAACEiboAAAAAAAAAYaIuAAAAAAAAQJio\n",
       "CwAAAAAAABAm6gIAAAAAAACEiboAAAAAAAAAYaIuAAAAAAAAQJioCwAAAAAAABAm6gIAAAAAAACE\n",
       "iboAAAAAAAAAYaIuAAAAAAAAQJioCwAAAAAAABAm6gIAAAAAAACEiboAAAAAAAAAYaIuAAAAAAAA\n",
       "QJioCwAAAAAAABAm6gIAAAAAAACEiboAAAAAAAAAYaIuAAAAAAAAQJioCwAAAAAAABAm6gIAAAAA\n",
       "AACEiboAAAAAAAAAYaIuAAAAAAAAQJioCwAAAAAAABAm6gIAAAAAAACEiboAAAAAAAAAYaIuAAAA\n",
       "AAAAQJioCwAAAAAAABAm6gIAAAAAAACEiboAAAAAAAAAYaIuAAAAAAAAQJioCwAAAAAAABAm6gIA\n",
       "AAAAAACEiboAAAAAAAAAYaIuAAAAAAAAQJioCwAAAAAAABAm6gIAAAAAAACEiboAAAAAAAAAYaIu\n",
       "AAAAAAAAQJioCwAAAAAAABAm6gIAAAAAAACEiboAAAAAAAAAYaIuAAAAAAAAQJioCwAAAAAAABAm\n",
       "6gIAAAAAAACEiboAAAAAAAAAYaIuAAAAAAAAQJioCwAAAAAAABAm6gIAAAAAAACEiboAAAAAAAAA\n",
       "YaIuAAAAAAAAQJioCwAAAAAAABAm6gIAAAAAAACEiboAAAAAAAAAYaIuAAAAAAAAQJioCwAAAAAA\n",
       "ABAm6gIAAAAAAACEiboAAAAAAAAAYaIuAAAAAAAAQJioCwAAAAAAABAm6gIAAAAAAACEiboAAAAA\n",
       "AAAAYaIuAAAAAAAAQJioCwAAAAAAABAm6gIAAAAAAACEiboAAAAAAAAAYaIuAAAAAAAAQJioCwAA\n",
       "AAAAABAm6gIAAAAAAACEiboAAAAAAAAAYaIuAAAAAAAAQJioCwAAAAAAABAm6gIAAAAAAACEiboA\n",
       "AAAAAAAAYaIuAAAAAAAAQJioCwAAAAAAABAm6gIAAAAAAACEiboAAAAAAAAAYaIuAAAAAAAAQJio\n",
       "CwAAAAAAABAm6gIAAAAAAACEiboAAAAAAAAAYaIuAAAAAAAAQJioCwAAAAAAABAm6gIAAAAAAACE\n",
       "iboAAAAAAAAAYaIuAAAAAAAAQJioCwAAAAAAABAm6gIAAAAAAACEiboAAAAAAAAAYaIuAAAAAAAA\n",
       "QJioCwAAAAAAABAm6gIAAAAAAACEiboAAAAAAAAAYaIuAAAAAAAAQJioCwAAAAAAABAm6gIAAAAA\n",
       "AACEiboAAAAAAAAAYaIuAAAAAAAAQJioCwAAAAAAABAm6gIAAAAAAACEiboAAAAAAAAAYaIuAAAA\n",
       "AAAAQJioCwAAAAAAABAm6gIAAAAAAACEiboAAAAAAAAAYaIuAAAAAAAAQJioCwAAAAAAABAm6gIA\n",
       "AAAAAACEiboAAAAAAAAAYaIuAAAAAAAAQJioCwAAAAAAABAm6gIAAAAAAACEiboAAAAAAAAAYaIu\n",
       "AAAAAAAAQJioCwAAAAAAABAm6gIAAAAAAACEiboAAAAAAAAAYaIuAAAAAAAAQJioCwAAAAAAABAm\n",
       "6gIAAAAAAACEiboAAAAAAAAAYaIuAAAAAAAAQJioCwAAAAAAABAm6gIAAAAAAACEiboAAAAAAAAA\n",
       "YaIuAAAAAAAAQJioCwAAAAAAABAm6gIAAAAAAACEiboAAAAAAAAAYaIuAAAAAAAAQJioCwAAAAAA\n",
       "ABAm6gIAAAAAAACEiboAAAAAAAAAYaIuAAAAAAAAQJioCwAAAAAAABAm6gIAAAAAAACEiboAAAAA\n",
       "AAAAYaIuAAAAAAAAQJioCwAAAAAAABAm6gIAAAAAAACEiboAAAAAAAAAYaIuAAAAAAAAQJioCwAA\n",
       "AAAAABAm6gIAAAAAAACEiboAAAAAAAAAYaIuAAAAAAAAQJioCwAAAAAAABAm6gIAAAAAAACEiboA\n",
       "AAAAAAAAYaIuAAAAAAAAQJioCwAAAAAAABAm6gIAAAAAAACEiboAAAAAAAAAYaIuAAAAAAAAQJio\n",
       "CwAAAAAAABAm6gIAAAAAAACEiboAAAAAAAAAYaIuAAAAAAAAQJioCwAAAAAAABAm6gIAAAAAAACE\n",
       "iboAAAAAAAAAYaIuAAAAAAAAQJioCwAAAAAAABAm6gIAAAAAAACEiboAAAAAAAAAYaIuAAAAAAAA\n",
       "QJioCwAAAAAAABAm6gIAAAAAAACEiboAAAAAAAAAYaIuAAAAAAAAQJioCwAAAAAAABAm6gIAAAAA\n",
       "AACEiboAAAAAAAAAYaIuAAAAAAAAQJioCwAAAAAAABAm6gIAAAAAAACEiboAAAAAAAAAYaIuAAAA\n",
       "AAAAQJioCwAAAAAAABAm6gIAAAAAAACEiboAAAAAAAAAYaIuAAAAAAAAQJioCwAAAAAAABAm6gIA\n",
       "AAAAAACEiboAAAAAAAAAYaIuAAAAAAAAQJioCwAAAAAAABAm6gIAAAAAAACEiboAAAAAAAAAYaIu\n",
       "AAAAAAAAQJioCwAAAAAAABAm6gIAAAAAAACEiboAAAAAAAAAYaIuAAAAAAAAQJioCwAAAAAAABAm\n",
       "6gIAAAAAAACEiboAAAAAAAAAYaIuAAAAAAAAQJioCwAAAAAAABAm6gIAAAAAAACEiboAAAAAAAAA\n",
       "YaIuAAAAAAAAQJioCwAAAAAAABAm6gIAAAAAAACEiboAAAAAAAAAYaIuAAAAAAAAQJioCwAAAAAA\n",
       "ABAm6gIAAAAAAACEiboAAAAAAAAAYaIuAAAAAAAAQJioCwAAAAAAABAm6gIAAAAAAACEiboAAAAA\n",
       "AAAAYaIuAAAAAAAAQJioCwAAAAAAABAm6gIAAAAAAACEiboAAAAAAAAAYaIuAAAAAAAAQJioCwAA\n",
       "AAAAABAm6gIAAAAAAACEiboAAAAAAAAAYaIuAAAAAAAAQJioCwAAAAAAABAm6gIAAAAAAACEiboA\n",
       "AAAAAAAAYaIuAAAAAAAAQJioCwAAAAAAABAm6gIAAAAAAACEiboAAAAAAAAAYaIuAAAAAAAAQJio\n",
       "CwAAAAAAABAm6gIAAAAAAACEiboAAAAAAAAAYaIuAAAAAAAAQJioCwAAAAAAABAm6gIAAAAAAACE\n",
       "iboAH/bt4MSKIArDaDcUgxuXRjCJGZqJGYFLNyIPygSGgXk23K/1nAj+ZVEfFwAAAAAAIEzUBQAA\n",
       "AAAAAAgTdQEAAAAAAADCRF0AAAAAAACAMFEXAAAAAAAAIEzUBQAAAAAAAAgTdQEAAAAAAADCRF0A\n",
       "AAAAAACAMFEXAAAAAAAAIEzUBQAAAAAAAAgTdQEAAAAAAADCRF0AAAAAAACAMFEXAAAAAAAAIEzU\n",
       "BQAAAAAAAAgTdQEAAAAAAADCRF0AAAAAAACAMFEXAAAAAAAAIEzUBQAAAAAAAAgTdQEAAAAAAADC\n",
       "RF0AAAAAAACAMFEXAAAAAAAAIEzUBQAAAAAAAAgTdQEAAAAAAADCRF0AAAAAAACAMFEXAAAAAAAA\n",
       "IEzUBQAAAAAAAAgTdQEAAAAAAADCRF0AAAAAAACAMFEXAAAAAAAAIEzUBQAAAAAAAAgTdQEAAAAA\n",
       "AADCRF0AAAAAAACAMFEXAAAAAAAAIEzUBQAAAAAAAAgTdQEAAAAAAADCRF0AAAAAAACAMFEXAAAA\n",
       "AAAAIEzUBQAAAAAAAAgTdQEAAAAAAADCRF0AAAAAAACAMFEXAAAAAAAAIEzUBQAAAAAAAAgTdQEA\n",
       "AAAAAADC1vQAAAAAAODvfP70Oj3hKT9/fZ+eAABwCy51AQAAAAAAAMJEXQAAAAAAAIAwURcAAAAA\n",
       "AAAgTNQFAAAAAAAACBN1AQAAAAAAAMJEXQAAAAAAAIAwURcAAAAAAAAgTNQFAAAAAAAACBN1AQAA\n",
       "AAAAAMJEXQAAAAAAAIAwURcAAAAAAAAgTNQFAAAAAAAACBN1AQAAAAAAAMJEXQAAAAAAAIAwURcA\n",
       "AAAAAAAgTNQFAAAAAAAACBN1AQAAAAAAAMJEXQAAAAAAAIAwURcAAAAAAAAgTNQFAAAAAAAACBN1\n",
       "AQAAAAAAAMJEXQAAAAAAAIAwURcAAAAAAAAgTNQFAAAAAAAACBN1AQAAAAAAAMJEXQAAAAAAAIAw\n",
       "URcAAAAAAAAgTNQFAAAAAAAACBN1AQAAAAAAAMJEXQAAAAAAAIAwURcAAAAAAAAgTNQFAAAAAAAA\n",
       "CBN1AQAAAAAAAMJEXQAAAAAAAIAwURcAAAAAAAAgTNQFAAAAAAAACBN1AQAAAAAAAMJEXQAAAAAA\n",
       "AIAwURcAAAAAAAAgTNQFAAAAAAAACBN1AQAAAAAAAMLO41h7egQAAAAAAAAAb3OpCwAAAAAAABAm\n",
       "6gIAAAAAAACEiboAAAAAAAAAYaIuAAAAAAAAQJioCwAAAAAAABAm6gIAAAAAAACEiboAAAAAAAAA\n",
       "YaIuAAAAAAAAQJioCwAAAAAAABAm6gIAAAAAAACEiboAAAAAAAAAYaIuAAAAAAAAQJioCwAAAAAA\n",
       "ABAm6gIAAAAAAACEiboAAAAAAAAAYaIuAAAAAAAAQJioCwAAAAAAABAm6gIAAAAAAACEiboAAAAA\n",
       "AAAAYaIuAAAAAAAAQJioCwAAAAAAABAm6gIAAAAAAACEiboAAAAAAAAAYaIuAAAAAAAAQJioCwAA\n",
       "AAAAABAm6gIAAAAAAACEiboAAAAAAAAAYaIuAAAAAAAAQJioCwAAAAAAABAm6gIAAAAAAACEiboA\n",
       "AAAAAAAAYaIuAAAAAAAAQJioCwAAAAAAABAm6gIAAAAAAACEiboAAAAAAAAAYaIuAAAAAAAAQJio\n",
       "CwAAAAAAABAm6gIAAAAAAACEiboAAAAAAAAAYaIuAAAAAAAAQNiaHgAAAG85z3s+Vfd+TE8AAAAA\n",
       "4B/jUhcAAAAAAAAgTNQFAAAAAAAACBN1AQAAAAAAAMJEXQAAAAAAAIAwURcAAAAAAAAgTNQFAAAA\n",
       "AAAACBN1AQAAAAAAAMJEXQAAAAAAAIAwURcAAAAAAAAgTNQFAAAAAAAACBN1AQAAAAAAAMJEXQAA\n",
       "AAAAAIAwURcAAAAAAAAgTNQFAAAAAAAACBN1AQAAAAAAAMJEXQAAAAAAAIAwURcAAAAAAAAgTNQF\n",
       "AAAAAAAACBN1AQAAAAAAAMJEXQAAAAAAAIAwURcAAAAAAAAgTNQFAAAAAAAACBN1AQAAAAAAAMJE\n",
       "XQAAAAAAAIAwURcAAAAAAAAgTNQFAAAAAAAACBN1AQAAAAAAAMJEXQAAAAAAAIAwURcAAAAAAAAg\n",
       "TNQFAAAAAAAACBN1AQAAAAAAAMJEXQAAAAAAAIAwURcAAAAAAAAgTNQFAAAAAAAACBN1AQAAAAAA\n",
       "AMJEXQAAAAAAAIAwURcAAAAAAAAgTNQFAAAAAAAACBN1AQAAAAAAAMJEXQAAAAAAAIAwURcAAAAA\n",
       "AAAg7DyOtadHAAAAAPC+8zinJ3zYPnw7AQDAFVzqAgAAAAAAAISJugAAAAAAAABhoi4AAAAAAABA\n",
       "mKgLAAAAAAAAECbqAgAAAAAAAISJugAAAAAAAABhoi4AAAAAAABAmKgLAAAAAAAAECbqAgAAAAAA\n",
       "AISJugAAAAAAAABhoi4AAAAAAABAmKgLAAAAAAAAECbqAgAAAAAAAISJugAAAAAAAABhoi4AAAAA\n",
       "AABAmKgLAAAAAAAAECbqAgAAAAAAAISJugAAAAAAAABhoi4AAAAAAABAmKgLAAAAAAAAECbqAgAA\n",
       "AAAAAISJugAAAAAAAABhoi4AAAAAAABAmKgLAAAAAAAAECbqAgAAAAAAAISJugAAAAAAAABhoi4A\n",
       "AAAAAABAmKgLAAAAAAAAECbqAgAAAAAAAISJugAAAAAAAABhoi4AAAAAAABAmKgLAAAAAAAAECbq\n",
       "AgAAAAAAAISJugAAAAAAAABhoi4AAAAAAABAmKgLAAAAAAAAECbqAgAAAAAAAISJugAAAAAAAABh\n",
       "oi4AAAAAAABAmKgLAAAAAAAAECbqAgAAAAAAAISt6QH0vawv0xM+7Pfjx/QEAAAAuNQ+9vQEAMh4\n",
       "7G/TE56yzq/TE4CbcqkLAAAAAAAAECbqAgAAAAAAAISJugAAAAAAAABhoi4AAAAAAABAmKgLAAAA\n",
       "AAAAECbqAgAAAAAAAISJugAAAAAAAABhoi4AAAAAAABAmKgLAAAAAAAAECbqAgAAAAAAAISJugAA\n",
       "AAAAAABhoi4AAAAAAABAmKgLAAAAAAAAECbqAgAAAAAAAISJugAAAAAAAABhoi4AAAAAAABAmKgL\n",
       "AAAAAAAAECbqAgAAAAAAAISJugAAAAAAAABhoi4AAAAAAABAmKgLAAAAAAAAECbqAgAAAAAAAISJ\n",
       "ugAAAAAAAABhoi4AAAAAAABAmKgLAAAAAAAAECbqAgAAAAAAAISJugAAAAAAAABhoi4AAAAAAABA\n",
       "mKgLAAAAAAAAECbqAgAAAAAAAISJugAAAAAAAABhoi4AAAAAAABAmKgLAAAAAAAAECbqAgAAAAAA\n",
       "AISJugAAAAAAAABhoi4AAAAAAABAmKgLAAAAAAAAECbqAgAAAAAAAISJugAAAAAAAABhoi4AAAAA\n",
       "AABAmKgLAAAAAAAAEHYex9rTIwAA7uKcHvAkDz4AAAAAuC+XugAAAAAAAABhoi4AAAAAAABAmKgL\n",
       "AAAAAAAAECbqAgAAAAAAAISJugAAAAAAAABhoi4AAAAAAABAmKgLAAAAAAAAECbqAgAAAAAAAISJ\n",
       "ugAAAAAAAABhoi4AAAAAAABAmKgLAAAAAAAAECbqAgAAAAAAAISJugAAAAAAAABhoi4AAAAAAABA\n",
       "mKgLAAAAAAAAECbqAgAAAAAAAISJugAAAAAAAABhoi4AAAAAAABAmKgLAAAAAAAAECbqAgAAAAAA\n",
       "AISJugAAAAAAAABhoi4AAAAAAABAmKgLAF3dv1AAABKISURBVAAAAAAAECbqAgAAAAAAAISJugAA\n",
       "AAAAAABhoi4AAAAAAABAmKgLAAAAAAAAECbqAgAAAAAAAISJugAAAAAAAABhoi4AAAAAAABAmKgL\n",
       "AAAAAAAAECbqAgAAAAAAAISJugAAAAAAAABhoi4AAAAAAABAmKgLAAAAAAAAECbqAgAAAAAAAISJ\n",
       "ugAAAAAAAABhoi4AAAAAAABAmKgLAAAAAAAAECbqAgAAAAAAAISJugAAAAAAAABha3oAAMCd7OkB\n",
       "AAAAAMB/x6UuAAAAAAAAQJioCwAAAAAAABAm6gIAAAAAAACEiboAAAAAAAAAYaIuAAAAAAAAQJio\n",
       "CwAAAAAAABAm6gIAAAAAAACEiboAAAAAAAAAYaIuAAAAAAAAQJioCwAAAAAAABAm6gIAAAAAAACE\n",
       "iboAAAAAAAAAYaIuAAAAAAAAQJioCwAAAAAAABAm6gIAAAAAAACEiboAAAAAAAAAYaIuAAAAAAAA\n",
       "QJioCwAAAAAAABAm6gIAAAAAAACEiboAAAAAAAAAYaIuAAAAAAAAQJioCwAAAAAAABAm6gIAAAAA\n",
       "AACEiboAAAAAAAAAYaIuAAAAAAAAQJioCwAAAAAAABAm6gIAAAAAAACEiboAAAAAAAAAYaIuAAAA\n",
       "AAAAQJioCwAAAAAAABAm6gIAAAAAAACEiboAAAAAAAAAYaIuAAAAAAAAQJioCwAAAAAAABAm6gIA\n",
       "AAAAAACEiboAAAAAAAAAYaIuAAAAAAAAQJioCwAAAAAAABAm6gIAAAAAAACEiboAAAAAAAAAYaIu\n",
       "AAAAAAAAQJioCwAAAAAAABAm6gIAAAAAAACEiboAAAAAAAAAYaIuAAAAAAAAQJioCwAAAAAAABAm\n",
       "6gIAAAAAAACEiboAAAAAAAAAYaIuAAAAAAAAQJioCwAAAAAAABAm6gIAAAAAAACEiboAAAAAAAAA\n",
       "YaIuAAAAAAAAQJioCwAAAAAAABAm6gIAAAAAAACEiboAAAAAAAAAYaIuAAAAAAAAQJioCwAAAAAA\n",
       "ABAm6gIAAAAAAACEiboAAAAAAAAAYaIuAAAAAAAAQJioCwAAAAAAABAm6gIAAAAAAACEiboAAAAA\n",
       "AAAAYaIuAAAAAAAAQJioCwAAAAAAABAm6gIAAAAAAACEiboAAAAAAAAAYaIuAAAAAAAAQJioCwAA\n",
       "AAAAABAm6gIAAAAAAACEiboAAAAAAAAAYaIuAAAAAAAAQJioCwAAAAAAABAm6gIAAAAAAACEiboA\n",
       "AAAAAAAAYaIuAAAAAAAAQJioCwAAAAAAABAm6gIAAAAAAACEiboAAAAAAAAAYaIuAAAAAAAAQJio\n",
       "CwAAAAAAABAm6gIAAAAAAACEiboAAAAAAAAAYaIuAAAAAAAAQJioCwAAAAAAABAm6gIAAAAAAACE\n",
       "iboAAAAAAAAAYaIuAAAAAAAAQJioCwAAAAAAABAm6gIAAAAAAACEiboAAAAAAAAAYaIuAAAAAAAA\n",
       "QJioCwAAAAAAABAm6gIAAAAAAACEiboAAAAAAAAAYaIuAAAAAAAAQJioCwAAAAAAABAm6gIAAAAA\n",
       "AACEiboAAAAAAAAAYaIuAAAAAAAAQJioCwAAAAAAABAm6gIAAAAAAACEiboAAAAAAAAAYaIuAAAA\n",
       "AAAAQJioCwAAAAAAABAm6gIAAAAAAACEiboAAAAAAAAAYaIuAAAAAAAAQJioCwAAAAAAABAm6gIA\n",
       "AAAAAACEiboAAAAAAAAAYaIuAAAAAAAAQJioCwAAAAAAABAm6gIAAAAAAACEiboAAAAAAAAAYaIu\n",
       "AAAAAAAAQJioCwAAAAAAABAm6gIAAAAAAACEiboAAAAAAAAAYaIuAAAAAAAAQJioCwAAAAAAABAm\n",
       "6gIAAAAAAACEiboAAAAAAAAAYaIuAAAAAAAAQNiaHgAAAABXO6cHPGFPDwAAACDLpS4AAAAAAABA\n",
       "mKgLAAAAAAAAECbqAgAAAAAAAISJugAAAAAAAABhoi4AAAAAAABAmKgLAAAAAAAAECbqAgAAAAAA\n",
       "AISJugAAAAAAAABhoi4AAAAAAABAmKgLAAAAAAAAECbqAgAAAAAAAISJugAAAAAAAABhoi4AAAAA\n",
       "AABAmKgLAAAAAAAAECbqAgAAAAAAAISJugAAAAAAAABhoi4AAAAAAABAmKgLAAAAAAAAECbqAgAA\n",
       "AAAAAISJugAAAAAAAABhoi4AAAAAAABAmKgLAAAAAAAAECbqAgAAAAAAAISJugAAAAAAAABhoi4A\n",
       "AAAAAABAmKgLAAAAAAAAECbqAgAAAAAAAISJugAAAAAAAABhoi4AAAAAAABAmKgLAAAAAAAAECbq\n",
       "AgAAAAAAAISJugAAAAAAAABhoi4AAAAAAABAmKgLAAAAAAAAECbqAgAAAAAAAISJugAAAAAAAABh\n",
       "oi4AAAAAAABAmKgLAAAAAAAAECbqAgAAAAAAAISJugAAAAAAAABhoi4AAAAAAABA2JoeAAAAAFfb\n",
       "0wMAAADgQi51AQAAAAAAAMJEXQAAAAAAAIAwURcAAAAAAAAgTNQFAAAAAAAACBN1AQAAAAAAAMJE\n",
       "XQAAAAAAAIAwURcAAAAAAAAgTNQFAAAAAAAACBN1AQAAAAAAAMJEXQAAAAAAAIAwURcAAAAAAAAg\n",
       "TNQFAAAAAAAACBN1AQAAAAAAAMJEXQAAAAAAAIAwURcAAAAAAAAgTNQFAAAAAAAACBN1AQAAAAAA\n",
       "AMJEXQAAAAAAAIAwURcAAAAAAAAgTNQFAAAAAAAACBN1AQAAAAAAAMJEXQAAAAAAAIAwURcAAAAA\n",
       "AAAgTNQFAAAAAAAACBN1AQAAAAAAAMJEXQAAAAAAAIAwURcAAAAAAAAgTNQFAAAAAAAACBN1AQAA\n",
       "AAAAAMJEXQAAAAAAAIAwURcAAAAAAAAgTNQFAAAAAAAACBN1AQAAAAAAAMJEXQAAAAAAAIAwURcA\n",
       "AAAAAAAgTNQFAAAAAAAACBN1AQAAAAAAAMJEXQAAAAAAAIAwURcAAAAAAAAgTNQFAAAAAAAACBN1\n",
       "AQAAAAAAAMJEXQAAAAAAAIAwURcAAAAAAAAgTNQFAAAAAAAACBN1AQAAAAAAAMJEXQAAAAAAAIAw\n",
       "URcAAAAAAAAgTNQFAAAAAAAACBN1AQAAAAAAAMJEXQAAAAAAAIAwURcAAAAAAAAgTNQFAAAAAAAA\n",
       "CBN1AQAAAAAAAMJEXQAAAAAAAIAwURcAAAAAAAAgTNQFAAAAAAAACBN1AQAAAAAAAMJEXQAAAAAA\n",
       "AIAwURcAAAAAAAAgTNQFAAAAAAAACBN1AQAAAAAAAMJEXQAAAAAAAIAwURcAAAAAAAAgTNQFAAAA\n",
       "AAAACBN1AQAAAAAAAMJEXQAAAAAAAIAwURcAAAAAAAAgTNQFAAAAAAAACBN1AQAAAAAAAMJEXQAA\n",
       "AAAAAIAwURcAAAAAAAAgTNQFAAAAAAAACBN1AQAAAAAAAMJEXQAAAAAAAIAwURcAAAAAAAAgTNQF\n",
       "AAAAAAAACBN1AQAAAAAAAMJEXQAAAAAAAIAwURcAAAAAAAAgTNQFAAAAAAAACBN1AQAAAPjTvh3b\n",
       "AAgDMBBEQMf+q1ImzABNHuluAvcvAwAAYaIuAAAAAAAAQJioCwAAAAAAABAm6gIAAAAAAACEiboA\n",
       "AAAAAAAAYaIuAAAAAAAAQJioCwAAAAAAABAm6gIAAAAAAACEiboAAAAAAAAAYaIuAAAAAAAAQJio\n",
       "CwAAAAAAABAm6gIAAAAAAACEiboAAAAAAAAAYaIuAAAAAAAAQJioCwAAAAAAABAm6gIAAAAAAACE\n",
       "iboAAAAAAAAAYaIuAAAAAAAAQJioCwAAAAAAABAm6gIAAAAAAACEiboAAAAAAAAAYaIuAAAAAAAA\n",
       "QJioCwAAAAAAABAm6gIAAAAAAACEiboAAAAAAAAAYaIuAAAAAAAAQJioCwAAAAAAABAm6gIAAAAA\n",
       "AACEiboAAAAAAAAAYaIuAAAAAAAAQJioCwAAAAAAABAm6gIAAAAAAACEiboAAAAAAAAAYaIuAAAA\n",
       "AAAAQJioCwAAAAAAABAm6gIAAAAAAACEiboAAAAAAAAAYaIuAAAAAAAAQJioCwAAAAAAABAm6gIA\n",
       "AAAAAACEiboAAAAAAAAAYaIuAAAAAAAAQJioCwAAAAAAABAm6gIAAAAAAACEiboAAAAAAAAAYaIu\n",
       "AAAAAAAAQJioCwAAAAAAABAm6gIAAAAAAACEiboAAAAAAAAAYaIuAAAAAAAAQJioCwAAAAAAABAm\n",
       "6gIAAAAAAACEiboAAAAAAAAAYaIuAAAAAAAAQJioCwAAAAAAABAm6gIAAAAAAACEiboAAAAAAAAA\n",
       "YaIuAAAAAAAAQJioCwAAAAAAABAm6gIAAAAAAACEiboAAAAAAAAAYaIuAAAAAAAAQJioCwAAAAAA\n",
       "ABAm6gIAAAAAAACEiboAAAAAAAAAYaIuAAAAAAAAQJioCwAAAAAAABAm6gIAAAAAAACEiboAAAAA\n",
       "AAAAYaIuAAAAAAAAQJioCwAAAAAAABAm6gIAAAAAAACEiboAAAAAAAAAYaIuAAAAAAAAQJioCwAA\n",
       "AAAAABAm6gIAAAAAAACEiboAAAAAAAAAYaIuAAAAAAAAQJioCwAAAAAAABAm6gIAAAAAAACEiboA\n",
       "AAAAAAAAYaIuAAAAAAAAQJioCwAAAAAAABAm6gIAAAAAAACEiboAAAAAAAAAYaIuAAAAAAAAQJio\n",
       "CwAAAAAAABAm6gIAAAAAAACEiboAAAAAAAAAYaIuAAAAAAAAQJioCwAAAAAAABAm6gIAAAAAAACE\n",
       "iboAAAAAAAAAYaIuAAAAAAAAQJioCwAAAAAAABAm6gIAAAAAAACEiboAAAAAAAAAYaIuAAAAAAAA\n",
       "QJioCwAAAAAAABAm6gIAAAAAAACEiboAAAAAAAAAYaIuAAAAAAAAQJioCwAAAAAAABAm6gIAAAAA\n",
       "AACEiboAAAAAAAAAYaIuAAAAAAAAQJioCwAAAAAAABAm6gIAAAAAAACEiboAAAAAAAAAYaIuAAAA\n",
       "AAAAQJioCwAAAAAAABAm6gIAAAAAAACEiboAAAAAAAAAYaIuAAAAAAAAQJioCwAAAAAAABAm6gIA\n",
       "AAAAAACEiboAAAAAAAAAYaIuAAAAAAAAQJioCwAAAAAAABAm6gIAAAAAAACEiboAAAAAAAAAYaIu\n",
       "AAAAAAAAQJioCwAAAAAAABAm6gIAAAAAAACEiboAAAAAAAAAYaIuAAAAAAAAQJioCwAAAAAAABAm\n",
       "6gIAAAAAAACEiboAAAAAAAAAYaIuAAAAAAAAQJioCwAAAAAAABAm6gIAAAAAAACEiboAAAAAAAAA\n",
       "YaIuAAAAAAAAQJioCwAAAAAAABAm6gIAAAAAAACEiboAAAAAAAAAYaIuAAAAAAAAQJioCwAAAAAA\n",
       "ABAm6gIAAAAAAACEiboAAAAAAAAAYaIuAAAAAAAAQJioCwAAAAAAABAm6gIAAAAAAACEiboAAAAA\n",
       "AAAAYaIuAAAAAAAAQJioCwAAAAAAABAm6gIAAAAAAACEiboAAAAAAAAAYaIuAAAAAAAAQJioCwAA\n",
       "AAAAABAm6gIAAAAAAACEiboAAAAAAAAAYaIuAAAAAAAAQJioCwAAAAAAABAm6gIAAAAAAACEiboA\n",
       "AAAAAAAAYaIuAAAAAAAAQJioCwAAAAAAABAm6gIAAAAAAACEiboAAAAAAAAAYaIuAAAAAAAAQJio\n",
       "CwAAAAAAABAm6gIAAAAAAACEiboAAAAAAAAAYaIuAAAAAAAAQJioCwAAAAAAABAm6gIAAAAAAACE\n",
       "iboAAAAAAAAAYaIuAAAAAAAAQJioCwAAAAAAABB2Hvu1esMnY9yrJ7w2t7l6AgAAAAAAAPAznroA\n",
       "AAAAAAAAYaIuAAAAAAAAQJioCwAAAAAAABAm6gIAAAAAAACEiboAAAAAAAAAYaIuAAAAAAAAQJio\n",
       "CwAAAAAAABAm6gIAAAAAAACEiboAAAAAAAAAYaIuAAAAAAAAQJioCwAAAAAAABAm6gIAAAAAAACE\n",
       "iboAAAAAAAAAYaIuAAAAAAAAQJioCwAAAAAAABAm6gIAAAAAAACEiboAAAAAAAAAYaIuAAAAAAAA\n",
       "QJioCwAAAAAAABAm6gIAAAAAAACEiboAAAAAAAAAYaIuAAAAAAAAQJioCwAAAAAAABAm6gIAAAAA\n",
       "AACEiboAAAAAAAAAYaIuAAAAAAAAQJioCwAAAAAAABAm6gIAAAAAAACEiboAAAAAAAAAYaIuAAAA\n",
       "AAAAQJioCwAAAAAAABAm6gIAAAAAAACEiboAAAAAAAAAYaIuAAAAAAAAQJioCwAAAAAAABAm6gIA\n",
       "AAAAAACEiboAAAAAAAAAYaIuAAAAAAAAQJioCwAAAAAAABAm6gIAAAAAAACEPbFtKJMTmv/IAAAA\n",
       "AElFTkSuQmCC\n",
       "\" transform=\"translate(204, 123)\"/>\n",
       "</g>\n",
       "<defs>\n",
       "  <clipPath id=\"clip093\">\n",
       "    <rect x=\"2160\" y=\"123\" width=\"73\" height=\"1301\"/>\n",
       "  </clipPath>\n",
       "</defs>\n",
       "<g clip-path=\"url(#clip093)\">\n",
       "<image width=\"72\" height=\"1300\" xlink:href=\"data:image/png;base64,\n",
       "iVBORw0KGgoAAAANSUhEUgAAAEgAAAUUCAYAAAB8mVRsAAALUklEQVR4nO3dwY3kRhBFQbaQ/lsh\n",
       "L6WtkgXKdyQPERYMHj641dWc2d+/5+/78L/+evsH+DqBgkBBoCBQmHP/fftn+DQLCgIFgYJAYe79\n",
       "8/bP8GkWFAQKAgWBgpN0sKAgUBAoCBTmekivLCgIFAQKAoW5x0N6Y0FBoCBQECg4SQcLCgIFgYJA\n",
       "wUM6WFAQKAgUBAquO4IFBYGCQEGgMI+T9MqCgkBBoCBQcN0RLCgIFAQKAoV5XHesLCgIFAQKAoV5\n",
       "zj9v/wyfZkFBoCBQECgIFFzaBwsKAgWBgkDBfVCwoCBQECgIFDykgwUFgYJAQaDguiNYUBAoCBQE\n",
       "CvNzkl5ZUBAoCBQECvMcf3B7Y0FBoCBQECg4SQcLCgIFgYJAwUk6WFAQKAgUBAre7ggWFAQKAgWB\n",
       "wvycpFcWFAQKAgWBglfwggUFgYJAQaDgJB0sKAgUBAoCBV8cBgsKAgWBgkBBoOCjRrCgIFAQKAgU\n",
       "fNQIFhQECgIFgYKTdLCgIFAQKAgU5jnn7Z/h0ywoCBQECgIFJ+lgQUGgIFAQKLiTDhYUBAoCBYGC\n",
       "h3SwoCBQECgIFObnTnplQUGgIFAQKDhJBwsKAgWBgkDB2x3BgoJAQaAgUHDdESwoCBQECgIF1x3B\n",
       "goJAQaAgUHDdESwoCBQECgIFgYJ/xYIFBYGCQEGg4FcygwUFgYJAQaDgJB0sKAgUBAoCBQ/pYEFB\n",
       "oCBQECh4SAcLCgIFgYJAwUM6WFAQKAgUBArzXA/pjQUFgYJAQaDgJB0sKAgUBAoCBQ/pYEFBoCBQ\n",
       "ECh4SAcLCgIFgYJAYZ5z3/4ZPs2CgkBBoCBQcJIOFhQECgIFgYKTdLCgIFAQKAgUBAo+agQLCgIF\n",
       "gYJAwUeNYEFBoCBQECjM4yC9sqAgUBAoCBTmuU7SGwsKAgWBgkDBSTpYUBAoCBQECh7SwYKCQEGg\n",
       "IFAYf4BqZ0FBoCBQECg4SQcLCgIFgYJAwUM6WFAQKAgUBArznN/bP8OnWVAQKAgUBApzr4f0xoKC\n",
       "QEGgIFBw3REsKAgUBAoCBdcdwYKCQEGgIFAQKMw9Gm3UCQIFgYJAwUeNYEFBoCBQECjM45vVlQUF\n",
       "gYJAQaAw10l6ZUFBoCBQECjM4056pU4QKAgUBApO0sGCgkBBoCBQcCcdLCgIFAQKAgWv4AV1gkBB\n",
       "oCBQ8ApesKAgUBAoCBTcSQcLCgIFgYJAYe7VaKNOECgIFAQKrjuCBQWBgkBBoCBQcB8ULCgIFAQK\n",
       "AoV53Aet1AkCBYGCQMFJOlhQECgIFAQKHtLBgoJAQaAgUPArmcGCgkBBoCBQ8CuZQZ0gUBAoCBT8\n",
       "V8bBgoJAQaAgUHAnHSwoCBQECgIFf3A7qBMECgIFgYLrjmBBQaAgUBAouO4IFhQECgIFgYKTdLCg\n",
       "IFAQKAgUvIIX1AkCBYGCQEGg4KNGsKAgUBAoCBRc2gcLCgIFgYJAwUk6WFAQKAgUBAr+24hgQUGg\n",
       "IFAQKPgP2II6QaAgUBAouO4IFhQECgIFgYIvDoMFBYGCQEGg4CQdLCgIFAQKAoU5HtIrCwoCBYGC\n",
       "QMGvZAZ1gkBBoCBQcN0RLCgIFAQKAgUP6WBBQaAgUBAoeLsjWFAQKAgUBAoCBR81ggUFgYJAQaDg\n",
       "IR0sKAgUBAoCBb83H9QJAgWBgkBhjkv7lQUFgYJAQaDguiNYUBAoCBQECh7SwYKCQEGgIFDwkA4W\n",
       "FAQKAgWBgj9uEiwoCBQECgIFJ+lgQUGgIFAQKHhIBwsKAgWBgkDBe9JBnSBQECgIFLwnHSwoCBQE\n",
       "CgIF1x3BgoJAQaAgUBAo+FcsWFAQKAgUBAreUQwWFAQKAgWBgpN0sKAgUBAoCBTmPh7SGwsKAgWB\n",
       "gkDBdUewoCBQECgIFFx3BAsKAgWBgkDBSTpYUBAoCBQECk7SwYKCQEGgIFBwkg4WFAQKAgWBgpN0\n",
       "sKAgUBAoCBQ8pIMFBYGCQEGgMMd70isLCgIFgYJAwUk6WFAQKAgUBAoCBd+sBgsKAgWBgkBh7n37\n",
       "R/g2CwoCBYGCQMFJOlhQECgIFAQK/gJVsKAgUBAoCBScpIMFBYGCQEGg4PWXYEFBoCBQECh4kTxY\n",
       "UBAoCBQECt7uCBYUBAoCBYGCO+lgQUGgIFAQKLiTDhYUBAoCBYGCO+lgQUGgIFAQKLjuCBYUBAoC\n",
       "BYGCQME3q8GCgkBBoCBQcB8ULCgIFAQKAgXfrAYLCgIFgYJAYc7bP8HHWVAQKAgUBApO0sGCgkBB\n",
       "oCBQ8PpLsKAgUBAoCBRcdwQLCgIFgYJAwXVHsKAgUBAoCBScpIMFBYGCQEGg4CQdLCgIFAQKAgVf\n",
       "HAYLCgIFgYJAYfxW+M6CgkBBoCBQcJIOFhQECgIFgYJAwTerwYKCQEGgIFDwzWqwoCBQECgIFJyk\n",
       "gwUFgYJAQaDgJB0sKAgUBAoChTnef1lZUBAoCBQECq47ggUFgYJAQaDguiNYUBAoCBQECk7SwYKC\n",
       "QEGgIFDwP/UGCwoCBYGCQMH/1BssKAgUBAoCBW93BAsKAgWBgkDBX6AKFhQECgIFgYK/QBUsKAgU\n",
       "BAoCBYGCb1aDBQWBgkBBoOAdxWBBQaAgUBAo+G2fYEFBoCBQECg4SQcLCgIFgYJAwTuKwYKCQEGg\n",
       "IFDwjmKwoCBQECgIFJykgwUFgYJAQaDgFbxgQUGgIFAQKPjjJsGCgkBBoCBQcN0RLCgIFAQKAgVf\n",
       "HAYLCgIFgYJAwUk6WFAQKAgUBApO0sGCgkBBoCBQECj4qBEsKAgUBAoCBQ/pYEFBoCBQECi4DwoW\n",
       "FAQKAgWBgpN0sKAgUBAoCBScpIMFBYGCQEGg4CQdLCgIFAQKAgV/3CRYUBAoCBQECv5XhGBBQaAg\n",
       "UBAouO4IFhQECgIFgcLcx1N6Y0FBoCBQECg4SQcLCgIFgYJAwReHwYKCQEGgIFDwxWGwoCBQECgI\n",
       "FAQK7oOCBQWBgkBBoOCb1WBBQaAgUBAoOEkHCwoCBYGCQMEfNwkWFAQKAgWBwhzvv6wsKAgUBAoC\n",
       "Ba+/BAsKAgWBgkBhrpP0yoKCQEGgIFBwkg4WFAQKAgWBgjvpYEFBoCBQECh4uyNYUBAoCBQECnP8\n",
       "MsvKgoJAQaAgUHDdESwoCBQECgIFgYLfmw8WFAQKAgWBgtdfggUFgYJAQaDg0j5YUBAoCBQECq47\n",
       "ggUFgYJAQaAw53HhsbGgIFAQKAgUXHcECwoCBYGCQMFDOlhQECgIFAQK7qSDBQWBgkBBoOBOOlhQ\n",
       "ECgIFAQKc35O0hsLCgIFgYJAwUk6WFAQKAgUBApzPaRXFhQECgIFgYKTdLCgIFAQKAgUBApzfv4V\n",
       "21hQECgIFAQKPmoECwoCBYGCQMGlfbCgIFAQKAgUnKSDBQWBgkBBoOAhHSwoCBQECgIFXxwGCwoC\n",
       "BYGCQGHu8+ftn+HTLCgIFAQKAgXXHcGCgkBBoCBQ8HZHsKAgUBAoCBTmXNcdGwsKAgWBgkDBSTpY\n",
       "UBAoCBQECnN8cbiyoCBQECgIFJykgwUFgYJAQaAgUPBRI1hQECgIFAQKc6+PGhsLCgIFgYJAwX1Q\n",
       "sKAgUBAoCBS8oxgsKAgUBAoCBSfpYEFBoCBQECjMdZJeWVAQKAgUBApO0sGCgkBBoCBQmOPtjpUF\n",
       "BYGCQEGg4G+5BgsKAgWBgkDBe9LBgoJAQaAgUHAnHSwoCBQECgIFJ+lgQUGgIFAQKHhIBwsKAgWB\n",
       "gkBBoOCb1WBBQaAgUBAo+KgRLCgIFAQKAoV5fLO6sqAgUBAoCBScpIMFBYGCQEGg4B3FYEFBoCBQ\n",
       "ECjM4yS9sqAgUBAoCBS83REsKAgUBAoCBV8cBgsKAgWBgkDBdUewoCBQECgIFOY+9+2f4dMsKAgU\n",
       "BAoCBdcdwYKCQEGgIFCYx0l6ZUFBoCBQECj8B4FI7TdsedWZAAAAAElFTkSuQmCC\n",
       "\" transform=\"translate(2161, 123)\"/>\n",
       "</g>\n",
       "<path clip-path=\"url(#clip090)\" d=\"M2280.7 1405.35 Q2277.09 1405.35 2275.26 1408.91 Q2273.45 1412.46 2273.45 1419.59 Q2273.45 1426.69 2275.26 1430.26 Q2277.09 1433.8 2280.7 1433.8 Q2284.33 1433.8 2286.14 1430.26 Q2287.97 1426.69 2287.97 1419.59 Q2287.97 1412.46 2286.14 1408.91 Q2284.33 1405.35 2280.7 1405.35 M2280.7 1401.65 Q2286.51 1401.65 2289.57 1406.25 Q2292.64 1410.84 2292.64 1419.59 Q2292.64 1428.31 2289.57 1432.92 Q2286.51 1437.5 2280.7 1437.5 Q2274.89 1437.5 2271.81 1432.92 Q2268.76 1428.31 2268.76 1419.59 Q2268.76 1410.84 2271.81 1406.25 Q2274.89 1401.65 2280.7 1401.65 Z\" fill=\"#000000\" fill-rule=\"evenodd\" fill-opacity=\"1\" /><path clip-path=\"url(#clip090)\" d=\"M2280.7 1265.33 Q2277.09 1265.33 2275.26 1268.89 Q2273.45 1272.43 2273.45 1279.56 Q2273.45 1286.67 2275.26 1290.24 Q2277.09 1293.78 2280.7 1293.78 Q2284.33 1293.78 2286.14 1290.24 Q2287.97 1286.67 2287.97 1279.56 Q2287.97 1272.43 2286.14 1268.89 Q2284.33 1265.33 2280.7 1265.33 M2280.7 1261.62 Q2286.51 1261.62 2289.57 1266.23 Q2292.64 1270.81 2292.64 1279.56 Q2292.64 1288.29 2289.57 1292.9 Q2286.51 1297.48 2280.7 1297.48 Q2274.89 1297.48 2271.81 1292.9 Q2268.76 1288.29 2268.76 1279.56 Q2268.76 1270.81 2271.81 1266.23 Q2274.89 1261.62 2280.7 1261.62 Z\" fill=\"#000000\" fill-rule=\"evenodd\" fill-opacity=\"1\" /><path clip-path=\"url(#clip090)\" d=\"M2300.86 1290.93 L2305.75 1290.93 L2305.75 1296.81 L2300.86 1296.81 L2300.86 1290.93 Z\" fill=\"#000000\" fill-rule=\"evenodd\" fill-opacity=\"1\" /><path clip-path=\"url(#clip090)\" d=\"M2316.74 1292.87 L2324.38 1292.87 L2324.38 1266.51 L2316.07 1268.18 L2316.07 1263.92 L2324.33 1262.25 L2329.01 1262.25 L2329.01 1292.87 L2336.65 1292.87 L2336.65 1296.81 L2316.74 1296.81 L2316.74 1292.87 Z\" fill=\"#000000\" fill-rule=\"evenodd\" fill-opacity=\"1\" /><path clip-path=\"url(#clip090)\" d=\"M2280.7 1125.31 Q2277.09 1125.31 2275.26 1128.87 Q2273.45 1132.41 2273.45 1139.54 Q2273.45 1146.65 2275.26 1150.21 Q2277.09 1153.76 2280.7 1153.76 Q2284.33 1153.76 2286.14 1150.21 Q2287.97 1146.65 2287.97 1139.54 Q2287.97 1132.41 2286.14 1128.87 Q2284.33 1125.31 2280.7 1125.31 M2280.7 1121.6 Q2286.51 1121.6 2289.57 1126.21 Q2292.64 1130.79 2292.64 1139.54 Q2292.64 1148.27 2289.57 1152.88 Q2286.51 1157.46 2280.7 1157.46 Q2274.89 1157.46 2271.81 1152.88 Q2268.76 1148.27 2268.76 1139.54 Q2268.76 1130.79 2271.81 1126.21 Q2274.89 1121.6 2280.7 1121.6 Z\" fill=\"#000000\" fill-rule=\"evenodd\" fill-opacity=\"1\" /><path clip-path=\"url(#clip090)\" d=\"M2300.86 1150.91 L2305.75 1150.91 L2305.75 1156.79 L2300.86 1156.79 L2300.86 1150.91 Z\" fill=\"#000000\" fill-rule=\"evenodd\" fill-opacity=\"1\" /><path clip-path=\"url(#clip090)\" d=\"M2319.96 1152.85 L2336.28 1152.85 L2336.28 1156.79 L2314.33 1156.79 L2314.33 1152.85 Q2317 1150.1 2321.58 1145.47 Q2326.19 1140.82 2327.37 1139.47 Q2329.61 1136.95 2330.49 1135.21 Q2331.39 1133.45 2331.39 1131.76 Q2331.39 1129.01 2329.45 1127.27 Q2327.53 1125.54 2324.43 1125.54 Q2322.23 1125.54 2319.77 1126.3 Q2317.34 1127.07 2314.57 1128.62 L2314.57 1123.89 Q2317.39 1122.76 2319.84 1122.18 Q2322.3 1121.6 2324.33 1121.6 Q2329.7 1121.6 2332.9 1124.29 Q2336.09 1126.97 2336.09 1131.46 Q2336.09 1133.59 2335.28 1135.51 Q2334.5 1137.41 2332.39 1140.01 Q2331.81 1140.68 2328.71 1143.89 Q2325.61 1147.09 2319.96 1152.85 Z\" fill=\"#000000\" fill-rule=\"evenodd\" fill-opacity=\"1\" /><path clip-path=\"url(#clip090)\" d=\"M2280.7 985.284 Q2277.09 985.284 2275.26 988.849 Q2273.45 992.391 2273.45 999.521 Q2273.45 1006.63 2275.26 1010.19 Q2277.09 1013.73 2280.7 1013.73 Q2284.33 1013.73 2286.14 1010.19 Q2287.97 1006.63 2287.97 999.521 Q2287.97 992.391 2286.14 988.849 Q2284.33 985.284 2280.7 985.284 M2280.7 981.581 Q2286.51 981.581 2289.57 986.187 Q2292.64 990.771 2292.64 999.521 Q2292.64 1008.25 2289.57 1012.85 Q2286.51 1017.44 2280.7 1017.44 Q2274.89 1017.44 2271.81 1012.85 Q2268.76 1008.25 2268.76 999.521 Q2268.76 990.771 2271.81 986.187 Q2274.89 981.581 2280.7 981.581 Z\" fill=\"#000000\" fill-rule=\"evenodd\" fill-opacity=\"1\" /><path clip-path=\"url(#clip090)\" d=\"M2300.86 1010.89 L2305.75 1010.89 L2305.75 1016.77 L2300.86 1016.77 L2300.86 1010.89 Z\" fill=\"#000000\" fill-rule=\"evenodd\" fill-opacity=\"1\" /><path clip-path=\"url(#clip090)\" d=\"M2330.1 998.132 Q2333.45 998.849 2335.33 1001.12 Q2337.23 1003.39 2337.23 1006.72 Q2337.23 1011.84 2333.71 1014.64 Q2330.19 1017.44 2323.71 1017.44 Q2321.53 1017.44 2319.22 1017 Q2316.93 1016.58 2314.47 1015.72 L2314.47 1011.21 Q2316.42 1012.34 2318.73 1012.92 Q2321.05 1013.5 2323.57 1013.5 Q2327.97 1013.5 2330.26 1011.77 Q2332.58 1010.03 2332.58 1006.72 Q2332.58 1003.66 2330.42 1001.95 Q2328.29 1000.21 2324.47 1000.21 L2320.45 1000.21 L2320.45 996.372 L2324.66 996.372 Q2328.11 996.372 2329.94 995.007 Q2331.76 993.618 2331.76 991.025 Q2331.76 988.363 2329.87 986.951 Q2327.99 985.516 2324.47 985.516 Q2322.55 985.516 2320.35 985.933 Q2318.15 986.349 2315.51 987.229 L2315.51 983.062 Q2318.18 982.322 2320.49 981.951 Q2322.83 981.581 2324.89 981.581 Q2330.21 981.581 2333.32 984.011 Q2336.42 986.419 2336.42 990.539 Q2336.42 993.409 2334.77 995.4 Q2333.13 997.368 2330.1 998.132 Z\" fill=\"#000000\" fill-rule=\"evenodd\" fill-opacity=\"1\" /><path clip-path=\"url(#clip090)\" d=\"M2280.7 845.263 Q2277.09 845.263 2275.26 848.828 Q2273.45 852.369 2273.45 859.499 Q2273.45 866.605 2275.26 870.17 Q2277.09 873.712 2280.7 873.712 Q2284.33 873.712 2286.14 870.17 Q2287.97 866.605 2287.97 859.499 Q2287.97 852.369 2286.14 848.828 Q2284.33 845.263 2280.7 845.263 M2280.7 841.559 Q2286.51 841.559 2289.57 846.165 Q2292.64 850.749 2292.64 859.499 Q2292.64 868.226 2289.57 872.832 Q2286.51 877.415 2280.7 877.415 Q2274.89 877.415 2271.81 872.832 Q2268.76 868.226 2268.76 859.499 Q2268.76 850.749 2271.81 846.165 Q2274.89 841.559 2280.7 841.559 Z\" fill=\"#000000\" fill-rule=\"evenodd\" fill-opacity=\"1\" /><path clip-path=\"url(#clip090)\" d=\"M2300.86 870.864 L2305.75 870.864 L2305.75 876.744 L2300.86 876.744 L2300.86 870.864 Z\" fill=\"#000000\" fill-rule=\"evenodd\" fill-opacity=\"1\" /><path clip-path=\"url(#clip090)\" d=\"M2328.78 846.258 L2316.97 864.707 L2328.78 864.707 L2328.78 846.258 M2327.55 842.184 L2333.43 842.184 L2333.43 864.707 L2338.36 864.707 L2338.36 868.596 L2333.43 868.596 L2333.43 876.744 L2328.78 876.744 L2328.78 868.596 L2313.18 868.596 L2313.18 864.082 L2327.55 842.184 Z\" fill=\"#000000\" fill-rule=\"evenodd\" fill-opacity=\"1\" /><path clip-path=\"url(#clip090)\" d=\"M2280.7 705.241 Q2277.09 705.241 2275.26 708.806 Q2273.45 712.347 2273.45 719.477 Q2273.45 726.583 2275.26 730.148 Q2277.09 733.69 2280.7 733.69 Q2284.33 733.69 2286.14 730.148 Q2287.97 726.583 2287.97 719.477 Q2287.97 712.347 2286.14 708.806 Q2284.33 705.241 2280.7 705.241 M2280.7 701.537 Q2286.51 701.537 2289.57 706.144 Q2292.64 710.727 2292.64 719.477 Q2292.64 728.204 2289.57 732.81 Q2286.51 737.394 2280.7 737.394 Q2274.89 737.394 2271.81 732.81 Q2268.76 728.204 2268.76 719.477 Q2268.76 710.727 2271.81 706.144 Q2274.89 701.537 2280.7 701.537 Z\" fill=\"#000000\" fill-rule=\"evenodd\" fill-opacity=\"1\" /><path clip-path=\"url(#clip090)\" d=\"M2300.86 730.843 L2305.75 730.843 L2305.75 736.722 L2300.86 736.722 L2300.86 730.843 Z\" fill=\"#000000\" fill-rule=\"evenodd\" fill-opacity=\"1\" /><path clip-path=\"url(#clip090)\" d=\"M2315.98 702.162 L2334.33 702.162 L2334.33 706.097 L2320.26 706.097 L2320.26 714.57 Q2321.28 714.222 2322.3 714.06 Q2323.32 713.875 2324.33 713.875 Q2330.12 713.875 2333.5 717.046 Q2336.88 720.218 2336.88 725.634 Q2336.88 731.213 2333.41 734.315 Q2329.94 737.394 2323.62 737.394 Q2321.44 737.394 2319.17 737.023 Q2316.93 736.653 2314.52 735.912 L2314.52 731.213 Q2316.6 732.347 2318.83 732.903 Q2321.05 733.458 2323.52 733.458 Q2327.53 733.458 2329.87 731.352 Q2332.2 729.245 2332.2 725.634 Q2332.2 722.023 2329.87 719.917 Q2327.53 717.81 2323.52 717.81 Q2321.65 717.81 2319.77 718.227 Q2317.92 718.644 2315.98 719.523 L2315.98 702.162 Z\" fill=\"#000000\" fill-rule=\"evenodd\" fill-opacity=\"1\" /><path clip-path=\"url(#clip090)\" d=\"M2280.7 565.219 Q2277.09 565.219 2275.26 568.784 Q2273.45 572.326 2273.45 579.455 Q2273.45 586.562 2275.26 590.126 Q2277.09 593.668 2280.7 593.668 Q2284.33 593.668 2286.14 590.126 Q2287.97 586.562 2287.97 579.455 Q2287.97 572.326 2286.14 568.784 Q2284.33 565.219 2280.7 565.219 M2280.7 561.516 Q2286.51 561.516 2289.57 566.122 Q2292.64 570.705 2292.64 579.455 Q2292.64 588.182 2289.57 592.789 Q2286.51 597.372 2280.7 597.372 Q2274.89 597.372 2271.81 592.789 Q2268.76 588.182 2268.76 579.455 Q2268.76 570.705 2271.81 566.122 Q2274.89 561.516 2280.7 561.516 Z\" fill=\"#000000\" fill-rule=\"evenodd\" fill-opacity=\"1\" /><path clip-path=\"url(#clip090)\" d=\"M2300.86 590.821 L2305.75 590.821 L2305.75 596.701 L2300.86 596.701 L2300.86 590.821 Z\" fill=\"#000000\" fill-rule=\"evenodd\" fill-opacity=\"1\" /><path clip-path=\"url(#clip090)\" d=\"M2326.51 577.557 Q2323.36 577.557 2321.51 579.71 Q2319.68 581.863 2319.68 585.613 Q2319.68 589.339 2321.51 591.515 Q2323.36 593.668 2326.51 593.668 Q2329.66 593.668 2331.49 591.515 Q2333.34 589.339 2333.34 585.613 Q2333.34 581.863 2331.49 579.71 Q2329.66 577.557 2326.51 577.557 M2335.79 562.904 L2335.79 567.164 Q2334.03 566.33 2332.23 565.89 Q2330.45 565.451 2328.69 565.451 Q2324.06 565.451 2321.6 568.576 Q2319.17 571.701 2318.83 578.02 Q2320.19 576.006 2322.25 574.941 Q2324.31 573.853 2326.79 573.853 Q2332 573.853 2335.01 577.025 Q2338.04 580.173 2338.04 585.613 Q2338.04 590.937 2334.89 594.154 Q2331.74 597.372 2326.51 597.372 Q2320.51 597.372 2317.34 592.789 Q2314.17 588.182 2314.17 579.455 Q2314.17 571.261 2318.06 566.4 Q2321.95 561.516 2328.5 561.516 Q2330.26 561.516 2332.04 561.863 Q2333.85 562.21 2335.79 562.904 Z\" fill=\"#000000\" fill-rule=\"evenodd\" fill-opacity=\"1\" /><path clip-path=\"url(#clip090)\" d=\"M2280.7 425.197 Q2277.09 425.197 2275.26 428.762 Q2273.45 432.304 2273.45 439.433 Q2273.45 446.54 2275.26 450.105 Q2277.09 453.646 2280.7 453.646 Q2284.33 453.646 2286.14 450.105 Q2287.97 446.54 2287.97 439.433 Q2287.97 432.304 2286.14 428.762 Q2284.33 425.197 2280.7 425.197 M2280.7 421.494 Q2286.51 421.494 2289.57 426.1 Q2292.64 430.684 2292.64 439.433 Q2292.64 448.16 2289.57 452.767 Q2286.51 457.35 2280.7 457.35 Q2274.89 457.35 2271.81 452.767 Q2268.76 448.16 2268.76 439.433 Q2268.76 430.684 2271.81 426.1 Q2274.89 421.494 2280.7 421.494 Z\" fill=\"#000000\" fill-rule=\"evenodd\" fill-opacity=\"1\" /><path clip-path=\"url(#clip090)\" d=\"M2300.86 450.799 L2305.75 450.799 L2305.75 456.679 L2300.86 456.679 L2300.86 450.799 Z\" fill=\"#000000\" fill-rule=\"evenodd\" fill-opacity=\"1\" /><path clip-path=\"url(#clip090)\" d=\"M2314.75 422.119 L2336.97 422.119 L2336.97 424.109 L2324.43 456.679 L2319.54 456.679 L2331.35 426.054 L2314.75 426.054 L2314.75 422.119 Z\" fill=\"#000000\" fill-rule=\"evenodd\" fill-opacity=\"1\" /><path clip-path=\"url(#clip090)\" d=\"M2280.7 285.176 Q2277.09 285.176 2275.26 288.74 Q2273.45 292.282 2273.45 299.412 Q2273.45 306.518 2275.26 310.083 Q2277.09 313.625 2280.7 313.625 Q2284.33 313.625 2286.14 310.083 Q2287.97 306.518 2287.97 299.412 Q2287.97 292.282 2286.14 288.74 Q2284.33 285.176 2280.7 285.176 M2280.7 281.472 Q2286.51 281.472 2289.57 286.078 Q2292.64 290.662 2292.64 299.412 Q2292.64 308.139 2289.57 312.745 Q2286.51 317.328 2280.7 317.328 Q2274.89 317.328 2271.81 312.745 Q2268.76 308.139 2268.76 299.412 Q2268.76 290.662 2271.81 286.078 Q2274.89 281.472 2280.7 281.472 Z\" fill=\"#000000\" fill-rule=\"evenodd\" fill-opacity=\"1\" /><path clip-path=\"url(#clip090)\" d=\"M2300.86 310.777 L2305.75 310.777 L2305.75 316.657 L2300.86 316.657 L2300.86 310.777 Z\" fill=\"#000000\" fill-rule=\"evenodd\" fill-opacity=\"1\" /><path clip-path=\"url(#clip090)\" d=\"M2325.93 300.245 Q2322.6 300.245 2320.68 302.027 Q2318.78 303.81 2318.78 306.935 Q2318.78 310.06 2320.68 311.842 Q2322.6 313.625 2325.93 313.625 Q2329.26 313.625 2331.19 311.842 Q2333.11 310.037 2333.11 306.935 Q2333.11 303.81 2331.19 302.027 Q2329.29 300.245 2325.93 300.245 M2321.26 298.254 Q2318.25 297.514 2316.56 295.453 Q2314.89 293.393 2314.89 290.43 Q2314.89 286.287 2317.83 283.879 Q2320.79 281.472 2325.93 281.472 Q2331.09 281.472 2334.03 283.879 Q2336.97 286.287 2336.97 290.43 Q2336.97 293.393 2335.28 295.453 Q2333.62 297.514 2330.63 298.254 Q2334.01 299.041 2335.89 301.333 Q2337.78 303.625 2337.78 306.935 Q2337.78 311.958 2334.7 314.643 Q2331.65 317.328 2325.93 317.328 Q2320.21 317.328 2317.14 314.643 Q2314.08 311.958 2314.08 306.935 Q2314.08 303.625 2315.98 301.333 Q2317.88 299.041 2321.26 298.254 M2319.54 290.87 Q2319.54 293.555 2321.21 295.06 Q2322.9 296.565 2325.93 296.565 Q2328.94 296.565 2330.63 295.06 Q2332.34 293.555 2332.34 290.87 Q2332.34 288.185 2330.63 286.68 Q2328.94 285.176 2325.93 285.176 Q2322.9 285.176 2321.21 286.68 Q2319.54 288.185 2319.54 290.87 Z\" fill=\"#000000\" fill-rule=\"evenodd\" fill-opacity=\"1\" /><path clip-path=\"url(#clip090)\" d=\"M2280.7 145.154 Q2277.09 145.154 2275.26 148.719 Q2273.45 152.26 2273.45 159.39 Q2273.45 166.496 2275.26 170.061 Q2277.09 173.603 2280.7 173.603 Q2284.33 173.603 2286.14 170.061 Q2287.97 166.496 2287.97 159.39 Q2287.97 152.26 2286.14 148.719 Q2284.33 145.154 2280.7 145.154 M2280.7 141.45 Q2286.51 141.45 2289.57 146.057 Q2292.64 150.64 2292.64 159.39 Q2292.64 168.117 2289.57 172.723 Q2286.51 177.307 2280.7 177.307 Q2274.89 177.307 2271.81 172.723 Q2268.76 168.117 2268.76 159.39 Q2268.76 150.64 2271.81 146.057 Q2274.89 141.45 2280.7 141.45 Z\" fill=\"#000000\" fill-rule=\"evenodd\" fill-opacity=\"1\" /><path clip-path=\"url(#clip090)\" d=\"M2300.86 170.756 L2305.75 170.756 L2305.75 176.635 L2300.86 176.635 L2300.86 170.756 Z\" fill=\"#000000\" fill-rule=\"evenodd\" fill-opacity=\"1\" /><path clip-path=\"url(#clip090)\" d=\"M2316.07 175.918 L2316.07 171.658 Q2317.83 172.492 2319.64 172.932 Q2321.44 173.371 2323.18 173.371 Q2327.81 173.371 2330.24 170.27 Q2332.69 167.145 2333.04 160.802 Q2331.7 162.793 2329.64 163.858 Q2327.58 164.922 2325.08 164.922 Q2319.89 164.922 2316.86 161.797 Q2313.85 158.649 2313.85 153.209 Q2313.85 147.885 2317 144.668 Q2320.14 141.45 2325.38 141.45 Q2331.37 141.45 2334.52 146.057 Q2337.69 150.64 2337.69 159.39 Q2337.69 167.561 2333.8 172.445 Q2329.94 177.307 2323.39 177.307 Q2321.63 177.307 2319.82 176.959 Q2318.01 176.612 2316.07 175.918 M2325.38 161.265 Q2328.52 161.265 2330.35 159.112 Q2332.2 156.959 2332.2 153.209 Q2332.2 149.483 2330.35 147.33 Q2328.52 145.154 2325.38 145.154 Q2322.23 145.154 2320.38 147.33 Q2318.55 149.483 2318.55 153.209 Q2318.55 156.959 2320.38 159.112 Q2322.23 161.265 2325.38 161.265 Z\" fill=\"#000000\" fill-rule=\"evenodd\" fill-opacity=\"1\" /><polyline clip-path=\"url(#clip090)\" style=\"stroke:#000000; stroke-linecap:butt; stroke-linejoin:round; stroke-width:4; stroke-opacity:1; fill:none\" points=\"\n",
       "  2232.76,1423.18 2232.76,1423.18 2256.76,1423.18 2232.76,1423.18 2232.76,1283.16 2256.76,1283.16 2232.76,1283.16 2232.76,1143.14 2256.76,1143.14 2232.76,1143.14 \n",
       "  2232.76,1003.11 2256.76,1003.11 2232.76,1003.11 2232.76,863.093 2256.76,863.093 2232.76,863.093 2232.76,723.071 2256.76,723.071 2232.76,723.071 2232.76,583.049 \n",
       "  2256.76,583.049 2232.76,583.049 2232.76,443.028 2256.76,443.028 2232.76,443.028 2232.76,303.006 2256.76,303.006 2232.76,303.006 2232.76,162.984 2256.76,162.984 \n",
       "  2232.76,162.984 2232.76,123.472 \n",
       "  \"/>\n",
       "</svg>\n"
      ]
     },
     "execution_count": 45,
     "metadata": {},
     "output_type": "execute_result"
    }
   ],
   "source": [
    "p0 = heatmap(1:42, 1:31, Array(af.bpb.beliefs[:,1,:]), xlabel=\"n\", ylabel=\"i\", title=\"x=0\")"
   ]
  },
  {
   "cell_type": "code",
   "execution_count": 46,
   "metadata": {},
   "outputs": [
    {
     "data": {
      "image/svg+xml": [
       "<?xml version=\"1.0\" encoding=\"utf-8\"?>\n",
       "<svg xmlns=\"http://www.w3.org/2000/svg\" xmlns:xlink=\"http://www.w3.org/1999/xlink\" width=\"600\" height=\"400\" viewBox=\"0 0 2400 1600\">\n",
       "<defs>\n",
       "  <clipPath id=\"clip130\">\n",
       "    <rect x=\"0\" y=\"0\" width=\"2400\" height=\"1600\"/>\n",
       "  </clipPath>\n",
       "</defs>\n",
       "<path clip-path=\"url(#clip130)\" d=\"\n",
       "M0 1600 L2400 1600 L2400 0 L0 0  Z\n",
       "  \" fill=\"#ffffff\" fill-rule=\"evenodd\" fill-opacity=\"1\"/>\n",
       "<defs>\n",
       "  <clipPath id=\"clip131\">\n",
       "    <rect x=\"480\" y=\"0\" width=\"1681\" height=\"1600\"/>\n",
       "  </clipPath>\n",
       "</defs>\n",
       "<path clip-path=\"url(#clip130)\" d=\"\n",
       "M203.964 1423.18 L2112.76 1423.18 L2112.76 123.472 L203.964 123.472  Z\n",
       "  \" fill=\"#ffffff\" fill-rule=\"evenodd\" fill-opacity=\"1\"/>\n",
       "<defs>\n",
       "  <clipPath id=\"clip132\">\n",
       "    <rect x=\"203\" y=\"123\" width=\"1910\" height=\"1301\"/>\n",
       "  </clipPath>\n",
       "</defs>\n",
       "<polyline clip-path=\"url(#clip132)\" style=\"stroke:#000000; stroke-linecap:butt; stroke-linejoin:round; stroke-width:2; stroke-opacity:0.1; fill:none\" points=\"\n",
       "  635.714,1423.18 635.714,123.472 \n",
       "  \"/>\n",
       "<polyline clip-path=\"url(#clip132)\" style=\"stroke:#000000; stroke-linecap:butt; stroke-linejoin:round; stroke-width:2; stroke-opacity:0.1; fill:none\" points=\"\n",
       "  1090.19,1423.18 1090.19,123.472 \n",
       "  \"/>\n",
       "<polyline clip-path=\"url(#clip132)\" style=\"stroke:#000000; stroke-linecap:butt; stroke-linejoin:round; stroke-width:2; stroke-opacity:0.1; fill:none\" points=\"\n",
       "  1544.66,1423.18 1544.66,123.472 \n",
       "  \"/>\n",
       "<polyline clip-path=\"url(#clip132)\" style=\"stroke:#000000; stroke-linecap:butt; stroke-linejoin:round; stroke-width:2; stroke-opacity:0.1; fill:none\" points=\"\n",
       "  1999.14,1423.18 1999.14,123.472 \n",
       "  \"/>\n",
       "<polyline clip-path=\"url(#clip130)\" style=\"stroke:#000000; stroke-linecap:butt; stroke-linejoin:round; stroke-width:4; stroke-opacity:1; fill:none\" points=\"\n",
       "  203.964,1423.18 2112.76,1423.18 \n",
       "  \"/>\n",
       "<polyline clip-path=\"url(#clip130)\" style=\"stroke:#000000; stroke-linecap:butt; stroke-linejoin:round; stroke-width:4; stroke-opacity:1; fill:none\" points=\"\n",
       "  635.714,1423.18 635.714,1404.28 \n",
       "  \"/>\n",
       "<polyline clip-path=\"url(#clip130)\" style=\"stroke:#000000; stroke-linecap:butt; stroke-linejoin:round; stroke-width:4; stroke-opacity:1; fill:none\" points=\"\n",
       "  1090.19,1423.18 1090.19,1404.28 \n",
       "  \"/>\n",
       "<polyline clip-path=\"url(#clip130)\" style=\"stroke:#000000; stroke-linecap:butt; stroke-linejoin:round; stroke-width:4; stroke-opacity:1; fill:none\" points=\"\n",
       "  1544.66,1423.18 1544.66,1404.28 \n",
       "  \"/>\n",
       "<polyline clip-path=\"url(#clip130)\" style=\"stroke:#000000; stroke-linecap:butt; stroke-linejoin:round; stroke-width:4; stroke-opacity:1; fill:none\" points=\"\n",
       "  1999.14,1423.18 1999.14,1404.28 \n",
       "  \"/>\n",
       "<path clip-path=\"url(#clip130)\" d=\"M610.402 1481.64 L618.041 1481.64 L618.041 1455.28 L609.731 1456.95 L609.731 1452.69 L617.994 1451.02 L622.67 1451.02 L622.67 1481.64 L630.309 1481.64 L630.309 1485.58 L610.402 1485.58 L610.402 1481.64 Z\" fill=\"#000000\" fill-rule=\"evenodd\" fill-opacity=\"1\" /><path clip-path=\"url(#clip130)\" d=\"M649.753 1454.1 Q646.142 1454.1 644.314 1457.66 Q642.508 1461.2 642.508 1468.33 Q642.508 1475.44 644.314 1479.01 Q646.142 1482.55 649.753 1482.55 Q653.388 1482.55 655.193 1479.01 Q657.022 1475.44 657.022 1468.33 Q657.022 1461.2 655.193 1457.66 Q653.388 1454.1 649.753 1454.1 M649.753 1450.39 Q655.564 1450.39 658.619 1455 Q661.698 1459.58 661.698 1468.33 Q661.698 1477.06 658.619 1481.67 Q655.564 1486.25 649.753 1486.25 Q643.943 1486.25 640.865 1481.67 Q637.809 1477.06 637.809 1468.33 Q637.809 1459.58 640.865 1455 Q643.943 1450.39 649.753 1450.39 Z\" fill=\"#000000\" fill-rule=\"evenodd\" fill-opacity=\"1\" /><path clip-path=\"url(#clip130)\" d=\"M1068.96 1481.64 L1085.28 1481.64 L1085.28 1485.58 L1063.34 1485.58 L1063.34 1481.64 Q1066 1478.89 1070.58 1474.26 Q1075.19 1469.61 1076.37 1468.27 Q1078.61 1465.74 1079.49 1464.01 Q1080.4 1462.25 1080.4 1460.56 Q1080.4 1457.8 1078.45 1456.07 Q1076.53 1454.33 1073.43 1454.33 Q1071.23 1454.33 1068.78 1455.09 Q1066.35 1455.86 1063.57 1457.41 L1063.57 1452.69 Q1066.39 1451.55 1068.85 1450.97 Q1071.3 1450.39 1073.34 1450.39 Q1078.71 1450.39 1081.9 1453.08 Q1085.1 1455.77 1085.1 1460.26 Q1085.1 1462.39 1084.29 1464.31 Q1083.5 1466.2 1081.39 1468.8 Q1080.81 1469.47 1077.71 1472.69 Q1074.61 1475.88 1068.96 1481.64 Z\" fill=\"#000000\" fill-rule=\"evenodd\" fill-opacity=\"1\" /><path clip-path=\"url(#clip130)\" d=\"M1105.1 1454.1 Q1101.48 1454.1 1099.66 1457.66 Q1097.85 1461.2 1097.85 1468.33 Q1097.85 1475.44 1099.66 1479.01 Q1101.48 1482.55 1105.1 1482.55 Q1108.73 1482.55 1110.54 1479.01 Q1112.36 1475.44 1112.36 1468.33 Q1112.36 1461.2 1110.54 1457.66 Q1108.73 1454.1 1105.1 1454.1 M1105.1 1450.39 Q1110.91 1450.39 1113.96 1455 Q1117.04 1459.58 1117.04 1468.33 Q1117.04 1477.06 1113.96 1481.67 Q1110.91 1486.25 1105.1 1486.25 Q1099.29 1486.25 1096.21 1481.67 Q1093.15 1477.06 1093.15 1468.33 Q1093.15 1459.58 1096.21 1455 Q1099.29 1450.39 1105.1 1450.39 Z\" fill=\"#000000\" fill-rule=\"evenodd\" fill-opacity=\"1\" /><path clip-path=\"url(#clip130)\" d=\"M1533.51 1466.95 Q1536.86 1467.66 1538.74 1469.93 Q1540.64 1472.2 1540.64 1475.53 Q1540.64 1480.65 1537.12 1483.45 Q1533.6 1486.25 1527.12 1486.25 Q1524.94 1486.25 1522.63 1485.81 Q1520.33 1485.39 1517.88 1484.54 L1517.88 1480.02 Q1519.83 1481.16 1522.14 1481.74 Q1524.45 1482.32 1526.98 1482.32 Q1531.38 1482.32 1533.67 1480.58 Q1535.98 1478.84 1535.98 1475.53 Q1535.98 1472.48 1533.83 1470.77 Q1531.7 1469.03 1527.88 1469.03 L1523.85 1469.03 L1523.85 1465.19 L1528.07 1465.19 Q1531.51 1465.19 1533.34 1463.82 Q1535.17 1462.43 1535.17 1459.84 Q1535.17 1457.18 1533.27 1455.77 Q1531.4 1454.33 1527.88 1454.33 Q1525.96 1454.33 1523.76 1454.75 Q1521.56 1455.16 1518.92 1456.04 L1518.92 1451.88 Q1521.58 1451.14 1523.9 1450.77 Q1526.24 1450.39 1528.3 1450.39 Q1533.62 1450.39 1536.72 1452.83 Q1539.83 1455.23 1539.83 1459.35 Q1539.83 1462.22 1538.18 1464.21 Q1536.54 1466.18 1533.51 1466.95 Z\" fill=\"#000000\" fill-rule=\"evenodd\" fill-opacity=\"1\" /><path clip-path=\"url(#clip130)\" d=\"M1559.5 1454.1 Q1555.89 1454.1 1554.06 1457.66 Q1552.26 1461.2 1552.26 1468.33 Q1552.26 1475.44 1554.06 1479.01 Q1555.89 1482.55 1559.5 1482.55 Q1563.14 1482.55 1564.94 1479.01 Q1566.77 1475.44 1566.77 1468.33 Q1566.77 1461.2 1564.94 1457.66 Q1563.14 1454.1 1559.5 1454.1 M1559.5 1450.39 Q1565.31 1450.39 1568.37 1455 Q1571.45 1459.58 1571.45 1468.33 Q1571.45 1477.06 1568.37 1481.67 Q1565.31 1486.25 1559.5 1486.25 Q1553.69 1486.25 1550.61 1481.67 Q1547.56 1477.06 1547.56 1468.33 Q1547.56 1459.58 1550.61 1455 Q1553.69 1450.39 1559.5 1450.39 Z\" fill=\"#000000\" fill-rule=\"evenodd\" fill-opacity=\"1\" /><path clip-path=\"url(#clip130)\" d=\"M1987.31 1455.09 L1975.5 1473.54 L1987.31 1473.54 L1987.31 1455.09 M1986.08 1451.02 L1991.96 1451.02 L1991.96 1473.54 L1996.89 1473.54 L1996.89 1477.43 L1991.96 1477.43 L1991.96 1485.58 L1987.31 1485.58 L1987.31 1477.43 L1971.71 1477.43 L1971.71 1472.92 L1986.08 1451.02 Z\" fill=\"#000000\" fill-rule=\"evenodd\" fill-opacity=\"1\" /><path clip-path=\"url(#clip130)\" d=\"M2014.62 1454.1 Q2011.01 1454.1 2009.18 1457.66 Q2007.38 1461.2 2007.38 1468.33 Q2007.38 1475.44 2009.18 1479.01 Q2011.01 1482.55 2014.62 1482.55 Q2018.26 1482.55 2020.06 1479.01 Q2021.89 1475.44 2021.89 1468.33 Q2021.89 1461.2 2020.06 1457.66 Q2018.26 1454.1 2014.62 1454.1 M2014.62 1450.39 Q2020.43 1450.39 2023.49 1455 Q2026.57 1459.58 2026.57 1468.33 Q2026.57 1477.06 2023.49 1481.67 Q2020.43 1486.25 2014.62 1486.25 Q2008.81 1486.25 2005.73 1481.67 Q2002.68 1477.06 2002.68 1468.33 Q2002.68 1459.58 2005.73 1455 Q2008.81 1450.39 2014.62 1450.39 Z\" fill=\"#000000\" fill-rule=\"evenodd\" fill-opacity=\"1\" /><path clip-path=\"url(#clip130)\" d=\"M1173.29 1546.53 L1173.29 1568.04 L1167.43 1568.04 L1167.43 1546.72 Q1167.43 1541.66 1165.46 1539.14 Q1163.48 1536.63 1159.54 1536.63 Q1154.79 1536.63 1152.06 1539.65 Q1149.32 1542.68 1149.32 1547.9 L1149.32 1568.04 L1143.43 1568.04 L1143.43 1532.4 L1149.32 1532.4 L1149.32 1537.93 Q1151.42 1534.72 1154.25 1533.13 Q1157.12 1531.54 1160.84 1531.54 Q1166.99 1531.54 1170.14 1535.36 Q1173.29 1539.14 1173.29 1546.53 Z\" fill=\"#000000\" fill-rule=\"evenodd\" fill-opacity=\"1\" /><polyline clip-path=\"url(#clip132)\" style=\"stroke:#000000; stroke-linecap:butt; stroke-linejoin:round; stroke-width:2; stroke-opacity:0.1; fill:none\" points=\"\n",
       "  203.964,1234.51 2112.76,1234.51 \n",
       "  \"/>\n",
       "<polyline clip-path=\"url(#clip132)\" style=\"stroke:#000000; stroke-linecap:butt; stroke-linejoin:round; stroke-width:2; stroke-opacity:0.1; fill:none\" points=\"\n",
       "  203.964,1024.88 2112.76,1024.88 \n",
       "  \"/>\n",
       "<polyline clip-path=\"url(#clip132)\" style=\"stroke:#000000; stroke-linecap:butt; stroke-linejoin:round; stroke-width:2; stroke-opacity:0.1; fill:none\" points=\"\n",
       "  203.964,815.252 2112.76,815.252 \n",
       "  \"/>\n",
       "<polyline clip-path=\"url(#clip132)\" style=\"stroke:#000000; stroke-linecap:butt; stroke-linejoin:round; stroke-width:2; stroke-opacity:0.1; fill:none\" points=\"\n",
       "  203.964,605.622 2112.76,605.622 \n",
       "  \"/>\n",
       "<polyline clip-path=\"url(#clip132)\" style=\"stroke:#000000; stroke-linecap:butt; stroke-linejoin:round; stroke-width:2; stroke-opacity:0.1; fill:none\" points=\"\n",
       "  203.964,395.991 2112.76,395.991 \n",
       "  \"/>\n",
       "<polyline clip-path=\"url(#clip132)\" style=\"stroke:#000000; stroke-linecap:butt; stroke-linejoin:round; stroke-width:2; stroke-opacity:0.1; fill:none\" points=\"\n",
       "  203.964,186.361 2112.76,186.361 \n",
       "  \"/>\n",
       "<polyline clip-path=\"url(#clip130)\" style=\"stroke:#000000; stroke-linecap:butt; stroke-linejoin:round; stroke-width:4; stroke-opacity:1; fill:none\" points=\"\n",
       "  203.964,1423.18 203.964,123.472 \n",
       "  \"/>\n",
       "<polyline clip-path=\"url(#clip130)\" style=\"stroke:#000000; stroke-linecap:butt; stroke-linejoin:round; stroke-width:4; stroke-opacity:1; fill:none\" points=\"\n",
       "  203.964,1234.51 220.751,1234.51 \n",
       "  \"/>\n",
       "<polyline clip-path=\"url(#clip130)\" style=\"stroke:#000000; stroke-linecap:butt; stroke-linejoin:round; stroke-width:4; stroke-opacity:1; fill:none\" points=\"\n",
       "  203.964,1024.88 220.751,1024.88 \n",
       "  \"/>\n",
       "<polyline clip-path=\"url(#clip130)\" style=\"stroke:#000000; stroke-linecap:butt; stroke-linejoin:round; stroke-width:4; stroke-opacity:1; fill:none\" points=\"\n",
       "  203.964,815.252 220.751,815.252 \n",
       "  \"/>\n",
       "<polyline clip-path=\"url(#clip130)\" style=\"stroke:#000000; stroke-linecap:butt; stroke-linejoin:round; stroke-width:4; stroke-opacity:1; fill:none\" points=\"\n",
       "  203.964,605.622 220.751,605.622 \n",
       "  \"/>\n",
       "<polyline clip-path=\"url(#clip130)\" style=\"stroke:#000000; stroke-linecap:butt; stroke-linejoin:round; stroke-width:4; stroke-opacity:1; fill:none\" points=\"\n",
       "  203.964,395.991 220.751,395.991 \n",
       "  \"/>\n",
       "<polyline clip-path=\"url(#clip130)\" style=\"stroke:#000000; stroke-linecap:butt; stroke-linejoin:round; stroke-width:4; stroke-opacity:1; fill:none\" points=\"\n",
       "  203.964,186.361 220.751,186.361 \n",
       "  \"/>\n",
       "<path clip-path=\"url(#clip130)\" d=\"M147.061 1217.23 L165.417 1217.23 L165.417 1221.17 L151.343 1221.17 L151.343 1229.64 Q152.362 1229.29 153.38 1229.13 Q154.399 1228.95 155.417 1228.95 Q161.204 1228.95 164.584 1232.12 Q167.964 1235.29 167.964 1240.7 Q167.964 1246.28 164.491 1249.39 Q161.019 1252.46 154.7 1252.46 Q152.524 1252.46 150.255 1252.09 Q148.01 1251.72 145.603 1250.98 L145.603 1246.28 Q147.686 1247.42 149.908 1247.97 Q152.13 1248.53 154.607 1248.53 Q158.612 1248.53 160.95 1246.42 Q163.288 1244.32 163.288 1240.7 Q163.288 1237.09 160.95 1234.99 Q158.612 1232.88 154.607 1232.88 Q152.732 1232.88 150.857 1233.3 Q149.005 1233.71 147.061 1234.59 L147.061 1217.23 Z\" fill=\"#000000\" fill-rule=\"evenodd\" fill-opacity=\"1\" /><path clip-path=\"url(#clip130)\" d=\"M116.668 1038.23 L124.306 1038.23 L124.306 1011.86 L115.996 1013.53 L115.996 1009.27 L124.26 1007.6 L128.936 1007.6 L128.936 1038.23 L136.575 1038.23 L136.575 1042.16 L116.668 1042.16 L116.668 1038.23 Z\" fill=\"#000000\" fill-rule=\"evenodd\" fill-opacity=\"1\" /><path clip-path=\"url(#clip130)\" d=\"M156.019 1010.68 Q152.408 1010.68 150.579 1014.25 Q148.774 1017.79 148.774 1024.92 Q148.774 1032.02 150.579 1035.59 Q152.408 1039.13 156.019 1039.13 Q159.653 1039.13 161.459 1035.59 Q163.288 1032.02 163.288 1024.92 Q163.288 1017.79 161.459 1014.25 Q159.653 1010.68 156.019 1010.68 M156.019 1006.98 Q161.829 1006.98 164.885 1011.58 Q167.964 1016.17 167.964 1024.92 Q167.964 1033.64 164.885 1038.25 Q161.829 1042.83 156.019 1042.83 Q150.209 1042.83 147.13 1038.25 Q144.075 1033.64 144.075 1024.92 Q144.075 1016.17 147.13 1011.58 Q150.209 1006.98 156.019 1006.98 Z\" fill=\"#000000\" fill-rule=\"evenodd\" fill-opacity=\"1\" /><path clip-path=\"url(#clip130)\" d=\"M117.663 828.597 L125.302 828.597 L125.302 802.231 L116.992 803.898 L116.992 799.639 L125.255 797.972 L129.931 797.972 L129.931 828.597 L137.57 828.597 L137.57 832.532 L117.663 832.532 L117.663 828.597 Z\" fill=\"#000000\" fill-rule=\"evenodd\" fill-opacity=\"1\" /><path clip-path=\"url(#clip130)\" d=\"M147.061 797.972 L165.417 797.972 L165.417 801.907 L151.343 801.907 L151.343 810.379 Q152.362 810.032 153.38 809.87 Q154.399 809.685 155.417 809.685 Q161.204 809.685 164.584 812.856 Q167.964 816.027 167.964 821.444 Q167.964 827.023 164.491 830.125 Q161.019 833.203 154.7 833.203 Q152.524 833.203 150.255 832.833 Q148.01 832.463 145.603 831.722 L145.603 827.023 Q147.686 828.157 149.908 828.713 Q152.13 829.268 154.607 829.268 Q158.612 829.268 160.95 827.162 Q163.288 825.055 163.288 821.444 Q163.288 817.833 160.95 815.727 Q158.612 813.62 154.607 813.62 Q152.732 813.62 150.857 814.037 Q149.005 814.453 147.061 815.333 L147.061 797.972 Z\" fill=\"#000000\" fill-rule=\"evenodd\" fill-opacity=\"1\" /><path clip-path=\"url(#clip130)\" d=\"M119.885 618.967 L136.204 618.967 L136.204 622.902 L114.26 622.902 L114.26 618.967 Q116.922 616.212 121.505 611.582 Q126.112 606.93 127.292 605.587 Q129.538 603.064 130.417 601.328 Q131.32 599.569 131.32 597.879 Q131.32 595.124 129.376 593.388 Q127.455 591.652 124.353 591.652 Q122.154 591.652 119.7 592.416 Q117.269 593.18 114.492 594.731 L114.492 590.008 Q117.316 588.874 119.769 588.295 Q122.223 587.717 124.26 587.717 Q129.63 587.717 132.825 590.402 Q136.019 593.087 136.019 597.578 Q136.019 599.707 135.209 601.629 Q134.422 603.527 132.316 606.119 Q131.737 606.791 128.635 610.008 Q125.533 613.203 119.885 618.967 Z\" fill=\"#000000\" fill-rule=\"evenodd\" fill-opacity=\"1\" /><path clip-path=\"url(#clip130)\" d=\"M156.019 591.42 Q152.408 591.42 150.579 594.985 Q148.774 598.527 148.774 605.656 Q148.774 612.763 150.579 616.328 Q152.408 619.869 156.019 619.869 Q159.653 619.869 161.459 616.328 Q163.288 612.763 163.288 605.656 Q163.288 598.527 161.459 594.985 Q159.653 591.42 156.019 591.42 M156.019 587.717 Q161.829 587.717 164.885 592.323 Q167.964 596.907 167.964 605.656 Q167.964 614.383 164.885 618.99 Q161.829 623.573 156.019 623.573 Q150.209 623.573 147.13 618.99 Q144.075 614.383 144.075 605.656 Q144.075 596.907 147.13 592.323 Q150.209 587.717 156.019 587.717 Z\" fill=\"#000000\" fill-rule=\"evenodd\" fill-opacity=\"1\" /><path clip-path=\"url(#clip130)\" d=\"M120.88 409.336 L137.2 409.336 L137.2 413.271 L115.256 413.271 L115.256 409.336 Q117.918 406.582 122.501 401.952 Q127.107 397.299 128.288 395.957 Q130.533 393.434 131.413 391.698 Q132.316 389.938 132.316 388.248 Q132.316 385.494 130.371 383.758 Q128.45 382.022 125.348 382.022 Q123.149 382.022 120.695 382.786 Q118.265 383.549 115.487 385.1 L115.487 380.378 Q118.311 379.244 120.765 378.665 Q123.218 378.086 125.255 378.086 Q130.626 378.086 133.82 380.772 Q137.015 383.457 137.015 387.948 Q137.015 390.077 136.204 391.998 Q135.417 393.897 133.311 396.489 Q132.732 397.16 129.63 400.378 Q126.529 403.572 120.88 409.336 Z\" fill=\"#000000\" fill-rule=\"evenodd\" fill-opacity=\"1\" /><path clip-path=\"url(#clip130)\" d=\"M147.061 378.711 L165.417 378.711 L165.417 382.647 L151.343 382.647 L151.343 391.119 Q152.362 390.772 153.38 390.61 Q154.399 390.424 155.417 390.424 Q161.204 390.424 164.584 393.596 Q167.964 396.767 167.964 402.184 Q167.964 407.762 164.491 410.864 Q161.019 413.943 154.7 413.943 Q152.524 413.943 150.255 413.572 Q148.01 413.202 145.603 412.461 L145.603 407.762 Q147.686 408.897 149.908 409.452 Q152.13 410.008 154.607 410.008 Q158.612 410.008 160.95 407.901 Q163.288 405.795 163.288 402.184 Q163.288 398.572 160.95 396.466 Q158.612 394.36 154.607 394.36 Q152.732 394.36 150.857 394.776 Q149.005 395.193 147.061 396.073 L147.061 378.711 Z\" fill=\"#000000\" fill-rule=\"evenodd\" fill-opacity=\"1\" /><path clip-path=\"url(#clip130)\" d=\"M130.024 185.007 Q133.38 185.725 135.255 187.993 Q137.154 190.262 137.154 193.595 Q137.154 198.711 133.635 201.512 Q130.117 204.313 123.635 204.313 Q121.459 204.313 119.144 203.873 Q116.853 203.456 114.399 202.6 L114.399 198.086 Q116.343 199.22 118.658 199.799 Q120.973 200.377 123.496 200.377 Q127.894 200.377 130.186 198.641 Q132.501 196.905 132.501 193.595 Q132.501 190.539 130.348 188.826 Q128.218 187.09 124.399 187.09 L120.371 187.09 L120.371 183.248 L124.584 183.248 Q128.033 183.248 129.862 181.882 Q131.691 180.493 131.691 177.901 Q131.691 175.239 129.792 173.827 Q127.917 172.391 124.399 172.391 Q122.478 172.391 120.279 172.808 Q118.08 173.225 115.441 174.104 L115.441 169.938 Q118.103 169.197 120.418 168.827 Q122.755 168.456 124.816 168.456 Q130.14 168.456 133.242 170.887 Q136.343 173.294 136.343 177.414 Q136.343 180.285 134.7 182.276 Q133.056 184.243 130.024 185.007 Z\" fill=\"#000000\" fill-rule=\"evenodd\" fill-opacity=\"1\" /><path clip-path=\"url(#clip130)\" d=\"M156.019 172.16 Q152.408 172.16 150.579 175.725 Q148.774 179.266 148.774 186.396 Q148.774 193.502 150.579 197.067 Q152.408 200.609 156.019 200.609 Q159.653 200.609 161.459 197.067 Q163.288 193.502 163.288 186.396 Q163.288 179.266 161.459 175.725 Q159.653 172.16 156.019 172.16 M156.019 168.456 Q161.829 168.456 164.885 173.063 Q167.964 177.646 167.964 186.396 Q167.964 195.123 164.885 199.729 Q161.829 204.313 156.019 204.313 Q150.209 204.313 147.13 199.729 Q144.075 195.123 144.075 186.396 Q144.075 177.646 147.13 173.063 Q150.209 168.456 156.019 168.456 Z\" fill=\"#000000\" fill-rule=\"evenodd\" fill-opacity=\"1\" /><path clip-path=\"url(#clip130)\" d=\"M28.3562 776.254 L28.3562 770.398 L64.0042 770.398 L64.0042 776.254 L28.3562 776.254 M14.479 776.254 L14.479 770.398 L21.895 770.398 L21.895 776.254 L14.479 776.254 Z\" fill=\"#000000\" fill-rule=\"evenodd\" fill-opacity=\"1\" /><path clip-path=\"url(#clip130)\" d=\"M1120.83 27.2059 L1104.42 49.2833 L1121.68 72.576 L1112.89 72.576 L1099.68 54.752 L1086.48 72.576 L1077.69 72.576 L1095.31 48.8377 L1079.18 27.2059 L1087.98 27.2059 L1100.01 43.369 L1112.04 27.2059 L1120.83 27.2059 Z\" fill=\"#000000\" fill-rule=\"evenodd\" fill-opacity=\"1\" /><path clip-path=\"url(#clip130)\" d=\"M1133.18 34.9026 L1185.12 34.9026 L1185.12 41.7081 L1133.18 41.7081 L1133.18 34.9026 M1133.18 51.4303 L1185.12 51.4303 L1185.12 58.3168 L1133.18 58.3168 L1133.18 51.4303 Z\" fill=\"#000000\" fill-rule=\"evenodd\" fill-opacity=\"1\" /><path clip-path=\"url(#clip130)\" d=\"M1204.2 65.6895 L1217.56 65.6895 L1217.56 19.5497 L1203.02 22.4663 L1203.02 15.0127 L1217.48 12.096 L1225.67 12.096 L1225.67 65.6895 L1239.03 65.6895 L1239.03 72.576 L1204.2 72.576 L1204.2 65.6895 Z\" fill=\"#000000\" fill-rule=\"evenodd\" fill-opacity=\"1\" /><g clip-path=\"url(#clip132)\">\n",
       "<image width=\"1909\" height=\"1300\" xlink:href=\"data:image/png;base64,\n",
       "iVBORw0KGgoAAAANSUhEUgAAB3UAAAUUCAYAAADIr0hnAAAgAElEQVR4nOzbsa0kZRBG0b+HXiRw\n",
       "IA6yIJNBwsQkDExMJCYTsiAOcEBih9cbwWrVszzqwpwTweeVcVXbWvuxAAAAAAAAAEi6TA8AAAAA\n",
       "AAAA4P1EXQAAAAAAAIAwURcAAAAAAAAgTNQFAAAAAAAACBN1AQAAAAAAAMJEXQAAAAAAAIAwURcA\n",
       "AAAAAAAgTNQFAAAAAAAACBN1AQAAAAAAAMJEXQAAAAAAAIAwURcAAAAAAAAgTNQFAAAAAAAACBN1\n",
       "AQAAAAAAAMJEXQAAAAAAAIAwURcAAAAAAAAgTNQFAAAAAAAACBN1AQAAAAAAAMJEXQAAAAAAAIAw\n",
       "URcAAAAAAAAgTNQFAAAAAAAACBN1AQAAAAAAAMJEXQAAAAAAAIAwURcAAAAAAAAgTNQFAAAAAAAA\n",
       "CBN1AQAAAAAAAMJEXQAAAAAAAIAwURcAAAAAAAAgTNQFAAAAAAAACBN1AQAAAAAAAMJEXQAAAAAA\n",
       "AIAwURcAAAAAAAAgTNQFAAAAAAAACBN1AQAAAAAAAMJEXQAAAAAAAIAwURcAAAAAAAAgTNQFAAAA\n",
       "AAAACBN1AQAAAAAAAMJEXQAAAAAAAIAwURcAAAAAAAAgTNQFAAAAAAAACBN1AQAAAAAAAMJEXQAA\n",
       "AAAAAIAwURcAAAAAAAAgTNQFAAAAAAAACBN1AQAAAAAAAMJEXQAAAAAAAIAwURcAAAAAAAAgTNQF\n",
       "AAAAAAAACBN1AQAAAAAAAMJEXQAAAAAAAIAwURcAAAAAAAAgTNQFAAAAAAAACBN1AQAAAAAAAMJE\n",
       "XQAAAAAAAIAwURcAAAAAAAAgTNQFAAAAAAAACBN1AQAAAAAAAMJEXQAAAAAAAIAwURcAAAAAAAAg\n",
       "TNQFAAAAAAAACBN1AQAAAAAAAMJEXQAAAAAAAIAwURcAAAAAAAAgTNQFAAAAAAAACBN1AQAAAAAA\n",
       "AMJEXQAAAAAAAIAwURcAAAAAAAAgTNQFAAAAAAAACBN1AQAAAAAAAMJEXQAAAAAAAIAwURcAAAAA\n",
       "AAAgTNQFAAAAAAAACBN1AQAAAAAAAMJEXQAAAAAAAIAwURcAAAAAAAAgTNQFAAAAAAAACBN1AQAA\n",
       "AAAAAMJEXQAAAAAAAIAwURcAAAAAAAAgTNQFAAAAAAAACBN1AQAAAAAAAMJEXQAAAAAAAIAwURcA\n",
       "AAAAAAAgbJ8e8KhtbdMTTjvWMT0BAAAAAAAA+I/xqQsAAAAAAAAQJuoCAAAAAAAAhIm6AAAAAAAA\n",
       "AGGiLgAAAAAAAECYqAsAAAAAAAAQJuoCAAAAAAAAhIm6AAAAAAAAAGGiLgAAAAAAAECYqAsAAAAA\n",
       "AAAQJuoCAAAAAAAAhIm6AAAAAAAAAGGiLgAAAAAAAECYqAsAAAAAAAAQJuoCAAAAAAAAhIm6AAAA\n",
       "AAAAAGGiLgAAAAAAAECYqAsAAAAAAAAQJuoCAAAAAAAAhIm6AAAAAAAAAGGiLgAAAAAAAECYqAsA\n",
       "AAAAAAAQJuoCAAAAAAAAhIm6AAAAAAAAAGGiLgAAAAAAAECYqAsAAAAAAAAQJuoCAAAAAAAAhIm6\n",
       "AAAAAAAAAGGiLgAAAAAAAECYqAsAAAAAAAAQJuoCAAAAAAAAhIm6AAAAAAAAAGGiLgAAAAAAAECY\n",
       "qAsAAAAAAAAQJuoCAAAAAAAAhIm6AAAAAAAAAGGiLgAAAAAAAECYqAsAAAAAAAAQJuoCAAAAAAAA\n",
       "hIm6AAAAAAAAAGGiLgAAAAAAAECYqAsAAAAAAAAQtk8PeNSxjukJAJCxTQ94kGsOAAAAAPBhPnUB\n",
       "AAAAAAAAwkRdAAAAAAAAgDBRFwAAAAAAACBM1AUAAAAAAAAIE3UBAAAAAAAAwkRdAAAAAAAAgDBR\n",
       "FwAAAAAAACBM1AUAAAAAAAAIE3UBAAAAAAAAwkRdAAAAAAAAgDBRFwAAAAAAACBM1AUAAAAAAAAI\n",
       "E3UBAAAAAAAAwkRdAAAAAAAAgDBRFwAAAAAAACBM1AUAAAAAAAAIE3UBAAAAAAAAwkRdAAAAAAAA\n",
       "gDBRFwAAAAAAACBM1AUAAAAAAAAIE3UBAAAAAAAAwkRdAAAAAAAAgDBRFwAAAAAAACBM1AUAAAAA\n",
       "AAAIE3UBAAAAAAAAwkRdAAAAAAAAgDBRFwAAAAAAACBM1AUAAAAAAAAIE3UBAAAAAAAAwkRdAAAA\n",
       "AAAAgDBRFwAAAAAAACBM1AUAAAAAAAAIE3UBAAAAAAAAwkRdAAAAAAAAgDBRFwAAAAAAACBM1AUA\n",
       "AAAAAAAIE3UBAAAAAAAAwkRdAAAAAAAAgDBRFwAAAAAAACBM1AUAAAAAAAAIE3UBAAAAAAAAwvbp\n",
       "AQDAxzumBwAAT+uPX7+ennDa51/9Mj0BAADgFJ+6AAAAAAAAAGGiLgAAAAAAAECYqAsAAAAAAAAQ\n",
       "JuoCAAAAAAAAhIm6AAAAAAAAAGGiLgAAAAAAAECYqAsAAAAAAAAQJuoCAAAAAAAAhIm6AAAAAAAA\n",
       "AGGiLgAAAAAAAECYqAsAAAAAAAAQJuoCAAAAAAAAhIm6AAAAAAAAAGGiLgAAAAAAAECYqAsAAAAA\n",
       "AAAQJuoCAAAAAAAAhIm6AAAAAAAAAGGiLgAAAAAAAECYqAsAAAAAAAAQJuoCAAAAAAAAhIm6AAAA\n",
       "AAAAAGGiLgAAAAAAAECYqAsAAAAAAAAQJuoCAAAAAAAAhIm6AAAAAAAAAGGiLgAAAAAAAECYqAsA\n",
       "AAAAAAAQJuoCAAAAAAAAhIm6AAAAAAAAAGGiLgAAAAAAAECYqAsAAAAAAAAQJuoCAAAAAAAAhIm6\n",
       "AAAAAAAAAGGiLgAAAAAAAECYqAsAAAAAAAAQJuoCAAAAAAAAhIm6AAAAAAAAAGGiLgAAAAAAAECY\n",
       "qAsAAAAAAAAQJuoCAAAAAAAAhIm6AAAAAAAAAGHbWvsxPeIRf779cXrCaZ+9+W56AgAAAAAAr+T3\n",
       "376fnvCQL778YXoCAB/gUxcAAAAAAAAgTNQFAAAAAAAACBN1AQAAAAAAAMJEXQAAAAAAAIAwURcA\n",
       "AAAAAAAgTNQFAAAAAAAACBN1AQAAAAAAAMJEXQAAAAAAAIAwURcAAAAAAAAgTNQFAAAAAAAACBN1\n",
       "AQAAAAAAAMJEXQAAAAAAAIAwURcAAAAAAAAgTNQFAAAAAAAACBN1AQAAAAAAAMJEXQAAAAAAAIAw\n",
       "URcAAAAAAAAgTNQFAAAAAAAACBN1AQAAAAAAAMJEXQAAAAAAAIAwURcAAAAAAAAgTNQFAAAAAAAA\n",
       "CBN1AQAAAAAAAMJEXQAAAAAAAIAwURcAAAAAAAAgTNQFAAAAAAAACBN1AQAAAAAAAMJEXQAAAAAA\n",
       "AIAwURcAAAAAAAAgTNQFAAAAAAAACBN1AQAAAAAAAMJEXQAAAAAAAIAwURcAAAAAAAAgTNQFAAAA\n",
       "AAAACBN1AQAAAAAAAMJEXQAAAAAAAIAwURcAAAAAAAAgTNQFAAAAAAAACBN1AQAAAAAAAMJEXQAA\n",
       "AAAAAIAwURcAAAAAAAAgbFtrP6ZHAAAf56+/f5qe8JBPP/l2egIAAAAAQJ5PXQAAAAAAAIAwURcA\n",
       "AAAAAAAgTNQFAAAAAAAACBN1AQAAAAAAAMJEXQAAAAAAAIAwURcAAAAAAAAgTNQFAAAAAAAACBN1\n",
       "AQAAAAAAAMJEXQAAAAAAAIAwURcAAAAAAAAgTNQFAAAAAAAACBN1AQAAAAAAAMJEXQAAAAAAAIAw\n",
       "URcAAAAAAAAgTNQFAAAAAAAACBN1AQAAAAAAAMJEXQAAAAAAAIAwURcAAAAAAAAgTNQFAAAAAAAA\n",
       "CBN1AQAAAAAAAMJEXQAAAAAAAIAwURcAAAAAAAAgTNQFAAAAAAAACBN1AQAAAAAAAMJEXQAAAAAA\n",
       "AIAwURcAAAAAAAAgTNQFAAAAAAAACBN1AQAAAAAAAMJEXQAAAAAAAIAwURcAAAAAAAAgTNQFAAAA\n",
       "AAAACBN1AQAAAAAAAMJEXQAAAAAAAIAwURcAAAAAAAAgTNQFAAAAAAAACBN1AQAAAAAAAMJEXQAA\n",
       "AAAAAIAwURcAAAAAAAAgTNQFAAAAAAAACBN1AQAAAAAAAMJEXQAAAAAAAICwba39mB4BAAAA/6S3\n",
       "Lz9PTzjtzeWb6QkAAABE+dQFAAAAAAAACBN1AQAAAAAAAMJEXQAAAAAAAIAwURcAAAAAAAAgTNQF\n",
       "AAAAAAAACBN1AQAAAAAAAMJEXQAAAAAAAIAwURcAAAAAAAAgTNQFAAAAAAAACBN1AQAAAAAAAMJE\n",
       "XQAAAAAAAIAwURcAAAAAAAAgTNQFAAAAAAAACBN1AQAAAAAAAMJEXQAAAAAAAIAwURcAAAAAAAAg\n",
       "TNQFAAAAAAAACBN1AQAAAAAAAMJEXQAAAAAAAIAwURcAAAAAAAAgTNQFAAAAAAAACBN1AQAAAAAA\n",
       "AMJEXQAAAAAAAIAwURcAAAAAAAAgTNQFAAAAAAAACBN1AQAAAAAAAMJEXQAAAAAAAIAwURcAAAAA\n",
       "AAAgTNQFAAAAAAAACBN1AQAAAAAAAMJEXQAAAAAAAIAwURcAAAAAAAAgTNQFAAAAAAAACBN1AQAA\n",
       "AAAAAMJEXQAAAAAAAIAwURcAAAAAAAAgTNQFAAAAAAAACBN1AQAAAAAAAMJEXQAAAAAAAIAwURcA\n",
       "AAAAAAAgTNQFAAAAAAAACNvW2o/pEQAAAAAAvJ77y216wmn75To9AQAyfOoCAAAAAAAAhIm6AAAA\n",
       "AAAAAGGiLgAAAAAAAECYqAsAAAAAAAAQJuoCAAAAAAAAhIm6AAAAAAAAAGGiLgAAAAAAAECYqAsA\n",
       "AAAAAAAQJuoCAAAAAAAAhIm6AAAAAAAAAGGiLgAAAAAAAECYqAsAAAAAAAAQJuoCAAAAAAAAhIm6\n",
       "AAAAAAAAAGGiLgAAAAAAAECYqAsAAAAAAAAQJuoCAAAAAAAAhIm6AAAAAAAAAGGiLgAAAAAAAECY\n",
       "qAsAAAAAAAAQJuoCAAAAAAAAhIm6AAAAAAAAAGGiLgAAAAAAAECYqAsAAAAAAAAQJuoCAAAAAAAA\n",
       "hIm6AAAAAAAAAGGiLgAAAAAAAECYqAsAAAAAAAAQJuoCAAAAAAAAhIm6AAAAAAAAAGGiLgAAAAAA\n",
       "AECYqAsAAAAAAAAQJuoCAAAAAAAAhIm6AAAAAAAAAGGiLgAAAAAAAECYqAsAAAAAAAAQJuoCAAAA\n",
       "AAAAhIm6AAAAAAAAAGGiLgAAAAAAAECYqAsAAAAAAAAQJuoCAAAAAAAAhG1r7cf0CAD+v+4vt+kJ\n",
       "p+2X6/QEAAAAAABeyf24TU84zacuAAAAAAAAQJioCwAAAAAAABAm6gIAAAAAAACEiboAAAAAAAAA\n",
       "YaIuAAAAAAAAQJioCwAAAAAAABAm6gIAAAAAAACEiboAAAAAAAAAYaIuAAAAAAAAQJioCwAAAAAA\n",
       "ABAm6gIAAAAAAACEiboAAAAAAAAAYaIuAAAAAAAAQJioCwAAAAAAABAm6gIAAAAAAACEiboAAAAA\n",
       "AAAAYaIuAAAAAAAAQJioCwAAAAAAABAm6gIAAAAAAACEiboAAAAAAAAAYaIuAAAAAAAAQJioCwAA\n",
       "AAAAABAm6gIAAAAAAACEiboAAAAAAAAAYaIuAAAAAAAAQJioCwAAAAAAABAm6gIAAAAAAACEiboA\n",
       "AAAAAAAAYaIuAAAAAAAAQJioCwAAAAAAABAm6gIAAAAAAACEiboAAAAAAAAAYaIuAAAAAAAAQJio\n",
       "CwAAAAAAABAm6gIAAAAAAACEiboAAAAAAAAAYaIuAAAAAAAAQJioCwAAAAAAABAm6gIAAAAAAACE\n",
       "iboAAAAAAAAAYaIuAAAAAAAAQNi21n5MjwAAAHgG9+M2PeEh+3adngAAAABPzacuAAAAAAAAQJio\n",
       "CwAAAAAAABAm6gIAAAAAAACEiboAAAAAAAAAYaIuAAAAAAAAQJioCwAAAAAAABAm6gIAAAAAAACE\n",
       "iboAAAAAAAAAYaIuAAAAAAAAQJioCwAAAAAAABAm6gIAAAAAAACEiboAAAAAAAAAYaIuAAAAAAAA\n",
       "QJioCwAAAAAAABAm6gIAAAAAAACEiboAAAAAAAAAYaIuAAAAAAAAQJioCwAAAAAAABAm6gIAAAAA\n",
       "AACEiboAAAAAAAAAYaIuAAAAAAAAQJioCwAAAAAAABAm6gIAAAAAAACEiboAAAAAAAAAYaIuAAAA\n",
       "AAAAQJioCwAAAAAAABAm6gIAAAAAAACEiboAAAAAAAAAYaIuAAAAAAAAQJioCwAAAAAAABAm6gIA\n",
       "AAAAAACEiboAAAAAAAAAYaIuAAAAAAAAQJioCwAAAAAAABAm6gIAAAAAAACEiboAAAAAAAAAYaIu\n",
       "AAAAAAAAQJioCwAAAAAAABAm6gIAAAAAAACEiboAAAAAAAAAYaIuAAAAAAAAQNi21n5MjwAAAAAA\n",
       "ns/95TY94bT9cp2eAAA8IZ+6AAAAAAAAAGGiLgAAAAAAAECYqAsAAAAAAAAQJuoCAAAAAAAAhIm6\n",
       "AAAAAAAAAGGiLgAAAAAAAECYqAsAAAAAAAAQJuoCAAAAAAAAhIm6AAAAAAAAAGGiLgAAAAAAAECY\n",
       "qAsAAAAAAAAQJuoCAAAAAAAAhIm6AAAAAAAAAGGiLgAAAAAAAECYqAsAAAAAAAAQJuoCAAAAAAAA\n",
       "hIm6AAAAAAAAAGGiLgAAAAAAAECYqAsAAAAAAAAQJuoCAAAAAAAAhIm6AAAAAAAAAGGiLgAAAAAA\n",
       "AECYqAsAAAAAAAAQJuoCAAAAAAAAhIm6AAAAAAAAAGGiLgAAAAAAAECYqAsAAAAAAAAQJuoCAAAA\n",
       "AAAAhIm6AAAAAAAAAGGiLgAAAAAAAECYqAsAAAAAAAAQJuoCAAAAAAAAhIm6AAAAAAAAAGGiLgAA\n",
       "AAAAAECYqAsAAAAAAAAQJuoCAAAAAAAAhIm6AAAAAAAAAGGiLgAAAAAAAECYqAsAAAAAAAAQJuoC\n",
       "AAAAAAAAhIm6AAAAAAAAAGHbWvsxPQLg33Y/btMTTtu36/QEAAAAAABeyf3lNj3hIfvlOj3hKfjU\n",
       "BQAAAAAAAAgTdQEAAAAAAADCRF0AAAAAAACAMFEXAAAAAAAAIEzUBQAAAAAAAAgTdQEAAAAAAADC\n",
       "RF0AAAAAAACAMFEXAAAAAAAAIEzUBQAAAAAAAAgTdQEAAAAAAADCRF0AAAAAAACAMFEXAAAAAAAA\n",
       "IEzUBQAAAAAAAAgTdQEAAAAAAADCRF0AAAAAAACAMFEXAAAAAAAAIEzUBQAAAAAAAAgTdQEAAAAA\n",
       "AADCRF0AAAAAAACAMFEXAAAAAAAAIEzUBQAAAAAAAAgTdQEAAAAAAADCRF0AAAAAAACAMFEXAAAA\n",
       "AAAAIEzUBQAAAAAAAAgTdQEAAAAAAADCRF0AAAAAAACAMFEXAAAAAAAAIEzUBQAAAAAAAAgTdQEA\n",
       "AAAAAADCRF0AAAAAAACAMFEXAAAAAAAAIEzUBQAAAAAAAAgTdQEAAAAAAADCRF0AAAAAAACAMFEX\n",
       "AADgHfv2jxtXFYdh+NzxtS0oaMnyTBKlA4l9INEDCU7NtijoEEiA/G8uBQuAGTI5r+3nWcFXnOJI\n",
       "r34AAAAAYaIuAAAAAAAAQJioCwAAAAAAABAm6gIAAAAAAACEiboAAAAAAAAAYaIuAAAAAAAAQNgy\n",
       "xrrNHgEAAMzz+y9Xsycc5bMX17MnAAAAAHwULnUBAAAAAAAAwkRdAAAAAAAAgDBRFwAAAAAAACBM\n",
       "1AUAAAAAAAAIE3UBAAAAAAAAwkRdAAAAAAAAgDBRFwAAAAAAACBM1AUAAAAAAAAIE3UBAAAAAAAA\n",
       "wkRdAAAAAAAAgDBRFwAAAAAAACBM1AUAAAAAAAAIE3UBAAAAAAAAwkRdAAAAAAAAgDBRFwAAAAAA\n",
       "ACBM1AUAAAAAAAAIE3UBAAAAAAAAwkRdAAAAAAAAgDBRFwAAAAAAACBM1AUAAAAAAAAIE3UBAAAA\n",
       "AAAAwkRdAAAAAAAAgDBRFwAAAAAAACBM1AUAAAAAAAAIE3UBAAAAAAAAwkRdAAAAAAAAgDBRFwAA\n",
       "AAAAACBM1AUAAAAAAAAIE3UBAAAAAAAAwkRdAAAAAAAAgDBRFwAAAAAAACBM1AUAAAAAAAAIE3UB\n",
       "AAAAAAAAwkRdAAAAAAAAgDBRFwAAAAAAACBM1AUAAAAAAAAIE3UBAAAAAAAAwkRdAAAAAAAAgDBR\n",
       "FwAAAAAAACBM1AUAAAAAAAAIE3UBAAAAAAAAwpYx1m32CAAAAACouN+uZ0842LpczZ4AAMAJudQF\n",
       "AAAAAAAACBN1AQAAAAAAAMJEXQAAAAAAAIAwURcAAAAAAAAgTNQFAAAAAAAACBN1AQAAAAAAAMJE\n",
       "XQAAAAAAAIAwURcAAAAAAAAgTNQFAAAAAAAACBN1AQAAAAAAAMJEXQAAAAAAAIAwURcAAAAAAAAg\n",
       "TNQFAAAAAAAACBN1AQAAAAAAAMJEXQAAAAAAAIAwURcAAAAAAAAgTNQFAAAAAAAACBN1AQAAAAAA\n",
       "AMJEXQAAAAAAAIAwURcAAAAAAAAgTNQFAAAAAAAACBN1AQAAAAAAAMJEXQAAAAAAAIAwURcAAAAA\n",
       "AAAgTNQFAAAAAAAACBN1AQAAAAAAAMJEXQAAAAAAAIAwURcAAAAAAAAgTNQFAAAAAAAACBN1AQAA\n",
       "AAAAAMJEXQAAAAAAAIAwURcAAAAAAAAgTNQFAAAAAAAACBN1AQAAAAAAAMJEXQAAAAAAAIAwURcA\n",
       "AAAAAAAgTNQFAAAAAAAACBN1AQAAAAAAAMJEXQAAAAAAAIAwURcAAAAAAAAgTNQFAAAAAAAACFvG\n",
       "WLfZI4B/3O1/nD3hYOe7L2ZPAAAAAADgRO6369kTjrIuV7MnwAflUhcAAAAAAAAgTNQFAAAAAAAA\n",
       "CBN1AQAAAAAAAMJEXQAAAAAAAIAwURcAAAAAAAAgTNQFAAAAAAAACBN1AQAAAAAAAMJEXQAAAAAA\n",
       "AIAwURcAAAAAAAAgTNQFAAAAAAAACBN1AQAAAAAAAMJEXQAAAAAAAIAwURcAAAAAAAAgTNQFAAAA\n",
       "AAAACBN1AQAAAAAAAMJEXQAAAAAAAIAwURcAAAAAAAAgTNQFAAAAAAAACBN1AQAAAAAAAMJEXQAA\n",
       "AAAAAIAwURcAAAAAAAAgTNQFAAAAAAAACBN1AQAAAAAAAMJEXQAAAAAAAIAwURcAAAAAAAAgTNQF\n",
       "AAAAAAAACBN1AQAAAAAAAMJEXQAAAAAAAIAwURcAAAAAAAAgTNQFAAAAAAAACBN1AQAAAAAAAMJE\n",
       "XQAAAAAAAIAwURcAAAAAAAAgTNQFAAAAAAAACBN1AQAAAAAAAMJEXQAAAAAAAIAwURcAAAAAAAAg\n",
       "TNQFAAAAAAAACBN1AQAAAAAAAMJEXQAAAAAAAICwZYx1mz0CAIDTWpZ19oSD/Xnz7ewJR/nk4svZ\n",
       "EwAAAAB4YlzqAgAAAAAAAISJugAAAAAAAABhoi4AAAAAAABAmKgLAAAAAAAAECbqAgAAAAAAAISJ\n",
       "ugAAAAAAAABhoi4AAAAAAABAmKgLAAAAAAAAECbqAgAAAAAAAISJugAAAAAAAABhoi4AAAAAAABA\n",
       "mKgLAAAAAAAAECbqAgAAAAAAAISJugAAAAAAAABhoi4AAAAAAABAmKgLAAAAAAAAECbqAgAAAAAA\n",
       "AISJugAAAAAAAABhoi4AAAAAAABAmKgLAAAAAAAAECbqAgAAAAAAAISJugAAAAAAAABhoi4AAAAA\n",
       "AABAmKgLAAAAAAAAECbqAgAAAAAAAISJugAAAAAAAABhoi4AAAAAAABAmKgLAAAAAAAAECbqAgAA\n",
       "AAAAAISJugAAAAAAAABhoi4AAAAAAABAmKgLAAAAAAAAECbqAgAAAAAAAISJugAAAAAAAABhoi4A\n",
       "AAAAAABAmKgLAAAAAAAAECbqAgAAAAAAAISJugAAAAAAAABhoi4AAAAAAABAmKgLAAAAAAAAECbq\n",
       "AgAAAAAAAIQtY6zb7BEAAAAAH8uyXMyecJQ/br6ZPeFgn158NXsCAAA8CS51AQAAAAAAAMJEXQAA\n",
       "AAAAAIAwURcAAAAAAAAgTNQFAAAAAAAACBN1AQAAAAAAAMJEXQAAAAAAAIAwURcAAAAAAAAgTNQF\n",
       "AAAAAAAACBN1AQAAAAAAAMJEXQAAAAAAAIAwURcAAAAAAAAgTNQFAAAAAAAACBN1AQAAAAAAAMJE\n",
       "XQAAAAAAAIAwURcAAAAAAAAgTNQFAAAAAAAACBN1AQAAAAAAAMJEXQAAAAAAAIAwURcAAAAAAAAg\n",
       "TNQFAAAAAAAACBN1AQAAAAAAAMJEXQAAAAAAAIAwURcAAAAAAAAgTNQFAAAAAAAACBN1AQAAAAAA\n",
       "AMJEXQAAAAAAAIAwURcAAAAAAAAgTNQFAAAAAAAACBN1AQAAAAAAAMJEXQAAAAAAAIAwURcAAAAA\n",
       "AAAgTNQFAAAAAAAACBN1AQAAAAAAAMJEXQAAAAAAAIAwURcAAAAAAAAgTNQFAAAAAAAACBN1AQAA\n",
       "AAAAAMJEXQAAAAAAAIAwURcAAAAAAAAgTNQFAAAAAAAACBN1AQAAAAAAAMKWMdZt9ojn4vbh+9kT\n",
       "jnJ59mb2hINtw7MGAAAAAPgvfvv169kTDvbi859mTzjKX7c/z54APFIudQEAAAAAAADCRF0AAAAA\n",
       "AACAMFEXAAAAAAAAIEzUBQAAAAAAAAgTdQEAAAAAAADCRF0AAAAAAACAMFEXAAAAAAAAIEzUBQAA\n",
       "AAAAAAgTdQEAAAAAAADCRF0AAAAAAACAMFEXAAAAAAAAIEzUBQAAAAAAAAgTdQEAAAAAAADCRF0A\n",
       "AAAAAACAMFEXAAAAAAAAIEzUBQAAAAAAAAgTdQEAAAAAAADCRF0AAAAAAACAMFEXAAAAAAAAIEzU\n",
       "BQAAAAAAAAgTdQEAAAAAAADCRF0AAAAAAACAMFEXAAAAAAAAIEzUBQAAAAAAAAgTdQEAAAAAAADC\n",
       "RF0AAAAAAACAMFEXAAAAAAAAIEzUBQAAAAAAAAgTdQEAAAAAAADCRF0AAAAAAACAMFEXAAAAAAAA\n",
       "IEzUBQAAAAAAAAgTdQEAAAAAAADCRF0AALz+OI0AABRCSURBVAAAAACAMFEXAAAAAAAAIEzUBQAA\n",
       "AAAAAAgTdQEAAAAAAADCRF0AAAAAAACAMFEXAAAAAAAAIEzUBQAAAAAAAAgTdQEAAAAAAADCljHW\n",
       "bfYIAOB5un14O3vCwS7PXs+ecJRt+PIBAAAAwGPlUhcAAAAAAAAgTNQFAAAAAAAACBN1AQAAAAAA\n",
       "AMJEXQAAAAAAAIAwURcAAAAAAAAgTNQFAAAAAAAACBN1AQAAAAAAAMJEXQAAAAAAAIAwURcAAAAA\n",
       "AAAgTNQFAAAAAAAACBN1AQAAAAAAAMJEXQAAAAAAAIAwURcAAAAAAAAgTNQFAAAAAAAACBN1AQAA\n",
       "AAAAAMJEXQAAAAAAAIAwURcAAAAAAAAgTNQFAAAAAAAACBN1AQAAAAAAAMJEXQAAAAAAAIAwURcA\n",
       "AAAAAAAgTNQFAAAAAAAACBN1AQAAAAAAAMJEXQAAAAAAAIAwURcAAAAAAAAgTNQFAAAAAAAACBN1\n",
       "AQAAAAAAAMJEXQAAAAAAAIAwURcAAAAAAAAgTNQFAAAAAAAACBN1AQAAAAAAAMJEXQAAAAAAAIAw\n",
       "URcAAAAAAAAgTNQFAAAAAAAACBN1AQAAAAAAAMJEXQAAAAAAAIAwURcAAAAAAAAgTNQFAAAAAAAA\n",
       "CBN1AQAAAAAAAMJEXQAAAAAAAIAwURcAAAAAAAAgbBlj3WaPAAAAgOfubv9u9oSjnO9ezp4AAADw\n",
       "5LnUBQAAAAAAAAgTdQEAAAAAAADCRF0AAAAAAACAMFEXAAAAAAAAIEzUBQAAAAAAAAgTdQEAAAAA\n",
       "AADCRF0AAAAAAACAMFEXAAAAAAAAIEzUBQAAAAAAAAgTdQEAAAAAAADCRF0AAAAAAACAMFEXAAAA\n",
       "AAAAIEzUBQAAAAAAAAgTdQEAAAAAAADCRF0AAAAAAACAMFEXAAAAAAAAIEzUBQAAAAAAAAgTdQEA\n",
       "AAAAAADCRF0AAAAAAACAMFEXAAAAAAAAIEzUBQAAAAAAAAgTdQEAAAAAAADCRF0AAAAAAACAMFEX\n",
       "AAAAAAAAIEzUBQAAAAAAAAgTdQEAAAAAAADCRF0AAAAAAACAMFEXAAAAAAAAIEzUBQAAAAAAAAgT\n",
       "dQEAAAAAAADCRF0AAAAAAACAMFEXAAAAAAAAIEzUBQAAAAAAAAgTdQEAAAAAAADCRF0AAAAAAACA\n",
       "MFEXAAAAAAAAIEzUBQAAAAAAAAgTdQEAAAAAAADCRF0AAAAAAACAMFEXAAAAAAAAIEzUBQAAAAAA\n",
       "AAhb7vbvt9kjjnG+ezV7AgAAAAAAJ3K3fzd7wsHOdy9nTwDgiXKpCwAAAAAAABAm6gIAAAAAAACE\n",
       "iboAAAAAAAAAYaIuAAAAAAAAQJioCwAAAAAAABAm6gIAAAAAAACEiboAAAAAAAAAYaIuAAAAAAAA\n",
       "QJioCwAAAAAAABAm6gIAAAAAAACEiboAAAAAAAAAYaIuAAAAAAAAQJioCwAAAAAAABAm6gIAAAAA\n",
       "AACEiboAAAAAAAAAYaIuAAAAAAAAQJioCwAAAAAAABAm6gIAAAAAAACEiboAAAAAAAAAYaIuAAAA\n",
       "AAAAQJioCwAAAAAAABAm6gIAAAAAAACEiboAAAAAAAAAYaIuAAAAAAAAQJioCwAAAAAAABAm6gIA\n",
       "AAAAAACEiboAAAAAAAAAYaIuAAAAAAAAQJioCwAAAAAAABAm6gIAAAAAAACEiboAAAAAAAAAYaIu\n",
       "AAAAAAAAQJioCwAAAAAAABAm6gIAAAAAAACEiboAAAAAAAAAYaIuAAAAAAAAQJioCwAAAAAAABAm\n",
       "6gIAAAAAAACEiboAAAAAAAAAYaIuAAAAAAAAQJioCwAAAAAAABC2jLFus0cAQMnd/u3sCQc7372a\n",
       "PQEAAAAAgBNxqQsAAAAAAAAQJuoCAAAAAAAAhIm6AAAAAAAAAGGiLgAAAAAAAECYqAsAAAAAAAAQ\n",
       "JuoCAAAAAAAAhIm6AAAAAAAAAGGiLgAAAAAAAECYqAsAAAAAAAAQJuoCAAAAAAAAhIm6AAAAAAAA\n",
       "AGGiLgAAAAAAAECYqAsAAAAAAAAQJuoCAAAAAAAAhIm6AAAAAAAAAGGiLgAAAAAAAECYqAsAAAAA\n",
       "AAAQJuoCAAAAAAAAhIm6AAAAAAAAAGGiLgAAAAAAAECYqAsAAAAAAAAQJuoCAAAAAAAAhIm6AAAA\n",
       "AAAAAGGiLgAAAAAAAECYqAsAAAAAAAAQJuoCAAAAAAAAhIm6AAAAAAAAAGGiLgAAAAAAAECYqAsA\n",
       "AAAAAAAQJuoCAAAAAAAAhIm6AAAAAAAAAGGiLgAAAAAAAECYqAsAAAAAAAAQJuoCAAAAAAAAhIm6\n",
       "AAAAAAAAAGGiLgAAAAAAAECYqAsAAAAAAAAQJuoCAAAAAAAAhIm6AAAAAAAAAGGiLgAAAAAAAECY\n",
       "qAsAAAAAAAAQtoyxbrNHAAAA0HW/Xc+ecLB1uZo9AQAAAD4Yl7oAAAAAAAAAYaIuAAAAAAAAQJio\n",
       "CwAAAAAAABAm6gIAAAAAAACEiboAAAAAAAAAYaIuAAAAAAAAQJioCwAAAAAAABAm6gIAAAAAAACE\n",
       "iboAAAAAAAAAYaIuAAAAAAAAQJioCwAAAAAAABAm6gIAAAAAAACEiboAAAAAAAAAYaIuAAAAAAAA\n",
       "QJioCwAAAAAAABAm6gIAAAAAAACEiboAAAAAAAAAYaIuAAAAAAAAQJioCwAAAAAAABAm6gIAAAAA\n",
       "AACEiboAAAAAAAAAYaIuAAAAAAAAQJioCwAAAAAAABAm6gIAAAAAAACEiboAAAAAAAAAYaIuAAAA\n",
       "AAAAQJioCwAAAAAAABAm6gIAAAAAAACEiboAAAAAAAAAYaIuAAAAAAAAQJioCwAAAAAAABAm6gIA\n",
       "AAAAAACEiboAAAAAAAAAYaIuAAAAAAAAQJioCwAAAAAAABAm6gIAAAAAAACEiboAAAAAAAAAYaIu\n",
       "AAAAAAAAQJioCwAAAAAAABAm6gIAAAAAAACEiboAAAAAAAAAYcsY6zZ7BAAAAADAY3C/v5494Sjr\n",
       "7mr2BADgf3CpCwAAAAAAABAm6gIAAAAAAACEiboAAAAAAAAAYaIuAAAAAAAAQJioCwAAAAAAABAm\n",
       "6gIAAAAAAACEiboAAAAAAAAAYaIuAAAAAAAAQJioCwAAAAAAABAm6gIAAAAAAACEiboAAAAAAAAA\n",
       "YaIuAAAAAAAAQJioCwAAAAAAABAm6gIAAAAAAACEiboAAAAAAAAAYaIuAAAAAAAAQJioCwAAAAAA\n",
       "ABAm6gIAAAAAAACEiboAAAAAAAAAYaIuAAAAAAAAQJioCwAAAAAAABAm6gIAAAAAAACEiboAAAAA\n",
       "AAAAYaIuAAAAAAAAQJioCwAAAAAAABAm6gIAAAAAAACEiboAAAAAAAAAYaIuAAAAAAAAQJioCwAA\n",
       "AAAAABAm6gIAAAAAAACEiboAAAAAAAAAYaIuAAAAAAAAQJioCwAAAAAAABAm6gIAAAAAAACEiboA\n",
       "AAAAAAAAYaIuAAAAAAAAQJioCwAAAAAAABAm6gIAAAAAAACEiboAAAAAAAAAYaIuAAAAAAAAQJio\n",
       "CwAAAAAAABC2jLFus0cA8O9uHr6bPeEol2dvZk8AAAAAAOBEbh9+mD3hYBdnr2dPOJhLXQAAAAAA\n",
       "AIAwURcAAAAAAAAgTNQFAAAAAAAACBN1AQAAAAAAAMJEXQAAAAAAAIAwURcAAAAAAAAgTNQFAAAA\n",
       "AAAACBN1AQAAAAAAAMJEXQAAAAAAAIAwURcAAAAAAAAgTNQFAAAAAAAACBN1AQAAAAAAAMJEXQAA\n",
       "AAAAAIAwURcAAAAAAAAgTNQFAAAAAAAACBN1AQAAAAAAAMJEXQAAAAAAAIAwURcAAAAAAAAgTNQF\n",
       "AAAAAAAACBN1AQAAAAAAAMJEXQAAAAAAAIAwURcAAAAAAAAgTNQFAAAAAAAACBN1AQAAAAAAAMJE\n",
       "XQAAAAAAAIAwURcAAAAAAAAgTNQFAAAAAAAACBN1AQAAAAAAAMJEXQAAAAAAAODv9u3YBEIoAILo\n",
       "F4wEG74CrmHBVBswMfojvFfB5sMSJuoCAAAAAAAAhIm6AAAAAAAAAGGiLgAAAAAAAECYqAsAAAAA\n",
       "AAAQJuoCAAAAAAAAhIm6AAAAAAAAAGGiLgAAAAAAAECYqAsAAAAAAAAQJuoCAAAAAAAAhIm6AAAA\n",
       "AAAAAGGiLgAAAAAAAECYqAsAAAAAAAAQtoyxXrNHAAAAvHWc/9kTXtu33+wJAAAAwAd56gIAAAAA\n",
       "AACEiboAAAAAAAAAYaIuAAAAAAAAQJioCwAAAAAAABAm6gIAAAAAAACEiboAAAAAAAAAYaIuAAAA\n",
       "AAAAQJioCwAAAAAAABAm6gIAAAAAAACEiboAAAAAAAAAYaIuAAAAAAAAQJioCwAAAAAAABAm6gIA\n",
       "AAAAAACEiboAAAAAAAAAYaIuAAAAAAAAQJioCwAAAAAAABAm6gIAAAAAAACEiboAAAAAAAAAYaIu\n",
       "AAAAAAAAQJioCwAAAAAAABAm6gIAAAAAAACEiboAAAAAAAAAYaIuAAAAAAAAQJioCwAAAAAAABAm\n",
       "6gIAAAAAAACEiboAAAAAAAAAYaIuAAAAAAAAQJioCwAAAAAAABAm6gIAAAAAAACEiboAAAAAAAAA\n",
       "YaIuAAAAAAAAQJioCwAAAAAAABAm6gIAAAAAAACEiboAAAAAAAAAYaIuAAAAAAAAQJioCwAAAAAA\n",
       "ABAm6gIAAAAAAACEiboAAAAAAAAAYaIuAAAAAAAAQJioCwAAAAAAABAm6gIAAAAAAACELWOs1+wR\n",
       "AAAAAAAAADzz1AUAAAAAAAAIE3UBAAAAAAAAwkRdAAAAAAAAgDBRFwAAAAAAACBM1AUAAAAAAAAI\n",
       "E3UBAAAAAAAAwkRdAAAAAAAAgDBRFwAAAAAAACBM1AUAAAAAAAAIE3UBAAAAAAAAwkRdAAAAAAAA\n",
       "gDBRFwAAAAAAACBM1AUAAAAAAAAIE3UBAAAAAAAAwkRdAAAAAAAAgDBRFwAAAAAAACBM1AUAAAAA\n",
       "AAAIE3UBAAAAAAAAwkRdAAAAAAAAgDBRFwAAAAAAACBM1AUAAAAAAAAIE3UBAAAAAAAAwkRdAAAA\n",
       "AAAAgDBRFwAAAAAAACBM1AUAAAAAAAAIE3UBAAAAAAAAwkRdAAAAAAAAgDBRFwAAAAAAACBM1AUA\n",
       "AAAAAAAIE3UBAAAAAAAAwkRdAAAAAAAAgDBRFwAAAAAAACBM1AUAAAAAAAAIE3UBAAAAAAAAwkRd\n",
       "AAAAAAAAgDBRFwAAAAAAACBM1AUAAAAAAAAIE3UBAAAAAAAAwkRdAAAAAAAAgDBRFwAAAAAAACBM\n",
       "1AUAAAAAAAAIE3UBAAAAAAAAwkRdAAAAAAAAgDBRFwAAAAAAACBM1AUAAAAAAAAIE3UBAAAAAAAA\n",
       "wkRdAAAAAAAAgDBRFwAAAAAAACBM1AUAAAAAAAAIE3UBAAAAAAAAwkRdAAAAAAAAgDBRFwAAAAAA\n",
       "ACBM1AUAAAAAAAAIE3UBAAAAAAAAwkRdAAAAAAAAgDBRFwAAAAAAACBM1AUAAAAAAAAIE3UBAAAA\n",
       "AAAAwkRdAAAAAAAAgDBRFwAAAAAAACBM1AUAAAAAAAAIE3UBAAAAAAAAwkRdAAAAAAAAgDBRFwAA\n",
       "AAAAACBM1AUAAAAAAAAIE3UBAAAAAAAAwkRdAAAAAAAAgDBRFwAAAAAAACBM1AUAAAAAAAAIE3UB\n",
       "AAAAAAAAwkRdAAAAAAAAgDBRFwAAAAAAACBM1AUAAAAAAAAIE3UBAAAAAAAAwkRdAAAAAAAAgDBR\n",
       "FwAAAAAAACBM1AUAAAAAAAAIE3UBAAAAAAAAwkRdAAAAAAAAgDBRFwAAAAAAACBM1AUAAAAAAAAI\n",
       "E3UBAAAAAAAAwkRdAAAAAAAAgDBRFwAAAAAAACBM1AUAAAAAAAAIE3UBAAAAAAAAwkRdAAAAAAAA\n",
       "gDBRFwAAAAAAACBM1AUAAAAAAAAIE3UBAAAAAAAAwkRdAAAAAAAAgDBRFwAAAAAAACBM1AUAAAAA\n",
       "AAAIE3UBAAAAAAAAwkRdAAAAAAAAgDBRFwAAAAAAACBM1AUAAAAAAAAIE3UBAAAAAAAAwkRdAAAA\n",
       "AAAAgDBRFwAAAAAAACBM1AUAAAAAAAAIE3UBAAAAAAAAwkRdAAAAAAAAgDBRFwAAAAAAACBM1AUA\n",
       "AAAAAAAIE3UBAAAAAAAAwkRdAAAAAAAAgDBRFwAAAAAAACBM1AUAAAAAAAAIE3UBAAAAAAAAwkRd\n",
       "AAAAAAAAgDBRFwAAAAAAACBM1AUAAAAAAAAIE3UBAAAAAAAAwkRdAAAAAAAAgDBRFwAAAAAAACBM\n",
       "1AUAAAAAAAAIE3UBAAAAAAAAwkRdAAAAAAAAgDBRFwAAAAAAACBM1AUAAAAAAAAIE3UBAAAAAAAA\n",
       "wkRdAAAAAAAAgDBRFwAAAAAAACBM1AUAAAAAAAAIE3UBAAAAAAAAwkRdAAAAAAAAgDBRFwAAAAAA\n",
       "ACBM1AUAAAAAAAAIE3UBAAAAAAAAwkRdAAAAAAAAgDBRFwAAAAAAACBM1AUAAAAAAAAIE3UBAAAA\n",
       "AAAAwkRdAAAAAAAAgDBRFwAAAAAAACBM1AUAAAAAAAAIE3UBAAAAAAAAwkRdAAAAAAAAgDBRFwAA\n",
       "AAAAACBM1AUAAAAAAAAIE3UBAAAAAAAAwkRdAAAAAAAAgDBRFwAAAAAAACBM1AUAAAAAAAAIE3UB\n",
       "AAAAAAAAwkRdAAAAAAAAgDBRFwAAAAAAACBM1AUAAAAAAAAIE3UBAAAAAAAAwkRdAAAAAAAAgDBR\n",
       "FwAAAAAAACBM1AUAAAAAAAAIE3UBAAAAAAAAwkRdAAAAAAAAgDBRFwAAAAAAACBM1AUAAAAAAAAI\n",
       "E3UBAAAAAAAAwkRdAAAAAAAAgDBRFwAAAAAAACBM1AUAAAAAAAAIE3UBAAAAAAAAwkRdAAAAAAAA\n",
       "gDBRFwAAAAAAACBM1AUAAAAAAAAIE3UBAAAAAAAAwm4nYIj3oCuOpAAAAABJRU5ErkJggg==\n",
       "\" transform=\"translate(204, 123)\"/>\n",
       "</g>\n",
       "<defs>\n",
       "  <clipPath id=\"clip133\">\n",
       "    <rect x=\"2160\" y=\"123\" width=\"73\" height=\"1301\"/>\n",
       "  </clipPath>\n",
       "</defs>\n",
       "<g clip-path=\"url(#clip133)\">\n",
       "<image width=\"72\" height=\"1300\" xlink:href=\"data:image/png;base64,\n",
       "iVBORw0KGgoAAAANSUhEUgAAAEgAAAUUCAYAAAB8mVRsAAALUklEQVR4nO3dwY3kRhBFQbaQ/lsh\n",
       "L6WtkgXKdyQPERYMHj641dWc2d+/5+/78L/+evsH+DqBgkBBoCBQmHP/fftn+DQLCgIFgYJAYe79\n",
       "8/bP8GkWFAQKAgWBgpN0sKAgUBAoCBTmekivLCgIFAQKAoW5x0N6Y0FBoCBQECg4SQcLCgIFgYJA\n",
       "wUM6WFAQKAgUBAquO4IFBYGCQEGgMI+T9MqCgkBBoCBQcN0RLCgIFAQKAoV5XHesLCgIFAQKAoV5\n",
       "zj9v/wyfZkFBoCBQECgIFFzaBwsKAgWBgkDBfVCwoCBQECgIFDykgwUFgYJAQaDguiNYUBAoCBQE\n",
       "CvNzkl5ZUBAoCBQECvMcf3B7Y0FBoCBQECg4SQcLCgIFgYJAwUk6WFAQKAgUBAre7ggWFAQKAgWB\n",
       "wvycpFcWFAQKAgWBglfwggUFgYJAQaDgJB0sKAgUBAoCBV8cBgsKAgWBgkBBoOCjRrCgIFAQKAgU\n",
       "fNQIFhQECgIFgYKTdLCgIFAQKAgU5jnn7Z/h0ywoCBQECgIFJ+lgQUGgIFAQKLiTDhYUBAoCBYGC\n",
       "h3SwoCBQECgIFObnTnplQUGgIFAQKDhJBwsKAgWBgkDB2x3BgoJAQaAgUHDdESwoCBQECgIF1x3B\n",
       "goJAQaAgUHDdESwoCBQECgIFgYJ/xYIFBYGCQEGg4FcygwUFgYJAQaDgJB0sKAgUBAoCBQ/pYEFB\n",
       "oCBQECh4SAcLCgIFgYJAwUM6WFAQKAgUBArzXA/pjQUFgYJAQaDgJB0sKAgUBAoCBQ/pYEFBoCBQ\n",
       "ECh4SAcLCgIFgYJAYZ5z3/4ZPs2CgkBBoCBQcJIOFhQECgIFgYKTdLCgIFAQKAgUBAo+agQLCgIF\n",
       "gYJAwUeNYEFBoCBQECjM4yC9sqAgUBAoCBTmuU7SGwsKAgWBgkDBSTpYUBAoCBQECh7SwYKCQEGg\n",
       "IFAYf4BqZ0FBoCBQECg4SQcLCgIFgYJAwUM6WFAQKAgUBArznN/bP8OnWVAQKAgUBApzr4f0xoKC\n",
       "QEGgIFBw3REsKAgUBAoCBdcdwYKCQEGgIFAQKMw9Gm3UCQIFgYJAwUeNYEFBoCBQECjM45vVlQUF\n",
       "gYJAQaAw10l6ZUFBoCBQECjM4056pU4QKAgUBApO0sGCgkBBoCBQcCcdLCgIFAQKAgWv4AV1gkBB\n",
       "oCBQ8ApesKAgUBAoCBTcSQcLCgIFgYJAYe7VaKNOECgIFAQKrjuCBQWBgkBBoCBQcB8ULCgIFAQK\n",
       "AoV53Aet1AkCBYGCQMFJOlhQECgIFAQKHtLBgoJAQaAgUPArmcGCgkBBoCBQ8CuZQZ0gUBAoCBT8\n",
       "V8bBgoJAQaAgUHAnHSwoCBQECgIFf3A7qBMECgIFgYLrjmBBQaAgUBAouO4IFhQECgIFgYKTdLCg\n",
       "IFAQKAgUvIIX1AkCBYGCQEGg4KNGsKAgUBAoCBRc2gcLCgIFgYJAwUk6WFAQKAgUBAr+24hgQUGg\n",
       "IFAQKPgP2II6QaAgUBAouO4IFhQECgIFgYIvDoMFBYGCQEGg4CQdLCgIFAQKAoU5HtIrCwoCBYGC\n",
       "QMGvZAZ1gkBBoCBQcN0RLCgIFAQKAgUP6WBBQaAgUBAoeLsjWFAQKAgUBAoCBR81ggUFgYJAQaDg\n",
       "IR0sKAgUBAoCBb83H9QJAgWBgkBhjkv7lQUFgYJAQaDguiNYUBAoCBQECh7SwYKCQEGgIFDwkA4W\n",
       "FAQKAgWBgj9uEiwoCBQECgIFJ+lgQUGgIFAQKHhIBwsKAgWBgkDBe9JBnSBQECgIFLwnHSwoCBQE\n",
       "CgIF1x3BgoJAQaAgUBAo+FcsWFAQKAgUBAreUQwWFAQKAgWBgpN0sKAgUBAoCBTmPh7SGwsKAgWB\n",
       "gkDBdUewoCBQECgIFFx3BAsKAgWBgkDBSTpYUBAoCBQECk7SwYKCQEGgIFBwkg4WFAQKAgWBgpN0\n",
       "sKAgUBAoCBQ8pIMFBYGCQEGgMMd70isLCgIFgYJAwUk6WFAQKAgUBAoCBd+sBgsKAgWBgkBh7n37\n",
       "R/g2CwoCBYGCQMFJOlhQECgIFAQK/gJVsKAgUBAoCBScpIMFBYGCQEGg4PWXYEFBoCBQECh4kTxY\n",
       "UBAoCBQECt7uCBYUBAoCBYGCO+lgQUGgIFAQKLiTDhYUBAoCBYGCO+lgQUGgIFAQKLjuCBYUBAoC\n",
       "BYGCQME3q8GCgkBBoCBQcB8ULCgIFAQKAgXfrAYLCgIFgYJAYc7bP8HHWVAQKAgUBApO0sGCgkBB\n",
       "oCBQ8PpLsKAgUBAoCBRcdwQLCgIFgYJAwXVHsKAgUBAoCBScpIMFBYGCQEGg4CQdLCgIFAQKAgVf\n",
       "HAYLCgIFgYJAYfxW+M6CgkBBoCBQcJIOFhQECgIFgYJAwTerwYKCQEGgIFDwzWqwoCBQECgIFJyk\n",
       "gwUFgYJAQaDgJB0sKAgUBAoChTnef1lZUBAoCBQECq47ggUFgYJAQaDguiNYUBAoCBQECk7SwYKC\n",
       "QEGgIFDwP/UGCwoCBYGCQMH/1BssKAgUBAoCBW93BAsKAgWBgkDBX6AKFhQECgIFgYK/QBUsKAgU\n",
       "BAoCBYGCb1aDBQWBgkBBoOAdxWBBQaAgUBAo+G2fYEFBoCBQECg4SQcLCgIFgYJAwTuKwYKCQEGg\n",
       "IFDwjmKwoCBQECgIFJykgwUFgYJAQaDgFbxgQUGgIFAQKPjjJsGCgkBBoCBQcN0RLCgIFAQKAgVf\n",
       "HAYLCgIFgYJAwUk6WFAQKAgUBApO0sGCgkBBoCBQECj4qBEsKAgUBAoCBQ/pYEFBoCBQECi4DwoW\n",
       "FAQKAgWBgpN0sKAgUBAoCBScpIMFBYGCQEGg4CQdLCgIFAQKAgV/3CRYUBAoCBQECv5XhGBBQaAg\n",
       "UBAouO4IFhQECgIFgcLcx1N6Y0FBoCBQECg4SQcLCgIFgYJAwReHwYKCQEGgIFDwxWGwoCBQECgI\n",
       "FAQK7oOCBQWBgkBBoOCb1WBBQaAgUBAoOEkHCwoCBYGCQMEfNwkWFAQKAgWBwhzvv6wsKAgUBAoC\n",
       "Ba+/BAsKAgWBgkBhrpP0yoKCQEGgIFBwkg4WFAQKAgWBgjvpYEFBoCBQECh4uyNYUBAoCBQECnP8\n",
       "MsvKgoJAQaAgUHDdESwoCBQECgIFgYLfmw8WFAQKAgWBgtdfggUFgYJAQaDg0j5YUBAoCBQECq47\n",
       "ggUFgYJAQaAw53HhsbGgIFAQKAgUXHcECwoCBYGCQMFDOlhQECgIFAQK7qSDBQWBgkBBoOBOOlhQ\n",
       "ECgIFAQKc35O0hsLCgIFgYJAwUk6WFAQKAgUBApzPaRXFhQECgIFgYKTdLCgIFAQKAgUBApzfv4V\n",
       "21hQECgIFAQKPmoECwoCBYGCQMGlfbCgIFAQKAgUnKSDBQWBgkBBoOAhHSwoCBQECgIFXxwGCwoC\n",
       "BYGCQGHu8+ftn+HTLCgIFAQKAgXXHcGCgkBBoCBQ8HZHsKAgUBAoCBTmXNcdGwsKAgWBgkDBSTpY\n",
       "UBAoCBQECnN8cbiyoCBQECgIFJykgwUFgYJAQaAgUPBRI1hQECgIFAQKc6+PGhsLCgIFgYJAwX1Q\n",
       "sKAgUBAoCBS8oxgsKAgUBAoCBSfpYEFBoCBQECjMdZJeWVAQKAgUBApO0sGCgkBBoCBQmOPtjpUF\n",
       "BYGCQEGg4G+5BgsKAgWBgkDBe9LBgoJAQaAgUHAnHSwoCBQECgIFJ+lgQUGgIFAQKHhIBwsKAgWB\n",
       "gkBBoOCb1WBBQaAgUBAo+KgRLCgIFAQKAoV5fLO6sqAgUBAoCBScpIMFBYGCQEGg4B3FYEFBoCBQ\n",
       "ECjM4yS9sqAgUBAoCBS83REsKAgUBAoCBV8cBgsKAgWBgkDBdUewoCBQECgIFOY+9+2f4dMsKAgU\n",
       "BAoCBdcdwYKCQEGgIFCYx0l6ZUFBoCBQECj8B4FI7TdsedWZAAAAAElFTkSuQmCC\n",
       "\" transform=\"translate(2161, 123)\"/>\n",
       "</g>\n",
       "<path clip-path=\"url(#clip130)\" d=\"M2280.7 1405.35 Q2277.09 1405.35 2275.26 1408.91 Q2273.45 1412.46 2273.45 1419.59 Q2273.45 1426.69 2275.26 1430.26 Q2277.09 1433.8 2280.7 1433.8 Q2284.33 1433.8 2286.14 1430.26 Q2287.97 1426.69 2287.97 1419.59 Q2287.97 1412.46 2286.14 1408.91 Q2284.33 1405.35 2280.7 1405.35 M2280.7 1401.65 Q2286.51 1401.65 2289.57 1406.25 Q2292.64 1410.84 2292.64 1419.59 Q2292.64 1428.31 2289.57 1432.92 Q2286.51 1437.5 2280.7 1437.5 Q2274.89 1437.5 2271.81 1432.92 Q2268.76 1428.31 2268.76 1419.59 Q2268.76 1410.84 2271.81 1406.25 Q2274.89 1401.65 2280.7 1401.65 Z\" fill=\"#000000\" fill-rule=\"evenodd\" fill-opacity=\"1\" /><path clip-path=\"url(#clip130)\" d=\"M2280.7 1275.38 Q2277.09 1275.38 2275.26 1278.94 Q2273.45 1282.49 2273.45 1289.61 Q2273.45 1296.72 2275.26 1300.29 Q2277.09 1303.83 2280.7 1303.83 Q2284.33 1303.83 2286.14 1300.29 Q2287.97 1296.72 2287.97 1289.61 Q2287.97 1282.49 2286.14 1278.94 Q2284.33 1275.38 2280.7 1275.38 M2280.7 1271.68 Q2286.51 1271.68 2289.57 1276.28 Q2292.64 1280.87 2292.64 1289.61 Q2292.64 1298.34 2289.57 1302.95 Q2286.51 1307.53 2280.7 1307.53 Q2274.89 1307.53 2271.81 1302.95 Q2268.76 1298.34 2268.76 1289.61 Q2268.76 1280.87 2271.81 1276.28 Q2274.89 1271.68 2280.7 1271.68 Z\" fill=\"#000000\" fill-rule=\"evenodd\" fill-opacity=\"1\" /><path clip-path=\"url(#clip130)\" d=\"M2300.86 1300.98 L2305.75 1300.98 L2305.75 1306.86 L2300.86 1306.86 L2300.86 1300.98 Z\" fill=\"#000000\" fill-rule=\"evenodd\" fill-opacity=\"1\" /><path clip-path=\"url(#clip130)\" d=\"M2316.74 1302.93 L2324.38 1302.93 L2324.38 1276.56 L2316.07 1278.23 L2316.07 1273.97 L2324.33 1272.3 L2329.01 1272.3 L2329.01 1302.93 L2336.65 1302.93 L2336.65 1306.86 L2316.74 1306.86 L2316.74 1302.93 Z\" fill=\"#000000\" fill-rule=\"evenodd\" fill-opacity=\"1\" /><path clip-path=\"url(#clip130)\" d=\"M2280.7 1145.41 Q2277.09 1145.41 2275.26 1148.97 Q2273.45 1152.51 2273.45 1159.64 Q2273.45 1166.75 2275.26 1170.32 Q2277.09 1173.86 2280.7 1173.86 Q2284.33 1173.86 2286.14 1170.32 Q2287.97 1166.75 2287.97 1159.64 Q2287.97 1152.51 2286.14 1148.97 Q2284.33 1145.41 2280.7 1145.41 M2280.7 1141.7 Q2286.51 1141.7 2289.57 1146.31 Q2292.64 1150.89 2292.64 1159.64 Q2292.64 1168.37 2289.57 1172.98 Q2286.51 1177.56 2280.7 1177.56 Q2274.89 1177.56 2271.81 1172.98 Q2268.76 1168.37 2268.76 1159.64 Q2268.76 1150.89 2271.81 1146.31 Q2274.89 1141.7 2280.7 1141.7 Z\" fill=\"#000000\" fill-rule=\"evenodd\" fill-opacity=\"1\" /><path clip-path=\"url(#clip130)\" d=\"M2300.86 1171.01 L2305.75 1171.01 L2305.75 1176.89 L2300.86 1176.89 L2300.86 1171.01 Z\" fill=\"#000000\" fill-rule=\"evenodd\" fill-opacity=\"1\" /><path clip-path=\"url(#clip130)\" d=\"M2319.96 1172.95 L2336.28 1172.95 L2336.28 1176.89 L2314.33 1176.89 L2314.33 1172.95 Q2317 1170.2 2321.58 1165.57 Q2326.19 1160.92 2327.37 1159.57 Q2329.61 1157.05 2330.49 1155.32 Q2331.39 1153.56 2331.39 1151.87 Q2331.39 1149.11 2329.45 1147.38 Q2327.53 1145.64 2324.43 1145.64 Q2322.23 1145.64 2319.77 1146.4 Q2317.34 1147.17 2314.57 1148.72 L2314.57 1144 Q2317.39 1142.86 2319.84 1142.28 Q2322.3 1141.7 2324.33 1141.7 Q2329.7 1141.7 2332.9 1144.39 Q2336.09 1147.07 2336.09 1151.57 Q2336.09 1153.7 2335.28 1155.62 Q2334.5 1157.51 2332.39 1160.11 Q2331.81 1160.78 2328.71 1164 Q2325.61 1167.19 2319.96 1172.95 Z\" fill=\"#000000\" fill-rule=\"evenodd\" fill-opacity=\"1\" /><path clip-path=\"url(#clip130)\" d=\"M2280.7 1015.44 Q2277.09 1015.44 2275.26 1019 Q2273.45 1022.54 2273.45 1029.67 Q2273.45 1036.78 2275.26 1040.34 Q2277.09 1043.89 2280.7 1043.89 Q2284.33 1043.89 2286.14 1040.34 Q2287.97 1036.78 2287.97 1029.67 Q2287.97 1022.54 2286.14 1019 Q2284.33 1015.44 2280.7 1015.44 M2280.7 1011.73 Q2286.51 1011.73 2289.57 1016.34 Q2292.64 1020.92 2292.64 1029.67 Q2292.64 1038.4 2289.57 1043.01 Q2286.51 1047.59 2280.7 1047.59 Q2274.89 1047.59 2271.81 1043.01 Q2268.76 1038.4 2268.76 1029.67 Q2268.76 1020.92 2271.81 1016.34 Q2274.89 1011.73 2280.7 1011.73 Z\" fill=\"#000000\" fill-rule=\"evenodd\" fill-opacity=\"1\" /><path clip-path=\"url(#clip130)\" d=\"M2300.86 1041.04 L2305.75 1041.04 L2305.75 1046.92 L2300.86 1046.92 L2300.86 1041.04 Z\" fill=\"#000000\" fill-rule=\"evenodd\" fill-opacity=\"1\" /><path clip-path=\"url(#clip130)\" d=\"M2330.1 1028.28 Q2333.45 1029 2335.33 1031.27 Q2337.23 1033.54 2337.23 1036.87 Q2337.23 1041.99 2333.71 1044.79 Q2330.19 1047.59 2323.71 1047.59 Q2321.53 1047.59 2319.22 1047.15 Q2316.93 1046.73 2314.47 1045.88 L2314.47 1041.36 Q2316.42 1042.5 2318.73 1043.08 Q2321.05 1043.65 2323.57 1043.65 Q2327.97 1043.65 2330.26 1041.92 Q2332.58 1040.18 2332.58 1036.87 Q2332.58 1033.82 2330.42 1032.1 Q2328.29 1030.37 2324.47 1030.37 L2320.45 1030.37 L2320.45 1026.53 L2324.66 1026.53 Q2328.11 1026.53 2329.94 1025.16 Q2331.76 1023.77 2331.76 1021.18 Q2331.76 1018.52 2329.87 1017.1 Q2327.99 1015.67 2324.47 1015.67 Q2322.55 1015.67 2320.35 1016.09 Q2318.15 1016.5 2315.51 1017.38 L2315.51 1013.22 Q2318.18 1012.47 2320.49 1012.1 Q2322.83 1011.73 2324.89 1011.73 Q2330.21 1011.73 2333.32 1014.16 Q2336.42 1016.57 2336.42 1020.69 Q2336.42 1023.56 2334.77 1025.55 Q2333.13 1027.52 2330.1 1028.28 Z\" fill=\"#000000\" fill-rule=\"evenodd\" fill-opacity=\"1\" /><path clip-path=\"url(#clip130)\" d=\"M2280.7 885.467 Q2277.09 885.467 2275.26 889.031 Q2273.45 892.573 2273.45 899.703 Q2273.45 906.809 2275.26 910.374 Q2277.09 913.916 2280.7 913.916 Q2284.33 913.916 2286.14 910.374 Q2287.97 906.809 2287.97 899.703 Q2287.97 892.573 2286.14 889.031 Q2284.33 885.467 2280.7 885.467 M2280.7 881.763 Q2286.51 881.763 2289.57 886.369 Q2292.64 890.953 2292.64 899.703 Q2292.64 908.429 2289.57 913.036 Q2286.51 917.619 2280.7 917.619 Q2274.89 917.619 2271.81 913.036 Q2268.76 908.429 2268.76 899.703 Q2268.76 890.953 2271.81 886.369 Q2274.89 881.763 2280.7 881.763 Z\" fill=\"#000000\" fill-rule=\"evenodd\" fill-opacity=\"1\" /><path clip-path=\"url(#clip130)\" d=\"M2300.86 911.068 L2305.75 911.068 L2305.75 916.948 L2300.86 916.948 L2300.86 911.068 Z\" fill=\"#000000\" fill-rule=\"evenodd\" fill-opacity=\"1\" /><path clip-path=\"url(#clip130)\" d=\"M2328.78 886.462 L2316.97 904.911 L2328.78 904.911 L2328.78 886.462 M2327.55 882.388 L2333.43 882.388 L2333.43 904.911 L2338.36 904.911 L2338.36 908.8 L2333.43 908.8 L2333.43 916.948 L2328.78 916.948 L2328.78 908.8 L2313.18 908.8 L2313.18 904.286 L2327.55 882.388 Z\" fill=\"#000000\" fill-rule=\"evenodd\" fill-opacity=\"1\" /><path clip-path=\"url(#clip130)\" d=\"M2280.7 755.496 Q2277.09 755.496 2275.26 759.061 Q2273.45 762.602 2273.45 769.732 Q2273.45 776.838 2275.26 780.403 Q2277.09 783.945 2280.7 783.945 Q2284.33 783.945 2286.14 780.403 Q2287.97 776.838 2287.97 769.732 Q2287.97 762.602 2286.14 759.061 Q2284.33 755.496 2280.7 755.496 M2280.7 751.792 Q2286.51 751.792 2289.57 756.399 Q2292.64 760.982 2292.64 769.732 Q2292.64 778.459 2289.57 783.065 Q2286.51 787.648 2280.7 787.648 Q2274.89 787.648 2271.81 783.065 Q2268.76 778.459 2268.76 769.732 Q2268.76 760.982 2271.81 756.399 Q2274.89 751.792 2280.7 751.792 Z\" fill=\"#000000\" fill-rule=\"evenodd\" fill-opacity=\"1\" /><path clip-path=\"url(#clip130)\" d=\"M2300.86 781.098 L2305.75 781.098 L2305.75 786.977 L2300.86 786.977 L2300.86 781.098 Z\" fill=\"#000000\" fill-rule=\"evenodd\" fill-opacity=\"1\" /><path clip-path=\"url(#clip130)\" d=\"M2315.98 752.417 L2334.33 752.417 L2334.33 756.352 L2320.26 756.352 L2320.26 764.825 Q2321.28 764.477 2322.3 764.315 Q2323.32 764.13 2324.33 764.13 Q2330.12 764.13 2333.5 767.301 Q2336.88 770.473 2336.88 775.889 Q2336.88 781.468 2333.41 784.57 Q2329.94 787.648 2323.62 787.648 Q2321.44 787.648 2319.17 787.278 Q2316.93 786.908 2314.52 786.167 L2314.52 781.468 Q2316.6 782.602 2318.83 783.158 Q2321.05 783.713 2323.52 783.713 Q2327.53 783.713 2329.87 781.607 Q2332.2 779.5 2332.2 775.889 Q2332.2 772.278 2329.87 770.172 Q2327.53 768.065 2323.52 768.065 Q2321.65 768.065 2319.77 768.482 Q2317.92 768.899 2315.98 769.778 L2315.98 752.417 Z\" fill=\"#000000\" fill-rule=\"evenodd\" fill-opacity=\"1\" /><path clip-path=\"url(#clip130)\" d=\"M2280.7 625.525 Q2277.09 625.525 2275.26 629.09 Q2273.45 632.632 2273.45 639.761 Q2273.45 646.868 2275.26 650.432 Q2277.09 653.974 2280.7 653.974 Q2284.33 653.974 2286.14 650.432 Q2287.97 646.868 2287.97 639.761 Q2287.97 632.632 2286.14 629.09 Q2284.33 625.525 2280.7 625.525 M2280.7 621.821 Q2286.51 621.821 2289.57 626.428 Q2292.64 631.011 2292.64 639.761 Q2292.64 648.488 2289.57 653.094 Q2286.51 657.678 2280.7 657.678 Q2274.89 657.678 2271.81 653.094 Q2268.76 648.488 2268.76 639.761 Q2268.76 631.011 2271.81 626.428 Q2274.89 621.821 2280.7 621.821 Z\" fill=\"#000000\" fill-rule=\"evenodd\" fill-opacity=\"1\" /><path clip-path=\"url(#clip130)\" d=\"M2300.86 651.127 L2305.75 651.127 L2305.75 657.006 L2300.86 657.006 L2300.86 651.127 Z\" fill=\"#000000\" fill-rule=\"evenodd\" fill-opacity=\"1\" /><path clip-path=\"url(#clip130)\" d=\"M2326.51 637.863 Q2323.36 637.863 2321.51 640.016 Q2319.68 642.169 2319.68 645.919 Q2319.68 649.645 2321.51 651.821 Q2323.36 653.974 2326.51 653.974 Q2329.66 653.974 2331.49 651.821 Q2333.34 649.645 2333.34 645.919 Q2333.34 642.169 2331.49 640.016 Q2329.66 637.863 2326.51 637.863 M2335.79 623.21 L2335.79 627.47 Q2334.03 626.636 2332.23 626.196 Q2330.45 625.757 2328.69 625.757 Q2324.06 625.757 2321.6 628.882 Q2319.17 632.007 2318.83 638.326 Q2320.19 636.312 2322.25 635.247 Q2324.31 634.159 2326.79 634.159 Q2332 634.159 2335.01 637.331 Q2338.04 640.479 2338.04 645.919 Q2338.04 651.243 2334.89 654.46 Q2331.74 657.678 2326.51 657.678 Q2320.51 657.678 2317.34 653.094 Q2314.17 648.488 2314.17 639.761 Q2314.17 631.567 2318.06 626.706 Q2321.95 621.821 2328.5 621.821 Q2330.26 621.821 2332.04 622.169 Q2333.85 622.516 2335.79 623.21 Z\" fill=\"#000000\" fill-rule=\"evenodd\" fill-opacity=\"1\" /><path clip-path=\"url(#clip130)\" d=\"M2280.7 495.554 Q2277.09 495.554 2275.26 499.119 Q2273.45 502.661 2273.45 509.79 Q2273.45 516.897 2275.26 520.462 Q2277.09 524.003 2280.7 524.003 Q2284.33 524.003 2286.14 520.462 Q2287.97 516.897 2287.97 509.79 Q2287.97 502.661 2286.14 499.119 Q2284.33 495.554 2280.7 495.554 M2280.7 491.851 Q2286.51 491.851 2289.57 496.457 Q2292.64 501.04 2292.64 509.79 Q2292.64 518.517 2289.57 523.124 Q2286.51 527.707 2280.7 527.707 Q2274.89 527.707 2271.81 523.124 Q2268.76 518.517 2268.76 509.79 Q2268.76 501.04 2271.81 496.457 Q2274.89 491.851 2280.7 491.851 Z\" fill=\"#000000\" fill-rule=\"evenodd\" fill-opacity=\"1\" /><path clip-path=\"url(#clip130)\" d=\"M2300.86 521.156 L2305.75 521.156 L2305.75 527.036 L2300.86 527.036 L2300.86 521.156 Z\" fill=\"#000000\" fill-rule=\"evenodd\" fill-opacity=\"1\" /><path clip-path=\"url(#clip130)\" d=\"M2314.75 492.476 L2336.97 492.476 L2336.97 494.466 L2324.43 527.036 L2319.54 527.036 L2331.35 496.411 L2314.75 496.411 L2314.75 492.476 Z\" fill=\"#000000\" fill-rule=\"evenodd\" fill-opacity=\"1\" /><path clip-path=\"url(#clip130)\" d=\"M2280.7 365.584 Q2277.09 365.584 2275.26 369.148 Q2273.45 372.69 2273.45 379.82 Q2273.45 386.926 2275.26 390.491 Q2277.09 394.032 2280.7 394.032 Q2284.33 394.032 2286.14 390.491 Q2287.97 386.926 2287.97 379.82 Q2287.97 372.69 2286.14 369.148 Q2284.33 365.584 2280.7 365.584 M2280.7 361.88 Q2286.51 361.88 2289.57 366.486 Q2292.64 371.07 2292.64 379.82 Q2292.64 388.546 2289.57 393.153 Q2286.51 397.736 2280.7 397.736 Q2274.89 397.736 2271.81 393.153 Q2268.76 388.546 2268.76 379.82 Q2268.76 371.07 2271.81 366.486 Q2274.89 361.88 2280.7 361.88 Z\" fill=\"#000000\" fill-rule=\"evenodd\" fill-opacity=\"1\" /><path clip-path=\"url(#clip130)\" d=\"M2300.86 391.185 L2305.75 391.185 L2305.75 397.065 L2300.86 397.065 L2300.86 391.185 Z\" fill=\"#000000\" fill-rule=\"evenodd\" fill-opacity=\"1\" /><path clip-path=\"url(#clip130)\" d=\"M2325.93 380.653 Q2322.6 380.653 2320.68 382.435 Q2318.78 384.218 2318.78 387.343 Q2318.78 390.468 2320.68 392.25 Q2322.6 394.032 2325.93 394.032 Q2329.26 394.032 2331.19 392.25 Q2333.11 390.445 2333.11 387.343 Q2333.11 384.218 2331.19 382.435 Q2329.29 380.653 2325.93 380.653 M2321.26 378.662 Q2318.25 377.921 2316.56 375.861 Q2314.89 373.801 2314.89 370.838 Q2314.89 366.695 2317.83 364.287 Q2320.79 361.88 2325.93 361.88 Q2331.09 361.88 2334.03 364.287 Q2336.97 366.695 2336.97 370.838 Q2336.97 373.801 2335.28 375.861 Q2333.62 377.921 2330.63 378.662 Q2334.01 379.449 2335.89 381.741 Q2337.78 384.033 2337.78 387.343 Q2337.78 392.366 2334.7 395.051 Q2331.65 397.736 2325.93 397.736 Q2320.21 397.736 2317.14 395.051 Q2314.08 392.366 2314.08 387.343 Q2314.08 384.033 2315.98 381.741 Q2317.88 379.449 2321.26 378.662 M2319.54 371.278 Q2319.54 373.963 2321.21 375.468 Q2322.9 376.972 2325.93 376.972 Q2328.94 376.972 2330.63 375.468 Q2332.34 373.963 2332.34 371.278 Q2332.34 368.593 2330.63 367.088 Q2328.94 365.584 2325.93 365.584 Q2322.9 365.584 2321.21 367.088 Q2319.54 368.593 2319.54 371.278 Z\" fill=\"#000000\" fill-rule=\"evenodd\" fill-opacity=\"1\" /><path clip-path=\"url(#clip130)\" d=\"M2280.7 235.613 Q2277.09 235.613 2275.26 239.178 Q2273.45 242.719 2273.45 249.849 Q2273.45 256.955 2275.26 260.52 Q2277.09 264.062 2280.7 264.062 Q2284.33 264.062 2286.14 260.52 Q2287.97 256.955 2287.97 249.849 Q2287.97 242.719 2286.14 239.178 Q2284.33 235.613 2280.7 235.613 M2280.7 231.909 Q2286.51 231.909 2289.57 236.516 Q2292.64 241.099 2292.64 249.849 Q2292.64 258.576 2289.57 263.182 Q2286.51 267.765 2280.7 267.765 Q2274.89 267.765 2271.81 263.182 Q2268.76 258.576 2268.76 249.849 Q2268.76 241.099 2271.81 236.516 Q2274.89 231.909 2280.7 231.909 Z\" fill=\"#000000\" fill-rule=\"evenodd\" fill-opacity=\"1\" /><path clip-path=\"url(#clip130)\" d=\"M2300.86 261.214 L2305.75 261.214 L2305.75 267.094 L2300.86 267.094 L2300.86 261.214 Z\" fill=\"#000000\" fill-rule=\"evenodd\" fill-opacity=\"1\" /><path clip-path=\"url(#clip130)\" d=\"M2316.07 266.377 L2316.07 262.117 Q2317.83 262.951 2319.64 263.39 Q2321.44 263.83 2323.18 263.83 Q2327.81 263.83 2330.24 260.728 Q2332.69 257.603 2333.04 251.261 Q2331.7 253.252 2329.64 254.316 Q2327.58 255.381 2325.08 255.381 Q2319.89 255.381 2316.86 252.256 Q2313.85 249.108 2313.85 243.668 Q2313.85 238.344 2317 235.127 Q2320.14 231.909 2325.38 231.909 Q2331.37 231.909 2334.52 236.516 Q2337.69 241.099 2337.69 249.849 Q2337.69 258.02 2333.8 262.904 Q2329.94 267.765 2323.39 267.765 Q2321.63 267.765 2319.82 267.418 Q2318.01 267.071 2316.07 266.377 M2325.38 251.724 Q2328.52 251.724 2330.35 249.571 Q2332.2 247.418 2332.2 243.668 Q2332.2 239.941 2330.35 237.789 Q2328.52 235.613 2325.38 235.613 Q2322.23 235.613 2320.38 237.789 Q2318.55 239.941 2318.55 243.668 Q2318.55 247.418 2320.38 249.571 Q2322.23 251.724 2325.38 251.724 Z\" fill=\"#000000\" fill-rule=\"evenodd\" fill-opacity=\"1\" /><path clip-path=\"url(#clip130)\" d=\"M2269.43 133.188 L2277.07 133.188 L2277.07 106.823 L2268.76 108.489 L2268.76 104.23 L2277.02 102.563 L2281.7 102.563 L2281.7 133.188 L2289.33 133.188 L2289.33 137.123 L2269.43 137.123 L2269.43 133.188 Z\" fill=\"#000000\" fill-rule=\"evenodd\" fill-opacity=\"1\" /><path clip-path=\"url(#clip130)\" d=\"M2298.78 131.244 L2303.66 131.244 L2303.66 137.123 L2298.78 137.123 L2298.78 131.244 Z\" fill=\"#000000\" fill-rule=\"evenodd\" fill-opacity=\"1\" /><path clip-path=\"url(#clip130)\" d=\"M2323.85 105.642 Q2320.24 105.642 2318.41 109.207 Q2316.6 112.748 2316.6 119.878 Q2316.6 126.984 2318.41 130.549 Q2320.24 134.091 2323.85 134.091 Q2327.48 134.091 2329.29 130.549 Q2331.12 126.984 2331.12 119.878 Q2331.12 112.748 2329.29 109.207 Q2327.48 105.642 2323.85 105.642 M2323.85 101.938 Q2329.66 101.938 2332.71 106.545 Q2335.79 111.128 2335.79 119.878 Q2335.79 128.605 2332.71 133.211 Q2329.66 137.795 2323.85 137.795 Q2318.04 137.795 2314.96 133.211 Q2311.9 128.605 2311.9 119.878 Q2311.9 111.128 2314.96 106.545 Q2318.04 101.938 2323.85 101.938 Z\" fill=\"#000000\" fill-rule=\"evenodd\" fill-opacity=\"1\" /><polyline clip-path=\"url(#clip130)\" style=\"stroke:#000000; stroke-linecap:butt; stroke-linejoin:round; stroke-width:4; stroke-opacity:1; fill:none\" points=\"\n",
       "  2232.76,1423.18 2232.76,1423.18 2256.76,1423.18 2232.76,1423.18 2232.76,1293.21 2256.76,1293.21 2232.76,1293.21 2232.76,1163.24 2256.76,1163.24 2232.76,1163.24 \n",
       "  2232.76,1033.27 2256.76,1033.27 2232.76,1033.27 2232.76,903.297 2256.76,903.297 2232.76,903.297 2232.76,773.326 2256.76,773.326 2232.76,773.326 2232.76,643.355 \n",
       "  2256.76,643.355 2232.76,643.355 2232.76,513.384 2256.76,513.384 2232.76,513.384 2232.76,383.414 2256.76,383.414 2232.76,383.414 2232.76,253.443 2256.76,253.443 \n",
       "  2232.76,253.443 2232.76,123.472 2256.76,123.472 2232.76,123.472 \n",
       "  \"/>\n",
       "</svg>\n"
      ]
     },
     "execution_count": 46,
     "metadata": {},
     "output_type": "execute_result"
    }
   ],
   "source": [
    "p1 = heatmap(1:42, 1:31, Array(af.bpb.beliefs[:,2,:]), xlabel=\"n\", ylabel=\"i\", title=\"x=1\")"
   ]
  },
  {
   "cell_type": "code",
   "execution_count": 47,
   "metadata": {},
   "outputs": [
    {
     "data": {
      "text/plain": [
       "15-element Vector{Tuple{Int64, Int64}}:\n",
       " (1, 6)\n",
       " (1, 7)\n",
       " (1, 8)\n",
       " (1, 9)\n",
       " (1, 10)\n",
       " (1, 11)\n",
       " (1, 12)\n",
       " (1, 13)\n",
       " (1, 14)\n",
       " (1, 15)\n",
       " (1, 16)\n",
       " (1, 17)\n",
       " (0, 17)\n",
       " (1, 18)\n",
       " (1, 19)"
      ]
     },
     "execution_count": 47,
     "metadata": {},
     "output_type": "execute_result"
    }
   ],
   "source": [
    "xnsol[1:15]"
   ]
  },
  {
   "cell_type": "code",
   "execution_count": 48,
   "metadata": {},
   "outputs": [
    {
     "data": {
      "text/plain": [
       "16-element Vector{Tuple{Int64, Int64}}:\n",
       " (1, 20)\n",
       " (1, 21)\n",
       " (1, 22)\n",
       " (1, 23)\n",
       " (1, 24)\n",
       " (1, 25)\n",
       " (1, 26)\n",
       " (1, 27)\n",
       " (1, 28)\n",
       " (1, 29)\n",
       " (1, 30)\n",
       " (1, 31)\n",
       " (1, 32)\n",
       " (1, 33)\n",
       " (1, 34)\n",
       " (1, 35)"
      ]
     },
     "execution_count": 48,
     "metadata": {},
     "output_type": "execute_result"
    }
   ],
   "source": [
    "xnsol[16:31]"
   ]
  },
  {
   "cell_type": "code",
   "execution_count": null,
   "metadata": {},
   "outputs": [],
   "source": []
  },
  {
   "cell_type": "code",
   "execution_count": null,
   "metadata": {},
   "outputs": [],
   "source": []
  },
  {
   "cell_type": "code",
   "execution_count": 49,
   "metadata": {},
   "outputs": [
    {
     "data": {
      "text/plain": [
       "true"
      ]
     },
     "execution_count": 49,
     "metadata": {},
     "output_type": "execute_result"
    }
   ],
   "source": [
    "P = fill(fill(0.0, 0:1,0:N+1), L)\n",
    "for i=1:L\n",
    "    P[i] = OffsetArray(transpose(af.bpb.beliefs[:,:,i]), 0:1,0:N+1)\n",
    "end\n",
    "BpAlignGpu.convert_soltosequence!(xnsol, seq.strseq, N, L) == BpAlignGpu.decodeposterior(P, seq.strseq)"
   ]
  },
  {
   "cell_type": "code",
   "execution_count": 50,
   "metadata": {},
   "outputs": [
    {
     "name": "stdout",
     "output_type": "stream",
     "text": [
      "Let us check the assignment...\n",
      "The subsequence satisfies the constraints\n"
     ]
    },
    {
     "data": {
      "text/plain": [
       "true"
      ]
     },
     "execution_count": 50,
     "metadata": {},
     "output_type": "execute_result"
    }
   ],
   "source": [
    "BpAlignGpu.check_assignment(P,true,N)"
   ]
  },
  {
   "cell_type": "code",
   "execution_count": null,
   "metadata": {},
   "outputs": [],
   "source": []
  },
  {
   "cell_type": "code",
   "execution_count": null,
   "metadata": {},
   "outputs": [],
   "source": []
  },
  {
   "cell_type": "code",
   "execution_count": null,
   "metadata": {},
   "outputs": [],
   "source": []
  },
  {
   "cell_type": "code",
   "execution_count": 52,
   "metadata": {},
   "outputs": [
    {
     "name": "stdout",
     "output_type": "stream",
     "text": [
      "  0.001118 seconds (726 allocations: 45.547 KiB)\n",
      "  0.001037 seconds (750 allocations: 46.797 KiB)\n",
      "  0.001018 seconds (726 allocations: 45.703 KiB)\n",
      "  0.001107 seconds (796 allocations: 49.859 KiB)\n",
      "  0.000700 seconds (368 allocations: 23.734 KiB)\n",
      "  0.000785 seconds (441 allocations: 32.203 KiB)\n",
      "  0.000486 seconds (342 allocations: 19.688 KiB)\n",
      "  0.034756 seconds (39.15 k allocations: 2.164 MiB)\n",
      "  0.098424 seconds (302 allocations: 14.922 KiB)\n",
      "  0.090062 seconds (323 allocations: 16.828 KiB)\n"
     ]
    }
   ],
   "source": [
    "@time BpAlignGpu.update_F!(af, pm, pa)\n",
    "@time BpAlignGpu.update_hF!(af, pm, pa)\n",
    "@time BpAlignGpu.update_B!(af, pm, pa)\n",
    "@time BpAlignGpu.update_hB!(af, pm, pa)\n",
    "@time BpAlignGpu.update_beliefs!(af, pm, pa)\n",
    "@time BpAlignGpu.update_jointchain!(af, pm, pa)\n",
    "@time BpAlignGpu.update_conditional_chain!(af, pa)\n",
    "@time BpAlignGpu.update_conditional_all!(af, pm)\n",
    "@time BpAlignGpu.update_f!(af)\n",
    "@time BpAlignGpu.update_g!(af)"
   ]
  },
  {
   "cell_type": "code",
   "execution_count": null,
   "metadata": {},
   "outputs": [],
   "source": []
  }
 ],
 "metadata": {
  "kernelspec": {
   "display_name": "Julia 1.7.1",
   "language": "julia",
   "name": "julia-1.7"
  },
  "language_info": {
   "file_extension": ".jl",
   "mimetype": "application/julia",
   "name": "julia",
   "version": "1.7.1"
  }
 },
 "nbformat": 4,
 "nbformat_minor": 4
}
