{
 "cells": [
  {
   "cell_type": "code",
   "execution_count": 1,
   "metadata": {},
   "outputs": [
    {
     "name": "stderr",
     "output_type": "stream",
     "text": [
      "\u001b[32m\u001b[1m  Activating\u001b[22m\u001b[39m project at `~/MSA/BpAlignGpu.jl`\n",
      "┌ Info: Precompiling BpAlignGpu [5a3eb610-29b2-4cbe-8ba2-ea97f65fa95d]\n",
      "└ @ Base loading.jl:1423\n",
      "\u001b[33m\u001b[1m┌ \u001b[22m\u001b[39m\u001b[33m\u001b[1mWarning: \u001b[22m\u001b[39mPackage BpAlignGpu does not have OffsetArrays in its dependencies:\n",
      "\u001b[33m\u001b[1m│ \u001b[22m\u001b[39m- If you have BpAlignGpu checked out for development and have\n",
      "\u001b[33m\u001b[1m│ \u001b[22m\u001b[39m  added OffsetArrays as a dependency but haven't updated your primary\n",
      "\u001b[33m\u001b[1m│ \u001b[22m\u001b[39m  environment's manifest file, try `Pkg.resolve()`.\n",
      "\u001b[33m\u001b[1m│ \u001b[22m\u001b[39m- Otherwise you may need to report an issue with BpAlignGpu\n",
      "\u001b[33m\u001b[1m└ \u001b[22m\u001b[39mLoading OffsetArrays into BpAlignGpu from project dependency, future warnings for BpAlignGpu are suppressed.\n"
     ]
    }
   ],
   "source": [
    "using Revise, Pkg\n",
    "Pkg.activate(\"/home/louise/MSA/BpAlignGpu.jl\")\n",
    "using BpAlignGpu"
   ]
  },
  {
   "cell_type": "code",
   "execution_count": 2,
   "metadata": {},
   "outputs": [
    {
     "data": {
      "text/plain": [
       "Float32"
      ]
     },
     "execution_count": 2,
     "metadata": {},
     "output_type": "execute_result"
    }
   ],
   "source": [
    "T = Float32"
   ]
  },
  {
   "cell_type": "code",
   "execution_count": 3,
   "metadata": {},
   "outputs": [
    {
     "name": "stderr",
     "output_type": "stream",
     "text": [
      "┌ Info: Assuming J i j a b and h i a format\n",
      "└ @ BpAlignGpu /home/louise/MSA/BpAlignGpu.jl/src/utils.jl:37\n",
      "┌ Info: Output tersors: J[a b i j] and h[a i]\n",
      "└ @ BpAlignGpu /home/louise/MSA/BpAlignGpu.jl/src/utils.jl:39\n",
      "┌ Info: Gap in input file 0 now in 21\n",
      "└ @ BpAlignGpu /home/louise/MSA/BpAlignGpu.jl/src/utils.jl:40\n"
     ]
    }
   ],
   "source": [
    "#open(\"/home/louise/MSA/Data/test/PF00684/\")\n",
    "open(\"/home/louise/MSA/Data/test/PF00397/\")\n",
    "q = 21; L = 31; \n",
    "ctype=Symbol(\"amino\")\n",
    "typel=Symbol(\"bm\")\n",
    "\n",
    "#J, H = BpAlignGpu.read_parameters(\"/home/louise/MSA/Data/test/PF00684/Parameters_bm_PF00684seed_potts.dat\", q, L, gap=0, typel=typel);\n",
    "J, H = BpAlignGpu.read_parameters(\"/home/louise/MSA/Data/test/PF00397/Parameters_plm_PF00397.dat\", q, L, gap=0, typel=typel);"
   ]
  },
  {
   "cell_type": "code",
   "execution_count": 4,
   "metadata": {},
   "outputs": [
    {
     "name": "stdout",
     "output_type": "stream",
     "text": [
      "Consider this sequence: \n",
      "A0A401GBT9_9APHY/8-47\n",
      "Full length: \n",
      "MAPPPLPLGWTEHMSPTGQPYYFNTQTQESTYVRPLPPFP\n",
      "Aligned by HMMer (without and with insertions): \n",
      "LPLGWTEHMSPT-GQPYYFNTQTQESTYVRP\n",
      "LPLGWTEHMSPT-GQPYYFNTQTQESTYVRP\n"
     ]
    }
   ],
   "source": [
    "delta = 5;\n",
    "#al = BpAlignGpu.enveloptoalign( \"/home/louise/MSA/Data/test/PF00684/Test_PF00684.full\", \"/home/louise/MSA/Data/test/PF00684/Test_PF00684.fasta\", \"/home/louise/MSA/Data/test/PF00684/Test_PF00684.ins\", delta = delta, ctype = ctype);\n",
    "al = BpAlignGpu.enveloptoalign( \"/home/louise/MSA/Data/test/PF00397/PF00397_full_length_sequences.fasta\", \"/home/louise/MSA/Data/test/PF00397/PF00397_full.fasta\", \"/home/louise/MSA/Data/test/PF00397/PF00397_full.inse\", delta = delta, ctype = ctype);\n",
    "M = length(al)\n",
    "\n",
    "println(\"Consider this sequence: \")\n",
    "# consider one random sequence as an example\n",
    "idx0 = 20# rand(1:M) \n",
    "(aux,garb) = split(al[idx0][1], \"/\")\n",
    "seqsol = al[idx0][3];\n",
    "seqins = al[idx0][4];\n",
    "seq = BpAlignGpu.Seq(seqsol, al[idx0][2], ctype)\n",
    "N = length(al[idx0][2])\n",
    "println(al[idx0][1])\n",
    "println(\"Full length: \")\n",
    "println(al[idx0][2])\n",
    "println(\"Aligned by HMMer (without and with insertions): \")\n",
    "println(seqsol)\n",
    "println(seqins)\n",
    "\n"
   ]
  },
  {
   "cell_type": "code",
   "execution_count": 5,
   "metadata": {},
   "outputs": [],
   "source": [
    "using DelimitedFiles\n"
   ]
  },
  {
   "cell_type": "code",
   "execution_count": 6,
   "metadata": {},
   "outputs": [],
   "source": [
    "#Lambda_all = readdlm(\"/home/louise/MSA/Data/test/PF00684/Lambda_PF00684.dat\")\n",
    "Lambda_all = readdlm(\"/home/louise/MSA/Data/test/PF00397/Lambda_PF00397.dat\")\n",
    "lambda_o = Lambda_all[1,:];\n",
    "lambda_e = Lambda_all[2,:];\n",
    "\n",
    "\n",
    "muext = 0.00;\n",
    "muint = 2.50;"
   ]
  },
  {
   "cell_type": "code",
   "execution_count": 7,
   "metadata": {},
   "outputs": [
    {
     "data": {
      "text/plain": [
       "(21, 40, 31)"
      ]
     },
     "execution_count": 7,
     "metadata": {},
     "output_type": "execute_result"
    }
   ],
   "source": [
    "q, N, L"
   ]
  },
  {
   "cell_type": "code",
   "execution_count": 8,
   "metadata": {},
   "outputs": [
    {
     "data": {
      "text/plain": [
       "ParamModel{Float32}[L=31 N=40 q=21]\n"
      ]
     },
     "execution_count": 8,
     "metadata": {},
     "output_type": "execute_result"
    }
   ],
   "source": [
    "pm = ParamModel{T}(N, L, q, muint, muext, lambda_o, lambda_e, H, J)"
   ]
  },
  {
   "cell_type": "code",
   "execution_count": 9,
   "metadata": {},
   "outputs": [
    {
     "data": {
      "text/plain": []
     },
     "execution_count": 9,
     "metadata": {},
     "output_type": "execute_result"
    },
    {
     "name": "stdout",
     "output_type": "stream",
     "text": [
      "ParamAlgo{Float32}\n",
      "-------------\n",
      "damp=0.2\n",
      "tol=1.0e-5\n",
      "tolnorm=1.0e-5\n",
      "tmax=10\n",
      "upscheme=sequential\n",
      "lr=sce\n",
      "beta=1.0\n",
      "verbose=true\n",
      "-------------\n"
     ]
    }
   ],
   "source": [
    "damp=T(0.2)\n",
    "tol=T(1e-5)\n",
    "tolnorm=T(1e-5)\n",
    "tmax=10\n",
    "upscheme=:sequential # :random or :sequential\n",
    "lr=:sce  # :sce or :mf \n",
    "beta=T(1.0)\n",
    "verbose=true\n",
    "pa = ParamAlgo(damp, tol, tolnorm, tmax, upscheme, lr, beta, verbose)"
   ]
  },
  {
   "cell_type": "code",
   "execution_count": 10,
   "metadata": {},
   "outputs": [
    {
     "name": "stderr",
     "output_type": "stream",
     "text": [
      "┌ Warning: The NVIDIA driver on this system only supports up to CUDA 11.0.0.\n",
      "│ For performance reasons, it is recommended to upgrade to a driver that supports CUDA 11.2 or higher.\n",
      "└ @ CUDA /home/louise/.julia/packages/CUDA/bki2w/src/initialization.jl:70\n"
     ]
    },
    {
     "data": {
      "text/plain": [
       "AllFields{Float32}[L=31 N=40 ongpu=true]"
      ]
     },
     "execution_count": 10,
     "metadata": {},
     "output_type": "execute_result"
    }
   ],
   "source": [
    "bpm = BPMessages(seq, pm)\n",
    "bpb = BPBeliefs(N, L)\n",
    "lrf = LongRangeFields(N, L)\n",
    "af = AllFields(bpm, bpb, lrf)"
   ]
  },
  {
   "cell_type": "code",
   "execution_count": 27,
   "metadata": {},
   "outputs": [
    {
     "name": "stdout",
     "output_type": "stream",
     "text": [
      "t=1\t err=0.1942451\n",
      "t=2\t err=0.5556629\n",
      "t=3\t err=0.747076\n",
      "t=4\t err=0.007356763\n",
      "t=5\t err=0.0072240233\n",
      "t=6\t err=0.0073447227\n",
      "t=7\t err=0.44053686\n",
      "t=8\t err=0.4417041\n",
      "t=9\t err=0.00727129\n",
      "t=10\t err=0.00731349\n",
      "t=11\t err=0.17186898\n",
      "t=12\t err=0.1745404\n",
      "t=13\t err=0.0072885156\n",
      "t=14\t err=0.083426416\n",
      "t=15\t err=0.08561933\n",
      "t=16\t err=0.0072950125\n",
      "t=17\t err=0.007293701\n",
      "t=18\t err=0.007294297\n",
      "t=19\t err=0.29226124\n",
      "t=20\t err=0.29417372\n",
      "t=21\t err=0.022338074\n",
      "t=22\t err=0.02560383\n",
      "t=23\t err=0.03159213\n",
      "t=24\t err=0.035234928\n",
      "t=25\t err=0.009208143\n",
      "t=26\t err=0.007294059\n",
      "t=27\t err=0.007294059\n",
      "t=28\t err=0.0072941184\n",
      "t=29\t err=0.054297265\n",
      "t=30\t err=0.1575607\n",
      "t=31\t err=0.19784462\n",
      "t=32\t err=0.01349614\n",
      "t=33\t err=0.0072941184\n",
      "t=34\t err=0.007294059\n",
      "t=35\t err=0.007294059\n",
      "t=36\t err=0.40429223\n",
      "t=37\t err=0.4063865\n",
      "t=38\t err=0.008381665\n",
      "t=39\t err=0.007294059\n",
      "t=40\t err=0.25430498\n",
      "t=41\t err=0.22610003\n",
      "t=42\t err=0.06415677\n",
      "t=43\t err=0.0881291\n",
      "t=44\t err=0.05477637\n",
      "t=45\t err=0.03474188\n",
      "t=46\t err=0.014907777\n",
      "t=47\t err=0.13804632\n",
      "t=48\t err=0.14282918\n",
      "t=49\t err=0.02013702\n",
      "t=50\t err=0.03213201\n",
      " 10.856145 seconds (2.65 M allocations: 133.210 MiB, 2.12% gc time)\n"
     ]
    }
   ],
   "source": [
    "@time BpAlignGpu.test_sweep!(50,af,pm,pa)"
   ]
  },
  {
   "cell_type": "code",
   "execution_count": 50,
   "metadata": {},
   "outputs": [
    {
     "name": "stderr",
     "output_type": "stream",
     "text": [
      "┌ Info: Precompiling Plots [91a5bcdd-55d7-5caf-9e0b-520d859cae80]\n",
      "└ @ Base loading.jl:1423\n"
     ]
    }
   ],
   "source": [
    "using Plots"
   ]
  },
  {
   "cell_type": "code",
   "execution_count": 51,
   "metadata": {},
   "outputs": [
    {
     "name": "stderr",
     "output_type": "stream",
     "text": [
      "┌ Warning: Performing scalar indexing on task Task (runnable) @0x00007fc2105b8460.\n",
      "│ Invocation of getindex resulted in scalar indexing of a GPU array.\n",
      "│ This is typically caused by calling an iterating implementation of a method.\n",
      "│ Such implementations *do not* execute on the GPU, but very slowly on the CPU,\n",
      "│ and therefore are only permitted from the REPL for prototyping purposes.\n",
      "│ If you did intend to index this array, annotate the caller with @allowscalar.\n",
      "└ @ GPUArrays /home/louise/.julia/packages/GPUArrays/umZob/src/host/indexing.jl:56\n",
      "┌ Info: Precompiling GR_jll [d2c73de3-f751-5644-a686-071e5b155ba9]\n",
      "└ @ Base loading.jl:1423\n"
     ]
    },
    {
     "ename": "ErrorException",
     "evalue": "GPU broadcast resulted in non-concrete element type Any.\nThis probably means that the function you are broadcasting contains an error or type instability.",
     "output_type": "error",
     "traceback": [
      "GPU broadcast resulted in non-concrete element type Any.\nThis probably means that the function you are broadcasting contains an error or type instability.",
      "",
      "Stacktrace:",
      "  [1] error(s::String)",
      "    @ Base ./error.jl:33",
      "  [2] copy",
      "    @ ~/.julia/packages/GPUArrays/umZob/src/host/broadcast.jl:44 [inlined]",
      "  [3] materialize(bc::Base.Broadcast.Broadcasted{CUDA.CuArrayStyle{2}, Nothing, PlotUtils.var\"#6#7\"{PlotUtils.ContinuousColorGradient}, Tuple{CUDA.CuArray{Float32, 2, CUDA.Mem.DeviceBuffer}}})",
      "    @ Base.Broadcast ./broadcast.jl:860",
      "  [4] map(::Function, ::CUDA.CuArray{Float32, 2, CUDA.Mem.DeviceBuffer})",
      "    @ GPUArrays ~/.julia/packages/GPUArrays/umZob/src/host/broadcast.jl:90",
      "  [5] get(cg::PlotUtils.ContinuousColorGradient, v::CUDA.CuArray{Float32, 2, CUDA.Mem.DeviceBuffer}, rangescale::Tuple{Float64, Float64})",
      "    @ PlotUtils ~/.julia/packages/PlotUtils/rTTui/src/colorschemes.jl:29",
      "  [6] gr_draw_heatmap(series::Plots.Series, x::Vector{Float64}, y::Vector{Float64}, z::CUDA.CuArray{Float32, 2, CUDA.Mem.DeviceBuffer}, clims::Tuple{Float64, Float64})",
      "    @ Plots ~/.julia/packages/Plots/LI4FE/src/backends/gr.jl:2102",
      "  [7] gr_add_series(sp::Plots.Subplot{Plots.GRBackend}, series::Plots.Series)",
      "    @ Plots ~/.julia/packages/Plots/LI4FE/src/backends/gr.jl:1859",
      "  [8] gr_display(sp::Plots.Subplot{Plots.GRBackend}, w::Measures.AbsoluteLength, h::Measures.AbsoluteLength, viewport_canvas::Vector{Float64})",
      "    @ Plots ~/.julia/packages/Plots/LI4FE/src/backends/gr.jl:1005",
      "  [9] gr_display(plt::Plots.Plot{Plots.GRBackend}, fmt::String)",
      "    @ Plots ~/.julia/packages/Plots/LI4FE/src/backends/gr.jl:670",
      " [10] _show(io::IOBuffer, #unused#::MIME{Symbol(\"image/svg+xml\")}, plt::Plots.Plot{Plots.GRBackend})",
      "    @ Plots ~/.julia/packages/Plots/LI4FE/src/backends/gr.jl:2169",
      " [11] show(io::IOBuffer, m::MIME{Symbol(\"image/svg+xml\")}, plt::Plots.Plot{Plots.GRBackend})",
      "    @ Plots ~/.julia/packages/Plots/LI4FE/src/output.jl:205",
      " [12] sprint(::Function, ::MIME{Symbol(\"image/svg+xml\")}, ::Vararg{Any}; context::Nothing, sizehint::Int64)",
      "    @ Base ./strings/io.jl:114",
      " [13] sprint",
      "    @ ./strings/io.jl:108 [inlined]",
      " [14] _ijulia_display_dict(plt::Plots.Plot{Plots.GRBackend})",
      "    @ Plots ~/.julia/packages/Plots/LI4FE/src/ijulia.jl:47",
      " [15] display_dict(plt::Plots.Plot{Plots.GRBackend})",
      "    @ Plots ~/.julia/packages/Plots/LI4FE/src/init.jl:92",
      " [16] #invokelatest#2",
      "    @ ./essentials.jl:716 [inlined]",
      " [17] invokelatest",
      "    @ ./essentials.jl:714 [inlined]",
      " [18] execute_request(socket::ZMQ.Socket, msg::IJulia.Msg)",
      "    @ IJulia ~/.julia/packages/IJulia/e8kqU/src/execute_request.jl:112",
      " [19] #invokelatest#2",
      "    @ ./essentials.jl:716 [inlined]",
      " [20] invokelatest",
      "    @ ./essentials.jl:714 [inlined]",
      " [21] eventloop(socket::ZMQ.Socket)",
      "    @ IJulia ~/.julia/packages/IJulia/e8kqU/src/eventloop.jl:8",
      " [22] (::IJulia.var\"#15#18\")()",
      "    @ IJulia ./task.jl:423"
     ]
    }
   ],
   "source": [
    "p0 = heatmap(af.bpb.beliefs[:,1, :], xlabel=\"i\", ylabel=\"n\", title=\"x=0\")"
   ]
  },
  {
   "cell_type": "code",
   "execution_count": null,
   "metadata": {},
   "outputs": [],
   "source": []
  },
  {
   "cell_type": "code",
   "execution_count": null,
   "metadata": {},
   "outputs": [],
   "source": []
  },
  {
   "cell_type": "code",
   "execution_count": 28,
   "metadata": {},
   "outputs": [
    {
     "data": {
      "text/plain": [
       "0.7974027f0"
      ]
     },
     "execution_count": 28,
     "metadata": {},
     "output_type": "execute_result"
    }
   ],
   "source": [
    "solbel, maxbel = BpAlignGpu.solmaxbel(af);\n",
    "minimum(maxbel)"
   ]
  },
  {
   "cell_type": "code",
   "execution_count": 49,
   "metadata": {},
   "outputs": [
    {
     "data": {
      "text/plain": [
       "(\"LPLGWTEHMSPT-GQPYYFNTQTQESTYVRP\", \"LPLGWTEHMSPT-GQPYYFNTQTQESTYVRP\", 6, 35)"
      ]
     },
     "execution_count": 49,
     "metadata": {},
     "output_type": "execute_result"
    }
   ],
   "source": [
    "BpAlignGpu.convert_soltosequence!(solbel, seq.strseq, N, L)"
   ]
  },
  {
   "cell_type": "code",
   "execution_count": 29,
   "metadata": {},
   "outputs": [
    {
     "data": {
      "text/plain": [
       "2×42 OffsetArray(::Matrix{Float64}, 0:1, 0:41) with eltype Float64 with indices 0:1×0:41:\n",
       " 0.00253623  6.97666e-9  4.61579e-8  1.44051e-7  …  0.0          1.90665e-28\n",
       " 0.0         1.16482e-7  4.31593e-6  2.70951e-5     1.22398e-29  0.0"
      ]
     },
     "execution_count": 29,
     "metadata": {},
     "output_type": "execute_result"
    }
   ],
   "source": [
    "using OffsetArrays\n",
    "P = fill(fill(0.0, 0:1,0:N+1), L)\n",
    "for i=1:L\n",
    "    P[i] = OffsetArray(transpose(af.bpb.beliefs[:,:,i]), 0:1,0:N+1)\n",
    "end\n",
    "P[2]"
   ]
  },
  {
   "cell_type": "code",
   "execution_count": 30,
   "metadata": {},
   "outputs": [
    {
     "data": {
      "text/plain": [
       "(\"LPLGWTEHMSPT-GQPYYFNTQTQESTYVRP\", \"LPLGWTEHMSPT-GQPYYFNTQTQESTYVRP\", 6, 35)"
      ]
     },
     "execution_count": 30,
     "metadata": {},
     "output_type": "execute_result"
    }
   ],
   "source": [
    "BpAlignGpu.decodeposterior(P, seq.strseq)"
   ]
  },
  {
   "cell_type": "code",
   "execution_count": null,
   "metadata": {},
   "outputs": [],
   "source": []
  },
  {
   "cell_type": "code",
   "execution_count": null,
   "metadata": {},
   "outputs": [],
   "source": []
  },
  {
   "cell_type": "code",
   "execution_count": null,
   "metadata": {},
   "outputs": [],
   "source": []
  },
  {
   "cell_type": "code",
   "execution_count": null,
   "metadata": {},
   "outputs": [],
   "source": []
  },
  {
   "cell_type": "code",
   "execution_count": 49,
   "metadata": {},
   "outputs": [
    {
     "name": "stdout",
     "output_type": "stream",
     "text": [
      "  0.023638 seconds (348 allocations: 19.422 KiB)\n",
      "  0.001042 seconds (373 allocations: 20.625 KiB)\n",
      "  0.000896 seconds (348 allocations: 19.531 KiB)\n",
      "  0.000842 seconds (419 allocations: 23.688 KiB)\n",
      "  0.000542 seconds (176 allocations: 10.422 KiB)\n",
      "  0.000928 seconds (249 allocations: 16.641 KiB)\n",
      "  0.000694 seconds (342 allocations: 19.688 KiB)\n",
      "  0.051701 seconds (39.15 k allocations: 2.164 MiB)\n",
      "  0.098663 seconds (302 allocations: 14.922 KiB)\n",
      "  0.080164 seconds (323 allocations: 16.828 KiB)\n"
     ]
    }
   ],
   "source": [
    "@time BpAlignGpu.update_F!(af, pm, pa)\n",
    "@time BpAlignGpu.update_hF!(af, pm, pa)\n",
    "@time BpAlignGpu.update_B!(af, pm, pa)\n",
    "@time BpAlignGpu.update_hB!(af, pm, pa)\n",
    "@time BpAlignGpu.update_beliefs!(af, pm)\n",
    "@time BpAlignGpu.update_jointchain!(af, pm)\n",
    "@time BpAlignGpu.update_conditional_chain!(af, pa)\n",
    "@time BpAlignGpu.update_conditional_all!(af, pm)\n",
    "@time BpAlignGpu.update_f!(af)\n",
    "@time BpAlignGpu.update_g!(af)"
   ]
  },
  {
   "cell_type": "code",
   "execution_count": 50,
   "metadata": {},
   "outputs": [
    {
     "name": "stdout",
     "output_type": "stream",
     "text": [
      "t=1\t err=0.021609247\n"
     ]
    }
   ],
   "source": [
    "BpAlignGpu.test_sweep!(1,af,pm,pa)"
   ]
  },
  {
   "cell_type": "code",
   "execution_count": null,
   "metadata": {},
   "outputs": [],
   "source": []
  }
 ],
 "metadata": {
  "kernelspec": {
   "display_name": "Julia 1.7.1",
   "language": "julia",
   "name": "julia-1.7"
  },
  "language_info": {
   "file_extension": ".jl",
   "mimetype": "application/julia",
   "name": "julia",
   "version": "1.7.1"
  }
 },
 "nbformat": 4,
 "nbformat_minor": 4
}
