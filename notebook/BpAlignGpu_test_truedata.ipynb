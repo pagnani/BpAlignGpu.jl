{
 "cells": [
  {
   "cell_type": "code",
   "execution_count": 1,
   "metadata": {},
   "outputs": [
    {
     "name": "stderr",
     "output_type": "stream",
     "text": [
      "\u001b[32m\u001b[1m  Activating\u001b[22m\u001b[39m project at `~/MSA/BpAlignGpu.jl`\n"
     ]
    }
   ],
   "source": [
    "using Revise, Pkg\n",
    "Pkg.activate(\"/home/louise/MSA/BpAlignGpu.jl\")\n",
    "using BpAlignGpu"
   ]
  },
  {
   "cell_type": "code",
   "execution_count": null,
   "metadata": {},
   "outputs": [],
   "source": []
  },
  {
   "cell_type": "code",
   "execution_count": 2,
   "metadata": {},
   "outputs": [
    {
     "name": "stderr",
     "output_type": "stream",
     "text": [
      "┌ Warning: The NVIDIA driver on this system only supports up to CUDA 11.0.0.\n",
      "│ For performance reasons, it is recommended to upgrade to a driver that supports CUDA 11.2 or higher.\n",
      "└ @ CUDA /home/louise/.julia/packages/CUDA/bki2w/src/initialization.jl:70\n"
     ]
    },
    {
     "data": {
      "text/plain": [
       "CuDevice(1): TITAN RTX"
      ]
     },
     "execution_count": 2,
     "metadata": {},
     "output_type": "execute_result"
    }
   ],
   "source": [
    "using CUDA\n",
    "CUDA.device!(1)"
   ]
  },
  {
   "cell_type": "code",
   "execution_count": 3,
   "metadata": {
    "scrolled": true
   },
   "outputs": [
    {
     "data": {
      "text/plain": [
       "Float32"
      ]
     },
     "execution_count": 3,
     "metadata": {},
     "output_type": "execute_result"
    }
   ],
   "source": [
    "T = Float32"
   ]
  },
  {
   "cell_type": "code",
   "execution_count": 4,
   "metadata": {},
   "outputs": [
    {
     "name": "stderr",
     "output_type": "stream",
     "text": [
      "┌ Info: Assuming J i j a b and h i a format\n",
      "└ @ BpAlignGpu /home/louise/MSA/BpAlignGpu.jl/src/utils.jl:37\n",
      "┌ Info: Output tersors: J[a b i j] and h[a i]\n",
      "└ @ BpAlignGpu /home/louise/MSA/BpAlignGpu.jl/src/utils.jl:39\n",
      "┌ Info: Gap in input file 0 now in 21\n",
      "└ @ BpAlignGpu /home/louise/MSA/BpAlignGpu.jl/src/utils.jl:40\n"
     ]
    }
   ],
   "source": [
    "#### USING SAME DATA AS DCAlign-master\n",
    "\n",
    "### PF00684 data ##\n",
    "open(\"/home/louise/MSA/Data/test/PF00684/\")\n",
    "q = 21; L = 67; \n",
    "ctype=Symbol(\"amino\")\n",
    "typel=Symbol(\"bm\")\n",
    "\n",
    "J, H = BpAlignGpu.read_parameters(\"/home/louise/MSA/Data/test/PF00684/Parameters_bm_PF00684seed_potts.dat\", q, L, gap=0, typel=typel);\n",
    "\n",
    "### PF00684 sequences ##\n",
    "\n",
    "delta = 50;\n",
    "al = BpAlignGpu.enveloptoalign( \"/home/louise/MSA/Data/test/PF00684/Test_PF00684.full\", \"/home/louise/MSA/Data/test/PF00684/Test_PF00684.fasta\", \"/home/louise/MSA/Data/test/PF00684/Test_PF00684.ins\", delta = delta, ctype = ctype);\n",
    "M = length(al)\n",
    "\n",
    "using DelimitedFiles\n",
    "Lambda_all = readdlm(\"/home/louise/MSA/Data/test/PF00684/Lambda_PF00684.dat\")\n",
    "lambda_o = Lambda_all[:,1];\n",
    "lambda_e = Lambda_all[:,2];\n"
   ]
  },
  {
   "cell_type": "code",
   "execution_count": 4,
   "metadata": {
    "scrolled": true
   },
   "outputs": [
    {
     "name": "stderr",
     "output_type": "stream",
     "text": [
      "┌ Info: Assuming J i j a b and h i a format\n",
      "└ @ BpAlignGpu /home/louise/MSA/BpAlignGpu.jl/src/utils.jl:37\n",
      "┌ Info: Output tersors: J[a b i j] and h[a i]\n",
      "└ @ BpAlignGpu /home/louise/MSA/BpAlignGpu.jl/src/utils.jl:39\n",
      "┌ Info: Gap in input file 0 now in 21\n",
      "└ @ BpAlignGpu /home/louise/MSA/BpAlignGpu.jl/src/utils.jl:40\n"
     ]
    }
   ],
   "source": [
    "open(\"/home/louise/MSA/Data/test/PF00397/\")\n",
    "q = 21; L = 31; \n",
    "ctype=Symbol(\"amino\")\n",
    "typel=Symbol(\"bm\")\n",
    "\n",
    "J, H = BpAlignGpu.read_parameters(\"/home/louise/MSA/Data/test/PF00397/Parameters_plm_PF00397.dat\", q, L, gap=0, typel=typel);\n",
    "\n",
    "delta = 5;\n",
    "al = BpAlignGpu.enveloptoalign( \"/home/louise/MSA/Data/test/PF00397/PF00397_full_length_sequences.fasta\", \"/home/louise/MSA/Data/test/PF00397/PF00397_full.fasta\", \"/home/louise/MSA/Data/test/PF00397/PF00397_full.inse\", delta = delta, ctype = ctype);\n",
    "M = length(al)\n",
    "\n",
    "using DelimitedFiles\n",
    "Lambda_all = readdlm(\"/home/louise/MSA/Data/test/PF00397/Lambda_PF00397.dat\")\n",
    "lambda_o = Lambda_all[1,:];\n",
    "lambda_e = Lambda_all[2,:];\n"
   ]
  },
  {
   "cell_type": "code",
   "execution_count": 5,
   "metadata": {},
   "outputs": [],
   "source": [
    "muext = 0.00;\n",
    "muint = 2.50;"
   ]
  },
  {
   "cell_type": "code",
   "execution_count": 100,
   "metadata": {},
   "outputs": [
    {
     "name": "stdout",
     "output_type": "stream",
     "text": [
      "Consider this sequence: \n",
      "A0A2K5LVX8_CERAT/130-169\n",
      "Full length: \n",
      "AELLLSQCPWKEYKSDTGKPYYYNNQSKESRWTRPKDLDD\n",
      "Aligned by HMMer (without and with insertions): \n",
      "--CPWKEYKSDT-GKPYYYNNQSKESRWTRP\n",
      "--CPWKEYKSDT-GKPYYYNNQSKESRWTRP\n"
     ]
    }
   ],
   "source": [
    "\n",
    "println(\"Consider this sequence: \")\n",
    "# consider one random sequence as an example\n",
    "idx0 = 10#52# rand(1:M) \n",
    "(aux,garb) = split(al[idx0][1], \"/\")\n",
    "seqsol = al[idx0][3];\n",
    "seqins = al[idx0][4];\n",
    "seq = BpAlignGpu.Seq(seqsol, al[idx0][2], ctype)\n",
    "N = length(al[idx0][2])\n",
    "println(al[idx0][1])\n",
    "println(\"Full length: \")\n",
    "println(al[idx0][2])\n",
    "println(\"Aligned by HMMer (without and with insertions): \")\n",
    "println(seqsol)\n",
    "println(seqins)\n",
    "\n"
   ]
  },
  {
   "cell_type": "code",
   "execution_count": 101,
   "metadata": {},
   "outputs": [
    {
     "data": {
      "text/plain": [
       "(21, 40, 31)"
      ]
     },
     "execution_count": 101,
     "metadata": {},
     "output_type": "execute_result"
    }
   ],
   "source": [
    "q, N, L"
   ]
  },
  {
   "cell_type": "code",
   "execution_count": 102,
   "metadata": {},
   "outputs": [
    {
     "data": {
      "text/plain": [
       "ParamModel{Float32}[L=31 N=40 q=21 size=1.619 MiB]"
      ]
     },
     "execution_count": 102,
     "metadata": {},
     "output_type": "execute_result"
    }
   ],
   "source": [
    "pm = ParamModel{T}(N, L, q, muint, muext, lambda_o, lambda_e, H, J)"
   ]
  },
  {
   "cell_type": "code",
   "execution_count": 112,
   "metadata": {},
   "outputs": [
    {
     "data": {
      "text/plain": []
     },
     "execution_count": 112,
     "metadata": {},
     "output_type": "execute_result"
    },
    {
     "name": "stdout",
     "output_type": "stream",
     "text": [
      "ParamAlgo{Float32}\n",
      "-------------\n",
      "damp=0.1\n",
      "tol=1.0e-9\n",
      "tolnorm=1.0e-5\n",
      "tmax=10\n",
      "upscheme=sequential\n",
      "lr=sce\n",
      "beta=2.0\n",
      "verbose=true\n",
      "-------------"
     ]
    }
   ],
   "source": [
    "damp=T(0.1)\n",
    "tol=T(1e-9)\n",
    "tolnorm=T(1e-5)\n",
    "tmax=10\n",
    "upscheme=:sequential # :random or :sequential\n",
    "lr=:sce  # :sce or :mf or :sr\n",
    "beta=T(2.0)\n",
    "verbose=true\n",
    "pa = ParamAlgo(damp, tol, tolnorm, tmax, upscheme, lr, beta, verbose)"
   ]
  },
  {
   "cell_type": "code",
   "execution_count": 113,
   "metadata": {},
   "outputs": [
    {
     "data": {
      "text/plain": [
       "AllFields{Float32}[L=31 N=40 ongpu=true size=53.492 MiB]"
      ]
     },
     "execution_count": 113,
     "metadata": {},
     "output_type": "execute_result"
    }
   ],
   "source": [
    "bpm = BPMessages(seq, pm)\n",
    "bpb = BPBeliefs(N, L)\n",
    "lrf = LongRangeFields(N, L)\n",
    "af = AllFields(bpm, bpb, lrf)"
   ]
  },
  {
   "cell_type": "code",
   "execution_count": 114,
   "metadata": {},
   "outputs": [
    {
     "name": "stdout",
     "output_type": "stream",
     "text": [
      "  0.001383 seconds (726 allocations: 45.547 KiB)\n"
     ]
    }
   ],
   "source": [
    "@time BpAlignGpu.update_F!(af, pm, pa)"
   ]
  },
  {
   "cell_type": "code",
   "execution_count": 115,
   "metadata": {},
   "outputs": [
    {
     "name": "stdout",
     "output_type": "stream",
     "text": [
      "  0.001380 seconds (750 allocations: 46.797 KiB)\n",
      "  0.001376 seconds (727 allocations: 46.000 KiB)\n",
      "  0.001375 seconds (796 allocations: 49.859 KiB)\n"
     ]
    }
   ],
   "source": [
    "@time BpAlignGpu.update_hF!(af, pm, pa)\n",
    "@time BpAlignGpu.update_B!(af, pm, pa)\n",
    "@time BpAlignGpu.update_hB!(af, pm, pa)"
   ]
  },
  {
   "cell_type": "code",
   "execution_count": 116,
   "metadata": {},
   "outputs": [
    {
     "name": "stdout",
     "output_type": "stream",
     "text": [
      "  0.000740 seconds (365 allocations: 23.609 KiB)\n",
      "  0.000852 seconds (438 allocations: 32.047 KiB)\n",
      "  0.000351 seconds (336 allocations: 19.438 KiB)\n",
      "  0.050338 seconds (39.15 k allocations: 2.164 MiB)\n"
     ]
    }
   ],
   "source": [
    "@time BpAlignGpu.update_beliefs!(af, pm, pa)\n",
    "@time BpAlignGpu.update_jointchain!(af, pm, pa)\n",
    "@time BpAlignGpu.update_conditional_chain!(af, pa)\n",
    "@time BpAlignGpu.update_conditional_all!(af, pm)"
   ]
  },
  {
   "cell_type": "code",
   "execution_count": 117,
   "metadata": {},
   "outputs": [
    {
     "name": "stdout",
     "output_type": "stream",
     "text": [
      "  0.010282 seconds (3.22 k allocations: 152.141 KiB)\n"
     ]
    }
   ],
   "source": [
    "@time BpAlignGpu.update_g!(af);"
   ]
  },
  {
   "cell_type": "code",
   "execution_count": 118,
   "metadata": {},
   "outputs": [
    {
     "name": "stdout",
     "output_type": "stream",
     "text": [
      "  0.009152 seconds (470 allocations: 23.672 KiB)\n"
     ]
    }
   ],
   "source": [
    "@time BpAlignGpu.update_f!(af);"
   ]
  },
  {
   "cell_type": "code",
   "execution_count": null,
   "metadata": {},
   "outputs": [],
   "source": []
  },
  {
   "cell_type": "code",
   "execution_count": 119,
   "metadata": {},
   "outputs": [
    {
     "name": "stdout",
     "output_type": "stream",
     "text": [
      "t=1\t err=0.37293348\n",
      "  0.072424 seconds (47.26 k allocations: 2.610 MiB)\n"
     ]
    }
   ],
   "source": [
    "@time BpAlignGpu.test_sweep!(1,af,pm,pa)"
   ]
  },
  {
   "cell_type": "code",
   "execution_count": null,
   "metadata": {},
   "outputs": [],
   "source": []
  },
  {
   "cell_type": "code",
   "execution_count": 120,
   "metadata": {
    "scrolled": true
   },
   "outputs": [
    {
     "name": "stdout",
     "output_type": "stream",
     "text": [
      "t=1\t err=0.863615\n",
      "t=2\t err=0.9923167\n",
      "t=3\t err=0.99999946\n",
      "t=4\t err=0.99999946\n",
      "t=5\t err=0.99985987\n",
      "t=6\t err=0.9999987\n",
      "t=7\t err=1.0\n",
      "t=8\t err=0.4161529\n",
      "t=9\t err=1.0\n",
      "t=10\t err=0.99994606\n",
      "t=11\t err=0.99999994\n",
      "t=12\t err=1.0\n",
      "t=13\t err=1.0\n",
      "t=14\t err=1.0\n",
      "t=15\t err=0.004492999\n",
      "t=16\t err=0.0029242635\n",
      "t=17\t err=0.0025892258\n",
      "t=18\t err=0.0026234388\n",
      "t=19\t err=0.2042563\n",
      "t=20\t err=0.19759035\n",
      "t=21\t err=0.005459522\n",
      "t=22\t err=0.002873063\n",
      "t=23\t err=0.0028594136\n",
      "t=24\t err=0.0026076436\n",
      "t=25\t err=0.0026189089\n",
      "t=26\t err=0.002655387\n",
      "t=27\t err=0.0026322007\n",
      "t=28\t err=0.0026280284\n",
      "t=29\t err=0.0026367307\n",
      "t=30\t err=0.0026331544\n",
      "t=31\t err=0.0026410818\n",
      "t=32\t err=0.0026358962\n",
      "t=33\t err=0.0026320815\n",
      "t=34\t err=0.0026544333\n",
      "t=35\t err=0.002639234\n",
      "t=36\t err=0.0026270747\n",
      "t=37\t err=0.0026373267\n",
      "t=38\t err=0.0026330352\n",
      "t=39\t err=0.0026415586\n",
      "t=40\t err=0.0026356578\n",
      "t=41\t err=0.0026320815\n",
      "t=42\t err=0.0026544333\n",
      "t=43\t err=0.0026392937\n",
      "t=44\t err=0.0026271343\n",
      "t=45\t err=0.0026373267\n",
      "t=46\t err=0.0026330352\n",
      "t=47\t err=0.0026415586\n",
      "t=48\t err=0.0026356578\n",
      "t=49\t err=0.0026320815\n",
      "t=50\t err=0.0026544333\n",
      "  4.331619 seconds (2.61 M allocations: 137.877 MiB, 2.50% gc time)\n"
     ]
    }
   ],
   "source": [
    "@time BpAlignGpu.test_sweep!(50,af,pm,pa)"
   ]
  },
  {
   "cell_type": "code",
   "execution_count": 121,
   "metadata": {},
   "outputs": [
    {
     "data": {
      "text/plain": [
       "(CartesianIndex{3}[], CartesianIndex{3}[])"
      ]
     },
     "execution_count": 121,
     "metadata": {},
     "output_type": "execute_result"
    }
   ],
   "source": [
    "findall(isinf.(af.bpb.beliefs)), findall(isnan.(af.bpb.beliefs))"
   ]
  },
  {
   "cell_type": "code",
   "execution_count": 122,
   "metadata": {},
   "outputs": [
    {
     "data": {
      "text/plain": [
       "(CartesianIndex{5}[], CartesianIndex{5}[])"
      ]
     },
     "execution_count": 122,
     "metadata": {},
     "output_type": "execute_result"
    }
   ],
   "source": [
    "findall(isinf.(af.bpb.joint_chain)), findall(isnan.(af.bpb.joint_chain))"
   ]
  },
  {
   "cell_type": "code",
   "execution_count": 123,
   "metadata": {},
   "outputs": [
    {
     "data": {
      "text/plain": [
       "(\"SQCPWKEYKSDT-GKPYYYNNQSKESRWTRP\", \"SQCPWKEYKSDT-GKPYYYNNQSKESRWTRP\", 6, 35)"
      ]
     },
     "execution_count": 123,
     "metadata": {},
     "output_type": "execute_result"
    }
   ],
   "source": [
    "xnsol, maxbel = BpAlignGpu.solmaxbel(af)\n",
    "seqpa, seqpo, deb, fin = BpAlignGpu.convert_soltosequence!(xnsol, seq.strseq, N, L)"
   ]
  },
  {
   "cell_type": "code",
   "execution_count": 124,
   "metadata": {},
   "outputs": [
    {
     "data": {
      "text/plain": [
       "-9.369669f0"
      ]
     },
     "execution_count": 124,
     "metadata": {},
     "output_type": "execute_result"
    }
   ],
   "source": [
    "logzi = BpAlignGpu.logZi(af, pm, pa)/L"
   ]
  },
  {
   "cell_type": "code",
   "execution_count": 125,
   "metadata": {},
   "outputs": [
    {
     "data": {
      "text/plain": [
       "12.411382f0"
      ]
     },
     "execution_count": 125,
     "metadata": {},
     "output_type": "execute_result"
    }
   ],
   "source": [
    "logZa  = BpAlignGpu.logZa(af, pm, pa)/L"
   ]
  },
  {
   "cell_type": "code",
   "execution_count": 126,
   "metadata": {},
   "outputs": [
    {
     "data": {
      "text/plain": [
       "-2.4478445f0"
      ]
     },
     "execution_count": 126,
     "metadata": {},
     "output_type": "execute_result"
    }
   ],
   "source": [
    "logZia = BpAlignGpu.logZia(af, pm)/L"
   ]
  },
  {
   "cell_type": "code",
   "execution_count": 127,
   "metadata": {},
   "outputs": [
    {
     "data": {
      "text/plain": [
       "0.8497261923433642"
      ]
     },
     "execution_count": 127,
     "metadata": {},
     "output_type": "execute_result"
    }
   ],
   "source": [
    "lr_free = BpAlignGpu.lr_freeen(af, pm)/L"
   ]
  },
  {
   "cell_type": "code",
   "execution_count": 128,
   "metadata": {},
   "outputs": [
    {
     "name": "stdout",
     "output_type": "stream",
     "text": [
      "(onesite, couplings) = (-4.380274021998048, -59.970025042188354)\n",
      "(gapcost, inscost) = (2.5f0, 0.0)\n"
     ]
    },
    {
     "data": {
      "text/plain": [
       "-61.85031f0"
      ]
     },
     "execution_count": 128,
     "metadata": {},
     "output_type": "execute_result"
    }
   ],
   "source": [
    "BpAlignGpu.compute_cost_function(pm.J, pm.H, seqpo, L, ctype, pm.lambda_o, pm.lambda_e, pm.muext, pm.muint)"
   ]
  },
  {
   "cell_type": "code",
   "execution_count": 129,
   "metadata": {},
   "outputs": [
    {
     "data": {
      "text/plain": [
       "(Int64[], 0)"
      ]
     },
     "execution_count": 129,
     "metadata": {},
     "output_type": "execute_result"
    }
   ],
   "source": [
    "check = BpAlignGpu.check_sr!(xnsol, L, N)\n",
    "finderrors, errL = findall(x->x==1, check), check[L]"
   ]
  },
  {
   "cell_type": "code",
   "execution_count": 130,
   "metadata": {},
   "outputs": [],
   "source": [
    "for i in finderrors\n",
    "    @show i\n",
    "    println(xnsol[i-1], \", \", xnsol[i])\n",
    "end"
   ]
  },
  {
   "cell_type": "code",
   "execution_count": null,
   "metadata": {},
   "outputs": [],
   "source": []
  },
  {
   "cell_type": "code",
   "execution_count": 131,
   "metadata": {},
   "outputs": [],
   "source": [
    "using Plots\n",
    "bel=Array(af.bpb.beliefs);"
   ]
  },
  {
   "cell_type": "code",
   "execution_count": 132,
   "metadata": {},
   "outputs": [
    {
     "data": {
      "image/svg+xml": [
       "<?xml version=\"1.0\" encoding=\"utf-8\"?>\n",
       "<svg xmlns=\"http://www.w3.org/2000/svg\" xmlns:xlink=\"http://www.w3.org/1999/xlink\" width=\"600\" height=\"400\" viewBox=\"0 0 2400 1600\">\n",
       "<defs>\n",
       "  <clipPath id=\"clip220\">\n",
       "    <rect x=\"0\" y=\"0\" width=\"2400\" height=\"1600\"/>\n",
       "  </clipPath>\n",
       "</defs>\n",
       "<path clip-path=\"url(#clip220)\" d=\"\n",
       "M0 1600 L2400 1600 L2400 0 L0 0  Z\n",
       "  \" fill=\"#ffffff\" fill-rule=\"evenodd\" fill-opacity=\"1\"/>\n",
       "<defs>\n",
       "  <clipPath id=\"clip221\">\n",
       "    <rect x=\"480\" y=\"0\" width=\"1681\" height=\"1600\"/>\n",
       "  </clipPath>\n",
       "</defs>\n",
       "<path clip-path=\"url(#clip220)\" d=\"\n",
       "M205.121 1423.18 L2112.76 1423.18 L2112.76 123.472 L205.121 123.472  Z\n",
       "  \" fill=\"#ffffff\" fill-rule=\"evenodd\" fill-opacity=\"1\"/>\n",
       "<defs>\n",
       "  <clipPath id=\"clip222\">\n",
       "    <rect x=\"205\" y=\"123\" width=\"1909\" height=\"1301\"/>\n",
       "  </clipPath>\n",
       "</defs>\n",
       "<polyline clip-path=\"url(#clip222)\" style=\"stroke:#000000; stroke-linecap:butt; stroke-linejoin:round; stroke-width:2; stroke-opacity:0.1; fill:none\" points=\"\n",
       "  482.036,1423.18 482.036,123.472 \n",
       "  \"/>\n",
       "<polyline clip-path=\"url(#clip222)\" style=\"stroke:#000000; stroke-linecap:butt; stroke-linejoin:round; stroke-width:2; stroke-opacity:0.1; fill:none\" points=\"\n",
       "  789.719,1423.18 789.719,123.472 \n",
       "  \"/>\n",
       "<polyline clip-path=\"url(#clip222)\" style=\"stroke:#000000; stroke-linecap:butt; stroke-linejoin:round; stroke-width:2; stroke-opacity:0.1; fill:none\" points=\"\n",
       "  1097.4,1423.18 1097.4,123.472 \n",
       "  \"/>\n",
       "<polyline clip-path=\"url(#clip222)\" style=\"stroke:#000000; stroke-linecap:butt; stroke-linejoin:round; stroke-width:2; stroke-opacity:0.1; fill:none\" points=\"\n",
       "  1405.08,1423.18 1405.08,123.472 \n",
       "  \"/>\n",
       "<polyline clip-path=\"url(#clip222)\" style=\"stroke:#000000; stroke-linecap:butt; stroke-linejoin:round; stroke-width:2; stroke-opacity:0.1; fill:none\" points=\"\n",
       "  1712.77,1423.18 1712.77,123.472 \n",
       "  \"/>\n",
       "<polyline clip-path=\"url(#clip222)\" style=\"stroke:#000000; stroke-linecap:butt; stroke-linejoin:round; stroke-width:2; stroke-opacity:0.1; fill:none\" points=\"\n",
       "  2020.45,1423.18 2020.45,123.472 \n",
       "  \"/>\n",
       "<polyline clip-path=\"url(#clip220)\" style=\"stroke:#000000; stroke-linecap:butt; stroke-linejoin:round; stroke-width:4; stroke-opacity:1; fill:none\" points=\"\n",
       "  205.121,1423.18 2112.76,1423.18 \n",
       "  \"/>\n",
       "<polyline clip-path=\"url(#clip220)\" style=\"stroke:#000000; stroke-linecap:butt; stroke-linejoin:round; stroke-width:4; stroke-opacity:1; fill:none\" points=\"\n",
       "  482.036,1423.18 482.036,1404.28 \n",
       "  \"/>\n",
       "<polyline clip-path=\"url(#clip220)\" style=\"stroke:#000000; stroke-linecap:butt; stroke-linejoin:round; stroke-width:4; stroke-opacity:1; fill:none\" points=\"\n",
       "  789.719,1423.18 789.719,1404.28 \n",
       "  \"/>\n",
       "<polyline clip-path=\"url(#clip220)\" style=\"stroke:#000000; stroke-linecap:butt; stroke-linejoin:round; stroke-width:4; stroke-opacity:1; fill:none\" points=\"\n",
       "  1097.4,1423.18 1097.4,1404.28 \n",
       "  \"/>\n",
       "<polyline clip-path=\"url(#clip220)\" style=\"stroke:#000000; stroke-linecap:butt; stroke-linejoin:round; stroke-width:4; stroke-opacity:1; fill:none\" points=\"\n",
       "  1405.08,1423.18 1405.08,1404.28 \n",
       "  \"/>\n",
       "<polyline clip-path=\"url(#clip220)\" style=\"stroke:#000000; stroke-linecap:butt; stroke-linejoin:round; stroke-width:4; stroke-opacity:1; fill:none\" points=\"\n",
       "  1712.77,1423.18 1712.77,1404.28 \n",
       "  \"/>\n",
       "<polyline clip-path=\"url(#clip220)\" style=\"stroke:#000000; stroke-linecap:butt; stroke-linejoin:round; stroke-width:4; stroke-opacity:1; fill:none\" points=\"\n",
       "  2020.45,1423.18 2020.45,1404.28 \n",
       "  \"/>\n",
       "<path clip-path=\"url(#clip220)\" d=\"M472.314 1451.02 L490.67 1451.02 L490.67 1454.96 L476.596 1454.96 L476.596 1463.43 Q477.614 1463.08 478.633 1462.92 Q479.651 1462.73 480.67 1462.73 Q486.457 1462.73 489.837 1465.9 Q493.216 1469.08 493.216 1474.49 Q493.216 1480.07 489.744 1483.17 Q486.272 1486.25 479.952 1486.25 Q477.776 1486.25 475.508 1485.88 Q473.263 1485.51 470.855 1484.77 L470.855 1480.07 Q472.939 1481.2 475.161 1481.76 Q477.383 1482.32 479.86 1482.32 Q483.864 1482.32 486.202 1480.21 Q488.54 1478.1 488.54 1474.49 Q488.54 1470.88 486.202 1468.77 Q483.864 1466.67 479.86 1466.67 Q477.985 1466.67 476.11 1467.08 Q474.258 1467.5 472.314 1468.38 L472.314 1451.02 Z\" fill=\"#000000\" fill-rule=\"evenodd\" fill-opacity=\"1\" /><path clip-path=\"url(#clip220)\" d=\"M764.406 1481.64 L772.045 1481.64 L772.045 1455.28 L763.735 1456.95 L763.735 1452.69 L771.999 1451.02 L776.675 1451.02 L776.675 1481.64 L784.314 1481.64 L784.314 1485.58 L764.406 1485.58 L764.406 1481.64 Z\" fill=\"#000000\" fill-rule=\"evenodd\" fill-opacity=\"1\" /><path clip-path=\"url(#clip220)\" d=\"M803.758 1454.1 Q800.147 1454.1 798.318 1457.66 Q796.513 1461.2 796.513 1468.33 Q796.513 1475.44 798.318 1479.01 Q800.147 1482.55 803.758 1482.55 Q807.392 1482.55 809.198 1479.01 Q811.027 1475.44 811.027 1468.33 Q811.027 1461.2 809.198 1457.66 Q807.392 1454.1 803.758 1454.1 M803.758 1450.39 Q809.568 1450.39 812.624 1455 Q815.702 1459.58 815.702 1468.33 Q815.702 1477.06 812.624 1481.67 Q809.568 1486.25 803.758 1486.25 Q797.948 1486.25 794.869 1481.67 Q791.814 1477.06 791.814 1468.33 Q791.814 1459.58 794.869 1455 Q797.948 1450.39 803.758 1450.39 Z\" fill=\"#000000\" fill-rule=\"evenodd\" fill-opacity=\"1\" /><path clip-path=\"url(#clip220)\" d=\"M1072.59 1481.64 L1080.23 1481.64 L1080.23 1455.28 L1071.92 1456.95 L1071.92 1452.69 L1080.18 1451.02 L1084.86 1451.02 L1084.86 1481.64 L1092.49 1481.64 L1092.49 1485.58 L1072.59 1485.58 L1072.59 1481.64 Z\" fill=\"#000000\" fill-rule=\"evenodd\" fill-opacity=\"1\" /><path clip-path=\"url(#clip220)\" d=\"M1101.99 1451.02 L1120.34 1451.02 L1120.34 1454.96 L1106.27 1454.96 L1106.27 1463.43 Q1107.29 1463.08 1108.3 1462.92 Q1109.32 1462.73 1110.34 1462.73 Q1116.13 1462.73 1119.51 1465.9 Q1122.89 1469.08 1122.89 1474.49 Q1122.89 1480.07 1119.42 1483.17 Q1115.94 1486.25 1109.62 1486.25 Q1107.45 1486.25 1105.18 1485.88 Q1102.93 1485.51 1100.53 1484.77 L1100.53 1480.07 Q1102.61 1481.2 1104.83 1481.76 Q1107.05 1482.32 1109.53 1482.32 Q1113.54 1482.32 1115.87 1480.21 Q1118.21 1478.1 1118.21 1474.49 Q1118.21 1470.88 1115.87 1468.77 Q1113.54 1466.67 1109.53 1466.67 Q1107.66 1466.67 1105.78 1467.08 Q1103.93 1467.5 1101.99 1468.38 L1101.99 1451.02 Z\" fill=\"#000000\" fill-rule=\"evenodd\" fill-opacity=\"1\" /><path clip-path=\"url(#clip220)\" d=\"M1383.86 1481.64 L1400.18 1481.64 L1400.18 1485.58 L1378.23 1485.58 L1378.23 1481.64 Q1380.9 1478.89 1385.48 1474.26 Q1390.08 1469.61 1391.27 1468.27 Q1393.51 1465.74 1394.39 1464.01 Q1395.29 1462.25 1395.29 1460.56 Q1395.29 1457.8 1393.35 1456.07 Q1391.43 1454.33 1388.33 1454.33 Q1386.13 1454.33 1383.67 1455.09 Q1381.24 1455.86 1378.46 1457.41 L1378.46 1452.69 Q1381.29 1451.55 1383.74 1450.97 Q1386.2 1450.39 1388.23 1450.39 Q1393.6 1450.39 1396.8 1453.08 Q1399.99 1455.77 1399.99 1460.26 Q1399.99 1462.39 1399.18 1464.31 Q1398.4 1466.2 1396.29 1468.8 Q1395.71 1469.47 1392.61 1472.69 Q1389.51 1475.88 1383.86 1481.64 Z\" fill=\"#000000\" fill-rule=\"evenodd\" fill-opacity=\"1\" /><path clip-path=\"url(#clip220)\" d=\"M1419.99 1454.1 Q1416.38 1454.1 1414.55 1457.66 Q1412.75 1461.2 1412.75 1468.33 Q1412.75 1475.44 1414.55 1479.01 Q1416.38 1482.55 1419.99 1482.55 Q1423.63 1482.55 1425.43 1479.01 Q1427.26 1475.44 1427.26 1468.33 Q1427.26 1461.2 1425.43 1457.66 Q1423.63 1454.1 1419.99 1454.1 M1419.99 1450.39 Q1425.8 1450.39 1428.86 1455 Q1431.94 1459.58 1431.94 1468.33 Q1431.94 1477.06 1428.86 1481.67 Q1425.8 1486.25 1419.99 1486.25 Q1414.18 1486.25 1411.1 1481.67 Q1408.05 1477.06 1408.05 1468.33 Q1408.05 1459.58 1411.1 1455 Q1414.18 1450.39 1419.99 1450.39 Z\" fill=\"#000000\" fill-rule=\"evenodd\" fill-opacity=\"1\" /><path clip-path=\"url(#clip220)\" d=\"M1692.04 1481.64 L1708.36 1481.64 L1708.36 1485.58 L1686.41 1485.58 L1686.41 1481.64 Q1689.08 1478.89 1693.66 1474.26 Q1698.27 1469.61 1699.45 1468.27 Q1701.69 1465.74 1702.57 1464.01 Q1703.47 1462.25 1703.47 1460.56 Q1703.47 1457.8 1701.53 1456.07 Q1699.61 1454.33 1696.51 1454.33 Q1694.31 1454.33 1691.85 1455.09 Q1689.42 1455.86 1686.65 1457.41 L1686.65 1452.69 Q1689.47 1451.55 1691.92 1450.97 Q1694.38 1450.39 1696.41 1450.39 Q1701.78 1450.39 1704.98 1453.08 Q1708.17 1455.77 1708.17 1460.26 Q1708.17 1462.39 1707.36 1464.31 Q1706.58 1466.2 1704.47 1468.8 Q1703.89 1469.47 1700.79 1472.69 Q1697.69 1475.88 1692.04 1481.64 Z\" fill=\"#000000\" fill-rule=\"evenodd\" fill-opacity=\"1\" /><path clip-path=\"url(#clip220)\" d=\"M1718.22 1451.02 L1736.58 1451.02 L1736.58 1454.96 L1722.5 1454.96 L1722.5 1463.43 Q1723.52 1463.08 1724.54 1462.92 Q1725.56 1462.73 1726.58 1462.73 Q1732.36 1462.73 1735.74 1465.9 Q1739.12 1469.08 1739.12 1474.49 Q1739.12 1480.07 1735.65 1483.17 Q1732.18 1486.25 1725.86 1486.25 Q1723.68 1486.25 1721.41 1485.88 Q1719.17 1485.51 1716.76 1484.77 L1716.76 1480.07 Q1718.84 1481.2 1721.07 1481.76 Q1723.29 1482.32 1725.77 1482.32 Q1729.77 1482.32 1732.11 1480.21 Q1734.45 1478.1 1734.45 1474.49 Q1734.45 1470.88 1732.11 1468.77 Q1729.77 1466.67 1725.77 1466.67 Q1723.89 1466.67 1722.02 1467.08 Q1720.16 1467.5 1718.22 1468.38 L1718.22 1451.02 Z\" fill=\"#000000\" fill-rule=\"evenodd\" fill-opacity=\"1\" /><path clip-path=\"url(#clip220)\" d=\"M2009.29 1466.95 Q2012.65 1467.66 2014.53 1469.93 Q2016.42 1472.2 2016.42 1475.53 Q2016.42 1480.65 2012.9 1483.45 Q2009.39 1486.25 2002.9 1486.25 Q2000.73 1486.25 1998.41 1485.81 Q1996.12 1485.39 1993.67 1484.54 L1993.67 1480.02 Q1995.61 1481.16 1997.93 1481.74 Q2000.24 1482.32 2002.77 1482.32 Q2007.16 1482.32 2009.46 1480.58 Q2011.77 1478.84 2011.77 1475.53 Q2011.77 1472.48 2009.62 1470.77 Q2007.49 1469.03 2003.67 1469.03 L1999.64 1469.03 L1999.64 1465.19 L2003.85 1465.19 Q2007.3 1465.19 2009.13 1463.82 Q2010.96 1462.43 2010.96 1459.84 Q2010.96 1457.18 2009.06 1455.77 Q2007.19 1454.33 2003.67 1454.33 Q2001.75 1454.33 1999.55 1454.75 Q1997.35 1455.16 1994.71 1456.04 L1994.71 1451.88 Q1997.37 1451.14 1999.69 1450.77 Q2002.03 1450.39 2004.09 1450.39 Q2009.41 1450.39 2012.51 1452.83 Q2015.61 1455.23 2015.61 1459.35 Q2015.61 1462.22 2013.97 1464.21 Q2012.33 1466.18 2009.29 1466.95 Z\" fill=\"#000000\" fill-rule=\"evenodd\" fill-opacity=\"1\" /><path clip-path=\"url(#clip220)\" d=\"M2035.29 1454.1 Q2031.68 1454.1 2029.85 1457.66 Q2028.04 1461.2 2028.04 1468.33 Q2028.04 1475.44 2029.85 1479.01 Q2031.68 1482.55 2035.29 1482.55 Q2038.92 1482.55 2040.73 1479.01 Q2042.56 1475.44 2042.56 1468.33 Q2042.56 1461.2 2040.73 1457.66 Q2038.92 1454.1 2035.29 1454.1 M2035.29 1450.39 Q2041.1 1450.39 2044.15 1455 Q2047.23 1459.58 2047.23 1468.33 Q2047.23 1477.06 2044.15 1481.67 Q2041.1 1486.25 2035.29 1486.25 Q2029.48 1486.25 2026.4 1481.67 Q2023.34 1477.06 2023.34 1468.33 Q2023.34 1459.58 2026.4 1455 Q2029.48 1450.39 2035.29 1450.39 Z\" fill=\"#000000\" fill-rule=\"evenodd\" fill-opacity=\"1\" /><path clip-path=\"url(#clip220)\" d=\"M1173.87 1546.53 L1173.87 1568.04 L1168.01 1568.04 L1168.01 1546.72 Q1168.01 1541.66 1166.04 1539.14 Q1164.06 1536.63 1160.12 1536.63 Q1155.37 1536.63 1152.64 1539.65 Q1149.9 1542.68 1149.9 1547.9 L1149.9 1568.04 L1144.01 1568.04 L1144.01 1532.4 L1149.9 1532.4 L1149.9 1537.93 Q1152 1534.72 1154.83 1533.13 Q1157.7 1531.54 1161.42 1531.54 Q1167.56 1531.54 1170.71 1535.36 Q1173.87 1539.14 1173.87 1546.53 Z\" fill=\"#000000\" fill-rule=\"evenodd\" fill-opacity=\"1\" /><polyline clip-path=\"url(#clip222)\" style=\"stroke:#000000; stroke-linecap:butt; stroke-linejoin:round; stroke-width:2; stroke-opacity:0.1; fill:none\" points=\"\n",
       "  205.121,1129.2 2112.76,1129.2 \n",
       "  \"/>\n",
       "<polyline clip-path=\"url(#clip222)\" style=\"stroke:#000000; stroke-linecap:butt; stroke-linejoin:round; stroke-width:2; stroke-opacity:0.1; fill:none\" points=\"\n",
       "  205.121,819.744 2112.76,819.744 \n",
       "  \"/>\n",
       "<polyline clip-path=\"url(#clip222)\" style=\"stroke:#000000; stroke-linecap:butt; stroke-linejoin:round; stroke-width:2; stroke-opacity:0.1; fill:none\" points=\"\n",
       "  205.121,510.29 2112.76,510.29 \n",
       "  \"/>\n",
       "<polyline clip-path=\"url(#clip222)\" style=\"stroke:#000000; stroke-linecap:butt; stroke-linejoin:round; stroke-width:2; stroke-opacity:0.1; fill:none\" points=\"\n",
       "  205.121,200.836 2112.76,200.836 \n",
       "  \"/>\n",
       "<polyline clip-path=\"url(#clip220)\" style=\"stroke:#000000; stroke-linecap:butt; stroke-linejoin:round; stroke-width:4; stroke-opacity:1; fill:none\" points=\"\n",
       "  205.121,1423.18 205.121,123.472 \n",
       "  \"/>\n",
       "<polyline clip-path=\"url(#clip220)\" style=\"stroke:#000000; stroke-linecap:butt; stroke-linejoin:round; stroke-width:4; stroke-opacity:1; fill:none\" points=\"\n",
       "  205.121,1129.2 221.907,1129.2 \n",
       "  \"/>\n",
       "<polyline clip-path=\"url(#clip220)\" style=\"stroke:#000000; stroke-linecap:butt; stroke-linejoin:round; stroke-width:4; stroke-opacity:1; fill:none\" points=\"\n",
       "  205.121,819.744 221.907,819.744 \n",
       "  \"/>\n",
       "<polyline clip-path=\"url(#clip220)\" style=\"stroke:#000000; stroke-linecap:butt; stroke-linejoin:round; stroke-width:4; stroke-opacity:1; fill:none\" points=\"\n",
       "  205.121,510.29 221.907,510.29 \n",
       "  \"/>\n",
       "<polyline clip-path=\"url(#clip220)\" style=\"stroke:#000000; stroke-linecap:butt; stroke-linejoin:round; stroke-width:4; stroke-opacity:1; fill:none\" points=\"\n",
       "  205.121,200.836 221.907,200.836 \n",
       "  \"/>\n",
       "<path clip-path=\"url(#clip220)\" d=\"M117.825 1142.54 L125.464 1142.54 L125.464 1116.18 L117.154 1117.84 L117.154 1113.58 L125.418 1111.92 L130.093 1111.92 L130.093 1142.54 L137.732 1142.54 L137.732 1146.48 L117.825 1146.48 L117.825 1142.54 Z\" fill=\"#000000\" fill-rule=\"evenodd\" fill-opacity=\"1\" /><path clip-path=\"url(#clip220)\" d=\"M157.177 1115 Q153.566 1115 151.737 1118.56 Q149.931 1122.1 149.931 1129.23 Q149.931 1136.34 151.737 1139.9 Q153.566 1143.45 157.177 1143.45 Q160.811 1143.45 162.616 1139.9 Q164.445 1136.34 164.445 1129.23 Q164.445 1122.1 162.616 1118.56 Q160.811 1115 157.177 1115 M157.177 1111.29 Q162.987 1111.29 166.042 1115.9 Q169.121 1120.48 169.121 1129.23 Q169.121 1137.96 166.042 1142.57 Q162.987 1147.15 157.177 1147.15 Q151.366 1147.15 148.288 1142.57 Q145.232 1137.96 145.232 1129.23 Q145.232 1120.48 148.288 1115.9 Q151.366 1111.29 157.177 1111.29 Z\" fill=\"#000000\" fill-rule=\"evenodd\" fill-opacity=\"1\" /><path clip-path=\"url(#clip220)\" d=\"M121.043 833.089 L137.362 833.089 L137.362 837.024 L115.418 837.024 L115.418 833.089 Q118.08 830.334 122.663 825.705 Q127.269 821.052 128.45 819.709 Q130.695 817.186 131.575 815.45 Q132.478 813.691 132.478 812.001 Q132.478 809.246 130.533 807.51 Q128.612 805.774 125.51 805.774 Q123.311 805.774 120.857 806.538 Q118.427 807.302 115.649 808.853 L115.649 804.131 Q118.473 802.997 120.927 802.418 Q123.38 801.839 125.418 801.839 Q130.788 801.839 133.982 804.524 Q137.177 807.209 137.177 811.7 Q137.177 813.83 136.367 815.751 Q135.579 817.649 133.473 820.242 Q132.894 820.913 129.792 824.131 Q126.691 827.325 121.043 833.089 Z\" fill=\"#000000\" fill-rule=\"evenodd\" fill-opacity=\"1\" /><path clip-path=\"url(#clip220)\" d=\"M157.177 805.543 Q153.566 805.543 151.737 809.108 Q149.931 812.649 149.931 819.779 Q149.931 826.885 151.737 830.45 Q153.566 833.992 157.177 833.992 Q160.811 833.992 162.616 830.45 Q164.445 826.885 164.445 819.779 Q164.445 812.649 162.616 809.108 Q160.811 805.543 157.177 805.543 M157.177 801.839 Q162.987 801.839 166.042 806.446 Q169.121 811.029 169.121 819.779 Q169.121 828.506 166.042 833.112 Q162.987 837.695 157.177 837.695 Q151.366 837.695 148.288 833.112 Q145.232 828.506 145.232 819.779 Q145.232 811.029 148.288 806.446 Q151.366 801.839 157.177 801.839 Z\" fill=\"#000000\" fill-rule=\"evenodd\" fill-opacity=\"1\" /><path clip-path=\"url(#clip220)\" d=\"M131.181 508.936 Q134.538 509.653 136.413 511.922 Q138.311 514.19 138.311 517.524 Q138.311 522.639 134.792 525.44 Q131.274 528.241 124.793 528.241 Q122.617 528.241 120.302 527.801 Q118.01 527.385 115.556 526.528 L115.556 522.014 Q117.501 523.149 119.816 523.727 Q122.13 524.306 124.654 524.306 Q129.052 524.306 131.343 522.57 Q133.658 520.834 133.658 517.524 Q133.658 514.468 131.505 512.755 Q129.376 511.019 125.556 511.019 L121.529 511.019 L121.529 507.176 L125.742 507.176 Q129.191 507.176 131.019 505.811 Q132.848 504.422 132.848 501.829 Q132.848 499.167 130.95 497.755 Q129.075 496.32 125.556 496.32 Q123.635 496.32 121.436 496.737 Q119.237 497.153 116.598 498.033 L116.598 493.866 Q119.26 493.126 121.575 492.755 Q123.913 492.385 125.973 492.385 Q131.297 492.385 134.399 494.815 Q137.501 497.223 137.501 501.343 Q137.501 504.214 135.857 506.204 Q134.214 508.172 131.181 508.936 Z\" fill=\"#000000\" fill-rule=\"evenodd\" fill-opacity=\"1\" /><path clip-path=\"url(#clip220)\" d=\"M157.177 496.089 Q153.566 496.089 151.737 499.653 Q149.931 503.195 149.931 510.325 Q149.931 517.431 151.737 520.996 Q153.566 524.538 157.177 524.538 Q160.811 524.538 162.616 520.996 Q164.445 517.431 164.445 510.325 Q164.445 503.195 162.616 499.653 Q160.811 496.089 157.177 496.089 M157.177 492.385 Q162.987 492.385 166.042 496.991 Q169.121 501.575 169.121 510.325 Q169.121 519.051 166.042 523.658 Q162.987 528.241 157.177 528.241 Q151.366 528.241 148.288 523.658 Q145.232 519.051 145.232 510.325 Q145.232 501.575 148.288 496.991 Q151.366 492.385 157.177 492.385 Z\" fill=\"#000000\" fill-rule=\"evenodd\" fill-opacity=\"1\" /><path clip-path=\"url(#clip220)\" d=\"M129.862 187.63 L118.056 206.079 L129.862 206.079 L129.862 187.63 M128.635 183.556 L134.515 183.556 L134.515 206.079 L139.445 206.079 L139.445 209.968 L134.515 209.968 L134.515 218.116 L129.862 218.116 L129.862 209.968 L114.26 209.968 L114.26 205.454 L128.635 183.556 Z\" fill=\"#000000\" fill-rule=\"evenodd\" fill-opacity=\"1\" /><path clip-path=\"url(#clip220)\" d=\"M157.177 186.634 Q153.566 186.634 151.737 190.199 Q149.931 193.741 149.931 200.87 Q149.931 207.977 151.737 211.542 Q153.566 215.083 157.177 215.083 Q160.811 215.083 162.616 211.542 Q164.445 207.977 164.445 200.87 Q164.445 193.741 162.616 190.199 Q160.811 186.634 157.177 186.634 M157.177 182.931 Q162.987 182.931 166.042 187.537 Q169.121 192.12 169.121 200.87 Q169.121 209.597 166.042 214.204 Q162.987 218.787 157.177 218.787 Q151.366 218.787 148.288 214.204 Q145.232 209.597 145.232 200.87 Q145.232 192.12 148.288 187.537 Q151.366 182.931 157.177 182.931 Z\" fill=\"#000000\" fill-rule=\"evenodd\" fill-opacity=\"1\" /><path clip-path=\"url(#clip220)\" d=\"M28.3562 776.254 L28.3562 770.398 L64.0042 770.398 L64.0042 776.254 L28.3562 776.254 M14.479 776.254 L14.479 770.398 L21.895 770.398 L21.895 776.254 L14.479 776.254 Z\" fill=\"#000000\" fill-rule=\"evenodd\" fill-opacity=\"1\" /><path clip-path=\"url(#clip220)\" d=\"M1120.33 27.2059 L1103.93 49.2833 L1121.18 72.576 L1112.39 72.576 L1099.19 54.752 L1085.98 72.576 L1077.19 72.576 L1094.81 48.8377 L1078.69 27.2059 L1087.48 27.2059 L1099.51 43.369 L1111.54 27.2059 L1120.33 27.2059 Z\" fill=\"#000000\" fill-rule=\"evenodd\" fill-opacity=\"1\" /><path clip-path=\"url(#clip220)\" d=\"M1132.69 34.9026 L1184.62 34.9026 L1184.62 41.7081 L1132.69 41.7081 L1132.69 34.9026 M1132.69 51.4303 L1184.62 51.4303 L1184.62 58.3168 L1132.69 58.3168 L1132.69 51.4303 Z\" fill=\"#000000\" fill-rule=\"evenodd\" fill-opacity=\"1\" /><path clip-path=\"url(#clip220)\" d=\"M1219.78 17.4837 Q1213.46 17.4837 1210.26 23.7221 Q1207.1 29.92 1207.1 42.3968 Q1207.1 54.833 1210.26 61.0714 Q1213.46 67.2693 1219.78 67.2693 Q1226.14 67.2693 1229.3 61.0714 Q1232.5 54.833 1232.5 42.3968 Q1232.5 29.92 1229.3 23.7221 Q1226.14 17.4837 1219.78 17.4837 M1219.78 11.0023 Q1229.95 11.0023 1235.3 19.0636 Q1240.69 27.0843 1240.69 42.3968 Q1240.69 57.6687 1235.3 65.73 Q1229.95 73.7508 1219.78 73.7508 Q1209.62 73.7508 1204.23 65.73 Q1198.88 57.6687 1198.88 42.3968 Q1198.88 27.0843 1204.23 19.0636 Q1209.62 11.0023 1219.78 11.0023 Z\" fill=\"#000000\" fill-rule=\"evenodd\" fill-opacity=\"1\" /><g clip-path=\"url(#clip222)\">\n",
       "<image width=\"1908\" height=\"1300\" xlink:href=\"data:image/png;base64,\n",
       "iVBORw0KGgoAAAANSUhEUgAAB3QAAAUUCAYAAAAnbSNZAAAgAElEQVR4nOzZsRHAIBDAsCfH/ivD\n",
       "AulxIU3g3mtmnwEAAAAAAAAg53sdAAAAAAAAAMA/QxcAAAAAAAAgytAFAAAAAAAAiDJ0AQAAAAAA\n",
       "AKIMXQAAAAAAAIAoQxcAAAAAAAAgytAFAAAAAAAAiDJ0AQAAAAAAAKIMXQAAAAAAAIAoQxcAAAAA\n",
       "AAAgytAFAAAAAAAAiDJ0AQAAAAAAAKIMXQAAAAAAAIAoQxcAAAAAAAAgytAFAAAAAAAAiDJ0AQAA\n",
       "AAAAAKIMXQAAAAAAAIAoQxcAAAAAAAAgytAFAAAAAAAAiDJ0AQAAAAAAAKIMXQAAAAAAAIAoQxcA\n",
       "AAAAAAAgytAFAAAAAAAAiDJ0AQAAAAAAAKIMXQAAAAAAAIAoQxcAAAAAAAAgytAFAAAAAAAAiDJ0\n",
       "AQAAAAAAAKIMXQAAAAAAAIAoQxcAAAAAAAAgytAFAAAAAAAAiDJ0AQAAAAAAAKIMXQAAAAAAAIAo\n",
       "QxcAAAAAAAAgytAFAAAAAAAAiDJ0AQAAAAAAAKIMXQAAAAAAAIAoQxcAAAAAAAAgytAFAAAAAAAA\n",
       "iDJ0AQAAAAAAAKIMXQAAAAAAAIAoQxcAAAAAAAAgytAFAAAAAAAAiDJ0AQAAAAAAAKIMXQAAAAAA\n",
       "AIAoQxcAAAAAAAAgytAFAAAAAAAAiDJ0AQAAAAAAAKIMXQAAAAAAAIAoQxcAAAAAAAAgytAFAAAA\n",
       "AAAAiDJ0AQAAAAAAAKIMXQAAAAAAAIAoQxcAAAAAAAAgytAFAAAAAAAAiDJ0AQAAAAAAAKIMXQAA\n",
       "AAAAAIAoQxcAAAAAAAAgytAFAAAAAAAAiDJ0AQAAAAAAAKIMXQAAAAAAAIAoQxcAAAAAAAAgytAF\n",
       "AAAAAAAAiDJ0AQAAAAAAAKIMXQAAAAAAAIAoQxcAAAAAAAAgytAFAAAAAAAAiDJ0AQAAAAAAAKIM\n",
       "XQAAAAAAAIAoQxcAAAAAAAAgytAFAAAAAAAAiDJ0AQAAAAAAAKIMXQAAAAAAAIAoQxcAAAAAAAAg\n",
       "ytAFAAAAAAAAiDJ0AQAAAAAAAKIMXQAAAAAAAIAoQxcAAAAAAAAgytAFAAAAAAAAiDJ0AQAAAAAA\n",
       "AKIMXQAAAAAAAIAoQxcAAAAAAAAgytAFAAAAAAAAiDJ0AQAAAAAAAKIMXQAAAAAAAIAoQxcAAAAA\n",
       "AAAgytAFAAAAAAAAiDJ0AQAAAAAAAKIMXQAAAAAAAIAoQxcAAAAAAAAgytAFAAAAAAAAiDJ0AQAA\n",
       "AAAAAKIMXQAAAAAAAIAoQxcAAAAAAAAgytAFAAAAAAAAiDJ0AQAAAAAAAKIMXQAAAAAAAIAoQxcA\n",
       "AAAAAAAgytAFAAAAAAAAiDJ0AQAAAAAAAKIMXQAAAAAAAIAoQxcAAAAAAAAgytAFAAAAAAAAiDJ0\n",
       "AQAAAAAAAKIMXQAAAAAAAIAoQxcAAAAAAAAgytAFAAAAAAAAiDJ0AQAAAAAAAKIMXQAAAAAAAIAo\n",
       "QxcAAAAAAAAgytAFAAAAAAAAiDJ0AQAAAAAAAKIMXQAAAAAAAIAoQxcAAAAAAAAgytAFAAAAAAAA\n",
       "iDJ0AQAAAAAAAKIMXQAAAAAAAIAoQxcAAAAAAAAgytAFAAAAAAAAiDJ0AQAAAAAAAKIMXQAAAAAA\n",
       "AIAoQxcAAAAAAAAgytAFAAAAAAAAiDJ0AQAAAAAAAKIMXQAAAAAAAIAoQxcAAAAAAAAgytAFAAAA\n",
       "AAAAiDJ0AQAAAAAAAKIMXQAAAAAAAIAoQxcAAAAAAAAgytAFAAAAAAAAiDJ0AQAAAAAAAKIMXQAA\n",
       "AAAAAIAoQxcAAAAAAAAgytAFAAAAAAAAiDJ0AQAAAAAAAKIMXQAAAAAAAIAoQxcAAAAAAAAgytAF\n",
       "AAAAAAAAiDJ0AQAAAAAAAKIMXQAAAAAAAIAoQxcAAAAAAAAgytAFAAAAAAAAiDJ0AQAAAAAAAKIM\n",
       "XQAAAAAAAIAoQxcAAAAAAAAgytAFAAAAAAAAiDJ0AQAAAAAAAKIMXQAAAAAAAIAoQxcAAAAAAAAg\n",
       "ytAFAAAAAAAAiDJ0AQAAAAAAAKIMXQAAAAAAAIAoQxcAAAAAAAAgytAFAAAAAAAAiDJ0AQAAAAAA\n",
       "AKIMXQAAAAAAAIAoQxcAAAAAAAAgytAFAAAAAAAAiDJ0AQAAAAAAAKIMXQAAAAAAAIAoQxcAAAAA\n",
       "AAAgytAFAAAAAAAAiDJ0AQAAAAAAAKIMXQAAAAAAAIAoQxcAAAAAAAAgytAFAAAAAAAAiDJ0AQAA\n",
       "AAAAAKIMXQAAAAAAAIAoQxcAAAAAAAAgytAFAAAAAAAAiDJ0AQAAAAAAAKIMXQAAAAAAAIAoQxcA\n",
       "AAAAAAAgytAFAAAAAAAAiDJ0AQAAAAAAAKIMXQAAAAAAAIAoQxcAAAAAAAAgytAFAAAAAAAAiDJ0\n",
       "AQAAAAAAAKIMXQAAAAAAAIAoQxcAAAAAAAAgytAFAAAAAAAAiDJ0AQAAAAAAAKIMXQAAAAAAAIAo\n",
       "QxcAAAAAAAAgytAFAAAAAAAAiDJ0AQAAAAAAAKIMXQAAAAAAAIAoQxcAAAAAAAAgytAFAAAAAAAA\n",
       "iDJ0AQAAAAAAAKIMXQAAAAAAAIAoQxcAAAAAAAAgytAFAAAAAAAAiDJ0AQAAAAAAAKIMXQAAAAAA\n",
       "AIAoQxcAAAAAAAAgytAFAAAAAAAAiDJ0AQAAAAAAAKIMXQAAAAAAAIAoQxcAAAAAAAAgytAFAAAA\n",
       "AAAAiDJ0AQAAAAAAAKIMXQAAAAAAAIAoQxcAAAAAAAAgytAFAAAAAAAAiDJ0AQAAAAAAAKIMXQAA\n",
       "AAAAAIAoQxcAAAAAAAAgytAFAAAAAAAAiDJ0AQAAAAAAAKIMXQAAAAAAAIAoQxcAAAAAAAAgytAF\n",
       "AAAAAAAAiDJ0AQAAAAAAAKIMXQAAAAAAAIAoQxcAAAAAAAAgytAFAAAAAAAAiDJ0AQAAAAAAAKIM\n",
       "XQAAAAAAAIAoQxcAAAAAAAAgytAFAAAAAAAAiDJ0AQAAAAAAAKIMXQAAAAAAAIAoQxcAAAAAAAAg\n",
       "ytAFAAAAAAAAiDJ0AQAAAAAAAKIMXQAAAAAAAIAoQxcAAAAAAAAgytAFAAAAAAAAiDJ0AQAAAAAA\n",
       "AKIMXQAAAAAAAIAoQxcAAAAAAAAgytAFAAAAAAAAiDJ0AQAAAAAAAKIMXQAAAAAAAIAoQxcAAAAA\n",
       "AAAgytAFAAAAAAAAiDJ0AQAAAAAAAKIMXQAAAAAAAIAoQxcAAAAAAAAgytAFAAAAAAAAiDJ0AQAA\n",
       "AAAAAKIMXQAAAAAAAIAoQxcAAAAAAAAgytAFAAAAAAAAiDJ0AQAAAAAAAKIMXQAAAAAAAIAoQxcA\n",
       "AAAAAAAgytAFAAAAAAAAiDJ0AQAAAAAAAKIMXQAAAAAAAIAoQxcAAAAAAAAgytAFAAAAAAAAiDJ0\n",
       "AQAAAAAAAKIMXQAAAAAAAIAoQxcAAAAAAAAgytAFAAAAAAAAiDJ0AQAAAAAAAKIMXQAAAAAAAIAo\n",
       "QxcAAAAAAAAgytAFAAAAAAAAiDJ0AQAAAAAAAKIMXQAAAAAAAIAoQxcAAAAAAAAgytAFAAAAAAAA\n",
       "iDJ0AQAAAAAAAKIMXQAAAAAAAIAoQxcAAAAAAAAgytAFAAAAAAAAiDJ0AQAAAAAAAKIMXQAAAAAA\n",
       "AIAoQxcAAAAAAAAgytAFAAAAAAAAiDJ0AQAAAAAAAKIMXQAAAAAAAIAoQxcAAAAAAAAgytAFAAAA\n",
       "AAAAiDJ0AQAAAAAAAKIMXQAAAAAAAIAoQxcAAAAAAAAgytAFAAAAAAAAiDJ0AQAAAAAAAKIMXQAA\n",
       "AAAAAIAoQxcAAAAAAAAgytAFAAAAAAAAiDJ0AQAAAAAAAKIMXQAAAAAAAIAoQxcAAAAAAAAgytAF\n",
       "AAAAAAAAiDJ0AQAAAAAAAKIMXQAAAAAAAIAoQxcAAAAAAAAgytAFAAAAAAAAiDJ0AQAAAAAAAKIM\n",
       "XQAAAAAAAIAoQxcAAAAAAAAgytAFAAAAAAAAiDJ0AQAAAAAAAKIMXQAAAAAAAIAoQxcAAAAAAAAg\n",
       "ytAFAAAAAAAAiDJ0AQAAAAAAAKIMXQAAAAAAAIAoQxcAAAAAAAAgytAFAAAAAAAAiDJ0AQAAAAAA\n",
       "AKIMXQAAAAAAAIAoQxcAAAAAAAAgytAFAAAAAAAAiDJ0AQAAAAAAAKIMXQAAAAAAAIAoQxcAAAAA\n",
       "AAAgytAFAAAAAAAAiDJ0AQAAAAAAAKIMXQAAAAAAAIAoQxcAAAAAAAAgytAFAAAAAAAAiDJ0AQAA\n",
       "AAAAAKIMXQAAAAAAAIAoQxcAAAAAAAAgytAFAAAAAAAAiDJ0AQAAAAAAAKIMXQAAAAAAAIAoQxcA\n",
       "AAAAAAAgytAFAAAAAAAAiDJ0AQAAAAAAAKIMXQAAAAAAAIAoQxcAAAAAAAAgytAFAAAAAAAAiDJ0\n",
       "AQAAAAAAAKIMXQAAAAAAAIAoQxcAAAAAAAAgytAFAAAAAAAAiDJ0AQAAAAAAAKIMXQAAAAAAAIAo\n",
       "QxcAAAAAAAAgytAFAAAAAAAAiDJ0AQAAAAAAAKIMXQAAAAAAAIAoQxcAAAAAAAAgytAFAAAAAAAA\n",
       "iDJ0AQAAAAAAAKIMXQAAAAAAAIAoQxcAAAAAAAAgytAFAAAAAAAAiDJ0AQAAAAAAAKIMXQAAAAAA\n",
       "AIAoQxcAAAAAAAAgytAFAAAAAAAAiDJ0AQAAAAAAAKIMXQAAAAAAAIAoQxcAAAAAAAAgytAFAAAA\n",
       "AAAAiDJ0AQAAAAAAAKIMXQAAAAAAAIAoQxcAAAAAAAAgytAFAAAAAAAAiDJ0AQAAAAAAAKIMXQAA\n",
       "AAAAAIAoQxcAAAAAAAAgytAFAAAAAAAAiDJ0AQAAAAAAAKIMXQAAAAAAAIAoQxcAAAAAAAAgytAF\n",
       "AAAAAAAAiDJ0AQAAAAAAAKIMXQAAAAAAAIAoQxcAAAAAAAAgytAFAAAAAAAAiDJ0AQAAAAAAAKIM\n",
       "XQAAAAAAAIAoQxcAAAAAAAAgytAFAAAAAAAAiDJ0AQAAAAAAAKIMXQAAAAAAAIAoQxcAAAAAAAAg\n",
       "ytAFAAAAAAAAiDJ0AQAAAAAAAKIMXQAAAAAAAIAoQxcAAAAAAAAgytAFAAAAAAAAiDJ0AQAAAAAA\n",
       "AKIMXQAAAAAAAIAoQxcAAAAAAAAgytAFAAAAAAAAiDJ0AQAAAAAAAKIMXQAAAAAAAIAoQxcAAAAA\n",
       "AAAgytAFAAAAAAAAiDJ0AQAAAAAAAKIMXQAAAAAAAIAoQxcAAAAAAAAgytAFAAAAAAAAiDJ0AQAA\n",
       "AAAAAKIMXQAAAAAAAIAoQxcAAAAAAAAgytAFAAAAAAAAiDJ0AQAAAAAAAKIMXQAAAAAAAIAoQxcA\n",
       "AAAAAAAgytAFAAAAAAAAiDJ0AQAAAAAAAKIMXQAAAAAAAIAoQxcAAAAAAAAgytAFAAAAAAAAiDJ0\n",
       "AQAAAAAAAKIMXQAAAAAAAIAoQxcAAAAAAAAgytAFAAAAAAAAiDJ0AQAAAAAAAKIMXQAAAAAAAIAo\n",
       "QxcAAAAAAAAgytAFAAAAAAAAiDJ0AQAAAAAAAKIMXQAAAAAAAIAoQxcAAAAAAAAgytAFAAAAAAAA\n",
       "iDJ0AQAAAAAAAKIMXQAAAAAAAIAoQxcAAAAAAAAgytAFAAAAAAAAiDJ0AQAAAAAAAKIMXQAAAAAA\n",
       "AIAoQxcAAAAAAAAgytAFAAAAAAAAiDJ0AQAAAAAAAKIMXQAAAAAAAIAoQxcAAAAAAAAgytAFAAAA\n",
       "AAAAiDJ0AQAAAAAAAKIMXQAAAAAAAIAoQxcAAAAAAAAgytAFAAAAAAAAiDJ0AQAAAAAAAKIMXQAA\n",
       "AAAAAIAoQxcAAAAAAAAgytAFAAAAAAAAiDJ0AQAAAAAAAKIMXQAAAAAAAIAoQxcAAAAAAAAgytAF\n",
       "AAAAAAAAiDJ0AQAAAAAAAKIMXQAAAAAAAIAoQxcAAAAAAAAgytAFAAAAAAAAiDJ0AQAAAAAAAKIM\n",
       "XQAAAAAAAIAoQxcAAAAAAAAgytAFAAAAAAAAiDJ0AQAAAAAAAKIMXQAAAAAAAIAoQxcAAAAAAAAg\n",
       "ytAFAAAAAAAAiDJ0AQAAAAAAAKIMXQAAAAAAAIAoQxcAAAAAAAAgytAFAAAAAAAAiDJ0AQAAAAAA\n",
       "AKIMXQAAAAAAAIAoQxcAAAAAAAAgytAFAAAAAAAAiDJ0AQAAAAAAAKIMXQAAAAAAAIAoQxcAAAAA\n",
       "AAAgytAFAAAAAAAAiDJ0AQAAAAAAAKIMXQAAAAAAAIAoQxcAAAAAAAAgytAFAAAAAAAAiDJ0AQAA\n",
       "AAAAAKIMXQAAAAAAAIAoQxcAAAAAAAAgytAFAAAAAAAAiDJ0AQAAAAAAAKIMXQAAAAAAAIAoQxcA\n",
       "AAAAAAAgytAFAAAAAAAAiDJ0AQAAAAAAAKIMXQAAAAAAAIAoQxcAAAAAAAAgytAFAAAAAAAAiDJ0\n",
       "AQAAAAAAAKIMXQAAAAAAAIAoQxcAAAAAAAAgytAFAAAAAAAAiDJ0AQAAAAAAAKIMXQAAAAAAAIAo\n",
       "QxcAAAAAAAAgytAFAAAAAAAAiDJ0AQAAAAAAAKIMXQAAAAAAAIAoQxcAAAAAAAAgytAFAAAAAAAA\n",
       "iDJ0AQAAAAAAAKIMXQAAAAAAAIAoQxcAAAAAAAAgytAFAAAAAAAAiDJ0AQAAAAAAAKIMXQAAAAAA\n",
       "AIAoQxcAAAAAAAAgytAFAAAAAAAAiDJ0AQAAAAAAAKIMXQAAAAAAAIAoQxcAAAAAAAAgytAFAAAA\n",
       "AAAAiDJ0AQAAAAAAAKIMXQAAAAAAAIAoQxcAAAAAAAAgytAFAAAAAAAAiDJ0AQAAAAAAAKIMXQAA\n",
       "AAAAAIAoQxcAAAAAAAAgytAFAAAAAAAAiDJ0AQAAAAAAAKIMXQAAAAAAAIAoQxcAAAAAAAAgytAF\n",
       "AAAAAAAAiDJ0AQAAAAAAAKIMXQAAAAAAAIAoQxcAAAAAAAAgytAFAAAAAAAAiDJ0AQAAAAAAAKIM\n",
       "XQAAAAAAAIAoQxcAAAAAAAAgytAFAAAAAAAAiDJ0AQAAAAAAAKIMXQAAAAAAAIAoQxcAAAAAAAAg\n",
       "ytAFAAAAAAAAiDJ0AQAAAAAAAKIMXQAAAAAAAIAoQxcAAAAAAAAgytAFAAAAAAAAiDJ0AQAAAAAA\n",
       "AKIMXQAAAAAAAIAoQxcAAAAAAAAgytAFAAAAAAAAiDJ0AQAAAAAAAKIMXQAAAAAAAIAoQxcAAAAA\n",
       "AAAgytAFAAAAAAAAiDJ0AQAAAAAAAKIMXQAAAAAAgMu+HdwgEANBELSlC5TQCBTJBMCf7YOqCObf\n",
       "GoAoQRcAAAAAAAAgStAFAAAAAAAAiBJ0AQAAAAAAAKIEXQAAAAAAAIAoQRcAAAAAAAAgStAFAAAA\n",
       "AAAAiBJ0AQAAAAAAAKIEXQAAAAAAAIAoQRcAAAAAAAAgStAFAAAAAAAAiBJ0AQAAAAAAAKIEXQAA\n",
       "AAAAAIAoQRcAAAAAAAAgStAFAAAAAAAAiBJ0AQAAAAAAAKIEXQAAAAAAAIAoQRcAAAAAAAAgStAF\n",
       "AAAAAAAAiBJ0AQAAAAAAAKIEXQAAAAAAAIAoQRcAAAAAAAAgStAFAAAAAAAAiBJ0AQAAAAAAAKIE\n",
       "XQAAAAAAAIAoQRcAAAAAAAAgStAFAAAAAAAAiBJ0AQAAAAAAAKIEXQAAAAAAAIAoQRcAAAAAAAAg\n",
       "StAFAAAAAAAAiBJ0AQAAAAAAAKIEXQAAAAAAAIAoQRcAAAAAAAAgStAFAAAAAAAAiBJ0AQAAAAAA\n",
       "AKIEXQAAAAAAAIAoQRcAAAAAAAAgStAFAAAAAAAAiBJ0AQAAAAAAAKIEXQAAAAAAAIAoQRcAAAAA\n",
       "AAAgStAFAAAAAAAAiBJ0AQAAAAAAAKIEXQAAAAAAAIAoQRcAAAAAAAAgStAFAAAAAAAAiBJ0AQAA\n",
       "AAAAAKIEXQAAAAAAAIAoQRcAAAAAAAAgStAFAAAAAAAAiBJ0AQAAAAAAAKIEXQAAAAAAAIAoQRcA\n",
       "AAAAAAAgStAFAAAAAAAAiBJ0AQAAAAAAAKIEXQAAAAAAAIAoQRcAAAAAAAAgStAFAAAAAAAAiBJ0\n",
       "AQAAAAAAAKIEXQAAAAAAAIAoQRcAAAAAAAAgStAFAAAAAAAAiBJ0AQAAAAAAAKIEXQAAAAAAAIAo\n",
       "QRcAAAAAAAAgStAFAAAAAAAAiBJ0AQAAAAAAAKIEXQAAAAAAAIAoQRcAAAAAAAAgStAFAAAAAAAA\n",
       "iBJ0AQAAAAAAAKIEXQAAAAAAAIAoQRcAAAAAAAAgStAFAAAAAAAAiBJ0AQAAAAAAAKIEXQAAAAAA\n",
       "AIAoQRcAAAAAAAAgStAFAAAAAAAAiBJ0AQAAAAAAAKIEXQAAAAAAAIAoQRcAAAAAAAAgStAFAAAA\n",
       "AAAAiBJ0AQAAAAAAAKIEXQAAAAAAAIAoQRcAAAAAAAAgStAFAAAAAAAAiBJ0AQAAAAAAAKIEXQAA\n",
       "AAAAAIAoQRcAAAAAAAAgStAFAAAAAAAAiBJ0AQAAAAAAAKIEXQAAAAAAAIAoQRcAAAAAAAAgStAF\n",
       "AAAAAAAAiBJ0AQAAAAAAAKIEXQAAAAAAAIAoQRcAAAAAAAAgStAFAAAAAAAAiBJ0AQAAAAAAAKIE\n",
       "XQAAAAAAAIAoQRcAAAAAAAAgStAFAAAAAAAAiBJ0AQAAAAAAAKIEXQAAAAAAAIAoQRcAAAAAAAAg\n",
       "StAFAAAAAAAAiBJ0AQAAAAAAAKIEXQAAAAAAAIAoQRcAAAAAAAAgStAFAAAAAAAAiBJ0AQAAAAAA\n",
       "AKIEXQAAAAAAAIAoQRcAAAAAAAAgStAFAAAAAAAAiBJ0AQAAAAAAAKIEXQAAAAAAAIAoQRcAAAAA\n",
       "AAAgStAFAAAAAAAAiBJ0AQAAAAAAAKIEXQAAAAAAAIAoQRcAAAAAAAAgStAFAAAAAAAAiBJ0AQAA\n",
       "AAAAAKIEXQAAAAAAAIAoQRcAAAAAAAAgStAFAAAAAAAAiBJ0AQAAAAAAAKIEXQAAAAAAAIAoQRcA\n",
       "AAAAAAAgStAFAAAAAAAAiBJ0AQAAAAAAAKIEXQAAAAAAAIAoQRcAAAAAAAAgStAFAAAAAAAAiBJ0\n",
       "AQAAAAAAAKIEXQAAAAAAAIAoQRcAAAAAAAAgStAFAAAAAAAAiBJ0AQAAAAAAAKIEXQAAAAAAAIAo\n",
       "QRcAAAAAAAAgStAFAAAAAAAAiBJ0AQAAAAAAAKIEXQAAAAAAAIAoQRcAAAAAAAAgStAFAAAAAAAA\n",
       "iBJ0AQAAAAAAAKIEXQAAAAAAAIAoQRcAAAAAAAAgStAFAAAAAAAAiBJ0AQAAAAAAAKIEXQAAAAAA\n",
       "AIAoQRcAAAAAAAAgStAFAAAAAAAAiBJ0AQAAAAAAAKIEXQAAAAAAAIAoQRcAAAAAAAAgStAFAAAA\n",
       "AAAAiBJ0AQAAAAAAAKIEXQAAAAAAAIAoQRcAAAAAAAAgStAFAAAAAAAAiBJ0AQAAAAAAAKIEXQAA\n",
       "AAAAAIAoQRcAAAAAAAAgStAFAAAAAAAAiLqmBwAAAPy6vfb0hBFnnekJAAAAcHseugAAAAAAAABR\n",
       "gi4AAAAAAABAlKALAAAAAAAAECXoAgAAAAAAAEQJugAAAAAAAABRgi4AAAAAAABAlKALAAAAAAAA\n",
       "ECXoAgAAAAAAAEQJugAAAAAAAABRgi4AAAAAAABAlKALAAAAAAAAECXoAgAAAAAAAEQJugAAAAAA\n",
       "AABRgi4AAAAAAABAlKALAAAAAAAAECXoAgAAAAAAAEQJugAAAAAAAABRgi4AAAAAAABAlKALAAAA\n",
       "AAAAECXoAgAAAAAAAEQJugAAAAAAAABRgi4AAAAAAABAlKALAAAAAAAAECXoAgAAAAAAAEQJugAA\n",
       "AAAAAABRgi4AAAAAAABAlKALAAAAAAAAECXoAgAAAAAAAEQJugAAAAAAAABRgi4AAAAAAABA1DU9\n",
       "AAAA/tXrPKcnjLj2Y3rC1511picAAAAAN+WhCwAAAAAAABAl6AIAAAAAAABECboAAAAAAAAAUYIu\n",
       "AAAAAAAAQJSgCwAAAAAAABAl6AIAAAAAAABECboAAAAAAAAAUYIuAAAAAAAAQJSgCwAAAAAAABAl\n",
       "6AIAAAAAAABECboAAAAAAAAAUYIuAAAAAAAAQJSgCwAAAAAAABAl6AIAAAAAAABECboAAAAAAAAA\n",
       "UYIuAAAAAAAAQJSgCwAAAAAAABAl6AIAAAAAAABECboAAAAAAAAAUYIuAAAAAAAAQJSgCwAAAAAA\n",
       "ABAl6AIAAAAAAABECboAAAAAAAAAUYIuAAAAAAAAQJSgCwAAAAAAABAl6AIAAAAAAABECboAAAAA\n",
       "AAAAUYIuAAAAAAAAQJSgCwAAAAAAABAl6AIAAAAAAABE7bWuMz0CAAAAAAAAgE8eugAAAAAAAABR\n",
       "gi4AAAAAAABAlKALAAAAAAAAECXoAgAAAAAAAEQJugAAAAAAAABRgi4AAAAAAABAlKALAAAAAAAA\n",
       "ECXoAgAAAAAAAEQJugAAAAAAAABRgi4AAAAAAABAlKALAAAAAAAAECXoAgAAAAAAAEQJugAAAAAA\n",
       "AABRgi4AAAAAAABAlKALAAAAAAAAECXoAgAAAAAAAEQJugAAAAAAAABRgi4AAAAAAABAlKALAAAA\n",
       "AAAAECXoAgAAAAAAAEQJugAAAAAAAABRgi4AAAAAAABAlKALAAAAAAAAECXoAgAAAAAAAEQJugAA\n",
       "AAAAAABRgi4AAAAAAABAlKALAAAAAAAAECXoAgAAAAAAAEQJugAAAAAAAABRgi4AAAAAAABAlKAL\n",
       "AAAAAAAAECXoAgAAAAAAAEQJugAAAAAAAABRgi4AAAAAAABAlKALAAAAAAAAECXoAgAAAAAAAEQJ\n",
       "ugAAAAAAAABRgi4AAAAAAABAlKALAAAAAAAAECXoAgAAAAAAAEQJugAAAAAAAABRgi4AAAAAAABA\n",
       "lKALAAAAAAAAECXoAgAAAAAAAEQJugAAAAAAAABRgi4AAAAAAABAlKALAAAAAAAAECXoAgAAAAAA\n",
       "AEQJugAAAAAAAABRgi4AAAAAAABAlKALAAAAAAAAECXoAgAAAAAAAEQJugAAAAAAAABRgi4AAAAA\n",
       "AABAlKALAAAAAAAAECXoAgAAAAAAAEQJuvNISMQAABIESURBVAAAAAAAAABRgi4AAAAAAABAlKAL\n",
       "AAAAAAAAECXoAgAAAAAAAEQJugAAAAAAAABRgi4AAAAAAABAlKALAAAAAAAAECXoAgAAAAAAAEQJ\n",
       "ugAAAAAAAABRgi4AAAAAAABAlKALAAAAAAAAECXoAgAAAAAAAEQJugAAAAAAAABRgi4AAAAAAABA\n",
       "lKALAAAAAAAAECXoAgAAAAAAAEQJugAAAAAAAABRgi4AAAAAAABAlKALAAAAAAAAECXoAgAAAAAA\n",
       "AEQJugAAAAAAAABRgi4AAAAAAABAlKALAAAAAAAAECXoAgAAAAAAAEQJugAAAAAAAABRgi4AAAAA\n",
       "AABAlKALAAAAAAAAECXoAgAAAAAAAEQJugAAAAAAAABRgi4AAAAAAABAlKALAAAAAAAAECXoAgAA\n",
       "AAAAAEQJugAAAAAAAABRgi4AAAAAAABAlKALAAAAAAAAECXoAgAAAAAAAEQJugAAAAAAAABRgi4A\n",
       "AAAAAABAlKALAAAAAAAAECXoAgAAAAAAAEQJugAAAAAAAABRgi4AAAAAAABAlKALAAAAAAAAECXo\n",
       "AgAAAAAAAEQJugAAAAAAAABRgi4AAAAAAABAlKALAAAAAAAAECXoAgAAAAAAAEQJugAAAAAAAABR\n",
       "gi4AAAAAAABAlKALAAAAAAAAECXoAgAAAAAAAEQJugAAAAAAAABRgi4AAAAAAABAlKALAAAAAAAA\n",
       "ECXoAgAAAAAAAEQJugAAAAAAAABRgi4AAAAAAABAlKALAAAAAAAAECXoAgAAAAAAAEQJugAAAAAA\n",
       "AABRgi4AAAAAAABAlKALAAAAAAAAECXoAgAAAAAAAEQJugAAAAAAAABRgi4AAAAAAABAlKALAAAA\n",
       "AAAAECXoAgAAAAAAAEQJugAAAAAAAABRgi4AAAAAAABAlKALAAAAAAAAECXoAgAAAAAAAEQJugAA\n",
       "AAAAAABRgi4AAAAAAABAlKALAAAAAAAAECXoAgAAAAAAAEQJugAAAAAAAABRgi4AAAAAAABAlKAL\n",
       "AAAAAAAAECXoAgAAAAAAAEQJugAAAAAAAABRgi4AAAAAAABAlKALAAAAAAAAECXoAgAAAAAAAEQJ\n",
       "ugAAAAAAAABRgi4AAAAAAABAlKALAAAAAAAAECXoAgAAAAAAAEQJugAAAAAAAABRgi4AAAAAAABA\n",
       "lKALAAAAAAAAECXoAgAAAAAAAEQJugAAAAAAAABRgi4AAAAAAABAlKALAAAAAAAAECXoAgAAAAAA\n",
       "AEQJugAAAAAAAABRgi4AAAAAAABAlKALAAAAAAAAECXoAgAAAAAAAEQJugAAAAAAAABRgi4AAAAA\n",
       "AABAlKALAAAAAAAAECXoAgAAAAAAAEQJugAAAAAAAABRgi4AAAAAAABAlKALAAAAAAAAECXoAgAA\n",
       "AAAAAEQJugAAAAAAAABRgi4AAAAAAABAlKALAAAAAAAAECXoAgAAAAAAAEQJugAAAAAAAABRgi4A\n",
       "AAAAAABAlKALAAAAAAAAECXoAgAAAAAAAEQJugAAAAAAAABRgi4AAAAAAABAlKALAAAAAAAAECXo\n",
       "AgAAAAAAAEQJugAAAAAAAABRgi4AAAAAAABAlKALAAAAAAAAECXoAgAAAAAAAEQJugAAAAAAAABR\n",
       "gi4AAAAAAABAlKALAAAAAAAAECXoAgAAAAAAAEQJugAAAAAAAABRgi4AAAAAAABAlKALAAAAAAAA\n",
       "ECXoAgAAAAAAAEQJugAAAAAAAABRgi4AAAAAAABAlKALAAAAAAAAECXoAgAAAAAAAEQJugAAAAAA\n",
       "AABRgi4AAAAAAABAlKALAAAAAAAAECXoAgAAAAAAAEQJugAAAAAAAABRgi4AAAAAAABAlKALAAAA\n",
       "AAAAECXoAgAAAAAAAEQJugAAAAAAAABRgi4AAAAAAABAlKALAAAAAAAAECXoAgAAAAAAAEQJugAA\n",
       "AAAAAABRgi4AAAAAAABAlKALAAAAAAAAECXoAgAAAAAAAEQJugAAAAAAAABRgi4AAAAAAABAlKAL\n",
       "AAAAAAAAECXoAgAAAAAAAEQJugAAAAAAAABRgi4AAAAAAABAlKALAAAAAAAAECXoAgAAAAAAAEQJ\n",
       "ugAAAAAAAABRgi4AAAAAAABAlKALAAAAAAAAECXoAgAAAAAAAEQJugAAAAAAAABRgi4AAAAAAABA\n",
       "lKALAAAAAAAAECXoAgAAAAAAAEQJugAAAAAAAABRgi4AAAAAAABAlKALAAAAAAAAECXoAgAAAAAA\n",
       "AEQJugAAAAAAAABRgi4AAAAAAABAlKALAAAAAAAAECXoAgAAAAAAAEQJugAAAAAAAABRgi4AAAAA\n",
       "AABAlKALAAAAAAAAECXoAgAAAAAAAEQJugAAAAAAAABRgi4AAAAAAABAlKALAAAAAAAAECXoAgAA\n",
       "AAAAAEQJugAAAAAAAABRgi4AAAAAAABAlKALAAAAAAAAECXoAgAAAAAAAEQJugAAAAAAAABRgi4A\n",
       "AAAAAABAlKALAAAAAAAAECXoAgAAAAAAAEQJugAAAAAAAABRgi4AAAAAAABAlKALAAAAAAAAECXo\n",
       "AgAAAAAAAEQJugAAAAAAAABRgi4AAAAAAABAlKALAAAAAAAAECXoAgAAAAAAAEQJugAAAAAAAABR\n",
       "gi4AAAAAAABAlKALAAAAAAAAECXoAgAAAAAAAEQJugAAAAAAAABRgi4AAAAAAABAlKALAAAAAAAA\n",
       "ECXoAgAAAAAAAEQJugAAAAAAAABRgi4AAAAAAABAlKALAAAAAAAAECXoAgAAAAAAAEQJugAAAAAA\n",
       "AABRgi4AAAAAAABAlKALAAAAAAAAECXoAgAAAAAAAEQJugAAAAAAAABRgi4AAAAAAABAlKALAAAA\n",
       "AAAAECXoAgAAAAAAAEQJugAAAAAAAABRgi4AAAAAAABAlKALAAAAAAAAECXoAgAAAAAAAEQJugAA\n",
       "AAAAAABRgi4AAAAAAABAlKALAAAAAAAAECXoAgAAAAAAAEQJugAAAAAAAABRgi4AAAAAAABAlKAL\n",
       "AAAAAAAAECXoAgAAAAAAAEQJugAAAAAAAABRgi4AAAAAAABAlKALAAAAAAAAECXoAgAAAAAAAEQJ\n",
       "ugAAAAAAAABRgi4AAAAAAABAlKALAAAAAAAAECXoAgAAAAAAAEQJugAAAAAAAABRgi4AAAAAAABA\n",
       "lKALAAAAAAAAECXoAgAAAAAAAEQJugAAAAAAAABRgi4AAAAAAABAlKALAAAAAAAAECXoAgAAAAAA\n",
       "AEQJugAAAAAAAABRgi4AAAAAAABAlKALAAAAAAAAECXoAgAAAAAAAEQJugAAAAAAAABRgi4AAAAA\n",
       "AABAlKALAAAAAAAAECXoAgAAAAAAAEQJugAAAAAAAABRgi4AAAAAAABAlKALAAAAAAAAECXoAgAA\n",
       "AAAAAES927dDKoBhKAiCJDFQ/xproAF1EPoXzCg4vu8EXQAAAAAAAIAoQRcAAAAAAAAgStAFAAAA\n",
       "AAAAiBJ0AQAAAAAAAKIEXQAAAAAAAIAoQRcAAAAAAAAgStAFAAAAAAAAiBJ0AQAAAAAAAKIEXQAA\n",
       "AAAAAIAoQRcAAAAAAAAgStAFAAAAAAAAiBJ0AQAAAAAAAKIEXQAAAAAAAIAoQRcAAAAAAAAgStAF\n",
       "AAAAAAAAiBJ0AQAAAAAAAKIEXQAAAAAAAIAoQRcAAAAAAAAgStAFAAAAAAAAiBJ0AQAAAAAAAKIE\n",
       "XQAAAAAAAIAoQRcAAAAAAAAgStAFAAAAAAAAiBJ0AQAAAAAAAKIEXQAAAAAAAIAoQRcAAAAAAAAg\n",
       "StAFAAAAAAAAiBJ0AQAAAAAAAKIEXQAAAAAAAIAoQRcAAAAAAAAgStAFAAAAAAAAiBJ0AQAAAAAA\n",
       "AKIEXQAAAAAAAIAoQRcAAAAAAAAgStAFAAAAAAAAiBJ0AQAAAAAAAKIEXQAAAAAAAIAoQRcAAAAA\n",
       "AAAgStAFAAAAAAAAiBJ0AQAAAAAAAKIEXQAAAAAAAIAoQRcAAAAAAAAgStAFAAAAAAAAiBJ0AQAA\n",
       "AAAAAKIEXQAAAAAAAIAoQRcAAAAAAAAgStAFAAAAAAAAiBJ0AQAAAAAAAKIEXQAAAAAAAIAoQRcA\n",
       "AAAAAAAgStAFAAAAAAAAiBJ0AQAAAAAAAKIEXQAAAAAAAIAoQRcAAAAAAAAgStAFAAAAAAAAiBJ0\n",
       "AQAAAAAAAKIEXQAAAAAAAIAoQRcAAAAAAAAgStAFAAAAAAAAiBJ0AQAAAAAAAKIEXQAAAAAAAIAo\n",
       "QRcAAAAAAAAgStAFAAAAAAAAiBJ0AQAAAAAAAKIEXQAAAAAAAIAoQRcAAAAAAAAgStAFAAAAAAAA\n",
       "iBJ0AQAAAAAAAKIEXQAAAAAAAIAoQRcAAAAAAAAgStAFAAAAAAAAiBJ0AQAAAAAAAKIEXQAAAAAA\n",
       "AIAoQRcAAAAAAAAgStAFAAAAAAAAiBJ0AQAAAAAAAKIEXQAAAAAAAIAoQRcAAAAAAAAgStAFAAAA\n",
       "AAAAiBJ0AQAAAAAAAKIEXQAAAAAAAIAoQRcAAAAAAAAgStAFAAAAAAAAiBJ0AQAAAAAAAKIEXQAA\n",
       "AAAAAIAoQRcAAAAAAAAgStAFAAAAAAAAiBJ0AQAAAAAAAKIEXQAAAAAAAIAoQRcAAAAAAAAgStAF\n",
       "AAAAAAAAiBJ0AQAAAAAAAKIEXQAAAAAAAIAoQRcAAAAAAAAgStAFAAAAAAAAiBJ0AQAAAAAAAKIE\n",
       "XQAAAAAAAIAoQRcAAAAAAAAgStAFAAAAAAAAiBJ0AQAAAAAAAKIEXQAAAAAAAIAoQRcAAAAAAAAg\n",
       "StAFAAAAAAAAiBJ0AQAAAAAAAKIEXQAAAAAAAIAoQRcAAAAAAAAgStAFAAAAAAAAiBJ0AQAAAAAA\n",
       "AKIEXQAAAAAAAIAoQRcAAAAAAAAgStAFAAAAAAAAiBJ0AQAAAAAAAKIEXQAAAAAAAIAoQRcAAAAA\n",
       "AAAgStAFAAAAAAAAiBJ0AQAAAAAAAKIEXQAAAAAAAIAoQRcAAAAAAAAgStAFAAAAAAAAiBJ0AQAA\n",
       "AAAAAKIEXQAAAAAAAIAoQRcAAAAAAAAgStAFAAAAAAAAiBJ0AQAAAAAAAKIEXQAAAAAAAIAoQRcA\n",
       "AAAAAAAgStAFAAAAAAAAiBJ0AQAAAAAAAKIEXQAAAAAAAIAoQRcAAAAAAAAgStAFAAAAAAAAiBJ0\n",
       "AQAAAAAAAKIEXQAAAAAAAIAoQRcAAAAAAAAgStAFAAAAAAAAiBJ0AQAAAAAAAKIEXQAAAAAAAIAo\n",
       "QRcAAAAAAAAgStAFAAAAAAAAiBJ0AQAAAAAAAKIEXQAAAAAAAIAoQRcAAAAAAAAgStAFAAAAAAAA\n",
       "iBJ0AQAAAAAAAKIEXQAAAAAAAIAoQRcAAAAAAAAgStAFAAAAAAAAiBJ0AQAAAAAAAKIEXQAAAAAA\n",
       "AIAoQRcAAAAAAAAgStAFAAAAAAAAiBJ0AQAAAAAAAKIEXQAAAAAAAIAoQRcAAAAAAAAgStAFAAAA\n",
       "AAAAiBJ0AQAAAAAAAKIEXQAAAAAAAIAoQRcAAAAAAAAgStAFAAAAAAAAiBJ0AQAAAAAAAKIEXQAA\n",
       "AAAAAIAoQRcAAAAAAAAgStAFAAAAAAAAiBJ0AQAAAAAAAKIEXQAAAAAAAIAoQRcAAAAAAAAgStAF\n",
       "AAAAAAAAiBJ0AQAAAAAAAKIEXQAAAAAAAIAoQRcAAAAAAAAgStAFAAAAAAAAiBJ0AQAAAAAAAKIE\n",
       "XQAAAAAAAIAoQRcAAAAAAAAgStAFAAAAAAAAiBJ0AQAAAAAAAKIEXQAAAAAAAIAoQRcAAAAAAAAg\n",
       "StAFAAAAAAAAiFp7PdMbRnznnZ4AAAAAAAAAcOWhCwAAAAAAABAl6AIAAAAAAABECboAAAAAAAAA\n",
       "UYIuAAAAAAAAQJSgCwAAAAAAABAl6AIAAAAAAABECboAAAAAAAAAUYIuAAAAAAAAQJSgCwAAAAAA\n",
       "ABAl6AIAAAAAAABECboAAAAAAAAAUYIuAAAAAAAAQJSgCwAAAAAAABAl6AIAAAAAAABECboAAAAA\n",
       "AAAAUYIuAAAAAAAAQJSgCwAAAAAAABAl6AIAAAAAAABECboAAAAAAAAAUYIuAAAAAAAAQJSgCwAA\n",
       "AAAAABAl6AIAAAAAAABECboAAAAAAAAAUYIuAAAAAAAAQJSgCwAAAAAAABAl6AIAAAAAAABECboA\n",
       "AAAAAAAAUYIuAAAAAAAAQJSgCwAAAAAAABD1A71DFjHnUFG8AAAAAElFTkSuQmCC\n",
       "\" transform=\"translate(205, 123)\"/>\n",
       "</g>\n",
       "<defs>\n",
       "  <clipPath id=\"clip223\">\n",
       "    <rect x=\"2160\" y=\"123\" width=\"73\" height=\"1301\"/>\n",
       "  </clipPath>\n",
       "</defs>\n",
       "<g clip-path=\"url(#clip223)\">\n",
       "<image width=\"72\" height=\"1300\" xlink:href=\"data:image/png;base64,\n",
       "iVBORw0KGgoAAAANSUhEUgAAAEgAAAUUCAYAAAB8mVRsAAALUklEQVR4nO3dwY3kRhBFQbaQ/lsh\n",
       "L6WtkgXKdyQPERYMHj641dWc2d+/5+/78L/+evsH+DqBgkBBoCBQmHP/fftn+DQLCgIFgYJAYe79\n",
       "8/bP8GkWFAQKAgWBgpN0sKAgUBAoCBTmekivLCgIFAQKAoW5x0N6Y0FBoCBQECg4SQcLCgIFgYJA\n",
       "wUM6WFAQKAgUBAquO4IFBYGCQEGgMI+T9MqCgkBBoCBQcN0RLCgIFAQKAoV5XHesLCgIFAQKAoV5\n",
       "zj9v/wyfZkFBoCBQECgIFFzaBwsKAgWBgkDBfVCwoCBQECgIFDykgwUFgYJAQaDguiNYUBAoCBQE\n",
       "CvNzkl5ZUBAoCBQECvMcf3B7Y0FBoCBQECg4SQcLCgIFgYJAwUk6WFAQKAgUBAre7ggWFAQKAgWB\n",
       "wvycpFcWFAQKAgWBglfwggUFgYJAQaDgJB0sKAgUBAoCBV8cBgsKAgWBgkBBoOCjRrCgIFAQKAgU\n",
       "fNQIFhQECgIFgYKTdLCgIFAQKAgU5jnn7Z/h0ywoCBQECgIFJ+lgQUGgIFAQKLiTDhYUBAoCBYGC\n",
       "h3SwoCBQECgIFObnTnplQUGgIFAQKDhJBwsKAgWBgkDB2x3BgoJAQaAgUHDdESwoCBQECgIF1x3B\n",
       "goJAQaAgUHDdESwoCBQECgIFgYJ/xYIFBYGCQEGg4FcygwUFgYJAQaDgJB0sKAgUBAoCBQ/pYEFB\n",
       "oCBQECh4SAcLCgIFgYJAwUM6WFAQKAgUBArzXA/pjQUFgYJAQaDgJB0sKAgUBAoCBQ/pYEFBoCBQ\n",
       "ECh4SAcLCgIFgYJAYZ5z3/4ZPs2CgkBBoCBQcJIOFhQECgIFgYKTdLCgIFAQKAgUBAo+agQLCgIF\n",
       "gYJAwUeNYEFBoCBQECjM4yC9sqAgUBAoCBTmuU7SGwsKAgWBgkDBSTpYUBAoCBQECh7SwYKCQEGg\n",
       "IFAYf4BqZ0FBoCBQECg4SQcLCgIFgYJAwUM6WFAQKAgUBArznN/bP8OnWVAQKAgUBApzr4f0xoKC\n",
       "QEGgIFBw3REsKAgUBAoCBdcdwYKCQEGgIFAQKMw9Gm3UCQIFgYJAwUeNYEFBoCBQECjM45vVlQUF\n",
       "gYJAQaAw10l6ZUFBoCBQECjM4056pU4QKAgUBApO0sGCgkBBoCBQcCcdLCgIFAQKAgWv4AV1gkBB\n",
       "oCBQ8ApesKAgUBAoCBTcSQcLCgIFgYJAYe7VaKNOECgIFAQKrjuCBQWBgkBBoCBQcB8ULCgIFAQK\n",
       "AoV53Aet1AkCBYGCQMFJOlhQECgIFAQKHtLBgoJAQaAgUPArmcGCgkBBoCBQ8CuZQZ0gUBAoCBT8\n",
       "V8bBgoJAQaAgUHAnHSwoCBQECgIFf3A7qBMECgIFgYLrjmBBQaAgUBAouO4IFhQECgIFgYKTdLCg\n",
       "IFAQKAgUvIIX1AkCBYGCQEGg4KNGsKAgUBAoCBRc2gcLCgIFgYJAwUk6WFAQKAgUBAr+24hgQUGg\n",
       "IFAQKPgP2II6QaAgUBAouO4IFhQECgIFgYIvDoMFBYGCQEGg4CQdLCgIFAQKAoU5HtIrCwoCBYGC\n",
       "QMGvZAZ1gkBBoCBQcN0RLCgIFAQKAgUP6WBBQaAgUBAoeLsjWFAQKAgUBAoCBR81ggUFgYJAQaDg\n",
       "IR0sKAgUBAoCBb83H9QJAgWBgkBhjkv7lQUFgYJAQaDguiNYUBAoCBQECh7SwYKCQEGgIFDwkA4W\n",
       "FAQKAgWBgj9uEiwoCBQECgIFJ+lgQUGgIFAQKHhIBwsKAgWBgkDBe9JBnSBQECgIFLwnHSwoCBQE\n",
       "CgIF1x3BgoJAQaAgUBAo+FcsWFAQKAgUBAreUQwWFAQKAgWBgpN0sKAgUBAoCBTmPh7SGwsKAgWB\n",
       "gkDBdUewoCBQECgIFFx3BAsKAgWBgkDBSTpYUBAoCBQECk7SwYKCQEGgIFBwkg4WFAQKAgWBgpN0\n",
       "sKAgUBAoCBQ8pIMFBYGCQEGgMMd70isLCgIFgYJAwUk6WFAQKAgUBAoCBd+sBgsKAgWBgkBh7n37\n",
       "R/g2CwoCBYGCQMFJOlhQECgIFAQK/gJVsKAgUBAoCBScpIMFBYGCQEGg4PWXYEFBoCBQECh4kTxY\n",
       "UBAoCBQECt7uCBYUBAoCBYGCO+lgQUGgIFAQKLiTDhYUBAoCBYGCO+lgQUGgIFAQKLjuCBYUBAoC\n",
       "BYGCQME3q8GCgkBBoCBQcB8ULCgIFAQKAgXfrAYLCgIFgYJAYc7bP8HHWVAQKAgUBApO0sGCgkBB\n",
       "oCBQ8PpLsKAgUBAoCBRcdwQLCgIFgYJAwXVHsKAgUBAoCBScpIMFBYGCQEGg4CQdLCgIFAQKAgVf\n",
       "HAYLCgIFgYJAYfxW+M6CgkBBoCBQcJIOFhQECgIFgYJAwTerwYKCQEGgIFDwzWqwoCBQECgIFJyk\n",
       "gwUFgYJAQaDgJB0sKAgUBAoChTnef1lZUBAoCBQECq47ggUFgYJAQaDguiNYUBAoCBQECk7SwYKC\n",
       "QEGgIFDwP/UGCwoCBYGCQMH/1BssKAgUBAoCBW93BAsKAgWBgkDBX6AKFhQECgIFgYK/QBUsKAgU\n",
       "BAoCBYGCb1aDBQWBgkBBoOAdxWBBQaAgUBAo+G2fYEFBoCBQECg4SQcLCgIFgYJAwTuKwYKCQEGg\n",
       "IFDwjmKwoCBQECgIFJykgwUFgYJAQaDgFbxgQUGgIFAQKPjjJsGCgkBBoCBQcN0RLCgIFAQKAgVf\n",
       "HAYLCgIFgYJAwUk6WFAQKAgUBApO0sGCgkBBoCBQECj4qBEsKAgUBAoCBQ/pYEFBoCBQECi4DwoW\n",
       "FAQKAgWBgpN0sKAgUBAoCBScpIMFBYGCQEGg4CQdLCgIFAQKAgV/3CRYUBAoCBQECv5XhGBBQaAg\n",
       "UBAouO4IFhQECgIFgcLcx1N6Y0FBoCBQECg4SQcLCgIFgYJAwReHwYKCQEGgIFDwxWGwoCBQECgI\n",
       "FAQK7oOCBQWBgkBBoOCb1WBBQaAgUBAoOEkHCwoCBYGCQMEfNwkWFAQKAgWBwhzvv6wsKAgUBAoC\n",
       "Ba+/BAsKAgWBgkBhrpP0yoKCQEGgIFBwkg4WFAQKAgWBgjvpYEFBoCBQECh4uyNYUBAoCBQECnP8\n",
       "MsvKgoJAQaAgUHDdESwoCBQECgIFgYLfmw8WFAQKAgWBgtdfggUFgYJAQaDg0j5YUBAoCBQECq47\n",
       "ggUFgYJAQaAw53HhsbGgIFAQKAgUXHcECwoCBYGCQMFDOlhQECgIFAQK7qSDBQWBgkBBoOBOOlhQ\n",
       "ECgIFAQKc35O0hsLCgIFgYJAwUk6WFAQKAgUBApzPaRXFhQECgIFgYKTdLCgIFAQKAgUBApzfv4V\n",
       "21hQECgIFAQKPmoECwoCBYGCQMGlfbCgIFAQKAgUnKSDBQWBgkBBoOAhHSwoCBQECgIFXxwGCwoC\n",
       "BYGCQGHu8+ftn+HTLCgIFAQKAgXXHcGCgkBBoCBQ8HZHsKAgUBAoCBTmXNcdGwsKAgWBgkDBSTpY\n",
       "UBAoCBQECnN8cbiyoCBQECgIFJykgwUFgYJAQaAgUPBRI1hQECgIFAQKc6+PGhsLCgIFgYJAwX1Q\n",
       "sKAgUBAoCBS8oxgsKAgUBAoCBSfpYEFBoCBQECjMdZJeWVAQKAgUBApO0sGCgkBBoCBQmOPtjpUF\n",
       "BYGCQEGg4G+5BgsKAgWBgkDBe9LBgoJAQaAgUHAnHSwoCBQECgIFJ+lgQUGgIFAQKHhIBwsKAgWB\n",
       "gkBBoOCb1WBBQaAgUBAo+KgRLCgIFAQKAoV5fLO6sqAgUBAoCBScpIMFBYGCQEGg4B3FYEFBoCBQ\n",
       "ECjM4yS9sqAgUBAoCBS83REsKAgUBAoCBV8cBgsKAgWBgkDBdUewoCBQECgIFOY+9+2f4dMsKAgU\n",
       "BAoCBdcdwYKCQEGgIFCYx0l6ZUFBoCBQECj8B4FI7TdsedWZAAAAAElFTkSuQmCC\n",
       "\" transform=\"translate(2161, 123)\"/>\n",
       "</g>\n",
       "<path clip-path=\"url(#clip220)\" d=\"M2280.7 1405.35 Q2277.09 1405.35 2275.26 1408.91 Q2273.45 1412.46 2273.45 1419.59 Q2273.45 1426.69 2275.26 1430.26 Q2277.09 1433.8 2280.7 1433.8 Q2284.33 1433.8 2286.14 1430.26 Q2287.97 1426.69 2287.97 1419.59 Q2287.97 1412.46 2286.14 1408.91 Q2284.33 1405.35 2280.7 1405.35 M2280.7 1401.65 Q2286.51 1401.65 2289.57 1406.25 Q2292.64 1410.84 2292.64 1419.59 Q2292.64 1428.31 2289.57 1432.92 Q2286.51 1437.5 2280.7 1437.5 Q2274.89 1437.5 2271.81 1432.92 Q2268.76 1428.31 2268.76 1419.59 Q2268.76 1410.84 2271.81 1406.25 Q2274.89 1401.65 2280.7 1401.65 Z\" fill=\"#000000\" fill-rule=\"evenodd\" fill-opacity=\"1\" /><path clip-path=\"url(#clip220)\" d=\"M2280.7 1275.23 Q2277.09 1275.23 2275.26 1278.8 Q2273.45 1282.34 2273.45 1289.47 Q2273.45 1296.57 2275.26 1300.14 Q2277.09 1303.68 2280.7 1303.68 Q2284.33 1303.68 2286.14 1300.14 Q2287.97 1296.57 2287.97 1289.47 Q2287.97 1282.34 2286.14 1278.8 Q2284.33 1275.23 2280.7 1275.23 M2280.7 1271.53 Q2286.51 1271.53 2289.57 1276.13 Q2292.64 1280.72 2292.64 1289.47 Q2292.64 1298.19 2289.57 1302.8 Q2286.51 1307.38 2280.7 1307.38 Q2274.89 1307.38 2271.81 1302.8 Q2268.76 1298.19 2268.76 1289.47 Q2268.76 1280.72 2271.81 1276.13 Q2274.89 1271.53 2280.7 1271.53 Z\" fill=\"#000000\" fill-rule=\"evenodd\" fill-opacity=\"1\" /><path clip-path=\"url(#clip220)\" d=\"M2300.86 1300.83 L2305.75 1300.83 L2305.75 1306.71 L2300.86 1306.71 L2300.86 1300.83 Z\" fill=\"#000000\" fill-rule=\"evenodd\" fill-opacity=\"1\" /><path clip-path=\"url(#clip220)\" d=\"M2316.74 1302.78 L2324.38 1302.78 L2324.38 1276.41 L2316.07 1278.08 L2316.07 1273.82 L2324.33 1272.15 L2329.01 1272.15 L2329.01 1302.78 L2336.65 1302.78 L2336.65 1306.71 L2316.74 1306.71 L2316.74 1302.78 Z\" fill=\"#000000\" fill-rule=\"evenodd\" fill-opacity=\"1\" /><path clip-path=\"url(#clip220)\" d=\"M2280.7 1145.11 Q2277.09 1145.11 2275.26 1148.68 Q2273.45 1152.22 2273.45 1159.35 Q2273.45 1166.45 2275.26 1170.02 Q2277.09 1173.56 2280.7 1173.56 Q2284.33 1173.56 2286.14 1170.02 Q2287.97 1166.45 2287.97 1159.35 Q2287.97 1152.22 2286.14 1148.68 Q2284.33 1145.11 2280.7 1145.11 M2280.7 1141.41 Q2286.51 1141.41 2289.57 1146.01 Q2292.64 1150.6 2292.64 1159.35 Q2292.64 1168.07 2289.57 1172.68 Q2286.51 1177.26 2280.7 1177.26 Q2274.89 1177.26 2271.81 1172.68 Q2268.76 1168.07 2268.76 1159.35 Q2268.76 1150.6 2271.81 1146.01 Q2274.89 1141.41 2280.7 1141.41 Z\" fill=\"#000000\" fill-rule=\"evenodd\" fill-opacity=\"1\" /><path clip-path=\"url(#clip220)\" d=\"M2300.86 1170.71 L2305.75 1170.71 L2305.75 1176.59 L2300.86 1176.59 L2300.86 1170.71 Z\" fill=\"#000000\" fill-rule=\"evenodd\" fill-opacity=\"1\" /><path clip-path=\"url(#clip220)\" d=\"M2319.96 1172.66 L2336.28 1172.66 L2336.28 1176.59 L2314.33 1176.59 L2314.33 1172.66 Q2317 1169.9 2321.58 1165.27 Q2326.19 1160.62 2327.37 1159.28 Q2329.61 1156.75 2330.49 1155.02 Q2331.39 1153.26 2331.39 1151.57 Q2331.39 1148.81 2329.45 1147.08 Q2327.53 1145.34 2324.43 1145.34 Q2322.23 1145.34 2319.77 1146.11 Q2317.34 1146.87 2314.57 1148.42 L2314.57 1143.7 Q2317.39 1142.56 2319.84 1141.99 Q2322.3 1141.41 2324.33 1141.41 Q2329.7 1141.41 2332.9 1144.09 Q2336.09 1146.78 2336.09 1151.27 Q2336.09 1153.4 2335.28 1155.32 Q2334.5 1157.22 2332.39 1159.81 Q2331.81 1160.48 2328.71 1163.7 Q2325.61 1166.89 2319.96 1172.66 Z\" fill=\"#000000\" fill-rule=\"evenodd\" fill-opacity=\"1\" /><path clip-path=\"url(#clip220)\" d=\"M2280.7 1014.99 Q2277.09 1014.99 2275.26 1018.56 Q2273.45 1022.1 2273.45 1029.23 Q2273.45 1036.33 2275.26 1039.9 Q2277.09 1043.44 2280.7 1043.44 Q2284.33 1043.44 2286.14 1039.9 Q2287.97 1036.33 2287.97 1029.23 Q2287.97 1022.1 2286.14 1018.56 Q2284.33 1014.99 2280.7 1014.99 M2280.7 1011.29 Q2286.51 1011.29 2289.57 1015.89 Q2292.64 1020.48 2292.64 1029.23 Q2292.64 1037.95 2289.57 1042.56 Q2286.51 1047.14 2280.7 1047.14 Q2274.89 1047.14 2271.81 1042.56 Q2268.76 1037.95 2268.76 1029.23 Q2268.76 1020.48 2271.81 1015.89 Q2274.89 1011.29 2280.7 1011.29 Z\" fill=\"#000000\" fill-rule=\"evenodd\" fill-opacity=\"1\" /><path clip-path=\"url(#clip220)\" d=\"M2300.86 1040.59 L2305.75 1040.59 L2305.75 1046.47 L2300.86 1046.47 L2300.86 1040.59 Z\" fill=\"#000000\" fill-rule=\"evenodd\" fill-opacity=\"1\" /><path clip-path=\"url(#clip220)\" d=\"M2330.1 1027.84 Q2333.45 1028.56 2335.33 1030.82 Q2337.23 1033.09 2337.23 1036.43 Q2337.23 1041.54 2333.71 1044.34 Q2330.19 1047.14 2323.71 1047.14 Q2321.53 1047.14 2319.22 1046.7 Q2316.93 1046.29 2314.47 1045.43 L2314.47 1040.92 Q2316.42 1042.05 2318.73 1042.63 Q2321.05 1043.21 2323.57 1043.21 Q2327.97 1043.21 2330.26 1041.47 Q2332.58 1039.74 2332.58 1036.43 Q2332.58 1033.37 2330.42 1031.66 Q2328.29 1029.92 2324.47 1029.92 L2320.45 1029.92 L2320.45 1026.08 L2324.66 1026.08 Q2328.11 1026.08 2329.94 1024.71 Q2331.76 1023.32 2331.76 1020.73 Q2331.76 1018.07 2329.87 1016.66 Q2327.99 1015.22 2324.47 1015.22 Q2322.55 1015.22 2320.35 1015.64 Q2318.15 1016.06 2315.51 1016.94 L2315.51 1012.77 Q2318.18 1012.03 2320.49 1011.66 Q2322.83 1011.29 2324.89 1011.29 Q2330.21 1011.29 2333.32 1013.72 Q2336.42 1016.13 2336.42 1020.25 Q2336.42 1023.12 2334.77 1025.11 Q2333.13 1027.07 2330.1 1027.84 Z\" fill=\"#000000\" fill-rule=\"evenodd\" fill-opacity=\"1\" /><path clip-path=\"url(#clip220)\" d=\"M2280.7 884.872 Q2277.09 884.872 2275.26 888.437 Q2273.45 891.979 2273.45 899.108 Q2273.45 906.215 2275.26 909.779 Q2277.09 913.321 2280.7 913.321 Q2284.33 913.321 2286.14 909.779 Q2287.97 906.215 2287.97 899.108 Q2287.97 891.979 2286.14 888.437 Q2284.33 884.872 2280.7 884.872 M2280.7 881.168 Q2286.51 881.168 2289.57 885.775 Q2292.64 890.358 2292.64 899.108 Q2292.64 907.835 2289.57 912.441 Q2286.51 917.025 2280.7 917.025 Q2274.89 917.025 2271.81 912.441 Q2268.76 907.835 2268.76 899.108 Q2268.76 890.358 2271.81 885.775 Q2274.89 881.168 2280.7 881.168 Z\" fill=\"#000000\" fill-rule=\"evenodd\" fill-opacity=\"1\" /><path clip-path=\"url(#clip220)\" d=\"M2300.86 910.474 L2305.75 910.474 L2305.75 916.353 L2300.86 916.353 L2300.86 910.474 Z\" fill=\"#000000\" fill-rule=\"evenodd\" fill-opacity=\"1\" /><path clip-path=\"url(#clip220)\" d=\"M2328.78 885.867 L2316.97 904.316 L2328.78 904.316 L2328.78 885.867 M2327.55 881.793 L2333.43 881.793 L2333.43 904.316 L2338.36 904.316 L2338.36 908.205 L2333.43 908.205 L2333.43 916.353 L2328.78 916.353 L2328.78 908.205 L2313.18 908.205 L2313.18 903.691 L2327.55 881.793 Z\" fill=\"#000000\" fill-rule=\"evenodd\" fill-opacity=\"1\" /><path clip-path=\"url(#clip220)\" d=\"M2280.7 754.753 Q2277.09 754.753 2275.26 758.317 Q2273.45 761.859 2273.45 768.989 Q2273.45 776.095 2275.26 779.66 Q2277.09 783.202 2280.7 783.202 Q2284.33 783.202 2286.14 779.66 Q2287.97 776.095 2287.97 768.989 Q2287.97 761.859 2286.14 758.317 Q2284.33 754.753 2280.7 754.753 M2280.7 751.049 Q2286.51 751.049 2289.57 755.655 Q2292.64 760.239 2292.64 768.989 Q2292.64 777.715 2289.57 782.322 Q2286.51 786.905 2280.7 786.905 Q2274.89 786.905 2271.81 782.322 Q2268.76 777.715 2268.76 768.989 Q2268.76 760.239 2271.81 755.655 Q2274.89 751.049 2280.7 751.049 Z\" fill=\"#000000\" fill-rule=\"evenodd\" fill-opacity=\"1\" /><path clip-path=\"url(#clip220)\" d=\"M2300.86 780.354 L2305.75 780.354 L2305.75 786.234 L2300.86 786.234 L2300.86 780.354 Z\" fill=\"#000000\" fill-rule=\"evenodd\" fill-opacity=\"1\" /><path clip-path=\"url(#clip220)\" d=\"M2315.98 751.674 L2334.33 751.674 L2334.33 755.609 L2320.26 755.609 L2320.26 764.081 Q2321.28 763.734 2322.3 763.572 Q2323.32 763.387 2324.33 763.387 Q2330.12 763.387 2333.5 766.558 Q2336.88 769.729 2336.88 775.146 Q2336.88 780.725 2333.41 783.827 Q2329.94 786.905 2323.62 786.905 Q2321.44 786.905 2319.17 786.535 Q2316.93 786.165 2314.52 785.424 L2314.52 780.725 Q2316.6 781.859 2318.83 782.415 Q2321.05 782.97 2323.52 782.97 Q2327.53 782.97 2329.87 780.864 Q2332.2 778.757 2332.2 775.146 Q2332.2 771.535 2329.87 769.428 Q2327.53 767.322 2323.52 767.322 Q2321.65 767.322 2319.77 767.739 Q2317.92 768.155 2315.98 769.035 L2315.98 751.674 Z\" fill=\"#000000\" fill-rule=\"evenodd\" fill-opacity=\"1\" /><path clip-path=\"url(#clip220)\" d=\"M2280.7 624.633 Q2277.09 624.633 2275.26 628.198 Q2273.45 631.74 2273.45 638.869 Q2273.45 645.976 2275.26 649.54 Q2277.09 653.082 2280.7 653.082 Q2284.33 653.082 2286.14 649.54 Q2287.97 645.976 2287.97 638.869 Q2287.97 631.74 2286.14 628.198 Q2284.33 624.633 2280.7 624.633 M2280.7 620.93 Q2286.51 620.93 2289.57 625.536 Q2292.64 630.119 2292.64 638.869 Q2292.64 647.596 2289.57 652.203 Q2286.51 656.786 2280.7 656.786 Q2274.89 656.786 2271.81 652.203 Q2268.76 647.596 2268.76 638.869 Q2268.76 630.119 2271.81 625.536 Q2274.89 620.93 2280.7 620.93 Z\" fill=\"#000000\" fill-rule=\"evenodd\" fill-opacity=\"1\" /><path clip-path=\"url(#clip220)\" d=\"M2300.86 650.235 L2305.75 650.235 L2305.75 656.115 L2300.86 656.115 L2300.86 650.235 Z\" fill=\"#000000\" fill-rule=\"evenodd\" fill-opacity=\"1\" /><path clip-path=\"url(#clip220)\" d=\"M2326.51 636.971 Q2323.36 636.971 2321.51 639.124 Q2319.68 641.277 2319.68 645.027 Q2319.68 648.753 2321.51 650.929 Q2323.36 653.082 2326.51 653.082 Q2329.66 653.082 2331.49 650.929 Q2333.34 648.753 2333.34 645.027 Q2333.34 641.277 2331.49 639.124 Q2329.66 636.971 2326.51 636.971 M2335.79 622.318 L2335.79 626.578 Q2334.03 625.744 2332.23 625.305 Q2330.45 624.865 2328.69 624.865 Q2324.06 624.865 2321.6 627.99 Q2319.17 631.115 2318.83 637.434 Q2320.19 635.42 2322.25 634.355 Q2324.31 633.267 2326.79 633.267 Q2332 633.267 2335.01 636.439 Q2338.04 639.587 2338.04 645.027 Q2338.04 650.351 2334.89 653.568 Q2331.74 656.786 2326.51 656.786 Q2320.51 656.786 2317.34 652.203 Q2314.17 647.596 2314.17 638.869 Q2314.17 630.675 2318.06 625.814 Q2321.95 620.93 2328.5 620.93 Q2330.26 620.93 2332.04 621.277 Q2333.85 621.624 2335.79 622.318 Z\" fill=\"#000000\" fill-rule=\"evenodd\" fill-opacity=\"1\" /><path clip-path=\"url(#clip220)\" d=\"M2280.7 494.514 Q2277.09 494.514 2275.26 498.079 Q2273.45 501.62 2273.45 508.75 Q2273.45 515.856 2275.26 519.421 Q2277.09 522.963 2280.7 522.963 Q2284.33 522.963 2286.14 519.421 Q2287.97 515.856 2287.97 508.75 Q2287.97 501.62 2286.14 498.079 Q2284.33 494.514 2280.7 494.514 M2280.7 490.81 Q2286.51 490.81 2289.57 495.417 Q2292.64 500 2292.64 508.75 Q2292.64 517.477 2289.57 522.083 Q2286.51 526.666 2280.7 526.666 Q2274.89 526.666 2271.81 522.083 Q2268.76 517.477 2268.76 508.75 Q2268.76 500 2271.81 495.417 Q2274.89 490.81 2280.7 490.81 Z\" fill=\"#000000\" fill-rule=\"evenodd\" fill-opacity=\"1\" /><path clip-path=\"url(#clip220)\" d=\"M2300.86 520.116 L2305.75 520.116 L2305.75 525.995 L2300.86 525.995 L2300.86 520.116 Z\" fill=\"#000000\" fill-rule=\"evenodd\" fill-opacity=\"1\" /><path clip-path=\"url(#clip220)\" d=\"M2314.75 491.435 L2336.97 491.435 L2336.97 493.426 L2324.43 525.995 L2319.54 525.995 L2331.35 495.37 L2314.75 495.37 L2314.75 491.435 Z\" fill=\"#000000\" fill-rule=\"evenodd\" fill-opacity=\"1\" /><path clip-path=\"url(#clip220)\" d=\"M2280.7 364.394 Q2277.09 364.394 2275.26 367.959 Q2273.45 371.501 2273.45 378.63 Q2273.45 385.737 2275.26 389.302 Q2277.09 392.843 2280.7 392.843 Q2284.33 392.843 2286.14 389.302 Q2287.97 385.737 2287.97 378.63 Q2287.97 371.501 2286.14 367.959 Q2284.33 364.394 2280.7 364.394 M2280.7 360.691 Q2286.51 360.691 2289.57 365.297 Q2292.64 369.88 2292.64 378.63 Q2292.64 387.357 2289.57 391.964 Q2286.51 396.547 2280.7 396.547 Q2274.89 396.547 2271.81 391.964 Q2268.76 387.357 2268.76 378.63 Q2268.76 369.88 2271.81 365.297 Q2274.89 360.691 2280.7 360.691 Z\" fill=\"#000000\" fill-rule=\"evenodd\" fill-opacity=\"1\" /><path clip-path=\"url(#clip220)\" d=\"M2300.86 389.996 L2305.75 389.996 L2305.75 395.876 L2300.86 395.876 L2300.86 389.996 Z\" fill=\"#000000\" fill-rule=\"evenodd\" fill-opacity=\"1\" /><path clip-path=\"url(#clip220)\" d=\"M2325.93 379.464 Q2322.6 379.464 2320.68 381.246 Q2318.78 383.029 2318.78 386.154 Q2318.78 389.279 2320.68 391.061 Q2322.6 392.843 2325.93 392.843 Q2329.26 392.843 2331.19 391.061 Q2333.11 389.255 2333.11 386.154 Q2333.11 383.029 2331.19 381.246 Q2329.29 379.464 2325.93 379.464 M2321.26 377.473 Q2318.25 376.732 2316.56 374.672 Q2314.89 372.612 2314.89 369.649 Q2314.89 365.505 2317.83 363.098 Q2320.79 360.691 2325.93 360.691 Q2331.09 360.691 2334.03 363.098 Q2336.97 365.505 2336.97 369.649 Q2336.97 372.612 2335.28 374.672 Q2333.62 376.732 2330.63 377.473 Q2334.01 378.26 2335.89 380.552 Q2337.78 382.843 2337.78 386.154 Q2337.78 391.177 2334.7 393.862 Q2331.65 396.547 2325.93 396.547 Q2320.21 396.547 2317.14 393.862 Q2314.08 391.177 2314.08 386.154 Q2314.08 382.843 2315.98 380.552 Q2317.88 378.26 2321.26 377.473 M2319.54 370.089 Q2319.54 372.774 2321.21 374.279 Q2322.9 375.783 2325.93 375.783 Q2328.94 375.783 2330.63 374.279 Q2332.34 372.774 2332.34 370.089 Q2332.34 367.404 2330.63 365.899 Q2328.94 364.394 2325.93 364.394 Q2322.9 364.394 2321.21 365.899 Q2319.54 367.404 2319.54 370.089 Z\" fill=\"#000000\" fill-rule=\"evenodd\" fill-opacity=\"1\" /><path clip-path=\"url(#clip220)\" d=\"M2280.7 234.275 Q2277.09 234.275 2275.26 237.84 Q2273.45 241.381 2273.45 248.511 Q2273.45 255.617 2275.26 259.182 Q2277.09 262.724 2280.7 262.724 Q2284.33 262.724 2286.14 259.182 Q2287.97 255.617 2287.97 248.511 Q2287.97 241.381 2286.14 237.84 Q2284.33 234.275 2280.7 234.275 M2280.7 230.571 Q2286.51 230.571 2289.57 235.178 Q2292.64 239.761 2292.64 248.511 Q2292.64 257.238 2289.57 261.844 Q2286.51 266.428 2280.7 266.428 Q2274.89 266.428 2271.81 261.844 Q2268.76 257.238 2268.76 248.511 Q2268.76 239.761 2271.81 235.178 Q2274.89 230.571 2280.7 230.571 Z\" fill=\"#000000\" fill-rule=\"evenodd\" fill-opacity=\"1\" /><path clip-path=\"url(#clip220)\" d=\"M2300.86 259.877 L2305.75 259.877 L2305.75 265.756 L2300.86 265.756 L2300.86 259.877 Z\" fill=\"#000000\" fill-rule=\"evenodd\" fill-opacity=\"1\" /><path clip-path=\"url(#clip220)\" d=\"M2316.07 265.039 L2316.07 260.779 Q2317.83 261.613 2319.64 262.053 Q2321.44 262.492 2323.18 262.492 Q2327.81 262.492 2330.24 259.391 Q2332.69 256.266 2333.04 249.923 Q2331.7 251.914 2329.64 252.979 Q2327.58 254.043 2325.08 254.043 Q2319.89 254.043 2316.86 250.918 Q2313.85 247.77 2313.85 242.33 Q2313.85 237.006 2317 233.789 Q2320.14 230.571 2325.38 230.571 Q2331.37 230.571 2334.52 235.178 Q2337.69 239.761 2337.69 248.511 Q2337.69 256.682 2333.8 261.566 Q2329.94 266.428 2323.39 266.428 Q2321.63 266.428 2319.82 266.08 Q2318.01 265.733 2316.07 265.039 M2325.38 250.386 Q2328.52 250.386 2330.35 248.233 Q2332.2 246.08 2332.2 242.33 Q2332.2 238.604 2330.35 236.451 Q2328.52 234.275 2325.38 234.275 Q2322.23 234.275 2320.38 236.451 Q2318.55 238.604 2318.55 242.33 Q2318.55 246.08 2320.38 248.233 Q2322.23 250.386 2325.38 250.386 Z\" fill=\"#000000\" fill-rule=\"evenodd\" fill-opacity=\"1\" /><polyline clip-path=\"url(#clip220)\" style=\"stroke:#000000; stroke-linecap:butt; stroke-linejoin:round; stroke-width:4; stroke-opacity:1; fill:none\" points=\"\n",
       "  2232.76,1423.18 2232.76,1423.18 2256.76,1423.18 2232.76,1423.18 2232.76,1293.06 2256.76,1293.06 2232.76,1293.06 2232.76,1162.94 2256.76,1162.94 2232.76,1162.94 \n",
       "  2232.76,1032.82 2256.76,1032.82 2232.76,1032.82 2232.76,902.702 2256.76,902.702 2232.76,902.702 2232.76,772.583 2256.76,772.583 2232.76,772.583 2232.76,642.463 \n",
       "  2256.76,642.463 2232.76,642.463 2232.76,512.344 2256.76,512.344 2232.76,512.344 2232.76,382.224 2256.76,382.224 2232.76,382.224 2232.76,252.105 2256.76,252.105 \n",
       "  2232.76,252.105 2232.76,123.472 \n",
       "  \"/>\n",
       "</svg>\n"
      ]
     },
     "execution_count": 132,
     "metadata": {},
     "output_type": "execute_result"
    }
   ],
   "source": [
    "p0 = heatmap(bel[:,1,:], xlabel=\"n\", ylabel=\"i\", title=\"x=0\")"
   ]
  },
  {
   "cell_type": "code",
   "execution_count": 133,
   "metadata": {},
   "outputs": [
    {
     "data": {
      "image/svg+xml": [
       "<?xml version=\"1.0\" encoding=\"utf-8\"?>\n",
       "<svg xmlns=\"http://www.w3.org/2000/svg\" xmlns:xlink=\"http://www.w3.org/1999/xlink\" width=\"600\" height=\"400\" viewBox=\"0 0 2400 1600\">\n",
       "<defs>\n",
       "  <clipPath id=\"clip260\">\n",
       "    <rect x=\"0\" y=\"0\" width=\"2400\" height=\"1600\"/>\n",
       "  </clipPath>\n",
       "</defs>\n",
       "<path clip-path=\"url(#clip260)\" d=\"\n",
       "M0 1600 L2400 1600 L2400 0 L0 0  Z\n",
       "  \" fill=\"#ffffff\" fill-rule=\"evenodd\" fill-opacity=\"1\"/>\n",
       "<defs>\n",
       "  <clipPath id=\"clip261\">\n",
       "    <rect x=\"480\" y=\"0\" width=\"1681\" height=\"1600\"/>\n",
       "  </clipPath>\n",
       "</defs>\n",
       "<path clip-path=\"url(#clip260)\" d=\"\n",
       "M205.121 1423.18 L2112.76 1423.18 L2112.76 123.472 L205.121 123.472  Z\n",
       "  \" fill=\"#ffffff\" fill-rule=\"evenodd\" fill-opacity=\"1\"/>\n",
       "<defs>\n",
       "  <clipPath id=\"clip262\">\n",
       "    <rect x=\"205\" y=\"123\" width=\"1909\" height=\"1301\"/>\n",
       "  </clipPath>\n",
       "</defs>\n",
       "<polyline clip-path=\"url(#clip262)\" style=\"stroke:#000000; stroke-linecap:butt; stroke-linejoin:round; stroke-width:2; stroke-opacity:0.1; fill:none\" points=\"\n",
       "  482.036,1423.18 482.036,123.472 \n",
       "  \"/>\n",
       "<polyline clip-path=\"url(#clip262)\" style=\"stroke:#000000; stroke-linecap:butt; stroke-linejoin:round; stroke-width:2; stroke-opacity:0.1; fill:none\" points=\"\n",
       "  789.719,1423.18 789.719,123.472 \n",
       "  \"/>\n",
       "<polyline clip-path=\"url(#clip262)\" style=\"stroke:#000000; stroke-linecap:butt; stroke-linejoin:round; stroke-width:2; stroke-opacity:0.1; fill:none\" points=\"\n",
       "  1097.4,1423.18 1097.4,123.472 \n",
       "  \"/>\n",
       "<polyline clip-path=\"url(#clip262)\" style=\"stroke:#000000; stroke-linecap:butt; stroke-linejoin:round; stroke-width:2; stroke-opacity:0.1; fill:none\" points=\"\n",
       "  1405.08,1423.18 1405.08,123.472 \n",
       "  \"/>\n",
       "<polyline clip-path=\"url(#clip262)\" style=\"stroke:#000000; stroke-linecap:butt; stroke-linejoin:round; stroke-width:2; stroke-opacity:0.1; fill:none\" points=\"\n",
       "  1712.77,1423.18 1712.77,123.472 \n",
       "  \"/>\n",
       "<polyline clip-path=\"url(#clip262)\" style=\"stroke:#000000; stroke-linecap:butt; stroke-linejoin:round; stroke-width:2; stroke-opacity:0.1; fill:none\" points=\"\n",
       "  2020.45,1423.18 2020.45,123.472 \n",
       "  \"/>\n",
       "<polyline clip-path=\"url(#clip260)\" style=\"stroke:#000000; stroke-linecap:butt; stroke-linejoin:round; stroke-width:4; stroke-opacity:1; fill:none\" points=\"\n",
       "  205.121,1423.18 2112.76,1423.18 \n",
       "  \"/>\n",
       "<polyline clip-path=\"url(#clip260)\" style=\"stroke:#000000; stroke-linecap:butt; stroke-linejoin:round; stroke-width:4; stroke-opacity:1; fill:none\" points=\"\n",
       "  482.036,1423.18 482.036,1404.28 \n",
       "  \"/>\n",
       "<polyline clip-path=\"url(#clip260)\" style=\"stroke:#000000; stroke-linecap:butt; stroke-linejoin:round; stroke-width:4; stroke-opacity:1; fill:none\" points=\"\n",
       "  789.719,1423.18 789.719,1404.28 \n",
       "  \"/>\n",
       "<polyline clip-path=\"url(#clip260)\" style=\"stroke:#000000; stroke-linecap:butt; stroke-linejoin:round; stroke-width:4; stroke-opacity:1; fill:none\" points=\"\n",
       "  1097.4,1423.18 1097.4,1404.28 \n",
       "  \"/>\n",
       "<polyline clip-path=\"url(#clip260)\" style=\"stroke:#000000; stroke-linecap:butt; stroke-linejoin:round; stroke-width:4; stroke-opacity:1; fill:none\" points=\"\n",
       "  1405.08,1423.18 1405.08,1404.28 \n",
       "  \"/>\n",
       "<polyline clip-path=\"url(#clip260)\" style=\"stroke:#000000; stroke-linecap:butt; stroke-linejoin:round; stroke-width:4; stroke-opacity:1; fill:none\" points=\"\n",
       "  1712.77,1423.18 1712.77,1404.28 \n",
       "  \"/>\n",
       "<polyline clip-path=\"url(#clip260)\" style=\"stroke:#000000; stroke-linecap:butt; stroke-linejoin:round; stroke-width:4; stroke-opacity:1; fill:none\" points=\"\n",
       "  2020.45,1423.18 2020.45,1404.28 \n",
       "  \"/>\n",
       "<path clip-path=\"url(#clip260)\" d=\"M472.314 1451.02 L490.67 1451.02 L490.67 1454.96 L476.596 1454.96 L476.596 1463.43 Q477.614 1463.08 478.633 1462.92 Q479.651 1462.73 480.67 1462.73 Q486.457 1462.73 489.837 1465.9 Q493.216 1469.08 493.216 1474.49 Q493.216 1480.07 489.744 1483.17 Q486.272 1486.25 479.952 1486.25 Q477.776 1486.25 475.508 1485.88 Q473.263 1485.51 470.855 1484.77 L470.855 1480.07 Q472.939 1481.2 475.161 1481.76 Q477.383 1482.32 479.86 1482.32 Q483.864 1482.32 486.202 1480.21 Q488.54 1478.1 488.54 1474.49 Q488.54 1470.88 486.202 1468.77 Q483.864 1466.67 479.86 1466.67 Q477.985 1466.67 476.11 1467.08 Q474.258 1467.5 472.314 1468.38 L472.314 1451.02 Z\" fill=\"#000000\" fill-rule=\"evenodd\" fill-opacity=\"1\" /><path clip-path=\"url(#clip260)\" d=\"M764.406 1481.64 L772.045 1481.64 L772.045 1455.28 L763.735 1456.95 L763.735 1452.69 L771.999 1451.02 L776.675 1451.02 L776.675 1481.64 L784.314 1481.64 L784.314 1485.58 L764.406 1485.58 L764.406 1481.64 Z\" fill=\"#000000\" fill-rule=\"evenodd\" fill-opacity=\"1\" /><path clip-path=\"url(#clip260)\" d=\"M803.758 1454.1 Q800.147 1454.1 798.318 1457.66 Q796.513 1461.2 796.513 1468.33 Q796.513 1475.44 798.318 1479.01 Q800.147 1482.55 803.758 1482.55 Q807.392 1482.55 809.198 1479.01 Q811.027 1475.44 811.027 1468.33 Q811.027 1461.2 809.198 1457.66 Q807.392 1454.1 803.758 1454.1 M803.758 1450.39 Q809.568 1450.39 812.624 1455 Q815.702 1459.58 815.702 1468.33 Q815.702 1477.06 812.624 1481.67 Q809.568 1486.25 803.758 1486.25 Q797.948 1486.25 794.869 1481.67 Q791.814 1477.06 791.814 1468.33 Q791.814 1459.58 794.869 1455 Q797.948 1450.39 803.758 1450.39 Z\" fill=\"#000000\" fill-rule=\"evenodd\" fill-opacity=\"1\" /><path clip-path=\"url(#clip260)\" d=\"M1072.59 1481.64 L1080.23 1481.64 L1080.23 1455.28 L1071.92 1456.95 L1071.92 1452.69 L1080.18 1451.02 L1084.86 1451.02 L1084.86 1481.64 L1092.49 1481.64 L1092.49 1485.58 L1072.59 1485.58 L1072.59 1481.64 Z\" fill=\"#000000\" fill-rule=\"evenodd\" fill-opacity=\"1\" /><path clip-path=\"url(#clip260)\" d=\"M1101.99 1451.02 L1120.34 1451.02 L1120.34 1454.96 L1106.27 1454.96 L1106.27 1463.43 Q1107.29 1463.08 1108.3 1462.92 Q1109.32 1462.73 1110.34 1462.73 Q1116.13 1462.73 1119.51 1465.9 Q1122.89 1469.08 1122.89 1474.49 Q1122.89 1480.07 1119.42 1483.17 Q1115.94 1486.25 1109.62 1486.25 Q1107.45 1486.25 1105.18 1485.88 Q1102.93 1485.51 1100.53 1484.77 L1100.53 1480.07 Q1102.61 1481.2 1104.83 1481.76 Q1107.05 1482.32 1109.53 1482.32 Q1113.54 1482.32 1115.87 1480.21 Q1118.21 1478.1 1118.21 1474.49 Q1118.21 1470.88 1115.87 1468.77 Q1113.54 1466.67 1109.53 1466.67 Q1107.66 1466.67 1105.78 1467.08 Q1103.93 1467.5 1101.99 1468.38 L1101.99 1451.02 Z\" fill=\"#000000\" fill-rule=\"evenodd\" fill-opacity=\"1\" /><path clip-path=\"url(#clip260)\" d=\"M1383.86 1481.64 L1400.18 1481.64 L1400.18 1485.58 L1378.23 1485.58 L1378.23 1481.64 Q1380.9 1478.89 1385.48 1474.26 Q1390.08 1469.61 1391.27 1468.27 Q1393.51 1465.74 1394.39 1464.01 Q1395.29 1462.25 1395.29 1460.56 Q1395.29 1457.8 1393.35 1456.07 Q1391.43 1454.33 1388.33 1454.33 Q1386.13 1454.33 1383.67 1455.09 Q1381.24 1455.86 1378.46 1457.41 L1378.46 1452.69 Q1381.29 1451.55 1383.74 1450.97 Q1386.2 1450.39 1388.23 1450.39 Q1393.6 1450.39 1396.8 1453.08 Q1399.99 1455.77 1399.99 1460.26 Q1399.99 1462.39 1399.18 1464.31 Q1398.4 1466.2 1396.29 1468.8 Q1395.71 1469.47 1392.61 1472.69 Q1389.51 1475.88 1383.86 1481.64 Z\" fill=\"#000000\" fill-rule=\"evenodd\" fill-opacity=\"1\" /><path clip-path=\"url(#clip260)\" d=\"M1419.99 1454.1 Q1416.38 1454.1 1414.55 1457.66 Q1412.75 1461.2 1412.75 1468.33 Q1412.75 1475.44 1414.55 1479.01 Q1416.38 1482.55 1419.99 1482.55 Q1423.63 1482.55 1425.43 1479.01 Q1427.26 1475.44 1427.26 1468.33 Q1427.26 1461.2 1425.43 1457.66 Q1423.63 1454.1 1419.99 1454.1 M1419.99 1450.39 Q1425.8 1450.39 1428.86 1455 Q1431.94 1459.58 1431.94 1468.33 Q1431.94 1477.06 1428.86 1481.67 Q1425.8 1486.25 1419.99 1486.25 Q1414.18 1486.25 1411.1 1481.67 Q1408.05 1477.06 1408.05 1468.33 Q1408.05 1459.58 1411.1 1455 Q1414.18 1450.39 1419.99 1450.39 Z\" fill=\"#000000\" fill-rule=\"evenodd\" fill-opacity=\"1\" /><path clip-path=\"url(#clip260)\" d=\"M1692.04 1481.64 L1708.36 1481.64 L1708.36 1485.58 L1686.41 1485.58 L1686.41 1481.64 Q1689.08 1478.89 1693.66 1474.26 Q1698.27 1469.61 1699.45 1468.27 Q1701.69 1465.74 1702.57 1464.01 Q1703.47 1462.25 1703.47 1460.56 Q1703.47 1457.8 1701.53 1456.07 Q1699.61 1454.33 1696.51 1454.33 Q1694.31 1454.33 1691.85 1455.09 Q1689.42 1455.86 1686.65 1457.41 L1686.65 1452.69 Q1689.47 1451.55 1691.92 1450.97 Q1694.38 1450.39 1696.41 1450.39 Q1701.78 1450.39 1704.98 1453.08 Q1708.17 1455.77 1708.17 1460.26 Q1708.17 1462.39 1707.36 1464.31 Q1706.58 1466.2 1704.47 1468.8 Q1703.89 1469.47 1700.79 1472.69 Q1697.69 1475.88 1692.04 1481.64 Z\" fill=\"#000000\" fill-rule=\"evenodd\" fill-opacity=\"1\" /><path clip-path=\"url(#clip260)\" d=\"M1718.22 1451.02 L1736.58 1451.02 L1736.58 1454.96 L1722.5 1454.96 L1722.5 1463.43 Q1723.52 1463.08 1724.54 1462.92 Q1725.56 1462.73 1726.58 1462.73 Q1732.36 1462.73 1735.74 1465.9 Q1739.12 1469.08 1739.12 1474.49 Q1739.12 1480.07 1735.65 1483.17 Q1732.18 1486.25 1725.86 1486.25 Q1723.68 1486.25 1721.41 1485.88 Q1719.17 1485.51 1716.76 1484.77 L1716.76 1480.07 Q1718.84 1481.2 1721.07 1481.76 Q1723.29 1482.32 1725.77 1482.32 Q1729.77 1482.32 1732.11 1480.21 Q1734.45 1478.1 1734.45 1474.49 Q1734.45 1470.88 1732.11 1468.77 Q1729.77 1466.67 1725.77 1466.67 Q1723.89 1466.67 1722.02 1467.08 Q1720.16 1467.5 1718.22 1468.38 L1718.22 1451.02 Z\" fill=\"#000000\" fill-rule=\"evenodd\" fill-opacity=\"1\" /><path clip-path=\"url(#clip260)\" d=\"M2009.29 1466.95 Q2012.65 1467.66 2014.53 1469.93 Q2016.42 1472.2 2016.42 1475.53 Q2016.42 1480.65 2012.9 1483.45 Q2009.39 1486.25 2002.9 1486.25 Q2000.73 1486.25 1998.41 1485.81 Q1996.12 1485.39 1993.67 1484.54 L1993.67 1480.02 Q1995.61 1481.16 1997.93 1481.74 Q2000.24 1482.32 2002.77 1482.32 Q2007.16 1482.32 2009.46 1480.58 Q2011.77 1478.84 2011.77 1475.53 Q2011.77 1472.48 2009.62 1470.77 Q2007.49 1469.03 2003.67 1469.03 L1999.64 1469.03 L1999.64 1465.19 L2003.85 1465.19 Q2007.3 1465.19 2009.13 1463.82 Q2010.96 1462.43 2010.96 1459.84 Q2010.96 1457.18 2009.06 1455.77 Q2007.19 1454.33 2003.67 1454.33 Q2001.75 1454.33 1999.55 1454.75 Q1997.35 1455.16 1994.71 1456.04 L1994.71 1451.88 Q1997.37 1451.14 1999.69 1450.77 Q2002.03 1450.39 2004.09 1450.39 Q2009.41 1450.39 2012.51 1452.83 Q2015.61 1455.23 2015.61 1459.35 Q2015.61 1462.22 2013.97 1464.21 Q2012.33 1466.18 2009.29 1466.95 Z\" fill=\"#000000\" fill-rule=\"evenodd\" fill-opacity=\"1\" /><path clip-path=\"url(#clip260)\" d=\"M2035.29 1454.1 Q2031.68 1454.1 2029.85 1457.66 Q2028.04 1461.2 2028.04 1468.33 Q2028.04 1475.44 2029.85 1479.01 Q2031.68 1482.55 2035.29 1482.55 Q2038.92 1482.55 2040.73 1479.01 Q2042.56 1475.44 2042.56 1468.33 Q2042.56 1461.2 2040.73 1457.66 Q2038.92 1454.1 2035.29 1454.1 M2035.29 1450.39 Q2041.1 1450.39 2044.15 1455 Q2047.23 1459.58 2047.23 1468.33 Q2047.23 1477.06 2044.15 1481.67 Q2041.1 1486.25 2035.29 1486.25 Q2029.48 1486.25 2026.4 1481.67 Q2023.34 1477.06 2023.34 1468.33 Q2023.34 1459.58 2026.4 1455 Q2029.48 1450.39 2035.29 1450.39 Z\" fill=\"#000000\" fill-rule=\"evenodd\" fill-opacity=\"1\" /><path clip-path=\"url(#clip260)\" d=\"M1173.87 1546.53 L1173.87 1568.04 L1168.01 1568.04 L1168.01 1546.72 Q1168.01 1541.66 1166.04 1539.14 Q1164.06 1536.63 1160.12 1536.63 Q1155.37 1536.63 1152.64 1539.65 Q1149.9 1542.68 1149.9 1547.9 L1149.9 1568.04 L1144.01 1568.04 L1144.01 1532.4 L1149.9 1532.4 L1149.9 1537.93 Q1152 1534.72 1154.83 1533.13 Q1157.7 1531.54 1161.42 1531.54 Q1167.56 1531.54 1170.71 1535.36 Q1173.87 1539.14 1173.87 1546.53 Z\" fill=\"#000000\" fill-rule=\"evenodd\" fill-opacity=\"1\" /><polyline clip-path=\"url(#clip262)\" style=\"stroke:#000000; stroke-linecap:butt; stroke-linejoin:round; stroke-width:2; stroke-opacity:0.1; fill:none\" points=\"\n",
       "  205.121,1129.2 2112.76,1129.2 \n",
       "  \"/>\n",
       "<polyline clip-path=\"url(#clip262)\" style=\"stroke:#000000; stroke-linecap:butt; stroke-linejoin:round; stroke-width:2; stroke-opacity:0.1; fill:none\" points=\"\n",
       "  205.121,819.744 2112.76,819.744 \n",
       "  \"/>\n",
       "<polyline clip-path=\"url(#clip262)\" style=\"stroke:#000000; stroke-linecap:butt; stroke-linejoin:round; stroke-width:2; stroke-opacity:0.1; fill:none\" points=\"\n",
       "  205.121,510.29 2112.76,510.29 \n",
       "  \"/>\n",
       "<polyline clip-path=\"url(#clip262)\" style=\"stroke:#000000; stroke-linecap:butt; stroke-linejoin:round; stroke-width:2; stroke-opacity:0.1; fill:none\" points=\"\n",
       "  205.121,200.836 2112.76,200.836 \n",
       "  \"/>\n",
       "<polyline clip-path=\"url(#clip260)\" style=\"stroke:#000000; stroke-linecap:butt; stroke-linejoin:round; stroke-width:4; stroke-opacity:1; fill:none\" points=\"\n",
       "  205.121,1423.18 205.121,123.472 \n",
       "  \"/>\n",
       "<polyline clip-path=\"url(#clip260)\" style=\"stroke:#000000; stroke-linecap:butt; stroke-linejoin:round; stroke-width:4; stroke-opacity:1; fill:none\" points=\"\n",
       "  205.121,1129.2 221.907,1129.2 \n",
       "  \"/>\n",
       "<polyline clip-path=\"url(#clip260)\" style=\"stroke:#000000; stroke-linecap:butt; stroke-linejoin:round; stroke-width:4; stroke-opacity:1; fill:none\" points=\"\n",
       "  205.121,819.744 221.907,819.744 \n",
       "  \"/>\n",
       "<polyline clip-path=\"url(#clip260)\" style=\"stroke:#000000; stroke-linecap:butt; stroke-linejoin:round; stroke-width:4; stroke-opacity:1; fill:none\" points=\"\n",
       "  205.121,510.29 221.907,510.29 \n",
       "  \"/>\n",
       "<polyline clip-path=\"url(#clip260)\" style=\"stroke:#000000; stroke-linecap:butt; stroke-linejoin:round; stroke-width:4; stroke-opacity:1; fill:none\" points=\"\n",
       "  205.121,200.836 221.907,200.836 \n",
       "  \"/>\n",
       "<path clip-path=\"url(#clip260)\" d=\"M117.825 1142.54 L125.464 1142.54 L125.464 1116.18 L117.154 1117.84 L117.154 1113.58 L125.418 1111.92 L130.093 1111.92 L130.093 1142.54 L137.732 1142.54 L137.732 1146.48 L117.825 1146.48 L117.825 1142.54 Z\" fill=\"#000000\" fill-rule=\"evenodd\" fill-opacity=\"1\" /><path clip-path=\"url(#clip260)\" d=\"M157.177 1115 Q153.566 1115 151.737 1118.56 Q149.931 1122.1 149.931 1129.23 Q149.931 1136.34 151.737 1139.9 Q153.566 1143.45 157.177 1143.45 Q160.811 1143.45 162.616 1139.9 Q164.445 1136.34 164.445 1129.23 Q164.445 1122.1 162.616 1118.56 Q160.811 1115 157.177 1115 M157.177 1111.29 Q162.987 1111.29 166.042 1115.9 Q169.121 1120.48 169.121 1129.23 Q169.121 1137.96 166.042 1142.57 Q162.987 1147.15 157.177 1147.15 Q151.366 1147.15 148.288 1142.57 Q145.232 1137.96 145.232 1129.23 Q145.232 1120.48 148.288 1115.9 Q151.366 1111.29 157.177 1111.29 Z\" fill=\"#000000\" fill-rule=\"evenodd\" fill-opacity=\"1\" /><path clip-path=\"url(#clip260)\" d=\"M121.043 833.089 L137.362 833.089 L137.362 837.024 L115.418 837.024 L115.418 833.089 Q118.08 830.334 122.663 825.705 Q127.269 821.052 128.45 819.709 Q130.695 817.186 131.575 815.45 Q132.478 813.691 132.478 812.001 Q132.478 809.246 130.533 807.51 Q128.612 805.774 125.51 805.774 Q123.311 805.774 120.857 806.538 Q118.427 807.302 115.649 808.853 L115.649 804.131 Q118.473 802.997 120.927 802.418 Q123.38 801.839 125.418 801.839 Q130.788 801.839 133.982 804.524 Q137.177 807.209 137.177 811.7 Q137.177 813.83 136.367 815.751 Q135.579 817.649 133.473 820.242 Q132.894 820.913 129.792 824.131 Q126.691 827.325 121.043 833.089 Z\" fill=\"#000000\" fill-rule=\"evenodd\" fill-opacity=\"1\" /><path clip-path=\"url(#clip260)\" d=\"M157.177 805.543 Q153.566 805.543 151.737 809.108 Q149.931 812.649 149.931 819.779 Q149.931 826.885 151.737 830.45 Q153.566 833.992 157.177 833.992 Q160.811 833.992 162.616 830.45 Q164.445 826.885 164.445 819.779 Q164.445 812.649 162.616 809.108 Q160.811 805.543 157.177 805.543 M157.177 801.839 Q162.987 801.839 166.042 806.446 Q169.121 811.029 169.121 819.779 Q169.121 828.506 166.042 833.112 Q162.987 837.695 157.177 837.695 Q151.366 837.695 148.288 833.112 Q145.232 828.506 145.232 819.779 Q145.232 811.029 148.288 806.446 Q151.366 801.839 157.177 801.839 Z\" fill=\"#000000\" fill-rule=\"evenodd\" fill-opacity=\"1\" /><path clip-path=\"url(#clip260)\" d=\"M131.181 508.936 Q134.538 509.653 136.413 511.922 Q138.311 514.19 138.311 517.524 Q138.311 522.639 134.792 525.44 Q131.274 528.241 124.793 528.241 Q122.617 528.241 120.302 527.801 Q118.01 527.385 115.556 526.528 L115.556 522.014 Q117.501 523.149 119.816 523.727 Q122.13 524.306 124.654 524.306 Q129.052 524.306 131.343 522.57 Q133.658 520.834 133.658 517.524 Q133.658 514.468 131.505 512.755 Q129.376 511.019 125.556 511.019 L121.529 511.019 L121.529 507.176 L125.742 507.176 Q129.191 507.176 131.019 505.811 Q132.848 504.422 132.848 501.829 Q132.848 499.167 130.95 497.755 Q129.075 496.32 125.556 496.32 Q123.635 496.32 121.436 496.737 Q119.237 497.153 116.598 498.033 L116.598 493.866 Q119.26 493.126 121.575 492.755 Q123.913 492.385 125.973 492.385 Q131.297 492.385 134.399 494.815 Q137.501 497.223 137.501 501.343 Q137.501 504.214 135.857 506.204 Q134.214 508.172 131.181 508.936 Z\" fill=\"#000000\" fill-rule=\"evenodd\" fill-opacity=\"1\" /><path clip-path=\"url(#clip260)\" d=\"M157.177 496.089 Q153.566 496.089 151.737 499.653 Q149.931 503.195 149.931 510.325 Q149.931 517.431 151.737 520.996 Q153.566 524.538 157.177 524.538 Q160.811 524.538 162.616 520.996 Q164.445 517.431 164.445 510.325 Q164.445 503.195 162.616 499.653 Q160.811 496.089 157.177 496.089 M157.177 492.385 Q162.987 492.385 166.042 496.991 Q169.121 501.575 169.121 510.325 Q169.121 519.051 166.042 523.658 Q162.987 528.241 157.177 528.241 Q151.366 528.241 148.288 523.658 Q145.232 519.051 145.232 510.325 Q145.232 501.575 148.288 496.991 Q151.366 492.385 157.177 492.385 Z\" fill=\"#000000\" fill-rule=\"evenodd\" fill-opacity=\"1\" /><path clip-path=\"url(#clip260)\" d=\"M129.862 187.63 L118.056 206.079 L129.862 206.079 L129.862 187.63 M128.635 183.556 L134.515 183.556 L134.515 206.079 L139.445 206.079 L139.445 209.968 L134.515 209.968 L134.515 218.116 L129.862 218.116 L129.862 209.968 L114.26 209.968 L114.26 205.454 L128.635 183.556 Z\" fill=\"#000000\" fill-rule=\"evenodd\" fill-opacity=\"1\" /><path clip-path=\"url(#clip260)\" d=\"M157.177 186.634 Q153.566 186.634 151.737 190.199 Q149.931 193.741 149.931 200.87 Q149.931 207.977 151.737 211.542 Q153.566 215.083 157.177 215.083 Q160.811 215.083 162.616 211.542 Q164.445 207.977 164.445 200.87 Q164.445 193.741 162.616 190.199 Q160.811 186.634 157.177 186.634 M157.177 182.931 Q162.987 182.931 166.042 187.537 Q169.121 192.12 169.121 200.87 Q169.121 209.597 166.042 214.204 Q162.987 218.787 157.177 218.787 Q151.366 218.787 148.288 214.204 Q145.232 209.597 145.232 200.87 Q145.232 192.12 148.288 187.537 Q151.366 182.931 157.177 182.931 Z\" fill=\"#000000\" fill-rule=\"evenodd\" fill-opacity=\"1\" /><path clip-path=\"url(#clip260)\" d=\"M28.3562 776.254 L28.3562 770.398 L64.0042 770.398 L64.0042 776.254 L28.3562 776.254 M14.479 776.254 L14.479 770.398 L21.895 770.398 L21.895 776.254 L14.479 776.254 Z\" fill=\"#000000\" fill-rule=\"evenodd\" fill-opacity=\"1\" /><path clip-path=\"url(#clip260)\" d=\"M1121.41 27.2059 L1105 49.2833 L1122.26 72.576 L1113.47 72.576 L1100.26 54.752 L1087.06 72.576 L1078.26 72.576 L1095.89 48.8377 L1079.76 27.2059 L1088.55 27.2059 L1100.59 43.369 L1112.62 27.2059 L1121.41 27.2059 Z\" fill=\"#000000\" fill-rule=\"evenodd\" fill-opacity=\"1\" /><path clip-path=\"url(#clip260)\" d=\"M1133.76 34.9026 L1185.69 34.9026 L1185.69 41.7081 L1133.76 41.7081 L1133.76 34.9026 M1133.76 51.4303 L1185.69 51.4303 L1185.69 58.3168 L1133.76 58.3168 L1133.76 51.4303 Z\" fill=\"#000000\" fill-rule=\"evenodd\" fill-opacity=\"1\" /><path clip-path=\"url(#clip260)\" d=\"M1204.77 65.6895 L1218.14 65.6895 L1218.14 19.5497 L1203.6 22.4663 L1203.6 15.0127 L1218.06 12.096 L1226.24 12.096 L1226.24 65.6895 L1239.61 65.6895 L1239.61 72.576 L1204.77 72.576 L1204.77 65.6895 Z\" fill=\"#000000\" fill-rule=\"evenodd\" fill-opacity=\"1\" /><g clip-path=\"url(#clip262)\">\n",
       "<image width=\"1908\" height=\"1300\" xlink:href=\"data:image/png;base64,\n",
       "iVBORw0KGgoAAAANSUhEUgAAB3QAAAUUCAYAAAAnbSNZAAAgAElEQVR4nOzbQY7UQBREwTaqg/po\n",
       "PqilYsMOJAZm2v8hIk6Q+6c8Xq+1XwAAAAAAAADkfJseAAAAAAAAAMCvCboAAAAAAAAAUYIuAAAA\n",
       "AAAAQJSgCwAAAAAAABAl6AIAAAAAAABECboAAAAAAAAAUYIuAAAAAAAAQJSgCwAAAAAAABAl6AIA\n",
       "AAAAAABECboAAAAAAAAAUYIuAAAAAAAAQJSgCwAAAAAAABAl6AIAAAAAAABECboAAAAAAAAAUYIu\n",
       "AAAAAAAAQJSgCwAAAAAAABAl6AIAAAAAAABECboAAAAAAAAAUYIuAAAAAAAAQJSgCwAAAAAAABAl\n",
       "6AIAAAAAAABECboAAAAAAAAAUYIuAAAAAAAAQJSgCwAAAAAAABAl6AIAAAAAAABECboAAAAAAAAA\n",
       "UYIuAAAAAAAAQJSgCwAAAAAAABAl6AIAAAAAAABECboAAAAAAAAAUYIuAAAAAAAAQJSgCwAAAAAA\n",
       "ABAl6AIAAAAAAABECboAAAAAAAAAUYIuAAAAAAAAQJSgCwAAAAAAABAl6AIAAAAAAABECboAAAAA\n",
       "AAAAUYIuAAAAAAAAQJSgCwAAAAAAABAl6AIAAAAAAABECboAAAAAAAAAUYIuAAAAAAAAQJSgCwAA\n",
       "AAAAABAl6AIAAAAAAABECboAAAAAAAAAUYIuAAAAAAAAQJSgCwAAAAAAABAl6AIAAAAAAABECboA\n",
       "AAAAAAAAUYIuAAAAAAAAQJSgCwAAAAAAABAl6AIAAAAAAABECboAAAAAAAAAUYIuAAAAAAAAQJSg\n",
       "CwAAAAAAABAl6AIAAAAAAABECboAAAAAAAAAUYIuAAAAAAAAQJSgCwAAAAAAABAl6AIAAAAAAABE\n",
       "CboAAAAAAAAAUYIuAAAAAAAAQJSgCwAAAAAAABAl6AIAAAAAAABECboAAAAAAAAAUYIuAAAAAAAA\n",
       "QJSgCwAAAAAAABAl6AIAAAAAAABECboAAAAAAAAAUYIuAAAAAAAAQJSgCwAAAAAAABAl6AIAAAAA\n",
       "AABECboAAAAAAAAAUYIuAAAAAAAAQJSgCwAAAAAAABAl6AIAAAAAAABECboAAAAAAAAAUYIuAAAA\n",
       "AAAAQJSgCwAAAAAAABAl6AIAAAAAAABECboAAAAAAAAAUYIuAAAAAAAAQJSgCwAAAAAAABAl6AIA\n",
       "AAAAAABECboAAAAAAAAAUYIuAAAAAAAAQJSgCwAAAAAAABAl6AIAAAAAAABECboAAAAAAAAAUYIu\n",
       "AAAAAAAAQJSgCwAAAAAAABAl6AIAAAAAAABECboAAAAAAAAAUYIuAAAAAAAAQJSgCwAAAAAAABAl\n",
       "6AIAAAAAAABECboAAAAAAAAAUYIuAAAAAAAAQJSgCwAAAAAAABAl6AIAAAAAAABECboAAAAAAAAA\n",
       "UYIuAAAAAAAAQJSgCwAAAAAAABAl6AIAAAAAAABECboAAAAAAAAAUYIuAAAAAAAAQJSgCwAAAAAA\n",
       "ABAl6AIAAAAAAABECboAAAAAAAAAUYIuAAAAAAAAQJSgCwAAAAAAABAl6AIAAAAAAABECboAAAAA\n",
       "AAAAUYIuAAAAAAAAQJSgCwAAAAAAABAl6AIAAAAAAABECboAAAAAAAAAUYIuAAAAAAAAQJSgCwAA\n",
       "AAAAABAl6AIAAAAAAABECboAAAAAAAAAUYIuAAAAAAAAQJSgCwAAAAAAABAl6AIAAAAAAABECboA\n",
       "AAAAAAAAUYIuAAAAAAAAQJSgCwAAAAAAABAl6AIAAAAAAABECboAAAAAAAAAUYIuAAAAAAAAQJSg\n",
       "CwAAAAAAABAl6AIAAAAAAABECboAAAAAAAAAUYIuAAAAAAAAQJSgCwAAAAAAABAl6AIAAAAAAABE\n",
       "CboAAAAAAAAAUYIuAAAAAAAAQJSgCwAAAAAAABAl6AIAAAAAAABECboAAAAAAAAAUYIuAAAAAAAA\n",
       "QJSgCwAAAAAAABAl6AIAAAAAAABECboAAAAAAAAAUYIuAAAAAAAAQJSgCwAAAAAAABAl6AIAAAAA\n",
       "AABECboAAAAAAAAAUYIuAAAAAAAAQJSgCwAAAAAAABAl6AIAAAAAAABECboAAAAAAAAAUYIuAAAA\n",
       "AAAAQJSgCwAAAAAAABAl6AIAAAAAAABECboAAAAAAAAAUYIuAAAAAAAAQJSgCwAAAAAAABAl6AIA\n",
       "AAAAAABECboAAAAAAAAAUYIuAAAAAAAAQJSgCwAAAAAAABAl6AIAAAAAAABECboAAAAAAAAAUYIu\n",
       "AAAAAAAAQJSgCwAAAAAAABAl6AIAAAAAAABECboAAAAAAAAAUYIuAAAAAAAAQJSgCwAAAAAAABAl\n",
       "6AIAAAAAAABECboAAAAAAAAAUYIuAAAAAAAAQJSgCwAAAAAAABAl6AIAAAAAAABECboAAAAAAAAA\n",
       "UYIuAAAAAAAAQJSgCwAAAAAAABAl6AIAAAAAAABECboAAAAAAAAAUYIuAAAAAAAAQJSgCwAAAAAA\n",
       "ABAl6AIAAAAAAABErekBAAAAAAAAAB9x72t6wuM8dAEAAAAAAACiBF0AAAAAAACAKEEXAAAAAAAA\n",
       "IErQBQAAAAAAAIgSdAEAAAAAAACiBF0AAAAAAACAKEEXAAAAAAAAIErQBQAAAAAAAIgSdAEAAAAA\n",
       "AACiBF0AAAAAAACAKEEXAAAAAAAAIErQBQAAAAAAAIgSdAEAAAAAAACiBF0AAAAAAACAKEEXAAAA\n",
       "AAAAIErQBQAAAAAAAIgSdAEAAAAAAACiBF0AAAAAAACAKEEXAAAAAAAAIErQBQAAAAAAAIgSdAEA\n",
       "AAAAAACiBF0AAAAAAACAKEEXAAAAAAAAIErQBQAAAAAAAIgSdAEAAAAAAACiBF0AAAAAAACAKEEX\n",
       "AAAAAAAAIErQBQAAAAAAAIgSdAEAAAAAAACiBF0AAAAAAACAqDU9AAAAAAAAAPgz976mJ4xYxzk9\n",
       "4XEeugAAAAAAAABRgi4AAAAAAABAlKALAAAAAAAAECXoAgAAAAAAAEQJugAAAAAAAABRgi4AAAAA\n",
       "AABAlKALAAAAAAAAECXoAgAAAAAAAEQJugAAAAAAAABRgi4AAAAAAABAlKALAAAAAAAAECXoAgAA\n",
       "AAAAAEQJugAAAAAAAABRgi4AAAAAAABAlKALAAAAAAAAECXoAgAAAAAAAEQJugAAAAAAAABRgi4A\n",
       "AAAAAABAlKALAAAAAAAAECXoAgAAAAAAAEQJugAAAAAAAABRgi4AAAAAAABAlKALAAAAAAAAECXo\n",
       "AgAAAAAAAEQJugAAAAAAAABRgi4AAAAAAABAlKALAAAAAAAAECXoAgAAAAAAAEQJugAAAAAAAABR\n",
       "gi4AAAAAAABA1JoeAAAAAAAAAJ9x72t6wuPWcU5P4CEeugAAAAAAAABRgi4AAAAAAABAlKALAAAA\n",
       "AAAAECXoAgAAAAAAAEQJugAAAAAAAABRgi4AAAAAAABAlKALAAAAAAAAECXoAgAAAAAAAEQJugAA\n",
       "AAAAAABRgi4AAAAAAABAlKALAAAAAAAAECXoAgAAAAAAAEQJugAAAAAAAABRgi4AAAAAAABAlKAL\n",
       "AAAAAAAAECXoAgAAAAAAAEQJugAAAAAAAABRgi4AAAAAAABAlKALAAAAAAAAECXoAgAAAAAAAEQJ\n",
       "ugAAAAAAAABRgi4AAAAAAABAlKALAAAAAAAAECXoAgAAAAAAAEQJugAAAAAAAABRgi4AAAAAAABA\n",
       "lKALAAAAAAAAECXoAgAAAAAAAEQJugAAAAAAAABRgi4AAAAAAABA1JoeAAAAAAAAwNe49zU9YcQ6\n",
       "zukJ8DYeugAAAAAAAABRgi4AAAAAAABAlKALAAAAAAAAECXoAgAAAAAAAEQJugAAAAAAAABRgi4A\n",
       "AAAAAABAlKALAAAAAAAAECXoAgAAAAAAAEQJugAAAAAAAABRgi4AAAAAAABAlKALAAAAAAAAECXo\n",
       "AgAAAAAAAEQJugAAAAAAAABRgi4AAAAAAABAlKALAAAAAAAAECXoAgAAAAAAAEQJugAAAAAAAABR\n",
       "gi4AAAAAAABAlKALAAAAAAAAECXoAgAAAAAAAEQJugAAAAAAAABRgi4AAAAAAABAlKALAAAAAAAA\n",
       "ECXoAgAAAAAAAEQJugAAAAAAAABRgi4AAAAAAABAlKALAAAAAAAAECXoAgAAAAAAAEQJugAAAAAA\n",
       "AABRgi4AAAAAAABA1JoeAAAAAAAA8A73vqYnPG4d5/QE4It56AIAAAAAAABECboAAAAAAAAAUYIu\n",
       "AAAAAAAAQJSgCwAAAAAAABAl6AIAAAAAAABECboAAAAAAAAAUYIuAAAAAAAAQJSgCwAAAAAAABAl\n",
       "6AIAAAAAAABECboAAAAAAAAAUYIuAAAAAAAAQJSgCwAAAAAAABAl6AIAAAAAAABECboAAAAAAAAA\n",
       "UYIuAAAAAAAAQJSgCwAAAAAAABAl6AIAAAAAAABECboAAAAAAAAAUYIuAAAAAAAAQJSgCwAAAAAA\n",
       "ABAl6AIAAAAAAABECboAAAAAAAAAUYIuAAAAAAAAQJSgCwAAAAAAABAl6AIAAAAAAABECboAAAAA\n",
       "AAAAUYIuAAAAAAAAQJSgCwAAAAAAABAl6AIAAAAAAABECboAAAAAAAAAUWt6AAAAAAAA8F73vqYn\n",
       "jFjHOT0B4NM8dAEAAAAAAACiBF0AAAAAAACAKEEXAAAAAAAAIErQBQAAAAAAAIgSdAEAAAAAAACi\n",
       "BF0AAAAAAACAKEEXAAAAAAAAIErQBQAAAAAAAIgSdAEAAAAAAACiBF0AAAAAAACAKEEXAAAAAAAA\n",
       "IErQBQAAAAAAAIgSdAEAAAAAAACiBF0AAAAAAACAKEEXAAAAAAAAIErQBQAAAAAAAIgSdAEAAAAA\n",
       "AACiBF0AAAAAAACAKEEXAAAAAAAAIErQBQAAAAAAAIgSdAEAAAAAAACiBF0AAAAAAACAKEEXAAAA\n",
       "AAAAIErQBQAAAAAAAIgSdAEAAAAAAACiBF0AAAAAAACAKEEXAAAAAAAAIErQBQAAAAAAAIgSdAEA\n",
       "AAAAAACiBF0AAAAAAACAqDU9AAAAAAAAnnTva3rC49ZxTk8A4C956AIAAAAAAABECboAAAAAAAAA\n",
       "UYIuAAAAAAAAQJSgCwAAAAAAABAl6AIAAAAAAABECboAAAAAAAAAUYIuAAAAAAAAQJSgCwAAAAAA\n",
       "ABAl6AIAAAAAAABECboAAAAAAAAAUYIuAAAAAAAAQJSgCwAAAAAAABAl6AIAAAAAAABECboAAAAA\n",
       "AAAAUYIuAAAAAAAAQJSgCwAAAAAAABAl6AIAAAAAAABECboAAAAAAAAAUYIuAAAAAAAAQJSgCwAA\n",
       "AAAAABAl6AIAAAAAAABECboAAAAAAAAAUYIuAAAAAAAAQJSgCwAAAAAAABAl6AIAAAAAAABECboA\n",
       "AAAAAAAAUYIuAAAAAAAAQJSgCwAAAAAAABAl6AIAAAAAAABECboAAAAAAAAAUWt6AAAAAAAAM+59\n",
       "TU8YsY5zegIAfJiHLgAAAAAAAECUoAsAAAAAAAAQJegCAAAAAAAARAm6AAAAAAAAAFGCLgAAAAAA\n",
       "AECUoAsAAAAAAAAQJegCAAAAAAAARAm6AAAAAAAAAFGCLgAAAAAAAECUoAsAAAAAAAAQJegCAAAA\n",
       "AAAARAm6AAAAAAAAAFGCLgAAAAAAAECUoAsAAAAAAAAQJegCAAAAAAAARAm6AAAAAAAAAFGCLgAA\n",
       "AAAAAECUoAsAAAAAAAAQJegCAAAAAAAARAm6AAAAAAAAAFGCLgAAAAAAAECUoAsAAAAAAAAQJegC\n",
       "AAAAAAAARAm6AAAAAAAAAFGCLgAAAAAAAECUoAsAAAAAAAAQJegCAAAAAAAARAm6AAAAAAAAAFGC\n",
       "LgAAAAAAAECUoAsAAAAAAAAQtaYHAAAAAAAU3PuanvC4dZzTEwCA3/DQBQAAAAAAAIgSdAEAAAAA\n",
       "AACiBF0AAAAAAACAKEEXAAAAAAAAIErQBQAAAAAAAIgSdAEAAAAAAACiBF0AAAAAAACAKEEXAAAA\n",
       "AAAAIErQBQAAAAAAAIgSdAEAAAAAAACiBF0AAAAAAACAKEEXAAAAAAAAIErQBQAAAAAAAIgSdAEA\n",
       "AAAAAACiBF0AAAAAAACAKEEXAAAAAAAAIErQBQAAAAAAAIgSdAEAAAAAAACiBF0AAAAAAACAKEEX\n",
       "AAAAAAAAIErQBQAAAAAAAIgSdAEAAAAAAACiBF0AAAAAAACAKEEXAAAAAAAAIErQBQAAAAAAAIgS\n",
       "dAEAAAAAAACiBF0AAAAAAACAKEEXAAAAAAAAIErQBQAAAAAAAIgSdAEAAAAAAACi1vQAAAAAAKDl\n",
       "3tf0hBHrOKcnAAD8xEMXAAAAAAAAIErQBQAAAAAAAIgSdAEAAAAAAACiBF0AAAAAAACAKEEXAAAA\n",
       "AAAAIErQBQAAAAAAAIgSdAEAAAAAAACiBF0AAAAAAACAKEEXAAAAAAAAIErQBQAAAAAAAIgSdAEA\n",
       "AAAAAACiBF0AAAAAAACAKEEXAAAAAAAAIErQBQAAAAAAAIgSdAEAAAAAAACiBF0AAAAAAACAKEEX\n",
       "AAAAAAAAIErQBQAAAAAAAIgSdAEAAAAAAACiBF0AAAAAAACAKEEXAAAAAAAAIErQBQAAAAAAAIgS\n",
       "dAEAAAAAAACiBF0AAAAAAACAKEEXAAAAAAAAIErQBQAAAAAAAIgSdAEAAAAAAACiBF0AAAAAAACA\n",
       "KEEXAAAAAAAAIErQBQAAAAAAAIha0wMAAAAAoOre1/SEEes4pycAAPCDhy4AAAAAAABAlKALAAAA\n",
       "AAAAECXoAgAAAAAAAEQJugAAAAAAAABRgi4AAAAAAABAlKALAAAAAAAAECXoAgAAAAAAAEQJugAA\n",
       "AAAAAABRgi4AAAAAAABAlKALAAAAAAAAECXoAgAAAAAAAEQJugAAAAAAAABRgi4AAAAAAABAlKAL\n",
       "AAAAAAAAECXoAgAAAAAAAEQJugAAAAAAAABRgi4AAAAAAABAlKALAAAAAAAAECXoAgAAAAAAAEQJ\n",
       "ugAAAAAAAABRgi4AAAAAAABAlKALAAAAAAAAECXoAgAAAAAAAEQJugAAAAAAAABRgi4AAAAAAABA\n",
       "lKALAAAAAAAAECXoAgAAAAAAAEQJugAAAAAAAABRgi4AAAAAAABAlKALAAAAAAAAELWmBwAAAADw\n",
       "b7j3NT3hces4pycAAPCf89AFAAAAAAAAiBJ0AQAAAAAAAKIEXQAAAAAAAIAoQRcAAAAAAAAgStAF\n",
       "AAAAAAAAiBJ0AQAAAAAAAKIEXQAAAAAAAIAoQRcAAAAAAAAgStAFAAAAAAAAiBJ0AQAAAAAAAKIE\n",
       "XQAAAAAAAIAoQRcAAAAAAAAgStAFAAAAAAAAiBJ0AQAAAAAAAKK+s28HOXZTURRF89BjnmZeUfA4\n",
       "iYlp04gUSMp316+1RnD6W0fQBQAAAAAAAIgSdAEAAAAAAACiBF0AAAAAAACAKEEXAAAAAAAAIErQ\n",
       "BQAAAAAAAIgSdAEAAAAAAACiBF0AAAAAAACAKEEXAAAAAAAAIErQBQAAAAAAAIgSdAEAAAAAAACi\n",
       "BF0AAAAAAACAKEEXAAAAAAAAIErQBQAAAAAAAIgSdAEAAAAAAACiBF0AAAAAAACAKEEXAAAAAAAA\n",
       "IGpPDwAAAAB4b677nJ4wYq9jegIAAHw4HroAAAAAAAAAUYIuAAAAAAAAQJSgCwAAAAAAABAl6AIA\n",
       "AAAAAABECboAAAAAAAAAUYIuAAAAAAAAQJSgCwAAAAAAABAl6AIAAAAAAABECboAAAAAAAAAUYIu\n",
       "AAAAAAAAQJSgCwAAAAAAABAl6AIAAAAAAABECboAAAAAAAAAUYIuAAAAAAAAQJSgCwAAAAAAABAl\n",
       "6AIAAAAAAABECboAAAAAAAAAUYIuAAAAAAAAQJSgCwAAAAAAABAl6AIAAAAAAABECboAAAAAAAAA\n",
       "UYIuAAAAAAAAQJSgCwAAAAAAABAl6AIAAAAAAABECboAAAAAAAAAUYIuAAAAAAAAQJSgCwAAAAAA\n",
       "ABAl6AIAAAAAAABECboAAAAAAAAAUYIuAAAAAAAAQNSeHgAAAAC8b9d9Tk943F7H9AQAAOCD8NAF\n",
       "AAAAAAAAiBJ0AQAAAAAAAKIEXQAAAAAAAIAoQRcAAAAAAAAgStAFAAAAAAAAiBJ0AQAAAAAAAKIE\n",
       "XQAAAAAAAIAoQRcAAAAAAAAgStAFAAAAAAAAiBJ0AQAAAAAAAKIEXQAAAAAAAIAoQRcAAAAAAAAg\n",
       "StAFAAAAAAAAiBJ0AQAAAAAAAKIEXQAAAAAAAIAoQRcAAAAAAAAgStAFAAAAAAAAiBJ0AQAAAAAA\n",
       "AKIEXQAAAAAAAIAoQRcAAAAAAAAgStAFAAAAAAAAiBJ0AQAAAAAAAKIEXQAAAAAAAIAoQRcAAAAA\n",
       "AAAgStAFAAAAAAAAiBJ0AQAAAAAAAKIEXQAAAAAAAIAoQRcAAAAAAAAgStAFAAAAAAAAiBJ0AQAA\n",
       "AAAAAKL29AAAAAB4Fdd9Tk8YsdcxPQEAAOBleegCAAAAAAAARAm6AAAAAAAAAFGCLgAAAAAAAECU\n",
       "oAsAAAAAAAAQJegCAAAAAAAARAm6AAAAAAAAAFGCLgAAAAAAAECUoAsAAAAAAAAQJegCAAAAAAAA\n",
       "RAm6AAAAAAAAAFGCLgAAAAAAAECUoAsAAAAAAAAQJegCAAAAAAAARAm6AAAAAAAAAFGCLgAAAAAA\n",
       "AECUoAsAAAAAAAAQJegCAAAAAAAARAm6AAAAAAAAAFGCLgAAAAAAAECUoAsAAAAAAAAQJegCAAAA\n",
       "AAAARAm6AAAAAAAAAFGCLgAAAAAAAECUoAsAAAAAAAAQJegCAAAAAAAARAm6AAAAAAAAAFGCLgAA\n",
       "AAAAAECUoAsAAAAAAAAQJegCAAAAAAAARO3pAQAAALym6z6nJzxur2N6AgAAAC/GQxcAAAAAAAAg\n",
       "StAFAAAAAAAAiBJ0AQAAAAAAAKIEXQAAAAAAAIAoQRcAAAAAAAAgStAFAAAAAAAAiBJ0AQAAAAAA\n",
       "AKIEXQAAAAAAAIAoQRcAAAAAAAAgStAFAAAAAAAAiBJ0AQAAAAAAAKIEXQAAAAAAAIAoQRcAAAAA\n",
       "AAAgStAFAAAAAAAAiBJ0AQAAAAAAAKIEXQAAAAAAAIAoQRcAAAAAAAAgStAFAAAAAAAAiBJ0AQAA\n",
       "AAAAAKIEXQAAAAAAAIAoQRcAAAAAAAAgStAFAAAAAAAAiBJ0AQAAAAAAAKIEXQAAAAAAAIAoQRcA\n",
       "AAAAAAAgStAFAAAAAAAAiBJ0AQAAAAAAAKIEXQAAAAAAAIAoQRcAAAAAAAAgStAFAAAAAAAAiNrT\n",
       "AwAAAF7dX39/np4wYq9jegIAAAC8ex66AAAAAAAAAFGCLgAAAAAAAECUoAsAAAAAAAAQJegCAAAA\n",
       "AAAARAm6AAAAAAAAAFGCLgAAAAAAAECUoAsAAAAAAAAQJegCAAAAAAAARAm6AAAAAAAAAFGCLgAA\n",
       "AAAAAECUoAsAAAAAAAAQJegCAAAAAAAARAm6AAAAAAAAAFGCLgAAAAAAAECUoAsAAAAAAAAQJegC\n",
       "AAAAAAAARAm6AAAAAAAAAFGCLgAAAAAAAECUoAsAAAAAAAAQJegCAAAAAAAARAm6AAAAAAAAAFGC\n",
       "LgAAAAAAAECUoAsAAAAAAAAQJegCAAAAAAAARAm6AAAAAAAAAFGCLgAAAAAAAECUoAsAAAAAAAAQ\n",
       "JegCAAAAAAAARAm6AAAAAAAAAFGCLgAAAAAAAEDUnh4AAAB8LNd9Tk943F7H9AQAAADgnfLQBQAA\n",
       "AAAAAIgSdAEAAAAAAACiBF0AAAAAAACAKEEXAAAAAAAAIErQBQAAAAAAAIgSdAEAAAAAAACiBF0A\n",
       "AAAAAACAKEEXAAAAAAAAIErQBQAAAAAAAIgSdAEAAAAAAACiBF0AAAAAAACAKEEXAAAAAAAAIErQ\n",
       "BQAAAAAAAIgSdAEAAAAAAACiBF0AAAAAAACAKEEXAAAAAAAAIErQBQAAAAAAAIgSdAEAAAAAAACi\n",
       "BF0AAAAAAACAKEEXAAAAAAAAIErQBQAAAAAAAIgSdAEAAAAAAACiBF0AAAAAAACAKEEXAAAAAAAA\n",
       "IErQBQAAAAAAAIgSdAEAAAAAAACiBF0AAAAAAACAKEEXAAAAAAAAIErQBQAAAAAAAIgSdAEAAAAA\n",
       "AACi1qdP+54eAQAAX7/9OT3hcb//9sf0BAAAAADiPHQBAAAAAAAAogRdAAAAAAAAgChBFwAAAAAA\n",
       "ACBK0AUAAAAAAACIEnQBAAAAAAAAogRdAAAAAAAAgChBFwAAAAAAACBK0AUAAAAAAACIEnQBAAAA\n",
       "AAAAogRdAAAAAAAAgChBFwAAAAAAACBK0AUAAAAAAACIEnQBAAAAAAAAogRdAAAAAAAAgChBFwAA\n",
       "AAAAACBK0AUAAAAAAACIEnQBAAAAAAAAogRdAAAAAAAAgChBFwAAAAAAACBK0AUAAAAAAACIEnQB\n",
       "AAAAAAAAogRdAAAAAAAAgChBFwAAAAAAACBK0AUAAAAAAACIEnQBAAAAAAAAogRdAAAAAAAAgChB\n",
       "FwAAAAAAACBK0AUAAAAAAACIEnQBAAAAAAAAogRdAAAAAAAAgKg9PQAAgH+77nN6woi9jukJAAAA\n",
       "AJDjoQsAAAAAAAAQJegCAAAAAAAARAm6AAAAAAAAAFGCLgAAAAAAAECUoAsAAAAAAAAQJegCAAAA\n",
       "AAAARAm6AAAAAAAAAFGCLgAAAAAAAECUoAsAAAAAAAAQJegCAAAAAAAARAm6AAAAAAAAAFGCLgAA\n",
       "AAAAAECUoAsAAAAAAAAQJegCAAAAAAAARAm6AAAAAAAAAFGCLgAAAAAAAECUoAsAAAAAAAAQJegC\n",
       "AAAAAAAARAm6AAAAAAAAAFGCLgAAAAAAAECUoAsAAAAAAAAQJegCAAAAAAAARAm6AAAAAAAAAFGC\n",
       "LgAAAAAAAECUoAsAAAAAAAAQJegCAAAAAAAARAm6AAAAAAAAAFGCLgAAAAAAAECUoAsAAAAAAAAQ\n",
       "JegCAAAAAAAARO3pAQAA33Pd5/SEEXsd023TMkYAABNuSURBVBMAAAAAgAgPXQAAAAAAAIAoQRcA\n",
       "AAAAAAAgStAFAAAAAAAAiBJ0AQAAAAAAAKIEXQAAAAAAAIAoQRcAAAAAAAAgStAFAAAAAAAAiBJ0\n",
       "AQAAAAAAAKIEXQAAAAAAAIAoQRcAAAAAAAAgStAFAAAAAAAAiBJ0AQAAAAAAAKIEXQAAAAAAAIAo\n",
       "QRcAAAAAAAAgStAFAAAAAAAAiBJ0AQAAAAAAAKIEXQAAAAAAAIAoQRcAAAAAAAAgStAFAAAAAAAA\n",
       "iBJ0AQAAAAAAAKIEXQAAAAAAAIAoQRcAAAAAAAAgStAFAAAAAAAAiBJ0AQAAAAAAAKIEXQAAAAAA\n",
       "AIAoQRcAAAAAAAAgStAFAAAAAAAAiBJ0AQAAAAAAAKIEXQAAAAAAAIAoQRcAAAAAAAAgak8PAAB+\n",
       "zHWf0xMet9cxPQEAAAAAYJSHLgAAAAAAAECUoAsAAAAAAAAQJegCAAAAAAAARAm6AAAAAAAAAFGC\n",
       "LgAAAAAAAECUoAsAAAAAAAAQJegCAAAAAAAARAm6AAAAAAAAAFGCLgAAAAAAAECUoAsAAAAAAAAQ\n",
       "JegCAAAAAAAARAm6AAAAAAAAAFGCLgAAAAAAAECUoAsAAAAAAAAQJegCAAAAAAAARAm6AAAAAAAA\n",
       "AFGCLgAAAAAAAECUoAsAAAAAAAAQJegCAAAAAAAARAm6AAAAAAAAAFGCLgAAAAAAAECUoAsAAAAA\n",
       "AAAQJegCAAAAAAAARAm6AAAAAAAAAFGCLgAAAAAAAECUoAsAAAAAAAAQJegCAAAAAAAARAm6AAAA\n",
       "AAAAAFGCLgAAAAAAAECUoAsAAAAAAAAQtacHAMB/dd3n9IQRex3TEwAAAAAAeJiHLgAAAAAAAECU\n",
       "oAsAAAAAAAAQJegCAAAAAAAARAm6AAAAAAAAAFGCLgAAAAAAAECUoAsAAAAAAAAQJegCAAAAAAAA\n",
       "RAm6AAAAAAAAAFGCLgAAAAAAAECUoAsAAAAAAAAQJegCAAAAAAAARAm6AAAAAAAAAFGCLgAAAAAA\n",
       "AECUoAsAAAAAAAAQJegCAAAAAAAARAm6AAAAAAAAAFGCLgAAAAAAAECUoAsAAAAAAAAQJegCAAAA\n",
       "AAAARAm6AAAAAAAAAFGCLgAAAAAAAECUoAsAAAAAAAAQJegCAAAAAAAARAm6AAAAAAAAAFGCLgAA\n",
       "AAAAAECUoAsAAAAAAAAQJegCAAAAAAAARAm6AAAAAAAAAFGCLgAAAAAAAECUoAsAAAAAAAAQtacH\n",
       "APBzrvucnvC4vY7pCQAAAAAA8AgPXQAAAAAAAIAoQRcAAAAAAAAgStAFAAAAAAAAiBJ0AQAAAAAA\n",
       "AKIEXQAAAAAAAIAoQRcAAAAAAAAgStAFAAAAAAAAiBJ0AQAAAAAAAKIEXQAAAAAAAIAoQRcAAAAA\n",
       "AAAgStAFAAAAAAAAiBJ0AQAAAAAAAKIEXQAAAAAAAIAoQRcAAAAAAAAgStAFAAAAAAAAiBJ0AQAA\n",
       "AAAAAKIEXQAAAAAAAIAoQRcAAAAAAAAgStAFAAAAAAAAiBJ0AQAAAAAAAKIEXQAAAAAAAIAoQRcA\n",
       "AAAAAAAgStAFAAAAAAAAiBJ0AQAAAAAAAKIEXQAAAAAAAIAoQRcAAAAAAAAgStAFAAAAAAAAiBJ0\n",
       "AQAAAAAAAKIEXQAAAAAAAIAoQRcAAAAAAAAgak8PAPhVrvucnjBir2N6AgAAAAAA8EY8dAEAAAAA\n",
       "AACiBF0AAAAAAACAKEEXAAAAAAAAIErQBQAAAAAAAIgSdAEAAAAAAACiBF0AAAAAAACAKEEXAAAA\n",
       "AAAAIErQBQAAAAAAAIgSdAEAAAAAAACiBF0AAAAAAACAKEEXAAAAAAAAIErQBQAAAAAAAIgSdAEA\n",
       "AAAAAACiBF0AAAAAAACAKEEXAAAAAAAAIErQBQAAAAAAAIgSdAEAAAAAAACiBF0AAAAAAACAKEEX\n",
       "AAAAAAAAIErQBQAAAAAAAIgSdAEAAAAAAACiBF0AAAAAAACAKEEXAAAAAAAAIErQBQAAAAAAAIgS\n",
       "dAEAAAAAAACiBF0AAAAAAACAKEEXAAAAAAAAIErQBQAAAAAAAIgSdAEAAAAAAACiBF0AAAAAAACA\n",
       "qD09AHgb131OT3jcXsf0BAAAAAAAgF/KQxcAAAAAAAAgStAFAAAAAAAAiBJ0AQAAAAAAAKIEXQAA\n",
       "AAAAAIAoQRcAAAAAAAAgStAFAAAAAAAAiBJ0AQAAAAAAAKIEXQAAAAAAAIAoQRcAAAAAAAAgStAF\n",
       "AAAAAAAAiBJ0AQAAAAAAAKIEXQAAAAAAAIAoQRcAAAAAAAAgStAFAAAAAAAAiBJ0AQAAAAAAAKIE\n",
       "XQAAAAAAAIAoQRcAAAAAAAAgStAFAAAAAAAAiBJ0AQAAAAAAAKIEXQAAAAAAAIAoQRcAAAAAAAAg\n",
       "StAFAAAAAAAAiBJ0AQAAAAAAAKIEXQAAAAAAAIAoQRcAAAAAAAAgStAFAAAAAAAAiBJ0AQAAAAAA\n",
       "AKIEXQAAAAAAAIAoQRcAAAAAAAAgStAFAAAAAAAAiNrTA+CtXfc5PWHEXsf0BAAAAAAAAH6Shy4A\n",
       "AAAAAABAlKALAAAAAAAAECXoAgAAAAAAAEQJugAAAAAAAABRgi4AAAAAAABAlKALAAAAAAAAECXo\n",
       "AgAAAAAAAEQJugAAAAAAAABRgi4AAAAAAABAlKALAAAAAAAAECXoAgAAAAAAAEQJugAAAAAAAABR\n",
       "gi4AAAAAAABAlKALAAAAAAAAECXoAgAAAAAAAEQJugAAAAAAAABRgi4AAAAAAABAlKALAAAAAAAA\n",
       "ECXoAgAAAAAAAEQJugAAAAAAAABRgi4AAAAAAABAlKALAAAAAAAAECXoAgAAAAAAAEQJugAAAAAA\n",
       "AABRgi4AAAAAAABAlKALAAAAAAAAECXoAgAAAAAAAEQJugAAAAAAAABRgi4AAAAAAABAlKALAAAA\n",
       "AAAAELWnB/Cs6z6nJzxur2N6AgAAAAAAAPwvHroAAAAAAAAAUYIuAAAAAAAAQJSgCwAAAAAAABAl\n",
       "6AIAAAAAAABECboAAAAAAAAAUYIuAAAAAAAAQJSgCwAAAAAAABAl6AIAAAAAAABECboAAAAAAAAA\n",
       "UYIuAAAAAAAAQJSgCwAAAAAAABAl6AIAAAAAAABECboAAAAAAAAAUYIuAAAAAAAAQJSgCwAAAAAA\n",
       "ABAl6AIAAAAAAABECboAAAAAAAAAUYIuAAAAAAAAQJSgCwAAAAAAABAl6AIAAAAAAABECboAAAAA\n",
       "AAAAUYIuAAAAAAAAQJSgCwAAAAAAABAl6AIAAAAAAABECboAAAAAAAAAUYIuAAAAAAAAQJSgCwAA\n",
       "AAAAABAl6AIAAAAAAABECboAAAAAAAAAUYIuAAAAAAAAQNSeHjDl67cv0xNG7HVMTwAAAAAAAAB+\n",
       "kIcuAAAAAAAAQJSgCwAAAAAAABAl6AIAAAAAAABECboAAAAAAAAAUYIuAAAAAAAAQJSgCwAAAAAA\n",
       "ABAl6AIAAAAAAABECboAAAAAAAAAUYIuAAAAAAAAQJSgCwAAAAAAABAl6AIAAAAAAABECboAAAAA\n",
       "AAAAUYIuAAAAAAAAQJSgCwAAAAAAABAl6AIAAAAAAABECboAAAAAAAAAUYIuAAAAAAAAQJSgCwAA\n",
       "AAAAABAl6AIAAAAAAABECboAAAAAAAAAUYIuAAAAAAAAQJSgCwAAAAAAABAl6AIAAAAAAABECboA\n",
       "AAAAAAAAUYIuAAAAAAAAQJSgCwAAAAAAABAl6AIAAAAAAABECboAAAAAAAAAUYIuAAAA8E/7dlAD\n",
       "IAwAQRBIMYoNXNcACCDh233MKLj/5gAAAIgSdAEAAAAAAACixpz36g1LnMe1egIAAAAAAADALw9d\n",
       "AAAAAAAAgChBFwAAAAAAACBK0AUAAAAAAACIEnQBAAAAAAAAogRdAAAAAAAAgChBFwAAAAAAACBK\n",
       "0AUAAAAAAACIEnQBAAAAAAAAogRdAAAAAAAAgChBFwAAAAAAACBK0AUAAAAAAACIEnQBAAAAAAAA\n",
       "ogRdAAAAAAAAgChBFwAAAAAAACBK0AUAAAAAAACIEnQBAAAAAAAAogRdAAAAAAAAgChBFwAAAAAA\n",
       "ACBK0AUAAAAAAACIEnQBAAAAAAAAogRdAAAAAAAAgChBFwAAAAAAACBK0AUAAAAAAACIEnQBAAAA\n",
       "AAAAogRdAAAAAAAAgChBFwAAAAAAACBK0AUAAAAAAACIEnQBAAAAAAAAogRdAAAAAAAAgChBFwAA\n",
       "AAAAACBq37bxrB4BAAAAAAAAwJeHLgAAAAAAAECUoAsAAAAAAAAQJegCAAAAAAAARAm6AAAAAAAA\n",
       "AFGCLgAAAAAAAECUoAsAAAAAAAAQJegCAAAAAAAARAm6AAAAAAAAAFGCLgAAAAAAAECUoAsAAAAA\n",
       "AAAQJegCAAAAAAAARAm6AAAAAAAAAFGCLgAAAAAAAECUoAsAAAAAAAAQJegCAAAAAAAARAm6AAAA\n",
       "AAAAAFGCLgAAAAAAAECUoAsAAAAAAAAQJegCAAAAAAAARAm6AAAAAAAAAFGCLgAAAAAAAECUoAsA\n",
       "AAAAAAAQJegCAAAAAAAARAm6AAAAAAAAAFGCLgAAAAAAAECUoAsAAAAAAAAQJegCAAAAAAAARAm6\n",
       "AAAAAAAAAFGCLgAAAAAAAECUoAsAAAAAAAAQJegCAAAAAAAARAm6AAAAAAAAAFGCLgAAAAAAAECU\n",
       "oAsAAAAAAAAQJegCAAAAAAAARAm6AAAAAAAAAFGCLgAAAAAAAECUoAsAAAAAAAAQJegCAAAAAAAA\n",
       "RAm6AAAAAAAAAFGCLgAAAAAAAECUoAsAAAAAAAAQJegCAAAAAAAARAm6AAAAAAAAAFGCLgAAAAAA\n",
       "AECUoAsAAAAAAAAQJegCAAAAAAAARAm6AAAAAAAAAFGCLgAAAAAAAECUoAsAAAAAAAAQJegCAAAA\n",
       "AAAARAm6AAAAAAAAAFGCLgAAAAAAAECUoAsAAAAAAAAQJegCAAAAAAAARAm6AAAAAAAAAFGCLgAA\n",
       "AAAAAECUoAsAAAAAAAAQJegCAAAAAAAARAm6AAAAAAAAAFGCLgAAAAAAAECUoAsAAAAAAAAQJegC\n",
       "AAAAAAAARAm6AAAAAAAAAFGCLgAAAAAAAECUoAsAAAAAAAAQJegCAAAAAAAARAm6AAAAAAAAAFGC\n",
       "LgAAAAAAAECUoAsAAAAAAAAQJegCAAAAAAAARAm6AAAAAAAAAFGCLgAAAAAAAECUoAsAAAAAAAAQ\n",
       "JegCAAAAAAAARAm6AAAAAAAAAFGCLgAAAAAAAECUoAsAAAAAAAAQJegCAAAAAAAARAm6AAAAAAAA\n",
       "AFGCLgAAAAAAAECUoAsAAAAAAAAQJegCAAAAAAAARAm6AAAAAAAAAFGCLgAAAAAAAECUoAsAAAAA\n",
       "AAAQJegCAAAAAAAARAm6AAAAAAAAAFGCLgAAAAAAAECUoAsAAAAAAAAQJegCAAAAAAAARAm6AAAA\n",
       "AAAAAFGCLgAAAAAAAECUoAsAAAAAAAAQJegCAAAAAAAARAm6AAAAAAAAAFGCLgAAAAAAAECUoAsA\n",
       "AAAAAAAQJegCAAAAAAAARAm6AAAAAAAAAFGCLgAAAAAAAECUoAsAAAAAAAAQJegCAAAAAAAARAm6\n",
       "AAAAAAAAAFGCLgAAAAAAAECUoAsAAAAAAAAQJegCAAAAAAAARAm6AAAAAAAAAFGCLgAAAAAAAECU\n",
       "oAsAAAAAAAAQJegCAAAAAAAARAm6AAAAAAAAAFGCLgAAAAAAAECUoAsAAAAAAAAQJegCAAAAAAAA\n",
       "RAm6AAAAAAAAAFGCLgAAAAAAAECUoAsAAAAAAAAQJegCAAAAAAAARAm6AAAAAAAAAFGCLgAAAAAA\n",
       "AECUoAsAAAAAAAAQJegCAAAAAAAARAm6AAAAAAAAAFGCLgAAAAAAAECUoAsAAAAAAAAQJegCAAAA\n",
       "AAAARAm6AAAAAAAAAFGCLgAAAAAAAECUoAsAAAAAAAAQJegCAAAAAAAARAm6AAAAAAAAAFGCLgAA\n",
       "AAAAAECUoAsAAAAAAAAQJegCAAAAAAAARAm6AAAAAAAAAFGCLgAAAAAAAECUoAsAAAAAAAAQJegC\n",
       "AAAAAAAARAm6AAAAAAAAAFGCLgAAAAAAAECUoAsAAAAAAAAQJegCAAAAAAAARAm6AAAAAAAAAFGC\n",
       "LgAAAAAAAECUoAsAAAAAAAAQJegCAAAAAAAARAm6AAAAAAAAAFGCLgAAAAAAAECUoAsAAAAAAAAQ\n",
       "JegCAAAAAAAARAm6AAAAAAAAAFGCLgAAAAAAAECUoAsAAAAAAAAQJegCAAAAAAAARAm6AAAAAAAA\n",
       "AFGCLgAAAAAAAECUoAsAAAAAAAAQJegCAAAAAAAARAm6AAAAAAAAAFGCLgAAAAAAAECUoAsAAAAA\n",
       "AAAQJegCAAAAAAAARAm6AAAAAAAAAFGCLgAAAAAAAECUoAsAAAAAAAAQJegCAAAAAAAARAm6AAAA\n",
       "AAAAAFGCLgAAAAAAAECUoAsAAAAAAAAQJegCAAAAAAAARAm6AAAAAAAAAFGCLgAAAAAAAECUoAsA\n",
       "AAAAAAAQJegCAAAAAAAARAm6AAAAAAAAAFGCLgAAAAAAAECUoAsAAAAAAAAQJegCAAAAAAAARAm6\n",
       "AAAAAAAAAFGCLgAAAAAAAECUoAsAAAAAAAAQJegCAAAAAAAARAm6AAAAAAAAAFEv+yBmwPtfa9UA\n",
       "AAAASUVORK5CYII=\n",
       "\" transform=\"translate(205, 123)\"/>\n",
       "</g>\n",
       "<defs>\n",
       "  <clipPath id=\"clip263\">\n",
       "    <rect x=\"2160\" y=\"123\" width=\"73\" height=\"1301\"/>\n",
       "  </clipPath>\n",
       "</defs>\n",
       "<g clip-path=\"url(#clip263)\">\n",
       "<image width=\"72\" height=\"1300\" xlink:href=\"data:image/png;base64,\n",
       "iVBORw0KGgoAAAANSUhEUgAAAEgAAAUUCAYAAAB8mVRsAAALUklEQVR4nO3dwY3kRhBFQbaQ/lsh\n",
       "L6WtkgXKdyQPERYMHj641dWc2d+/5+/78L/+evsH+DqBgkBBoCBQmHP/fftn+DQLCgIFgYJAYe79\n",
       "8/bP8GkWFAQKAgWBgpN0sKAgUBAoCBTmekivLCgIFAQKAoW5x0N6Y0FBoCBQECg4SQcLCgIFgYJA\n",
       "wUM6WFAQKAgUBAquO4IFBYGCQEGgMI+T9MqCgkBBoCBQcN0RLCgIFAQKAoV5XHesLCgIFAQKAoV5\n",
       "zj9v/wyfZkFBoCBQECgIFFzaBwsKAgWBgkDBfVCwoCBQECgIFDykgwUFgYJAQaDguiNYUBAoCBQE\n",
       "CvNzkl5ZUBAoCBQECvMcf3B7Y0FBoCBQECg4SQcLCgIFgYJAwUk6WFAQKAgUBAre7ggWFAQKAgWB\n",
       "wvycpFcWFAQKAgWBglfwggUFgYJAQaDgJB0sKAgUBAoCBV8cBgsKAgWBgkBBoOCjRrCgIFAQKAgU\n",
       "fNQIFhQECgIFgYKTdLCgIFAQKAgU5jnn7Z/h0ywoCBQECgIFJ+lgQUGgIFAQKLiTDhYUBAoCBYGC\n",
       "h3SwoCBQECgIFObnTnplQUGgIFAQKDhJBwsKAgWBgkDB2x3BgoJAQaAgUHDdESwoCBQECgIF1x3B\n",
       "goJAQaAgUHDdESwoCBQECgIFgYJ/xYIFBYGCQEGg4FcygwUFgYJAQaDgJB0sKAgUBAoCBQ/pYEFB\n",
       "oCBQECh4SAcLCgIFgYJAwUM6WFAQKAgUBArzXA/pjQUFgYJAQaDgJB0sKAgUBAoCBQ/pYEFBoCBQ\n",
       "ECh4SAcLCgIFgYJAYZ5z3/4ZPs2CgkBBoCBQcJIOFhQECgIFgYKTdLCgIFAQKAgUBAo+agQLCgIF\n",
       "gYJAwUeNYEFBoCBQECjM4yC9sqAgUBAoCBTmuU7SGwsKAgWBgkDBSTpYUBAoCBQECh7SwYKCQEGg\n",
       "IFAYf4BqZ0FBoCBQECg4SQcLCgIFgYJAwUM6WFAQKAgUBArznN/bP8OnWVAQKAgUBApzr4f0xoKC\n",
       "QEGgIFBw3REsKAgUBAoCBdcdwYKCQEGgIFAQKMw9Gm3UCQIFgYJAwUeNYEFBoCBQECjM45vVlQUF\n",
       "gYJAQaAw10l6ZUFBoCBQECjM4056pU4QKAgUBApO0sGCgkBBoCBQcCcdLCgIFAQKAgWv4AV1gkBB\n",
       "oCBQ8ApesKAgUBAoCBTcSQcLCgIFgYJAYe7VaKNOECgIFAQKrjuCBQWBgkBBoCBQcB8ULCgIFAQK\n",
       "AoV53Aet1AkCBYGCQMFJOlhQECgIFAQKHtLBgoJAQaAgUPArmcGCgkBBoCBQ8CuZQZ0gUBAoCBT8\n",
       "V8bBgoJAQaAgUHAnHSwoCBQECgIFf3A7qBMECgIFgYLrjmBBQaAgUBAouO4IFhQECgIFgYKTdLCg\n",
       "IFAQKAgUvIIX1AkCBYGCQEGg4KNGsKAgUBAoCBRc2gcLCgIFgYJAwUk6WFAQKAgUBAr+24hgQUGg\n",
       "IFAQKPgP2II6QaAgUBAouO4IFhQECgIFgYIvDoMFBYGCQEGg4CQdLCgIFAQKAoU5HtIrCwoCBYGC\n",
       "QMGvZAZ1gkBBoCBQcN0RLCgIFAQKAgUP6WBBQaAgUBAoeLsjWFAQKAgUBAoCBR81ggUFgYJAQaDg\n",
       "IR0sKAgUBAoCBb83H9QJAgWBgkBhjkv7lQUFgYJAQaDguiNYUBAoCBQECh7SwYKCQEGgIFDwkA4W\n",
       "FAQKAgWBgj9uEiwoCBQECgIFJ+lgQUGgIFAQKHhIBwsKAgWBgkDBe9JBnSBQECgIFLwnHSwoCBQE\n",
       "CgIF1x3BgoJAQaAgUBAo+FcsWFAQKAgUBAreUQwWFAQKAgWBgpN0sKAgUBAoCBTmPh7SGwsKAgWB\n",
       "gkDBdUewoCBQECgIFFx3BAsKAgWBgkDBSTpYUBAoCBQECk7SwYKCQEGgIFBwkg4WFAQKAgWBgpN0\n",
       "sKAgUBAoCBQ8pIMFBYGCQEGgMMd70isLCgIFgYJAwUk6WFAQKAgUBAoCBd+sBgsKAgWBgkBh7n37\n",
       "R/g2CwoCBYGCQMFJOlhQECgIFAQK/gJVsKAgUBAoCBScpIMFBYGCQEGg4PWXYEFBoCBQECh4kTxY\n",
       "UBAoCBQECt7uCBYUBAoCBYGCO+lgQUGgIFAQKLiTDhYUBAoCBYGCO+lgQUGgIFAQKLjuCBYUBAoC\n",
       "BYGCQME3q8GCgkBBoCBQcB8ULCgIFAQKAgXfrAYLCgIFgYJAYc7bP8HHWVAQKAgUBApO0sGCgkBB\n",
       "oCBQ8PpLsKAgUBAoCBRcdwQLCgIFgYJAwXVHsKAgUBAoCBScpIMFBYGCQEGg4CQdLCgIFAQKAgVf\n",
       "HAYLCgIFgYJAYfxW+M6CgkBBoCBQcJIOFhQECgIFgYJAwTerwYKCQEGgIFDwzWqwoCBQECgIFJyk\n",
       "gwUFgYJAQaDgJB0sKAgUBAoChTnef1lZUBAoCBQECq47ggUFgYJAQaDguiNYUBAoCBQECk7SwYKC\n",
       "QEGgIFDwP/UGCwoCBYGCQMH/1BssKAgUBAoCBW93BAsKAgWBgkDBX6AKFhQECgIFgYK/QBUsKAgU\n",
       "BAoCBYGCb1aDBQWBgkBBoOAdxWBBQaAgUBAo+G2fYEFBoCBQECg4SQcLCgIFgYJAwTuKwYKCQEGg\n",
       "IFDwjmKwoCBQECgIFJykgwUFgYJAQaDgFbxgQUGgIFAQKPjjJsGCgkBBoCBQcN0RLCgIFAQKAgVf\n",
       "HAYLCgIFgYJAwUk6WFAQKAgUBApO0sGCgkBBoCBQECj4qBEsKAgUBAoCBQ/pYEFBoCBQECi4DwoW\n",
       "FAQKAgWBgpN0sKAgUBAoCBScpIMFBYGCQEGg4CQdLCgIFAQKAgV/3CRYUBAoCBQECv5XhGBBQaAg\n",
       "UBAouO4IFhQECgIFgcLcx1N6Y0FBoCBQECg4SQcLCgIFgYJAwReHwYKCQEGgIFDwxWGwoCBQECgI\n",
       "FAQK7oOCBQWBgkBBoOCb1WBBQaAgUBAoOEkHCwoCBYGCQMEfNwkWFAQKAgWBwhzvv6wsKAgUBAoC\n",
       "Ba+/BAsKAgWBgkBhrpP0yoKCQEGgIFBwkg4WFAQKAgWBgjvpYEFBoCBQECh4uyNYUBAoCBQECnP8\n",
       "MsvKgoJAQaAgUHDdESwoCBQECgIFgYLfmw8WFAQKAgWBgtdfggUFgYJAQaDg0j5YUBAoCBQECq47\n",
       "ggUFgYJAQaAw53HhsbGgIFAQKAgUXHcECwoCBYGCQMFDOlhQECgIFAQK7qSDBQWBgkBBoOBOOlhQ\n",
       "ECgIFAQKc35O0hsLCgIFgYJAwUk6WFAQKAgUBApzPaRXFhQECgIFgYKTdLCgIFAQKAgUBApzfv4V\n",
       "21hQECgIFAQKPmoECwoCBYGCQMGlfbCgIFAQKAgUnKSDBQWBgkBBoOAhHSwoCBQECgIFXxwGCwoC\n",
       "BYGCQGHu8+ftn+HTLCgIFAQKAgXXHcGCgkBBoCBQ8HZHsKAgUBAoCBTmXNcdGwsKAgWBgkDBSTpY\n",
       "UBAoCBQECnN8cbiyoCBQECgIFJykgwUFgYJAQaAgUPBRI1hQECgIFAQKc6+PGhsLCgIFgYJAwX1Q\n",
       "sKAgUBAoCBS8oxgsKAgUBAoCBSfpYEFBoCBQECjMdZJeWVAQKAgUBApO0sGCgkBBoCBQmOPtjpUF\n",
       "BYGCQEGg4G+5BgsKAgWBgkDBe9LBgoJAQaAgUHAnHSwoCBQECgIFJ+lgQUGgIFAQKHhIBwsKAgWB\n",
       "gkBBoOCb1WBBQaAgUBAo+KgRLCgIFAQKAoV5fLO6sqAgUBAoCBScpIMFBYGCQEGg4B3FYEFBoCBQ\n",
       "ECjM4yS9sqAgUBAoCBS83REsKAgUBAoCBV8cBgsKAgWBgkDBdUewoCBQECgIFOY+9+2f4dMsKAgU\n",
       "BAoCBdcdwYKCQEGgIFCYx0l6ZUFBoCBQECj8B4FI7TdsedWZAAAAAElFTkSuQmCC\n",
       "\" transform=\"translate(2161, 123)\"/>\n",
       "</g>\n",
       "<path clip-path=\"url(#clip260)\" d=\"M2280.7 1405.35 Q2277.09 1405.35 2275.26 1408.91 Q2273.45 1412.46 2273.45 1419.59 Q2273.45 1426.69 2275.26 1430.26 Q2277.09 1433.8 2280.7 1433.8 Q2284.33 1433.8 2286.14 1430.26 Q2287.97 1426.69 2287.97 1419.59 Q2287.97 1412.46 2286.14 1408.91 Q2284.33 1405.35 2280.7 1405.35 M2280.7 1401.65 Q2286.51 1401.65 2289.57 1406.25 Q2292.64 1410.84 2292.64 1419.59 Q2292.64 1428.31 2289.57 1432.92 Q2286.51 1437.5 2280.7 1437.5 Q2274.89 1437.5 2271.81 1432.92 Q2268.76 1428.31 2268.76 1419.59 Q2268.76 1410.84 2271.81 1406.25 Q2274.89 1401.65 2280.7 1401.65 Z\" fill=\"#000000\" fill-rule=\"evenodd\" fill-opacity=\"1\" /><path clip-path=\"url(#clip260)\" d=\"M2280.7 1275.38 Q2277.09 1275.38 2275.26 1278.94 Q2273.45 1282.49 2273.45 1289.61 Q2273.45 1296.72 2275.26 1300.29 Q2277.09 1303.83 2280.7 1303.83 Q2284.33 1303.83 2286.14 1300.29 Q2287.97 1296.72 2287.97 1289.61 Q2287.97 1282.49 2286.14 1278.94 Q2284.33 1275.38 2280.7 1275.38 M2280.7 1271.68 Q2286.51 1271.68 2289.57 1276.28 Q2292.64 1280.87 2292.64 1289.61 Q2292.64 1298.34 2289.57 1302.95 Q2286.51 1307.53 2280.7 1307.53 Q2274.89 1307.53 2271.81 1302.95 Q2268.76 1298.34 2268.76 1289.61 Q2268.76 1280.87 2271.81 1276.28 Q2274.89 1271.68 2280.7 1271.68 Z\" fill=\"#000000\" fill-rule=\"evenodd\" fill-opacity=\"1\" /><path clip-path=\"url(#clip260)\" d=\"M2300.86 1300.98 L2305.75 1300.98 L2305.75 1306.86 L2300.86 1306.86 L2300.86 1300.98 Z\" fill=\"#000000\" fill-rule=\"evenodd\" fill-opacity=\"1\" /><path clip-path=\"url(#clip260)\" d=\"M2316.74 1302.93 L2324.38 1302.93 L2324.38 1276.56 L2316.07 1278.23 L2316.07 1273.97 L2324.33 1272.3 L2329.01 1272.3 L2329.01 1302.93 L2336.65 1302.93 L2336.65 1306.86 L2316.74 1306.86 L2316.74 1302.93 Z\" fill=\"#000000\" fill-rule=\"evenodd\" fill-opacity=\"1\" /><path clip-path=\"url(#clip260)\" d=\"M2280.7 1145.41 Q2277.09 1145.41 2275.26 1148.97 Q2273.45 1152.51 2273.45 1159.64 Q2273.45 1166.75 2275.26 1170.32 Q2277.09 1173.86 2280.7 1173.86 Q2284.33 1173.86 2286.14 1170.32 Q2287.97 1166.75 2287.97 1159.64 Q2287.97 1152.51 2286.14 1148.97 Q2284.33 1145.41 2280.7 1145.41 M2280.7 1141.7 Q2286.51 1141.7 2289.57 1146.31 Q2292.64 1150.89 2292.64 1159.64 Q2292.64 1168.37 2289.57 1172.98 Q2286.51 1177.56 2280.7 1177.56 Q2274.89 1177.56 2271.81 1172.98 Q2268.76 1168.37 2268.76 1159.64 Q2268.76 1150.89 2271.81 1146.31 Q2274.89 1141.7 2280.7 1141.7 Z\" fill=\"#000000\" fill-rule=\"evenodd\" fill-opacity=\"1\" /><path clip-path=\"url(#clip260)\" d=\"M2300.86 1171.01 L2305.75 1171.01 L2305.75 1176.89 L2300.86 1176.89 L2300.86 1171.01 Z\" fill=\"#000000\" fill-rule=\"evenodd\" fill-opacity=\"1\" /><path clip-path=\"url(#clip260)\" d=\"M2319.96 1172.95 L2336.28 1172.95 L2336.28 1176.89 L2314.33 1176.89 L2314.33 1172.95 Q2317 1170.2 2321.58 1165.57 Q2326.19 1160.92 2327.37 1159.57 Q2329.61 1157.05 2330.49 1155.32 Q2331.39 1153.56 2331.39 1151.87 Q2331.39 1149.11 2329.45 1147.38 Q2327.53 1145.64 2324.43 1145.64 Q2322.23 1145.64 2319.77 1146.4 Q2317.34 1147.17 2314.57 1148.72 L2314.57 1144 Q2317.39 1142.86 2319.84 1142.28 Q2322.3 1141.7 2324.33 1141.7 Q2329.7 1141.7 2332.9 1144.39 Q2336.09 1147.07 2336.09 1151.57 Q2336.09 1153.7 2335.28 1155.62 Q2334.5 1157.51 2332.39 1160.11 Q2331.81 1160.78 2328.71 1164 Q2325.61 1167.19 2319.96 1172.95 Z\" fill=\"#000000\" fill-rule=\"evenodd\" fill-opacity=\"1\" /><path clip-path=\"url(#clip260)\" d=\"M2280.7 1015.44 Q2277.09 1015.44 2275.26 1019 Q2273.45 1022.54 2273.45 1029.67 Q2273.45 1036.78 2275.26 1040.34 Q2277.09 1043.89 2280.7 1043.89 Q2284.33 1043.89 2286.14 1040.34 Q2287.97 1036.78 2287.97 1029.67 Q2287.97 1022.54 2286.14 1019 Q2284.33 1015.44 2280.7 1015.44 M2280.7 1011.73 Q2286.51 1011.73 2289.57 1016.34 Q2292.64 1020.92 2292.64 1029.67 Q2292.64 1038.4 2289.57 1043.01 Q2286.51 1047.59 2280.7 1047.59 Q2274.89 1047.59 2271.81 1043.01 Q2268.76 1038.4 2268.76 1029.67 Q2268.76 1020.92 2271.81 1016.34 Q2274.89 1011.73 2280.7 1011.73 Z\" fill=\"#000000\" fill-rule=\"evenodd\" fill-opacity=\"1\" /><path clip-path=\"url(#clip260)\" d=\"M2300.86 1041.04 L2305.75 1041.04 L2305.75 1046.92 L2300.86 1046.92 L2300.86 1041.04 Z\" fill=\"#000000\" fill-rule=\"evenodd\" fill-opacity=\"1\" /><path clip-path=\"url(#clip260)\" d=\"M2330.1 1028.28 Q2333.45 1029 2335.33 1031.27 Q2337.23 1033.54 2337.23 1036.87 Q2337.23 1041.99 2333.71 1044.79 Q2330.19 1047.59 2323.71 1047.59 Q2321.53 1047.59 2319.22 1047.15 Q2316.93 1046.73 2314.47 1045.88 L2314.47 1041.36 Q2316.42 1042.5 2318.73 1043.08 Q2321.05 1043.65 2323.57 1043.65 Q2327.97 1043.65 2330.26 1041.92 Q2332.58 1040.18 2332.58 1036.87 Q2332.58 1033.82 2330.42 1032.1 Q2328.29 1030.37 2324.47 1030.37 L2320.45 1030.37 L2320.45 1026.53 L2324.66 1026.53 Q2328.11 1026.53 2329.94 1025.16 Q2331.76 1023.77 2331.76 1021.18 Q2331.76 1018.52 2329.87 1017.1 Q2327.99 1015.67 2324.47 1015.67 Q2322.55 1015.67 2320.35 1016.09 Q2318.15 1016.5 2315.51 1017.38 L2315.51 1013.22 Q2318.18 1012.47 2320.49 1012.1 Q2322.83 1011.73 2324.89 1011.73 Q2330.21 1011.73 2333.32 1014.16 Q2336.42 1016.57 2336.42 1020.69 Q2336.42 1023.56 2334.77 1025.55 Q2333.13 1027.52 2330.1 1028.28 Z\" fill=\"#000000\" fill-rule=\"evenodd\" fill-opacity=\"1\" /><path clip-path=\"url(#clip260)\" d=\"M2280.7 885.467 Q2277.09 885.467 2275.26 889.031 Q2273.45 892.573 2273.45 899.703 Q2273.45 906.809 2275.26 910.374 Q2277.09 913.916 2280.7 913.916 Q2284.33 913.916 2286.14 910.374 Q2287.97 906.809 2287.97 899.703 Q2287.97 892.573 2286.14 889.031 Q2284.33 885.467 2280.7 885.467 M2280.7 881.763 Q2286.51 881.763 2289.57 886.369 Q2292.64 890.953 2292.64 899.703 Q2292.64 908.429 2289.57 913.036 Q2286.51 917.619 2280.7 917.619 Q2274.89 917.619 2271.81 913.036 Q2268.76 908.429 2268.76 899.703 Q2268.76 890.953 2271.81 886.369 Q2274.89 881.763 2280.7 881.763 Z\" fill=\"#000000\" fill-rule=\"evenodd\" fill-opacity=\"1\" /><path clip-path=\"url(#clip260)\" d=\"M2300.86 911.068 L2305.75 911.068 L2305.75 916.948 L2300.86 916.948 L2300.86 911.068 Z\" fill=\"#000000\" fill-rule=\"evenodd\" fill-opacity=\"1\" /><path clip-path=\"url(#clip260)\" d=\"M2328.78 886.462 L2316.97 904.911 L2328.78 904.911 L2328.78 886.462 M2327.55 882.388 L2333.43 882.388 L2333.43 904.911 L2338.36 904.911 L2338.36 908.8 L2333.43 908.8 L2333.43 916.948 L2328.78 916.948 L2328.78 908.8 L2313.18 908.8 L2313.18 904.286 L2327.55 882.388 Z\" fill=\"#000000\" fill-rule=\"evenodd\" fill-opacity=\"1\" /><path clip-path=\"url(#clip260)\" d=\"M2280.7 755.496 Q2277.09 755.496 2275.26 759.061 Q2273.45 762.602 2273.45 769.732 Q2273.45 776.838 2275.26 780.403 Q2277.09 783.945 2280.7 783.945 Q2284.33 783.945 2286.14 780.403 Q2287.97 776.838 2287.97 769.732 Q2287.97 762.602 2286.14 759.061 Q2284.33 755.496 2280.7 755.496 M2280.7 751.792 Q2286.51 751.792 2289.57 756.399 Q2292.64 760.982 2292.64 769.732 Q2292.64 778.459 2289.57 783.065 Q2286.51 787.648 2280.7 787.648 Q2274.89 787.648 2271.81 783.065 Q2268.76 778.459 2268.76 769.732 Q2268.76 760.982 2271.81 756.399 Q2274.89 751.792 2280.7 751.792 Z\" fill=\"#000000\" fill-rule=\"evenodd\" fill-opacity=\"1\" /><path clip-path=\"url(#clip260)\" d=\"M2300.86 781.098 L2305.75 781.098 L2305.75 786.977 L2300.86 786.977 L2300.86 781.098 Z\" fill=\"#000000\" fill-rule=\"evenodd\" fill-opacity=\"1\" /><path clip-path=\"url(#clip260)\" d=\"M2315.98 752.417 L2334.33 752.417 L2334.33 756.352 L2320.26 756.352 L2320.26 764.825 Q2321.28 764.477 2322.3 764.315 Q2323.32 764.13 2324.33 764.13 Q2330.12 764.13 2333.5 767.301 Q2336.88 770.473 2336.88 775.889 Q2336.88 781.468 2333.41 784.57 Q2329.94 787.648 2323.62 787.648 Q2321.44 787.648 2319.17 787.278 Q2316.93 786.908 2314.52 786.167 L2314.52 781.468 Q2316.6 782.602 2318.83 783.158 Q2321.05 783.713 2323.52 783.713 Q2327.53 783.713 2329.87 781.607 Q2332.2 779.5 2332.2 775.889 Q2332.2 772.278 2329.87 770.172 Q2327.53 768.065 2323.52 768.065 Q2321.65 768.065 2319.77 768.482 Q2317.92 768.899 2315.98 769.778 L2315.98 752.417 Z\" fill=\"#000000\" fill-rule=\"evenodd\" fill-opacity=\"1\" /><path clip-path=\"url(#clip260)\" d=\"M2280.7 625.525 Q2277.09 625.525 2275.26 629.09 Q2273.45 632.632 2273.45 639.761 Q2273.45 646.868 2275.26 650.432 Q2277.09 653.974 2280.7 653.974 Q2284.33 653.974 2286.14 650.432 Q2287.97 646.868 2287.97 639.761 Q2287.97 632.632 2286.14 629.09 Q2284.33 625.525 2280.7 625.525 M2280.7 621.821 Q2286.51 621.821 2289.57 626.428 Q2292.64 631.011 2292.64 639.761 Q2292.64 648.488 2289.57 653.094 Q2286.51 657.678 2280.7 657.678 Q2274.89 657.678 2271.81 653.094 Q2268.76 648.488 2268.76 639.761 Q2268.76 631.011 2271.81 626.428 Q2274.89 621.821 2280.7 621.821 Z\" fill=\"#000000\" fill-rule=\"evenodd\" fill-opacity=\"1\" /><path clip-path=\"url(#clip260)\" d=\"M2300.86 651.127 L2305.75 651.127 L2305.75 657.006 L2300.86 657.006 L2300.86 651.127 Z\" fill=\"#000000\" fill-rule=\"evenodd\" fill-opacity=\"1\" /><path clip-path=\"url(#clip260)\" d=\"M2326.51 637.863 Q2323.36 637.863 2321.51 640.016 Q2319.68 642.169 2319.68 645.919 Q2319.68 649.645 2321.51 651.821 Q2323.36 653.974 2326.51 653.974 Q2329.66 653.974 2331.49 651.821 Q2333.34 649.645 2333.34 645.919 Q2333.34 642.169 2331.49 640.016 Q2329.66 637.863 2326.51 637.863 M2335.79 623.21 L2335.79 627.47 Q2334.03 626.636 2332.23 626.196 Q2330.45 625.757 2328.69 625.757 Q2324.06 625.757 2321.6 628.882 Q2319.17 632.007 2318.83 638.326 Q2320.19 636.312 2322.25 635.247 Q2324.31 634.159 2326.79 634.159 Q2332 634.159 2335.01 637.331 Q2338.04 640.479 2338.04 645.919 Q2338.04 651.243 2334.89 654.46 Q2331.74 657.678 2326.51 657.678 Q2320.51 657.678 2317.34 653.094 Q2314.17 648.488 2314.17 639.761 Q2314.17 631.567 2318.06 626.706 Q2321.95 621.821 2328.5 621.821 Q2330.26 621.821 2332.04 622.169 Q2333.85 622.516 2335.79 623.21 Z\" fill=\"#000000\" fill-rule=\"evenodd\" fill-opacity=\"1\" /><path clip-path=\"url(#clip260)\" d=\"M2280.7 495.554 Q2277.09 495.554 2275.26 499.119 Q2273.45 502.661 2273.45 509.79 Q2273.45 516.897 2275.26 520.462 Q2277.09 524.003 2280.7 524.003 Q2284.33 524.003 2286.14 520.462 Q2287.97 516.897 2287.97 509.79 Q2287.97 502.661 2286.14 499.119 Q2284.33 495.554 2280.7 495.554 M2280.7 491.851 Q2286.51 491.851 2289.57 496.457 Q2292.64 501.04 2292.64 509.79 Q2292.64 518.517 2289.57 523.124 Q2286.51 527.707 2280.7 527.707 Q2274.89 527.707 2271.81 523.124 Q2268.76 518.517 2268.76 509.79 Q2268.76 501.04 2271.81 496.457 Q2274.89 491.851 2280.7 491.851 Z\" fill=\"#000000\" fill-rule=\"evenodd\" fill-opacity=\"1\" /><path clip-path=\"url(#clip260)\" d=\"M2300.86 521.156 L2305.75 521.156 L2305.75 527.036 L2300.86 527.036 L2300.86 521.156 Z\" fill=\"#000000\" fill-rule=\"evenodd\" fill-opacity=\"1\" /><path clip-path=\"url(#clip260)\" d=\"M2314.75 492.476 L2336.97 492.476 L2336.97 494.466 L2324.43 527.036 L2319.54 527.036 L2331.35 496.411 L2314.75 496.411 L2314.75 492.476 Z\" fill=\"#000000\" fill-rule=\"evenodd\" fill-opacity=\"1\" /><path clip-path=\"url(#clip260)\" d=\"M2280.7 365.584 Q2277.09 365.584 2275.26 369.148 Q2273.45 372.69 2273.45 379.82 Q2273.45 386.926 2275.26 390.491 Q2277.09 394.032 2280.7 394.032 Q2284.33 394.032 2286.14 390.491 Q2287.97 386.926 2287.97 379.82 Q2287.97 372.69 2286.14 369.148 Q2284.33 365.584 2280.7 365.584 M2280.7 361.88 Q2286.51 361.88 2289.57 366.486 Q2292.64 371.07 2292.64 379.82 Q2292.64 388.546 2289.57 393.153 Q2286.51 397.736 2280.7 397.736 Q2274.89 397.736 2271.81 393.153 Q2268.76 388.546 2268.76 379.82 Q2268.76 371.07 2271.81 366.486 Q2274.89 361.88 2280.7 361.88 Z\" fill=\"#000000\" fill-rule=\"evenodd\" fill-opacity=\"1\" /><path clip-path=\"url(#clip260)\" d=\"M2300.86 391.185 L2305.75 391.185 L2305.75 397.065 L2300.86 397.065 L2300.86 391.185 Z\" fill=\"#000000\" fill-rule=\"evenodd\" fill-opacity=\"1\" /><path clip-path=\"url(#clip260)\" d=\"M2325.93 380.653 Q2322.6 380.653 2320.68 382.435 Q2318.78 384.218 2318.78 387.343 Q2318.78 390.468 2320.68 392.25 Q2322.6 394.032 2325.93 394.032 Q2329.26 394.032 2331.19 392.25 Q2333.11 390.445 2333.11 387.343 Q2333.11 384.218 2331.19 382.435 Q2329.29 380.653 2325.93 380.653 M2321.26 378.662 Q2318.25 377.921 2316.56 375.861 Q2314.89 373.801 2314.89 370.838 Q2314.89 366.695 2317.83 364.287 Q2320.79 361.88 2325.93 361.88 Q2331.09 361.88 2334.03 364.287 Q2336.97 366.695 2336.97 370.838 Q2336.97 373.801 2335.28 375.861 Q2333.62 377.921 2330.63 378.662 Q2334.01 379.449 2335.89 381.741 Q2337.78 384.033 2337.78 387.343 Q2337.78 392.366 2334.7 395.051 Q2331.65 397.736 2325.93 397.736 Q2320.21 397.736 2317.14 395.051 Q2314.08 392.366 2314.08 387.343 Q2314.08 384.033 2315.98 381.741 Q2317.88 379.449 2321.26 378.662 M2319.54 371.278 Q2319.54 373.963 2321.21 375.468 Q2322.9 376.972 2325.93 376.972 Q2328.94 376.972 2330.63 375.468 Q2332.34 373.963 2332.34 371.278 Q2332.34 368.593 2330.63 367.088 Q2328.94 365.584 2325.93 365.584 Q2322.9 365.584 2321.21 367.088 Q2319.54 368.593 2319.54 371.278 Z\" fill=\"#000000\" fill-rule=\"evenodd\" fill-opacity=\"1\" /><path clip-path=\"url(#clip260)\" d=\"M2280.7 235.613 Q2277.09 235.613 2275.26 239.178 Q2273.45 242.719 2273.45 249.849 Q2273.45 256.955 2275.26 260.52 Q2277.09 264.062 2280.7 264.062 Q2284.33 264.062 2286.14 260.52 Q2287.97 256.955 2287.97 249.849 Q2287.97 242.719 2286.14 239.178 Q2284.33 235.613 2280.7 235.613 M2280.7 231.909 Q2286.51 231.909 2289.57 236.516 Q2292.64 241.099 2292.64 249.849 Q2292.64 258.576 2289.57 263.182 Q2286.51 267.765 2280.7 267.765 Q2274.89 267.765 2271.81 263.182 Q2268.76 258.576 2268.76 249.849 Q2268.76 241.099 2271.81 236.516 Q2274.89 231.909 2280.7 231.909 Z\" fill=\"#000000\" fill-rule=\"evenodd\" fill-opacity=\"1\" /><path clip-path=\"url(#clip260)\" d=\"M2300.86 261.214 L2305.75 261.214 L2305.75 267.094 L2300.86 267.094 L2300.86 261.214 Z\" fill=\"#000000\" fill-rule=\"evenodd\" fill-opacity=\"1\" /><path clip-path=\"url(#clip260)\" d=\"M2316.07 266.377 L2316.07 262.117 Q2317.83 262.951 2319.64 263.39 Q2321.44 263.83 2323.18 263.83 Q2327.81 263.83 2330.24 260.728 Q2332.69 257.603 2333.04 251.261 Q2331.7 253.252 2329.64 254.316 Q2327.58 255.381 2325.08 255.381 Q2319.89 255.381 2316.86 252.256 Q2313.85 249.108 2313.85 243.668 Q2313.85 238.344 2317 235.127 Q2320.14 231.909 2325.38 231.909 Q2331.37 231.909 2334.52 236.516 Q2337.69 241.099 2337.69 249.849 Q2337.69 258.02 2333.8 262.904 Q2329.94 267.765 2323.39 267.765 Q2321.63 267.765 2319.82 267.418 Q2318.01 267.071 2316.07 266.377 M2325.38 251.724 Q2328.52 251.724 2330.35 249.571 Q2332.2 247.418 2332.2 243.668 Q2332.2 239.941 2330.35 237.789 Q2328.52 235.613 2325.38 235.613 Q2322.23 235.613 2320.38 237.789 Q2318.55 239.941 2318.55 243.668 Q2318.55 247.418 2320.38 249.571 Q2322.23 251.724 2325.38 251.724 Z\" fill=\"#000000\" fill-rule=\"evenodd\" fill-opacity=\"1\" /><path clip-path=\"url(#clip260)\" d=\"M2269.43 133.188 L2277.07 133.188 L2277.07 106.823 L2268.76 108.489 L2268.76 104.23 L2277.02 102.563 L2281.7 102.563 L2281.7 133.188 L2289.33 133.188 L2289.33 137.123 L2269.43 137.123 L2269.43 133.188 Z\" fill=\"#000000\" fill-rule=\"evenodd\" fill-opacity=\"1\" /><path clip-path=\"url(#clip260)\" d=\"M2298.78 131.244 L2303.66 131.244 L2303.66 137.123 L2298.78 137.123 L2298.78 131.244 Z\" fill=\"#000000\" fill-rule=\"evenodd\" fill-opacity=\"1\" /><path clip-path=\"url(#clip260)\" d=\"M2323.85 105.642 Q2320.24 105.642 2318.41 109.207 Q2316.6 112.748 2316.6 119.878 Q2316.6 126.984 2318.41 130.549 Q2320.24 134.091 2323.85 134.091 Q2327.48 134.091 2329.29 130.549 Q2331.12 126.984 2331.12 119.878 Q2331.12 112.748 2329.29 109.207 Q2327.48 105.642 2323.85 105.642 M2323.85 101.938 Q2329.66 101.938 2332.71 106.545 Q2335.79 111.128 2335.79 119.878 Q2335.79 128.605 2332.71 133.211 Q2329.66 137.795 2323.85 137.795 Q2318.04 137.795 2314.96 133.211 Q2311.9 128.605 2311.9 119.878 Q2311.9 111.128 2314.96 106.545 Q2318.04 101.938 2323.85 101.938 Z\" fill=\"#000000\" fill-rule=\"evenodd\" fill-opacity=\"1\" /><polyline clip-path=\"url(#clip260)\" style=\"stroke:#000000; stroke-linecap:butt; stroke-linejoin:round; stroke-width:4; stroke-opacity:1; fill:none\" points=\"\n",
       "  2232.76,1423.18 2232.76,1423.18 2256.76,1423.18 2232.76,1423.18 2232.76,1293.21 2256.76,1293.21 2232.76,1293.21 2232.76,1163.24 2256.76,1163.24 2232.76,1163.24 \n",
       "  2232.76,1033.27 2256.76,1033.27 2232.76,1033.27 2232.76,903.297 2256.76,903.297 2232.76,903.297 2232.76,773.326 2256.76,773.326 2232.76,773.326 2232.76,643.355 \n",
       "  2256.76,643.355 2232.76,643.355 2232.76,513.384 2256.76,513.384 2232.76,513.384 2232.76,383.414 2256.76,383.414 2232.76,383.414 2232.76,253.443 2256.76,253.443 \n",
       "  2232.76,253.443 2232.76,123.472 2256.76,123.472 2232.76,123.472 \n",
       "  \"/>\n",
       "</svg>\n"
      ]
     },
     "execution_count": 133,
     "metadata": {},
     "output_type": "execute_result"
    }
   ],
   "source": [
    "p1 = heatmap(bel[:,2,:], xlabel=\"n\", ylabel=\"i\", title=\"x=1\")"
   ]
  },
  {
   "cell_type": "code",
   "execution_count": 134,
   "metadata": {},
   "outputs": [
    {
     "name": "stdout",
     "output_type": "stream",
     "text": [
      "(xnsol[i], maxbel[i]) = ((1, 24), 1.0f0)\n"
     ]
    },
    {
     "data": {
      "image/svg+xml": [
       "<?xml version=\"1.0\" encoding=\"utf-8\"?>\n",
       "<svg xmlns=\"http://www.w3.org/2000/svg\" xmlns:xlink=\"http://www.w3.org/1999/xlink\" width=\"600\" height=\"400\" viewBox=\"0 0 2400 1600\">\n",
       "<defs>\n",
       "  <clipPath id=\"clip300\">\n",
       "    <rect x=\"0\" y=\"0\" width=\"2400\" height=\"1600\"/>\n",
       "  </clipPath>\n",
       "</defs>\n",
       "<path clip-path=\"url(#clip300)\" d=\"\n",
       "M0 1600 L2400 1600 L2400 0 L0 0  Z\n",
       "  \" fill=\"#ffffff\" fill-rule=\"evenodd\" fill-opacity=\"1\"/>\n",
       "<defs>\n",
       "  <clipPath id=\"clip301\">\n",
       "    <rect x=\"480\" y=\"0\" width=\"1681\" height=\"1600\"/>\n",
       "  </clipPath>\n",
       "</defs>\n",
       "<path clip-path=\"url(#clip300)\" d=\"\n",
       "M186.274 1486.45 L2352.76 1486.45 L2352.76 123.472 L186.274 123.472  Z\n",
       "  \" fill=\"#ffffff\" fill-rule=\"evenodd\" fill-opacity=\"1\"/>\n",
       "<defs>\n",
       "  <clipPath id=\"clip302\">\n",
       "    <rect x=\"186\" y=\"123\" width=\"2167\" height=\"1364\"/>\n",
       "  </clipPath>\n",
       "</defs>\n",
       "<polyline clip-path=\"url(#clip302)\" style=\"stroke:#000000; stroke-linecap:butt; stroke-linejoin:round; stroke-width:2; stroke-opacity:0.1; fill:none\" points=\"\n",
       "  247.59,1486.45 247.59,123.472 \n",
       "  \"/>\n",
       "<polyline clip-path=\"url(#clip302)\" style=\"stroke:#000000; stroke-linecap:butt; stroke-linejoin:round; stroke-width:2; stroke-opacity:0.1; fill:none\" points=\"\n",
       "  746.09,1486.45 746.09,123.472 \n",
       "  \"/>\n",
       "<polyline clip-path=\"url(#clip302)\" style=\"stroke:#000000; stroke-linecap:butt; stroke-linejoin:round; stroke-width:2; stroke-opacity:0.1; fill:none\" points=\"\n",
       "  1244.59,1486.45 1244.59,123.472 \n",
       "  \"/>\n",
       "<polyline clip-path=\"url(#clip302)\" style=\"stroke:#000000; stroke-linecap:butt; stroke-linejoin:round; stroke-width:2; stroke-opacity:0.1; fill:none\" points=\"\n",
       "  1743.09,1486.45 1743.09,123.472 \n",
       "  \"/>\n",
       "<polyline clip-path=\"url(#clip302)\" style=\"stroke:#000000; stroke-linecap:butt; stroke-linejoin:round; stroke-width:2; stroke-opacity:0.1; fill:none\" points=\"\n",
       "  2241.59,1486.45 2241.59,123.472 \n",
       "  \"/>\n",
       "<polyline clip-path=\"url(#clip300)\" style=\"stroke:#000000; stroke-linecap:butt; stroke-linejoin:round; stroke-width:4; stroke-opacity:1; fill:none\" points=\"\n",
       "  186.274,1486.45 2352.76,1486.45 \n",
       "  \"/>\n",
       "<polyline clip-path=\"url(#clip300)\" style=\"stroke:#000000; stroke-linecap:butt; stroke-linejoin:round; stroke-width:4; stroke-opacity:1; fill:none\" points=\"\n",
       "  247.59,1486.45 247.59,1467.55 \n",
       "  \"/>\n",
       "<polyline clip-path=\"url(#clip300)\" style=\"stroke:#000000; stroke-linecap:butt; stroke-linejoin:round; stroke-width:4; stroke-opacity:1; fill:none\" points=\"\n",
       "  746.09,1486.45 746.09,1467.55 \n",
       "  \"/>\n",
       "<polyline clip-path=\"url(#clip300)\" style=\"stroke:#000000; stroke-linecap:butt; stroke-linejoin:round; stroke-width:4; stroke-opacity:1; fill:none\" points=\"\n",
       "  1244.59,1486.45 1244.59,1467.55 \n",
       "  \"/>\n",
       "<polyline clip-path=\"url(#clip300)\" style=\"stroke:#000000; stroke-linecap:butt; stroke-linejoin:round; stroke-width:4; stroke-opacity:1; fill:none\" points=\"\n",
       "  1743.09,1486.45 1743.09,1467.55 \n",
       "  \"/>\n",
       "<polyline clip-path=\"url(#clip300)\" style=\"stroke:#000000; stroke-linecap:butt; stroke-linejoin:round; stroke-width:4; stroke-opacity:1; fill:none\" points=\"\n",
       "  2241.59,1486.45 2241.59,1467.55 \n",
       "  \"/>\n",
       "<path clip-path=\"url(#clip300)\" d=\"M247.59 1517.37 Q243.978 1517.37 242.15 1520.93 Q240.344 1524.47 240.344 1531.6 Q240.344 1538.71 242.15 1542.27 Q243.978 1545.82 247.59 1545.82 Q251.224 1545.82 253.029 1542.27 Q254.858 1538.71 254.858 1531.6 Q254.858 1524.47 253.029 1520.93 Q251.224 1517.37 247.59 1517.37 M247.59 1513.66 Q253.4 1513.66 256.455 1518.27 Q259.534 1522.85 259.534 1531.6 Q259.534 1540.33 256.455 1544.94 Q253.4 1549.52 247.59 1549.52 Q241.779 1549.52 238.701 1544.94 Q235.645 1540.33 235.645 1531.6 Q235.645 1522.85 238.701 1518.27 Q241.779 1513.66 247.59 1513.66 Z\" fill=\"#000000\" fill-rule=\"evenodd\" fill-opacity=\"1\" /><path clip-path=\"url(#clip300)\" d=\"M720.777 1544.91 L728.416 1544.91 L728.416 1518.55 L720.106 1520.21 L720.106 1515.95 L728.37 1514.29 L733.046 1514.29 L733.046 1544.91 L740.685 1544.91 L740.685 1548.85 L720.777 1548.85 L720.777 1544.91 Z\" fill=\"#000000\" fill-rule=\"evenodd\" fill-opacity=\"1\" /><path clip-path=\"url(#clip300)\" d=\"M760.129 1517.37 Q756.518 1517.37 754.689 1520.93 Q752.884 1524.47 752.884 1531.6 Q752.884 1538.71 754.689 1542.27 Q756.518 1545.82 760.129 1545.82 Q763.763 1545.82 765.569 1542.27 Q767.397 1538.71 767.397 1531.6 Q767.397 1524.47 765.569 1520.93 Q763.763 1517.37 760.129 1517.37 M760.129 1513.66 Q765.939 1513.66 768.995 1518.27 Q772.073 1522.85 772.073 1531.6 Q772.073 1540.33 768.995 1544.94 Q765.939 1549.52 760.129 1549.52 Q754.319 1549.52 751.24 1544.94 Q748.185 1540.33 748.185 1531.6 Q748.185 1522.85 751.24 1518.27 Q754.319 1513.66 760.129 1513.66 Z\" fill=\"#000000\" fill-rule=\"evenodd\" fill-opacity=\"1\" /><path clip-path=\"url(#clip300)\" d=\"M1223.36 1544.91 L1239.68 1544.91 L1239.68 1548.85 L1217.74 1548.85 L1217.74 1544.91 Q1220.4 1542.16 1224.98 1537.53 Q1229.59 1532.88 1230.77 1531.53 Q1233.02 1529.01 1233.9 1527.27 Q1234.8 1525.51 1234.8 1523.82 Q1234.8 1521.07 1232.85 1519.33 Q1230.93 1517.6 1227.83 1517.6 Q1225.63 1517.6 1223.18 1518.36 Q1220.75 1519.13 1217.97 1520.68 L1217.97 1515.95 Q1220.79 1514.82 1223.25 1514.24 Q1225.7 1513.66 1227.74 1513.66 Q1233.11 1513.66 1236.3 1516.35 Q1239.5 1519.03 1239.5 1523.52 Q1239.5 1525.65 1238.69 1527.57 Q1237.9 1529.47 1235.79 1532.07 Q1235.21 1532.74 1232.11 1535.95 Q1229.01 1539.15 1223.36 1544.91 Z\" fill=\"#000000\" fill-rule=\"evenodd\" fill-opacity=\"1\" /><path clip-path=\"url(#clip300)\" d=\"M1259.5 1517.37 Q1255.89 1517.37 1254.06 1520.93 Q1252.25 1524.47 1252.25 1531.6 Q1252.25 1538.71 1254.06 1542.27 Q1255.89 1545.82 1259.5 1545.82 Q1263.13 1545.82 1264.94 1542.27 Q1266.77 1538.71 1266.77 1531.6 Q1266.77 1524.47 1264.94 1520.93 Q1263.13 1517.37 1259.5 1517.37 M1259.5 1513.66 Q1265.31 1513.66 1268.36 1518.27 Q1271.44 1522.85 1271.44 1531.6 Q1271.44 1540.33 1268.36 1544.94 Q1265.31 1549.52 1259.5 1549.52 Q1253.69 1549.52 1250.61 1544.94 Q1247.55 1540.33 1247.55 1531.6 Q1247.55 1522.85 1250.61 1518.27 Q1253.69 1513.66 1259.5 1513.66 Z\" fill=\"#000000\" fill-rule=\"evenodd\" fill-opacity=\"1\" /><path clip-path=\"url(#clip300)\" d=\"M1731.93 1530.21 Q1735.29 1530.93 1737.16 1533.2 Q1739.06 1535.47 1739.06 1538.8 Q1739.06 1543.92 1735.54 1546.72 Q1732.03 1549.52 1725.54 1549.52 Q1723.37 1549.52 1721.05 1549.08 Q1718.76 1548.66 1716.31 1547.81 L1716.31 1543.29 Q1718.25 1544.43 1720.57 1545.01 Q1722.88 1545.58 1725.41 1545.58 Q1729.8 1545.58 1732.09 1543.85 Q1734.41 1542.11 1734.41 1538.8 Q1734.41 1535.75 1732.26 1534.03 Q1730.13 1532.3 1726.31 1532.3 L1722.28 1532.3 L1722.28 1528.45 L1726.49 1528.45 Q1729.94 1528.45 1731.77 1527.09 Q1733.6 1525.7 1733.6 1523.11 Q1733.6 1520.45 1731.7 1519.03 Q1729.83 1517.6 1726.31 1517.6 Q1724.39 1517.6 1722.19 1518.01 Q1719.99 1518.43 1717.35 1519.31 L1717.35 1515.14 Q1720.01 1514.4 1722.33 1514.03 Q1724.66 1513.66 1726.72 1513.66 Q1732.05 1513.66 1735.15 1516.09 Q1738.25 1518.5 1738.25 1522.62 Q1738.25 1525.49 1736.61 1527.48 Q1734.97 1529.45 1731.93 1530.21 Z\" fill=\"#000000\" fill-rule=\"evenodd\" fill-opacity=\"1\" /><path clip-path=\"url(#clip300)\" d=\"M1757.93 1517.37 Q1754.32 1517.37 1752.49 1520.93 Q1750.68 1524.47 1750.68 1531.6 Q1750.68 1538.71 1752.49 1542.27 Q1754.32 1545.82 1757.93 1545.82 Q1761.56 1545.82 1763.37 1542.27 Q1765.2 1538.71 1765.2 1531.6 Q1765.2 1524.47 1763.37 1520.93 Q1761.56 1517.37 1757.93 1517.37 M1757.93 1513.66 Q1763.74 1513.66 1766.79 1518.27 Q1769.87 1522.85 1769.87 1531.6 Q1769.87 1540.33 1766.79 1544.94 Q1763.74 1549.52 1757.93 1549.52 Q1752.12 1549.52 1749.04 1544.94 Q1745.98 1540.33 1745.98 1531.6 Q1745.98 1522.85 1749.04 1518.27 Q1752.12 1513.66 1757.93 1513.66 Z\" fill=\"#000000\" fill-rule=\"evenodd\" fill-opacity=\"1\" /><path clip-path=\"url(#clip300)\" d=\"M2229.76 1518.36 L2217.96 1536.81 L2229.76 1536.81 L2229.76 1518.36 M2228.53 1514.29 L2234.41 1514.29 L2234.41 1536.81 L2239.35 1536.81 L2239.35 1540.7 L2234.41 1540.7 L2234.41 1548.85 L2229.76 1548.85 L2229.76 1540.7 L2214.16 1540.7 L2214.16 1536.19 L2228.53 1514.29 Z\" fill=\"#000000\" fill-rule=\"evenodd\" fill-opacity=\"1\" /><path clip-path=\"url(#clip300)\" d=\"M2257.08 1517.37 Q2253.47 1517.37 2251.64 1520.93 Q2249.83 1524.47 2249.83 1531.6 Q2249.83 1538.71 2251.64 1542.27 Q2253.47 1545.82 2257.08 1545.82 Q2260.71 1545.82 2262.52 1542.27 Q2264.34 1538.71 2264.34 1531.6 Q2264.34 1524.47 2262.52 1520.93 Q2260.71 1517.37 2257.08 1517.37 M2257.08 1513.66 Q2262.89 1513.66 2265.94 1518.27 Q2269.02 1522.85 2269.02 1531.6 Q2269.02 1540.33 2265.94 1544.94 Q2262.89 1549.52 2257.08 1549.52 Q2251.27 1549.52 2248.19 1544.94 Q2245.13 1540.33 2245.13 1531.6 Q2245.13 1522.85 2248.19 1518.27 Q2251.27 1513.66 2257.08 1513.66 Z\" fill=\"#000000\" fill-rule=\"evenodd\" fill-opacity=\"1\" /><polyline clip-path=\"url(#clip302)\" style=\"stroke:#000000; stroke-linecap:butt; stroke-linejoin:round; stroke-width:2; stroke-opacity:0.1; fill:none\" points=\"\n",
       "  186.274,1447.87 2352.76,1447.87 \n",
       "  \"/>\n",
       "<polyline clip-path=\"url(#clip302)\" style=\"stroke:#000000; stroke-linecap:butt; stroke-linejoin:round; stroke-width:2; stroke-opacity:0.1; fill:none\" points=\"\n",
       "  186.274,1126.42 2352.76,1126.42 \n",
       "  \"/>\n",
       "<polyline clip-path=\"url(#clip302)\" style=\"stroke:#000000; stroke-linecap:butt; stroke-linejoin:round; stroke-width:2; stroke-opacity:0.1; fill:none\" points=\"\n",
       "  186.274,804.96 2352.76,804.96 \n",
       "  \"/>\n",
       "<polyline clip-path=\"url(#clip302)\" style=\"stroke:#000000; stroke-linecap:butt; stroke-linejoin:round; stroke-width:2; stroke-opacity:0.1; fill:none\" points=\"\n",
       "  186.274,483.503 2352.76,483.503 \n",
       "  \"/>\n",
       "<polyline clip-path=\"url(#clip302)\" style=\"stroke:#000000; stroke-linecap:butt; stroke-linejoin:round; stroke-width:2; stroke-opacity:0.1; fill:none\" points=\"\n",
       "  186.274,162.047 2352.76,162.047 \n",
       "  \"/>\n",
       "<polyline clip-path=\"url(#clip300)\" style=\"stroke:#000000; stroke-linecap:butt; stroke-linejoin:round; stroke-width:4; stroke-opacity:1; fill:none\" points=\"\n",
       "  186.274,1486.45 186.274,123.472 \n",
       "  \"/>\n",
       "<polyline clip-path=\"url(#clip300)\" style=\"stroke:#000000; stroke-linecap:butt; stroke-linejoin:round; stroke-width:4; stroke-opacity:1; fill:none\" points=\"\n",
       "  186.274,1447.87 205.172,1447.87 \n",
       "  \"/>\n",
       "<polyline clip-path=\"url(#clip300)\" style=\"stroke:#000000; stroke-linecap:butt; stroke-linejoin:round; stroke-width:4; stroke-opacity:1; fill:none\" points=\"\n",
       "  186.274,1126.42 205.172,1126.42 \n",
       "  \"/>\n",
       "<polyline clip-path=\"url(#clip300)\" style=\"stroke:#000000; stroke-linecap:butt; stroke-linejoin:round; stroke-width:4; stroke-opacity:1; fill:none\" points=\"\n",
       "  186.274,804.96 205.172,804.96 \n",
       "  \"/>\n",
       "<polyline clip-path=\"url(#clip300)\" style=\"stroke:#000000; stroke-linecap:butt; stroke-linejoin:round; stroke-width:4; stroke-opacity:1; fill:none\" points=\"\n",
       "  186.274,483.503 205.172,483.503 \n",
       "  \"/>\n",
       "<polyline clip-path=\"url(#clip300)\" style=\"stroke:#000000; stroke-linecap:butt; stroke-linejoin:round; stroke-width:4; stroke-opacity:1; fill:none\" points=\"\n",
       "  186.274,162.047 205.172,162.047 \n",
       "  \"/>\n",
       "<path clip-path=\"url(#clip300)\" d=\"M62.9365 1433.67 Q59.3254 1433.67 57.4967 1437.24 Q55.6912 1440.78 55.6912 1447.91 Q55.6912 1455.01 57.4967 1458.58 Q59.3254 1462.12 62.9365 1462.12 Q66.5707 1462.12 68.3763 1458.58 Q70.205 1455.01 70.205 1447.91 Q70.205 1440.78 68.3763 1437.24 Q66.5707 1433.67 62.9365 1433.67 M62.9365 1429.97 Q68.7467 1429.97 71.8022 1434.57 Q74.8809 1439.16 74.8809 1447.91 Q74.8809 1456.63 71.8022 1461.24 Q68.7467 1465.82 62.9365 1465.82 Q57.1264 1465.82 54.0477 1461.24 Q50.9921 1456.63 50.9921 1447.91 Q50.9921 1439.16 54.0477 1434.57 Q57.1264 1429.97 62.9365 1429.97 Z\" fill=\"#000000\" fill-rule=\"evenodd\" fill-opacity=\"1\" /><path clip-path=\"url(#clip300)\" d=\"M83.0984 1459.27 L87.9827 1459.27 L87.9827 1465.15 L83.0984 1465.15 L83.0984 1459.27 Z\" fill=\"#000000\" fill-rule=\"evenodd\" fill-opacity=\"1\" /><path clip-path=\"url(#clip300)\" d=\"M108.168 1433.67 Q104.557 1433.67 102.728 1437.24 Q100.922 1440.78 100.922 1447.91 Q100.922 1455.01 102.728 1458.58 Q104.557 1462.12 108.168 1462.12 Q111.802 1462.12 113.608 1458.58 Q115.436 1455.01 115.436 1447.91 Q115.436 1440.78 113.608 1437.24 Q111.802 1433.67 108.168 1433.67 M108.168 1429.97 Q113.978 1429.97 117.033 1434.57 Q120.112 1439.16 120.112 1447.91 Q120.112 1456.63 117.033 1461.24 Q113.978 1465.82 108.168 1465.82 Q102.358 1465.82 99.2789 1461.24 Q96.2234 1456.63 96.2234 1447.91 Q96.2234 1439.16 99.2789 1434.57 Q102.358 1429.97 108.168 1429.97 Z\" fill=\"#000000\" fill-rule=\"evenodd\" fill-opacity=\"1\" /><path clip-path=\"url(#clip300)\" d=\"M138.33 1433.67 Q134.719 1433.67 132.89 1437.24 Q131.084 1440.78 131.084 1447.91 Q131.084 1455.01 132.89 1458.58 Q134.719 1462.12 138.33 1462.12 Q141.964 1462.12 143.769 1458.58 Q145.598 1455.01 145.598 1447.91 Q145.598 1440.78 143.769 1437.24 Q141.964 1433.67 138.33 1433.67 M138.33 1429.97 Q144.14 1429.97 147.195 1434.57 Q150.274 1439.16 150.274 1447.91 Q150.274 1456.63 147.195 1461.24 Q144.14 1465.82 138.33 1465.82 Q132.519 1465.82 129.441 1461.24 Q126.385 1456.63 126.385 1447.91 Q126.385 1439.16 129.441 1434.57 Q132.519 1429.97 138.33 1429.97 Z\" fill=\"#000000\" fill-rule=\"evenodd\" fill-opacity=\"1\" /><path clip-path=\"url(#clip300)\" d=\"M63.9319 1112.22 Q60.3208 1112.22 58.4921 1115.78 Q56.6865 1119.32 56.6865 1126.45 Q56.6865 1133.56 58.4921 1137.12 Q60.3208 1140.66 63.9319 1140.66 Q67.5661 1140.66 69.3717 1137.12 Q71.2004 1133.56 71.2004 1126.45 Q71.2004 1119.32 69.3717 1115.78 Q67.5661 1112.22 63.9319 1112.22 M63.9319 1108.51 Q69.742 1108.51 72.7976 1113.12 Q75.8763 1117.7 75.8763 1126.45 Q75.8763 1135.18 72.7976 1139.78 Q69.742 1144.37 63.9319 1144.37 Q58.1217 1144.37 55.043 1139.78 Q51.9875 1135.18 51.9875 1126.45 Q51.9875 1117.7 55.043 1113.12 Q58.1217 1108.51 63.9319 1108.51 Z\" fill=\"#000000\" fill-rule=\"evenodd\" fill-opacity=\"1\" /><path clip-path=\"url(#clip300)\" d=\"M84.0938 1137.82 L88.978 1137.82 L88.978 1143.7 L84.0938 1143.7 L84.0938 1137.82 Z\" fill=\"#000000\" fill-rule=\"evenodd\" fill-opacity=\"1\" /><path clip-path=\"url(#clip300)\" d=\"M103.191 1139.76 L119.51 1139.76 L119.51 1143.7 L97.566 1143.7 L97.566 1139.76 Q100.228 1137.01 104.811 1132.38 Q109.418 1127.72 110.598 1126.38 Q112.844 1123.86 113.723 1122.12 Q114.626 1120.36 114.626 1118.67 Q114.626 1115.92 112.682 1114.18 Q110.76 1112.45 107.658 1112.45 Q105.459 1112.45 103.006 1113.21 Q100.575 1113.97 97.7974 1115.53 L97.7974 1110.8 Q100.621 1109.67 103.075 1109.09 Q105.529 1108.51 107.566 1108.51 Q112.936 1108.51 116.131 1111.2 Q119.325 1113.88 119.325 1118.37 Q119.325 1120.5 118.515 1122.42 Q117.728 1124.32 115.621 1126.91 Q115.043 1127.59 111.941 1130.8 Q108.839 1134 103.191 1139.76 Z\" fill=\"#000000\" fill-rule=\"evenodd\" fill-opacity=\"1\" /><path clip-path=\"url(#clip300)\" d=\"M129.371 1109.14 L147.728 1109.14 L147.728 1113.07 L133.654 1113.07 L133.654 1121.54 Q134.672 1121.2 135.691 1121.03 Q136.709 1120.85 137.728 1120.85 Q143.515 1120.85 146.894 1124.02 Q150.274 1127.19 150.274 1132.61 Q150.274 1138.19 146.802 1141.29 Q143.33 1144.37 137.01 1144.37 Q134.834 1144.37 132.566 1144 Q130.32 1143.63 127.913 1142.89 L127.913 1138.19 Q129.996 1139.32 132.219 1139.88 Q134.441 1140.43 136.918 1140.43 Q140.922 1140.43 143.26 1138.33 Q145.598 1136.22 145.598 1132.61 Q145.598 1129 143.26 1126.89 Q140.922 1124.78 136.918 1124.78 Q135.043 1124.78 133.168 1125.2 Q131.316 1125.62 129.371 1126.5 L129.371 1109.14 Z\" fill=\"#000000\" fill-rule=\"evenodd\" fill-opacity=\"1\" /><path clip-path=\"url(#clip300)\" d=\"M62.9365 790.759 Q59.3254 790.759 57.4967 794.323 Q55.6912 797.865 55.6912 804.995 Q55.6912 812.101 57.4967 815.666 Q59.3254 819.208 62.9365 819.208 Q66.5707 819.208 68.3763 815.666 Q70.205 812.101 70.205 804.995 Q70.205 797.865 68.3763 794.323 Q66.5707 790.759 62.9365 790.759 M62.9365 787.055 Q68.7467 787.055 71.8022 791.661 Q74.8809 796.245 74.8809 804.995 Q74.8809 813.722 71.8022 818.328 Q68.7467 822.911 62.9365 822.911 Q57.1264 822.911 54.0477 818.328 Q50.9921 813.722 50.9921 804.995 Q50.9921 796.245 54.0477 791.661 Q57.1264 787.055 62.9365 787.055 Z\" fill=\"#000000\" fill-rule=\"evenodd\" fill-opacity=\"1\" /><path clip-path=\"url(#clip300)\" d=\"M83.0984 816.36 L87.9827 816.36 L87.9827 822.24 L83.0984 822.24 L83.0984 816.36 Z\" fill=\"#000000\" fill-rule=\"evenodd\" fill-opacity=\"1\" /><path clip-path=\"url(#clip300)\" d=\"M98.2141 787.68 L116.57 787.68 L116.57 791.615 L102.496 791.615 L102.496 800.087 Q103.515 799.74 104.534 799.578 Q105.552 799.393 106.571 799.393 Q112.358 799.393 115.737 802.564 Q119.117 805.735 119.117 811.152 Q119.117 816.731 115.645 819.833 Q112.172 822.911 105.853 822.911 Q103.677 822.911 101.409 822.541 Q99.1632 822.171 96.7558 821.43 L96.7558 816.731 Q98.8391 817.865 101.061 818.421 Q103.284 818.976 105.76 818.976 Q109.765 818.976 112.103 816.87 Q114.441 814.763 114.441 811.152 Q114.441 807.541 112.103 805.435 Q109.765 803.328 105.76 803.328 Q103.885 803.328 102.01 803.745 Q100.159 804.161 98.2141 805.041 L98.2141 787.68 Z\" fill=\"#000000\" fill-rule=\"evenodd\" fill-opacity=\"1\" /><path clip-path=\"url(#clip300)\" d=\"M138.33 790.759 Q134.719 790.759 132.89 794.323 Q131.084 797.865 131.084 804.995 Q131.084 812.101 132.89 815.666 Q134.719 819.208 138.33 819.208 Q141.964 819.208 143.769 815.666 Q145.598 812.101 145.598 804.995 Q145.598 797.865 143.769 794.323 Q141.964 790.759 138.33 790.759 M138.33 787.055 Q144.14 787.055 147.195 791.661 Q150.274 796.245 150.274 804.995 Q150.274 813.722 147.195 818.328 Q144.14 822.911 138.33 822.911 Q132.519 822.911 129.441 818.328 Q126.385 813.722 126.385 804.995 Q126.385 796.245 129.441 791.661 Q132.519 787.055 138.33 787.055 Z\" fill=\"#000000\" fill-rule=\"evenodd\" fill-opacity=\"1\" /><path clip-path=\"url(#clip300)\" d=\"M63.9319 469.302 Q60.3208 469.302 58.4921 472.867 Q56.6865 476.409 56.6865 483.538 Q56.6865 490.645 58.4921 494.209 Q60.3208 497.751 63.9319 497.751 Q67.5661 497.751 69.3717 494.209 Q71.2004 490.645 71.2004 483.538 Q71.2004 476.409 69.3717 472.867 Q67.5661 469.302 63.9319 469.302 M63.9319 465.598 Q69.742 465.598 72.7976 470.205 Q75.8763 474.788 75.8763 483.538 Q75.8763 492.265 72.7976 496.871 Q69.742 501.455 63.9319 501.455 Q58.1217 501.455 55.043 496.871 Q51.9875 492.265 51.9875 483.538 Q51.9875 474.788 55.043 470.205 Q58.1217 465.598 63.9319 465.598 Z\" fill=\"#000000\" fill-rule=\"evenodd\" fill-opacity=\"1\" /><path clip-path=\"url(#clip300)\" d=\"M84.0938 494.904 L88.978 494.904 L88.978 500.783 L84.0938 500.783 L84.0938 494.904 Z\" fill=\"#000000\" fill-rule=\"evenodd\" fill-opacity=\"1\" /><path clip-path=\"url(#clip300)\" d=\"M97.9826 466.223 L120.205 466.223 L120.205 468.214 L107.658 500.783 L102.774 500.783 L114.58 470.159 L97.9826 470.159 L97.9826 466.223 Z\" fill=\"#000000\" fill-rule=\"evenodd\" fill-opacity=\"1\" /><path clip-path=\"url(#clip300)\" d=\"M129.371 466.223 L147.728 466.223 L147.728 470.159 L133.654 470.159 L133.654 478.631 Q134.672 478.284 135.691 478.122 Q136.709 477.936 137.728 477.936 Q143.515 477.936 146.894 481.108 Q150.274 484.279 150.274 489.696 Q150.274 495.274 146.802 498.376 Q143.33 501.455 137.01 501.455 Q134.834 501.455 132.566 501.084 Q130.32 500.714 127.913 499.973 L127.913 495.274 Q129.996 496.408 132.219 496.964 Q134.441 497.52 136.918 497.52 Q140.922 497.52 143.26 495.413 Q145.598 493.307 145.598 489.696 Q145.598 486.084 143.26 483.978 Q140.922 481.872 136.918 481.872 Q135.043 481.872 133.168 482.288 Q131.316 482.705 129.371 483.584 L129.371 466.223 Z\" fill=\"#000000\" fill-rule=\"evenodd\" fill-opacity=\"1\" /><path clip-path=\"url(#clip300)\" d=\"M53.7467 175.392 L61.3856 175.392 L61.3856 149.026 L53.0754 150.693 L53.0754 146.434 L61.3393 144.767 L66.0152 144.767 L66.0152 175.392 L73.654 175.392 L73.654 179.327 L53.7467 179.327 L53.7467 175.392 Z\" fill=\"#000000\" fill-rule=\"evenodd\" fill-opacity=\"1\" /><path clip-path=\"url(#clip300)\" d=\"M83.0984 173.447 L87.9827 173.447 L87.9827 179.327 L83.0984 179.327 L83.0984 173.447 Z\" fill=\"#000000\" fill-rule=\"evenodd\" fill-opacity=\"1\" /><path clip-path=\"url(#clip300)\" d=\"M108.168 147.846 Q104.557 147.846 102.728 151.41 Q100.922 154.952 100.922 162.082 Q100.922 169.188 102.728 172.753 Q104.557 176.295 108.168 176.295 Q111.802 176.295 113.608 172.753 Q115.436 169.188 115.436 162.082 Q115.436 154.952 113.608 151.41 Q111.802 147.846 108.168 147.846 M108.168 144.142 Q113.978 144.142 117.033 148.748 Q120.112 153.332 120.112 162.082 Q120.112 170.808 117.033 175.415 Q113.978 179.998 108.168 179.998 Q102.358 179.998 99.2789 175.415 Q96.2234 170.808 96.2234 162.082 Q96.2234 153.332 99.2789 148.748 Q102.358 144.142 108.168 144.142 Z\" fill=\"#000000\" fill-rule=\"evenodd\" fill-opacity=\"1\" /><path clip-path=\"url(#clip300)\" d=\"M138.33 147.846 Q134.719 147.846 132.89 151.41 Q131.084 154.952 131.084 162.082 Q131.084 169.188 132.89 172.753 Q134.719 176.295 138.33 176.295 Q141.964 176.295 143.769 172.753 Q145.598 169.188 145.598 162.082 Q145.598 154.952 143.769 151.41 Q141.964 147.846 138.33 147.846 M138.33 144.142 Q144.14 144.142 147.195 148.748 Q150.274 153.332 150.274 162.082 Q150.274 170.808 147.195 175.415 Q144.14 179.998 138.33 179.998 Q132.519 179.998 129.441 175.415 Q126.385 170.808 126.385 162.082 Q126.385 153.332 129.441 148.748 Q132.519 144.142 138.33 144.142 Z\" fill=\"#000000\" fill-rule=\"evenodd\" fill-opacity=\"1\" /><path clip-path=\"url(#clip300)\" d=\"M1177.11 27.2059 L1184.57 27.2059 L1184.57 72.576 L1177.11 72.576 L1177.11 27.2059 M1177.11 9.54393 L1184.57 9.54393 L1184.57 18.9825 L1177.11 18.9825 L1177.11 9.54393 Z\" fill=\"#000000\" fill-rule=\"evenodd\" fill-opacity=\"1\" /><path clip-path=\"url(#clip300)\" d=\"M1201.14 34.9026 L1253.07 34.9026 L1253.07 41.7081 L1201.14 41.7081 L1201.14 34.9026 M1201.14 51.4303 L1253.07 51.4303 L1253.07 58.3168 L1201.14 58.3168 L1201.14 51.4303 Z\" fill=\"#000000\" fill-rule=\"evenodd\" fill-opacity=\"1\" /><path clip-path=\"url(#clip300)\" d=\"M1277.78 65.6895 L1306.34 65.6895 L1306.34 72.576 L1267.94 72.576 L1267.94 65.6895 Q1272.59 60.8689 1280.61 52.7671 Q1288.68 44.6248 1290.74 42.2752 Q1294.67 37.8598 1296.21 34.8216 Q1297.79 31.7429 1297.79 28.7857 Q1297.79 23.9651 1294.39 20.927 Q1291.03 17.8888 1285.6 17.8888 Q1281.75 17.8888 1277.45 19.2256 Q1273.2 20.5624 1268.34 23.2765 L1268.34 15.0127 Q1273.28 13.0277 1277.58 12.015 Q1281.87 11.0023 1285.44 11.0023 Q1294.83 11.0023 1300.42 15.7013 Q1306.01 20.4004 1306.01 28.2591 Q1306.01 31.9859 1304.6 35.3482 Q1303.22 38.6699 1299.53 43.2069 Q1298.52 44.3817 1293.09 50.0125 Q1287.66 55.6027 1277.78 65.6895 Z\" fill=\"#000000\" fill-rule=\"evenodd\" fill-opacity=\"1\" /><path clip-path=\"url(#clip300)\" d=\"M1341.01 17.4837 Q1334.69 17.4837 1331.49 23.7221 Q1328.33 29.92 1328.33 42.3968 Q1328.33 54.833 1331.49 61.0714 Q1334.69 67.2693 1341.01 67.2693 Q1347.37 67.2693 1350.53 61.0714 Q1353.73 54.833 1353.73 42.3968 Q1353.73 29.92 1350.53 23.7221 Q1347.37 17.4837 1341.01 17.4837 M1341.01 11.0023 Q1351.18 11.0023 1356.53 19.0636 Q1361.92 27.0843 1361.92 42.3968 Q1361.92 57.6687 1356.53 65.73 Q1351.18 73.7508 1341.01 73.7508 Q1330.85 73.7508 1325.46 65.73 Q1320.11 57.6687 1320.11 42.3968 Q1320.11 27.0843 1325.46 19.0636 Q1330.85 11.0023 1341.01 11.0023 Z\" fill=\"#000000\" fill-rule=\"evenodd\" fill-opacity=\"1\" /><circle clip-path=\"url(#clip302)\" cx=\"247.59\" cy=\"1447.87\" r=\"14\" fill=\"#009af9\" fill-rule=\"evenodd\" fill-opacity=\"1\" stroke=\"#000000\" stroke-opacity=\"1\" stroke-width=\"3.2\"/>\n",
       "<circle clip-path=\"url(#clip302)\" cx=\"297.44\" cy=\"1447.87\" r=\"14\" fill=\"#009af9\" fill-rule=\"evenodd\" fill-opacity=\"1\" stroke=\"#000000\" stroke-opacity=\"1\" stroke-width=\"3.2\"/>\n",
       "<circle clip-path=\"url(#clip302)\" cx=\"347.29\" cy=\"1447.87\" r=\"14\" fill=\"#009af9\" fill-rule=\"evenodd\" fill-opacity=\"1\" stroke=\"#000000\" stroke-opacity=\"1\" stroke-width=\"3.2\"/>\n",
       "<circle clip-path=\"url(#clip302)\" cx=\"397.14\" cy=\"1447.87\" r=\"14\" fill=\"#009af9\" fill-rule=\"evenodd\" fill-opacity=\"1\" stroke=\"#000000\" stroke-opacity=\"1\" stroke-width=\"3.2\"/>\n",
       "<circle clip-path=\"url(#clip302)\" cx=\"446.99\" cy=\"1447.87\" r=\"14\" fill=\"#009af9\" fill-rule=\"evenodd\" fill-opacity=\"1\" stroke=\"#000000\" stroke-opacity=\"1\" stroke-width=\"3.2\"/>\n",
       "<circle clip-path=\"url(#clip302)\" cx=\"496.84\" cy=\"1447.87\" r=\"14\" fill=\"#009af9\" fill-rule=\"evenodd\" fill-opacity=\"1\" stroke=\"#000000\" stroke-opacity=\"1\" stroke-width=\"3.2\"/>\n",
       "<circle clip-path=\"url(#clip302)\" cx=\"546.69\" cy=\"1447.87\" r=\"14\" fill=\"#009af9\" fill-rule=\"evenodd\" fill-opacity=\"1\" stroke=\"#000000\" stroke-opacity=\"1\" stroke-width=\"3.2\"/>\n",
       "<circle clip-path=\"url(#clip302)\" cx=\"596.54\" cy=\"1447.87\" r=\"14\" fill=\"#009af9\" fill-rule=\"evenodd\" fill-opacity=\"1\" stroke=\"#000000\" stroke-opacity=\"1\" stroke-width=\"3.2\"/>\n",
       "<circle clip-path=\"url(#clip302)\" cx=\"646.39\" cy=\"1447.87\" r=\"14\" fill=\"#009af9\" fill-rule=\"evenodd\" fill-opacity=\"1\" stroke=\"#000000\" stroke-opacity=\"1\" stroke-width=\"3.2\"/>\n",
       "<circle clip-path=\"url(#clip302)\" cx=\"696.24\" cy=\"1447.87\" r=\"14\" fill=\"#009af9\" fill-rule=\"evenodd\" fill-opacity=\"1\" stroke=\"#000000\" stroke-opacity=\"1\" stroke-width=\"3.2\"/>\n",
       "<circle clip-path=\"url(#clip302)\" cx=\"746.09\" cy=\"1447.87\" r=\"14\" fill=\"#009af9\" fill-rule=\"evenodd\" fill-opacity=\"1\" stroke=\"#000000\" stroke-opacity=\"1\" stroke-width=\"3.2\"/>\n",
       "<circle clip-path=\"url(#clip302)\" cx=\"795.94\" cy=\"1447.87\" r=\"14\" fill=\"#009af9\" fill-rule=\"evenodd\" fill-opacity=\"1\" stroke=\"#000000\" stroke-opacity=\"1\" stroke-width=\"3.2\"/>\n",
       "<circle clip-path=\"url(#clip302)\" cx=\"845.79\" cy=\"1447.87\" r=\"14\" fill=\"#009af9\" fill-rule=\"evenodd\" fill-opacity=\"1\" stroke=\"#000000\" stroke-opacity=\"1\" stroke-width=\"3.2\"/>\n",
       "<circle clip-path=\"url(#clip302)\" cx=\"895.64\" cy=\"1447.87\" r=\"14\" fill=\"#009af9\" fill-rule=\"evenodd\" fill-opacity=\"1\" stroke=\"#000000\" stroke-opacity=\"1\" stroke-width=\"3.2\"/>\n",
       "<circle clip-path=\"url(#clip302)\" cx=\"945.49\" cy=\"1447.87\" r=\"14\" fill=\"#009af9\" fill-rule=\"evenodd\" fill-opacity=\"1\" stroke=\"#000000\" stroke-opacity=\"1\" stroke-width=\"3.2\"/>\n",
       "<circle clip-path=\"url(#clip302)\" cx=\"995.34\" cy=\"1447.87\" r=\"14\" fill=\"#009af9\" fill-rule=\"evenodd\" fill-opacity=\"1\" stroke=\"#000000\" stroke-opacity=\"1\" stroke-width=\"3.2\"/>\n",
       "<circle clip-path=\"url(#clip302)\" cx=\"1045.19\" cy=\"1447.87\" r=\"14\" fill=\"#009af9\" fill-rule=\"evenodd\" fill-opacity=\"1\" stroke=\"#000000\" stroke-opacity=\"1\" stroke-width=\"3.2\"/>\n",
       "<circle clip-path=\"url(#clip302)\" cx=\"1095.04\" cy=\"1447.87\" r=\"14\" fill=\"#009af9\" fill-rule=\"evenodd\" fill-opacity=\"1\" stroke=\"#000000\" stroke-opacity=\"1\" stroke-width=\"3.2\"/>\n",
       "<circle clip-path=\"url(#clip302)\" cx=\"1144.89\" cy=\"1447.87\" r=\"14\" fill=\"#009af9\" fill-rule=\"evenodd\" fill-opacity=\"1\" stroke=\"#000000\" stroke-opacity=\"1\" stroke-width=\"3.2\"/>\n",
       "<circle clip-path=\"url(#clip302)\" cx=\"1194.74\" cy=\"1447.87\" r=\"14\" fill=\"#009af9\" fill-rule=\"evenodd\" fill-opacity=\"1\" stroke=\"#000000\" stroke-opacity=\"1\" stroke-width=\"3.2\"/>\n",
       "<circle clip-path=\"url(#clip302)\" cx=\"1244.59\" cy=\"1447.87\" r=\"14\" fill=\"#009af9\" fill-rule=\"evenodd\" fill-opacity=\"1\" stroke=\"#000000\" stroke-opacity=\"1\" stroke-width=\"3.2\"/>\n",
       "<circle clip-path=\"url(#clip302)\" cx=\"1294.44\" cy=\"1447.87\" r=\"14\" fill=\"#009af9\" fill-rule=\"evenodd\" fill-opacity=\"1\" stroke=\"#000000\" stroke-opacity=\"1\" stroke-width=\"3.2\"/>\n",
       "<circle clip-path=\"url(#clip302)\" cx=\"1344.29\" cy=\"1447.87\" r=\"14\" fill=\"#009af9\" fill-rule=\"evenodd\" fill-opacity=\"1\" stroke=\"#000000\" stroke-opacity=\"1\" stroke-width=\"3.2\"/>\n",
       "<circle clip-path=\"url(#clip302)\" cx=\"1394.14\" cy=\"1447.87\" r=\"14\" fill=\"#009af9\" fill-rule=\"evenodd\" fill-opacity=\"1\" stroke=\"#000000\" stroke-opacity=\"1\" stroke-width=\"3.2\"/>\n",
       "<circle clip-path=\"url(#clip302)\" cx=\"1443.99\" cy=\"1447.87\" r=\"14\" fill=\"#009af9\" fill-rule=\"evenodd\" fill-opacity=\"1\" stroke=\"#000000\" stroke-opacity=\"1\" stroke-width=\"3.2\"/>\n",
       "<circle clip-path=\"url(#clip302)\" cx=\"1493.84\" cy=\"1447.87\" r=\"14\" fill=\"#009af9\" fill-rule=\"evenodd\" fill-opacity=\"1\" stroke=\"#000000\" stroke-opacity=\"1\" stroke-width=\"3.2\"/>\n",
       "<circle clip-path=\"url(#clip302)\" cx=\"1543.69\" cy=\"1447.87\" r=\"14\" fill=\"#009af9\" fill-rule=\"evenodd\" fill-opacity=\"1\" stroke=\"#000000\" stroke-opacity=\"1\" stroke-width=\"3.2\"/>\n",
       "<circle clip-path=\"url(#clip302)\" cx=\"1593.54\" cy=\"1447.87\" r=\"14\" fill=\"#009af9\" fill-rule=\"evenodd\" fill-opacity=\"1\" stroke=\"#000000\" stroke-opacity=\"1\" stroke-width=\"3.2\"/>\n",
       "<circle clip-path=\"url(#clip302)\" cx=\"1643.39\" cy=\"1447.87\" r=\"14\" fill=\"#009af9\" fill-rule=\"evenodd\" fill-opacity=\"1\" stroke=\"#000000\" stroke-opacity=\"1\" stroke-width=\"3.2\"/>\n",
       "<circle clip-path=\"url(#clip302)\" cx=\"1693.24\" cy=\"1447.87\" r=\"14\" fill=\"#009af9\" fill-rule=\"evenodd\" fill-opacity=\"1\" stroke=\"#000000\" stroke-opacity=\"1\" stroke-width=\"3.2\"/>\n",
       "<circle clip-path=\"url(#clip302)\" cx=\"1743.09\" cy=\"1447.87\" r=\"14\" fill=\"#009af9\" fill-rule=\"evenodd\" fill-opacity=\"1\" stroke=\"#000000\" stroke-opacity=\"1\" stroke-width=\"3.2\"/>\n",
       "<circle clip-path=\"url(#clip302)\" cx=\"1792.94\" cy=\"1447.87\" r=\"14\" fill=\"#009af9\" fill-rule=\"evenodd\" fill-opacity=\"1\" stroke=\"#000000\" stroke-opacity=\"1\" stroke-width=\"3.2\"/>\n",
       "<circle clip-path=\"url(#clip302)\" cx=\"1842.79\" cy=\"1447.87\" r=\"14\" fill=\"#009af9\" fill-rule=\"evenodd\" fill-opacity=\"1\" stroke=\"#000000\" stroke-opacity=\"1\" stroke-width=\"3.2\"/>\n",
       "<circle clip-path=\"url(#clip302)\" cx=\"1892.64\" cy=\"1447.87\" r=\"14\" fill=\"#009af9\" fill-rule=\"evenodd\" fill-opacity=\"1\" stroke=\"#000000\" stroke-opacity=\"1\" stroke-width=\"3.2\"/>\n",
       "<circle clip-path=\"url(#clip302)\" cx=\"1942.49\" cy=\"1447.87\" r=\"14\" fill=\"#009af9\" fill-rule=\"evenodd\" fill-opacity=\"1\" stroke=\"#000000\" stroke-opacity=\"1\" stroke-width=\"3.2\"/>\n",
       "<circle clip-path=\"url(#clip302)\" cx=\"1992.34\" cy=\"1447.87\" r=\"14\" fill=\"#009af9\" fill-rule=\"evenodd\" fill-opacity=\"1\" stroke=\"#000000\" stroke-opacity=\"1\" stroke-width=\"3.2\"/>\n",
       "<circle clip-path=\"url(#clip302)\" cx=\"2042.19\" cy=\"1447.87\" r=\"14\" fill=\"#009af9\" fill-rule=\"evenodd\" fill-opacity=\"1\" stroke=\"#000000\" stroke-opacity=\"1\" stroke-width=\"3.2\"/>\n",
       "<circle clip-path=\"url(#clip302)\" cx=\"2092.04\" cy=\"1447.87\" r=\"14\" fill=\"#009af9\" fill-rule=\"evenodd\" fill-opacity=\"1\" stroke=\"#000000\" stroke-opacity=\"1\" stroke-width=\"3.2\"/>\n",
       "<circle clip-path=\"url(#clip302)\" cx=\"2141.89\" cy=\"1447.87\" r=\"14\" fill=\"#009af9\" fill-rule=\"evenodd\" fill-opacity=\"1\" stroke=\"#000000\" stroke-opacity=\"1\" stroke-width=\"3.2\"/>\n",
       "<circle clip-path=\"url(#clip302)\" cx=\"2191.74\" cy=\"1447.87\" r=\"14\" fill=\"#009af9\" fill-rule=\"evenodd\" fill-opacity=\"1\" stroke=\"#000000\" stroke-opacity=\"1\" stroke-width=\"3.2\"/>\n",
       "<circle clip-path=\"url(#clip302)\" cx=\"2241.59\" cy=\"1447.87\" r=\"14\" fill=\"#009af9\" fill-rule=\"evenodd\" fill-opacity=\"1\" stroke=\"#000000\" stroke-opacity=\"1\" stroke-width=\"3.2\"/>\n",
       "<circle clip-path=\"url(#clip302)\" cx=\"2291.44\" cy=\"1447.87\" r=\"14\" fill=\"#009af9\" fill-rule=\"evenodd\" fill-opacity=\"1\" stroke=\"#000000\" stroke-opacity=\"1\" stroke-width=\"3.2\"/>\n",
       "<circle clip-path=\"url(#clip302)\" cx=\"247.59\" cy=\"1447.87\" r=\"14\" fill=\"#e26f46\" fill-rule=\"evenodd\" fill-opacity=\"1\" stroke=\"#000000\" stroke-opacity=\"1\" stroke-width=\"3.2\"/>\n",
       "<circle clip-path=\"url(#clip302)\" cx=\"297.44\" cy=\"1447.87\" r=\"14\" fill=\"#e26f46\" fill-rule=\"evenodd\" fill-opacity=\"1\" stroke=\"#000000\" stroke-opacity=\"1\" stroke-width=\"3.2\"/>\n",
       "<circle clip-path=\"url(#clip302)\" cx=\"347.29\" cy=\"1447.87\" r=\"14\" fill=\"#e26f46\" fill-rule=\"evenodd\" fill-opacity=\"1\" stroke=\"#000000\" stroke-opacity=\"1\" stroke-width=\"3.2\"/>\n",
       "<circle clip-path=\"url(#clip302)\" cx=\"397.14\" cy=\"1447.87\" r=\"14\" fill=\"#e26f46\" fill-rule=\"evenodd\" fill-opacity=\"1\" stroke=\"#000000\" stroke-opacity=\"1\" stroke-width=\"3.2\"/>\n",
       "<circle clip-path=\"url(#clip302)\" cx=\"446.99\" cy=\"1447.87\" r=\"14\" fill=\"#e26f46\" fill-rule=\"evenodd\" fill-opacity=\"1\" stroke=\"#000000\" stroke-opacity=\"1\" stroke-width=\"3.2\"/>\n",
       "<circle clip-path=\"url(#clip302)\" cx=\"496.84\" cy=\"1447.87\" r=\"14\" fill=\"#e26f46\" fill-rule=\"evenodd\" fill-opacity=\"1\" stroke=\"#000000\" stroke-opacity=\"1\" stroke-width=\"3.2\"/>\n",
       "<circle clip-path=\"url(#clip302)\" cx=\"546.69\" cy=\"1447.87\" r=\"14\" fill=\"#e26f46\" fill-rule=\"evenodd\" fill-opacity=\"1\" stroke=\"#000000\" stroke-opacity=\"1\" stroke-width=\"3.2\"/>\n",
       "<circle clip-path=\"url(#clip302)\" cx=\"596.54\" cy=\"1447.87\" r=\"14\" fill=\"#e26f46\" fill-rule=\"evenodd\" fill-opacity=\"1\" stroke=\"#000000\" stroke-opacity=\"1\" stroke-width=\"3.2\"/>\n",
       "<circle clip-path=\"url(#clip302)\" cx=\"646.39\" cy=\"1447.87\" r=\"14\" fill=\"#e26f46\" fill-rule=\"evenodd\" fill-opacity=\"1\" stroke=\"#000000\" stroke-opacity=\"1\" stroke-width=\"3.2\"/>\n",
       "<circle clip-path=\"url(#clip302)\" cx=\"696.24\" cy=\"1447.87\" r=\"14\" fill=\"#e26f46\" fill-rule=\"evenodd\" fill-opacity=\"1\" stroke=\"#000000\" stroke-opacity=\"1\" stroke-width=\"3.2\"/>\n",
       "<circle clip-path=\"url(#clip302)\" cx=\"746.09\" cy=\"1447.87\" r=\"14\" fill=\"#e26f46\" fill-rule=\"evenodd\" fill-opacity=\"1\" stroke=\"#000000\" stroke-opacity=\"1\" stroke-width=\"3.2\"/>\n",
       "<circle clip-path=\"url(#clip302)\" cx=\"795.94\" cy=\"1447.87\" r=\"14\" fill=\"#e26f46\" fill-rule=\"evenodd\" fill-opacity=\"1\" stroke=\"#000000\" stroke-opacity=\"1\" stroke-width=\"3.2\"/>\n",
       "<circle clip-path=\"url(#clip302)\" cx=\"845.79\" cy=\"1447.87\" r=\"14\" fill=\"#e26f46\" fill-rule=\"evenodd\" fill-opacity=\"1\" stroke=\"#000000\" stroke-opacity=\"1\" stroke-width=\"3.2\"/>\n",
       "<circle clip-path=\"url(#clip302)\" cx=\"895.64\" cy=\"1447.87\" r=\"14\" fill=\"#e26f46\" fill-rule=\"evenodd\" fill-opacity=\"1\" stroke=\"#000000\" stroke-opacity=\"1\" stroke-width=\"3.2\"/>\n",
       "<circle clip-path=\"url(#clip302)\" cx=\"945.49\" cy=\"1447.87\" r=\"14\" fill=\"#e26f46\" fill-rule=\"evenodd\" fill-opacity=\"1\" stroke=\"#000000\" stroke-opacity=\"1\" stroke-width=\"3.2\"/>\n",
       "<circle clip-path=\"url(#clip302)\" cx=\"995.34\" cy=\"1447.87\" r=\"14\" fill=\"#e26f46\" fill-rule=\"evenodd\" fill-opacity=\"1\" stroke=\"#000000\" stroke-opacity=\"1\" stroke-width=\"3.2\"/>\n",
       "<circle clip-path=\"url(#clip302)\" cx=\"1045.19\" cy=\"1447.87\" r=\"14\" fill=\"#e26f46\" fill-rule=\"evenodd\" fill-opacity=\"1\" stroke=\"#000000\" stroke-opacity=\"1\" stroke-width=\"3.2\"/>\n",
       "<circle clip-path=\"url(#clip302)\" cx=\"1095.04\" cy=\"1447.87\" r=\"14\" fill=\"#e26f46\" fill-rule=\"evenodd\" fill-opacity=\"1\" stroke=\"#000000\" stroke-opacity=\"1\" stroke-width=\"3.2\"/>\n",
       "<circle clip-path=\"url(#clip302)\" cx=\"1144.89\" cy=\"1447.87\" r=\"14\" fill=\"#e26f46\" fill-rule=\"evenodd\" fill-opacity=\"1\" stroke=\"#000000\" stroke-opacity=\"1\" stroke-width=\"3.2\"/>\n",
       "<circle clip-path=\"url(#clip302)\" cx=\"1194.74\" cy=\"1447.87\" r=\"14\" fill=\"#e26f46\" fill-rule=\"evenodd\" fill-opacity=\"1\" stroke=\"#000000\" stroke-opacity=\"1\" stroke-width=\"3.2\"/>\n",
       "<circle clip-path=\"url(#clip302)\" cx=\"1244.59\" cy=\"1447.87\" r=\"14\" fill=\"#e26f46\" fill-rule=\"evenodd\" fill-opacity=\"1\" stroke=\"#000000\" stroke-opacity=\"1\" stroke-width=\"3.2\"/>\n",
       "<circle clip-path=\"url(#clip302)\" cx=\"1294.44\" cy=\"1447.87\" r=\"14\" fill=\"#e26f46\" fill-rule=\"evenodd\" fill-opacity=\"1\" stroke=\"#000000\" stroke-opacity=\"1\" stroke-width=\"3.2\"/>\n",
       "<circle clip-path=\"url(#clip302)\" cx=\"1344.29\" cy=\"1447.87\" r=\"14\" fill=\"#e26f46\" fill-rule=\"evenodd\" fill-opacity=\"1\" stroke=\"#000000\" stroke-opacity=\"1\" stroke-width=\"3.2\"/>\n",
       "<circle clip-path=\"url(#clip302)\" cx=\"1394.14\" cy=\"1447.87\" r=\"14\" fill=\"#e26f46\" fill-rule=\"evenodd\" fill-opacity=\"1\" stroke=\"#000000\" stroke-opacity=\"1\" stroke-width=\"3.2\"/>\n",
       "<circle clip-path=\"url(#clip302)\" cx=\"1443.99\" cy=\"162.047\" r=\"14\" fill=\"#e26f46\" fill-rule=\"evenodd\" fill-opacity=\"1\" stroke=\"#000000\" stroke-opacity=\"1\" stroke-width=\"3.2\"/>\n",
       "<circle clip-path=\"url(#clip302)\" cx=\"1493.84\" cy=\"1447.87\" r=\"14\" fill=\"#e26f46\" fill-rule=\"evenodd\" fill-opacity=\"1\" stroke=\"#000000\" stroke-opacity=\"1\" stroke-width=\"3.2\"/>\n",
       "<circle clip-path=\"url(#clip302)\" cx=\"1543.69\" cy=\"1447.87\" r=\"14\" fill=\"#e26f46\" fill-rule=\"evenodd\" fill-opacity=\"1\" stroke=\"#000000\" stroke-opacity=\"1\" stroke-width=\"3.2\"/>\n",
       "<circle clip-path=\"url(#clip302)\" cx=\"1593.54\" cy=\"1447.87\" r=\"14\" fill=\"#e26f46\" fill-rule=\"evenodd\" fill-opacity=\"1\" stroke=\"#000000\" stroke-opacity=\"1\" stroke-width=\"3.2\"/>\n",
       "<circle clip-path=\"url(#clip302)\" cx=\"1643.39\" cy=\"1447.87\" r=\"14\" fill=\"#e26f46\" fill-rule=\"evenodd\" fill-opacity=\"1\" stroke=\"#000000\" stroke-opacity=\"1\" stroke-width=\"3.2\"/>\n",
       "<circle clip-path=\"url(#clip302)\" cx=\"1693.24\" cy=\"1447.87\" r=\"14\" fill=\"#e26f46\" fill-rule=\"evenodd\" fill-opacity=\"1\" stroke=\"#000000\" stroke-opacity=\"1\" stroke-width=\"3.2\"/>\n",
       "<circle clip-path=\"url(#clip302)\" cx=\"1743.09\" cy=\"1447.87\" r=\"14\" fill=\"#e26f46\" fill-rule=\"evenodd\" fill-opacity=\"1\" stroke=\"#000000\" stroke-opacity=\"1\" stroke-width=\"3.2\"/>\n",
       "<circle clip-path=\"url(#clip302)\" cx=\"1792.94\" cy=\"1447.87\" r=\"14\" fill=\"#e26f46\" fill-rule=\"evenodd\" fill-opacity=\"1\" stroke=\"#000000\" stroke-opacity=\"1\" stroke-width=\"3.2\"/>\n",
       "<circle clip-path=\"url(#clip302)\" cx=\"1842.79\" cy=\"1447.87\" r=\"14\" fill=\"#e26f46\" fill-rule=\"evenodd\" fill-opacity=\"1\" stroke=\"#000000\" stroke-opacity=\"1\" stroke-width=\"3.2\"/>\n",
       "<circle clip-path=\"url(#clip302)\" cx=\"1892.64\" cy=\"1447.87\" r=\"14\" fill=\"#e26f46\" fill-rule=\"evenodd\" fill-opacity=\"1\" stroke=\"#000000\" stroke-opacity=\"1\" stroke-width=\"3.2\"/>\n",
       "<circle clip-path=\"url(#clip302)\" cx=\"1942.49\" cy=\"1447.87\" r=\"14\" fill=\"#e26f46\" fill-rule=\"evenodd\" fill-opacity=\"1\" stroke=\"#000000\" stroke-opacity=\"1\" stroke-width=\"3.2\"/>\n",
       "<circle clip-path=\"url(#clip302)\" cx=\"1992.34\" cy=\"1447.87\" r=\"14\" fill=\"#e26f46\" fill-rule=\"evenodd\" fill-opacity=\"1\" stroke=\"#000000\" stroke-opacity=\"1\" stroke-width=\"3.2\"/>\n",
       "<circle clip-path=\"url(#clip302)\" cx=\"2042.19\" cy=\"1447.87\" r=\"14\" fill=\"#e26f46\" fill-rule=\"evenodd\" fill-opacity=\"1\" stroke=\"#000000\" stroke-opacity=\"1\" stroke-width=\"3.2\"/>\n",
       "<circle clip-path=\"url(#clip302)\" cx=\"2092.04\" cy=\"1447.87\" r=\"14\" fill=\"#e26f46\" fill-rule=\"evenodd\" fill-opacity=\"1\" stroke=\"#000000\" stroke-opacity=\"1\" stroke-width=\"3.2\"/>\n",
       "<circle clip-path=\"url(#clip302)\" cx=\"2141.89\" cy=\"1447.87\" r=\"14\" fill=\"#e26f46\" fill-rule=\"evenodd\" fill-opacity=\"1\" stroke=\"#000000\" stroke-opacity=\"1\" stroke-width=\"3.2\"/>\n",
       "<circle clip-path=\"url(#clip302)\" cx=\"2191.74\" cy=\"1447.87\" r=\"14\" fill=\"#e26f46\" fill-rule=\"evenodd\" fill-opacity=\"1\" stroke=\"#000000\" stroke-opacity=\"1\" stroke-width=\"3.2\"/>\n",
       "<circle clip-path=\"url(#clip302)\" cx=\"2241.59\" cy=\"1447.87\" r=\"14\" fill=\"#e26f46\" fill-rule=\"evenodd\" fill-opacity=\"1\" stroke=\"#000000\" stroke-opacity=\"1\" stroke-width=\"3.2\"/>\n",
       "<circle clip-path=\"url(#clip302)\" cx=\"2291.44\" cy=\"1447.87\" r=\"14\" fill=\"#e26f46\" fill-rule=\"evenodd\" fill-opacity=\"1\" stroke=\"#000000\" stroke-opacity=\"1\" stroke-width=\"3.2\"/>\n",
       "<path clip-path=\"url(#clip300)\" d=\"\n",
       "M1947.11 324.425 L2280.54 324.425 L2280.54 168.905 L1947.11 168.905  Z\n",
       "  \" fill=\"#ffffff\" fill-rule=\"evenodd\" fill-opacity=\"1\"/>\n",
       "<polyline clip-path=\"url(#clip300)\" style=\"stroke:#000000; stroke-linecap:butt; stroke-linejoin:round; stroke-width:4; stroke-opacity:1; fill:none\" points=\"\n",
       "  1947.11,324.425 2280.54,324.425 2280.54,168.905 1947.11,168.905 1947.11,324.425 \n",
       "  \"/>\n",
       "<circle clip-path=\"url(#clip300)\" cx=\"2043.11\" cy=\"220.745\" r=\"23\" fill=\"#009af9\" fill-rule=\"evenodd\" fill-opacity=\"1\" stroke=\"#000000\" stroke-opacity=\"1\" stroke-width=\"5.12\"/>\n",
       "<path clip-path=\"url(#clip300)\" d=\"M2163.77 212.099 L2154.39 224.715 L2164.25 238.025 L2159.23 238.025 L2151.68 227.84 L2144.14 238.025 L2139.11 238.025 L2149.18 224.46 L2139.97 212.099 L2144.99 212.099 L2151.87 221.335 L2158.74 212.099 L2163.77 212.099 Z\" fill=\"#000000\" fill-rule=\"evenodd\" fill-opacity=\"1\" /><path clip-path=\"url(#clip300)\" d=\"M2170.83 216.497 L2200.5 216.497 L2200.5 220.386 L2170.83 220.386 L2170.83 216.497 M2170.83 225.941 L2200.5 225.941 L2200.5 229.877 L2170.83 229.877 L2170.83 225.941 Z\" fill=\"#000000\" fill-rule=\"evenodd\" fill-opacity=\"1\" /><path clip-path=\"url(#clip300)\" d=\"M2220.6 206.543 Q2216.98 206.543 2215.16 210.108 Q2213.35 213.65 2213.35 220.779 Q2213.35 227.886 2215.16 231.451 Q2216.98 234.992 2220.6 234.992 Q2224.23 234.992 2226.04 231.451 Q2227.86 227.886 2227.86 220.779 Q2227.86 213.65 2226.04 210.108 Q2224.23 206.543 2220.6 206.543 M2220.6 202.84 Q2226.41 202.84 2229.46 207.446 Q2232.54 212.029 2232.54 220.779 Q2232.54 229.506 2229.46 234.113 Q2226.41 238.696 2220.6 238.696 Q2214.79 238.696 2211.71 234.113 Q2208.65 229.506 2208.65 220.779 Q2208.65 212.029 2211.71 207.446 Q2214.79 202.84 2220.6 202.84 Z\" fill=\"#000000\" fill-rule=\"evenodd\" fill-opacity=\"1\" /><circle clip-path=\"url(#clip300)\" cx=\"2043.11\" cy=\"272.585\" r=\"23\" fill=\"#e26f46\" fill-rule=\"evenodd\" fill-opacity=\"1\" stroke=\"#000000\" stroke-opacity=\"1\" stroke-width=\"5.12\"/>\n",
       "<path clip-path=\"url(#clip300)\" d=\"M2163.77 263.939 L2154.39 276.555 L2164.25 289.865 L2159.23 289.865 L2151.68 279.68 L2144.14 289.865 L2139.11 289.865 L2149.18 276.3 L2139.97 263.939 L2144.99 263.939 L2151.87 273.175 L2158.74 263.939 L2163.77 263.939 Z\" fill=\"#000000\" fill-rule=\"evenodd\" fill-opacity=\"1\" /><path clip-path=\"url(#clip300)\" d=\"M2170.83 268.337 L2200.5 268.337 L2200.5 272.226 L2170.83 272.226 L2170.83 268.337 M2170.83 277.781 L2200.5 277.781 L2200.5 281.717 L2170.83 281.717 L2170.83 277.781 Z\" fill=\"#000000\" fill-rule=\"evenodd\" fill-opacity=\"1\" /><path clip-path=\"url(#clip300)\" d=\"M2211.41 285.929 L2219.04 285.929 L2219.04 259.564 L2210.73 261.231 L2210.73 256.971 L2219 255.305 L2223.67 255.305 L2223.67 285.929 L2231.31 285.929 L2231.31 289.865 L2211.41 289.865 L2211.41 285.929 Z\" fill=\"#000000\" fill-rule=\"evenodd\" fill-opacity=\"1\" /></svg>\n"
      ]
     },
     "execution_count": 134,
     "metadata": {},
     "output_type": "execute_result"
    }
   ],
   "source": [
    "i=20\n",
    "@show xnsol[i], maxbel[i]\n",
    "scatter(0:N+1, bel[:,1,i], label=\"x=0\", title=\"i=$i\")\n",
    "scatter!(0:N+1, bel[:,2,i], label=\"x=1\")"
   ]
  },
  {
   "cell_type": "code",
   "execution_count": null,
   "metadata": {},
   "outputs": [],
   "source": []
  },
  {
   "cell_type": "code",
   "execution_count": null,
   "metadata": {},
   "outputs": [],
   "source": []
  },
  {
   "cell_type": "code",
   "execution_count": 62,
   "metadata": {},
   "outputs": [
    {
     "data": {
      "text/plain": [
       "true"
      ]
     },
     "execution_count": 62,
     "metadata": {},
     "output_type": "execute_result"
    }
   ],
   "source": [
    "using OffsetArrays\n",
    "P = fill(fill(0.0, 0:1,0:N+1), L)\n",
    "for i=1:L\n",
    "    P[i] = OffsetArray(transpose(af.bpb.beliefs[:,:,i]), 0:1,0:N+1)\n",
    "end\n",
    "BpAlignGpu.convert_soltosequence!(xnsol, seq.strseq, N, L) == BpAlignGpu.decodeposterior(P, seq.strseq)"
   ]
  },
  {
   "cell_type": "code",
   "execution_count": 63,
   "metadata": {},
   "outputs": [
    {
     "name": "stdout",
     "output_type": "stream",
     "text": [
      "Let us check the assignment...\n",
      "- 23 → (0, 0) 23-1 → (1, 95)\n",
      "- 22 → (1, 95) 22-1 → (1, 108)\n",
      "There are 2 short-range constraints not satisfied\n"
     ]
    },
    {
     "data": {
      "text/plain": [
       "false"
      ]
     },
     "execution_count": 63,
     "metadata": {},
     "output_type": "execute_result"
    }
   ],
   "source": [
    "BpAlignGpu.check_assignment(P,true,N)"
   ]
  },
  {
   "cell_type": "code",
   "execution_count": null,
   "metadata": {},
   "outputs": [],
   "source": []
  },
  {
   "cell_type": "code",
   "execution_count": null,
   "metadata": {},
   "outputs": [],
   "source": []
  },
  {
   "cell_type": "code",
   "execution_count": null,
   "metadata": {},
   "outputs": [],
   "source": []
  },
  {
   "cell_type": "code",
   "execution_count": null,
   "metadata": {},
   "outputs": [],
   "source": []
  }
 ],
 "metadata": {
  "kernelspec": {
   "display_name": "Julia 1.7.1",
   "language": "julia",
   "name": "julia-1.7"
  },
  "language_info": {
   "file_extension": ".jl",
   "mimetype": "application/julia",
   "name": "julia",
   "version": "1.7.1"
  }
 },
 "nbformat": 4,
 "nbformat_minor": 4
}
