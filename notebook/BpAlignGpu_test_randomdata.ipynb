{
 "cells": [
  {
   "cell_type": "code",
   "execution_count": 1,
   "metadata": {},
   "outputs": [
    {
     "name": "stderr",
     "output_type": "stream",
     "text": [
      "\u001b[32m\u001b[1m  Activating\u001b[22m\u001b[39m project at `~/MSA/BpAlignGpu.jl`\n",
      "┌ Info: Precompiling BpAlignGpu [5a3eb610-29b2-4cbe-8ba2-ea97f65fa95d]\n",
      "└ @ Base loading.jl:1423\n"
     ]
    }
   ],
   "source": [
    "using Revise, Pkg\n",
    "Pkg.activate(\"/home/louise/MSA/BpAlignGpu.jl\")\n",
    "using BpAlignGpu"
   ]
  },
  {
   "cell_type": "code",
   "execution_count": 2,
   "metadata": {},
   "outputs": [
    {
     "name": "stderr",
     "output_type": "stream",
     "text": [
      "┌ Warning: The NVIDIA driver on this system only supports up to CUDA 11.0.0.\n",
      "│ For performance reasons, it is recommended to upgrade to a driver that supports CUDA 11.2 or higher.\n",
      "└ @ CUDA /home/louise/.julia/packages/CUDA/bki2w/src/initialization.jl:70\n"
     ]
    },
    {
     "data": {
      "text/plain": [
       "CuDevice(1): TITAN RTX"
      ]
     },
     "execution_count": 2,
     "metadata": {},
     "output_type": "execute_result"
    }
   ],
   "source": [
    "using CUDA\n",
    "CUDA.device!(1)"
   ]
  },
  {
   "cell_type": "code",
   "execution_count": 3,
   "metadata": {},
   "outputs": [],
   "source": [
    "q=21\n",
    "ctype=Symbol(\"amino\")\n",
    "typel=Symbol(\"bm\")\n",
    "T = Float32\n",
    "muext = 0.50;\n",
    "muint = 2.50;"
   ]
  },
  {
   "cell_type": "code",
   "execution_count": 4,
   "metadata": {},
   "outputs": [
    {
     "data": {
      "text/plain": []
     },
     "execution_count": 4,
     "metadata": {},
     "output_type": "execute_result"
    },
    {
     "name": "stdout",
     "output_type": "stream",
     "text": [
      "ParamAlgo{Float32}\n",
      "-------------\n",
      "damp=0.0\n",
      "tol=1.0e-5\n",
      "tolnorm=1.0e-5\n",
      "tmax=10\n",
      "upscheme=sequential\n",
      "lr=sce\n",
      "beta=1.0\n",
      "verbose=true\n",
      "-------------"
     ]
    }
   ],
   "source": [
    "damp=T(0.0)\n",
    "tol=T(1e-5)\n",
    "tolnorm=T(1e-5)\n",
    "tmax=10\n",
    "upscheme=:sequential # :random or :sequential\n",
    "lr=:sce  # :sce or :mf \n",
    "beta=T(1.0)\n",
    "verbose=true\n",
    "pa = ParamAlgo(damp, tol, tolnorm, tmax, upscheme, lr, beta, verbose)"
   ]
  },
  {
   "cell_type": "code",
   "execution_count": 5,
   "metadata": {},
   "outputs": [],
   "source": [
    "(N, L) = (6, 5) \n",
    "\n",
    "using Random\n",
    "header = \"myseq\"\n",
    "myseq = randstring('A':'Z', N)\n",
    "seq = Seq(header, myseq, ctype)\n",
    "\n",
    "lambda_o = ones(L)\n",
    "lambda_e = ones(L)\n",
    "H = rand(q,L)\n",
    "J = rand(q,q,L,L)\n",
    "J = J .+ permutedims(J, (2,1,4,3));"
   ]
  },
  {
   "cell_type": "code",
   "execution_count": 6,
   "metadata": {},
   "outputs": [
    {
     "data": {
      "text/plain": [
       "ParamModel{Float32}[L=5 N=6 q=21 size=43.547 KiB]"
      ]
     },
     "execution_count": 6,
     "metadata": {},
     "output_type": "execute_result"
    }
   ],
   "source": [
    "pm = ParamModel{T}(N, L, q, muint, muext, lambda_o, lambda_e, H, J)"
   ]
  },
  {
   "cell_type": "code",
   "execution_count": 7,
   "metadata": {},
   "outputs": [
    {
     "data": {
      "text/plain": [
       "BPMessages{Float32}[L=5 N=6 ongpu=true size=26.914 KiB]"
      ]
     },
     "execution_count": 7,
     "metadata": {},
     "output_type": "execute_result"
    }
   ],
   "source": [
    "bpm = BPMessages(seq, pm)"
   ]
  },
  {
   "cell_type": "code",
   "execution_count": 8,
   "metadata": {},
   "outputs": [
    {
     "data": {
      "text/plain": [
       "BPBeliefs{Float32}[L=5 N=6 ongpu=true size=30.625 KiB]"
      ]
     },
     "execution_count": 8,
     "metadata": {},
     "output_type": "execute_result"
    }
   ],
   "source": [
    "bpb = BPBeliefs(N, L)"
   ]
  },
  {
   "cell_type": "code",
   "execution_count": 9,
   "metadata": {},
   "outputs": [
    {
     "data": {
      "text/plain": [
       "LongRangeFields{Float32}[L=5 N=6 ongpu=true size=105.312 KiB]"
      ]
     },
     "execution_count": 9,
     "metadata": {},
     "output_type": "execute_result"
    }
   ],
   "source": [
    "lrf = LongRangeFields(N, L)"
   ]
  },
  {
   "cell_type": "code",
   "execution_count": 10,
   "metadata": {},
   "outputs": [
    {
     "data": {
      "text/plain": [
       "AllFields{Float32}[L=5 N=6 ongpu=true size=162.852 KiB]"
      ]
     },
     "execution_count": 10,
     "metadata": {},
     "output_type": "execute_result"
    }
   ],
   "source": [
    "af = AllFields(bpm, bpb, lrf)"
   ]
  },
  {
   "cell_type": "code",
   "execution_count": null,
   "metadata": {},
   "outputs": [],
   "source": []
  },
  {
   "cell_type": "code",
   "execution_count": 11,
   "metadata": {},
   "outputs": [],
   "source": [
    "BpAlignGpu.update_F!(af, pm, pa)\n",
    "BpAlignGpu.update_hF!(af, pm, pa)\n",
    "BpAlignGpu.update_B!(af, pm, pa)\n",
    "BpAlignGpu.update_hB!(af, pm, pa)\n",
    "BpAlignGpu.update_beliefs!(af, pm, pa)\n",
    "BpAlignGpu.update_jointchain!(af, pm, pa)\n",
    "BpAlignGpu.update_conditional_chain!(af, pa)\n",
    "BpAlignGpu.update_conditional_all!(af, pm)\n"
   ]
  },
  {
   "cell_type": "code",
   "execution_count": 12,
   "metadata": {},
   "outputs": [],
   "source": [
    "BpAlignGpu.update_f!(af)\n",
    "BpAlignGpu.update_g!(af)\n"
   ]
  },
  {
   "cell_type": "code",
   "execution_count": null,
   "metadata": {},
   "outputs": [],
   "source": []
  },
  {
   "cell_type": "code",
   "execution_count": 13,
   "metadata": {},
   "outputs": [
    {
     "data": {
      "text/plain": [
       "5.418040037155151"
      ]
     },
     "execution_count": 13,
     "metadata": {},
     "output_type": "execute_result"
    }
   ],
   "source": [
    "BpAlignGpu.lr_freeen(af, pm)"
   ]
  },
  {
   "cell_type": "code",
   "execution_count": 14,
   "metadata": {},
   "outputs": [
    {
     "data": {
      "text/plain": [
       "-17.616098f0"
      ]
     },
     "execution_count": 14,
     "metadata": {},
     "output_type": "execute_result"
    }
   ],
   "source": [
    "BpAlignGpu.logZi(af, pm, pa)"
   ]
  },
  {
   "cell_type": "code",
   "execution_count": 15,
   "metadata": {},
   "outputs": [
    {
     "data": {
      "text/plain": [
       "15.527098f0"
      ]
     },
     "execution_count": 15,
     "metadata": {},
     "output_type": "execute_result"
    }
   ],
   "source": [
    "BpAlignGpu.logZa(af, pm, pa)"
   ]
  },
  {
   "cell_type": "code",
   "execution_count": 16,
   "metadata": {},
   "outputs": [
    {
     "data": {
      "text/plain": [
       "-19.445797f0"
      ]
     },
     "execution_count": 16,
     "metadata": {},
     "output_type": "execute_result"
    }
   ],
   "source": [
    "BpAlignGpu.logZia(af, pm)"
   ]
  },
  {
   "cell_type": "code",
   "execution_count": null,
   "metadata": {},
   "outputs": [],
   "source": []
  },
  {
   "cell_type": "code",
   "execution_count": null,
   "metadata": {},
   "outputs": [],
   "source": []
  },
  {
   "cell_type": "code",
   "execution_count": 17,
   "metadata": {},
   "outputs": [],
   "source": [
    "resfm = BpAlignGpu.update_f_memory!(af);"
   ]
  },
  {
   "cell_type": "code",
   "execution_count": 18,
   "metadata": {
    "scrolled": true
   },
   "outputs": [
    {
     "data": {
      "text/plain": [
       "true"
      ]
     },
     "execution_count": 18,
     "metadata": {},
     "output_type": "execute_result"
    }
   ],
   "source": [
    "af.lrf.f == resfm"
   ]
  },
  {
   "cell_type": "code",
   "execution_count": null,
   "metadata": {},
   "outputs": [],
   "source": []
  },
  {
   "cell_type": "code",
   "execution_count": 19,
   "metadata": {},
   "outputs": [],
   "source": [
    "resgm = BpAlignGpu.update_g_memory!(af);"
   ]
  },
  {
   "cell_type": "code",
   "execution_count": 20,
   "metadata": {},
   "outputs": [
    {
     "data": {
      "text/plain": [
       "true"
      ]
     },
     "execution_count": 20,
     "metadata": {},
     "output_type": "execute_result"
    }
   ],
   "source": [
    "af.lrf.g == resgm"
   ]
  },
  {
   "cell_type": "code",
   "execution_count": null,
   "metadata": {},
   "outputs": [],
   "source": []
  },
  {
   "cell_type": "code",
   "execution_count": 21,
   "metadata": {},
   "outputs": [],
   "source": [
    "BpAlignGpu.one_bp_sweep!(af, pm, pa)"
   ]
  },
  {
   "cell_type": "code",
   "execution_count": 22,
   "metadata": {},
   "outputs": [
    {
     "name": "stdout",
     "output_type": "stream",
     "text": [
      "t=1\t err=0.16357356\n",
      "t=2\t err=0.13758701\n",
      "t=3\t err=0.033801064\n",
      "t=4\t err=0.019929945\n",
      "t=5\t err=0.011904612\n",
      "t=6\t err=0.005274996\n",
      "t=7\t err=0.003157951\n",
      "t=8\t err=0.0016046911\n",
      "t=9\t err=0.0006352663\n",
      "t=10\t err=0.000502795\n",
      "t=11\t err=0.0002681762\n",
      "t=12\t err=0.00011597574\n",
      "t=13\t err=5.441904e-5\n",
      "t=14\t err=4.351139e-5\n",
      "t=15\t err=2.3514032e-5\n",
      "t=16\t err=8.0913305e-6\n",
      "converged: err=8.0913305e-6, tol=1.0e-5\n"
     ]
    }
   ],
   "source": [
    "BpAlignGpu.test_sweep!(100,af,pm,pa)"
   ]
  },
  {
   "cell_type": "code",
   "execution_count": null,
   "metadata": {},
   "outputs": [],
   "source": []
  },
  {
   "cell_type": "code",
   "execution_count": null,
   "metadata": {},
   "outputs": [],
   "source": []
  }
 ],
 "metadata": {
  "kernelspec": {
   "display_name": "Julia 1.7.1",
   "language": "julia",
   "name": "julia-1.7"
  },
  "language_info": {
   "file_extension": ".jl",
   "mimetype": "application/julia",
   "name": "julia",
   "version": "1.7.1"
  }
 },
 "nbformat": 4,
 "nbformat_minor": 4
}
