{
 "cells": [
  {
   "cell_type": "code",
   "execution_count": 1,
   "metadata": {},
   "outputs": [
    {
     "name": "stderr",
     "output_type": "stream",
     "text": [
      "\u001b[32m\u001b[1m  Activating\u001b[22m\u001b[39m project at `~/MSA/BpAlignGpu.jl`\n",
      "┌ Info: Precompiling BpAlignGpu [5a3eb610-29b2-4cbe-8ba2-ea97f65fa95d]\n",
      "└ @ Base loading.jl:1423\n"
     ]
    }
   ],
   "source": [
    "using Revise, Pkg\n",
    "Pkg.activate(\"/home/louise/MSA/BpAlignGpu.jl\")\n",
    "using BpAlignGpu"
   ]
  },
  {
   "cell_type": "code",
   "execution_count": 2,
   "metadata": {},
   "outputs": [
    {
     "name": "stderr",
     "output_type": "stream",
     "text": [
      "┌ Warning: The NVIDIA driver on this system only supports up to CUDA 11.0.0.\n",
      "│ For performance reasons, it is recommended to upgrade to a driver that supports CUDA 11.2 or higher.\n",
      "└ @ CUDA /home/louise/.julia/packages/CUDA/bki2w/src/initialization.jl:70\n"
     ]
    },
    {
     "data": {
      "text/plain": [
       "CuDevice(1): TITAN RTX"
      ]
     },
     "execution_count": 2,
     "metadata": {},
     "output_type": "execute_result"
    }
   ],
   "source": [
    "using CUDA\n",
    "CUDA.device!(1)"
   ]
  },
  {
   "cell_type": "code",
   "execution_count": 3,
   "metadata": {},
   "outputs": [],
   "source": [
    "q=21\n",
    "ctype=Symbol(\"amino\")\n",
    "typel=Symbol(\"bm\")\n",
    "T = Float32\n",
    "muext = 0.50;\n",
    "muint = 2.50;"
   ]
  },
  {
   "cell_type": "code",
   "execution_count": 4,
   "metadata": {},
   "outputs": [
    {
     "data": {
      "text/plain": []
     },
     "execution_count": 4,
     "metadata": {},
     "output_type": "execute_result"
    },
    {
     "name": "stdout",
     "output_type": "stream",
     "text": [
      "ParamAlgo{Float32}\n",
      "-------------\n",
      "damp=0.0\n",
      "tol=1.0e-5\n",
      "tolnorm=1.0e-5\n",
      "tmax=10\n",
      "upscheme=sequential\n",
      "lr=sce\n",
      "beta=1.0\n",
      "verbose=true\n",
      "-------------"
     ]
    }
   ],
   "source": [
    "damp=T(0.0)\n",
    "tol=T(1e-5)\n",
    "tolnorm=T(1e-5)\n",
    "tmax=10\n",
    "upscheme=:sequential # :random or :sequential\n",
    "lr=:sce  # :sce or :mf \n",
    "beta=T(1.0)\n",
    "verbose=true\n",
    "pa = ParamAlgo(damp, tol, tolnorm, tmax, upscheme, lr, beta, verbose)"
   ]
  },
  {
   "cell_type": "code",
   "execution_count": 5,
   "metadata": {},
   "outputs": [],
   "source": [
    "(N, L) = (6, 5) \n",
    "#(N, L) = (161, 67)\n",
    "\n",
    "using Random\n",
    "header = \"myseq\"\n",
    "myseq = randstring('A':'Z', N)\n",
    "seq = Seq(header, myseq, ctype)\n",
    "\n",
    "lambda_o = ones(L)\n",
    "lambda_e = ones(L)\n",
    "H = rand(q,L)\n",
    "J = rand(q,q,L,L)\n",
    "J = J .+ permutedims(J, (2,1,4,3));"
   ]
  },
  {
   "cell_type": "code",
   "execution_count": 6,
   "metadata": {},
   "outputs": [
    {
     "data": {
      "text/plain": [
       "ParamModel{Float32}[L=5 N=6 q=21 size=43.547 KiB]"
      ]
     },
     "execution_count": 6,
     "metadata": {},
     "output_type": "execute_result"
    }
   ],
   "source": [
    "pm = ParamModel{T}(N, L, q, muint, muext, lambda_o, lambda_e, H, J)"
   ]
  },
  {
   "cell_type": "code",
   "execution_count": 7,
   "metadata": {},
   "outputs": [
    {
     "data": {
      "text/plain": [
       "BPMessages{Float32}[L=5 N=6 ongpu=true size=26.914 KiB]"
      ]
     },
     "execution_count": 7,
     "metadata": {},
     "output_type": "execute_result"
    }
   ],
   "source": [
    "bpm = BPMessages(seq, pm)"
   ]
  },
  {
   "cell_type": "code",
   "execution_count": 8,
   "metadata": {},
   "outputs": [
    {
     "data": {
      "text/plain": [
       "BPBeliefs{Float32}[L=5 N=6 ongpu=true size=30.625 KiB]"
      ]
     },
     "execution_count": 8,
     "metadata": {},
     "output_type": "execute_result"
    }
   ],
   "source": [
    "bpb = BPBeliefs(N, L)"
   ]
  },
  {
   "cell_type": "code",
   "execution_count": 9,
   "metadata": {},
   "outputs": [
    {
     "data": {
      "text/plain": [
       "LongRangeFields{Float32}[L=5 N=6 ongpu=true size=5.312 KiB]"
      ]
     },
     "execution_count": 9,
     "metadata": {},
     "output_type": "execute_result"
    }
   ],
   "source": [
    "lrf = LongRangeFields(N, L)"
   ]
  },
  {
   "cell_type": "code",
   "execution_count": 10,
   "metadata": {},
   "outputs": [
    {
     "data": {
      "text/plain": [
       "AllFields{Float32}[L=5 N=6 ongpu=true size=62.852 KiB]"
      ]
     },
     "execution_count": 10,
     "metadata": {},
     "output_type": "execute_result"
    }
   ],
   "source": [
    "af = AllFields(bpm, bpb, lrf)"
   ]
  },
  {
   "cell_type": "code",
   "execution_count": null,
   "metadata": {},
   "outputs": [],
   "source": []
  },
  {
   "cell_type": "code",
   "execution_count": 11,
   "metadata": {},
   "outputs": [
    {
     "name": "stdout",
     "output_type": "stream",
     "text": [
      " 60.367893 seconds (70.79 M allocations: 3.682 GiB, 4.48% gc time, 52.67% compilation time)\n",
      "  4.822871 seconds (7.21 M allocations: 387.819 MiB, 2.58% gc time, 74.42% compilation time)\n",
      "  4.089363 seconds (5.66 M allocations: 300.234 MiB, 2.39% gc time, 90.89% compilation time)\n",
      "  5.655932 seconds (8.95 M allocations: 474.858 MiB, 3.76% gc time, 87.86% compilation time)\n",
      "  2.143898 seconds (3.30 M allocations: 174.266 MiB, 2.00% gc time, 80.40% compilation time)\n",
      " 19.020379 seconds (31.35 M allocations: 1.570 GiB, 3.64% gc time, 89.71% compilation time)\n",
      "  4.423168 seconds (6.73 M allocations: 353.698 MiB, 5.56% gc time, 89.26% compilation time)\n",
      "  4.859362 seconds (4.74 M allocations: 248.938 MiB, 3.21% gc time, 76.33% compilation time)\n"
     ]
    }
   ],
   "source": [
    "@time BpAlignGpu.update_F!(af, pm, pa)\n",
    "@time BpAlignGpu.update_hF!(af, pm, pa)\n",
    "@time BpAlignGpu.update_B!(af, pm, pa)\n",
    "@time BpAlignGpu.update_hB!(af, pm, pa)\n",
    "@time BpAlignGpu.update_beliefs!(af, pm, pa)\n",
    "@time BpAlignGpu.update_jointchain!(af, pm, pa)\n",
    "@time BpAlignGpu.update_conditional_chain!(af, pa)\n",
    "@time BpAlignGpu.update_conditional_all!(af, pm)\n"
   ]
  },
  {
   "cell_type": "code",
   "execution_count": null,
   "metadata": {},
   "outputs": [],
   "source": []
  },
  {
   "cell_type": "code",
   "execution_count": 19,
   "metadata": {},
   "outputs": [
    {
     "name": "stdout",
     "output_type": "stream",
     "text": [
      "  0.000517 seconds (319 allocations: 17.109 KiB)\n"
     ]
    }
   ],
   "source": [
    "@time resgo = BpAlignGpu.update_gold!(af);"
   ]
  },
  {
   "cell_type": "code",
   "execution_count": 20,
   "metadata": {},
   "outputs": [
    {
     "name": "stdout",
     "output_type": "stream",
     "text": [
      "  0.001217 seconds (878 allocations: 44.672 KiB)\n"
     ]
    }
   ],
   "source": [
    "@time resg = BpAlignGpu.update_g_lowmem!(af);"
   ]
  },
  {
   "cell_type": "code",
   "execution_count": 21,
   "metadata": {},
   "outputs": [
    {
     "name": "stdout",
     "output_type": "stream",
     "text": [
      "  0.001108 seconds (813 allocations: 42.156 KiB)\n"
     ]
    }
   ],
   "source": [
    "@time BpAlignGpu.update_g!(af)"
   ]
  },
  {
   "cell_type": "code",
   "execution_count": 27,
   "metadata": {},
   "outputs": [
    {
     "data": {
      "text/plain": [
       "(6.747246f-5, 0.00013566017f0)"
      ]
     },
     "execution_count": 27,
     "metadata": {},
     "output_type": "execute_result"
    }
   ],
   "source": [
    "sum(abs.(af.lrf.g - resg)), sum(abs.(resg[:,:,:,:,1:L-1] - resgo))"
   ]
  },
  {
   "cell_type": "code",
   "execution_count": null,
   "metadata": {},
   "outputs": [],
   "source": []
  },
  {
   "cell_type": "code",
   "execution_count": 32,
   "metadata": {},
   "outputs": [
    {
     "name": "stdout",
     "output_type": "stream",
     "text": [
      "  0.000561 seconds (285 allocations: 14.219 KiB)\n"
     ]
    }
   ],
   "source": [
    "@time resfo = BpAlignGpu.update_fold!(af);"
   ]
  },
  {
   "cell_type": "code",
   "execution_count": 33,
   "metadata": {},
   "outputs": [
    {
     "name": "stdout",
     "output_type": "stream",
     "text": [
      "  0.000814 seconds (327 allocations: 17.891 KiB)\n"
     ]
    }
   ],
   "source": [
    "@time BpAlignGpu.update_f!(af);"
   ]
  },
  {
   "cell_type": "code",
   "execution_count": 34,
   "metadata": {},
   "outputs": [
    {
     "name": "stdout",
     "output_type": "stream",
     "text": [
      "  0.000809 seconds (401 allocations: 20.875 KiB)\n"
     ]
    }
   ],
   "source": [
    "@time resf = BpAlignGpu.update_f_lowmem!(af);"
   ]
  },
  {
   "cell_type": "code",
   "execution_count": 35,
   "metadata": {
    "scrolled": true
   },
   "outputs": [
    {
     "data": {
      "text/plain": [
       "(4.053116f-6, 4.7683716f-6)"
      ]
     },
     "execution_count": 35,
     "metadata": {},
     "output_type": "execute_result"
    }
   ],
   "source": [
    "sum(abs.(af.lrf.f - resf)), sum(abs.(af.lrf.f - resfo)) "
   ]
  },
  {
   "cell_type": "code",
   "execution_count": null,
   "metadata": {},
   "outputs": [],
   "source": []
  },
  {
   "cell_type": "code",
   "execution_count": null,
   "metadata": {},
   "outputs": [],
   "source": []
  },
  {
   "cell_type": "code",
   "execution_count": 17,
   "metadata": {},
   "outputs": [],
   "source": [
    "BpAlignGpu.one_bp_sweep!(af, pm, pa)"
   ]
  },
  {
   "cell_type": "code",
   "execution_count": 18,
   "metadata": {},
   "outputs": [
    {
     "name": "stdout",
     "output_type": "stream",
     "text": [
      "t=1\t err=0.14632031\n",
      "t=2\t err=0.2410874\n",
      "t=3\t err=0.037026465\n",
      "t=4\t err=0.016859531\n",
      "t=5\t err=0.01909548\n",
      "t=6\t err=0.0031093322\n",
      "t=7\t err=0.0040263534\n",
      "t=8\t err=0.0015021563\n",
      "t=9\t err=0.0011902452\n",
      "t=10\t err=0.0009968281\n",
      "t=11\t err=0.00076025724\n",
      "t=12\t err=0.000351429\n",
      "t=13\t err=0.00020188093\n",
      "t=14\t err=0.00010347366\n",
      "t=15\t err=5.26011e-5\n",
      "t=16\t err=2.4735928e-5\n",
      "t=17\t err=1.5556812e-5\n",
      "t=18\t err=1.335144e-5\n",
      "t=19\t err=8.225441e-6\n",
      "converged: err=8.225441e-6, tol=1.0e-5\n"
     ]
    }
   ],
   "source": [
    "BpAlignGpu.test_sweep!(100,af,pm,pa)"
   ]
  },
  {
   "cell_type": "code",
   "execution_count": null,
   "metadata": {},
   "outputs": [],
   "source": []
  },
  {
   "cell_type": "code",
   "execution_count": 19,
   "metadata": {},
   "outputs": [
    {
     "data": {
      "text/plain": [
       "6.364505648612976"
      ]
     },
     "execution_count": 19,
     "metadata": {},
     "output_type": "execute_result"
    }
   ],
   "source": [
    "BpAlignGpu.lr_freeen(af, pm)"
   ]
  },
  {
   "cell_type": "code",
   "execution_count": 20,
   "metadata": {},
   "outputs": [
    {
     "data": {
      "text/plain": [
       "(-21.221033f0, [-0.30802572;;; -6.5986495;;; -7.6639633;;; -6.644477;;; -0.005917739])"
      ]
     },
     "execution_count": 20,
     "metadata": {},
     "output_type": "execute_result"
    }
   ],
   "source": [
    "BpAlignGpu.logZi(af, pm, pa)"
   ]
  },
  {
   "cell_type": "code",
   "execution_count": 21,
   "metadata": {},
   "outputs": [
    {
     "data": {
      "text/plain": [
       "(10.904351f0, [1.9342438;;;;; 3.2062142;;;;; 3.659298;;;;; 2.104595;;;;; 0.0])"
      ]
     },
     "execution_count": 21,
     "metadata": {},
     "output_type": "execute_result"
    }
   ],
   "source": [
    "BpAlignGpu.logZa(af, pm, pa)"
   ]
  },
  {
   "cell_type": "code",
   "execution_count": 22,
   "metadata": {},
   "outputs": [
    {
     "data": {
      "text/plain": [
       "-26.486605f0"
      ]
     },
     "execution_count": 22,
     "metadata": {},
     "output_type": "execute_result"
    }
   ],
   "source": [
    "BpAlignGpu.logZia(af, pm)"
   ]
  },
  {
   "cell_type": "code",
   "execution_count": null,
   "metadata": {},
   "outputs": [],
   "source": []
  }
 ],
 "metadata": {
  "kernelspec": {
   "display_name": "Julia 1.7.1",
   "language": "julia",
   "name": "julia-1.7"
  },
  "language_info": {
   "file_extension": ".jl",
   "mimetype": "application/julia",
   "name": "julia",
   "version": "1.7.1"
  }
 },
 "nbformat": 4,
 "nbformat_minor": 4
}
