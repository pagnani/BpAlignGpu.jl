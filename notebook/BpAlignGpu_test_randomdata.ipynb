{
 "cells": [
  {
   "cell_type": "code",
   "execution_count": 1,
   "metadata": {},
   "outputs": [
    {
     "name": "stderr",
     "output_type": "stream",
     "text": [
      "\u001b[32m\u001b[1m  Activating\u001b[22m\u001b[39m project at `~/MSA/BpAlignGpu.jl`\n"
     ]
    }
   ],
   "source": [
    "using Revise, Pkg\n",
    "Pkg.activate(\"/home/louise/MSA/BpAlignGpu.jl\")\n",
    "using BpAlignGpu"
   ]
  },
  {
   "cell_type": "code",
   "execution_count": 2,
   "metadata": {},
   "outputs": [],
   "source": [
    "q=21\n",
    "ctype=Symbol(\"amino\")\n",
    "typel=Symbol(\"bm\")\n",
    "T = Float32\n",
    "muext = 0.50;\n",
    "muint = 2.50;"
   ]
  },
  {
   "cell_type": "code",
   "execution_count": 3,
   "metadata": {},
   "outputs": [
    {
     "data": {
      "text/plain": []
     },
     "execution_count": 3,
     "metadata": {},
     "output_type": "execute_result"
    },
    {
     "name": "stdout",
     "output_type": "stream",
     "text": [
      "ParamAlgo{Float32}\n",
      "-------------\n",
      "damp=0.0\n",
      "tol=1.0e-5\n",
      "tolnorm=1.0e-5\n",
      "tmax=10\n",
      "upscheme=sequential\n",
      "lr=sce\n",
      "beta=1.0\n",
      "verbose=true\n",
      "-------------\n"
     ]
    }
   ],
   "source": [
    "damp=T(0.0)\n",
    "tol=T(1e-5)\n",
    "tolnorm=T(1e-5)\n",
    "tmax=10\n",
    "upscheme=:sequential # :random or :sequential\n",
    "lr=:sce  # :sce or :mf \n",
    "beta=T(1.0)\n",
    "verbose=true\n",
    "pa = ParamAlgo(damp, tol, tolnorm, tmax, upscheme, lr, beta, verbose)"
   ]
  },
  {
   "cell_type": "code",
   "execution_count": 4,
   "metadata": {},
   "outputs": [],
   "source": [
    "(N, L) = (5, 5) \n",
    "\n",
    "using Random\n",
    "header = \"myseq\"\n",
    "myseq = randstring('A':'Z', N)\n",
    "seq = Seq(header, myseq, ctype)\n",
    "\n",
    "lambda_o = ones(L)\n",
    "lambda_e = ones(L)\n",
    "H = rand(q,L)\n",
    "J = rand(q,q,L,L)\n",
    "J = J .+ permutedims(J, (2,1,4,3));"
   ]
  },
  {
   "cell_type": "code",
   "execution_count": 5,
   "metadata": {},
   "outputs": [
    {
     "data": {
      "text/plain": [
       "ParamModel{Float32}[L=5 N=5 q=21]\n"
      ]
     },
     "execution_count": 5,
     "metadata": {},
     "output_type": "execute_result"
    }
   ],
   "source": [
    "pm = ParamModel{T}(N, L, q, muint, muext, lambda_o, lambda_e, H, J)"
   ]
  },
  {
   "cell_type": "code",
   "execution_count": 6,
   "metadata": {},
   "outputs": [
    {
     "name": "stderr",
     "output_type": "stream",
     "text": [
      "┌ Warning: The NVIDIA driver on this system only supports up to CUDA 11.0.0.\n",
      "│ For performance reasons, it is recommended to upgrade to a driver that supports CUDA 11.2 or higher.\n",
      "└ @ CUDA /home/louise/.julia/packages/CUDA/bki2w/src/initialization.jl:70\n"
     ]
    },
    {
     "data": {
      "text/plain": [
       "AllFields{Float32}[L=5 N=5 ongpu=true]"
      ]
     },
     "execution_count": 6,
     "metadata": {},
     "output_type": "execute_result"
    }
   ],
   "source": [
    "bpm = BPMessages(seq, pm)\n",
    "bpb = BPBeliefs(N, L)\n",
    "lrf = LongRangeFields(N, L)\n",
    "af = AllFields(bpm, bpb, lrf)"
   ]
  },
  {
   "cell_type": "code",
   "execution_count": 7,
   "metadata": {},
   "outputs": [],
   "source": [
    "BpAlignGpu.update_F!(af, pm, pa)\n",
    "BpAlignGpu.update_hF!(af, pm, pa)\n",
    "BpAlignGpu.update_B!(af, pm, pa)\n",
    "BpAlignGpu.update_hB!(af, pm, pa)\n",
    "BpAlignGpu.update_beliefs!(af, pm, pa)\n",
    "BpAlignGpu.update_jointchain!(af, pm, pa)\n",
    "BpAlignGpu.update_conditional_chain!(af, pa)\n",
    "BpAlignGpu.update_conditional_all!(af, pm)\n",
    "BpAlignGpu.update_f!(af)\n",
    "BpAlignGpu.update_gold!(af)\n"
   ]
  },
  {
   "cell_type": "code",
   "execution_count": 22,
   "metadata": {},
   "outputs": [],
   "source": [
    "conditional = af.bpb.conditional;"
   ]
  },
  {
   "cell_type": "code",
   "execution_count": 23,
   "metadata": {},
   "outputs": [
    {
     "data": {
      "text/plain": [
       "7"
      ]
     },
     "execution_count": 23,
     "metadata": {},
     "output_type": "execute_result"
    }
   ],
   "source": [
    "using Tullio\n",
    "np1 = size(conditional, 1)"
   ]
  },
  {
   "cell_type": "code",
   "execution_count": 60,
   "metadata": {},
   "outputs": [],
   "source": [
    "mask = similar(conditional)\n",
    "@tullio mask[ni, xi, nj, xj, i, j] = (i < j) (ni in 1:np1, xi in 1:2, nj in 1:np1, xj in 1:2, i in 1:L, j in 1:L)\n",
    "mask = reshape(permutedims(mask, (1, 2, 5, 3, 4, 6)), L * 2 * np1, L * 2 * np1)\n",
    "J = reshape(permutedims(Jseq, (1, 2, 5, 3, 4, 6)), L * 2 * np1, L * 2 * np1)\n",
    "cond = reshape(permutedims(conditional, (1, 2, 5, 3, 4, 6)), L * 2 * np1, L * 2 * np1)"
   ]
  },
  {
   "cell_type": "code",
   "execution_count": 123,
   "metadata": {},
   "outputs": [],
   "source": [
    "mask2 = similar(conditional)\n",
    "@tullio mask2[ni, xi, nj, xj, i, j] = (i <= j) (ni in 1:np1, xi in 1:2, nj in 1:np1, xj in 1:2, i in 1:L, j in 1:L);\n",
    "mask2 = reshape(permutedims(mask2, (1, 2, 5, 3, 4, 6)), L * 2 * np1, L * 2 * np1);\n"
   ]
  },
  {
   "cell_type": "code",
   "execution_count": 117,
   "metadata": {},
   "outputs": [
    {
     "data": {
      "text/plain": [
       "true"
      ]
     },
     "execution_count": 117,
     "metadata": {},
     "output_type": "execute_result"
    }
   ],
   "source": [
    "ff = fill(NaN, N+2, 2, L)\n",
    "ff .= reshape(diag(- (mask .* cond') * (JJ * (cond .* mask))), np1, 2, L);\n",
    "af.lrf.f[:,:,4] == ff[:,:,4]"
   ]
  },
  {
   "cell_type": "code",
   "execution_count": 120,
   "metadata": {},
   "outputs": [],
   "source": [
    "using LinearAlgebra"
   ]
  },
  {
   "cell_type": "code",
   "execution_count": 125,
   "metadata": {},
   "outputs": [],
   "source": [
    "tmp =  (mask2 .* cond') * (JJ * (cond .* mask));"
   ]
  },
  {
   "cell_type": "code",
   "execution_count": 126,
   "metadata": {},
   "outputs": [],
   "source": [
    "tmp = tmp .* mask2;"
   ]
  },
  {
   "cell_type": "code",
   "execution_count": 127,
   "metadata": {},
   "outputs": [
    {
     "data": {
      "text/plain": [
       "7×7 CUDA.CuArray{Float32, 2, CUDA.Mem.DeviceBuffer}:\n",
       " 2.93025  2.88094  3.06702  2.52889  2.63884  0.0  2.44922\n",
       " 2.93025  2.88094  3.06702  2.52889  2.63884  0.0  2.44922\n",
       " 2.93025  2.88094  3.06702  2.52889  2.63884  0.0  2.44922\n",
       " 2.93025  2.88094  3.06702  2.52889  2.63884  0.0  2.44922\n",
       " 2.93025  2.88094  3.06702  2.52889  2.63884  0.0  2.44922\n",
       " 2.93025  2.88094  3.06702  2.52889  2.63884  0.0  2.44922\n",
       " 2.93025  2.88094  3.06702  2.52889  2.63884  0.0  2.44922"
      ]
     },
     "execution_count": 127,
     "metadata": {},
     "output_type": "execute_result"
    }
   ],
   "source": [
    "af.lrf.g[:,1,:,1,1]"
   ]
  },
  {
   "cell_type": "code",
   "execution_count": 113,
   "metadata": {},
   "outputs": [
    {
     "data": {
      "text/plain": [
       "8:14"
      ]
     },
     "execution_count": 113,
     "metadata": {},
     "output_type": "execute_result"
    }
   ],
   "source": [
    "range0 = 1:N+2\n",
    "range2 = N+3:2N+4"
   ]
  },
  {
   "cell_type": "code",
   "execution_count": 128,
   "metadata": {},
   "outputs": [
    {
     "data": {
      "text/plain": [
       "14×14 CUDA.CuArray{Float32, 2, CUDA.Mem.DeviceBuffer}:\n",
       " 7.49353  7.15982  7.47201  8.68782  …  7.41762  8.43014  7.83517  0.0\n",
       " 7.42065  6.99903  7.26551  8.43632     7.29301  8.20321  7.94613  0.0\n",
       " 7.43419  7.33677  6.76069  8.59615     7.28562  8.32463  8.15603  0.0\n",
       " 6.42441  6.83712  6.52164  8.20895     6.62386  7.87454  7.21502  0.0\n",
       " 6.85019  7.16905  6.707    8.55097     6.9749   8.21667  7.73328  0.0\n",
       " 1.22094  1.70717  1.55058  2.55824  …  1.47236  2.32803  1.78468  0.0\n",
       " 6.74147  6.82414  7.2086   8.83882     6.90965  8.44434  7.44801  0.0\n",
       " 0.0      0.0      0.0      0.0         0.0      0.0      0.0      0.0\n",
       " 7.67694  7.19383  7.13279  7.71525     7.40733  7.65853  7.53682  0.0\n",
       " 6.82609  6.7404   8.12257  7.95443     7.12566  7.78665  8.09158  0.0\n",
       " 8.46455  7.98247  7.74686  8.22817  …  8.15918  8.21719  7.68975  0.0\n",
       " 7.75525  7.2978   7.45939  8.03287     7.56123  7.94234  7.99443  0.0\n",
       " 8.65305  7.98309  8.17111  8.62511     8.33664  8.57505  7.83665  0.0\n",
       " 0.0      0.0      0.0      0.0         0.0      0.0      0.0      0.0"
      ]
     },
     "execution_count": 128,
     "metadata": {},
     "output_type": "execute_result"
    }
   ],
   "source": [
    "l=2\n",
    "tt = tmp[1+(l-1)*(2N+4):l*(2N+4), 1+l*(2N+4):(l+1)*(2N+4)]\n",
    "tt"
   ]
  },
  {
   "cell_type": "code",
   "execution_count": 129,
   "metadata": {},
   "outputs": [],
   "source": [
    "gg = fill(NaN, N+2, 2, N+2, 2, L);"
   ]
  },
  {
   "cell_type": "code",
   "execution_count": 130,
   "metadata": {},
   "outputs": [],
   "source": [
    "for l=1:L-1\n",
    "    gg[:,:,:,:,l] .= reshape(tmp[1+(l-1)*(2N+4):l*(2N+4), 1+l*(2N+4):(l+1)*(2N+4)], np1, 2, np1, 2)\n",
    "end"
   ]
  },
  {
   "cell_type": "code",
   "execution_count": 131,
   "metadata": {},
   "outputs": [
    {
     "data": {
      "text/plain": [
       "7×7 Matrix{Float64}:\n",
       " 0.0  0.0      0.0      0.0      0.0      0.0      0.0\n",
       " 0.0  4.91901  5.04411  5.28238  5.4391   4.746    0.0\n",
       " 0.0  5.14566  5.66111  5.45678  5.38388  4.8344   0.0\n",
       " 0.0  5.043    5.46651  5.37299  5.01412  4.87975  0.0\n",
       " 0.0  4.37978  4.74074  4.51249  4.92527  4.43412  0.0\n",
       " 0.0  4.24948  5.34418  4.97769  4.64405  4.3504   0.0\n",
       " 0.0  0.0      0.0      0.0      0.0      0.0      0.0"
      ]
     },
     "execution_count": 131,
     "metadata": {},
     "output_type": "execute_result"
    }
   ],
   "source": [
    "gg[:,2,:,2,1]"
   ]
  },
  {
   "cell_type": "code",
   "execution_count": 132,
   "metadata": {},
   "outputs": [
    {
     "data": {
      "text/plain": [
       "7×7 CUDA.CuArray{Float32, 2, CUDA.Mem.DeviceBuffer}:\n",
       " 0.0  0.0      0.0      0.0      0.0      0.0      0.0\n",
       " 0.0  3.55507  3.46071  3.15974  3.49881  3.22212  0.0\n",
       " 0.0  3.5333   3.37356  3.29429  3.77177  3.0631   0.0\n",
       " 0.0  3.26476  3.69038  3.65012  3.67949  3.94221  0.0\n",
       " 0.0  2.91838  2.72676  2.9163   2.49471  2.09051  0.0\n",
       " 0.0  3.26476  3.69038  3.65012  3.67949  3.94221  0.0\n",
       " 0.0  0.0      0.0      0.0      0.0      0.0      0.0"
      ]
     },
     "execution_count": 132,
     "metadata": {},
     "output_type": "execute_result"
    }
   ],
   "source": [
    "af.lrf.g[:,2,:,2,1]"
   ]
  },
  {
   "cell_type": "code",
   "execution_count": null,
   "metadata": {},
   "outputs": [],
   "source": []
  },
  {
   "cell_type": "code",
   "execution_count": null,
   "metadata": {},
   "outputs": [],
   "source": []
  },
  {
   "cell_type": "code",
   "execution_count": null,
   "metadata": {},
   "outputs": [],
   "source": []
  },
  {
   "cell_type": "code",
   "execution_count": null,
   "metadata": {},
   "outputs": [],
   "source": []
  },
  {
   "cell_type": "code",
   "execution_count": 15,
   "metadata": {},
   "outputs": [],
   "source": [
    "#BpAlignGpu.one_bp_sweep!(af, pm, pa)"
   ]
  },
  {
   "cell_type": "code",
   "execution_count": 16,
   "metadata": {},
   "outputs": [],
   "source": [
    "#BpAlignGpu.test_sweep!(100,af,pm,pa)"
   ]
  },
  {
   "cell_type": "code",
   "execution_count": null,
   "metadata": {},
   "outputs": [],
   "source": []
  },
  {
   "cell_type": "code",
   "execution_count": null,
   "metadata": {},
   "outputs": [],
   "source": []
  }
 ],
 "metadata": {
  "kernelspec": {
   "display_name": "Julia 1.7.1",
   "language": "julia",
   "name": "julia-1.7"
  },
  "language_info": {
   "file_extension": ".jl",
   "mimetype": "application/julia",
   "name": "julia",
   "version": "1.7.1"
  }
 },
 "nbformat": 4,
 "nbformat_minor": 4
}
