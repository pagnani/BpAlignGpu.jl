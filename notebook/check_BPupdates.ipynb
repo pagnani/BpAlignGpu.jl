{
 "cells": [
  {
   "cell_type": "code",
   "execution_count": 1,
   "metadata": {},
   "outputs": [
    {
     "name": "stderr",
     "output_type": "stream",
     "text": [
      "\u001b[32m\u001b[1m  Activating\u001b[22m\u001b[39m project at `~/MSA/BpAlignGpu.jl`\n"
     ]
    }
   ],
   "source": [
    "using Revise, Pkg\n",
    "Pkg.activate(\"/home/louise/MSA/BpAlignGpu.jl\")\n",
    "using BpAlignGpu"
   ]
  },
  {
   "cell_type": "code",
   "execution_count": 2,
   "metadata": {},
   "outputs": [
    {
     "data": {
      "text/plain": [
       "(21, 161, 67)"
      ]
     },
     "execution_count": 2,
     "metadata": {},
     "output_type": "execute_result"
    }
   ],
   "source": [
    "#(q, N, L) = (21, 161, 67) \n",
    "(q, N, L) = (21, 5, 5) "
   ]
  },
  {
   "cell_type": "code",
   "execution_count": 3,
   "metadata": {},
   "outputs": [
    {
     "data": {
      "text/plain": [
       "convert_T6_xnTOy (generic function with 1 method)"
      ]
     },
     "execution_count": 3,
     "metadata": {},
     "output_type": "execute_result"
    }
   ],
   "source": [
    "function convert_T3_xnTOy(tmp)\n",
    "    SCE_ar = fill(0.0, 2N+4, L)\n",
    "    for i=1:L\n",
    "        for n=1:N+2\n",
    "            SCE_ar[n, i] = tmp[n,1,i]\n",
    "            SCE_ar[N+2+n, i] = tmp[n,2,i]\n",
    "        end\n",
    "    end\n",
    "    return SCE_ar\n",
    "end\n",
    "function convert_T5_xnTOy(tmp)\n",
    "    SCE_ar = fill(0.0, 2N+4, 2N+4, L)\n",
    "    for i=1:L\n",
    "        for n1=1:N+2\n",
    "            for n2=1:N+2\n",
    "                SCE_ar[n1, n2, i] = tmp[n1, 1, n2, 1, i]\n",
    "                SCE_ar[n1, N+2+n2, i] = tmp[n1, 1, n2, 2, i]\n",
    "                SCE_ar[N+2+n1, n2, i] = tmp[n1, 2, n2, 1, i]\n",
    "                SCE_ar[N+2+n1, N+2+n2, i] = tmp[n1, 2, n2, 2, i]\n",
    "            end\n",
    "        end\n",
    "    end\n",
    "    return SCE_ar\n",
    "end\n",
    "function convert_T6_xnTOy(tmp)\n",
    "    SCE_ar = fill(0.0, 2N+4, 2N+4, L, L)\n",
    "    for i=1:L\n",
    "        for j=1:L\n",
    "            for n1=1:N+2\n",
    "                for n2=1:N+2\n",
    "                    SCE_ar[n1, n2, i, j] = tmp[n1, 1, n2, 1, i, j]\n",
    "                    SCE_ar[n1, N+2+n2, i, j] = tmp[n1, 1, n2, 2, i, j]\n",
    "                    SCE_ar[N+2+n1, n2, i, j] = tmp[n1, 2, n2, 1, i, j]\n",
    "                    SCE_ar[N+2+n1, N+2+n2, i, j] = tmp[n1, 2, n2, 2, i, j]\n",
    "                end\n",
    "            end\n",
    "        end\n",
    "    end\n",
    "    return SCE_ar\n",
    "end"
   ]
  },
  {
   "cell_type": "code",
   "execution_count": 4,
   "metadata": {},
   "outputs": [
    {
     "data": {
      "text/plain": [
       "Float32"
      ]
     },
     "execution_count": 4,
     "metadata": {},
     "output_type": "execute_result"
    }
   ],
   "source": [
    "T = Float32"
   ]
  },
  {
   "cell_type": "code",
   "execution_count": 5,
   "metadata": {},
   "outputs": [
    {
     "data": {
      "text/plain": [
       "myseq\n",
       "JNDABAISHNRHERMLLCNHREZHAKTTRTQHYKTHKCTFOKFGXKGBZQHOMXHXGVVDZCMWJPPVIQIUGBGAFHENDQMSFZCNXBLGDVIGDJSWFICUQHRGHIZAXYUIXFZYCLJTCQUUFZNJNPGEFGFQTTQKZSNQSFDNDOZOPQYOG\n"
      ]
     },
     "execution_count": 5,
     "metadata": {},
     "output_type": "execute_result"
    }
   ],
   "source": [
    "using Random\n",
    "header = \"myseq\"\n",
    "myseq = randstring('A':'Z', N)\n",
    "ctype=Symbol(\"amino\")\n",
    "seq = Seq(header, myseq, ctype)"
   ]
  },
  {
   "cell_type": "code",
   "execution_count": 6,
   "metadata": {},
   "outputs": [],
   "source": [
    "muint = 1.5\n",
    "muext = 1.2\n",
    "lambda_o = ones(L)\n",
    "lambda_e = ones(L)\n",
    "H = rand(q,L)\n",
    "J = rand(q,q,L,L)\n",
    "J = J .+ permutedims(J, (2,1,4,3));"
   ]
  },
  {
   "cell_type": "code",
   "execution_count": 7,
   "metadata": {},
   "outputs": [
    {
     "data": {
      "text/plain": [
       "ParamModel{Float32}[L=67 N=161 q=21]\n"
      ]
     },
     "execution_count": 7,
     "metadata": {},
     "output_type": "execute_result"
    }
   ],
   "source": [
    "pm = ParamModel{T}(N, L, q, muint, muext, lambda_o, lambda_e, H, J)"
   ]
  },
  {
   "cell_type": "code",
   "execution_count": 8,
   "metadata": {},
   "outputs": [
    {
     "data": {
      "text/plain": []
     },
     "execution_count": 8,
     "metadata": {},
     "output_type": "execute_result"
    },
    {
     "name": "stdout",
     "output_type": "stream",
     "text": [
      "ParamAlgo{Float32}\n",
      "-------------\n",
      "damp=0.0\n",
      "tol=1.0e-5\n",
      "tolnorm=1.0e-5\n",
      "tmax=10\n",
      "upscheme=sequential\n",
      "lr=sce\n",
      "beta=1.0\n",
      "verbose=true\n",
      "-------------\n"
     ]
    }
   ],
   "source": [
    "damp=T(0.0)\n",
    "tol=T(1e-5)\n",
    "tolnorm=T(1e-5)\n",
    "tmax=10\n",
    "upscheme=:sequential # :random or :sequential\n",
    "lr=:sce  # :sce or :mf \n",
    "beta=T(1.0)\n",
    "verbose=true\n",
    "pa = ParamAlgo(damp, tol, tolnorm, tmax, upscheme, lr, beta, verbose)"
   ]
  },
  {
   "cell_type": "code",
   "execution_count": 9,
   "metadata": {},
   "outputs": [
    {
     "name": "stderr",
     "output_type": "stream",
     "text": [
      "┌ Warning: The NVIDIA driver on this system only supports up to CUDA 11.0.0.\n",
      "│ For performance reasons, it is recommended to upgrade to a driver that supports CUDA 11.2 or higher.\n",
      "└ @ CUDA /home/louise/.julia/packages/CUDA/bki2w/src/initialization.jl:70\n"
     ]
    },
    {
     "data": {
      "text/plain": [
       "BPMessages{Float32}[L=67 N=161 ongpu=true]\n"
      ]
     },
     "execution_count": 9,
     "metadata": {},
     "output_type": "execute_result"
    }
   ],
   "source": [
    "bpm = BPMessages(seq, pm)"
   ]
  },
  {
   "cell_type": "code",
   "execution_count": 10,
   "metadata": {},
   "outputs": [
    {
     "ename": "LoadError",
     "evalue": "Out of GPU memory trying to allocate 1.777 GiB\nEffective GPU memory usage: 95.69% (22.634 GiB/23.653 GiB)\nNo memory pool is in use.",
     "output_type": "error",
     "traceback": [
      "Out of GPU memory trying to allocate 1.777 GiB\nEffective GPU memory usage: 95.69% (22.634 GiB/23.653 GiB)\nNo memory pool is in use.",
      "",
      "Stacktrace:",
      "  [1] macro expansion",
      "    @ ~/.julia/packages/CUDA/bki2w/src/pool.jl:215 [inlined]",
      "  [2] macro expansion",
      "    @ ./timing.jl:299 [inlined]",
      "  [3] #_alloc#192",
      "    @ ~/.julia/packages/CUDA/bki2w/src/pool.jl:183 [inlined]",
      "  [4] #alloc#191",
      "    @ ~/.julia/packages/CUDA/bki2w/src/pool.jl:169 [inlined]",
      "  [5] alloc",
      "    @ ~/.julia/packages/CUDA/bki2w/src/pool.jl:165 [inlined]",
      "  [6] CUDA.CuArray{Float32, 6, CUDA.Mem.DeviceBuffer}(#unused#::UndefInitializer, dims::NTuple{6, Int64})",
      "    @ CUDA ~/.julia/packages/CUDA/bki2w/src/array.jl:44",
      "  [7] CuArray",
      "    @ ~/.julia/packages/CUDA/bki2w/src/array.jl:287 [inlined]",
      "  [8] adapt_storage(#unused#::CUDA.CuArrayAdaptor{CUDA.Mem.DeviceBuffer}, xs::Array{Float32, 6})",
      "    @ CUDA ~/.julia/packages/CUDA/bki2w/src/array.jl:535",
      "  [9] adapt_structure",
      "    @ ~/.julia/packages/Adapt/wASZA/src/Adapt.jl:42 [inlined]",
      " [10] adapt",
      "    @ ~/.julia/packages/Adapt/wASZA/src/Adapt.jl:40 [inlined]",
      " [11] #cu#215",
      "    @ ~/.julia/packages/CUDA/bki2w/src/array.jl:545 [inlined]",
      " [12] cu",
      "    @ ~/.julia/packages/CUDA/bki2w/src/array.jl:545 [inlined]",
      " [13] |>(x::Array{Float32, 6}, f::typeof(CUDA.cu))",
      "    @ Base ./operators.jl:966",
      " [14] BPBeliefs(N::Int64, L::Int64; gpu::Bool, T::DataType)",
      "    @ BpAlignGpu ~/MSA/BpAlignGpu.jl/src/types.jl:265",
      " [15] BPBeliefs(N::Int64, L::Int64)",
      "    @ BpAlignGpu ~/MSA/BpAlignGpu.jl/src/types.jl:233",
      " [16] top-level scope",
      "    @ In[10]:1",
      " [17] eval",
      "    @ ./boot.jl:373 [inlined]",
      " [18] include_string(mapexpr::typeof(REPL.softscope), mod::Module, code::String, filename::String)",
      "    @ Base ./loading.jl:1196"
     ]
    }
   ],
   "source": [
    "bpb = BPBeliefs(N, L)"
   ]
  },
  {
   "cell_type": "code",
   "execution_count": 11,
   "metadata": {},
   "outputs": [
    {
     "data": {
      "text/plain": [
       "LongRangeFields{Float32}[L=67 N=161 ongpu=true]"
      ]
     },
     "execution_count": 11,
     "metadata": {},
     "output_type": "execute_result"
    }
   ],
   "source": [
    "lrf = LongRangeFields(N, L)"
   ]
  },
  {
   "cell_type": "code",
   "execution_count": 12,
   "metadata": {},
   "outputs": [
    {
     "ename": "LoadError",
     "evalue": "UndefVarError: bpb not defined",
     "output_type": "error",
     "traceback": [
      "UndefVarError: bpb not defined",
      "",
      "Stacktrace:",
      " [1] top-level scope",
      "   @ In[12]:1",
      " [2] eval",
      "   @ ./boot.jl:373 [inlined]",
      " [3] include_string(mapexpr::typeof(REPL.softscope), mod::Module, code::String, filename::String)",
      "   @ Base ./loading.jl:1196"
     ]
    }
   ],
   "source": [
    "af = AllFields(bpm, bpb, lrf)"
   ]
  },
  {
   "cell_type": "code",
   "execution_count": 17,
   "metadata": {},
   "outputs": [
    {
     "name": "stdout",
     "output_type": "stream",
     "text": [
      "  0.017453 seconds (332 allocations: 19.172 KiB)\n",
      "  0.000479 seconds (357 allocations: 20.375 KiB)\n",
      "  0.000491 seconds (332 allocations: 19.281 KiB)\n",
      "  0.000707 seconds (403 allocations: 23.438 KiB)\n",
      "  0.000419 seconds (168 allocations: 10.297 KiB)\n",
      "  0.000336 seconds (204 allocations: 13.844 KiB)\n",
      "  0.000535 seconds (330 allocations: 19.500 KiB)\n",
      "  0.001059 seconds (528 allocations: 30.375 KiB)\n",
      "  0.000274 seconds (139 allocations: 6.266 KiB)\n",
      "  0.000269 seconds (165 allocations: 8.141 KiB)\n"
     ]
    }
   ],
   "source": [
    "@time BpAlignGpu.update_F!(af, pm, pa)\n",
    "@time BpAlignGpu.update_hF!(af, pm, pa)\n",
    "@time BpAlignGpu.update_B!(af, pm, pa)\n",
    "@time BpAlignGpu.update_hB!(af, pm, pa)\n",
    "@time BpAlignGpu.update_beliefs!(af, pm)\n",
    "@time BpAlignGpu.update_jointchain!(af, pm)\n",
    "@time BpAlignGpu.update_conditional_chain!(af, pa)\n",
    "@time BpAlignGpu.update_conditional_all!(af, pm)\n",
    "@time BpAlignGpu.update_f!(af)\n",
    "@time BpAlignGpu.update_g!(af)"
   ]
  },
  {
   "cell_type": "code",
   "execution_count": 18,
   "metadata": {},
   "outputs": [
    {
     "name": "stdout",
     "output_type": "stream",
     "text": [
      "  0.003238 seconds (2.96 k allocations: 170.688 KiB)\n"
     ]
    }
   ],
   "source": [
    "@time BpAlignGpu.one_bp_sweep!(af, pm, pa)"
   ]
  },
  {
   "cell_type": "code",
   "execution_count": 19,
   "metadata": {},
   "outputs": [
    {
     "name": "stdout",
     "output_type": "stream",
     "text": [
      "t=1\t err=4.4703484e-7\n",
      "t=2\t err=3.5762787e-7\n",
      "t=3\t err=4.7683716e-7\n",
      "t=4\t err=4.7683716e-7\n",
      "t=5\t err=4.61936e-7\n",
      "t=6\t err=3.874302e-7\n",
      "t=7\t err=3.874302e-7\n",
      "t=8\t err=6.2584877e-7\n",
      "t=9\t err=4.172325e-7\n",
      "t=10\t err=4.4703484e-7\n",
      "t=11\t err=4.172325e-7\n",
      "t=12\t err=4.4703484e-7\n",
      "t=13\t err=3.2782555e-7\n",
      "t=14\t err=4.7683716e-7\n",
      "t=15\t err=5.066395e-7\n",
      "t=16\t err=4.7683716e-7\n",
      "t=17\t err=2.3841858e-7\n",
      "t=18\t err=3.874302e-7\n",
      "t=19\t err=3.7252903e-7\n",
      "t=20\t err=2.682209e-7\n",
      "t=21\t err=2.9802322e-7\n",
      "t=22\t err=5.364418e-7\n",
      "t=23\t err=2.0861626e-7\n",
      "t=24\t err=2.0861626e-7\n",
      "t=25\t err=3.5762787e-7\n",
      "t=26\t err=6.556511e-7\n",
      "t=27\t err=4.4703484e-7\n",
      "t=28\t err=4.7683716e-7\n",
      "t=29\t err=3.874302e-7\n",
      "t=30\t err=2.0861626e-7\n",
      "t=31\t err=2.682209e-7\n",
      "t=32\t err=2.3841858e-7\n",
      "t=33\t err=2.3841858e-7\n",
      "t=34\t err=3.874302e-7\n",
      "t=35\t err=6.556511e-7\n",
      "t=36\t err=6.556511e-7\n",
      "t=37\t err=6.2584877e-7\n",
      "t=38\t err=4.7683716e-7\n",
      "t=39\t err=5.662441e-7\n",
      "t=40\t err=5.364418e-7\n",
      "t=41\t err=2.9802322e-7\n",
      "t=42\t err=2.682209e-7\n",
      "t=43\t err=2.9802322e-7\n",
      "t=44\t err=3.7252903e-7\n",
      "t=45\t err=4.4703484e-7\n",
      "t=46\t err=3.5762787e-7\n",
      "t=47\t err=2.0861626e-7\n",
      "t=48\t err=3.5762787e-7\n",
      "t=49\t err=4.4703484e-7\n",
      "t=50\t err=4.4703484e-7\n",
      "t=51\t err=2.5331974e-7\n",
      "t=52\t err=3.874302e-7\n",
      "t=53\t err=4.7683716e-7\n",
      "t=54\t err=4.7683716e-7\n",
      "t=55\t err=4.4703484e-7\n",
      "t=56\t err=3.874302e-7\n",
      "t=57\t err=2.9802322e-7\n",
      "t=58\t err=2.9802322e-7\n",
      "t=59\t err=4.4703484e-7\n",
      "t=60\t err=2.9802322e-7\n",
      "t=61\t err=5.364418e-7\n",
      "t=62\t err=7.1525574e-7\n",
      "t=63\t err=6.556511e-7\n",
      "t=64\t err=3.5762787e-7\n",
      "t=65\t err=1.7881393e-7\n",
      "t=66\t err=2.2351742e-7\n",
      "t=67\t err=3.874302e-7\n",
      "t=68\t err=5.066395e-7\n",
      "t=69\t err=4.172325e-7\n",
      "t=70\t err=4.7683716e-7\n",
      "t=71\t err=2.9802322e-7\n",
      "t=72\t err=5.066395e-7\n",
      "t=73\t err=4.172325e-7\n",
      "t=74\t err=4.172325e-7\n",
      "t=75\t err=2.9802322e-7\n",
      "t=76\t err=2.3841858e-7\n",
      "t=77\t err=5.2154064e-7\n",
      "t=78\t err=3.7252903e-7\n",
      "t=79\t err=5.066395e-7\n",
      "t=80\t err=3.5762787e-7\n",
      "t=81\t err=3.2782555e-7\n",
      "t=82\t err=1.7881393e-7\n",
      "t=83\t err=2.682209e-7\n",
      "t=84\t err=1.7881393e-7\n",
      "t=85\t err=1.937151e-7\n",
      "t=86\t err=4.4703484e-7\n",
      "t=87\t err=4.172325e-7\n",
      "t=88\t err=5.9604645e-7\n",
      "t=89\t err=5.9604645e-7\n",
      "t=90\t err=2.9802322e-7\n",
      "t=91\t err=3.2782555e-7\n",
      "t=92\t err=3.2782555e-7\n",
      "t=93\t err=4.172325e-7\n",
      "t=94\t err=2.682209e-7\n",
      "t=95\t err=3.2782555e-7\n",
      "t=96\t err=4.4703484e-7\n",
      "t=97\t err=5.364418e-7\n",
      "t=98\t err=6.2584877e-7\n",
      "t=99\t err=6.854534e-7\n",
      "t=100\t err=4.172325e-7\n",
      "  0.521912 seconds (311.24 k allocations: 17.393 MiB)\n"
     ]
    }
   ],
   "source": [
    "@time BpAlignGpu.test_sweep!(100,af,pm,pa)"
   ]
  },
  {
   "cell_type": "code",
   "execution_count": null,
   "metadata": {},
   "outputs": [],
   "source": []
  },
  {
   "cell_type": "markdown",
   "metadata": {},
   "source": [
    "# Checks"
   ]
  },
  {
   "cell_type": "code",
   "execution_count": 23,
   "metadata": {},
   "outputs": [],
   "source": [
    "tmp_F = Array(af.bpm.F)\n",
    "SCE_F = convert_T3_xnTOy(tmp_F);"
   ]
  },
  {
   "cell_type": "code",
   "execution_count": 24,
   "metadata": {},
   "outputs": [],
   "source": [
    "tmp_hF = Array(af.bpm.hF)\n",
    "SCE_hF = convert_T3_xnTOy(tmp_hF);"
   ]
  },
  {
   "cell_type": "code",
   "execution_count": 25,
   "metadata": {},
   "outputs": [],
   "source": [
    "tmp_hB = Array(af.bpm.hB)\n",
    "SCE_hB = convert_T3_xnTOy(tmp_hB);"
   ]
  },
  {
   "cell_type": "code",
   "execution_count": 26,
   "metadata": {},
   "outputs": [],
   "source": [
    "tmp_B = Array(af.bpm.B)\n",
    "SCE_B = convert_T3_xnTOy(tmp_B);"
   ]
  },
  {
   "cell_type": "code",
   "execution_count": 17,
   "metadata": {},
   "outputs": [],
   "source": [
    "tmp_g = Array(af.lrf.g)\n",
    "SCE_g = convert_T5_xnTOy(tmp_g);"
   ]
  },
  {
   "cell_type": "code",
   "execution_count": 18,
   "metadata": {},
   "outputs": [],
   "source": [
    "tmp_f = Array(af.lrf.f)\n",
    "SCE_f = convert_T3_xnTOy(tmp_f);"
   ]
  },
  {
   "cell_type": "code",
   "execution_count": 19,
   "metadata": {},
   "outputs": [],
   "source": [
    "tmp_Jseq = Array(af.bpm.Jseq)\n",
    "elts_Jseq = convert_T6_xnTOy(tmp_Jseq);"
   ]
  },
  {
   "cell_type": "code",
   "execution_count": 20,
   "metadata": {},
   "outputs": [],
   "source": [
    "tmp_Hseq = Array(af.bpm.Hseq)\n",
    "elts_Hseq = convert_T3_xnTOy(tmp_Hseq);"
   ]
  },
  {
   "cell_type": "code",
   "execution_count": 21,
   "metadata": {},
   "outputs": [
    {
     "data": {
      "text/plain": [
       "SCE_update_g! (generic function with 1 method)"
      ]
     },
     "execution_count": 21,
     "metadata": {},
     "output_type": "execute_result"
    }
   ],
   "source": [
    "include(\"../src/SCE_update_messages.jl\")\n",
    "include(\"../src/SCE_update_shortrange_beliefs.jl\")\n",
    "include(\"../src/SCE_update_longrange.jl\")"
   ]
  },
  {
   "cell_type": "markdown",
   "metadata": {},
   "source": [
    "## check BP updates"
   ]
  },
  {
   "cell_type": "code",
   "execution_count": 22,
   "metadata": {},
   "outputs": [],
   "source": [
    "BpAlignGpu.update_hF!(af, pm, pa)\n",
    "BpAlignGpu.update_hB!(af, pm, pa)\n",
    "BpAlignGpu.update_F!(af, pm, pa)\n",
    "BpAlignGpu.update_B!(af, pm, pa)"
   ]
  },
  {
   "cell_type": "code",
   "execution_count": 27,
   "metadata": {},
   "outputs": [],
   "source": [
    "#i=1\n",
    "#af.bpm.B[:,:,i]"
   ]
  },
  {
   "cell_type": "code",
   "execution_count": 28,
   "metadata": {
    "scrolled": true
   },
   "outputs": [],
   "source": [
    "#SCE_update_F!(SCE_F, i, damp, beta, tolnorm, SCE_hF, SCE_f, muext, muint, N, elts_Hseq)\n",
    "#SCE_update_B!(SCE_B, i, damp, beta, tolnorm, SCE_hB, SCE_f, muext, muint, N, L, elts_Hseq)\n",
    "#SCE_update_hF!(SCE_hF, i, SCE_F, damp, beta, tolnorm, SCE_g, pm.lambda_o, pm.lambda_e, N, elts_Jseq)\n",
    "#SCE_update_hB!(SCE_hB, i, damp, beta, tolnorm, SCE_B, SCE_g, pm.lambda_o, pm.lambda_e, N, elts_Jseq)"
   ]
  },
  {
   "cell_type": "markdown",
   "metadata": {},
   "source": [
    "## check update beliefs"
   ]
  },
  {
   "cell_type": "code",
   "execution_count": 29,
   "metadata": {},
   "outputs": [],
   "source": [
    "#tmp_bel = Array(af.bpb.beliefs)\n",
    "#SCE_bel = convert_T3_xnTOy(tmp_bel);"
   ]
  },
  {
   "cell_type": "code",
   "execution_count": 30,
   "metadata": {},
   "outputs": [],
   "source": [
    "#BpAlignGpu.update_beliefs!(af, pm)"
   ]
  },
  {
   "cell_type": "code",
   "execution_count": 31,
   "metadata": {},
   "outputs": [],
   "source": [
    "#i=1\n",
    "#SCE_update_beliefs!(SCE_bel, i, beta, tolnorm, SCE_hF, SCE_hB, SCE_f, muint, muext, N, L, elts_Hseq)"
   ]
  },
  {
   "cell_type": "code",
   "execution_count": 32,
   "metadata": {},
   "outputs": [],
   "source": [
    "#af.bpb.beliefs[:,:,i]"
   ]
  },
  {
   "cell_type": "code",
   "execution_count": 33,
   "metadata": {},
   "outputs": [],
   "source": [
    "#SCE_bel[:,i]"
   ]
  },
  {
   "cell_type": "markdown",
   "metadata": {},
   "source": [
    "## check update joint proba"
   ]
  },
  {
   "cell_type": "code",
   "execution_count": 34,
   "metadata": {},
   "outputs": [],
   "source": [
    "#tmp_joint = Array(af.bpb.joint_chain)\n",
    "#SCE_joint = convert_T5_xnTOy(tmp_joint);"
   ]
  },
  {
   "cell_type": "code",
   "execution_count": 35,
   "metadata": {},
   "outputs": [],
   "source": [
    "#sum(SCE_joint)"
   ]
  },
  {
   "cell_type": "code",
   "execution_count": 36,
   "metadata": {},
   "outputs": [],
   "source": [
    "BpAlignGpu.update_jointchain!(af, pm)"
   ]
  },
  {
   "cell_type": "code",
   "execution_count": 37,
   "metadata": {},
   "outputs": [],
   "source": [
    "#sum(af.bpb.joint_chain, dims=(1,2,3,4))[1,1,1,1,:]"
   ]
  },
  {
   "cell_type": "code",
   "execution_count": 38,
   "metadata": {},
   "outputs": [],
   "source": [
    "#i=1\n",
    "#af.bpb.joint_chain[:,1,:,1,i]"
   ]
  },
  {
   "cell_type": "code",
   "execution_count": 39,
   "metadata": {},
   "outputs": [],
   "source": [
    "#SCE_update_joint_chain!(SCE_joint, i, beta, tolnorm, SCE_F, SCE_B, SCE_g, lambda_o, lambda_e, N, elts_Jseq);"
   ]
  },
  {
   "cell_type": "code",
   "execution_count": 40,
   "metadata": {},
   "outputs": [],
   "source": [
    "#rx1 = 1:N+2\n",
    "#rx2 = N+3:2N+4\n",
    "#SCE_joint[rx1,rx1, i]"
   ]
  },
  {
   "cell_type": "code",
   "execution_count": 41,
   "metadata": {},
   "outputs": [],
   "source": [
    "#sum(SCE_joint, dims=(1,2))[1,1,:]"
   ]
  },
  {
   "cell_type": "markdown",
   "metadata": {},
   "source": [
    "## check update conditional on the chain"
   ]
  },
  {
   "cell_type": "code",
   "execution_count": 42,
   "metadata": {},
   "outputs": [],
   "source": [
    "BpAlignGpu.update_conditional_chain!(af, pa)"
   ]
  },
  {
   "cell_type": "code",
   "execution_count": 43,
   "metadata": {},
   "outputs": [],
   "source": [
    "#tmp_joint = Array(af.bpb.joint_chain)\n",
    "#SCE_joint = convert_T5_xnTOy(tmp_joint);"
   ]
  },
  {
   "cell_type": "code",
   "execution_count": 44,
   "metadata": {},
   "outputs": [],
   "source": [
    "#cond_chain = fill(0.0, 2N+4, 2N+4, L, L)\n",
    "#for i=1:L-1\n",
    "#    SCE_update_conditional_chain!(i, cond_chain, SCE_joint, tolnorm, N)\n",
    "#end"
   ]
  },
  {
   "cell_type": "code",
   "execution_count": 45,
   "metadata": {},
   "outputs": [],
   "source": [
    "#af.bpb.conditional[:,2,:,1,1,2]"
   ]
  },
  {
   "cell_type": "code",
   "execution_count": 46,
   "metadata": {},
   "outputs": [],
   "source": [
    "#cond_chain[rx2, rx1, 1, 2]"
   ]
  },
  {
   "cell_type": "code",
   "execution_count": 47,
   "metadata": {},
   "outputs": [],
   "source": [
    "#sum(cond_chain[:,:,4,3], dims=1)"
   ]
  },
  {
   "cell_type": "code",
   "execution_count": 48,
   "metadata": {},
   "outputs": [],
   "source": [
    "#sum(af.bpb.conditional[:,:,:,:,4,3], dims=(1,2))[1,1,:,:]"
   ]
  },
  {
   "cell_type": "markdown",
   "metadata": {},
   "source": [
    "## check update conditional off the chain"
   ]
  },
  {
   "cell_type": "code",
   "execution_count": 49,
   "metadata": {},
   "outputs": [],
   "source": [
    "#cond_lr = copy(cond_chain);\n",
    "#pointer(cond_chain), pointer(cond_lr)"
   ]
  },
  {
   "cell_type": "code",
   "execution_count": 50,
   "metadata": {},
   "outputs": [],
   "source": [
    "#SCE_update_conditional_lr!(cond_lr)"
   ]
  },
  {
   "cell_type": "code",
   "execution_count": 51,
   "metadata": {},
   "outputs": [],
   "source": [
    "BpAlignGpu.update_conditional_all!(af, pm);"
   ]
  },
  {
   "cell_type": "code",
   "execution_count": 52,
   "metadata": {},
   "outputs": [],
   "source": [
    "#cond_lr[rx1, rx2, 4, 1]"
   ]
  },
  {
   "cell_type": "code",
   "execution_count": 53,
   "metadata": {},
   "outputs": [],
   "source": [
    "#af.bpb.conditional[:,1,:,2,4,1]"
   ]
  },
  {
   "cell_type": "code",
   "execution_count": 54,
   "metadata": {},
   "outputs": [],
   "source": [
    "#sum(af.bpb.conditional[:,:,:,:,4,1], dims=(1,2))[1,1,:,:]"
   ]
  },
  {
   "cell_type": "code",
   "execution_count": 55,
   "metadata": {
    "scrolled": true
   },
   "outputs": [],
   "source": [
    "#sum(cond_lr[:,:,4,1], dims=1)"
   ]
  },
  {
   "cell_type": "markdown",
   "metadata": {},
   "source": [
    "## check update f"
   ]
  },
  {
   "cell_type": "code",
   "execution_count": 58,
   "metadata": {},
   "outputs": [],
   "source": [
    "tmp_cond= Array(af.bpb.conditional)\n",
    "SCE_cond = convert_T6_xnTOy(tmp_cond);"
   ]
  },
  {
   "cell_type": "code",
   "execution_count": 59,
   "metadata": {},
   "outputs": [],
   "source": [
    "tmp_f = Array(af.lrf.f)\n",
    "SCE_f = convert_T3_xnTOy(tmp_f);"
   ]
  },
  {
   "cell_type": "code",
   "execution_count": 60,
   "metadata": {},
   "outputs": [
    {
     "data": {
      "text/plain": [
       "7×2 CUDA.CuArray{Float32, 2, CUDA.Mem.DeviceBuffer}:\n",
       " 0.0  0.0\n",
       " 0.0  0.0\n",
       " 0.0  0.0\n",
       " 0.0  0.0\n",
       " 0.0  0.0\n",
       " 0.0  0.0\n",
       " 0.0  0.0"
      ]
     },
     "execution_count": 60,
     "metadata": {},
     "output_type": "execute_result"
    }
   ],
   "source": [
    "af.lrf.f[:,:,2]"
   ]
  },
  {
   "cell_type": "code",
   "execution_count": 61,
   "metadata": {},
   "outputs": [],
   "source": [
    "BpAlignGpu.update_f!(af)"
   ]
  },
  {
   "cell_type": "code",
   "execution_count": 63,
   "metadata": {},
   "outputs": [],
   "source": [
    "using LinearAlgebra\n",
    "SCE_update_f!(SCE_f, SCE_cond, elts_Jseq, N)"
   ]
  },
  {
   "cell_type": "code",
   "execution_count": 64,
   "metadata": {},
   "outputs": [
    {
     "data": {
      "text/plain": [
       "7×2 CUDA.CuArray{Float32, 2, CUDA.Mem.DeviceBuffer}:\n",
       " -4.24892   0.0\n",
       " -4.0828   -4.27414\n",
       " -3.85625  -4.70392\n",
       " -4.40407  -3.8992\n",
       " -4.08144  -4.17385\n",
       " -1.88375  -3.41813\n",
       " -4.19178   0.0"
      ]
     },
     "execution_count": 64,
     "metadata": {},
     "output_type": "execute_result"
    }
   ],
   "source": [
    "i=3\n",
    "af.lrf.f[:,:,i]"
   ]
  },
  {
   "cell_type": "code",
   "execution_count": 65,
   "metadata": {},
   "outputs": [
    {
     "data": {
      "text/plain": [
       "14-element Vector{Float64}:\n",
       " -4.248915610112336\n",
       " -4.082803403479909\n",
       " -3.856248602006823\n",
       " -4.404074380157429\n",
       " -4.081436507314701\n",
       " -1.8837479043673235\n",
       " -4.191776273157981\n",
       "  0.0\n",
       " -4.274139669206367\n",
       " -4.703921061363093\n",
       " -3.899199102371751\n",
       " -4.17384718815496\n",
       " -3.418132984940926\n",
       "  0.0"
      ]
     },
     "execution_count": 65,
     "metadata": {},
     "output_type": "execute_result"
    }
   ],
   "source": [
    "SCE_f[:,i]"
   ]
  },
  {
   "cell_type": "markdown",
   "metadata": {},
   "source": [
    "## check update g"
   ]
  },
  {
   "cell_type": "code",
   "execution_count": 66,
   "metadata": {},
   "outputs": [],
   "source": [
    "tmp_cond= Array(af.bpb.conditional)\n",
    "SCE_cond = convert_T6_xnTOy(tmp_cond);"
   ]
  },
  {
   "cell_type": "code",
   "execution_count": 67,
   "metadata": {},
   "outputs": [],
   "source": [
    "tmp_g = Array(af.lrf.g)\n",
    "SCE_g = convert_T5_xnTOy(tmp_g);"
   ]
  },
  {
   "cell_type": "code",
   "execution_count": 68,
   "metadata": {},
   "outputs": [
    {
     "data": {
      "text/plain": [
       "7×7 CUDA.CuArray{Float32, 2, CUDA.Mem.DeviceBuffer}:\n",
       " 0.0  0.0  0.0  0.0  0.0  0.0  0.0\n",
       " 0.0  0.0  0.0  0.0  0.0  0.0  0.0\n",
       " 0.0  0.0  0.0  0.0  0.0  0.0  0.0\n",
       " 0.0  0.0  0.0  0.0  0.0  0.0  0.0\n",
       " 0.0  0.0  0.0  0.0  0.0  0.0  0.0\n",
       " 0.0  0.0  0.0  0.0  0.0  0.0  0.0\n",
       " 0.0  0.0  0.0  0.0  0.0  0.0  0.0"
      ]
     },
     "execution_count": 68,
     "metadata": {},
     "output_type": "execute_result"
    }
   ],
   "source": [
    "af.lrf.g[:,1,:,2,2]"
   ]
  },
  {
   "cell_type": "code",
   "execution_count": 69,
   "metadata": {},
   "outputs": [],
   "source": [
    "BpAlignGpu.update_g!(af)"
   ]
  },
  {
   "cell_type": "code",
   "execution_count": 72,
   "metadata": {},
   "outputs": [],
   "source": [
    "SCE_update_g!(SCE_g, SCE_cond, elts_Jseq, N)"
   ]
  },
  {
   "cell_type": "code",
   "execution_count": 87,
   "metadata": {},
   "outputs": [
    {
     "data": {
      "text/plain": [
       "7×7 CUDA.CuArray{Float32, 2, CUDA.Mem.DeviceBuffer}:\n",
       " 3.45272  3.45279  3.15216  3.11431  2.71212  2.16102  3.51013\n",
       " 3.45272  3.45279  3.15216  3.11431  2.71212  2.16102  3.51013\n",
       " 3.45272  3.45279  3.15216  3.11431  2.71212  2.16102  3.51013\n",
       " 3.45272  3.45279  3.15216  3.11431  2.71212  2.16102  3.51013\n",
       " 3.45272  3.45279  3.15216  3.11431  2.71212  2.16102  3.51013\n",
       " 3.45272  3.45279  3.15216  3.11431  2.71212  2.16102  3.51013\n",
       " 3.45272  3.45279  3.15216  3.11431  2.71212  2.16102  3.51013"
      ]
     },
     "execution_count": 87,
     "metadata": {},
     "output_type": "execute_result"
    }
   ],
   "source": [
    "i=1\n",
    "af.lrf.g[:,1,:,1,i]"
   ]
  },
  {
   "cell_type": "code",
   "execution_count": 88,
   "metadata": {},
   "outputs": [
    {
     "data": {
      "text/plain": [
       "7×7 Matrix{Float64}:\n",
       " 3.45272  3.45279  3.15216  3.11431  2.71212  2.16102  3.51013\n",
       " 3.45272  3.45279  3.15216  3.11431  2.71212  2.16102  3.51013\n",
       " 3.45272  3.45279  3.15216  3.11431  2.71212  2.16102  3.51013\n",
       " 3.45272  3.45279  3.15216  3.11431  2.71212  2.16102  3.51013\n",
       " 3.45272  3.45279  3.15216  3.11431  2.71212  2.16102  3.51013\n",
       " 3.45272  3.45279  3.15216  3.11431  2.71212  2.16102  3.51013\n",
       " 3.45272  3.45279  3.15216  3.11431  2.71212  2.16102  3.51013"
      ]
     },
     "execution_count": 88,
     "metadata": {},
     "output_type": "execute_result"
    }
   ],
   "source": [
    "rx1 = 1:N+2\n",
    "rx2 = N+3:2N+4\n",
    "SCE_g[rx1,rx1,i]"
   ]
  },
  {
   "cell_type": "code",
   "execution_count": null,
   "metadata": {},
   "outputs": [],
   "source": []
  }
 ],
 "metadata": {
  "kernelspec": {
   "display_name": "Julia 1.7.1",
   "language": "julia",
   "name": "julia-1.7"
  },
  "language_info": {
   "file_extension": ".jl",
   "mimetype": "application/julia",
   "name": "julia",
   "version": "1.7.1"
  }
 },
 "nbformat": 4,
 "nbformat_minor": 4
}
