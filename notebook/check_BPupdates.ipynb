{
 "cells": [
  {
   "cell_type": "code",
   "execution_count": 22,
   "metadata": {},
   "outputs": [
    {
     "name": "stderr",
     "output_type": "stream",
     "text": [
      "\u001b[32m\u001b[1m  Activating\u001b[22m\u001b[39m project at `~/MSA/BpAlignGpu.jl`\n",
      "┌ Info: Precompiling BpAlignGpu [5a3eb610-29b2-4cbe-8ba2-ea97f65fa95d]\n",
      "└ @ Base loading.jl:1423\n",
      "WARNING: Method definition update_hB!(BpAlignGpu.AllFields{T1, T2, T3} where T3 where T2 where T1, BpAlignGpu.ParamModel{T} where T, BpAlignGpu.ParamAlgo{T} where T<:AbstractFloat) in module BpAlignGpu at /home/louise/MSA/BpAlignGpu.jl/src/bpupdate.jl:77 overwritten at /home/louise/MSA/BpAlignGpu.jl/src/bpupdate.jl:110.\n",
      "  ** incremental compilation may be fatally broken for this module **\n",
      "\n"
     ]
    }
   ],
   "source": [
    "using Revise, Pkg\n",
    "Pkg.activate(\"/home/louise/MSA/BpAlignGpu.jl\")\n",
    "using BpAlignGpu"
   ]
  },
  {
   "cell_type": "code",
   "execution_count": 2,
   "metadata": {},
   "outputs": [
    {
     "data": {
      "text/plain": [
       "(21, 5, 5)"
      ]
     },
     "execution_count": 2,
     "metadata": {},
     "output_type": "execute_result"
    }
   ],
   "source": [
    "(q, N, L) = (21, 5, 5) "
   ]
  },
  {
   "cell_type": "code",
   "execution_count": 3,
   "metadata": {},
   "outputs": [
    {
     "data": {
      "text/plain": [
       "convert_T6_xnTOy (generic function with 1 method)"
      ]
     },
     "execution_count": 3,
     "metadata": {},
     "output_type": "execute_result"
    }
   ],
   "source": [
    "function convert_T3_xnTOy(tmp)\n",
    "    SCE_ar = fill(0.0, 2N+4, L)\n",
    "    for i=1:L\n",
    "        for n=1:N+2\n",
    "            SCE_ar[n, i] = tmp[n,1,i]\n",
    "            SCE_ar[N+2+n, i] = tmp[n,2,i]\n",
    "        end\n",
    "    end\n",
    "    return SCE_ar\n",
    "end\n",
    "function convert_T5_xnTOy(tmp)\n",
    "    SCE_ar = fill(0.0, 2N+4, 2N+4, L)\n",
    "    for i=1:L\n",
    "        for n1=1:N+2\n",
    "            for n2=1:N+2\n",
    "                SCE_ar[n1, n2, i] = tmp[n1, 1, n2, 1, i]\n",
    "                SCE_ar[n1, N+2+n2, i] = tmp[n1, 1, n2, 2, i]\n",
    "                SCE_ar[N+2+n1, n2, i] = tmp[n1, 2, n2, 1, i]\n",
    "                SCE_ar[N+2+n1, N+2+n2, i] = tmp[n1, 2, n2, 2, i]\n",
    "            end\n",
    "        end\n",
    "    end\n",
    "    return SCE_ar\n",
    "end\n",
    "function convert_T6_xnTOy(tmp)\n",
    "    SCE_ar = fill(0.0, 2N+4, 2N+4, L, L)\n",
    "    for i=1:L\n",
    "        for j=1:L\n",
    "            for n1=1:N+2\n",
    "                for n2=1:N+2\n",
    "                    SCE_ar[n1, n2, i, j] = tmp[n1, 1, n2, 1, i, j]\n",
    "                    SCE_ar[n1, N+2+n2, i, j] = tmp[n1, 1, n2, 2, i, j]\n",
    "                    SCE_ar[N+2+n1, n2, i, j] = tmp[n1, 2, n2, 1, i, j]\n",
    "                    SCE_ar[N+2+n1, N+2+n2, i, j] = tmp[n1, 2, n2, 2, i, j]\n",
    "                end\n",
    "            end\n",
    "        end\n",
    "    end\n",
    "    return SCE_ar\n",
    "end"
   ]
  },
  {
   "cell_type": "code",
   "execution_count": 4,
   "metadata": {},
   "outputs": [
    {
     "data": {
      "text/plain": [
       "Float32"
      ]
     },
     "execution_count": 4,
     "metadata": {},
     "output_type": "execute_result"
    }
   ],
   "source": [
    "T = Float32"
   ]
  },
  {
   "cell_type": "code",
   "execution_count": 5,
   "metadata": {},
   "outputs": [
    {
     "ename": "LoadError",
     "evalue": "UndefVarError: Seq not defined",
     "output_type": "error",
     "traceback": [
      "UndefVarError: Seq not defined",
      "",
      "Stacktrace:",
      " [1] top-level scope",
      "   @ In[5]:5",
      " [2] eval",
      "   @ ./boot.jl:373 [inlined]",
      " [3] include_string(mapexpr::typeof(REPL.softscope), mod::Module, code::String, filename::String)",
      "   @ Base ./loading.jl:1196"
     ]
    }
   ],
   "source": [
    "using Random\n",
    "header = \"myseq\"\n",
    "myseq = randstring('A':'Z', N)\n",
    "ctype=Symbol(\"amino\")\n",
    "seq = Seq(header, myseq, ctype)"
   ]
  },
  {
   "cell_type": "code",
   "execution_count": 6,
   "metadata": {},
   "outputs": [],
   "source": [
    "muint = 1.5\n",
    "muext = 1.2\n",
    "lambda_o = ones(L)\n",
    "lambda_e = ones(L)\n",
    "H = rand(q,L)\n",
    "J = rand(q,q,L,L)\n",
    "J = J .+ permutedims(J, (2,1,4,3));"
   ]
  },
  {
   "cell_type": "code",
   "execution_count": 7,
   "metadata": {},
   "outputs": [
    {
     "ename": "LoadError",
     "evalue": "UndefVarError: ParamModel not defined",
     "output_type": "error",
     "traceback": [
      "UndefVarError: ParamModel not defined",
      "",
      "Stacktrace:",
      " [1] top-level scope",
      "   @ In[7]:1",
      " [2] eval",
      "   @ ./boot.jl:373 [inlined]",
      " [3] include_string(mapexpr::typeof(REPL.softscope), mod::Module, code::String, filename::String)",
      "   @ Base ./loading.jl:1196"
     ]
    }
   ],
   "source": [
    "pm = ParamModel{T}(N, L, q, muint, muext, lambda_o, lambda_e, H, J)"
   ]
  },
  {
   "cell_type": "code",
   "execution_count": 8,
   "metadata": {},
   "outputs": [
    {
     "ename": "LoadError",
     "evalue": "UndefVarError: ParamAlgo not defined",
     "output_type": "error",
     "traceback": [
      "UndefVarError: ParamAlgo not defined",
      "",
      "Stacktrace:",
      " [1] top-level scope",
      "   @ In[8]:9",
      " [2] eval",
      "   @ ./boot.jl:373 [inlined]",
      " [3] include_string(mapexpr::typeof(REPL.softscope), mod::Module, code::String, filename::String)",
      "   @ Base ./loading.jl:1196"
     ]
    }
   ],
   "source": [
    "damp=T(0.0)\n",
    "tol=T(1e-5)\n",
    "tolnorm=T(1e-5)\n",
    "tmax=10\n",
    "upscheme=:sequential # :random or :sequential\n",
    "lr=:sce  # :sce or :mf \n",
    "beta=T(1.0)\n",
    "verbose=true\n",
    "pa = ParamAlgo(damp, tol, tolnorm, tmax, upscheme, lr, beta, verbose)"
   ]
  },
  {
   "cell_type": "code",
   "execution_count": 9,
   "metadata": {},
   "outputs": [
    {
     "ename": "LoadError",
     "evalue": "UndefVarError: BPMessages not defined",
     "output_type": "error",
     "traceback": [
      "UndefVarError: BPMessages not defined",
      "",
      "Stacktrace:",
      " [1] top-level scope",
      "   @ In[9]:1",
      " [2] eval",
      "   @ ./boot.jl:373 [inlined]",
      " [3] include_string(mapexpr::typeof(REPL.softscope), mod::Module, code::String, filename::String)",
      "   @ Base ./loading.jl:1196"
     ]
    }
   ],
   "source": [
    "bpm = BPMessages(seq, pm)"
   ]
  },
  {
   "cell_type": "code",
   "execution_count": 10,
   "metadata": {},
   "outputs": [
    {
     "ename": "LoadError",
     "evalue": "UndefVarError: BPBeliefs not defined",
     "output_type": "error",
     "traceback": [
      "UndefVarError: BPBeliefs not defined",
      "",
      "Stacktrace:",
      " [1] top-level scope",
      "   @ In[10]:1",
      " [2] eval",
      "   @ ./boot.jl:373 [inlined]",
      " [3] include_string(mapexpr::typeof(REPL.softscope), mod::Module, code::String, filename::String)",
      "   @ Base ./loading.jl:1196"
     ]
    }
   ],
   "source": [
    "bpb = BPBeliefs(N, L)"
   ]
  },
  {
   "cell_type": "code",
   "execution_count": 11,
   "metadata": {},
   "outputs": [
    {
     "ename": "LoadError",
     "evalue": "UndefVarError: LongRangeFields not defined",
     "output_type": "error",
     "traceback": [
      "UndefVarError: LongRangeFields not defined",
      "",
      "Stacktrace:",
      " [1] top-level scope",
      "   @ In[11]:1",
      " [2] eval",
      "   @ ./boot.jl:373 [inlined]",
      " [3] include_string(mapexpr::typeof(REPL.softscope), mod::Module, code::String, filename::String)",
      "   @ Base ./loading.jl:1196"
     ]
    }
   ],
   "source": [
    "lrf = LongRangeFields(N, L)"
   ]
  },
  {
   "cell_type": "code",
   "execution_count": 12,
   "metadata": {},
   "outputs": [
    {
     "ename": "LoadError",
     "evalue": "UndefVarError: AllFields not defined",
     "output_type": "error",
     "traceback": [
      "UndefVarError: AllFields not defined",
      "",
      "Stacktrace:",
      " [1] top-level scope",
      "   @ In[12]:1",
      " [2] eval",
      "   @ ./boot.jl:373 [inlined]",
      " [3] include_string(mapexpr::typeof(REPL.softscope), mod::Module, code::String, filename::String)",
      "   @ Base ./loading.jl:1196"
     ]
    }
   ],
   "source": [
    "af = AllFields(bpm, bpb, lrf)"
   ]
  },
  {
   "cell_type": "code",
   "execution_count": null,
   "metadata": {},
   "outputs": [],
   "source": []
  },
  {
   "cell_type": "code",
   "execution_count": 13,
   "metadata": {},
   "outputs": [
    {
     "ename": "LoadError",
     "evalue": "UndefVarError: af not defined",
     "output_type": "error",
     "traceback": [
      "UndefVarError: af not defined",
      "",
      "Stacktrace:",
      " [1] top-level scope",
      "   @ In[13]:1",
      " [2] eval",
      "   @ ./boot.jl:373 [inlined]",
      " [3] include_string(mapexpr::typeof(REPL.softscope), mod::Module, code::String, filename::String)",
      "   @ Base ./loading.jl:1196"
     ]
    }
   ],
   "source": [
    "tmp_F = Array(af.bpm.F)\n",
    "SCE_F = convert_T3_xnTOy(tmp_F);"
   ]
  },
  {
   "cell_type": "code",
   "execution_count": 14,
   "metadata": {},
   "outputs": [
    {
     "ename": "LoadError",
     "evalue": "UndefVarError: af not defined",
     "output_type": "error",
     "traceback": [
      "UndefVarError: af not defined",
      "",
      "Stacktrace:",
      " [1] top-level scope",
      "   @ In[14]:1",
      " [2] eval",
      "   @ ./boot.jl:373 [inlined]",
      " [3] include_string(mapexpr::typeof(REPL.softscope), mod::Module, code::String, filename::String)",
      "   @ Base ./loading.jl:1196"
     ]
    }
   ],
   "source": [
    "tmp_hF = Array(af.bpm.hF)\n",
    "SCE_hF = convert_T3_xnTOy(tmp_hF);"
   ]
  },
  {
   "cell_type": "code",
   "execution_count": 15,
   "metadata": {},
   "outputs": [
    {
     "ename": "LoadError",
     "evalue": "UndefVarError: af not defined",
     "output_type": "error",
     "traceback": [
      "UndefVarError: af not defined",
      "",
      "Stacktrace:",
      " [1] top-level scope",
      "   @ In[15]:1",
      " [2] eval",
      "   @ ./boot.jl:373 [inlined]",
      " [3] include_string(mapexpr::typeof(REPL.softscope), mod::Module, code::String, filename::String)",
      "   @ Base ./loading.jl:1196"
     ]
    }
   ],
   "source": [
    "tmp_hB = Array(af.bpm.hB)\n",
    "SCE_hB = convert_T3_xnTOy(tmp_hB);"
   ]
  },
  {
   "cell_type": "code",
   "execution_count": 16,
   "metadata": {},
   "outputs": [
    {
     "ename": "LoadError",
     "evalue": "UndefVarError: af not defined",
     "output_type": "error",
     "traceback": [
      "UndefVarError: af not defined",
      "",
      "Stacktrace:",
      " [1] top-level scope",
      "   @ In[16]:1",
      " [2] eval",
      "   @ ./boot.jl:373 [inlined]",
      " [3] include_string(mapexpr::typeof(REPL.softscope), mod::Module, code::String, filename::String)",
      "   @ Base ./loading.jl:1196"
     ]
    }
   ],
   "source": [
    "tmp_B = Array(af.bpm.B)\n",
    "SCE_B = convert_T3_xnTOy(tmp_B);"
   ]
  },
  {
   "cell_type": "code",
   "execution_count": 17,
   "metadata": {},
   "outputs": [
    {
     "ename": "LoadError",
     "evalue": "UndefVarError: af not defined",
     "output_type": "error",
     "traceback": [
      "UndefVarError: af not defined",
      "",
      "Stacktrace:",
      " [1] top-level scope",
      "   @ In[17]:1",
      " [2] eval",
      "   @ ./boot.jl:373 [inlined]",
      " [3] include_string(mapexpr::typeof(REPL.softscope), mod::Module, code::String, filename::String)",
      "   @ Base ./loading.jl:1196"
     ]
    }
   ],
   "source": [
    "tmp_g = Array(af.lrf.g)\n",
    "SCE_g = convert_T5_xnTOy(tmp_g);"
   ]
  },
  {
   "cell_type": "code",
   "execution_count": 18,
   "metadata": {},
   "outputs": [
    {
     "ename": "LoadError",
     "evalue": "UndefVarError: af not defined",
     "output_type": "error",
     "traceback": [
      "UndefVarError: af not defined",
      "",
      "Stacktrace:",
      " [1] top-level scope",
      "   @ In[18]:1",
      " [2] eval",
      "   @ ./boot.jl:373 [inlined]",
      " [3] include_string(mapexpr::typeof(REPL.softscope), mod::Module, code::String, filename::String)",
      "   @ Base ./loading.jl:1196"
     ]
    }
   ],
   "source": [
    "tmp_f = Array(af.lrf.f)\n",
    "SCE_f = convert_T3_xnTOy(tmp_f);"
   ]
  },
  {
   "cell_type": "code",
   "execution_count": 19,
   "metadata": {},
   "outputs": [
    {
     "ename": "LoadError",
     "evalue": "UndefVarError: af not defined",
     "output_type": "error",
     "traceback": [
      "UndefVarError: af not defined",
      "",
      "Stacktrace:",
      " [1] top-level scope",
      "   @ In[19]:1",
      " [2] eval",
      "   @ ./boot.jl:373 [inlined]",
      " [3] include_string(mapexpr::typeof(REPL.softscope), mod::Module, code::String, filename::String)",
      "   @ Base ./loading.jl:1196"
     ]
    }
   ],
   "source": [
    "tmp_Jseq = Array(af.bpm.Jseq)\n",
    "elts_Jseq = convert_T6_xnTOy(tmp_Jseq);"
   ]
  },
  {
   "cell_type": "code",
   "execution_count": 20,
   "metadata": {},
   "outputs": [
    {
     "ename": "LoadError",
     "evalue": "UndefVarError: af not defined",
     "output_type": "error",
     "traceback": [
      "UndefVarError: af not defined",
      "",
      "Stacktrace:",
      " [1] top-level scope",
      "   @ In[20]:1",
      " [2] eval",
      "   @ ./boot.jl:373 [inlined]",
      " [3] include_string(mapexpr::typeof(REPL.softscope), mod::Module, code::String, filename::String)",
      "   @ Base ./loading.jl:1196"
     ]
    }
   ],
   "source": [
    "tmp_Hseq = Array(af.bpm.Hseq)\n",
    "elts_Hseq = convert_T3_xnTOy(tmp_Hseq);"
   ]
  },
  {
   "cell_type": "code",
   "execution_count": 21,
   "metadata": {},
   "outputs": [
    {
     "data": {
      "text/plain": [
       "1.0e-5"
      ]
     },
     "execution_count": 21,
     "metadata": {},
     "output_type": "execute_result"
    }
   ],
   "source": [
    "damp = 0.0\n",
    "beta = 1.0\n",
    "tolnorm = 1e-5"
   ]
  },
  {
   "cell_type": "code",
   "execution_count": 193,
   "metadata": {},
   "outputs": [
    {
     "data": {
      "text/plain": [
       "SCE_update_conditional_lr! (generic function with 1 method)"
      ]
     },
     "execution_count": 193,
     "metadata": {},
     "output_type": "execute_result"
    }
   ],
   "source": [
    "include(\"../src/SCE_update_messages.jl\")\n",
    "include(\"../src/SCE_update_shortrange_beliefs.jl\")\n",
    "include(\"../src/SCE_update_longrange.jl\")"
   ]
  },
  {
   "cell_type": "code",
   "execution_count": 194,
   "metadata": {},
   "outputs": [],
   "source": [
    "BpAlignGpu.update_jointchain!(af, pm)"
   ]
  },
  {
   "cell_type": "code",
   "execution_count": 195,
   "metadata": {},
   "outputs": [],
   "source": [
    "i=3\n",
    "res = SCE_update_joint_chain!(i, beta, tolnorm, SCE_F, SCE_B, SCE_g, lambda_o, lambda_e, N, elts_Jseq);"
   ]
  },
  {
   "cell_type": "code",
   "execution_count": 196,
   "metadata": {},
   "outputs": [
    {
     "data": {
      "text/plain": [
       "7×7 CUDA.CuArray{Float32, 2, CUDA.Mem.DeviceBuffer}:\n",
       " 0.0  0.0  0.0        0.0         0.0         0.0         0.0\n",
       " 0.0  0.0  0.0421372  0.00463375  0.00496068  0.00286961  0.0\n",
       " 0.0  0.0  0.0        0.10341     0.0209108   0.0253528   0.0\n",
       " 0.0  0.0  0.0        0.0         0.0223018   0.0227328   0.0\n",
       " 0.0  0.0  0.0        0.0         0.0         0.108387    0.0\n",
       " 0.0  0.0  0.0        0.0         0.0         0.0         0.0\n",
       " 0.0  0.0  0.0        0.0         0.0         0.0         0.0"
      ]
     },
     "execution_count": 196,
     "metadata": {},
     "output_type": "execute_result"
    }
   ],
   "source": [
    "af.bpb.joint_chain[:,2,:,2,i]"
   ]
  },
  {
   "cell_type": "code",
   "execution_count": 197,
   "metadata": {},
   "outputs": [
    {
     "data": {
      "text/plain": [
       "7×7 Matrix{Float64}:\n",
       " 0.0  0.0  0.0        0.0         0.0         0.0         0.0\n",
       " 0.0  0.0  0.0421372  0.00463375  0.00496068  0.00286961  0.0\n",
       " 0.0  0.0  0.0        0.10341     0.0209108   0.0253528   0.0\n",
       " 0.0  0.0  0.0        0.0         0.0223018   0.0227328   0.0\n",
       " 0.0  0.0  0.0        0.0         0.0         0.108387    0.0\n",
       " 0.0  0.0  0.0        0.0         0.0         0.0         0.0\n",
       " 0.0  0.0  0.0        0.0         0.0         0.0         0.0"
      ]
     },
     "execution_count": 197,
     "metadata": {},
     "output_type": "execute_result"
    }
   ],
   "source": [
    "rx1 = 1:N+2\n",
    "rx2 = N+3:2N+4\n",
    "res[rx2,rx2]"
   ]
  },
  {
   "cell_type": "code",
   "execution_count": 198,
   "metadata": {},
   "outputs": [],
   "source": [
    "BpAlignGpu.update_conditional_chain!(af, pa)"
   ]
  },
  {
   "cell_type": "code",
   "execution_count": 199,
   "metadata": {},
   "outputs": [],
   "source": [
    "tmp_joint = Array(af.bpb.joint_chain)\n",
    "SCE_joint = convert_T5_xnTOy(tmp_joint)\n",
    "tmp_cond = Array(af.bpb.conditional)\n",
    "SCE_cond = convert_T6_xnTOy(tmp_cond);"
   ]
  },
  {
   "cell_type": "code",
   "execution_count": 200,
   "metadata": {},
   "outputs": [],
   "source": [
    "for i=1:L-1\n",
    "    SCE_update_conditional_chain!(i, SCE_cond, SCE_joint, tolnorm, N)\n",
    "end"
   ]
  },
  {
   "cell_type": "code",
   "execution_count": 201,
   "metadata": {},
   "outputs": [
    {
     "data": {
      "text/plain": [
       "7×7 CUDA.CuArray{Float32, 2, CUDA.Mem.DeviceBuffer}:\n",
       " 0.0  0.0          0.0         0.0        0.0       0.0  0.0\n",
       " 0.0  0.0          0.0         0.0        0.0       0.0  0.0\n",
       " 0.0  0.567517     0.0         0.0        0.0       0.0  0.0\n",
       " 0.0  0.0539384    0.367168    0.0        0.0       0.0  0.0\n",
       " 0.0  0.000481443  0.00386868  0.0126095  0.0       0.0  0.0\n",
       " 0.0  0.00118599   0.0033202   0.0244782  0.045385  0.0  0.0\n",
       " 0.0  0.0          0.0         0.0        0.0       0.0  0.0"
      ]
     },
     "execution_count": 201,
     "metadata": {},
     "output_type": "execute_result"
    }
   ],
   "source": [
    "af.bpb.conditional[:,2,:,2,3,2]"
   ]
  },
  {
   "cell_type": "code",
   "execution_count": 202,
   "metadata": {},
   "outputs": [
    {
     "data": {
      "text/plain": [
       "7×7 Matrix{Float64}:\n",
       " 0.0  0.0          0.0         0.0        0.0       0.0  0.0\n",
       " 0.0  0.0          0.0         0.0        0.0       0.0  0.0\n",
       " 0.0  0.567517     0.0         0.0        0.0       0.0  0.0\n",
       " 0.0  0.0539384    0.367168    0.0        0.0       0.0  0.0\n",
       " 0.0  0.000481443  0.00386868  0.0126095  0.0       0.0  0.0\n",
       " 0.0  0.00118599   0.0033202   0.0244782  0.045385  0.0  0.0\n",
       " 0.0  0.0          0.0         0.0        0.0       0.0  0.0"
      ]
     },
     "execution_count": 202,
     "metadata": {},
     "output_type": "execute_result"
    }
   ],
   "source": [
    "SCE_cond[rx2, rx2, 3, 2]"
   ]
  },
  {
   "cell_type": "code",
   "execution_count": 203,
   "metadata": {},
   "outputs": [],
   "source": [
    "SCE_update_conditional_lr!(SCE_cond)"
   ]
  },
  {
   "cell_type": "code",
   "execution_count": 235,
   "metadata": {},
   "outputs": [
    {
     "data": {
      "text/plain": [
       "7×7 Matrix{Float64}:\n",
       " 0.0  1.0  0.875715   0.688991   0.431386    0.565488    0.0\n",
       " 0.0  0.0  0.0673381  0.133579   0.0487313   0.0371608   0.0\n",
       " 0.0  0.0  0.0        0.0045909  0.00947084  0.0145206   0.0\n",
       " 0.0  0.0  0.0        0.0        0.0152213   0.0117331   0.0\n",
       " 0.0  0.0  0.0        0.0        0.0         0.00491854  0.0\n",
       " 0.0  0.0  0.0        0.0        0.0         0.0         0.0\n",
       " 0.0  0.0  0.0        0.0        0.0         0.0         0.0"
      ]
     },
     "execution_count": 235,
     "metadata": {},
     "output_type": "execute_result"
    }
   ],
   "source": [
    "SCE_cond[rx1, rx2, 2, 5]"
   ]
  },
  {
   "cell_type": "code",
   "execution_count": 221,
   "metadata": {},
   "outputs": [],
   "source": [
    "CR, CL = BpAlignGpu.update_conditional_all!(af, pm);"
   ]
  },
  {
   "cell_type": "code",
   "execution_count": 238,
   "metadata": {},
   "outputs": [
    {
     "data": {
      "text/plain": [
       "7×7 CuArray{Float32, 2, CUDA.Mem.DeviceBuffer}:\n",
       " 0.0  0.0  0.0  0.0  0.0  0.0  0.0\n",
       " 0.0  0.0  0.0  0.0  0.0  0.0  0.0\n",
       " 0.0  0.0  0.0  0.0  0.0  0.0  0.0\n",
       " 0.0  0.0  0.0  0.0  0.0  0.0  0.0\n",
       " 0.0  0.0  0.0  0.0  0.0  0.0  0.0\n",
       " 0.0  0.0  0.0  0.0  0.0  0.0  0.0\n",
       " 0.0  0.0  0.0  0.0  0.0  0.0  0.0"
      ]
     },
     "execution_count": 238,
     "metadata": {},
     "output_type": "execute_result"
    }
   ],
   "source": [
    "CR[:,1,:,2,2,5]"
   ]
  },
  {
   "cell_type": "code",
   "execution_count": 94,
   "metadata": {
    "scrolled": true
   },
   "outputs": [],
   "source": [
    "#BpAlignGpu.update_hB!(af, pm, pa)"
   ]
  },
  {
   "cell_type": "code",
   "execution_count": 95,
   "metadata": {},
   "outputs": [],
   "source": [
    "#i=1\n",
    "#af.bpm.hB[:,:,i]"
   ]
  },
  {
   "cell_type": "code",
   "execution_count": 96,
   "metadata": {},
   "outputs": [],
   "source": [
    "#SCE_update_F!(i, damp, beta, tolnorm, SCE_hF, SCE_f, muext, muint, N, elts_Hseq)\n",
    "#SCE_update_B!(i, damp, beta, tolnorm, SCE_hB, SCE_f, muext, muint, N, L, elts_Hseq)\n",
    "#SCE_update_hF!(i, SCE_F, damp, beta, tolnorm, SCE_g, pm.lambda_o, pm.lambda_e, N, elts_Jseq)\n",
    "#SCE_update_hB!(i, damp, beta, tolnorm, SCE_B, SCE_g, pm.lambda_o, pm.lambda_e, N, elts_Jseq)"
   ]
  },
  {
   "cell_type": "code",
   "execution_count": null,
   "metadata": {},
   "outputs": [],
   "source": []
  },
  {
   "cell_type": "code",
   "execution_count": null,
   "metadata": {},
   "outputs": [],
   "source": []
  },
  {
   "cell_type": "code",
   "execution_count": 224,
   "metadata": {},
   "outputs": [
    {
     "data": {
      "text/plain": [
       "5×5 CuArray{Float32, 2, CUDA.Mem.DeviceBuffer}:\n",
       " 1.0  1.0  1.0  1.0  1.0\n",
       " 1.0  1.0  1.0  1.0  1.0\n",
       " 1.0  1.0  1.0  1.0  1.0\n",
       " 1.0  1.0  1.0  1.0  1.0\n",
       " 1.0  1.0  1.0  1.0  1.0"
      ]
     },
     "execution_count": 224,
     "metadata": {},
     "output_type": "execute_result"
    }
   ],
   "source": [
    "using CUDA\n",
    "x = ones(T, L, L) |> cu"
   ]
  },
  {
   "cell_type": "code",
   "execution_count": 225,
   "metadata": {},
   "outputs": [
    {
     "data": {
      "text/plain": [
       "5×5 Matrix{Float32}:\n",
       " 1.0  1.0  1.0  1.0  1.0\n",
       " 1.0  1.0  1.0  1.0  1.0\n",
       " 1.0  1.0  1.0  1.0  1.0\n",
       " 1.0  1.0  1.0  1.0  1.0\n",
       " 1.0  1.0  1.0  1.0  1.0"
      ]
     },
     "execution_count": 225,
     "metadata": {},
     "output_type": "execute_result"
    }
   ],
   "source": [
    "xt = ones(T, L, L)"
   ]
  },
  {
   "cell_type": "code",
   "execution_count": 229,
   "metadata": {},
   "outputs": [
    {
     "data": {
      "text/plain": [
       "5×5 CuArray{Float32, 2, CUDA.Mem.DeviceBuffer}:\n",
       " 1.0  1.0  2.0  3.0  4.0\n",
       " 1.0  1.0  1.0  2.0  3.0\n",
       " 2.0  1.0  1.0  1.0  2.0\n",
       " 3.0  2.0  1.0  1.0  1.0\n",
       " 4.0  3.0  2.0  1.0  1.0"
      ]
     },
     "execution_count": 229,
     "metadata": {},
     "output_type": "execute_result"
    }
   ],
   "source": [
    "using Tullio\n",
    "@tullio x[i, j] = (i<=L-2 && j>=i+2) ? (x[i,j-1] + x[j-1,j]) : x[i,j]\n",
    "@tullio x[i, j] = (j<=L-2 && i>=j+2) ? (x[i,i-1] + x[i-1,j]) : x[i,j]\n"
   ]
  },
  {
   "cell_type": "code",
   "execution_count": 232,
   "metadata": {},
   "outputs": [
    {
     "data": {
      "text/plain": [
       "5×5 Matrix{Float32}:\n",
       " 1.0  1.0  2.0  3.0  4.0\n",
       " 1.0  1.0  1.0  2.0  3.0\n",
       " 2.0  1.0  1.0  1.0  2.0\n",
       " 3.0  2.0  1.0  1.0  1.0\n",
       " 4.0  3.0  2.0  1.0  1.0"
      ]
     },
     "execution_count": 232,
     "metadata": {},
     "output_type": "execute_result"
    }
   ],
   "source": [
    "for i=1:L-2\n",
    "    for j=i+2:L\n",
    "        xt[i,j] = xt[i,j-1]+xt[j-1,j]\n",
    "    end\n",
    "end    \n",
    "for j=1:L-2\n",
    "    for i=j+2:L\n",
    "        xt[i,j] = xt[i,i-1]+xt[i-1,j]\n",
    "    end\n",
    "end\n",
    "xt"
   ]
  },
  {
   "cell_type": "code",
   "execution_count": null,
   "metadata": {},
   "outputs": [],
   "source": []
  },
  {
   "cell_type": "code",
   "execution_count": null,
   "metadata": {},
   "outputs": [],
   "source": []
  }
 ],
 "metadata": {
  "kernelspec": {
   "display_name": "Julia 1.7.1",
   "language": "julia",
   "name": "julia-1.7"
  },
  "language_info": {
   "file_extension": ".jl",
   "mimetype": "application/julia",
   "name": "julia",
   "version": "1.7.1"
  }
 },
 "nbformat": 4,
 "nbformat_minor": 4
}
