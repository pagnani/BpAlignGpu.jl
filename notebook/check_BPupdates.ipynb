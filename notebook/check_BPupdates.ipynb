{
 "cells": [
  {
   "cell_type": "code",
   "execution_count": 1,
   "metadata": {
    "scrolled": true
   },
   "outputs": [
    {
     "name": "stderr",
     "output_type": "stream",
     "text": [
      "\u001b[32m\u001b[1m  Activating\u001b[22m\u001b[39m project at `~/MSA/BpAlignGpu.jl`\n",
      "┌ Info: Precompiling BpAlignGpu [5a3eb610-29b2-4cbe-8ba2-ea97f65fa95d]\n",
      "└ @ Base loading.jl:1423\n"
     ]
    }
   ],
   "source": [
    "using Revise, Pkg\n",
    "Pkg.activate(\"/home/louise/MSA/BpAlignGpu.jl\")\n",
    "using BpAlignGpu"
   ]
  },
  {
   "cell_type": "code",
   "execution_count": 2,
   "metadata": {},
   "outputs": [
    {
     "name": "stderr",
     "output_type": "stream",
     "text": [
      "┌ Warning: The NVIDIA driver on this system only supports up to CUDA 11.0.0.\n",
      "│ For performance reasons, it is recommended to upgrade to a driver that supports CUDA 11.2 or higher.\n",
      "└ @ CUDA /home/louise/.julia/packages/CUDA/Uurn4/src/initialization.jl:70\n"
     ]
    },
    {
     "data": {
      "text/plain": [
       "CuDevice(0): TITAN RTX"
      ]
     },
     "execution_count": 2,
     "metadata": {},
     "output_type": "execute_result"
    }
   ],
   "source": [
    "using CUDA\n",
    "CUDA.device!(0)"
   ]
  },
  {
   "cell_type": "code",
   "execution_count": 3,
   "metadata": {},
   "outputs": [
    {
     "data": {
      "text/plain": [
       "(21, 5, 5)"
      ]
     },
     "execution_count": 3,
     "metadata": {},
     "output_type": "execute_result"
    }
   ],
   "source": [
    "#(q, N, L) = (21, 161, 67) \n",
    "(q, N, L) = (21, 5, 5) "
   ]
  },
  {
   "cell_type": "code",
   "execution_count": 4,
   "metadata": {},
   "outputs": [
    {
     "data": {
      "text/plain": [
       "convert_T6_xnTOy (generic function with 1 method)"
      ]
     },
     "execution_count": 4,
     "metadata": {},
     "output_type": "execute_result"
    }
   ],
   "source": [
    "function convert_T3_xnTOy(tmp)\n",
    "    SCE_ar = fill(NaN, 2N+4, L);\n",
    "    for i=1:L\n",
    "        for n=1:N+2\n",
    "            SCE_ar[n, i] = tmp[n,1,i]\n",
    "            SCE_ar[N+2+n, i] = tmp[n,2,i]\n",
    "        end\n",
    "    end\n",
    "    return SCE_ar\n",
    "end\n",
    "function convert_T5_xnTOy(tmp)\n",
    "    SCE_ar = fill(0.0, 2N+4, 2N+4, L)\n",
    "    for i=1:L\n",
    "        for n1=1:N+2\n",
    "            for n2=1:N+2\n",
    "                SCE_ar[n1, n2, i] = tmp[n1, 1, n2, 1, i]\n",
    "                SCE_ar[n1, N+2+n2, i] = tmp[n1, 1, n2, 2, i]\n",
    "                SCE_ar[N+2+n1, n2, i] = tmp[n1, 2, n2, 1, i]\n",
    "                SCE_ar[N+2+n1, N+2+n2, i] = tmp[n1, 2, n2, 2, i]\n",
    "            end\n",
    "        end\n",
    "    end\n",
    "    return SCE_ar\n",
    "end\n",
    "function convert_T6_xnTOy(tmp)\n",
    "    SCE_ar = fill(0.0, 2N+4, 2N+4, L, L)\n",
    "    for i=1:L\n",
    "        for j=1:L\n",
    "            for n1=1:N+2\n",
    "                for n2=1:N+2\n",
    "                    SCE_ar[n1, n2, i, j] = tmp[n1, 1, n2, 1, i, j]\n",
    "                    SCE_ar[n1, N+2+n2, i, j] = tmp[n1, 1, n2, 2, i, j]\n",
    "                    SCE_ar[N+2+n1, n2, i, j] = tmp[n1, 2, n2, 1, i, j]\n",
    "                    SCE_ar[N+2+n1, N+2+n2, i, j] = tmp[n1, 2, n2, 2, i, j]\n",
    "                end\n",
    "            end\n",
    "        end\n",
    "    end\n",
    "    return SCE_ar\n",
    "end"
   ]
  },
  {
   "cell_type": "code",
   "execution_count": 5,
   "metadata": {},
   "outputs": [
    {
     "data": {
      "text/plain": [
       "Float32"
      ]
     },
     "execution_count": 5,
     "metadata": {},
     "output_type": "execute_result"
    }
   ],
   "source": [
    "T = Float32"
   ]
  },
  {
   "cell_type": "code",
   "execution_count": 6,
   "metadata": {},
   "outputs": [
    {
     "data": {
      "text/plain": [
       "myseq\n",
       "EHUFM"
      ]
     },
     "execution_count": 6,
     "metadata": {},
     "output_type": "execute_result"
    }
   ],
   "source": [
    "using Random\n",
    "header = \"myseq\"\n",
    "myseq = randstring('A':'Z', N)\n",
    "ctype=Symbol(\"amino\")\n",
    "seq = Seq(header, myseq, ctype)"
   ]
  },
  {
   "cell_type": "code",
   "execution_count": 7,
   "metadata": {},
   "outputs": [],
   "source": [
    "muint = 1.5\n",
    "muext = 1.2\n",
    "lambda_o = ones(L)\n",
    "lambda_e = ones(L)\n",
    "H = rand(q,L)\n",
    "J = rand(q,q,L,L)\n",
    "J = J .+ permutedims(J, (2,1,4,3));"
   ]
  },
  {
   "cell_type": "code",
   "execution_count": 8,
   "metadata": {},
   "outputs": [
    {
     "data": {
      "text/plain": [
       "ParamModel{Float32}[L=5 N=5 q=21 size=43.547 KiB]"
      ]
     },
     "execution_count": 8,
     "metadata": {},
     "output_type": "execute_result"
    }
   ],
   "source": [
    "pm = ParamModel{T}(N, L, q, muint, muext, lambda_o, lambda_e, H, J)"
   ]
  },
  {
   "cell_type": "code",
   "execution_count": 9,
   "metadata": {},
   "outputs": [
    {
     "data": {
      "text/plain": []
     },
     "execution_count": 9,
     "metadata": {},
     "output_type": "execute_result"
    },
    {
     "name": "stdout",
     "output_type": "stream",
     "text": [
      "ParamAlgo{Float32}\n",
      "-------------\n",
      "damp=0.0\n",
      "tol=0.001\n",
      "tolnorm=1.0e-10\n",
      "tmax=10\n",
      "upscheme=random\n",
      "initcond=random\n",
      "lr=sce\n",
      "beta=1.0\n",
      "verbose=false\n",
      "epscoupling=false\n",
      "-------------"
     ]
    }
   ],
   "source": [
    "#build paramalgo\n",
    "damp=T(0.0)\n",
    "tol=T(1e-3)\n",
    "tolnorm=T(1e-10)\n",
    "tmax=10\n",
    "upscheme=:random \n",
    "initcond=:random \n",
    "lr=:sce  \n",
    "beta=T(1.0)\n",
    "verbose=false\n",
    "xnsol = fill((0, 0), L);\n",
    "epscoupling=(false, T(0.0), xnsol)\n",
    "pa = ParamAlgo(damp, tol, tolnorm, tmax, upscheme, initcond, lr, beta, verbose, epscoupling)"
   ]
  },
  {
   "cell_type": "code",
   "execution_count": 10,
   "metadata": {},
   "outputs": [
    {
     "data": {
      "text/plain": [
       "BPMessages{Float32}[L=5 N=5 ongpu=true size=20.820 KiB]"
      ]
     },
     "execution_count": 10,
     "metadata": {},
     "output_type": "execute_result"
    }
   ],
   "source": [
    "bpm = BPMessages(seq, pm, pa)"
   ]
  },
  {
   "cell_type": "code",
   "execution_count": 11,
   "metadata": {},
   "outputs": [
    {
     "data": {
      "text/plain": [
       "BPBeliefs{Float32}[L=5 N=5 ongpu=true size=23.516 KiB]"
      ]
     },
     "execution_count": 11,
     "metadata": {},
     "output_type": "execute_result"
    }
   ],
   "source": [
    "bpb = BPBeliefs(N, L)"
   ]
  },
  {
   "cell_type": "code",
   "execution_count": 12,
   "metadata": {},
   "outputs": [
    {
     "data": {
      "text/plain": [
       "LongRangeFields{Float32}[L=5 N=5 ongpu=true size=4.102 KiB]"
      ]
     },
     "execution_count": 12,
     "metadata": {},
     "output_type": "execute_result"
    }
   ],
   "source": [
    "lrf = LongRangeFields(N, L)"
   ]
  },
  {
   "cell_type": "code",
   "execution_count": 13,
   "metadata": {},
   "outputs": [
    {
     "data": {
      "text/plain": [
       "AllFields{Float32}[L=5 N=5 ongpu=true size=48.438 KiB]"
      ]
     },
     "execution_count": 13,
     "metadata": {},
     "output_type": "execute_result"
    }
   ],
   "source": [
    "af = AllFields(bpm, bpb, lrf)"
   ]
  },
  {
   "cell_type": "code",
   "execution_count": null,
   "metadata": {},
   "outputs": [],
   "source": []
  },
  {
   "cell_type": "markdown",
   "metadata": {},
   "source": [
    "# Checks"
   ]
  },
  {
   "cell_type": "code",
   "execution_count": 14,
   "metadata": {},
   "outputs": [],
   "source": [
    "tmp_Jseq = Array(af.bpm.Jseq)\n",
    "elts_Jseq = convert_T6_xnTOy(tmp_Jseq);"
   ]
  },
  {
   "cell_type": "code",
   "execution_count": 15,
   "metadata": {},
   "outputs": [],
   "source": [
    "tmp_Hseq = Array(af.bpm.Hseq)\n",
    "elts_Hseq = convert_T3_xnTOy(tmp_Hseq);"
   ]
  },
  {
   "cell_type": "code",
   "execution_count": 16,
   "metadata": {},
   "outputs": [
    {
     "data": {
      "text/plain": [
       "update_lr_free_nrj (generic function with 1 method)"
      ]
     },
     "execution_count": 16,
     "metadata": {},
     "output_type": "execute_result"
    }
   ],
   "source": [
    "include(\"../src/SCE_update_messages.jl\")\n",
    "include(\"../src/SCE_update_shortrange_beliefs.jl\")\n",
    "include(\"../src/SCE_update_longrange.jl\")"
   ]
  },
  {
   "cell_type": "markdown",
   "metadata": {},
   "source": [
    "# Check update f DCAlign"
   ]
  },
  {
   "cell_type": "code",
   "execution_count": 17,
   "metadata": {},
   "outputs": [],
   "source": [
    "tmp_bel = Array(af.bpb.beliefs)\n",
    "SCE_bel = convert_T3_xnTOy(tmp_bel);"
   ]
  },
  {
   "cell_type": "code",
   "execution_count": 18,
   "metadata": {},
   "outputs": [],
   "source": [
    "BpAlignGpu.update_f_DCAlign!(af)"
   ]
  },
  {
   "cell_type": "code",
   "execution_count": 19,
   "metadata": {},
   "outputs": [],
   "source": [
    "SCE_f = fill(NaN, 2N+4, L);"
   ]
  },
  {
   "cell_type": "code",
   "execution_count": 20,
   "metadata": {},
   "outputs": [],
   "source": [
    "SCE_update_f_MF!(SCE_f, SCE_bel, J, N, L, seq.intseq)"
   ]
  },
  {
   "cell_type": "code",
   "execution_count": 21,
   "metadata": {},
   "outputs": [
    {
     "data": {
      "text/plain": [
       "7×2 CuArray{Float32, 2, CUDA.Mem.DeviceBuffer}:\n",
       " 0.162053  0.0\n",
       " 0.420546  0.26271\n",
       " 0.703819  0.398848\n",
       " 0.911149  0.703819\n",
       " 1.34654   1.18466\n",
       " 1.57865   1.62941\n",
       " 1.62437   0.0"
      ]
     },
     "execution_count": 21,
     "metadata": {},
     "output_type": "execute_result"
    }
   ],
   "source": [
    "i=4\n",
    "af.lrf.f[:,:,i]"
   ]
  },
  {
   "cell_type": "code",
   "execution_count": 22,
   "metadata": {},
   "outputs": [
    {
     "data": {
      "text/plain": [
       "14-element Vector{Float64}:\n",
       "   0.1620531178629508\n",
       "   0.420546032178944\n",
       "   0.703818697128345\n",
       "   0.9111487023011605\n",
       "   1.3465364593076583\n",
       "   1.5786451696539143\n",
       "   1.6243729419563457\n",
       " -Inf\n",
       "   0.26271025694860495\n",
       "   0.3988480853636081\n",
       "   0.703818697128345\n",
       "   1.184657635903323\n",
       "   1.6294063083456707\n",
       " -Inf"
      ]
     },
     "execution_count": 22,
     "metadata": {},
     "output_type": "execute_result"
    }
   ],
   "source": [
    "SCE_f[:,i]"
   ]
  },
  {
   "cell_type": "markdown",
   "metadata": {},
   "source": [
    "# check BP updates"
   ]
  },
  {
   "cell_type": "code",
   "execution_count": 23,
   "metadata": {},
   "outputs": [],
   "source": [
    "#BpAlignGpu.update_hF!(af, pm, pa)\n",
    "#BpAlignGpu.update_hB!(af, pm, pa)\n",
    "#BpAlignGpu.update_F!(af, pm, pa)\n",
    "BpAlignGpu.update_B!(af, pm, pa)"
   ]
  },
  {
   "cell_type": "code",
   "execution_count": 24,
   "metadata": {},
   "outputs": [],
   "source": [
    "tmp_hB = Array(af.bpm.hB)\n",
    "SCE_hB = convert_T3_xnTOy(tmp_hB);\n",
    "\n",
    "#tmp_g = Array(af.lrf.g)\n",
    "#SCE_g = convert_T5_xnTOy(tmp_g);\n",
    "tmp_f = Array(af.lrf.f)\n",
    "SCE_f = convert_T3_xnTOy(tmp_f);\n",
    "\n",
    "SCE_B = zeros(2*(N+2),L);"
   ]
  },
  {
   "cell_type": "code",
   "execution_count": 25,
   "metadata": {
    "scrolled": true
   },
   "outputs": [],
   "source": [
    "i=2\n",
    "#SCE_update_F!(SCE_F, i, damp, beta, tolnorm, SCE_hF, SCE_f, muext, muint, N, elts_Hseq)\n",
    "SCE_update_B!(SCE_B, i, damp, beta, tolnorm, SCE_hB, SCE_f, muext, muint, N, L, elts_Hseq)\n",
    "#SCE_update_hF!(SCE_hF, i, SCE_F, damp, beta, tolnorm, SCE_g, pm.lambda_o, pm.lambda_e, N, elts_Jseq)\n",
    "#SCE_update_hB!(SCE_hB, i, damp, beta, tolnorm, SCE_B, SCE_g, pm.lambda_o, pm.lambda_e, N, elts_Jseq)"
   ]
  },
  {
   "cell_type": "code",
   "execution_count": 26,
   "metadata": {},
   "outputs": [
    {
     "data": {
      "text/plain": [
       "7×2 CuArray{Float32, 2, CUDA.Mem.DeviceBuffer}:\n",
       " 0.0269749  0.0\n",
       " 0.0212458  0.0717165\n",
       " 0.114175   0.276471\n",
       " 0.0248986  0.248398\n",
       " 0.0447041  0.135723\n",
       " 0.0147712  0.00976404\n",
       " 0.0111587  0.0"
      ]
     },
     "execution_count": 26,
     "metadata": {},
     "output_type": "execute_result"
    }
   ],
   "source": [
    "af.bpm.B[:,:,i]"
   ]
  },
  {
   "cell_type": "code",
   "execution_count": 27,
   "metadata": {},
   "outputs": [
    {
     "data": {
      "text/plain": [
       "14-element Vector{Float64}:\n",
       " 0.026974874940110253\n",
       " 0.02124576899252568\n",
       " 0.11417466963562518\n",
       " 0.024898590223555193\n",
       " 0.04470414060337473\n",
       " 0.014771200679868082\n",
       " 0.01115866929629876\n",
       " 0.0\n",
       " 0.07171652990772416\n",
       " 0.27647061362100644\n",
       " 0.24839798491137935\n",
       " 0.13572291756442487\n",
       " 0.009764039624107407\n",
       " 0.0"
      ]
     },
     "execution_count": 27,
     "metadata": {},
     "output_type": "execute_result"
    }
   ],
   "source": [
    "SCE_B[:,i]"
   ]
  },
  {
   "cell_type": "markdown",
   "metadata": {},
   "source": [
    "# check update beliefs"
   ]
  },
  {
   "cell_type": "code",
   "execution_count": 28,
   "metadata": {},
   "outputs": [],
   "source": [
    "tmp_hF = Array(af.bpm.hF)\n",
    "SCE_hF = convert_T3_xnTOy(tmp_hF);\n",
    "tmp_hB = Array(af.bpm.hB)\n",
    "SCE_hB = convert_T3_xnTOy(tmp_hB);\n",
    "\n",
    "tmp_f = Array(af.lrf.f)\n",
    "SCE_f = convert_T3_xnTOy(tmp_f);\n",
    "\n",
    "SCE_bel = zeros(2*(N+2),L);"
   ]
  },
  {
   "cell_type": "code",
   "execution_count": 29,
   "metadata": {},
   "outputs": [],
   "source": [
    "BpAlignGpu.update_beliefs!(af, pm, pa)"
   ]
  },
  {
   "cell_type": "code",
   "execution_count": 30,
   "metadata": {},
   "outputs": [
    {
     "data": {
      "text/plain": [
       "1.3123673649251923"
      ]
     },
     "execution_count": 30,
     "metadata": {},
     "output_type": "execute_result"
    }
   ],
   "source": [
    "i=5\n",
    "SCE_update_beliefs!(SCE_bel, i, beta, tolnorm, SCE_hF, SCE_hB, SCE_f, muint, muext, N, L, elts_Hseq)"
   ]
  },
  {
   "cell_type": "code",
   "execution_count": 31,
   "metadata": {},
   "outputs": [
    {
     "data": {
      "text/plain": [
       "7×2 CuArray{Float32, 2, CUDA.Mem.DeviceBuffer}:\n",
       " 0.0       0.0\n",
       " 0.0       0.0629179\n",
       " 0.0       0.197784\n",
       " 0.0       0.126108\n",
       " 0.0       0.00444651\n",
       " 0.0       0.0085766\n",
       " 0.600167  0.0"
      ]
     },
     "execution_count": 31,
     "metadata": {},
     "output_type": "execute_result"
    }
   ],
   "source": [
    "af.bpb.beliefs[:,:,i]"
   ]
  },
  {
   "cell_type": "code",
   "execution_count": 32,
   "metadata": {},
   "outputs": [
    {
     "data": {
      "text/plain": [
       "14-element Vector{Float64}:\n",
       " 0.0\n",
       " 0.0\n",
       " 0.0\n",
       " 0.0\n",
       " 0.0\n",
       " 0.0\n",
       " 0.6001672987780243\n",
       " 0.0\n",
       " 0.06291794728084141\n",
       " 0.1977838690164353\n",
       " 0.1261077711286273\n",
       " 0.004446515307386164\n",
       " 0.00857659848868548\n",
       " 0.0"
      ]
     },
     "execution_count": 32,
     "metadata": {},
     "output_type": "execute_result"
    }
   ],
   "source": [
    "SCE_bel[:,i]"
   ]
  },
  {
   "cell_type": "code",
   "execution_count": 30,
   "metadata": {},
   "outputs": [
    {
     "data": {
      "text/plain": [
       "(-7.6260653f0, [-0.65365124;;; -2.2202148;;; -2.2581332;;; -2.6339424;;; 0.13987625])"
      ]
     },
     "execution_count": 30,
     "metadata": {},
     "output_type": "execute_result"
    }
   ],
   "source": [
    "logzi, mynorm_Zi = BpAlignGpu.logZi(af, pm, pa)"
   ]
  },
  {
   "cell_type": "code",
   "execution_count": 31,
   "metadata": {},
   "outputs": [
    {
     "name": "stderr",
     "output_type": "stream",
     "text": [
      "┌ Warning: Performing scalar indexing on task Task (runnable) @0x00007f196fec1b60.\n",
      "│ Invocation of getindex resulted in scalar indexing of a GPU array.\n",
      "│ This is typically caused by calling an iterating implementation of a method.\n",
      "│ Such implementations *do not* execute on the GPU, but very slowly on the CPU,\n",
      "│ and therefore are only permitted from the REPL for prototyping purposes.\n",
      "│ If you did intend to index this array, annotate the caller with @allowscalar.\n",
      "└ @ GPUArrays /home/louise/.julia/packages/GPUArrays/umZob/src/host/indexing.jl:56\n"
     ]
    },
    {
     "data": {
      "text/plain": [
       "0.13987625f0"
      ]
     },
     "execution_count": 31,
     "metadata": {},
     "output_type": "execute_result"
    }
   ],
   "source": [
    "mynorm_Zi[i]"
   ]
  },
  {
   "cell_type": "markdown",
   "metadata": {},
   "source": [
    "# check update joint proba"
   ]
  },
  {
   "cell_type": "code",
   "execution_count": 32,
   "metadata": {},
   "outputs": [],
   "source": [
    "tmp_F = Array(af.bpm.F)\n",
    "SCE_F = convert_T3_xnTOy(tmp_F);\n",
    "tmp_B = Array(af.bpm.B)\n",
    "SCE_B = convert_T3_xnTOy(tmp_B);\n",
    "\n",
    "tmp_g = Array(af.lrf.g)\n",
    "SCE_g = convert_T5_xnTOy(tmp_g);\n",
    "\n",
    "SCE_joint = zeros(2(N+2), 2(N+2), L);"
   ]
  },
  {
   "cell_type": "code",
   "execution_count": null,
   "metadata": {},
   "outputs": [],
   "source": []
  },
  {
   "cell_type": "code",
   "execution_count": 33,
   "metadata": {},
   "outputs": [],
   "source": [
    "BpAlignGpu.update_jointchain!(af, pm, pa)"
   ]
  },
  {
   "cell_type": "code",
   "execution_count": 34,
   "metadata": {},
   "outputs": [
    {
     "data": {
      "text/plain": [
       "7×7 CuArray{Float32, 2, CUDA.Mem.DeviceBuffer}:\n",
       " 0.0  0.0  0.0  0.0  0.0  0.0  0.0\n",
       " 0.0  0.0  0.0  0.0  0.0  0.0  0.0\n",
       " 0.0  0.0  0.0  0.0  0.0  0.0  0.0\n",
       " 0.0  0.0  0.0  0.0  0.0  0.0  0.0\n",
       " 0.0  0.0  0.0  0.0  0.0  0.0  0.0\n",
       " 0.0  0.0  0.0  0.0  0.0  0.0  0.0\n",
       " 0.0  0.0  0.0  0.0  0.0  0.0  0.00298098"
      ]
     },
     "execution_count": 34,
     "metadata": {},
     "output_type": "execute_result"
    }
   ],
   "source": [
    "i=4\n",
    "af.bpb.joint_chain[:,1,:,1,i]"
   ]
  },
  {
   "cell_type": "code",
   "execution_count": 35,
   "metadata": {},
   "outputs": [
    {
     "data": {
      "text/plain": [
       "0.06536807561481568"
      ]
     },
     "execution_count": 35,
     "metadata": {},
     "output_type": "execute_result"
    }
   ],
   "source": [
    "SCE_update_joint_chain!(SCE_joint, i, beta, tolnorm, SCE_F, SCE_B, SCE_g, lambda_o, lambda_e, N, elts_Jseq)"
   ]
  },
  {
   "cell_type": "code",
   "execution_count": 36,
   "metadata": {},
   "outputs": [
    {
     "data": {
      "text/plain": [
       "7×7 Matrix{Float64}:\n",
       " 0.0  0.0  0.0  0.0  0.0  0.0  0.0\n",
       " 0.0  0.0  0.0  0.0  0.0  0.0  0.0\n",
       " 0.0  0.0  0.0  0.0  0.0  0.0  0.0\n",
       " 0.0  0.0  0.0  0.0  0.0  0.0  0.0\n",
       " 0.0  0.0  0.0  0.0  0.0  0.0  0.0\n",
       " 0.0  0.0  0.0  0.0  0.0  0.0  0.0\n",
       " 0.0  0.0  0.0  0.0  0.0  0.0  0.00298098"
      ]
     },
     "execution_count": 36,
     "metadata": {},
     "output_type": "execute_result"
    }
   ],
   "source": [
    "rx1 = 1:N+2\n",
    "rx2 = N+3:2N+4\n",
    "SCE_joint[rx1,rx1, i]"
   ]
  },
  {
   "cell_type": "code",
   "execution_count": 37,
   "metadata": {},
   "outputs": [
    {
     "data": {
      "text/plain": [
       "(-1.2062328f0, [-0.55355954;;;;; -0.033462103;;;;; -0.68457925;;;;; 0.065368034;;;;; 0.0])"
      ]
     },
     "execution_count": 37,
     "metadata": {},
     "output_type": "execute_result"
    }
   ],
   "source": [
    "logza, mynormza = BpAlignGpu.logZa(af, pm, pa)"
   ]
  },
  {
   "cell_type": "code",
   "execution_count": 38,
   "metadata": {},
   "outputs": [
    {
     "data": {
      "text/plain": [
       "0.065368034f0"
      ]
     },
     "execution_count": 38,
     "metadata": {},
     "output_type": "execute_result"
    }
   ],
   "source": [
    "mynormza[i]"
   ]
  },
  {
   "cell_type": "markdown",
   "metadata": {},
   "source": [
    "# Check logZedge"
   ]
  },
  {
   "cell_type": "code",
   "execution_count": 39,
   "metadata": {},
   "outputs": [
    {
     "data": {
      "text/plain": [
       "-19.023766f0"
      ]
     },
     "execution_count": 39,
     "metadata": {},
     "output_type": "execute_result"
    }
   ],
   "source": [
    "BpAlignGpu.logZia(af, pm)"
   ]
  },
  {
   "cell_type": "code",
   "execution_count": 40,
   "metadata": {},
   "outputs": [],
   "source": [
    "tmp_F = Array(af.bpm.F)\n",
    "SCE_F = convert_T3_xnTOy(tmp_F);\n",
    "tmp_B = Array(af.bpm.B)\n",
    "SCE_B = convert_T3_xnTOy(tmp_B);\n",
    "tmp_hF = Array(af.bpm.hF)\n",
    "SCE_hF = convert_T3_xnTOy(tmp_hF);\n",
    "tmp_hB = Array(af.bpm.hB)\n",
    "SCE_hB = convert_T3_xnTOy(tmp_hB);"
   ]
  },
  {
   "cell_type": "code",
   "execution_count": 41,
   "metadata": {},
   "outputs": [
    {
     "data": {
      "text/plain": [
       "(-9.594253540205155, -9.429512034096916, -19.02376557430207)"
      ]
     },
     "execution_count": 41,
     "metadata": {},
     "output_type": "execute_result"
    }
   ],
   "source": [
    "logZedge(SCE_F, SCE_B, SCE_hF, SCE_hB)"
   ]
  },
  {
   "cell_type": "markdown",
   "metadata": {},
   "source": [
    "# check update conditional on the chain"
   ]
  },
  {
   "cell_type": "code",
   "execution_count": 42,
   "metadata": {},
   "outputs": [],
   "source": [
    "BpAlignGpu.update_conditional_chain!(af, pa)"
   ]
  },
  {
   "cell_type": "code",
   "execution_count": 43,
   "metadata": {},
   "outputs": [],
   "source": [
    "tmp_joint = Array(af.bpb.joint_chain)\n",
    "SCE_joint = convert_T5_xnTOy(tmp_joint);"
   ]
  },
  {
   "cell_type": "code",
   "execution_count": 44,
   "metadata": {},
   "outputs": [],
   "source": [
    "cond_chain = fill(0.0, 2N+4, 2N+4, L, L)\n",
    "for i=1:L-1\n",
    "    SCE_update_conditional_chain!(i, cond_chain, SCE_joint, tolnorm, N)\n",
    "end"
   ]
  },
  {
   "cell_type": "code",
   "execution_count": 45,
   "metadata": {},
   "outputs": [
    {
     "data": {
      "text/plain": [
       "7×7 CuArray{Float32, 2, CUDA.Mem.DeviceBuffer}:\n",
       " 0.0  0.0       0.0       0.0       0.0       0.0       0.0\n",
       " 0.0  0.370141  0.0       0.0       0.0       0.0       0.0962225\n",
       " 0.0  0.0       0.619319  0.0       0.0       0.0       0.135307\n",
       " 0.0  0.0       0.0       0.673274  0.0       0.0       0.463564\n",
       " 0.0  0.0       0.0       0.0       0.471372  0.0       0.133553\n",
       " 0.0  0.0       0.0       0.0       0.0       0.266593  0.0861734\n",
       " 0.0  0.0       0.0       0.0       0.0       0.0       0.0"
      ]
     },
     "execution_count": 45,
     "metadata": {},
     "output_type": "execute_result"
    }
   ],
   "source": [
    "af.bpb.conditional[:,2,:,1,1,2]"
   ]
  },
  {
   "cell_type": "code",
   "execution_count": 46,
   "metadata": {},
   "outputs": [
    {
     "data": {
      "text/plain": [
       "7×7 Matrix{Float64}:\n",
       " 0.0  0.0       0.0       0.0       0.0       0.0       0.0\n",
       " 0.0  0.370141  0.0       0.0       0.0       0.0       0.0962225\n",
       " 0.0  0.0       0.619319  0.0       0.0       0.0       0.135307\n",
       " 0.0  0.0       0.0       0.673274  0.0       0.0       0.463564\n",
       " 0.0  0.0       0.0       0.0       0.471372  0.0       0.133553\n",
       " 0.0  0.0       0.0       0.0       0.0       0.266593  0.0861734\n",
       " 0.0  0.0       0.0       0.0       0.0       0.0       0.0"
      ]
     },
     "execution_count": 46,
     "metadata": {},
     "output_type": "execute_result"
    }
   ],
   "source": [
    "cond_chain[rx2, rx1, 1, 2]"
   ]
  },
  {
   "cell_type": "markdown",
   "metadata": {},
   "source": [
    "# check update conditional off the chain"
   ]
  },
  {
   "cell_type": "code",
   "execution_count": 47,
   "metadata": {},
   "outputs": [],
   "source": [
    "BpAlignGpu.update_conditional_all!(af, pm);"
   ]
  },
  {
   "cell_type": "code",
   "execution_count": 48,
   "metadata": {},
   "outputs": [
    {
     "data": {
      "text/plain": [
       "(Ptr{Float64} @0x0000000011495140, Ptr{Float64} @0x0000000035195a80)"
      ]
     },
     "execution_count": 48,
     "metadata": {},
     "output_type": "execute_result"
    }
   ],
   "source": [
    "cond_lr = copy(cond_chain);\n",
    "pointer(cond_chain), pointer(cond_lr)"
   ]
  },
  {
   "cell_type": "code",
   "execution_count": 49,
   "metadata": {},
   "outputs": [],
   "source": [
    "SCE_update_conditional_lr!(cond_lr)"
   ]
  },
  {
   "cell_type": "code",
   "execution_count": 50,
   "metadata": {},
   "outputs": [
    {
     "data": {
      "text/plain": [
       "7×7 Matrix{Float64}:\n",
       " 0.0  0.0          0.0         0.0        0.0        0.0       0.0\n",
       " 0.0  0.000413058  0.0         0.0        0.0        0.0       0.0\n",
       " 0.0  0.00846363   8.66591e-5  0.0        0.0        0.0       0.0\n",
       " 0.0  0.040853     0.0102258   0.0018733  0.0        0.0       0.0\n",
       " 0.0  0.0963792    0.148821    0.0580933  0.0247416  0.0       0.0\n",
       " 0.0  0.0610765    0.10298     0.222946   0.291714   0.231122  0.0\n",
       " 0.0  0.248231     0.300433    0.558071   0.620127   0.768878  0.0"
      ]
     },
     "execution_count": 50,
     "metadata": {},
     "output_type": "execute_result"
    }
   ],
   "source": [
    "cond_lr[rx1, rx2, 4, 1]"
   ]
  },
  {
   "cell_type": "code",
   "execution_count": 51,
   "metadata": {},
   "outputs": [
    {
     "data": {
      "text/plain": [
       "7×7 CuArray{Float32, 2, CUDA.Mem.DeviceBuffer}:\n",
       " 0.0  0.0          0.0         0.0        0.0        0.0       0.0\n",
       " 0.0  0.000413058  0.0         0.0        0.0        0.0       0.0\n",
       " 0.0  0.00846363   8.66591f-5  0.0        0.0        0.0       0.0\n",
       " 0.0  0.040853     0.0102258   0.0018733  0.0        0.0       0.0\n",
       " 0.0  0.0963792    0.148822    0.0580932  0.0247416  0.0       0.0\n",
       " 0.0  0.0610764    0.10298     0.222946   0.291714   0.231122  0.0\n",
       " 0.0  0.248231     0.300433    0.55807    0.620127   0.768878  0.0"
      ]
     },
     "execution_count": 51,
     "metadata": {},
     "output_type": "execute_result"
    }
   ],
   "source": [
    "af.bpb.conditional[:,1,:,2,4,1]"
   ]
  },
  {
   "cell_type": "markdown",
   "metadata": {},
   "source": [
    "# Check long range Free Energy"
   ]
  },
  {
   "cell_type": "code",
   "execution_count": 52,
   "metadata": {},
   "outputs": [
    {
     "data": {
      "text/plain": [
       "4.451576769351959"
      ]
     },
     "execution_count": 52,
     "metadata": {},
     "output_type": "execute_result"
    }
   ],
   "source": [
    "BpAlignGpu.lr_freeen(af, pm)"
   ]
  },
  {
   "cell_type": "code",
   "execution_count": 53,
   "metadata": {},
   "outputs": [],
   "source": [
    "tmp_bel = Array(af.bpb.beliefs)\n",
    "SCE_bel = convert_T3_xnTOy(tmp_bel)\n",
    "tmp_cond = Array(af.bpb.conditional)\n",
    "SCE_cond = convert_T6_xnTOy(tmp_cond);"
   ]
  },
  {
   "cell_type": "code",
   "execution_count": 54,
   "metadata": {},
   "outputs": [
    {
     "data": {
      "text/plain": [
       "4.451576755178928"
      ]
     },
     "execution_count": 54,
     "metadata": {},
     "output_type": "execute_result"
    }
   ],
   "source": [
    "using LinearAlgebra\n",
    "update_lr_free_nrj(SCE_bel, SCE_cond, elts_Jseq)"
   ]
  },
  {
   "cell_type": "markdown",
   "metadata": {},
   "source": [
    "# check update f"
   ]
  },
  {
   "cell_type": "code",
   "execution_count": null,
   "metadata": {},
   "outputs": [],
   "source": [
    "BpAlignGpu.update_F!(af, pm, pa)\n",
    "BpAlignGpu.update_hF!(af, pm, pa)\n",
    "BpAlignGpu.update_B!(af, pm, pa)\n",
    "BpAlignGpu.update_hB!(af, pm, pa)\n",
    "BpAlignGpu.update_beliefs!(af, pm, pa)\n",
    "BpAlignGpu.update_jointchain!(af, pm, pa)\n",
    "BpAlignGpu.update_conditional_chain!(af, pa)\n",
    "BpAlignGpu.update_conditional_all!(af, pm)"
   ]
  },
  {
   "cell_type": "code",
   "execution_count": null,
   "metadata": {},
   "outputs": [],
   "source": [
    "tmp_cond= Array(af.bpb.conditional)\n",
    "SCE_cond = convert_T6_xnTOy(tmp_cond);"
   ]
  },
  {
   "cell_type": "code",
   "execution_count": null,
   "metadata": {},
   "outputs": [],
   "source": [
    "tmp_f = Array(af.lrf.f)\n",
    "SCE_f = convert_T3_xnTOy(tmp_f);"
   ]
  },
  {
   "cell_type": "code",
   "execution_count": null,
   "metadata": {},
   "outputs": [],
   "source": [
    "BpAlignGpu.update_f!(af)"
   ]
  },
  {
   "cell_type": "code",
   "execution_count": null,
   "metadata": {},
   "outputs": [],
   "source": [
    "using LinearAlgebra\n",
    "SCE_update_f!(SCE_f, SCE_cond, elts_Jseq, N)"
   ]
  },
  {
   "cell_type": "code",
   "execution_count": null,
   "metadata": {},
   "outputs": [],
   "source": [
    "i=3\n",
    "af.lrf.f[:,:,i]"
   ]
  },
  {
   "cell_type": "code",
   "execution_count": null,
   "metadata": {},
   "outputs": [],
   "source": [
    "SCE_f[:,i]"
   ]
  },
  {
   "cell_type": "markdown",
   "metadata": {},
   "source": [
    "# check update g"
   ]
  },
  {
   "cell_type": "code",
   "execution_count": null,
   "metadata": {},
   "outputs": [],
   "source": [
    "tmp_cond= Array(af.bpb.conditional)\n",
    "SCE_cond = convert_T6_xnTOy(tmp_cond);"
   ]
  },
  {
   "cell_type": "code",
   "execution_count": null,
   "metadata": {},
   "outputs": [],
   "source": [
    "tmp_g = Array(af.lrf.g)\n",
    "SCE_g = convert_T5_xnTOy(tmp_g);"
   ]
  },
  {
   "cell_type": "code",
   "execution_count": null,
   "metadata": {},
   "outputs": [],
   "source": [
    "BpAlignGpu.update_g!(af)"
   ]
  },
  {
   "cell_type": "code",
   "execution_count": null,
   "metadata": {},
   "outputs": [],
   "source": [
    "SCE_update_g!(SCE_g, SCE_cond, elts_Jseq, N)"
   ]
  },
  {
   "cell_type": "code",
   "execution_count": null,
   "metadata": {},
   "outputs": [],
   "source": [
    "i=3\n",
    "af.lrf.g[:,1,:,2,i]"
   ]
  },
  {
   "cell_type": "code",
   "execution_count": null,
   "metadata": {},
   "outputs": [],
   "source": [
    "rx1 = 1:N+2\n",
    "rx2 = N+3:2N+4\n",
    "SCE_g[rx1,rx2,i]"
   ]
  },
  {
   "cell_type": "code",
   "execution_count": null,
   "metadata": {},
   "outputs": [],
   "source": []
  },
  {
   "cell_type": "code",
   "execution_count": null,
   "metadata": {},
   "outputs": [],
   "source": []
  }
 ],
 "metadata": {
  "kernelspec": {
   "display_name": "Julia 1.7.1",
   "language": "julia",
   "name": "julia-1.7"
  },
  "language_info": {
   "file_extension": ".jl",
   "mimetype": "application/julia",
   "name": "julia",
   "version": "1.7.1"
  }
 },
 "nbformat": 4,
 "nbformat_minor": 4
}
