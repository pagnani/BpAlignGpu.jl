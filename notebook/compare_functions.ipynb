{
 "cells": [
  {
   "cell_type": "code",
   "execution_count": 1,
   "metadata": {},
   "outputs": [
    {
     "name": "stderr",
     "output_type": "stream",
     "text": [
      "\u001b[32m\u001b[1m  Activating\u001b[22m\u001b[39m project at `~/MSA/BpAlignGpu.jl`\n"
     ]
    }
   ],
   "source": [
    "using Revise, Pkg\n",
    "Pkg.activate(\"/home/louise/MSA/BpAlignGpu.jl\")\n",
    "using BpAlignGpu"
   ]
  },
  {
   "cell_type": "code",
   "execution_count": 2,
   "metadata": {},
   "outputs": [
    {
     "data": {
      "text/plain": [
       "(3, 5, 4)"
      ]
     },
     "execution_count": 2,
     "metadata": {},
     "output_type": "execute_result"
    }
   ],
   "source": [
    "(q, N, L) = (3, 5, 4)"
   ]
  },
  {
   "cell_type": "code",
   "execution_count": 3,
   "metadata": {},
   "outputs": [
    {
     "data": {
      "text/plain": [
       "14"
      ]
     },
     "execution_count": 3,
     "metadata": {},
     "output_type": "execute_result"
    }
   ],
   "source": [
    "Q = 2N+4"
   ]
  },
  {
   "cell_type": "code",
   "execution_count": 4,
   "metadata": {},
   "outputs": [
    {
     "data": {
      "text/plain": [
       "Float32"
      ]
     },
     "execution_count": 4,
     "metadata": {},
     "output_type": "execute_result"
    }
   ],
   "source": [
    "T = Float32"
   ]
  },
  {
   "cell_type": "code",
   "execution_count": 5,
   "metadata": {},
   "outputs": [],
   "source": [
    "using CUDA"
   ]
  },
  {
   "cell_type": "code",
   "execution_count": 6,
   "metadata": {},
   "outputs": [],
   "source": [
    "f = zeros(T, 2N+4, L)\n",
    "g = zeros(T, 2N+4, 2N+4, L-1)\n",
    "JP = zeros(T, 2N+4, 2N+4)\n",
    "tmpJP = zeros(T, 2N+4, 2N+4)\n",
    "tmpf = zeros(T, 2N+4)\n",
    "incf = zeros(T, 2N+4)\n",
    "tmpg = zeros(T, 2N+4, 2N+4)\n",
    "incg = zeros(T, 2N+4, 2N+4)\n",
    "tmpdiagJP = zeros(T, 2N+4)\n",
    "diagJP = zeros(T, 2N+4);"
   ]
  },
  {
   "cell_type": "code",
   "execution_count": 7,
   "metadata": {},
   "outputs": [
    {
     "name": "stderr",
     "output_type": "stream",
     "text": [
      "┌ Warning: The NVIDIA driver on this system only supports up to CUDA 11.0.0.\n",
      "│ For performance reasons, it is recommended to upgrade to a driver that supports CUDA 11.2 or higher.\n",
      "└ @ CUDA /home/louise/.julia/packages/CUDA/bki2w/src/initialization.jl:70\n"
     ]
    }
   ],
   "source": [
    "cond, J = BpAlignGpu.crea_instance_J_cond(Q, L);"
   ]
  },
  {
   "cell_type": "code",
   "execution_count": 9,
   "metadata": {},
   "outputs": [],
   "source": [
    "conditional = zeros(T, Q, Q, L, L)\n",
    "elts_J = zeros(T, Q, Q, L, L)\n",
    "conditional .= cond\n",
    "elts_J .= J;"
   ]
  },
  {
   "cell_type": "code",
   "execution_count": 8,
   "metadata": {
    "scrolled": true
   },
   "outputs": [
    {
     "data": {
      "text/plain": [
       "14×4 CuArray{Float32, 2, CUDA.Mem.DeviceBuffer}:\n",
       " 0.0  -46.2937  -54.01    0.0\n",
       " 0.0  -62.3522  -65.769   0.0\n",
       " 0.0  -54.8981  -49.9944  0.0\n",
       " 0.0  -61.0016  -44.7134  0.0\n",
       " 0.0  -42.8678  -36.2393  0.0\n",
       " 0.0  -57.5786  -48.2782  0.0\n",
       " 0.0  -54.3563  -62.9777  0.0\n",
       " 0.0  -47.5234  -43.2405  0.0\n",
       " 0.0  -56.7916  -38.8615  0.0\n",
       " 0.0  -43.445   -46.7103  0.0\n",
       " 0.0  -53.8189  -62.0427  0.0\n",
       " 0.0  -68.0537  -43.6257  0.0\n",
       " 0.0  -28.0959  -55.0965  0.0\n",
       " 0.0  -61.879   -51.7773  0.0"
      ]
     },
     "execution_count": 8,
     "metadata": {},
     "output_type": "execute_result"
    }
   ],
   "source": [
    "f2 = BpAlignGpu.test_update_f(cond, J)"
   ]
  },
  {
   "cell_type": "code",
   "execution_count": 11,
   "metadata": {},
   "outputs": [
    {
     "data": {
      "text/plain": [
       "14×4 Matrix{Float32}:\n",
       " 0.0  -46.2937  -54.01    0.0\n",
       " 0.0  -62.3522  -65.769   0.0\n",
       " 0.0  -54.898   -49.9944  0.0\n",
       " 0.0  -61.0017  -44.7134  0.0\n",
       " 0.0  -42.8678  -36.2393  0.0\n",
       " 0.0  -57.5786  -48.2782  0.0\n",
       " 0.0  -54.3562  -62.9777  0.0\n",
       " 0.0  -47.5234  -43.2405  0.0\n",
       " 0.0  -56.7916  -38.8615  0.0\n",
       " 0.0  -43.445   -46.7103  0.0\n",
       " 0.0  -53.8189  -62.0427  0.0\n",
       " 0.0  -68.0537  -43.6257  0.0\n",
       " 0.0  -28.0959  -55.0965  0.0\n",
       " 0.0  -61.879   -51.7773  0.0"
      ]
     },
     "execution_count": 11,
     "metadata": {},
     "output_type": "execute_result"
    }
   ],
   "source": [
    "BpAlignGpu.update_f!(f, JP, tmpJP, tmpf, incf, conditional, elts_J)\n",
    "f"
   ]
  },
  {
   "cell_type": "code",
   "execution_count": null,
   "metadata": {},
   "outputs": [],
   "source": []
  },
  {
   "cell_type": "code",
   "execution_count": 14,
   "metadata": {},
   "outputs": [],
   "source": [
    "BpAlignGpu.update_g!(g, conditional, JP, tmpJP, tmpg, incg, elts_J)"
   ]
  },
  {
   "cell_type": "code",
   "execution_count": 15,
   "metadata": {},
   "outputs": [],
   "source": [
    "g2 = BpAlignGpu.test_update_g(cond, J);"
   ]
  },
  {
   "cell_type": "code",
   "execution_count": 16,
   "metadata": {},
   "outputs": [
    {
     "data": {
      "text/plain": [
       "14×14 CuArray{Float32, 2, CUDA.Mem.DeviceBuffer}:\n",
       " 53.0462  53.9231  47.5018  54.5539  …  46.3816  53.1952  42.488   58.068\n",
       " 66.4512  68.3391  60.2639  69.6767     58.6258  68.3295  53.1312  74.129\n",
       " 51.3609  53.0764  48.0451  54.6595     46.0269  52.5608  41.8082  57.548\n",
       " 48.5119  49.1684  44.1759  50.9492     42.3385  48.9692  38.7023  53.9851\n",
       " 53.7732  54.3213  47.7367  55.9933     48.129   52.6751  43.0004  60.2441\n",
       " 49.1237  51.364   45.012   51.0476  …  43.9971  51.1448  39.6926  54.9139\n",
       " 43.2644  44.2695  40.1779  45.9844     38.3714  43.9317  34.4467  48.0369\n",
       " 68.8303  70.4238  62.0447  71.0083     59.4006  69.7954  54.2202  75.0814\n",
       " 57.5089  58.9469  51.6158  59.6037     49.5688  59.0284  45.4106  63.3844\n",
       " 56.8501  57.7467  51.2116  59.3121     48.9344  56.8189  45.2318  62.3461\n",
       " 49.965   51.7823  45.8019  52.6213  …  44.4192  51.4735  40.3714  56.2946\n",
       " 44.8772  45.077   39.5947  46.1551     39.2307  44.408   35.3763  48.9697\n",
       " 51.2663  51.9285  46.4352  53.3775     43.6292  51.4381  40.3702  55.8179\n",
       " 53.261   54.3192  49.1216  55.6197     46.5954  54.1176  42.8384  58.0471"
      ]
     },
     "execution_count": 16,
     "metadata": {},
     "output_type": "execute_result"
    }
   ],
   "source": [
    "l=1\n",
    "g2[:,:,l]"
   ]
  },
  {
   "cell_type": "code",
   "execution_count": 17,
   "metadata": {},
   "outputs": [
    {
     "data": {
      "text/plain": [
       "14×14 Matrix{Float32}:\n",
       " 53.0462  53.9231  47.5018  54.5539  …  46.3816  53.1952  42.488   58.068\n",
       " 66.4512  68.3391  60.2639  69.6767     58.6258  68.3295  53.1312  74.129\n",
       " 51.3609  53.0765  48.0451  54.6595     46.0269  52.5608  41.8082  57.548\n",
       " 48.5119  49.1684  44.1759  50.9492     42.3385  48.9692  38.7023  53.9851\n",
       " 53.7732  54.3212  47.7367  55.9933     48.129   52.6751  43.0004  60.2441\n",
       " 49.1238  51.364   45.012   51.0476  …  43.9971  51.1448  39.6926  54.9139\n",
       " 43.2644  44.2695  40.1779  45.9844     38.3714  43.9317  34.4467  48.0369\n",
       " 68.8303  70.4237  62.0446  71.0082     59.4006  69.7953  54.2202  75.0813\n",
       " 57.5089  58.9469  51.6158  59.6037     49.5688  59.0284  45.4106  63.3844\n",
       " 56.8501  57.7467  51.2116  59.3121     48.9344  56.8188  45.2318  62.3461\n",
       " 49.965   51.7823  45.8019  52.6213  …  44.4193  51.4735  40.3714  56.2946\n",
       " 44.8772  45.0769  39.5947  46.1551     39.2307  44.408   35.3763  48.9697\n",
       " 51.2663  51.9285  46.4352  53.3775     43.6292  51.4381  40.3702  55.8179\n",
       " 53.261   54.3192  49.1216  55.6197     46.5954  54.1176  42.8384  58.0472"
      ]
     },
     "execution_count": 17,
     "metadata": {},
     "output_type": "execute_result"
    }
   ],
   "source": [
    "g[:,:,l]"
   ]
  },
  {
   "cell_type": "code",
   "execution_count": null,
   "metadata": {},
   "outputs": [],
   "source": []
  }
 ],
 "metadata": {
  "kernelspec": {
   "display_name": "Julia 1.7.1",
   "language": "julia",
   "name": "julia-1.7"
  },
  "language_info": {
   "file_extension": ".jl",
   "mimetype": "application/julia",
   "name": "julia",
   "version": "1.7.1"
  }
 },
 "nbformat": 4,
 "nbformat_minor": 4
}
