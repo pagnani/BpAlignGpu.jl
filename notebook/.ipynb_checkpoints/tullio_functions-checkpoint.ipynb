{
 "cells": [
  {
   "cell_type": "code",
   "execution_count": 55,
   "metadata": {},
   "outputs": [
    {
     "name": "stderr",
     "output_type": "stream",
     "text": [
      "\u001b[32m\u001b[1m  Activating\u001b[22m\u001b[39m project at `~/MSA/BpAlignGpu.jl`\n"
     ]
    }
   ],
   "source": [
    "using Revise, Pkg\n",
    "Pkg.activate(\"/home/louise/MSA/BpAlignGpu.jl\")\n",
    "using BpAlignGpu"
   ]
  },
  {
   "cell_type": "code",
   "execution_count": 56,
   "metadata": {},
   "outputs": [
    {
     "data": {
      "text/plain": [
       "(3, 5, 4)"
      ]
     },
     "execution_count": 56,
     "metadata": {},
     "output_type": "execute_result"
    }
   ],
   "source": [
    "(q, N, L) = (3, 5, 4)"
   ]
  },
  {
   "cell_type": "code",
   "execution_count": 57,
   "metadata": {},
   "outputs": [
    {
     "data": {
      "text/plain": [
       "14"
      ]
     },
     "execution_count": 57,
     "metadata": {},
     "output_type": "execute_result"
    }
   ],
   "source": [
    "Q = 2N+4"
   ]
  },
  {
   "cell_type": "code",
   "execution_count": 58,
   "metadata": {},
   "outputs": [
    {
     "data": {
      "text/plain": [
       "Float32"
      ]
     },
     "execution_count": 58,
     "metadata": {},
     "output_type": "execute_result"
    }
   ],
   "source": [
    "T = Float32"
   ]
  },
  {
   "cell_type": "code",
   "execution_count": 59,
   "metadata": {},
   "outputs": [],
   "source": [
    "    f = zeros(T, 2N+4, L) ## should start at 2 but want to avoid OffsetArrays\n",
    "    g = zeros(T, 2N+4, 2N+4, L-1)\n",
    "    # initialize empty arrays for the updates of external fields f, g and the long-range term of the free energy\n",
    "    JP = zeros(T, 2N+4, 2N+4) #for f and g\n",
    "    tmpJP = zeros(T, 2N+4, 2N+4) #for f and g\n",
    "    tmpf = zeros(T, 2N+4) #for f\n",
    "    incf = zeros(T, 2N+4) #for f\n",
    "    tmpg = zeros(T, 2N+4, 2N+4) #for g\n",
    "    incg = zeros(T, 2N+4, 2N+4) #for g\n",
    "    tmpdiagJP = zeros(T, 2N+4) #for lr free en\n",
    "    diagJP = zeros(T, 2N+4); #for lr free en\n"
   ]
  },
  {
   "cell_type": "code",
   "execution_count": 60,
   "metadata": {},
   "outputs": [],
   "source": [
    "cond, J = BpAlignGpu.crea_instance_J_cond(Q, L);"
   ]
  },
  {
   "cell_type": "code",
   "execution_count": 62,
   "metadata": {},
   "outputs": [],
   "source": [
    "conditional = zeros(T, Q, Q, L, L);\n",
    "elts_Jseq = zeros(T, Q, Q, L, L);\n",
    "conditional .= cond\n",
    "elts_Jseq .= J;"
   ]
  },
  {
   "cell_type": "code",
   "execution_count": 61,
   "metadata": {},
   "outputs": [
    {
     "data": {
      "text/plain": [
       "14×4 CUDA.CuArray{Float32, 2, CUDA.Mem.DeviceBuffer}:\n",
       " 0.0  -42.4435  -52.7057  0.0\n",
       " 0.0  -48.2226  -44.6649  0.0\n",
       " 0.0  -48.5292  -38.4248  0.0\n",
       " 0.0  -38.5212  -43.2605  0.0\n",
       " 0.0  -64.1654  -42.0292  0.0\n",
       " 0.0  -40.1847  -47.2641  0.0\n",
       " 0.0  -48.212   -57.3448  0.0\n",
       " 0.0  -46.9163  -46.2899  0.0\n",
       " 0.0  -45.7607  -47.3764  0.0\n",
       " 0.0  -52.9647  -32.5386  0.0\n",
       " 0.0  -47.9687  -51.7946  0.0\n",
       " 0.0  -51.9468  -35.7491  0.0\n",
       " 0.0  -43.0335  -53.8409  0.0\n",
       " 0.0  -33.5251  -48.3934  0.0"
      ]
     },
     "execution_count": 61,
     "metadata": {},
     "output_type": "execute_result"
    }
   ],
   "source": [
    "f2 = BpAlignGpu.test_update_f(cond, J)"
   ]
  },
  {
   "cell_type": "code",
   "execution_count": 69,
   "metadata": {},
   "outputs": [
    {
     "data": {
      "text/plain": [
       "14×4 Matrix{Float32}:\n",
       " 0.0  -42.4435  -52.7057  0.0\n",
       " 0.0  -48.2226  -44.6649  0.0\n",
       " 0.0  -48.5292  -38.4248  0.0\n",
       " 0.0  -38.5212  -43.2605  0.0\n",
       " 0.0  -64.1654  -42.0292  0.0\n",
       " 0.0  -40.1847  -47.264   0.0\n",
       " 0.0  -48.212   -57.3448  0.0\n",
       " 0.0  -46.9163  -46.2899  0.0\n",
       " 0.0  -45.7607  -47.3765  0.0\n",
       " 0.0  -52.9647  -32.5386  0.0\n",
       " 0.0  -47.9687  -51.7946  0.0\n",
       " 0.0  -51.9468  -35.7491  0.0\n",
       " 0.0  -43.0335  -53.8409  0.0\n",
       " 0.0  -33.5251  -48.3934  0.0"
      ]
     },
     "execution_count": 69,
     "metadata": {},
     "output_type": "execute_result"
    }
   ],
   "source": [
    "BpAlignGpu.update_f!(f, JP, tmpJP, tmpf, incf, conditional, elts_Jseq)\n",
    "f"
   ]
  },
  {
   "cell_type": "code",
   "execution_count": null,
   "metadata": {},
   "outputs": [],
   "source": []
  },
  {
   "cell_type": "code",
   "execution_count": 65,
   "metadata": {},
   "outputs": [],
   "source": [
    "BpAlignGpu.update_g!(g, conditional, JP, tmpJP, tmpg, incg, elts_Jseq)"
   ]
  },
  {
   "cell_type": "code",
   "execution_count": 71,
   "metadata": {},
   "outputs": [],
   "source": [
    "g2 = BpAlignGpu.test_update_g(cond, J);"
   ]
  },
  {
   "cell_type": "code",
   "execution_count": 87,
   "metadata": {},
   "outputs": [
    {
     "data": {
      "text/plain": [
       "4"
      ]
     },
     "execution_count": 87,
     "metadata": {},
     "output_type": "execute_result"
    }
   ],
   "source": [
    "L"
   ]
  },
  {
   "cell_type": "code",
   "execution_count": 88,
   "metadata": {
    "scrolled": true
   },
   "outputs": [
    {
     "data": {
      "text/plain": [
       "3"
      ]
     },
     "execution_count": 88,
     "metadata": {},
     "output_type": "execute_result"
    }
   ],
   "source": [
    "l = 3"
   ]
  },
  {
   "cell_type": "code",
   "execution_count": 89,
   "metadata": {},
   "outputs": [
    {
     "data": {
      "text/plain": [
       "14×14 Matrix{Float32}:\n",
       " 45.9787  45.4659  57.4798  44.011   …  57.1175  46.2773  40.2346  44.7324\n",
       " 43.5688  43.104   53.0628  42.0828     54.2037  44.1149  37.4504  42.7296\n",
       " 38.1912  37.3945  46.9607  37.7783     45.6084  38.0135  33.5112  37.342\n",
       " 45.1255  44.8089  56.1124  43.8347     55.7057  45.5376  39.023   45.0852\n",
       " 44.1081  42.2979  54.0039  42.6087     54.8016  45.4842  39.1115  42.8067\n",
       " 47.0456  45.7808  57.8923  44.0378  …  57.0401  47.1424  41.0554  44.7669\n",
       " 44.8288  43.9758  54.9009  43.2782     54.9104  45.8551  39.4111  43.6447\n",
       " 45.8682  46.2324  57.3536  45.5605     56.8995  47.1384  40.4963  46.2852\n",
       " 48.8707  48.3167  60.3248  46.2014     59.4278  49.0023  41.9349  47.3412\n",
       " 40.4485  39.7966  48.6518  38.8513     49.9565  41.0338  35.6009  39.8338\n",
       " 44.0654  44.2777  55.3657  41.742   …  54.9791  45.5373  38.6542  43.4707\n",
       " 38.1329  38.0202  48.3497  36.5261     47.0944  38.7532  33.537   37.2433\n",
       " 51.3118  50.7654  64.2647  48.8491     64.0934  52.8317  45.0278  50.21\n",
       " 41.4603  41.2806  50.9522  39.5207     51.0379  42.2036  36.5485  40.379"
      ]
     },
     "execution_count": 89,
     "metadata": {},
     "output_type": "execute_result"
    }
   ],
   "source": [
    "g[:,:,l]"
   ]
  },
  {
   "cell_type": "code",
   "execution_count": 90,
   "metadata": {},
   "outputs": [
    {
     "data": {
      "text/plain": [
       "14×14 CUDA.CuArray{Float32, 2, CUDA.Mem.DeviceBuffer}:\n",
       " 45.9787  45.4659  57.4798  44.011   …  57.1176  46.2773  40.2346  44.7324\n",
       " 43.5688  43.1041  53.0628  42.0828     54.2037  44.1149  37.4504  42.7296\n",
       " 38.1912  37.3946  46.9607  37.7783     45.6084  38.0135  33.5113  37.342\n",
       " 45.1255  44.8089  56.1124  43.8347     55.7057  45.5376  39.023   45.0852\n",
       " 44.1081  42.2979  54.0039  42.6087     54.8016  45.4842  39.1115  42.8066\n",
       " 47.0456  45.7808  57.8923  44.0378  …  57.0401  47.1424  41.0554  44.7669\n",
       " 44.8289  43.9758  54.9009  43.2782     54.9104  45.8551  39.4111  43.6447\n",
       " 45.8682  46.2324  57.3535  45.5605     56.8996  47.1384  40.4963  46.2852\n",
       " 48.8707  48.3167  60.3248  46.2014     59.4278  49.0023  41.9349  47.3412\n",
       " 40.4485  39.7966  48.6518  38.8513     49.9565  41.0338  35.6009  39.8338\n",
       " 44.0654  44.2777  55.3657  41.742   …  54.979   45.5372  38.6542  43.4707\n",
       " 38.1329  38.0202  48.3497  36.5261     47.0944  38.7531  33.537   37.2433\n",
       " 51.3118  50.7654  64.2647  48.849      64.0934  52.8317  45.0279  50.21\n",
       " 41.4603  41.2806  50.9522  39.5207     51.0379  42.2036  36.5485  40.3791"
      ]
     },
     "execution_count": 90,
     "metadata": {},
     "output_type": "execute_result"
    }
   ],
   "source": [
    "g2[:,:,l]"
   ]
  },
  {
   "cell_type": "code",
   "execution_count": 94,
   "metadata": {},
   "outputs": [
    {
     "data": {
      "text/plain": [
       "(58.536484f0, 58.53648f0)"
      ]
     },
     "execution_count": 94,
     "metadata": {},
     "output_type": "execute_result"
    }
   ],
   "source": [
    "g[1,3,2], g2[1,3,2]"
   ]
  },
  {
   "cell_type": "code",
   "execution_count": null,
   "metadata": {},
   "outputs": [],
   "source": []
  }
 ],
 "metadata": {
  "kernelspec": {
   "display_name": "Julia 1.7.1",
   "language": "julia",
   "name": "julia-1.7"
  },
  "language_info": {
   "file_extension": ".jl",
   "mimetype": "application/julia",
   "name": "julia",
   "version": "1.7.1"
  }
 },
 "nbformat": 4,
 "nbformat_minor": 4
}
