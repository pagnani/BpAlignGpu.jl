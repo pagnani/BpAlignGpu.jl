{
 "cells": [
  {
   "cell_type": "code",
   "execution_count": 17,
   "metadata": {},
   "outputs": [
    {
     "name": "stderr",
     "output_type": "stream",
     "text": [
      "\u001b[32m\u001b[1m  Activating\u001b[22m\u001b[39m project at `~/MSA/BpAlignGpu.jl`\n"
     ]
    }
   ],
   "source": [
    "using Revise, Pkg\n",
    "Pkg.activate(\"/home/louise/MSA/BpAlignGpu.jl\")\n",
    "using BpAlignGpu"
   ]
  },
  {
   "cell_type": "code",
   "execution_count": 29,
   "metadata": {},
   "outputs": [
    {
     "name": "stderr",
     "output_type": "stream",
     "text": [
      "┌ Info: Assuming J i j a b and h i a format\n",
      "└ @ BpAlignGpu /home/louise/MSA/BpAlignGpu.jl/src/utils.jl:37\n",
      "┌ Info: Output tersors: J[a b i j] and h[a i]\n",
      "└ @ BpAlignGpu /home/louise/MSA/BpAlignGpu.jl/src/utils.jl:39\n",
      "┌ Info: Gap in input file 0 now in 21\n",
      "└ @ BpAlignGpu /home/louise/MSA/BpAlignGpu.jl/src/utils.jl:40\n"
     ]
    }
   ],
   "source": [
    "#open(\"/home/louise/MSA/Data/test/PF00684/\")\n",
    "open(\"/home/louise/MSA/Data/test/PF00397/\")\n",
    "q = 21; L = 31; \n",
    "ctype=Symbol(\"amino\")\n",
    "typel=Symbol(\"bm\")\n",
    "\n",
    "#J, H = BpAlignGpu.read_parameters(\"/home/louise/MSA/Data/test/PF00684/Parameters_bm_PF00684seed_potts.dat\", q, L, gap=0, typel=typel);\n",
    "J, H = BpAlignGpu.read_parameters(\"/home/louise/MSA/Data/test/PF00397/Parameters_plm_PF00397.dat\", q, L, gap=0, typel=typel);"
   ]
  },
  {
   "cell_type": "code",
   "execution_count": 30,
   "metadata": {},
   "outputs": [
    {
     "name": "stdout",
     "output_type": "stream",
     "text": [
      "Consider this sequence: \n",
      "A0A401GBT9_9APHY/8-47\n",
      "Full length: \n",
      "MAPPPLPLGWTEHMSPTGQPYYFNTQTQESTYVRPLPPFP\n",
      "Aligned by HMMer (without and with insertions): \n",
      "LPLGWTEHMSPT-GQPYYFNTQTQESTYVRP\n",
      "LPLGWTEHMSPT-GQPYYFNTQTQESTYVRP\n"
     ]
    }
   ],
   "source": [
    "delta = 5;\n",
    "#al = BpAlignGpu.enveloptoalign( \"/home/louise/MSA/Data/test/PF00684/Test_PF00684.full\", \"/home/louise/MSA/Data/test/PF00684/Test_PF00684.fasta\", \"/home/louise/MSA/Data/test/PF00684/Test_PF00684.ins\", delta = delta, ctype = ctype);\n",
    "al = BpAlignGpu.enveloptoalign( \"/home/louise/MSA/Data/test/PF00397/PF00397_full_length_sequences.fasta\", \"/home/louise/MSA/Data/test/PF00397/PF00397_full.fasta\", \"/home/louise/MSA/Data/test/PF00397/PF00397_full.inse\", delta = delta, ctype = ctype);\n",
    "M = length(al)\n",
    "\n",
    "println(\"Consider this sequence: \")\n",
    "# consider one random sequence as an example\n",
    "idx0 = 20# rand(1:M) \n",
    "(aux,garb) = split(al[idx0][1], \"/\")\n",
    "seqsol = al[idx0][3];\n",
    "seqins = al[idx0][4];\n",
    "seq = BpAlignGpu.Seq(seqsol, al[idx0][2], ctype)\n",
    "N = length(al[idx0][2])\n",
    "println(al[idx0][1])\n",
    "println(\"Full length: \")\n",
    "println(al[idx0][2])\n",
    "println(\"Aligned by HMMer (without and with insertions): \")\n",
    "println(seqsol)\n",
    "println(seqins)\n",
    "\n"
   ]
  },
  {
   "cell_type": "code",
   "execution_count": 31,
   "metadata": {},
   "outputs": [],
   "source": [
    "using DelimitedFiles\n"
   ]
  },
  {
   "cell_type": "code",
   "execution_count": 32,
   "metadata": {},
   "outputs": [],
   "source": [
    "#Lambda_all = readdlm(\"/home/louise/MSA/Data/test/PF00684/Lambda_PF00684.dat\")\n",
    "Lambda_all = readdlm(\"/home/louise/MSA/Data/test/PF00397/Lambda_PF00397.dat\")\n",
    "lambda_o = Lambda_all[1,:];\n",
    "lambda_e = Lambda_all[2,:];\n",
    "\n",
    "\n",
    "muext = 0.00;\n",
    "muint = 2.50;"
   ]
  },
  {
   "cell_type": "code",
   "execution_count": 33,
   "metadata": {},
   "outputs": [
    {
     "data": {
      "text/plain": [
       "(21, 40, 31)"
      ]
     },
     "execution_count": 33,
     "metadata": {},
     "output_type": "execute_result"
    }
   ],
   "source": [
    "q, N, L"
   ]
  },
  {
   "cell_type": "code",
   "execution_count": 24,
   "metadata": {},
   "outputs": [
    {
     "data": {
      "text/plain": [
       "ParamModel{Float32}[L=31 N=40 q=21]\n"
      ]
     },
     "execution_count": 24,
     "metadata": {},
     "output_type": "execute_result"
    }
   ],
   "source": [
    "pm = ParamModel{T}(N, L, q, muint, muext, lambda_o, lambda_e, H, J)"
   ]
  },
  {
   "cell_type": "code",
   "execution_count": 40,
   "metadata": {},
   "outputs": [
    {
     "data": {
      "text/plain": []
     },
     "execution_count": 40,
     "metadata": {},
     "output_type": "execute_result"
    },
    {
     "name": "stdout",
     "output_type": "stream",
     "text": [
      "ParamAlgo{Float32}\n",
      "-------------\n",
      "damp=0.5\n",
      "tol=1.0e-5\n",
      "tolnorm=1.0e-5\n",
      "tmax=10\n",
      "upscheme=sequential\n",
      "lr=sce\n",
      "beta=1.0\n",
      "verbose=true\n",
      "-------------\n"
     ]
    }
   ],
   "source": [
    "T = Float32\n",
    "damp=T(0.9)\n",
    "tol=T(1e-5)\n",
    "tolnorm=T(1e-5)\n",
    "tmax=10\n",
    "upscheme=:sequential # :random or :sequential\n",
    "lr=:sce  # :sce or :mf \n",
    "beta=T(1.0)\n",
    "verbose=true\n",
    "pa = ParamAlgo(damp, tol, tolnorm, tmax, upscheme, lr, beta, verbose)"
   ]
  },
  {
   "cell_type": "code",
   "execution_count": 41,
   "metadata": {},
   "outputs": [
    {
     "data": {
      "text/plain": [
       "AllFields{Float32}[L=31 N=40 ongpu=true]"
      ]
     },
     "execution_count": 41,
     "metadata": {},
     "output_type": "execute_result"
    }
   ],
   "source": [
    "bpm = BPMessages(seq, pm)\n",
    "bpb = BPBeliefs(N, L)\n",
    "lrf = LongRangeFields(N, L)\n",
    "af = AllFields(bpm, bpb, lrf)"
   ]
  },
  {
   "cell_type": "code",
   "execution_count": 42,
   "metadata": {},
   "outputs": [
    {
     "name": "stdout",
     "output_type": "stream",
     "text": [
      "t=1\t err=0.1933682\n",
      "t=2\t err=0.09643912\n",
      "t=3\t err=0.07743171\n",
      "t=4\t err=0.1474407\n",
      "t=5\t err=0.30764884\n",
      "t=6\t err=0.49118\n",
      "t=7\t err=0.65787137\n",
      "t=8\t err=0.29366127\n",
      "t=9\t err=0.8004911\n",
      "t=10\t err=0.5637891\n",
      "t=11\t err=0.98966247\n",
      "t=12\t err=0.971893\n",
      "t=13\t err=0.9711291\n",
      "t=14\t err=0.99631554\n",
      "t=15\t err=0.99471134\n",
      "t=16\t err=0.9988578\n",
      "t=17\t err=0.9977758\n",
      "t=18\t err=0.9958003\n",
      "t=19\t err=0.99967724\n",
      "t=20\t err=0.93487024\n",
      "t=21\t err=0.99737793\n",
      "t=22\t err=0.99998975\n",
      "t=23\t err=0.9932452\n",
      "t=24\t err=0.9993703\n",
      "t=25\t err=0.92597365\n",
      "t=26\t err=0.9941309\n",
      "t=27\t err=0.9891093\n",
      "t=28\t err=0.9969307\n",
      "t=29\t err=0.99227196\n",
      "t=30\t err=0.95787185\n",
      "t=31\t err=0.85076183\n",
      "t=32\t err=0.99596196\n",
      "t=33\t err=0.98063016\n",
      "t=34\t err=0.98978794\n",
      "t=35\t err=0.98584473\n",
      "t=36\t err=0.9931481\n",
      "t=37\t err=0.99943566\n",
      "t=38\t err=0.99050987\n",
      "t=39\t err=0.96334344\n",
      "t=40\t err=0.9994655\n",
      "t=41\t err=0.99982476\n",
      "t=42\t err=0.9961649\n",
      "t=43\t err=0.99915004\n",
      "t=44\t err=0.98378867\n",
      "t=45\t err=0.99971944\n",
      "t=46\t err=0.99435997\n",
      "t=47\t err=0.9930885\n",
      "t=48\t err=0.996494\n",
      "t=49\t err=0.9852096\n",
      "t=50\t err=0.99474615\n",
      "t=51\t err=0.99158376\n",
      "t=52\t err=0.9933946\n",
      "t=53\t err=0.92392886\n",
      "t=54\t err=0.99943227\n",
      "t=55\t err=0.9877621\n",
      "t=56\t err=0.99812335\n",
      "t=57\t err=0.9842461\n",
      "t=58\t err=0.99948585\n",
      "t=59\t err=0.9978994\n",
      "t=60\t err=0.9589294\n",
      "t=61\t err=0.9713219\n",
      "t=62\t err=0.9856155\n",
      "t=63\t err=0.95489013\n",
      "t=64\t err=0.99995315\n",
      "t=65\t err=0.9989616\n",
      "t=66\t err=0.99895704\n",
      "t=67\t err=0.99579316\n",
      "t=68\t err=0.9822879\n",
      "t=69\t err=0.97960484\n",
      "t=70\t err=0.979963\n",
      "t=71\t err=0.9962761\n",
      "t=72\t err=0.98662174\n",
      "t=73\t err=0.9991508\n",
      "t=74\t err=0.99907947\n",
      "t=75\t err=0.96167344\n",
      "t=76\t err=0.9815781\n",
      "t=77\t err=0.9914256\n",
      "t=78\t err=0.9998317\n",
      "t=79\t err=0.99341285\n",
      "t=80\t err=0.99899876\n",
      "t=81\t err=0.9869768\n",
      "t=82\t err=0.99799174\n",
      "t=83\t err=0.999004\n",
      "t=84\t err=0.96082926\n",
      "t=85\t err=0.9629882\n",
      "t=86\t err=0.9774171\n",
      "t=87\t err=0.9991039\n",
      "t=88\t err=0.9905492\n",
      "t=89\t err=0.9800109\n",
      "t=90\t err=0.99353504\n",
      "t=91\t err=0.9995071\n",
      "t=92\t err=0.9982442\n",
      "t=93\t err=0.9978652\n",
      "t=94\t err=0.9918834\n",
      "t=95\t err=0.9849308\n",
      "t=96\t err=0.96664923\n",
      "t=97\t err=0.99780273\n",
      "t=98\t err=0.9971243\n",
      "t=99\t err=0.9932131\n",
      "t=100\t err=0.8933789\n",
      " 24.439966 seconds (4.97 M allocations: 256.493 MiB, 1.24% gc time)\n"
     ]
    }
   ],
   "source": [
    "@time BpAlignGpu.test_sweep!(100,af,pm,pa)"
   ]
  },
  {
   "cell_type": "code",
   "execution_count": 28,
   "metadata": {},
   "outputs": [
    {
     "name": "stdout",
     "output_type": "stream",
     "text": [
      " 50.795538 seconds (53.30 M allocations: 2.800 GiB, 4.10% gc time, 45.80% compilation time)\n",
      "  4.821192 seconds (7.21 M allocations: 387.863 MiB, 4.73% gc time, 72.82% compilation time)\n",
      "  3.584583 seconds (5.66 M allocations: 300.081 MiB, 2.74% gc time, 90.79% compilation time)\n",
      "  6.315426 seconds (8.93 M allocations: 473.634 MiB, 3.59% gc time, 87.70% compilation time)\n",
      "  2.867913 seconds (3.30 M allocations: 174.182 MiB, 3.94% gc time, 78.67% compilation time)\n",
      "  9.890619 seconds (15.34 M allocations: 789.909 MiB, 4.89% gc time, 87.90% compilation time)\n",
      "  4.653230 seconds (6.71 M allocations: 352.905 MiB, 2.93% gc time, 84.00% compilation time)\n",
      "  5.328446 seconds (4.84 M allocations: 255.029 MiB, 3.40% gc time, 73.79% compilation time)\n",
      "  5.551399 seconds (7.43 M allocations: 388.852 MiB, 3.18% gc time, 91.32% compilation time)\n",
      "  4.739333 seconds (5.99 M allocations: 314.775 MiB, 2.47% gc time, 84.85% compilation time)\n"
     ]
    }
   ],
   "source": [
    "@time BpAlignGpu.update_F!(af, pm, pa)\n",
    "@time BpAlignGpu.update_hF!(af, pm, pa)\n",
    "@time BpAlignGpu.update_B!(af, pm, pa)\n",
    "@time BpAlignGpu.update_hB!(af, pm, pa)\n",
    "@time BpAlignGpu.update_beliefs!(af, pm)\n",
    "@time BpAlignGpu.update_jointchain!(af, pm)\n",
    "@time BpAlignGpu.update_conditional_chain!(af, pa)\n",
    "@time BpAlignGpu.update_conditional_all!(af, pm)\n",
    "@time BpAlignGpu.update_f!(af)\n",
    "@time BpAlignGpu.update_g!(af)"
   ]
  },
  {
   "cell_type": "code",
   "execution_count": 29,
   "metadata": {},
   "outputs": [
    {
     "name": "stdout",
     "output_type": "stream",
     "text": [
      "  0.004419 seconds (948 CPU allocations: 57.591 KiB) (2 GPU allocations: 400 bytes, 3.54% memmgmt time)\n",
      "  0.000592 seconds (366 CPU allocations: 20.516 KiB) (2 GPU allocations: 400 bytes, 12.90% memmgmt time)\n",
      "  0.000354 seconds (348 CPU allocations: 19.531 KiB) (2 GPU allocations: 400 bytes, 10.53% memmgmt time)\n",
      "  0.000395 seconds (412 CPU allocations: 23.578 KiB) (2 GPU allocations: 400 bytes, 8.44% memmgmt time)\n",
      "  0.000175 seconds (176 CPU allocations: 10.422 KiB) (1 GPU allocation: 200 bytes, 9.56% memmgmt time)\n",
      "  0.000406 seconds (250 CPU allocations: 16.703 KiB) (2 GPU allocations: 600 bytes, 13.66% memmgmt time)\n",
      "  0.000390 seconds (347 CPU allocations: 19.812 KiB) (2 GPU allocations: 51.562 KiB, 8.31% memmgmt time)\n",
      "  0.135465 seconds (105.84 k CPU allocations: 5.850 MiB) (2.35 k GPU allocations: 156.331 MiB, 42.14% memmgmt time)\n",
      "  1.252659 seconds (302 CPU allocations: 14.922 KiB) (1 GPU allocation: 166.168 MiB, 0.04% memmgmt time)\n",
      "  1.089136 seconds (326 CPU allocations: 16.922 KiB) (1 GPU allocation: 166.168 MiB, 0.08% memmgmt time)\n",
      "t=1\t err=-Inf\n"
     ]
    }
   ],
   "source": [
    "BpAlignGpu.test_sweep!(1,af,pm,pa)"
   ]
  },
  {
   "cell_type": "code",
   "execution_count": null,
   "metadata": {},
   "outputs": [],
   "source": []
  }
 ],
 "metadata": {
  "kernelspec": {
   "display_name": "Julia 1.7.1",
   "language": "julia",
   "name": "julia-1.7"
  },
  "language_info": {
   "file_extension": ".jl",
   "mimetype": "application/julia",
   "name": "julia",
   "version": "1.7.1"
  }
 },
 "nbformat": 4,
 "nbformat_minor": 4
}
