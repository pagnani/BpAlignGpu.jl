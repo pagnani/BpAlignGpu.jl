{
 "cells": [
  {
   "cell_type": "code",
   "execution_count": 1,
   "metadata": {},
   "outputs": [
    {
     "name": "stderr",
     "output_type": "stream",
     "text": [
      "\u001b[32m\u001b[1m  Activating\u001b[22m\u001b[39m project at `~/MSA/BpAlignGpu.jl`\n"
     ]
    }
   ],
   "source": [
    "using Revise, Pkg\n",
    "Pkg.activate(\"/home/louise/MSA/BpAlignGpu.jl\")\n",
    "using BpAlignGpu"
   ]
  },
  {
   "cell_type": "code",
   "execution_count": 2,
   "metadata": {},
   "outputs": [
    {
     "name": "stderr",
     "output_type": "stream",
     "text": [
      "┌ Info: Assuming J i j a b and h i a format\n",
      "└ @ BpAlignGpu /home/louise/MSA/BpAlignGpu.jl/src/utils.jl:37\n",
      "┌ Info: Output tersors: J[a b i j] and h[a i]\n",
      "└ @ BpAlignGpu /home/louise/MSA/BpAlignGpu.jl/src/utils.jl:39\n",
      "┌ Info: Gap in input file 0 now in 21\n",
      "└ @ BpAlignGpu /home/louise/MSA/BpAlignGpu.jl/src/utils.jl:40\n"
     ]
    }
   ],
   "source": [
    "## PF00684 data ##\n",
    "open(\"/home/louise/MSA/Data/test/PF00684/\")\n",
    "q = 21; L = 67; \n",
    "ctype=Symbol(\"amino\")\n",
    "typel=Symbol(\"bm\")\n",
    "\n",
    "J, H = BpAlignGpu.read_parameters(\"/home/louise/MSA/Data/test/PF00684/Parameters_bm_PF00684seed_potts.dat\", q, L, gap=0, typel=typel);"
   ]
  },
  {
   "cell_type": "code",
   "execution_count": 3,
   "metadata": {},
   "outputs": [
    {
     "data": {
      "text/plain": [
       "100"
      ]
     },
     "execution_count": 3,
     "metadata": {},
     "output_type": "execute_result"
    }
   ],
   "source": [
    "## PF00684 sequences ##\n",
    "\n",
    "delta = 50;\n",
    "al = BpAlignGpu.enveloptoalign( \"/home/louise/MSA/Data/test/PF00684/Test_PF00684.full\", \"/home/louise/MSA/Data/test/PF00684/Test_PF00684.fasta\", \"/home/louise/MSA/Data/test/PF00684/Test_PF00684.ins\", delta = delta, ctype = ctype);\n",
    "M = length(al)\n"
   ]
  },
  {
   "cell_type": "code",
   "execution_count": 4,
   "metadata": {},
   "outputs": [
    {
     "name": "stdout",
     "output_type": "stream",
     "text": [
      "Consider this sequence: \n",
      "A0A1B4V8L3_9GAMM/98-258\n",
      "Full length: \n",
      "FGDVFGDIFGQGRRAHQAYRGADTRYSLDLSLEDAVRGTEVKIRVPTLVRCDTCDGSGARAGTSPTACRTCAGHGQVRMQQGFFSIQQTCPSCRGAGRIIADPCPACRGEGRVQQQKTLSVRVPAGVDDGDLIRLTGEGEPGENGGPAGDLFVQVRLKPHP\n",
      "Aligned by HMMer (without and with insertions): \n",
      "CDTCDGSGARAGTPTACRTCAGHGQVRMQQ---GFF--SIQQTCPSCRGAGRII--ADPCPACRGEG\n",
      "CDTCDGSGARAGTsPTACRTCAGHGQVRMQQ---GFF--SIQQTCPSCRGAGRII--ADPCPACRGEG\n"
     ]
    }
   ],
   "source": [
    "\n",
    "println(\"Consider this sequence: \")\n",
    "# consider one random sequence as an example\n",
    "idx0 = rand(1:M) \n",
    "(aux,garb) = split(al[idx0][1], \"/\")\n",
    "seqsol = al[idx0][3];\n",
    "seqins = al[idx0][4];\n",
    "seq = BpAlignGpu.Seq(seqsol, al[idx0][2], ctype)\n",
    "N = length(al[idx0][2])\n",
    "println(al[idx0][1])\n",
    "println(\"Full length: \")\n",
    "println(al[idx0][2])\n",
    "println(\"Aligned by HMMer (without and with insertions): \")\n",
    "println(seqsol)\n",
    "println(seqins)\n",
    "\n"
   ]
  },
  {
   "cell_type": "code",
   "execution_count": 5,
   "metadata": {},
   "outputs": [],
   "source": [
    "using DelimitedFiles"
   ]
  },
  {
   "cell_type": "code",
   "execution_count": 6,
   "metadata": {},
   "outputs": [],
   "source": [
    "## PF00684 ##\n",
    "Lambda_all = readdlm(\"/home/louise/MSA/Data/test/PF00684/Lambda_PF00684.dat\")\n",
    "lambda_o = Lambda_all[:,1];\n",
    "lambda_e = Lambda_all[:,2];\n",
    "\n",
    "\n",
    "muext = 0.00;\n",
    "muint = 2.50;"
   ]
  },
  {
   "cell_type": "code",
   "execution_count": 7,
   "metadata": {},
   "outputs": [
    {
     "data": {
      "text/plain": [
       "(21, 161, 67)"
      ]
     },
     "execution_count": 7,
     "metadata": {},
     "output_type": "execute_result"
    }
   ],
   "source": [
    "q, N, L"
   ]
  },
  {
   "cell_type": "code",
   "execution_count": 8,
   "metadata": {},
   "outputs": [
    {
     "data": {
      "text/plain": [
       "ParamModel{Float32}[L=67 N=161 q=21]\n"
      ]
     },
     "execution_count": 8,
     "metadata": {},
     "output_type": "execute_result"
    }
   ],
   "source": [
    "T = Float32\n",
    "pm = ParamModel{T}(N, L, q, muint, muext, lambda_o, lambda_e, H, J)"
   ]
  },
  {
   "cell_type": "code",
   "execution_count": 9,
   "metadata": {},
   "outputs": [
    {
     "data": {
      "text/plain": []
     },
     "execution_count": 9,
     "metadata": {},
     "output_type": "execute_result"
    },
    {
     "name": "stdout",
     "output_type": "stream",
     "text": [
      "ParamAlgo{Float32}\n",
      "-------------\n",
      "damp=0.0\n",
      "tol=1.0e-5\n",
      "tolnorm=1.0e-5\n",
      "tmax=10\n",
      "upscheme=sequential\n",
      "lr=sce\n",
      "beta=1.0\n",
      "verbose=true\n",
      "-------------\n"
     ]
    }
   ],
   "source": [
    "damp=T(0.0)\n",
    "tol=T(1e-5)\n",
    "tolnorm=T(1e-5)\n",
    "tmax=10\n",
    "upscheme=:sequential # :random or :sequential\n",
    "lr=:sce  # :sce or :mf \n",
    "beta=T(1.0)\n",
    "verbose=true\n",
    "pa = ParamAlgo(damp, tol, tolnorm, tmax, upscheme, lr, beta, verbose)"
   ]
  },
  {
   "cell_type": "code",
   "execution_count": 10,
   "metadata": {},
   "outputs": [
    {
     "name": "stderr",
     "output_type": "stream",
     "text": [
      "┌ Warning: The NVIDIA driver on this system only supports up to CUDA 11.0.0.\n",
      "│ For performance reasons, it is recommended to upgrade to a driver that supports CUDA 11.2 or higher.\n",
      "└ @ CUDA /home/louise/.julia/packages/CUDA/bki2w/src/initialization.jl:70\n"
     ]
    },
    {
     "data": {
      "text/plain": [
       "AllFields{Float32}[L=67 N=161 ongpu=true]"
      ]
     },
     "execution_count": 10,
     "metadata": {},
     "output_type": "execute_result"
    }
   ],
   "source": [
    "bpm = BPMessages(seq, pm)\n",
    "bpb = BPBeliefs(N, L)\n",
    "lrf = LongRangeFields(N, L)\n",
    "af = AllFields(bpm, bpb, lrf)"
   ]
  },
  {
   "cell_type": "code",
   "execution_count": 11,
   "metadata": {},
   "outputs": [
    {
     "data": {
      "text/plain": [
       "AllFields{Float32}[L=5 N=5 ongpu=true]"
      ]
     },
     "execution_count": 11,
     "metadata": {},
     "output_type": "execute_result"
    }
   ],
   "source": [
    "#compile on a small example\n",
    "(N_s, L_s) = (5, 5) \n",
    "using Random\n",
    "header_s = \"myseq\"\n",
    "myseq_s = randstring('A':'Z', N_s)\n",
    "seq_s = Seq(header_s, myseq_s, ctype)\n",
    "lambda_o_s = ones(L_s)\n",
    "lambda_e_s = ones(L_s)\n",
    "H_s = rand(q,L_s)\n",
    "J_s = rand(q,q,L_s,L_s)\n",
    "J_s = J_s .+ permutedims(J_s, (2,1,4,3));\n",
    "pm_s = ParamModel{T}(N_s, L_s, q, muint, muext, lambda_o_s, lambda_e_s, H_s, J_s)\n",
    "bpm_s = BPMessages(seq_s, pm_s)\n",
    "bpb_s = BPBeliefs(N_s, L_s)\n",
    "lrf_s = LongRangeFields(N_s, L_s)\n",
    "af_s = AllFields(bpm_s, bpb_s, lrf_s)\n",
    "@time BpAlignGpu.update_F!(af_s, pm_s, pa)\n",
    "@time BpAlignGpu.update_hF!(af_s, pm_s, pa)\n",
    "@time BpAlignGpu.update_B!(af_s, pm_s, pa)\n",
    "@time BpAlignGpu.update_hB!(af_s, pm_s, pa)\n",
    "@time BpAlignGpu.update_beliefs!(af_s, pm_s)\n",
    "@time BpAlignGpu.update_jointchain!(af_s, pm_s)\n",
    "@time BpAlignGpu.update_conditional_chain!(af_s, pa)\n",
    "@time BpAlignGpu.update_conditional_all!(af_s, pm_s)\n",
    "@time BpAlignGpu.update_f!(af_s)\n",
    "@time BpAlignGpu.update_g!(af_s)\n",
    "@time BpAlignGpu.one_bp_sweep!(af_s, pm_s, pa)\n",
    "@time BpAlignGpu.test_sweep!(3,af_s,pm_s,pa)"
   ]
  },
  {
   "cell_type": "code",
   "execution_count": 16,
   "metadata": {},
   "outputs": [
    {
     "name": "stdout",
     "output_type": "stream",
     "text": [
      "  0.000588 seconds (348 allocations: 19.422 KiB)\n",
      "  0.000583 seconds (373 allocations: 20.625 KiB)\n",
      "  0.000509 seconds (348 allocations: 19.531 KiB)\n",
      "  0.000485 seconds (419 allocations: 23.688 KiB)\n",
      "  0.000304 seconds (176 allocations: 10.422 KiB)\n",
      "  0.000410 seconds (251 allocations: 16.672 KiB)\n",
      "  0.000400 seconds (346 allocations: 19.750 KiB)\n",
      "  0.907342 seconds (231.83 k allocations: 12.540 MiB, 4.72% gc time, 4.90% compilation time)\n",
      "  0.000211 seconds (143 allocations: 6.328 KiB)\n",
      "  0.000209 seconds (164 allocations: 8.125 KiB)\n"
     ]
    }
   ],
   "source": [
    "@time BpAlignGpu.update_F!(af, pm, pa)\n",
    "@time BpAlignGpu.update_hF!(af, pm, pa)\n",
    "@time BpAlignGpu.update_B!(af, pm, pa)\n",
    "@time BpAlignGpu.update_hB!(af, pm, pa)\n",
    "@time BpAlignGpu.update_beliefs!(af, pm)\n",
    "@time BpAlignGpu.update_jointchain!(af, pm)\n",
    "@time BpAlignGpu.update_conditional_chain!(af, pa)\n",
    "@time BpAlignGpu.update_conditional_all!(af, pm)\n",
    "@time BpAlignGpu.update_f!(af)\n",
    "@time BpAlignGpu.update_g!(af)"
   ]
  },
  {
   "cell_type": "code",
   "execution_count": null,
   "metadata": {},
   "outputs": [],
   "source": []
  },
  {
   "cell_type": "code",
   "execution_count": 17,
   "metadata": {},
   "outputs": [
    {
     "ename": "LoadError",
     "evalue": "InterruptException:",
     "output_type": "error",
     "traceback": [
      "InterruptException:",
      "",
      "Stacktrace:",
      "  [1] poptask(W::Base.InvasiveLinkedListSynchronized{Task})",
      "    @ Base ./task.jl:827",
      "  [2] wait()",
      "    @ Base ./task.jl:836",
      "  [3] wait(c::Base.GenericCondition{ReentrantLock})",
      "    @ Base ./condition.jl:123",
      "  [4] wait(e::Base.Event)",
      "    @ Base ./lock.jl:366",
      "  [5] nonblocking_synchronize",
      "    @ ~/.julia/packages/CUDA/bki2w/lib/cudadrv/stream.jl:162 [inlined]",
      "  [6] nonblocking_synchronize",
      "    @ ~/.julia/packages/CUDA/bki2w/lib/cudadrv/context.jl:323 [inlined]",
      "  [7] device_synchronize()",
      "    @ CUDA ~/.julia/packages/CUDA/bki2w/lib/cudadrv/context.jl:317",
      "  [8] CUDA.CuModule(data::Vector{UInt8}, options::Dict{CUDA.CUjit_option_enum, Any})",
      "    @ CUDA ~/.julia/packages/CUDA/bki2w/lib/cudadrv/module.jl:41",
      "  [9] CuModule",
      "    @ ~/.julia/packages/CUDA/bki2w/lib/cudadrv/module.jl:23 [inlined]",
      " [10] cufunction_link(job::GPUCompiler.CompilerJob, compiled::NamedTuple{(:image, :entry, :external_gvars), Tuple{Vector{UInt8}, String, Vector{String}}})",
      "    @ CUDA ~/.julia/packages/CUDA/bki2w/src/compiler/execution.jl:451",
      " [11] cached_compilation(cache::Dict{UInt64, Any}, job::GPUCompiler.CompilerJob, compiler::typeof(CUDA.cufunction_compile), linker::typeof(CUDA.cufunction_link))",
      "    @ GPUCompiler ~/.julia/packages/GPUCompiler/1Ajz2/src/cache.jl:95",
      " [12] cufunction(f::GPUArrays.var\"#broadcast_kernel#17\", tt::Type{Tuple{CUDA.CuKernelContext, CUDA.CuDeviceArray{Float32, 3, 1}, Base.Broadcast.Broadcasted{Nothing, Tuple{Base.OneTo{Int64}, Base.OneTo{Int64}, Base.OneTo{Int64}}, typeof(abs), Tuple{Base.Broadcast.Broadcasted{CUDA.CuArrayStyle{3}, Nothing, typeof(-), Tuple{Base.Broadcast.Extruded{CUDA.CuDeviceArray{Float32, 3, 1}, Tuple{Bool, Bool, Bool}, Tuple{Int64, Int64, Int64}}, Base.Broadcast.Extruded{CUDA.CuDeviceArray{Float32, 3, 1}, Tuple{Bool, Bool, Bool}, Tuple{Int64, Int64, Int64}}}}}}, Int64}}; name::Nothing, kwargs::Base.Pairs{Symbol, Union{}, Tuple{}, NamedTuple{(), Tuple{}}})",
      "    @ CUDA ~/.julia/packages/CUDA/bki2w/src/compiler/execution.jl:297",
      " [13] cufunction",
      "    @ ~/.julia/packages/CUDA/bki2w/src/compiler/execution.jl:291 [inlined]",
      " [14] macro expansion",
      "    @ ~/.julia/packages/CUDA/bki2w/src/compiler/execution.jl:102 [inlined]",
      " [15] #launch_heuristic#270",
      "    @ ~/.julia/packages/CUDA/bki2w/src/gpuarrays.jl:17 [inlined]",
      " [16] copyto!",
      "    @ ~/.julia/packages/GPUArrays/umZob/src/host/broadcast.jl:65 [inlined]",
      " [17] copyto!",
      "    @ ./broadcast.jl:913 [inlined]",
      " [18] copy",
      "    @ ~/.julia/packages/GPUArrays/umZob/src/host/broadcast.jl:47 [inlined]",
      " [19] materialize",
      "    @ ./broadcast.jl:860 [inlined]",
      " [20] test_sweep!(n::Int64, af::AllFields{BPMessages{CUDA.CuArray{Float32, 1, CUDA.Mem.DeviceBuffer}, CUDA.CuArray{Float32, 3, CUDA.Mem.DeviceBuffer}, CUDA.CuArray{Float32, 6, CUDA.Mem.DeviceBuffer}}, BPBeliefs{CUDA.CuArray{Float32, 3, CUDA.Mem.DeviceBuffer}, CUDA.CuArray{Float32, 5, CUDA.Mem.DeviceBuffer}, CUDA.CuArray{Float32, 6, CUDA.Mem.DeviceBuffer}}, LongRangeFields{CUDA.CuArray{Float32, 3, CUDA.Mem.DeviceBuffer}, CUDA.CuArray{Float32, 5, CUDA.Mem.DeviceBuffer}}}, pm::ParamModel{Float32}, pa::ParamAlgo{Float32})",
      "    @ BpAlignGpu ~/MSA/BpAlignGpu.jl/src/bpupdate.jl:155",
      " [21] top-level scope",
      "    @ In[17]:1",
      " [22] eval",
      "    @ ./boot.jl:373 [inlined]",
      " [23] include_string(mapexpr::typeof(REPL.softscope), mod::Module, code::String, filename::String)",
      "    @ Base ./loading.jl:1196"
     ]
    }
   ],
   "source": [
    "BpAlignGpu.test_sweep!(3,af,pm,pa)"
   ]
  },
  {
   "cell_type": "code",
   "execution_count": null,
   "metadata": {},
   "outputs": [],
   "source": []
  }
 ],
 "metadata": {
  "kernelspec": {
   "display_name": "Julia 1.7.1",
   "language": "julia",
   "name": "julia-1.7"
  },
  "language_info": {
   "file_extension": ".jl",
   "mimetype": "application/julia",
   "name": "julia",
   "version": "1.7.1"
  }
 },
 "nbformat": 4,
 "nbformat_minor": 4
}
