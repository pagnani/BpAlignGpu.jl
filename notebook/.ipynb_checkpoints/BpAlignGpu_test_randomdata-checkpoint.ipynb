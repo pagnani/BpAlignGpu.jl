{
 "cells": [
  {
   "cell_type": "code",
   "execution_count": 67,
   "metadata": {},
   "outputs": [
    {
     "name": "stderr",
     "output_type": "stream",
     "text": [
      "\u001b[32m\u001b[1m  Activating\u001b[22m\u001b[39m project at `~/MSA/BpAlignGpu.jl`\n"
     ]
    }
   ],
   "source": [
    "using Revise, Pkg\n",
    "Pkg.activate(\"/home/louise/MSA/BpAlignGpu.jl\")\n",
    "using BpAlignGpu"
   ]
  },
  {
   "cell_type": "code",
   "execution_count": 68,
   "metadata": {},
   "outputs": [
    {
     "data": {
      "text/plain": [
       "CuDevice(1): TITAN RTX"
      ]
     },
     "execution_count": 68,
     "metadata": {},
     "output_type": "execute_result"
    }
   ],
   "source": [
    "using CUDA\n",
    "CUDA.device!(1)"
   ]
  },
  {
   "cell_type": "code",
   "execution_count": 69,
   "metadata": {},
   "outputs": [],
   "source": [
    "q=21\n",
    "ctype=Symbol(\"amino\")\n",
    "typel=Symbol(\"bm\")\n",
    "T = Float32\n",
    "muext = 0.50;\n",
    "muint = 2.50;"
   ]
  },
  {
   "cell_type": "code",
   "execution_count": 70,
   "metadata": {},
   "outputs": [
    {
     "data": {
      "text/plain": []
     },
     "execution_count": 70,
     "metadata": {},
     "output_type": "execute_result"
    },
    {
     "name": "stdout",
     "output_type": "stream",
     "text": [
      "ParamAlgo{Float32}\n",
      "-------------\n",
      "damp=0.0\n",
      "tol=1.0e-5\n",
      "tolnorm=1.0e-5\n",
      "tmax=10\n",
      "upscheme=sequential\n",
      "lr=sce\n",
      "beta=1.0\n",
      "verbose=true\n",
      "-------------"
     ]
    }
   ],
   "source": [
    "damp=T(0.0)\n",
    "tol=T(1e-5)\n",
    "tolnorm=T(1e-5)\n",
    "tmax=10\n",
    "upscheme=:sequential # :random or :sequential\n",
    "lr=:sce  # :sce or :mf \n",
    "beta=T(1.0)\n",
    "verbose=true\n",
    "pa = ParamAlgo(damp, tol, tolnorm, tmax, upscheme, lr, beta, verbose)"
   ]
  },
  {
   "cell_type": "code",
   "execution_count": 71,
   "metadata": {},
   "outputs": [],
   "source": [
    "(N, L) = (6, 5) \n",
    "#(N, L) = (161, 67)\n",
    "\n",
    "using Random\n",
    "header = \"myseq\"\n",
    "myseq = randstring('A':'Z', N)\n",
    "seq = Seq(header, myseq, ctype)\n",
    "\n",
    "lambda_o = ones(L)\n",
    "lambda_e = ones(L)\n",
    "H = rand(q,L)\n",
    "J = rand(q,q,L,L)\n",
    "J = J .+ permutedims(J, (2,1,4,3));"
   ]
  },
  {
   "cell_type": "code",
   "execution_count": 72,
   "metadata": {},
   "outputs": [
    {
     "data": {
      "text/plain": [
       "ParamModel{Float32}[L=5 N=6 q=21 size=43.547 KiB]"
      ]
     },
     "execution_count": 72,
     "metadata": {},
     "output_type": "execute_result"
    }
   ],
   "source": [
    "pm = ParamModel{T}(N, L, q, muint, muext, lambda_o, lambda_e, H, J)"
   ]
  },
  {
   "cell_type": "code",
   "execution_count": 73,
   "metadata": {},
   "outputs": [
    {
     "data": {
      "text/plain": [
       "BPMessages{Float32}[L=5 N=6 ongpu=true size=26.914 KiB]"
      ]
     },
     "execution_count": 73,
     "metadata": {},
     "output_type": "execute_result"
    }
   ],
   "source": [
    "bpm = BPMessages(seq, pm)"
   ]
  },
  {
   "cell_type": "code",
   "execution_count": 74,
   "metadata": {},
   "outputs": [
    {
     "data": {
      "text/plain": [
       "BPBeliefs{Float32}[L=5 N=6 ongpu=true size=30.625 KiB]"
      ]
     },
     "execution_count": 74,
     "metadata": {},
     "output_type": "execute_result"
    }
   ],
   "source": [
    "bpb = BPBeliefs(N, L)"
   ]
  },
  {
   "cell_type": "code",
   "execution_count": 75,
   "metadata": {},
   "outputs": [
    {
     "data": {
      "text/plain": [
       "LongRangeFields{Float32}[L=5 N=6 ongpu=true size=5.312 KiB]"
      ]
     },
     "execution_count": 75,
     "metadata": {},
     "output_type": "execute_result"
    }
   ],
   "source": [
    "lrf = LongRangeFields(N, L)"
   ]
  },
  {
   "cell_type": "code",
   "execution_count": 76,
   "metadata": {},
   "outputs": [
    {
     "data": {
      "text/plain": [
       "AllFields{Float32}[L=5 N=6 ongpu=true size=62.852 KiB]"
      ]
     },
     "execution_count": 76,
     "metadata": {},
     "output_type": "execute_result"
    }
   ],
   "source": [
    "af = AllFields(bpm, bpb, lrf)"
   ]
  },
  {
   "cell_type": "code",
   "execution_count": null,
   "metadata": {},
   "outputs": [],
   "source": []
  },
  {
   "cell_type": "code",
   "execution_count": 77,
   "metadata": {},
   "outputs": [
    {
     "name": "stdout",
     "output_type": "stream",
     "text": [
      "  0.001281 seconds (752 allocations: 47.906 KiB)\n",
      "  0.000916 seconds (777 allocations: 49.203 KiB)\n",
      "  0.000791 seconds (752 allocations: 48.062 KiB)\n",
      "  0.001097 seconds (824 allocations: 52.562 KiB)\n",
      "  0.000523 seconds (378 allocations: 24.812 KiB)\n",
      "  0.000795 seconds (417 allocations: 30.656 KiB)\n",
      "  0.000452 seconds (372 allocations: 22.000 KiB)\n",
      "  0.000708 seconds (528 allocations: 30.375 KiB)\n"
     ]
    }
   ],
   "source": [
    "@time BpAlignGpu.update_F!(af, pm, pa)\n",
    "@time BpAlignGpu.update_hF!(af, pm, pa)\n",
    "@time BpAlignGpu.update_B!(af, pm, pa)\n",
    "@time BpAlignGpu.update_hB!(af, pm, pa)\n",
    "@time BpAlignGpu.update_beliefs!(af, pm, pa)\n",
    "@time BpAlignGpu.update_jointchain!(af, pm, pa)\n",
    "@time BpAlignGpu.update_conditional_chain!(af, pa)\n",
    "@time BpAlignGpu.update_conditional_all!(af, pm)\n"
   ]
  },
  {
   "cell_type": "code",
   "execution_count": null,
   "metadata": {},
   "outputs": [],
   "source": []
  },
  {
   "cell_type": "code",
   "execution_count": 78,
   "metadata": {},
   "outputs": [
    {
     "name": "stdout",
     "output_type": "stream",
     "text": [
      "  0.001281 seconds (932 allocations: 48.281 KiB)\n"
     ]
    }
   ],
   "source": [
    "@time resg = BpAlignGpu.update_g_lowmem!(af);"
   ]
  },
  {
   "cell_type": "code",
   "execution_count": 79,
   "metadata": {},
   "outputs": [
    {
     "name": "stdout",
     "output_type": "stream",
     "text": [
      "  0.001232 seconds (849 allocations: 44.562 KiB)\n"
     ]
    }
   ],
   "source": [
    "@time BpAlignGpu.update_g!(af)"
   ]
  },
  {
   "cell_type": "code",
   "execution_count": 80,
   "metadata": {},
   "outputs": [
    {
     "data": {
      "text/plain": [
       "5.38826f-5"
      ]
     },
     "execution_count": 80,
     "metadata": {},
     "output_type": "execute_result"
    }
   ],
   "source": [
    "sum(abs.(af.lrf.g - resg))"
   ]
  },
  {
   "cell_type": "code",
   "execution_count": null,
   "metadata": {},
   "outputs": [],
   "source": []
  },
  {
   "cell_type": "code",
   "execution_count": 184,
   "metadata": {},
   "outputs": [
    {
     "name": "stdout",
     "output_type": "stream",
     "text": [
      "  2.314681 seconds (2.85 M allocations: 148.348 MiB, 3.40% gc time, 85.67% compilation time)\n"
     ]
    }
   ],
   "source": [
    "@time m1 = BpAlignGpu.update_f!(af);"
   ]
  },
  {
   "cell_type": "code",
   "execution_count": 185,
   "metadata": {},
   "outputs": [
    {
     "name": "stdout",
     "output_type": "stream",
     "text": [
      "  0.000642 seconds (405 allocations: 21.766 KiB)\n"
     ]
    }
   ],
   "source": [
    "@time resf = BpAlignGpu.update_f_lowmem!(af);"
   ]
  },
  {
   "cell_type": "code",
   "execution_count": 186,
   "metadata": {},
   "outputs": [
    {
     "data": {
      "text/plain": [
       "false"
      ]
     },
     "execution_count": 186,
     "metadata": {},
     "output_type": "execute_result"
    }
   ],
   "source": [
    "sum(abs.(resf - m1))"
   ]
  },
  {
   "cell_type": "code",
   "execution_count": null,
   "metadata": {},
   "outputs": [],
   "source": []
  },
  {
   "cell_type": "code",
   "execution_count": 124,
   "metadata": {
    "scrolled": true
   },
   "outputs": [
    {
     "data": {
      "text/plain": [
       "119.821396f0"
      ]
     },
     "execution_count": 124,
     "metadata": {},
     "output_type": "execute_result"
    }
   ],
   "source": [
    "sum(abs.(af.lrf.f - resf))"
   ]
  },
  {
   "cell_type": "code",
   "execution_count": 113,
   "metadata": {},
   "outputs": [],
   "source": [
    "np1 = size(af.bpb.conditional, 1)\n",
    "cond = reshape(permutedims(af.bpb.conditional, (1, 2, 5, 3, 4, 6)), L * 2 * np1, L * 2 * np1);"
   ]
  },
  {
   "cell_type": "code",
   "execution_count": 114,
   "metadata": {},
   "outputs": [
    {
     "data": {
      "text/plain": [
       "73:80"
      ]
     },
     "execution_count": 114,
     "metadata": {},
     "output_type": "execute_result"
    }
   ],
   "source": [
    "i=2\n",
    "xi=1\n",
    "ri = (1+(xi-1)np1+(i-1)*2*np1):(np1+(xi-1)np1+(i-1)*2*np1)\n",
    "j=5\n",
    "xj=2\n",
    "rj = (1+(xj-1)np1+(j-1)*2*np1):(np1+(xj-1)np1+(j-1)*2*np1)"
   ]
  },
  {
   "cell_type": "code",
   "execution_count": 115,
   "metadata": {},
   "outputs": [
    {
     "data": {
      "text/plain": [
       "8×8 CuArray{Float32, 2, CUDA.Mem.DeviceBuffer}:\n",
       " 0.0  1.0  0.998874    0.967665     0.899388    0.857904    0.562443     0.0\n",
       " 0.0  0.0  3.27287f-5  0.00092012   0.00278995  0.00304471  0.00240695   0.0\n",
       " 0.0  0.0  0.0         0.000341878  0.00191536  0.00461174  0.00644836   0.0\n",
       " 0.0  0.0  0.0         0.0          3.64467f-5  0.00039279  0.00357562   0.0\n",
       " 0.0  0.0  0.0         0.0          0.0         4.3499f-6   0.000248098  0.0\n",
       " 0.0  0.0  0.0         0.0          0.0         0.0         8.52414f-5   0.0\n",
       " 0.0  0.0  0.0         0.0          0.0         0.0         0.0          0.0\n",
       " 0.0  0.0  0.0         0.0          0.0         0.0         0.0          0.0"
      ]
     },
     "execution_count": 115,
     "metadata": {},
     "output_type": "execute_result"
    }
   ],
   "source": [
    "cond[ri, rj]"
   ]
  },
  {
   "cell_type": "code",
   "execution_count": 116,
   "metadata": {},
   "outputs": [
    {
     "data": {
      "text/plain": [
       "8×8 CuArray{Float32, 2, CUDA.Mem.DeviceBuffer}:\n",
       " 0.0  1.0  0.998874    0.967665     0.899388    0.857904    0.562443     0.0\n",
       " 0.0  0.0  3.27287f-5  0.00092012   0.00278995  0.00304471  0.00240695   0.0\n",
       " 0.0  0.0  0.0         0.000341878  0.00191536  0.00461174  0.00644836   0.0\n",
       " 0.0  0.0  0.0         0.0          3.64467f-5  0.00039279  0.00357562   0.0\n",
       " 0.0  0.0  0.0         0.0          0.0         4.3499f-6   0.000248098  0.0\n",
       " 0.0  0.0  0.0         0.0          0.0         0.0         8.52414f-5   0.0\n",
       " 0.0  0.0  0.0         0.0          0.0         0.0         0.0          0.0\n",
       " 0.0  0.0  0.0         0.0          0.0         0.0         0.0          0.0"
      ]
     },
     "execution_count": 116,
     "metadata": {},
     "output_type": "execute_result"
    }
   ],
   "source": [
    "af.bpb.conditional[:, xi, :, xj, i, j]"
   ]
  },
  {
   "cell_type": "code",
   "execution_count": 117,
   "metadata": {},
   "outputs": [],
   "source": [
    "C = cond';"
   ]
  },
  {
   "cell_type": "code",
   "execution_count": 118,
   "metadata": {},
   "outputs": [
    {
     "data": {
      "text/plain": [
       "8×8 CuArray{Float32, 2, CUDA.Mem.DeviceBuffer}:\n",
       " 0.0  1.0  0.998874    0.967665     0.899388    0.857904    0.562443     0.0\n",
       " 0.0  0.0  3.27287f-5  0.00092012   0.00278995  0.00304471  0.00240695   0.0\n",
       " 0.0  0.0  0.0         0.000341878  0.00191536  0.00461174  0.00644836   0.0\n",
       " 0.0  0.0  0.0         0.0          3.64467f-5  0.00039279  0.00357562   0.0\n",
       " 0.0  0.0  0.0         0.0          0.0         4.3499f-6   0.000248098  0.0\n",
       " 0.0  0.0  0.0         0.0          0.0         0.0         8.52414f-5   0.0\n",
       " 0.0  0.0  0.0         0.0          0.0         0.0         0.0          0.0\n",
       " 0.0  0.0  0.0         0.0          0.0         0.0         0.0          0.0"
      ]
     },
     "execution_count": 118,
     "metadata": {},
     "output_type": "execute_result"
    }
   ],
   "source": [
    "cond[ri, rj]"
   ]
  },
  {
   "cell_type": "code",
   "execution_count": 119,
   "metadata": {},
   "outputs": [
    {
     "data": {
      "text/plain": [
       "8×8 CuArray{Float32, 2, CUDA.Mem.DeviceBuffer}:\n",
       " 0.0  0.00021023  0.00569974   0.0418579    …  0.161311     0.144922   0.0\n",
       " 0.0  0.0         0.000876587  0.0147588       0.226081     0.155462   0.0\n",
       " 0.0  0.0         0.0          0.000810509     0.233398     0.212234   0.0\n",
       " 0.0  0.0         0.0          0.0             0.024813     0.214387   0.0\n",
       " 0.0  0.0         0.0          0.0             0.000289854  0.060285   0.0\n",
       " 0.0  0.0         0.0          0.0          …  0.0          0.0164453  0.0\n",
       " 0.0  0.0         0.0          0.0             0.0          0.0        0.0\n",
       " 0.0  0.0         0.0          0.0             0.0          0.0        0.0"
      ]
     },
     "execution_count": 119,
     "metadata": {},
     "output_type": "execute_result"
    }
   ],
   "source": [
    "C[ri, rj]"
   ]
  },
  {
   "cell_type": "code",
   "execution_count": 120,
   "metadata": {},
   "outputs": [
    {
     "data": {
      "text/plain": [
       "8×8 adjoint(::CuArray{Float32, 2, CUDA.Mem.DeviceBuffer}) with eltype Float32:\n",
       " 0.0  0.00021023  0.00569974   0.0418579    …  0.161311     0.144922   0.0\n",
       " 0.0  0.0         0.000876587  0.0147588       0.226081     0.155462   0.0\n",
       " 0.0  0.0         0.0          0.000810509     0.233398     0.212234   0.0\n",
       " 0.0  0.0         0.0          0.0             0.024813     0.214387   0.0\n",
       " 0.0  0.0         0.0          0.0             0.000289854  0.060285   0.0\n",
       " 0.0  0.0         0.0          0.0          …  0.0          0.0164453  0.0\n",
       " 0.0  0.0         0.0          0.0             0.0          0.0        0.0\n",
       " 0.0  0.0         0.0          0.0             0.0          0.0        0.0"
      ]
     },
     "execution_count": 120,
     "metadata": {},
     "output_type": "execute_result"
    }
   ],
   "source": [
    "(af.bpb.conditional[:, xj, :, xi, j, i])'"
   ]
  },
  {
   "cell_type": "code",
   "execution_count": null,
   "metadata": {},
   "outputs": [],
   "source": []
  },
  {
   "cell_type": "code",
   "execution_count": null,
   "metadata": {},
   "outputs": [],
   "source": []
  },
  {
   "cell_type": "code",
   "execution_count": 109,
   "metadata": {},
   "outputs": [
    {
     "data": {
      "text/plain": [
       "2×8 adjoint(::CuArray{Float32, 2, CUDA.Mem.DeviceBuffer}) with eltype Float32:\n",
       " -3.99467  -3.77999  -4.20178  -3.81247  …  -3.87028  -2.08638  -4.11205\n",
       "  0.0      -3.84679  -3.91734  -4.20628     -3.89669  -3.64134   0.0"
      ]
     },
     "execution_count": 109,
     "metadata": {},
     "output_type": "execute_result"
    }
   ],
   "source": [
    "i=3\n",
    "af.lrf.f[:,:,i]"
   ]
  },
  {
   "cell_type": "code",
   "execution_count": 66,
   "metadata": {},
   "outputs": [
    {
     "data": {
      "text/plain": [
       "8×2 CuArray{Float32, 2, CUDA.Mem.DeviceBuffer}:\n",
       " -4.40205  -0.0\n",
       " -2.64382  -2.65172\n",
       " -2.85175  -2.71133\n",
       " -2.93834  -2.94286\n",
       " -1.60939  -1.61924\n",
       " -2.31549  -2.43716\n",
       " -1.93683  -3.13591\n",
       " -1.13989  -0.0"
      ]
     },
     "execution_count": 66,
     "metadata": {},
     "output_type": "execute_result"
    }
   ],
   "source": [
    "resf[:,:,i]"
   ]
  },
  {
   "cell_type": "code",
   "execution_count": null,
   "metadata": {},
   "outputs": [],
   "source": []
  },
  {
   "cell_type": "code",
   "execution_count": 34,
   "metadata": {},
   "outputs": [],
   "source": [
    "#resfm = BpAlignGpu.update_f_memory!(af);"
   ]
  },
  {
   "cell_type": "code",
   "execution_count": 35,
   "metadata": {},
   "outputs": [],
   "source": [
    "#resgm = BpAlignGpu.update_g_memory!(af);"
   ]
  },
  {
   "cell_type": "code",
   "execution_count": null,
   "metadata": {},
   "outputs": [],
   "source": []
  },
  {
   "cell_type": "code",
   "execution_count": null,
   "metadata": {},
   "outputs": [],
   "source": []
  },
  {
   "cell_type": "code",
   "execution_count": 17,
   "metadata": {},
   "outputs": [],
   "source": [
    "BpAlignGpu.one_bp_sweep!(af, pm, pa)"
   ]
  },
  {
   "cell_type": "code",
   "execution_count": 18,
   "metadata": {},
   "outputs": [
    {
     "name": "stdout",
     "output_type": "stream",
     "text": [
      "t=1\t err=0.14632031\n",
      "t=2\t err=0.2410874\n",
      "t=3\t err=0.037026465\n",
      "t=4\t err=0.016859531\n",
      "t=5\t err=0.01909548\n",
      "t=6\t err=0.0031093322\n",
      "t=7\t err=0.0040263534\n",
      "t=8\t err=0.0015021563\n",
      "t=9\t err=0.0011902452\n",
      "t=10\t err=0.0009968281\n",
      "t=11\t err=0.00076025724\n",
      "t=12\t err=0.000351429\n",
      "t=13\t err=0.00020188093\n",
      "t=14\t err=0.00010347366\n",
      "t=15\t err=5.26011e-5\n",
      "t=16\t err=2.4735928e-5\n",
      "t=17\t err=1.5556812e-5\n",
      "t=18\t err=1.335144e-5\n",
      "t=19\t err=8.225441e-6\n",
      "converged: err=8.225441e-6, tol=1.0e-5\n"
     ]
    }
   ],
   "source": [
    "BpAlignGpu.test_sweep!(100,af,pm,pa)"
   ]
  },
  {
   "cell_type": "code",
   "execution_count": null,
   "metadata": {},
   "outputs": [],
   "source": []
  },
  {
   "cell_type": "code",
   "execution_count": 19,
   "metadata": {},
   "outputs": [
    {
     "data": {
      "text/plain": [
       "6.364505648612976"
      ]
     },
     "execution_count": 19,
     "metadata": {},
     "output_type": "execute_result"
    }
   ],
   "source": [
    "BpAlignGpu.lr_freeen(af, pm)"
   ]
  },
  {
   "cell_type": "code",
   "execution_count": 20,
   "metadata": {},
   "outputs": [
    {
     "data": {
      "text/plain": [
       "(-21.221033f0, [-0.30802572;;; -6.5986495;;; -7.6639633;;; -6.644477;;; -0.005917739])"
      ]
     },
     "execution_count": 20,
     "metadata": {},
     "output_type": "execute_result"
    }
   ],
   "source": [
    "BpAlignGpu.logZi(af, pm, pa)"
   ]
  },
  {
   "cell_type": "code",
   "execution_count": 21,
   "metadata": {},
   "outputs": [
    {
     "data": {
      "text/plain": [
       "(10.904351f0, [1.9342438;;;;; 3.2062142;;;;; 3.659298;;;;; 2.104595;;;;; 0.0])"
      ]
     },
     "execution_count": 21,
     "metadata": {},
     "output_type": "execute_result"
    }
   ],
   "source": [
    "BpAlignGpu.logZa(af, pm, pa)"
   ]
  },
  {
   "cell_type": "code",
   "execution_count": 22,
   "metadata": {},
   "outputs": [
    {
     "data": {
      "text/plain": [
       "-26.486605f0"
      ]
     },
     "execution_count": 22,
     "metadata": {},
     "output_type": "execute_result"
    }
   ],
   "source": [
    "BpAlignGpu.logZia(af, pm)"
   ]
  },
  {
   "cell_type": "code",
   "execution_count": null,
   "metadata": {},
   "outputs": [],
   "source": []
  }
 ],
 "metadata": {
  "kernelspec": {
   "display_name": "Julia 1.7.1",
   "language": "julia",
   "name": "julia-1.7"
  },
  "language_info": {
   "file_extension": ".jl",
   "mimetype": "application/julia",
   "name": "julia",
   "version": "1.7.1"
  }
 },
 "nbformat": 4,
 "nbformat_minor": 4
}
