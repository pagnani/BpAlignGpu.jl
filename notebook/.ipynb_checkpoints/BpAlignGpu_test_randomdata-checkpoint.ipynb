{
 "cells": [
  {
   "cell_type": "code",
   "execution_count": 1,
   "metadata": {},
   "outputs": [
    {
     "name": "stderr",
     "output_type": "stream",
     "text": [
      "\u001b[32m\u001b[1m  Activating\u001b[22m\u001b[39m project at `~/MSA/BpAlignGpu.jl`\n",
      "┌ Info: Precompiling BpAlignGpu [5a3eb610-29b2-4cbe-8ba2-ea97f65fa95d]\n",
      "└ @ Base loading.jl:1423\n"
     ]
    }
   ],
   "source": [
    "using Revise, Pkg\n",
    "Pkg.activate(\"/home/louise/MSA/BpAlignGpu.jl\")\n",
    "using BpAlignGpu"
   ]
  },
  {
   "cell_type": "code",
   "execution_count": 2,
   "metadata": {},
   "outputs": [
    {
     "name": "stderr",
     "output_type": "stream",
     "text": [
      "┌ Warning: The NVIDIA driver on this system only supports up to CUDA 11.0.0.\n",
      "│ For performance reasons, it is recommended to upgrade to a driver that supports CUDA 11.2 or higher.\n",
      "└ @ CUDA /home/louise/.julia/packages/CUDA/bki2w/src/initialization.jl:70\n"
     ]
    },
    {
     "data": {
      "text/plain": [
       "CuDevice(1): TITAN RTX"
      ]
     },
     "execution_count": 2,
     "metadata": {},
     "output_type": "execute_result"
    }
   ],
   "source": [
    "using CUDA\n",
    "CUDA.device!(1)"
   ]
  },
  {
   "cell_type": "code",
   "execution_count": 3,
   "metadata": {},
   "outputs": [],
   "source": [
    "q=21\n",
    "ctype=Symbol(\"amino\")\n",
    "typel=Symbol(\"bm\")\n",
    "T = Float32\n",
    "muext = 0.50;\n",
    "muint = 2.50;"
   ]
  },
  {
   "cell_type": "code",
   "execution_count": 4,
   "metadata": {},
   "outputs": [
    {
     "data": {
      "text/plain": []
     },
     "execution_count": 4,
     "metadata": {},
     "output_type": "execute_result"
    },
    {
     "name": "stdout",
     "output_type": "stream",
     "text": [
      "ParamAlgo{Float32}\n",
      "-------------\n",
      "damp=0.0\n",
      "tol=1.0e-5\n",
      "tolnorm=1.0e-5\n",
      "tmax=10\n",
      "upscheme=sequential\n",
      "lr=sce\n",
      "beta=1.0\n",
      "verbose=true\n",
      "-------------"
     ]
    }
   ],
   "source": [
    "damp=T(0.0)\n",
    "tol=T(1e-5)\n",
    "tolnorm=T(1e-5)\n",
    "tmax=10\n",
    "upscheme=:sequential # :random or :sequential\n",
    "lr=:sce  # :sce or :mf \n",
    "beta=T(1.0)\n",
    "verbose=true\n",
    "pa = ParamAlgo(damp, tol, tolnorm, tmax, upscheme, lr, beta, verbose)"
   ]
  },
  {
   "cell_type": "code",
   "execution_count": 5,
   "metadata": {},
   "outputs": [],
   "source": [
    "(N, L) = (6, 5) \n",
    "\n",
    "using Random\n",
    "header = \"myseq\"\n",
    "myseq = randstring('A':'Z', N)\n",
    "seq = Seq(header, myseq, ctype)\n",
    "\n",
    "lambda_o = ones(L)\n",
    "lambda_e = ones(L)\n",
    "H = rand(q,L)\n",
    "J = rand(q,q,L,L)\n",
    "J = J .+ permutedims(J, (2,1,4,3));"
   ]
  },
  {
   "cell_type": "code",
   "execution_count": 26,
   "metadata": {},
   "outputs": [
    {
     "data": {
      "text/plain": [
       "ParamModel{Float32}[L=5 N=6 q=21 size=43.547 KiB]"
      ]
     },
     "execution_count": 26,
     "metadata": {},
     "output_type": "execute_result"
    }
   ],
   "source": [
    "pm = ParamModel{T}(N, L, q, muint, muext, lambda_o, lambda_e, H, J)"
   ]
  },
  {
   "cell_type": "code",
   "execution_count": 27,
   "metadata": {},
   "outputs": [
    {
     "data": {
      "text/plain": [
       "BPMessages{Float32}[L=5 N=6 ongpu=true size=26.914 KiB]"
      ]
     },
     "execution_count": 27,
     "metadata": {},
     "output_type": "execute_result"
    }
   ],
   "source": [
    "bpm = BPMessages(seq, pm)"
   ]
  },
  {
   "cell_type": "code",
   "execution_count": 28,
   "metadata": {},
   "outputs": [
    {
     "data": {
      "text/plain": [
       "BPBeliefs{Float32}[L=5 N=6 ongpu=true size=30.625 KiB]"
      ]
     },
     "execution_count": 28,
     "metadata": {},
     "output_type": "execute_result"
    }
   ],
   "source": [
    "bpb = BPBeliefs(N, L)"
   ]
  },
  {
   "cell_type": "code",
   "execution_count": 29,
   "metadata": {},
   "outputs": [
    {
     "data": {
      "text/plain": [
       "LongRangeFields{Float32}[L=5 N=6 ongpu=true size=105.312 KiB]"
      ]
     },
     "execution_count": 29,
     "metadata": {},
     "output_type": "execute_result"
    }
   ],
   "source": [
    "lrf = LongRangeFields(N, L)"
   ]
  },
  {
   "cell_type": "code",
   "execution_count": 30,
   "metadata": {},
   "outputs": [
    {
     "data": {
      "text/plain": [
       "AllFields{Float32}[L=5 N=6 ongpu=true size=162.852 KiB]"
      ]
     },
     "execution_count": 30,
     "metadata": {},
     "output_type": "execute_result"
    }
   ],
   "source": [
    "af = AllFields(bpm, bpb, lrf)"
   ]
  },
  {
   "cell_type": "code",
   "execution_count": null,
   "metadata": {},
   "outputs": [],
   "source": []
  },
  {
   "cell_type": "code",
   "execution_count": 37,
   "metadata": {},
   "outputs": [],
   "source": [
    "BpAlignGpu.update_F!(af, pm, pa)\n",
    "BpAlignGpu.update_hF!(af, pm, pa)\n",
    "BpAlignGpu.update_B!(af, pm, pa)\n",
    "BpAlignGpu.update_hB!(af, pm, pa)\n",
    "BpAlignGpu.update_beliefs!(af, pm, pa)\n",
    "BpAlignGpu.update_jointchain!(af, pm, pa)\n",
    "BpAlignGpu.update_conditional_chain!(af, pa)\n",
    "BpAlignGpu.update_conditional_all!(af, pm)\n"
   ]
  },
  {
   "cell_type": "code",
   "execution_count": 38,
   "metadata": {},
   "outputs": [],
   "source": [
    "BpAlignGpu.update_f!(af)\n",
    "BpAlignGpu.update_g!(af)\n"
   ]
  },
  {
   "cell_type": "code",
   "execution_count": null,
   "metadata": {},
   "outputs": [],
   "source": []
  },
  {
   "cell_type": "code",
   "execution_count": 60,
   "metadata": {},
   "outputs": [
    {
     "name": "stdout",
     "output_type": "stream",
     "text": [
      "log.(mynorm) = [0.04910864;;; -5.5706053;;; -7.871601;;; -6.3959646;;; -0.07398187]\n"
     ]
    },
    {
     "data": {
      "text/plain": [
       "-19.863045f0"
      ]
     },
     "execution_count": 60,
     "metadata": {},
     "output_type": "execute_result"
    }
   ],
   "source": [
    "BpAlignGpu.logZi(af, pm, pa)"
   ]
  },
  {
   "cell_type": "code",
   "execution_count": 61,
   "metadata": {},
   "outputs": [
    {
     "name": "stdout",
     "output_type": "stream",
     "text": [
      "log.(mynorm) = [2.892631;;;;; 4.631313;;;;; 4.6050467;;;;; 2.873632;;;;; 0.0]\n"
     ]
    },
    {
     "data": {
      "text/plain": [
       "15.002623f0"
      ]
     },
     "execution_count": 61,
     "metadata": {},
     "output_type": "execute_result"
    }
   ],
   "source": [
    "BpAlignGpu.logZa(af, pm, pa)"
   ]
  },
  {
   "cell_type": "code",
   "execution_count": 64,
   "metadata": {},
   "outputs": [
    {
     "data": {
      "text/plain": [
       "8×2×5 CuArray{Float32, 3, CUDA.Mem.DeviceBuffer}:\n",
       "[:, :, 1] =\n",
       " 0.0369165  0.0\n",
       " 0.0        0.0197086\n",
       " 0.0        0.00570694\n",
       " 0.0        0.0270411\n",
       " 0.0        0.00305913\n",
       " 0.0        0.0376911\n",
       " 0.0        0.00759492\n",
       " 0.0        0.0\n",
       "\n",
       "[:, :, 2] =\n",
       " 0.00837785   0.0\n",
       " 0.000140438  0.0109674\n",
       " 1.95312f-5   0.0259533\n",
       " 3.4873f-5    0.00245724\n",
       " 1.61398f-5   0.0120775\n",
       " 0.000255303  0.00327033\n",
       " 1.87207f-5   0.00358812\n",
       " 0.00380018   0.0\n",
       "\n",
       "[:, :, 3] =\n",
       " 0.00731808  0.0\n",
       " 5.96033f-5  0.00695567\n",
       " 2.8344f-6   0.128096\n",
       " 3.30907f-6  0.0319202\n",
       " 1.4237f-6   0.00631264\n",
       " 3.95374f-6  0.00115782\n",
       " 6.16038f-6  0.00487044\n",
       " 0.00115968  0.0\n",
       "\n",
       "[:, :, 4] =\n",
       " 0.0055537   0.0\n",
       " 1.27361f-5  0.00473611\n",
       " 6.42956f-6  0.0078943\n",
       " 2.10568f-5  0.0173025\n",
       " 2.37641f-5  0.0194525\n",
       " 1.5129f-5   0.0366133\n",
       " 0.0         0.00500427\n",
       " 0.00581893  0.0\n",
       "\n",
       "[:, :, 5] =\n",
       " 0.0       0.0\n",
       " 0.0       0.0130004\n",
       " 0.0       0.0156337\n",
       " 0.0       0.0285945\n",
       " 0.0       0.0185999\n",
       " 0.0       0.0218501\n",
       " 0.0       0.0144528\n",
       " 0.017657  0.0"
      ]
     },
     "execution_count": 64,
     "metadata": {},
     "output_type": "execute_result"
    }
   ],
   "source": [
    "BpAlignGpu.logZia(af, pm)"
   ]
  },
  {
   "cell_type": "code",
   "execution_count": null,
   "metadata": {},
   "outputs": [],
   "source": []
  },
  {
   "cell_type": "code",
   "execution_count": null,
   "metadata": {},
   "outputs": [],
   "source": []
  },
  {
   "cell_type": "code",
   "execution_count": 28,
   "metadata": {},
   "outputs": [],
   "source": [
    "resfm = BpAlignGpu.update_f_memory!(af);"
   ]
  },
  {
   "cell_type": "code",
   "execution_count": 29,
   "metadata": {
    "scrolled": true
   },
   "outputs": [
    {
     "data": {
      "text/plain": [
       "true"
      ]
     },
     "execution_count": 29,
     "metadata": {},
     "output_type": "execute_result"
    }
   ],
   "source": [
    "af.lrf.f == resfm"
   ]
  },
  {
   "cell_type": "code",
   "execution_count": null,
   "metadata": {},
   "outputs": [],
   "source": []
  },
  {
   "cell_type": "code",
   "execution_count": 35,
   "metadata": {},
   "outputs": [],
   "source": [
    "resgm = BpAlignGpu.update_g_memory!(af);"
   ]
  },
  {
   "cell_type": "code",
   "execution_count": 36,
   "metadata": {},
   "outputs": [
    {
     "data": {
      "text/plain": [
       "true"
      ]
     },
     "execution_count": 36,
     "metadata": {},
     "output_type": "execute_result"
    }
   ],
   "source": [
    "af.lrf.g == resgm"
   ]
  },
  {
   "cell_type": "code",
   "execution_count": null,
   "metadata": {},
   "outputs": [],
   "source": []
  },
  {
   "cell_type": "code",
   "execution_count": 32,
   "metadata": {},
   "outputs": [],
   "source": [
    "BpAlignGpu.one_bp_sweep!(af, pm, pa)"
   ]
  },
  {
   "cell_type": "code",
   "execution_count": 33,
   "metadata": {},
   "outputs": [
    {
     "name": "stdout",
     "output_type": "stream",
     "text": [
      "t=1\t err=0.15652674\n",
      "t=2\t err=0.0623506\n",
      "t=3\t err=0.057484955\n",
      "t=4\t err=0.043771982\n",
      "t=5\t err=0.009761751\n",
      "t=6\t err=0.0060848594\n",
      "t=7\t err=0.0025280416\n",
      "t=8\t err=0.0019238517\n",
      "t=9\t err=0.0010024831\n",
      "t=10\t err=0.00047717988\n",
      "t=11\t err=0.00030894578\n",
      "t=12\t err=0.00018325448\n",
      "t=13\t err=0.000101834536\n",
      "t=14\t err=6.401539e-5\n",
      "t=15\t err=3.7133694e-5\n",
      "t=16\t err=2.2426248e-5\n",
      "t=17\t err=1.3098121e-5\n",
      "t=18\t err=7.3313713e-6\n",
      "converged: err=7.3313713e-6, tol=1.0e-5\n"
     ]
    }
   ],
   "source": [
    "BpAlignGpu.test_sweep!(100,af,pm,pa)"
   ]
  },
  {
   "cell_type": "code",
   "execution_count": null,
   "metadata": {},
   "outputs": [],
   "source": []
  },
  {
   "cell_type": "code",
   "execution_count": null,
   "metadata": {},
   "outputs": [],
   "source": []
  }
 ],
 "metadata": {
  "kernelspec": {
   "display_name": "Julia 1.7.1",
   "language": "julia",
   "name": "julia-1.7"
  },
  "language_info": {
   "file_extension": ".jl",
   "mimetype": "application/julia",
   "name": "julia",
   "version": "1.7.1"
  }
 },
 "nbformat": 4,
 "nbformat_minor": 4
}
