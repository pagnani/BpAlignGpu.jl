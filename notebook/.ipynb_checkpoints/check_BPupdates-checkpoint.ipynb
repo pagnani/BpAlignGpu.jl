{
 "cells": [
  {
   "cell_type": "code",
   "execution_count": 1,
   "metadata": {
    "scrolled": true
   },
   "outputs": [
    {
     "name": "stderr",
     "output_type": "stream",
     "text": [
      "\u001b[32m\u001b[1m  Activating\u001b[22m\u001b[39m project at `~/MSA/BpAlignGpu.jl`\n",
      "┌ Info: Precompiling BpAlignGpu [5a3eb610-29b2-4cbe-8ba2-ea97f65fa95d]\n",
      "└ @ Base loading.jl:1423\n"
     ]
    }
   ],
   "source": [
    "using Revise, Pkg\n",
    "Pkg.activate(\"/home/louise/MSA/BpAlignGpu.jl\")\n",
    "using BpAlignGpu"
   ]
  },
  {
   "cell_type": "code",
   "execution_count": null,
   "metadata": {},
   "outputs": [],
   "source": [
    "using CUDA\n",
    "CUDA.device!(1)"
   ]
  },
  {
   "cell_type": "code",
   "execution_count": 2,
   "metadata": {},
   "outputs": [
    {
     "data": {
      "text/plain": [
       "(21, 5, 5)"
      ]
     },
     "execution_count": 2,
     "metadata": {},
     "output_type": "execute_result"
    }
   ],
   "source": [
    "#(q, N, L) = (21, 161, 67) \n",
    "(q, N, L) = (21, 5, 5) "
   ]
  },
  {
   "cell_type": "code",
   "execution_count": 3,
   "metadata": {},
   "outputs": [
    {
     "data": {
      "text/plain": [
       "convert_T6_xnTOy (generic function with 1 method)"
      ]
     },
     "execution_count": 3,
     "metadata": {},
     "output_type": "execute_result"
    }
   ],
   "source": [
    "function convert_T3_xnTOy(tmp)\n",
    "    SCE_ar = fill(0.0, 2N+4, L)\n",
    "    for i=1:L\n",
    "        for n=1:N+2\n",
    "            SCE_ar[n, i] = tmp[n,1,i]\n",
    "            SCE_ar[N+2+n, i] = tmp[n,2,i]\n",
    "        end\n",
    "    end\n",
    "    return SCE_ar\n",
    "end\n",
    "function convert_T5_xnTOy(tmp)\n",
    "    SCE_ar = fill(0.0, 2N+4, 2N+4, L)\n",
    "    for i=1:L\n",
    "        for n1=1:N+2\n",
    "            for n2=1:N+2\n",
    "                SCE_ar[n1, n2, i] = tmp[n1, 1, n2, 1, i]\n",
    "                SCE_ar[n1, N+2+n2, i] = tmp[n1, 1, n2, 2, i]\n",
    "                SCE_ar[N+2+n1, n2, i] = tmp[n1, 2, n2, 1, i]\n",
    "                SCE_ar[N+2+n1, N+2+n2, i] = tmp[n1, 2, n2, 2, i]\n",
    "            end\n",
    "        end\n",
    "    end\n",
    "    return SCE_ar\n",
    "end\n",
    "function convert_T6_xnTOy(tmp)\n",
    "    SCE_ar = fill(0.0, 2N+4, 2N+4, L, L)\n",
    "    for i=1:L\n",
    "        for j=1:L\n",
    "            for n1=1:N+2\n",
    "                for n2=1:N+2\n",
    "                    SCE_ar[n1, n2, i, j] = tmp[n1, 1, n2, 1, i, j]\n",
    "                    SCE_ar[n1, N+2+n2, i, j] = tmp[n1, 1, n2, 2, i, j]\n",
    "                    SCE_ar[N+2+n1, n2, i, j] = tmp[n1, 2, n2, 1, i, j]\n",
    "                    SCE_ar[N+2+n1, N+2+n2, i, j] = tmp[n1, 2, n2, 2, i, j]\n",
    "                end\n",
    "            end\n",
    "        end\n",
    "    end\n",
    "    return SCE_ar\n",
    "end"
   ]
  },
  {
   "cell_type": "code",
   "execution_count": 4,
   "metadata": {},
   "outputs": [
    {
     "data": {
      "text/plain": [
       "Float32"
      ]
     },
     "execution_count": 4,
     "metadata": {},
     "output_type": "execute_result"
    }
   ],
   "source": [
    "T = Float32"
   ]
  },
  {
   "cell_type": "code",
   "execution_count": 5,
   "metadata": {},
   "outputs": [
    {
     "data": {
      "text/plain": [
       "myseq\n",
       "EMBGC"
      ]
     },
     "execution_count": 5,
     "metadata": {},
     "output_type": "execute_result"
    }
   ],
   "source": [
    "using Random\n",
    "header = \"myseq\"\n",
    "myseq = randstring('A':'Z', N)\n",
    "ctype=Symbol(\"amino\")\n",
    "seq = Seq(header, myseq, ctype)"
   ]
  },
  {
   "cell_type": "code",
   "execution_count": 6,
   "metadata": {},
   "outputs": [],
   "source": [
    "muint = 1.5\n",
    "muext = 1.2\n",
    "lambda_o = ones(L)\n",
    "lambda_e = ones(L)\n",
    "H = rand(q,L)\n",
    "J = rand(q,q,L,L)\n",
    "J = J .+ permutedims(J, (2,1,4,3));"
   ]
  },
  {
   "cell_type": "code",
   "execution_count": 7,
   "metadata": {},
   "outputs": [
    {
     "data": {
      "text/plain": [
       "ParamModel{Float32}[L=5 N=5 q=21 size=43.547 KiB]"
      ]
     },
     "execution_count": 7,
     "metadata": {},
     "output_type": "execute_result"
    }
   ],
   "source": [
    "pm = ParamModel{T}(N, L, q, muint, muext, lambda_o, lambda_e, H, J)"
   ]
  },
  {
   "cell_type": "code",
   "execution_count": 8,
   "metadata": {},
   "outputs": [
    {
     "data": {
      "text/plain": []
     },
     "execution_count": 8,
     "metadata": {},
     "output_type": "execute_result"
    },
    {
     "name": "stdout",
     "output_type": "stream",
     "text": [
      "ParamAlgo{Float32}\n",
      "-------------\n",
      "damp=0.0\n",
      "tol=1.0e-5\n",
      "tolnorm=1.0e-5\n",
      "tmax=10\n",
      "upscheme=sequential\n",
      "lr=sce\n",
      "beta=1.0\n",
      "verbose=true\n",
      "-------------"
     ]
    }
   ],
   "source": [
    "damp=T(0.0)\n",
    "tol=T(1e-5)\n",
    "tolnorm=T(1e-5)\n",
    "tmax=10\n",
    "upscheme=:sequential # :random or :sequential\n",
    "lr=:sce  # :sce or :mf \n",
    "beta=T(1.0)\n",
    "verbose=true\n",
    "pa = ParamAlgo(damp, tol, tolnorm, tmax, upscheme, lr, beta, verbose)"
   ]
  },
  {
   "cell_type": "code",
   "execution_count": 9,
   "metadata": {},
   "outputs": [
    {
     "name": "stderr",
     "output_type": "stream",
     "text": [
      "┌ Warning: The NVIDIA driver on this system only supports up to CUDA 11.0.0.\n",
      "│ For performance reasons, it is recommended to upgrade to a driver that supports CUDA 11.2 or higher.\n",
      "└ @ CUDA /home/louise/.julia/packages/CUDA/bki2w/src/initialization.jl:70\n"
     ]
    },
    {
     "data": {
      "text/plain": [
       "BPMessages{Float32}[L=5 N=5 ongpu=true size=20.820 KiB]"
      ]
     },
     "execution_count": 9,
     "metadata": {},
     "output_type": "execute_result"
    }
   ],
   "source": [
    "bpm = BPMessages(seq, pm)"
   ]
  },
  {
   "cell_type": "code",
   "execution_count": 10,
   "metadata": {},
   "outputs": [
    {
     "data": {
      "text/plain": [
       "BPBeliefs{Float32}[L=5 N=5 ongpu=true size=23.516 KiB]"
      ]
     },
     "execution_count": 10,
     "metadata": {},
     "output_type": "execute_result"
    }
   ],
   "source": [
    "bpb = BPBeliefs(N, L)"
   ]
  },
  {
   "cell_type": "code",
   "execution_count": 11,
   "metadata": {},
   "outputs": [
    {
     "data": {
      "text/plain": [
       "LongRangeFields{Float32}[L=5 N=5 ongpu=true size=80.664 KiB]"
      ]
     },
     "execution_count": 11,
     "metadata": {},
     "output_type": "execute_result"
    }
   ],
   "source": [
    "lrf = LongRangeFields(N, L)"
   ]
  },
  {
   "cell_type": "code",
   "execution_count": 12,
   "metadata": {},
   "outputs": [
    {
     "data": {
      "text/plain": [
       "AllFields{Float32}[L=5 N=5 ongpu=true size=125.000 KiB]"
      ]
     },
     "execution_count": 12,
     "metadata": {},
     "output_type": "execute_result"
    }
   ],
   "source": [
    "af = AllFields(bpm, bpb, lrf)"
   ]
  },
  {
   "cell_type": "code",
   "execution_count": null,
   "metadata": {},
   "outputs": [],
   "source": []
  },
  {
   "cell_type": "markdown",
   "metadata": {},
   "source": [
    "# Checks"
   ]
  },
  {
   "cell_type": "code",
   "execution_count": 15,
   "metadata": {},
   "outputs": [],
   "source": [
    "tmp_Jseq = Array(af.bpm.Jseq)\n",
    "elts_Jseq = convert_T6_xnTOy(tmp_Jseq);"
   ]
  },
  {
   "cell_type": "code",
   "execution_count": 16,
   "metadata": {},
   "outputs": [],
   "source": [
    "tmp_Hseq = Array(af.bpm.Hseq)\n",
    "elts_Hseq = convert_T3_xnTOy(tmp_Hseq);"
   ]
  },
  {
   "cell_type": "code",
   "execution_count": 17,
   "metadata": {},
   "outputs": [
    {
     "data": {
      "text/plain": [
       "SCE_update_g! (generic function with 1 method)"
      ]
     },
     "execution_count": 17,
     "metadata": {},
     "output_type": "execute_result"
    }
   ],
   "source": [
    "include(\"../src/SCE_update_messages.jl\")\n",
    "include(\"../src/SCE_update_shortrange_beliefs.jl\")\n",
    "include(\"../src/SCE_update_longrange.jl\")"
   ]
  },
  {
   "cell_type": "markdown",
   "metadata": {},
   "source": [
    "## check BP updates"
   ]
  },
  {
   "cell_type": "code",
   "execution_count": 18,
   "metadata": {},
   "outputs": [],
   "source": [
    "tmp_F = Array(af.bpm.F)\n",
    "SCE_F = convert_T3_xnTOy(tmp_F);\n",
    "\n",
    "tmp_g = Array(af.lrf.g)\n",
    "SCE_g = convert_T5_xnTOy(tmp_g);\n",
    "\n",
    "SCE_hF = zeros(2*(N+2),L);"
   ]
  },
  {
   "cell_type": "code",
   "execution_count": 19,
   "metadata": {},
   "outputs": [],
   "source": [
    "BpAlignGpu.update_hF!(af, pm, pa)\n",
    "#BpAlignGpu.update_hB!(af, pm, pa)\n",
    "#BpAlignGpu.update_F!(af, pm, pa)\n",
    "#BpAlignGpu.update_B!(af, pm, pa)"
   ]
  },
  {
   "cell_type": "code",
   "execution_count": 20,
   "metadata": {},
   "outputs": [
    {
     "data": {
      "text/plain": [
       "7×2 CUDA.CuArray{Float32, 2, CUDA.Mem.DeviceBuffer}:\n",
       " 0.0266276  0.0\n",
       " 0.0285996  0.0535879\n",
       " 0.0990783  0.0585607\n",
       " 0.0812063  0.136227\n",
       " 0.0198478  0.135813\n",
       " 0.0319143  0.164934\n",
       " 0.163603   0.0"
      ]
     },
     "execution_count": 20,
     "metadata": {},
     "output_type": "execute_result"
    }
   ],
   "source": [
    "i=2\n",
    "af.bpm.hF[:,:,i]"
   ]
  },
  {
   "cell_type": "code",
   "execution_count": 21,
   "metadata": {
    "scrolled": true
   },
   "outputs": [],
   "source": [
    "#SCE_update_F!(SCE_F, i, damp, beta, tolnorm, SCE_hF, SCE_f, muext, muint, N, elts_Hseq)\n",
    "#SCE_update_B!(SCE_B, i, damp, beta, tolnorm, SCE_hB, SCE_f, muext, muint, N, L, elts_Hseq)\n",
    "SCE_update_hF!(SCE_hF, i, SCE_F, damp, beta, tolnorm, SCE_g, pm.lambda_o, pm.lambda_e, N, elts_Jseq)\n",
    "#SCE_update_hB!(SCE_hB, i, damp, beta, tolnorm, SCE_B, SCE_g, pm.lambda_o, pm.lambda_e, N, elts_Jseq)"
   ]
  },
  {
   "cell_type": "code",
   "execution_count": 22,
   "metadata": {},
   "outputs": [
    {
     "data": {
      "text/plain": [
       "14-element Vector{Float64}:\n",
       " 0.02662764186273695\n",
       " 0.028599615907551917\n",
       " 0.09907828252446754\n",
       " 0.08120628048813693\n",
       " 0.019847832622820746\n",
       " 0.031914280843717224\n",
       " 0.16360339391701023\n",
       " 0.0\n",
       " 0.053587940008133\n",
       " 0.05856065715297686\n",
       " 0.13622713510499257\n",
       " 0.13581289919215597\n",
       " 0.16493404037530013\n",
       " 0.0"
      ]
     },
     "execution_count": 22,
     "metadata": {},
     "output_type": "execute_result"
    }
   ],
   "source": [
    "SCE_hF[:,i]"
   ]
  },
  {
   "cell_type": "markdown",
   "metadata": {},
   "source": [
    "## check update beliefs"
   ]
  },
  {
   "cell_type": "code",
   "execution_count": 23,
   "metadata": {},
   "outputs": [],
   "source": [
    "tmp_hF = Array(af.bpm.hF)\n",
    "SCE_hF = convert_T3_xnTOy(tmp_hF);\n",
    "tmp_hB = Array(af.bpm.hB)\n",
    "SCE_hB = convert_T3_xnTOy(tmp_hB);\n",
    "\n",
    "tmp_f = Array(af.lrf.f)\n",
    "SCE_f = convert_T3_xnTOy(tmp_f);\n",
    "\n",
    "SCE_bel = zeros(2*(N+2),L);"
   ]
  },
  {
   "cell_type": "code",
   "execution_count": 24,
   "metadata": {},
   "outputs": [],
   "source": [
    "BpAlignGpu.update_beliefs!(af, pm, pa)"
   ]
  },
  {
   "cell_type": "code",
   "execution_count": 28,
   "metadata": {},
   "outputs": [
    {
     "data": {
      "text/plain": [
       "-0.1491311285436651"
      ]
     },
     "execution_count": 28,
     "metadata": {},
     "output_type": "execute_result"
    }
   ],
   "source": [
    "i=5\n",
    "SCE_update_beliefs!(SCE_bel, i, beta, tolnorm, SCE_hF, SCE_hB, SCE_f, muint, muext, N, L, elts_Hseq)"
   ]
  },
  {
   "cell_type": "code",
   "execution_count": 29,
   "metadata": {},
   "outputs": [
    {
     "data": {
      "text/plain": [
       "7×2 CUDA.CuArray{Float32, 2, CUDA.Mem.DeviceBuffer}:\n",
       " 0.0        0.0\n",
       " 0.0        0.0370461\n",
       " 0.0        0.21977\n",
       " 0.0        0.281647\n",
       " 0.0        0.280348\n",
       " 0.0        0.0820077\n",
       " 0.0991807  0.0"
      ]
     },
     "execution_count": 29,
     "metadata": {},
     "output_type": "execute_result"
    }
   ],
   "source": [
    "af.bpb.beliefs[:,:,i]"
   ]
  },
  {
   "cell_type": "code",
   "execution_count": 30,
   "metadata": {},
   "outputs": [
    {
     "data": {
      "text/plain": [
       "14-element Vector{Float64}:\n",
       " 0.0\n",
       " 0.0\n",
       " 0.0\n",
       " 0.0\n",
       " 0.0\n",
       " 0.0\n",
       " 0.09918070824327868\n",
       " 0.0\n",
       " 0.03704613389394673\n",
       " 0.21976992541922738\n",
       " 0.2816471860575254\n",
       " 0.28034839815405915\n",
       " 0.08200764823196258\n",
       " 0.0"
      ]
     },
     "execution_count": 30,
     "metadata": {},
     "output_type": "execute_result"
    }
   ],
   "source": [
    "SCE_bel[:,i]"
   ]
  },
  {
   "cell_type": "code",
   "execution_count": 31,
   "metadata": {},
   "outputs": [
    {
     "data": {
      "text/plain": [
       "(-9.228255f0, [-0.568089;;; -2.821702;;; -2.412248;;; -3.2770858;;; -0.14913118])"
      ]
     },
     "execution_count": 31,
     "metadata": {},
     "output_type": "execute_result"
    }
   ],
   "source": [
    "logzi, mynorm_Zi = BpAlignGpu.logZi(af, pm, pa)"
   ]
  },
  {
   "cell_type": "code",
   "execution_count": 32,
   "metadata": {},
   "outputs": [
    {
     "name": "stderr",
     "output_type": "stream",
     "text": [
      "┌ Warning: Performing scalar indexing on task Task (runnable) @0x00007f3341391b60.\n",
      "│ Invocation of getindex resulted in scalar indexing of a GPU array.\n",
      "│ This is typically caused by calling an iterating implementation of a method.\n",
      "│ Such implementations *do not* execute on the GPU, but very slowly on the CPU,\n",
      "│ and therefore are only permitted from the REPL for prototyping purposes.\n",
      "│ If you did intend to index this array, annotate the caller with @allowscalar.\n",
      "└ @ GPUArrays /home/louise/.julia/packages/GPUArrays/umZob/src/host/indexing.jl:56\n"
     ]
    },
    {
     "data": {
      "text/plain": [
       "-0.14913118f0"
      ]
     },
     "execution_count": 32,
     "metadata": {},
     "output_type": "execute_result"
    }
   ],
   "source": [
    "mynorm_Zi[i]"
   ]
  },
  {
   "cell_type": "markdown",
   "metadata": {},
   "source": [
    "## check update joint proba"
   ]
  },
  {
   "cell_type": "code",
   "execution_count": null,
   "metadata": {},
   "outputs": [],
   "source": [
    "tmp_F = Array(af.bpm.F)\n",
    "SCE_F = convert_T3_xnTOy(tmp_F);\n",
    "tmp_B = Array(af.bpm.B)\n",
    "SCE_B = convert_T3_xnTOy(tmp_B);\n"
   ]
  },
  {
   "cell_type": "code",
   "execution_count": 34,
   "metadata": {},
   "outputs": [],
   "source": [
    "#tmp_joint = Array(af.bpb.joint_chain)\n",
    "#SCE_joint = convert_T5_xnTOy(tmp_joint);"
   ]
  },
  {
   "cell_type": "code",
   "execution_count": 35,
   "metadata": {},
   "outputs": [],
   "source": [
    "#sum(SCE_joint)"
   ]
  },
  {
   "cell_type": "code",
   "execution_count": 36,
   "metadata": {},
   "outputs": [],
   "source": [
    "BpAlignGpu.update_jointchain!(af, pm)"
   ]
  },
  {
   "cell_type": "code",
   "execution_count": 37,
   "metadata": {},
   "outputs": [],
   "source": [
    "#sum(af.bpb.joint_chain, dims=(1,2,3,4))[1,1,1,1,:]"
   ]
  },
  {
   "cell_type": "code",
   "execution_count": 38,
   "metadata": {},
   "outputs": [],
   "source": [
    "#i=1\n",
    "#af.bpb.joint_chain[:,1,:,1,i]"
   ]
  },
  {
   "cell_type": "code",
   "execution_count": 39,
   "metadata": {},
   "outputs": [],
   "source": [
    "#SCE_update_joint_chain!(SCE_joint, i, beta, tolnorm, SCE_F, SCE_B, SCE_g, lambda_o, lambda_e, N, elts_Jseq);"
   ]
  },
  {
   "cell_type": "code",
   "execution_count": 40,
   "metadata": {},
   "outputs": [],
   "source": [
    "#rx1 = 1:N+2\n",
    "#rx2 = N+3:2N+4\n",
    "#SCE_joint[rx1,rx1, i]"
   ]
  },
  {
   "cell_type": "code",
   "execution_count": 41,
   "metadata": {},
   "outputs": [],
   "source": [
    "#sum(SCE_joint, dims=(1,2))[1,1,:]"
   ]
  },
  {
   "cell_type": "markdown",
   "metadata": {},
   "source": [
    "## check update conditional on the chain"
   ]
  },
  {
   "cell_type": "code",
   "execution_count": 42,
   "metadata": {},
   "outputs": [],
   "source": [
    "BpAlignGpu.update_conditional_chain!(af, pa)"
   ]
  },
  {
   "cell_type": "code",
   "execution_count": 43,
   "metadata": {},
   "outputs": [],
   "source": [
    "#tmp_joint = Array(af.bpb.joint_chain)\n",
    "#SCE_joint = convert_T5_xnTOy(tmp_joint);"
   ]
  },
  {
   "cell_type": "code",
   "execution_count": 44,
   "metadata": {},
   "outputs": [],
   "source": [
    "#cond_chain = fill(0.0, 2N+4, 2N+4, L, L)\n",
    "#for i=1:L-1\n",
    "#    SCE_update_conditional_chain!(i, cond_chain, SCE_joint, tolnorm, N)\n",
    "#end"
   ]
  },
  {
   "cell_type": "code",
   "execution_count": 45,
   "metadata": {},
   "outputs": [],
   "source": [
    "#af.bpb.conditional[:,2,:,1,1,2]"
   ]
  },
  {
   "cell_type": "code",
   "execution_count": 46,
   "metadata": {},
   "outputs": [],
   "source": [
    "#cond_chain[rx2, rx1, 1, 2]"
   ]
  },
  {
   "cell_type": "code",
   "execution_count": 47,
   "metadata": {},
   "outputs": [],
   "source": [
    "#sum(cond_chain[:,:,4,3], dims=1)"
   ]
  },
  {
   "cell_type": "code",
   "execution_count": 48,
   "metadata": {},
   "outputs": [],
   "source": [
    "#sum(af.bpb.conditional[:,:,:,:,4,3], dims=(1,2))[1,1,:,:]"
   ]
  },
  {
   "cell_type": "markdown",
   "metadata": {},
   "source": [
    "## check update conditional off the chain"
   ]
  },
  {
   "cell_type": "code",
   "execution_count": 49,
   "metadata": {},
   "outputs": [],
   "source": [
    "#cond_lr = copy(cond_chain);\n",
    "#pointer(cond_chain), pointer(cond_lr)"
   ]
  },
  {
   "cell_type": "code",
   "execution_count": 50,
   "metadata": {},
   "outputs": [],
   "source": [
    "#SCE_update_conditional_lr!(cond_lr)"
   ]
  },
  {
   "cell_type": "code",
   "execution_count": 51,
   "metadata": {},
   "outputs": [],
   "source": [
    "BpAlignGpu.update_conditional_all!(af, pm);"
   ]
  },
  {
   "cell_type": "code",
   "execution_count": 52,
   "metadata": {},
   "outputs": [],
   "source": [
    "#cond_lr[rx1, rx2, 4, 1]"
   ]
  },
  {
   "cell_type": "code",
   "execution_count": 53,
   "metadata": {},
   "outputs": [],
   "source": [
    "#af.bpb.conditional[:,1,:,2,4,1]"
   ]
  },
  {
   "cell_type": "code",
   "execution_count": 54,
   "metadata": {},
   "outputs": [],
   "source": [
    "#sum(af.bpb.conditional[:,:,:,:,4,1], dims=(1,2))[1,1,:,:]"
   ]
  },
  {
   "cell_type": "code",
   "execution_count": 55,
   "metadata": {
    "scrolled": true
   },
   "outputs": [],
   "source": [
    "#sum(cond_lr[:,:,4,1], dims=1)"
   ]
  },
  {
   "cell_type": "markdown",
   "metadata": {},
   "source": [
    "## check update f"
   ]
  },
  {
   "cell_type": "code",
   "execution_count": 58,
   "metadata": {},
   "outputs": [],
   "source": [
    "tmp_cond= Array(af.bpb.conditional)\n",
    "SCE_cond = convert_T6_xnTOy(tmp_cond);"
   ]
  },
  {
   "cell_type": "code",
   "execution_count": 59,
   "metadata": {},
   "outputs": [],
   "source": [
    "tmp_f = Array(af.lrf.f)\n",
    "SCE_f = convert_T3_xnTOy(tmp_f);"
   ]
  },
  {
   "cell_type": "code",
   "execution_count": 60,
   "metadata": {},
   "outputs": [
    {
     "data": {
      "text/plain": [
       "7×2 CUDA.CuArray{Float32, 2, CUDA.Mem.DeviceBuffer}:\n",
       " 0.0  0.0\n",
       " 0.0  0.0\n",
       " 0.0  0.0\n",
       " 0.0  0.0\n",
       " 0.0  0.0\n",
       " 0.0  0.0\n",
       " 0.0  0.0"
      ]
     },
     "execution_count": 60,
     "metadata": {},
     "output_type": "execute_result"
    }
   ],
   "source": [
    "af.lrf.f[:,:,2]"
   ]
  },
  {
   "cell_type": "code",
   "execution_count": 61,
   "metadata": {},
   "outputs": [],
   "source": [
    "BpAlignGpu.update_f!(af)"
   ]
  },
  {
   "cell_type": "code",
   "execution_count": 63,
   "metadata": {},
   "outputs": [],
   "source": [
    "using LinearAlgebra\n",
    "SCE_update_f!(SCE_f, SCE_cond, elts_Jseq, N)"
   ]
  },
  {
   "cell_type": "code",
   "execution_count": 64,
   "metadata": {},
   "outputs": [
    {
     "data": {
      "text/plain": [
       "7×2 CUDA.CuArray{Float32, 2, CUDA.Mem.DeviceBuffer}:\n",
       " -4.24892   0.0\n",
       " -4.0828   -4.27414\n",
       " -3.85625  -4.70392\n",
       " -4.40407  -3.8992\n",
       " -4.08144  -4.17385\n",
       " -1.88375  -3.41813\n",
       " -4.19178   0.0"
      ]
     },
     "execution_count": 64,
     "metadata": {},
     "output_type": "execute_result"
    }
   ],
   "source": [
    "i=3\n",
    "af.lrf.f[:,:,i]"
   ]
  },
  {
   "cell_type": "code",
   "execution_count": 65,
   "metadata": {},
   "outputs": [
    {
     "data": {
      "text/plain": [
       "14-element Vector{Float64}:\n",
       " -4.248915610112336\n",
       " -4.082803403479909\n",
       " -3.856248602006823\n",
       " -4.404074380157429\n",
       " -4.081436507314701\n",
       " -1.8837479043673235\n",
       " -4.191776273157981\n",
       "  0.0\n",
       " -4.274139669206367\n",
       " -4.703921061363093\n",
       " -3.899199102371751\n",
       " -4.17384718815496\n",
       " -3.418132984940926\n",
       "  0.0"
      ]
     },
     "execution_count": 65,
     "metadata": {},
     "output_type": "execute_result"
    }
   ],
   "source": [
    "SCE_f[:,i]"
   ]
  },
  {
   "cell_type": "markdown",
   "metadata": {},
   "source": [
    "## check update g"
   ]
  },
  {
   "cell_type": "code",
   "execution_count": 66,
   "metadata": {},
   "outputs": [],
   "source": [
    "tmp_cond= Array(af.bpb.conditional)\n",
    "SCE_cond = convert_T6_xnTOy(tmp_cond);"
   ]
  },
  {
   "cell_type": "code",
   "execution_count": 67,
   "metadata": {},
   "outputs": [],
   "source": [
    "tmp_g = Array(af.lrf.g)\n",
    "SCE_g = convert_T5_xnTOy(tmp_g);"
   ]
  },
  {
   "cell_type": "code",
   "execution_count": 68,
   "metadata": {},
   "outputs": [
    {
     "data": {
      "text/plain": [
       "7×7 CUDA.CuArray{Float32, 2, CUDA.Mem.DeviceBuffer}:\n",
       " 0.0  0.0  0.0  0.0  0.0  0.0  0.0\n",
       " 0.0  0.0  0.0  0.0  0.0  0.0  0.0\n",
       " 0.0  0.0  0.0  0.0  0.0  0.0  0.0\n",
       " 0.0  0.0  0.0  0.0  0.0  0.0  0.0\n",
       " 0.0  0.0  0.0  0.0  0.0  0.0  0.0\n",
       " 0.0  0.0  0.0  0.0  0.0  0.0  0.0\n",
       " 0.0  0.0  0.0  0.0  0.0  0.0  0.0"
      ]
     },
     "execution_count": 68,
     "metadata": {},
     "output_type": "execute_result"
    }
   ],
   "source": [
    "af.lrf.g[:,1,:,2,2]"
   ]
  },
  {
   "cell_type": "code",
   "execution_count": 69,
   "metadata": {},
   "outputs": [],
   "source": [
    "BpAlignGpu.update_g!(af)"
   ]
  },
  {
   "cell_type": "code",
   "execution_count": 72,
   "metadata": {},
   "outputs": [],
   "source": [
    "SCE_update_g!(SCE_g, SCE_cond, elts_Jseq, N)"
   ]
  },
  {
   "cell_type": "code",
   "execution_count": 87,
   "metadata": {},
   "outputs": [
    {
     "data": {
      "text/plain": [
       "7×7 CUDA.CuArray{Float32, 2, CUDA.Mem.DeviceBuffer}:\n",
       " 3.45272  3.45279  3.15216  3.11431  2.71212  2.16102  3.51013\n",
       " 3.45272  3.45279  3.15216  3.11431  2.71212  2.16102  3.51013\n",
       " 3.45272  3.45279  3.15216  3.11431  2.71212  2.16102  3.51013\n",
       " 3.45272  3.45279  3.15216  3.11431  2.71212  2.16102  3.51013\n",
       " 3.45272  3.45279  3.15216  3.11431  2.71212  2.16102  3.51013\n",
       " 3.45272  3.45279  3.15216  3.11431  2.71212  2.16102  3.51013\n",
       " 3.45272  3.45279  3.15216  3.11431  2.71212  2.16102  3.51013"
      ]
     },
     "execution_count": 87,
     "metadata": {},
     "output_type": "execute_result"
    }
   ],
   "source": [
    "i=1\n",
    "af.lrf.g[:,1,:,1,i]"
   ]
  },
  {
   "cell_type": "code",
   "execution_count": 88,
   "metadata": {},
   "outputs": [
    {
     "data": {
      "text/plain": [
       "7×7 Matrix{Float64}:\n",
       " 3.45272  3.45279  3.15216  3.11431  2.71212  2.16102  3.51013\n",
       " 3.45272  3.45279  3.15216  3.11431  2.71212  2.16102  3.51013\n",
       " 3.45272  3.45279  3.15216  3.11431  2.71212  2.16102  3.51013\n",
       " 3.45272  3.45279  3.15216  3.11431  2.71212  2.16102  3.51013\n",
       " 3.45272  3.45279  3.15216  3.11431  2.71212  2.16102  3.51013\n",
       " 3.45272  3.45279  3.15216  3.11431  2.71212  2.16102  3.51013\n",
       " 3.45272  3.45279  3.15216  3.11431  2.71212  2.16102  3.51013"
      ]
     },
     "execution_count": 88,
     "metadata": {},
     "output_type": "execute_result"
    }
   ],
   "source": [
    "rx1 = 1:N+2\n",
    "rx2 = N+3:2N+4\n",
    "SCE_g[rx1,rx1,i]"
   ]
  },
  {
   "cell_type": "code",
   "execution_count": null,
   "metadata": {},
   "outputs": [],
   "source": []
  }
 ],
 "metadata": {
  "kernelspec": {
   "display_name": "Julia 1.7.1",
   "language": "julia",
   "name": "julia-1.7"
  },
  "language_info": {
   "file_extension": ".jl",
   "mimetype": "application/julia",
   "name": "julia",
   "version": "1.7.1"
  }
 },
 "nbformat": 4,
 "nbformat_minor": 4
}
