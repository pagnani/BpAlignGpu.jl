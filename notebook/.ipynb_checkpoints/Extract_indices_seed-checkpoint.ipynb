{
 "cells": [
  {
   "cell_type": "code",
   "execution_count": 1,
   "metadata": {},
   "outputs": [],
   "source": [
    "using DelimitedFiles, Plots"
   ]
  },
  {
   "cell_type": "code",
   "execution_count": 2,
   "metadata": {},
   "outputs": [
    {
     "name": "stderr",
     "output_type": "stream",
     "text": [
      "\u001b[32m\u001b[1m  Activating\u001b[22m\u001b[39m project at `~/MSA/BpAlignGpu.jl`\n"
     ]
    }
   ],
   "source": [
    "using Revise, Pkg\n",
    "Pkg.activate(\"/home/louise/MSA/BpAlignGpu.jl\")\n",
    "using BpAlignGpu"
   ]
  },
  {
   "cell_type": "code",
   "execution_count": 3,
   "metadata": {},
   "outputs": [
    {
     "name": "stderr",
     "output_type": "stream",
     "text": [
      "┌ Warning: The NVIDIA driver on this system only supports up to CUDA 11.0.0.\n",
      "│ For performance reasons, it is recommended to upgrade to a driver that supports CUDA 11.2 or higher.\n",
      "└ @ CUDA /home/louise/.julia/packages/CUDA/Uurn4/src/initialization.jl:70\n"
     ]
    },
    {
     "data": {
      "text/plain": [
       "CuDevice(0): TITAN RTX"
      ]
     },
     "execution_count": 3,
     "metadata": {},
     "output_type": "execute_result"
    }
   ],
   "source": [
    "using CUDA\n",
    "CUDA.device!(0)"
   ]
  },
  {
   "cell_type": "code",
   "execution_count": 4,
   "metadata": {},
   "outputs": [],
   "source": [
    "T = Float32\n",
    "q = 21\n",
    "ctype=Symbol(\"amino\")\n",
    "typel=Symbol(\"bm\")\n",
    "muext = 0.00\n",
    "muint = 2.50;"
   ]
  },
  {
   "cell_type": "code",
   "execution_count": 81,
   "metadata": {},
   "outputs": [
    {
     "name": "stderr",
     "output_type": "stream",
     "text": [
      "┌ Info: Assuming J i j a b and h i a format\n",
      "└ @ BpAlignGpu /home/louise/MSA/BpAlignGpu.jl/src/utils.jl:37\n",
      "┌ Info: Output tersors: J[a b i j] and h[a i]\n",
      "└ @ BpAlignGpu /home/louise/MSA/BpAlignGpu.jl/src/utils.jl:39\n",
      "┌ Info: Gap in input file 0 now in 21\n",
      "└ @ BpAlignGpu /home/louise/MSA/BpAlignGpu.jl/src/utils.jl:40\n"
     ]
    }
   ],
   "source": [
    "fam = \"PF00397\"\n",
    "\n",
    "path = \"/home/louise/MSA/Data/test/PF00397/\"\n",
    "open(path)\n",
    "L = 31; \n",
    "\n",
    "param_file = path * \"Parameters_plm_PF00397.dat\"\n",
    "J, H = BpAlignGpu.read_parameters(param_file, q, L, gap=0, typel=typel);\n",
    "\n",
    "delta = 0;\n",
    "file_full = path * \"PF00397_full_length_sequences.fasta\"\n",
    "file_hmmer = path * \"PF00397_full.fasta\"\n",
    "file_hmmer_ins = path * \"PF00397_full.inse\"\n",
    "al = BpAlignGpu.enveloptoalign( file_full, file_hmmer, file_hmmer_ins, delta = delta, ctype = ctype);\n",
    "M = length(al)\n",
    "\n",
    "using DelimitedFiles\n",
    "lambda_file = path * \"Lambda_PF00397.dat\"\n",
    "Lambda_all = readdlm(lambda_file)\n",
    "lambda_o = Lambda_all[1,:];\n",
    "lambda_e = Lambda_all[2,:];"
   ]
  },
  {
   "cell_type": "code",
   "execution_count": null,
   "metadata": {},
   "outputs": [],
   "source": []
  },
  {
   "cell_type": "code",
   "execution_count": 103,
   "metadata": {},
   "outputs": [],
   "source": [
    "file_seed = path * \"PF00397_seed.fasta\"\n",
    "seq_seed = readdlm(file_seed);\n",
    "Mseed = size(seq_seed,1)\n",
    "names_s = [String(seq_seed[i]) for i=1:2:Mseed-1];"
   ]
  },
  {
   "cell_type": "code",
   "execution_count": 104,
   "metadata": {},
   "outputs": [],
   "source": [
    "names_full = \">\".*[x[1] for x in al];"
   ]
  },
  {
   "cell_type": "code",
   "execution_count": null,
   "metadata": {},
   "outputs": [],
   "source": [
    "function cutname(s)\n",
    "    n=0\n",
    "    for (i,c) in pairs(s)\n",
    "        if c == '/'\n",
    "            n=i\n",
    "        end\n",
    "    end\n",
    "    return s[1:n-1]\n",
    "end"
   ]
  },
  {
   "cell_type": "code",
   "execution_count": 146,
   "metadata": {},
   "outputs": [],
   "source": [
    "names_full_cut = cutname.(names_full);"
   ]
  },
  {
   "cell_type": "code",
   "execution_count": 167,
   "metadata": {},
   "outputs": [
    {
     "data": {
      "text/plain": [
       "Int64[]"
      ]
     },
     "execution_count": 167,
     "metadata": {},
     "output_type": "execute_result"
    }
   ],
   "source": [
    "i=75\n",
    "idx0 = findall(names_full .== names_s[i])"
   ]
  },
  {
   "cell_type": "code",
   "execution_count": 168,
   "metadata": {},
   "outputs": [
    {
     "data": {
      "text/plain": [
       "Int64[]"
      ]
     },
     "execution_count": 168,
     "metadata": {},
     "output_type": "execute_result"
    }
   ],
   "source": [
    "idx0 = findall(names_full_cut .== cutname(names_s[i]))"
   ]
  },
  {
   "cell_type": "code",
   "execution_count": 169,
   "metadata": {},
   "outputs": [
    {
     "data": {
      "text/plain": [
       "\">Q23425_CAEEL/19-49\""
      ]
     },
     "execution_count": 169,
     "metadata": {},
     "output_type": "execute_result"
    }
   ],
   "source": [
    "names_s[i]"
   ]
  },
  {
   "cell_type": "code",
   "execution_count": 170,
   "metadata": {},
   "outputs": [
    {
     "name": "stdout",
     "output_type": "stream",
     "text": [
      "(i, idx0) = (9, Int64[])\n",
      "(i, idx0) = (13, Int64[])\n",
      "(i, idx0) = (19, [712, 713])\n",
      "(i, idx0) = (20, [25, 26])\n",
      "(i, idx0) = (25, [53402, 53403])\n",
      "(i, idx0) = (32, [37513, 37514, 37515])\n",
      "(i, idx0) = (34, [47332, 47333])\n",
      "(i, idx0) = (42, [7381, 7382])\n",
      "(i, idx0) = (47, [43539, 43540])\n",
      "(i, idx0) = (48, [6180, 6181])\n",
      "(i, idx0) = (54, [41674, 41675])\n",
      "(i, idx0) = (67, Int64[])\n",
      "(i, idx0) = (70, [37513, 37514, 37515])\n",
      "(i, idx0) = (72, [5366, 5367, 5368, 5369, 5370, 5371, 5372, 5373, 5374, 5375, 5376, 5377])\n",
      "(i, idx0) = (74, [51023, 51024])\n",
      "(i, idx0) = (75, Int64[])\n",
      "(i, idx0) = (80, Int64[])\n",
      "(i, idx0) = (81, [23089, 23090])\n",
      "(i, idx0) = (97, [41486, 41487])\n",
      "(i, idx0) = (102, Int64[])\n",
      "(i, idx0) = (114, [39265, 39266, 39267])\n",
      "(i, idx0) = (116, Int64[])\n",
      "(i, idx0) = (124, [41748, 41749])\n",
      "(i, idx0) = (127, [11909, 11910, 11911])\n",
      "(i, idx0) = (129, Int64[])\n",
      "(i, idx0) = (133, Int64[])\n",
      "(i, idx0) = (141, [25521, 25522])\n",
      "(i, idx0) = (142, [34586, 34587])\n",
      "(i, idx0) = (147, Int64[])\n",
      "(i, idx0) = (152, [261, 262])\n",
      "(i, idx0) = (155, [4457, 4458])\n",
      "(i, idx0) = (169, [2955, 2956])\n",
      "(i, idx0) = (185, [43728, 43729])\n",
      "(i, idx0) = (192, Int64[])\n",
      "(i, idx0) = (195, Int64[])\n",
      "(i, idx0) = (200, [45454, 45455])\n",
      "(i, idx0) = (211, [12512, 12513, 12514])\n",
      "(i, idx0) = (220, [28094, 28095])\n",
      "(i, idx0) = (241, [11923, 11924, 11925, 11926])\n",
      "(i, idx0) = (248, [33835, 33836])\n",
      "(i, idx0) = (251, [24110, 24111, 24112])\n",
      "(i, idx0) = (262, [34586, 34587])\n",
      "(i, idx0) = (268, Int64[])\n",
      "(i, idx0) = (269, [10152, 10153])\n",
      "(i, idx0) = (271, Int64[])\n",
      "(i, idx0) = (276, [50644, 50645, 50646])\n",
      "(i, idx0) = (278, [6180, 6181])\n",
      "(i, idx0) = (281, Int64[])\n",
      "(i, idx0) = (287, [37513, 37514, 37515])\n",
      "(i, idx0) = (289, [53501, 53502])\n",
      "(i, idx0) = (296, [26252, 26253])\n",
      "(i, idx0) = (297, [25375, 25376])\n",
      "(i, idx0) = (298, Int64[])\n",
      "(i, idx0) = (304, Int64[])\n",
      "(i, idx0) = (315, Int64[])\n",
      "(i, idx0) = (321, [39008, 39009])\n",
      "(i, idx0) = (330, [46133, 46134])\n",
      "(i, idx0) = (347, [57738, 57739])\n",
      "(i, idx0) = (357, Int64[])\n",
      "(i, idx0) = (360, [39265, 39266, 39267])\n",
      "(i, idx0) = (390, [57327, 57328])\n",
      "(i, idx0) = (392, Int64[])\n",
      "(i, idx0) = (394, [31405, 31406, 31407])\n",
      "(i, idx0) = (398, Int64[])\n",
      "(i, idx0) = (400, [11176, 11177])\n",
      "(i, idx0) = (401, [45284, 45285])\n",
      "(i, idx0) = (402, [29448, 29449])\n",
      "(i, idx0) = (415, [30286, 30287, 30288])\n",
      "(i, idx0) = (419, [48493, 48494])\n",
      "(i, idx0) = (420, [39265, 39266, 39267])\n",
      "(i, idx0) = (431, [25521, 25522])\n",
      "(i, idx0) = (437, [3139, 3140])\n",
      "(i, idx0) = (440, [52896, 52897, 52898, 52899])\n",
      "(i, idx0) = (445, [11909, 11910, 11911])\n"
     ]
    }
   ],
   "source": [
    "for i in 1:length(names_s)\n",
    "    idx0 = findall(names_full .== names_s[i])\n",
    "    if idx0 == Int64[]\n",
    "       idx0 = findall(names_full_cut .== cutname(names_s[i])) \n",
    "    end\n",
    "    if length(idx0) == 1\n",
    "        open(\"inds_seed_\"*fam*\".txt\", \"a\") do io\n",
    "            writedlm(io, [idx0 i])\n",
    "        end\n",
    "    else\n",
    "        @show i,idx0        \n",
    "    end\n",
    "\n",
    "end"
   ]
  },
  {
   "cell_type": "code",
   "execution_count": 131,
   "metadata": {},
   "outputs": [
    {
     "data": {
      "text/plain": [
       "448"
      ]
     },
     "execution_count": 131,
     "metadata": {},
     "output_type": "execute_result"
    }
   ],
   "source": [
    "length(names_s)"
   ]
  },
  {
   "cell_type": "code",
   "execution_count": 137,
   "metadata": {},
   "outputs": [
    {
     "data": {
      "text/plain": [
       "\">L5JPL4_PTEAL/645-674\""
      ]
     },
     "execution_count": 137,
     "metadata": {},
     "output_type": "execute_result"
    }
   ],
   "source": [
    "i=2\n",
    "names_s[i]"
   ]
  },
  {
   "cell_type": "code",
   "execution_count": 138,
   "metadata": {},
   "outputs": [
    {
     "data": {
      "text/plain": [
       "Int64[]"
      ]
     },
     "execution_count": 138,
     "metadata": {},
     "output_type": "execute_result"
    }
   ],
   "source": [
    "findall(names_full .== names_s[i])"
   ]
  },
  {
   "cell_type": "code",
   "execution_count": 139,
   "metadata": {},
   "outputs": [
    {
     "data": {
      "text/plain": [
       "1-element Vector{Int64}:\n",
       " 44476"
      ]
     },
     "execution_count": 139,
     "metadata": {},
     "output_type": "execute_result"
    }
   ],
   "source": [
    "findall(names_full .== \">L5JPL4_PTEAL/646-674\")"
   ]
  },
  {
   "cell_type": "code",
   "execution_count": null,
   "metadata": {},
   "outputs": [],
   "source": []
  }
 ],
 "metadata": {
  "kernelspec": {
   "display_name": "Julia 1.7.1",
   "language": "julia",
   "name": "julia-1.7"
  },
  "language_info": {
   "file_extension": ".jl",
   "mimetype": "application/julia",
   "name": "julia",
   "version": "1.7.1"
  }
 },
 "nbformat": 4,
 "nbformat_minor": 4
}
