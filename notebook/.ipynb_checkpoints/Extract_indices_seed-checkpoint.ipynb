{
 "cells": [
  {
   "cell_type": "code",
   "execution_count": 2,
   "metadata": {},
   "outputs": [],
   "source": [
    "using DelimitedFiles, Plots"
   ]
  },
  {
   "cell_type": "code",
   "execution_count": 3,
   "metadata": {},
   "outputs": [
    {
     "name": "stderr",
     "output_type": "stream",
     "text": [
      "\u001b[32m\u001b[1m  Activating\u001b[22m\u001b[39m project at `~/MSA/BpAlignGpu.jl`\n"
     ]
    }
   ],
   "source": [
    "using Revise, Pkg\n",
    "Pkg.activate(\"/home/louise/MSA/BpAlignGpu.jl\")\n",
    "using BpAlignGpu"
   ]
  },
  {
   "cell_type": "code",
   "execution_count": 4,
   "metadata": {},
   "outputs": [
    {
     "name": "stderr",
     "output_type": "stream",
     "text": [
      "┌ Warning: The NVIDIA driver on this system only supports up to CUDA 11.0.0.\n",
      "│ For performance reasons, it is recommended to upgrade to a driver that supports CUDA 11.2 or higher.\n",
      "└ @ CUDA /home/louise/.julia/packages/CUDA/Uurn4/src/initialization.jl:70\n"
     ]
    },
    {
     "data": {
      "text/plain": [
       "CuDevice(0): TITAN RTX"
      ]
     },
     "execution_count": 4,
     "metadata": {},
     "output_type": "execute_result"
    }
   ],
   "source": [
    "using CUDA\n",
    "CUDA.device!(0)"
   ]
  },
  {
   "cell_type": "code",
   "execution_count": 5,
   "metadata": {},
   "outputs": [],
   "source": [
    "T = Float32\n",
    "q = 21\n",
    "ctype=Symbol(\"amino\")\n",
    "typel=Symbol(\"bm\")\n",
    "muext = 0.00\n",
    "muint = 2.50;"
   ]
  },
  {
   "cell_type": "code",
   "execution_count": 6,
   "metadata": {},
   "outputs": [],
   "source": [
    "#fam = \"PF00684\"\n",
    "\n",
    "#path = \"/home/louise/MSA/Data/PF684/\"\n",
    "#open(path)\n",
    "#L = 67; \n",
    "\n",
    "#param_file = path * \"Parameters_conv_zerosum_PF00684seed.dat\"\n",
    "#J, H = BpAlignGpu.read_parameters(param_file, q, L, gap=0, typel=typel);\n",
    "\n",
    "#delta = 0;\n",
    "#file_full = path * \"PF00684_full_length_sequences.fasta\"\n",
    "#file_hmmer = path * \"PF00684_full.fasta\"\n",
    "#file_hmmer_ins = path * \"PF00684_full.ins\"\n",
    "#al = BpAlignGpu.enveloptoalign( file_full, file_hmmer, file_hmmer_ins, delta = delta, ctype = ctype);\n",
    "#M = length(al)\n",
    "\n",
    "#using DelimitedFiles\n",
    "#lambda_file = path * \"LambdaOpen_LambdaExt.dat\"\n",
    "#Lambda_all = readdlm(lambda_file)\n",
    "#lambda_o = Lambda_all[1,:];\n",
    "#lambda_e = Lambda_all[2,:];"
   ]
  },
  {
   "cell_type": "code",
   "execution_count": 8,
   "metadata": {},
   "outputs": [
    {
     "name": "stderr",
     "output_type": "stream",
     "text": [
      "┌ Info: Assuming J i j a b and h i a format\n",
      "└ @ BpAlignGpu /home/louise/MSA/BpAlignGpu.jl/src/utils.jl:37\n",
      "┌ Info: Output tersors: J[a b i j] and h[a i]\n",
      "└ @ BpAlignGpu /home/louise/MSA/BpAlignGpu.jl/src/utils.jl:39\n",
      "┌ Info: Gap in input file 0 now in 21\n",
      "└ @ BpAlignGpu /home/louise/MSA/BpAlignGpu.jl/src/utils.jl:40\n"
     ]
    }
   ],
   "source": [
    "fam = \"PF00397\"\n",
    "\n",
    "path = \"/home/louise/MSA/Data/test/PF00397/\"\n",
    "open(path)\n",
    "L = 31; \n",
    "\n",
    "param_file = path * \"Parameters_plm_PF00397.dat\"\n",
    "J, H = BpAlignGpu.read_parameters(param_file, q, L, gap=0, typel=typel);\n",
    "\n",
    "delta = 0;\n",
    "file_full = path * \"PF00397_full_length_sequences.fasta\"\n",
    "file_hmmer = path * \"PF00397_full.fasta\"\n",
    "file_hmmer_ins = path * \"PF00397_full.inse\"\n",
    "al = BpAlignGpu.enveloptoalign( file_full, file_hmmer, file_hmmer_ins, delta = delta, ctype = ctype);\n",
    "M = length(al)\n",
    "\n",
    "using DelimitedFiles\n",
    "lambda_file = path * \"Lambda_PF00397.dat\"\n",
    "Lambda_all = readdlm(lambda_file)\n",
    "lambda_o = Lambda_all[1,:];\n",
    "lambda_e = Lambda_all[2,:];"
   ]
  },
  {
   "cell_type": "code",
   "execution_count": null,
   "metadata": {},
   "outputs": [],
   "source": []
  },
  {
   "cell_type": "code",
   "execution_count": 57,
   "metadata": {},
   "outputs": [],
   "source": [
    "#path = \"/home/louise/MSA/Data/test/PF00684/\"\n",
    "#file_seed = path * \"PF00684seed.fasta\"\n",
    "#seq_seed = readdlm(file_seed);\n",
    "#Mseed = size(seq_seed,1)\n",
    "#names_s = [String(seq_seed[i]) for i=1:2:Mseed-1];"
   ]
  },
  {
   "cell_type": "code",
   "execution_count": 9,
   "metadata": {},
   "outputs": [],
   "source": [
    "path = \"/home/louise/MSA/Data/test/PF00397/\"\n",
    "file_seed = path * \"PF00397_seed.fasta\"\n",
    "seq_seed = readdlm(file_seed);\n",
    "Mseed = size(seq_seed,1)\n",
    "names_s = [String(seq_seed[i]) for i=1:2:Mseed-1];"
   ]
  },
  {
   "cell_type": "code",
   "execution_count": 10,
   "metadata": {},
   "outputs": [],
   "source": [
    "names_full = \">\".*[x[1] for x in al];"
   ]
  },
  {
   "cell_type": "code",
   "execution_count": 14,
   "metadata": {},
   "outputs": [
    {
     "data": {
      "text/plain": [
       "(\"A0A3P8ZZ02_ESOLU/592-621\", \"MPAGWEVRSAPNGRPFFIDHNTKTTSWEDP\", \"-PAGWEVRSAPN-GRPFFIDHNTKTTSWEDP\", \"-PAGWEVRSAPN-GRPFFIDHNTKTTSWEDP\")"
      ]
     },
     "execution_count": 14,
     "metadata": {},
     "output_type": "execute_result"
    }
   ],
   "source": [
    "al[2]"
   ]
  },
  {
   "cell_type": "code",
   "execution_count": 11,
   "metadata": {},
   "outputs": [
    {
     "data": {
      "text/plain": [
       "59696-element Vector{String}:\n",
       " \">A0A6P8RKN2_GEOSA/3069-3096\"\n",
       " \">A0A3P8ZZ02_ESOLU/592-621\"\n",
       " \">A0A3P8ZZ02_ESOLU/523-552\"\n",
       " \">A0A3P8ZZ02_ESOLU/360-389\"\n",
       " \">A0A3P8ZZ02_ESOLU/643-672\"\n",
       " \">A0A663LIM3_ATHCN/118-146\"\n",
       " \">A0A663LIM3_ATHCN/158-187\"\n",
       " \">S8CXR8_9LAMI/15-45\"\n",
       " \">A0A0B7FFA7_THACB/18-47\"\n",
       " \">A0A2K5LVX8_CERAT/135-164\"\n",
       " \">A0A2K5LVX8_CERAT/96-123\"\n",
       " \">E9Q4Y9_MOUSE/86-115\"\n",
       " \">G3BBQ7_CANTC/36-65\"\n",
       " ⋮\n",
       " \">A0A671MGP6_9TELE/574-603\"\n",
       " \">A0A553R881_9TELE/111-139\"\n",
       " \">A0A444U9V2_ACIRT/281-310\"\n",
       " \">A0A1B8CG94_9PEZI/6-36\"\n",
       " \">A0A7E6E822_9CHIR/302-331\"\n",
       " \">A0A7E6E822_9CHIR/362-391\"\n",
       " \">A0A2A3EBE2_APICC/6-36\"\n",
       " \">A0A2I4BSQ7_9TELE/852-881\"\n",
       " \">A0A093P9N2_PYGAD/221-250\"\n",
       " \">A0A093P9N2_PYGAD/161-190\"\n",
       " \">A0A168G736_CORDF/18-48\"\n",
       " \">A0A5N6DV80_ASPPA/12-41\""
      ]
     },
     "execution_count": 11,
     "metadata": {},
     "output_type": "execute_result"
    }
   ],
   "source": [
    "names_full"
   ]
  },
  {
   "cell_type": "code",
   "execution_count": 15,
   "metadata": {},
   "outputs": [
    {
     "data": {
      "text/plain": [
       "cutname (generic function with 1 method)"
      ]
     },
     "execution_count": 15,
     "metadata": {},
     "output_type": "execute_result"
    }
   ],
   "source": [
    "function cutname(s)\n",
    "    n=0\n",
    "    for (i,c) in pairs(s)\n",
    "        if c == '/'\n",
    "            n=i\n",
    "        end\n",
    "    end\n",
    "    return s[1:n-1]\n",
    "end"
   ]
  },
  {
   "cell_type": "code",
   "execution_count": 16,
   "metadata": {},
   "outputs": [],
   "source": [
    "names_full_cut = cutname.(names_full);"
   ]
  },
  {
   "cell_type": "code",
   "execution_count": 17,
   "metadata": {},
   "outputs": [
    {
     "data": {
      "text/plain": [
       "59696-element Vector{String}:\n",
       " \">A0A6P8RKN2_GEOSA\"\n",
       " \">A0A3P8ZZ02_ESOLU\"\n",
       " \">A0A3P8ZZ02_ESOLU\"\n",
       " \">A0A3P8ZZ02_ESOLU\"\n",
       " \">A0A3P8ZZ02_ESOLU\"\n",
       " \">A0A663LIM3_ATHCN\"\n",
       " \">A0A663LIM3_ATHCN\"\n",
       " \">S8CXR8_9LAMI\"\n",
       " \">A0A0B7FFA7_THACB\"\n",
       " \">A0A2K5LVX8_CERAT\"\n",
       " \">A0A2K5LVX8_CERAT\"\n",
       " \">E9Q4Y9_MOUSE\"\n",
       " \">G3BBQ7_CANTC\"\n",
       " ⋮\n",
       " \">A0A671MGP6_9TELE\"\n",
       " \">A0A553R881_9TELE\"\n",
       " \">A0A444U9V2_ACIRT\"\n",
       " \">A0A1B8CG94_9PEZI\"\n",
       " \">A0A7E6E822_9CHIR\"\n",
       " \">A0A7E6E822_9CHIR\"\n",
       " \">A0A2A3EBE2_APICC\"\n",
       " \">A0A2I4BSQ7_9TELE\"\n",
       " \">A0A093P9N2_PYGAD\"\n",
       " \">A0A093P9N2_PYGAD\"\n",
       " \">A0A168G736_CORDF\"\n",
       " \">A0A5N6DV80_ASPPA\""
      ]
     },
     "execution_count": 17,
     "metadata": {},
     "output_type": "execute_result"
    }
   ],
   "source": [
    "names_full_cut"
   ]
  },
  {
   "cell_type": "code",
   "execution_count": 18,
   "metadata": {},
   "outputs": [
    {
     "data": {
      "text/plain": [
       "448-element Vector{String}:\n",
       " \">Q4GYL7_TRYB2/49-78\"\n",
       " \">L5JPL4_PTEAL/645-674\"\n",
       " \">A7SG38_NEMVE/4-34\"\n",
       " \">D4AS33_ARTBC/23-53\"\n",
       " \">A7RG93_NEMVE/83-112\"\n",
       " \">A7S772_NEMVE/166-195\"\n",
       " \">B7P310_IXOSC/14-43\"\n",
       " \">Q6AWW6_ARATH/403-432\"\n",
       " \">D0N5V3_PHYIT/1098-1128\"\n",
       " \">D0NB34_PHYIT/109-138\"\n",
       " \">A9UP18_MONBE/34-64\"\n",
       " \">B7G6I4_PHATC/228-258\"\n",
       " \">H3D9N0_TETNG/8-36\"\n",
       " ⋮\n",
       " \">C3Y503_BRAFL/160-190\"\n",
       " \">B3RXK4_TRIAD/165-194\"\n",
       " \">Q4WEP6_ASPFU/55-85\"\n",
       " \">A4HX11_LEIIN/555-585\"\n",
       " \">D0MTH1_PHYIT/1207-1237\"\n",
       " \">G3AE90_SPAPN/10-40\"\n",
       " \">B8C7D0_THAPS/598-627\"\n",
       " \">C1MT00_MICPC/131-161\"\n",
       " \">D0MZS2_PHYIT/233-263\"\n",
       " \">Q9VFD3_DROME/216-245\"\n",
       " \">C7ZJC4_FUSV7/30-59\"\n",
       " \">B3S767_TRIAD/933-962\""
      ]
     },
     "execution_count": 18,
     "metadata": {},
     "output_type": "execute_result"
    }
   ],
   "source": [
    "names_s"
   ]
  },
  {
   "cell_type": "code",
   "execution_count": 19,
   "metadata": {},
   "outputs": [],
   "source": [
    "names_seed_cut = cutname.(names_s);"
   ]
  },
  {
   "cell_type": "code",
   "execution_count": 20,
   "metadata": {},
   "outputs": [
    {
     "data": {
      "text/plain": [
       "448-element Vector{String}:\n",
       " \">Q4GYL7_TRYB2\"\n",
       " \">L5JPL4_PTEAL\"\n",
       " \">A7SG38_NEMVE\"\n",
       " \">D4AS33_ARTBC\"\n",
       " \">A7RG93_NEMVE\"\n",
       " \">A7S772_NEMVE\"\n",
       " \">B7P310_IXOSC\"\n",
       " \">Q6AWW6_ARATH\"\n",
       " \">D0N5V3_PHYIT\"\n",
       " \">D0NB34_PHYIT\"\n",
       " \">A9UP18_MONBE\"\n",
       " \">B7G6I4_PHATC\"\n",
       " \">H3D9N0_TETNG\"\n",
       " ⋮\n",
       " \">C3Y503_BRAFL\"\n",
       " \">B3RXK4_TRIAD\"\n",
       " \">Q4WEP6_ASPFU\"\n",
       " \">A4HX11_LEIIN\"\n",
       " \">D0MTH1_PHYIT\"\n",
       " \">G3AE90_SPAPN\"\n",
       " \">B8C7D0_THAPS\"\n",
       " \">C1MT00_MICPC\"\n",
       " \">D0MZS2_PHYIT\"\n",
       " \">Q9VFD3_DROME\"\n",
       " \">C7ZJC4_FUSV7\"\n",
       " \">B3S767_TRIAD\""
      ]
     },
     "execution_count": 20,
     "metadata": {},
     "output_type": "execute_result"
    }
   ],
   "source": [
    "names_seed_cut"
   ]
  },
  {
   "cell_type": "code",
   "execution_count": 21,
   "metadata": {},
   "outputs": [
    {
     "data": {
      "text/plain": [
       "Int64[]"
      ]
     },
     "execution_count": 21,
     "metadata": {},
     "output_type": "execute_result"
    }
   ],
   "source": [
    "findall(names_seed_cut .== names_full_cut[1])"
   ]
  },
  {
   "cell_type": "code",
   "execution_count": 22,
   "metadata": {},
   "outputs": [
    {
     "name": "stdout",
     "output_type": "stream",
     "text": [
      "(names_s[i], cutname(names_s[i])) = (\">L5JPL4_PTEAL/645-674\", \">L5JPL4_PTEAL\")\n"
     ]
    },
    {
     "data": {
      "text/plain": [
       "1-element Vector{Int64}:\n",
       " 44476"
      ]
     },
     "execution_count": 22,
     "metadata": {},
     "output_type": "execute_result"
    }
   ],
   "source": [
    "i=2\n",
    "@show names_s[i], cutname(names_s[i])\n",
    "findall(names_full_cut .== cutname(names_s[i]))"
   ]
  },
  {
   "cell_type": "code",
   "execution_count": 24,
   "metadata": {},
   "outputs": [
    {
     "data": {
      "text/plain": [
       "Any[]"
      ]
     },
     "execution_count": 24,
     "metadata": {},
     "output_type": "execute_result"
    }
   ],
   "source": [
    "results = []"
   ]
  },
  {
   "cell_type": "code",
   "execution_count": 25,
   "metadata": {},
   "outputs": [],
   "source": [
    "for i in 1:length(names_s)\n",
    "    idx0 = findall(names_full .== names_s[i])\n",
    "    if idx0 == Int64[]\n",
    "       idx0 = findall(names_full_cut .== cutname(names_s[i])) \n",
    "    end\n",
    "    if length(idx0) == 1\n",
    "        t = 2*(i-1)+1\n",
    "        #@show idx0, names_s[i], seq_seed[t]\n",
    "        append!(results, [idx0, seq_seed[t], seq_seed[t+1]])\n",
    "        #open(\"inds_seed_\"*fam*\".txt\", \"a\") do io\n",
    "        #     writedlm(io, [idx0 seq_seed[t] seq_seed[t+1]])\n",
    "        #end\n",
    "        \n",
    "    else\n",
    "        #@show i,idx0        \n",
    "    end\n",
    "\n",
    "end"
   ]
  },
  {
   "cell_type": "code",
   "execution_count": 69,
   "metadata": {},
   "outputs": [
    {
     "data": {
      "text/plain": [
       "1321.0"
      ]
     },
     "execution_count": 69,
     "metadata": {},
     "output_type": "execute_result"
    }
   ],
   "source": [
    "3963/3"
   ]
  },
  {
   "cell_type": "code",
   "execution_count": 26,
   "metadata": {},
   "outputs": [
    {
     "data": {
      "text/plain": [
       "((448,), (374.0,))"
      ]
     },
     "execution_count": 26,
     "metadata": {},
     "output_type": "execute_result"
    }
   ],
   "source": [
    "size(names_s), size(results)./3"
   ]
  },
  {
   "cell_type": "code",
   "execution_count": 28,
   "metadata": {},
   "outputs": [
    {
     "data": {
      "text/plain": [
       "1122-element Vector{Any}:\n",
       " [58761]\n",
       " \">Q4GYL7_TRYB2/49-78\"\n",
       " \"LPEHWKACRSEK-GELYYFNFKTGESIWDHP\"\n",
       " [44476]\n",
       " \">L5JPL4_PTEAL/645-674\"\n",
       " \"RREDWEARIDSH-GRVFYVDHVNRTTTWQRP\"\n",
       " [2398]\n",
       " \">A7SG38_NEMVE/4-34\"\n",
       " \"LPPGWVEKVSNSTGKTYYLNQHTKASQWERP\"\n",
       " [9972]\n",
       " \">D4AS33_ARTBC/23-53\"\n",
       " \"LPEGWLAQWDGRQQRWYYVQPVTRKSQWEIP\"\n",
       " [30811]\n",
       " ⋮\n",
       " [41708]\n",
       " \">C1MT00_MICPC/131-161\"\n",
       " \"PPPPWKAIVDAKSGRTYYWDASSGETTWTMP\"\n",
       " [460]\n",
       " \">Q9VFD3_DROME/216-245\"\n",
       " \"LSYGWERAIDSK-GRSYYINHLNKTTTYEAP\"\n",
       " [41299]\n",
       " \">C7ZJC4_FUSV7/30-59\"\n",
       " \"LPDGWEARATSD-GRAYYVNHNTKTTSWDDP\"\n",
       " [43678]\n",
       " \">B3S767_TRIAD/933-962\"\n",
       " \"LPYGWSEAIAAD-GQKYYMNHITQKTSWERP\""
      ]
     },
     "execution_count": 28,
     "metadata": {},
     "output_type": "execute_result"
    }
   ],
   "source": [
    "results"
   ]
  },
  {
   "cell_type": "code",
   "execution_count": 22,
   "metadata": {},
   "outputs": [],
   "source": [
    "result_seed = readdlm(\"inds_seed_PF00397.txt\");"
   ]
  },
  {
   "cell_type": "code",
   "execution_count": 31,
   "metadata": {},
   "outputs": [
    {
     "data": {
      "text/plain": [
       "(374.0,)"
      ]
     },
     "execution_count": 31,
     "metadata": {},
     "output_type": "execute_result"
    }
   ],
   "source": [
    "#indices_seed = Int64.(result_seed[:,1])\n",
    "indices_seed = size(results)[1]./3"
   ]
  },
  {
   "cell_type": "code",
   "execution_count": 27,
   "metadata": {},
   "outputs": [
    {
     "ename": "LoadError",
     "evalue": "UndefVarError: indices_seed not defined",
     "output_type": "error",
     "traceback": [
      "UndefVarError: indices_seed not defined",
      "",
      "Stacktrace:",
      " [1] top-level scope",
      "   @ In[27]:1",
      " [2] eval",
      "   @ ./boot.jl:373 [inlined]",
      " [3] include_string(mapexpr::typeof(REPL.softscope), mod::Module, code::String, filename::String)",
      "   @ Base ./loading.jl:1196"
     ]
    }
   ],
   "source": [
    "for i in 1:length(indices_seed)\n",
    "    open(\"indices_seed\"*fam*\".txt\", \"a\") do io\n",
    "         writedlm(io, indices_seed[i])\n",
    "    end\n",
    "end    "
   ]
  },
  {
   "cell_type": "code",
   "execution_count": null,
   "metadata": {},
   "outputs": [],
   "source": []
  }
 ],
 "metadata": {
  "kernelspec": {
   "display_name": "Julia 1.7.1",
   "language": "julia",
   "name": "julia-1.7"
  },
  "language_info": {
   "file_extension": ".jl",
   "mimetype": "application/julia",
   "name": "julia",
   "version": "1.7.1"
  }
 },
 "nbformat": 4,
 "nbformat_minor": 4
}
