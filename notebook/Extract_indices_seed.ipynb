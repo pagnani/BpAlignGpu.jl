{
 "cells": [
  {
   "cell_type": "code",
   "execution_count": 1,
   "metadata": {},
   "outputs": [],
   "source": [
    "using DelimitedFiles, Plots"
   ]
  },
  {
   "cell_type": "code",
   "execution_count": 2,
   "metadata": {},
   "outputs": [
    {
     "name": "stderr",
     "output_type": "stream",
     "text": [
      "\u001b[32m\u001b[1m  Activating\u001b[22m\u001b[39m project at `~/MSA/BpAlignGpu.jl`\n"
     ]
    }
   ],
   "source": [
    "using Revise, Pkg\n",
    "Pkg.activate(\"/home/louise/MSA/BpAlignGpu.jl\")\n",
    "using BpAlignGpu"
   ]
  },
  {
   "cell_type": "code",
   "execution_count": 3,
   "metadata": {},
   "outputs": [
    {
     "name": "stderr",
     "output_type": "stream",
     "text": [
      "┌ Warning: The NVIDIA driver on this system only supports up to CUDA 11.0.0.\n",
      "│ For performance reasons, it is recommended to upgrade to a driver that supports CUDA 11.2 or higher.\n",
      "└ @ CUDA /home/louise/.julia/packages/CUDA/Uurn4/src/initialization.jl:70\n"
     ]
    },
    {
     "data": {
      "text/plain": [
       "CuDevice(0): TITAN RTX"
      ]
     },
     "execution_count": 3,
     "metadata": {},
     "output_type": "execute_result"
    }
   ],
   "source": [
    "using CUDA\n",
    "CUDA.device!(0)"
   ]
  },
  {
   "cell_type": "code",
   "execution_count": 4,
   "metadata": {},
   "outputs": [],
   "source": [
    "T = Float32\n",
    "q = 21\n",
    "ctype=Symbol(\"amino\")\n",
    "typel=Symbol(\"bm\")\n",
    "muext = 0.00\n",
    "muint = 2.50;"
   ]
  },
  {
   "cell_type": "code",
   "execution_count": 81,
   "metadata": {},
   "outputs": [
    {
     "name": "stderr",
     "output_type": "stream",
     "text": [
      "┌ Info: Assuming J i j a b and h i a format\n",
      "└ @ BpAlignGpu /home/louise/MSA/BpAlignGpu.jl/src/utils.jl:37\n",
      "┌ Info: Output tersors: J[a b i j] and h[a i]\n",
      "└ @ BpAlignGpu /home/louise/MSA/BpAlignGpu.jl/src/utils.jl:39\n",
      "┌ Info: Gap in input file 0 now in 21\n",
      "└ @ BpAlignGpu /home/louise/MSA/BpAlignGpu.jl/src/utils.jl:40\n"
     ]
    }
   ],
   "source": [
    "fam = \"PF00397\"\n",
    "\n",
    "path = \"/home/louise/MSA/Data/test/PF00397/\"\n",
    "open(path)\n",
    "L = 31; \n",
    "\n",
    "param_file = path * \"Parameters_plm_PF00397.dat\"\n",
    "J, H = BpAlignGpu.read_parameters(param_file, q, L, gap=0, typel=typel);\n",
    "\n",
    "delta = 0;\n",
    "file_full = path * \"PF00397_full_length_sequences.fasta\"\n",
    "file_hmmer = path * \"PF00397_full.fasta\"\n",
    "file_hmmer_ins = path * \"PF00397_full.inse\"\n",
    "al = BpAlignGpu.enveloptoalign( file_full, file_hmmer, file_hmmer_ins, delta = delta, ctype = ctype);\n",
    "M = length(al)\n",
    "\n",
    "using DelimitedFiles\n",
    "lambda_file = path * \"Lambda_PF00397.dat\"\n",
    "Lambda_all = readdlm(lambda_file)\n",
    "lambda_o = Lambda_all[1,:];\n",
    "lambda_e = Lambda_all[2,:];"
   ]
  },
  {
   "cell_type": "code",
   "execution_count": null,
   "metadata": {},
   "outputs": [],
   "source": []
  },
  {
   "cell_type": "code",
   "execution_count": 103,
   "metadata": {},
   "outputs": [],
   "source": [
    "file_seed = path * \"PF00397_seed.fasta\"\n",
    "seq_seed = readdlm(file_seed);\n",
    "Mseed = size(seq_seed,1)\n",
    "names_s = [String(seq_seed[i]) for i=1:2:Mseed-1];"
   ]
  },
  {
   "cell_type": "code",
   "execution_count": 104,
   "metadata": {},
   "outputs": [],
   "source": [
    "names_full = \">\".*[x[1] for x in al];"
   ]
  },
  {
   "cell_type": "code",
   "execution_count": null,
   "metadata": {},
   "outputs": [],
   "source": [
    "function cutname(s)\n",
    "    n=0\n",
    "    for (i,c) in pairs(s)\n",
    "        if c == '/'\n",
    "            n=i\n",
    "        end\n",
    "    end\n",
    "    return s[1:n-1]\n",
    "end"
   ]
  },
  {
   "cell_type": "code",
   "execution_count": 146,
   "metadata": {},
   "outputs": [],
   "source": [
    "names_full_cut = cutname.(names_full);"
   ]
  },
  {
   "cell_type": "code",
   "execution_count": 167,
   "metadata": {},
   "outputs": [
    {
     "data": {
      "text/plain": [
       "Int64[]"
      ]
     },
     "execution_count": 167,
     "metadata": {},
     "output_type": "execute_result"
    }
   ],
   "source": [
    "i=75\n",
    "idx0 = findall(names_full .== names_s[i])"
   ]
  },
  {
   "cell_type": "code",
   "execution_count": 168,
   "metadata": {},
   "outputs": [
    {
     "data": {
      "text/plain": [
       "Int64[]"
      ]
     },
     "execution_count": 168,
     "metadata": {},
     "output_type": "execute_result"
    }
   ],
   "source": [
    "idx0 = findall(names_full_cut .== cutname(names_s[i]))"
   ]
  },
  {
   "cell_type": "code",
   "execution_count": 169,
   "metadata": {},
   "outputs": [
    {
     "data": {
      "text/plain": [
       "\">Q23425_CAEEL/19-49\""
      ]
     },
     "execution_count": 169,
     "metadata": {},
     "output_type": "execute_result"
    }
   ],
   "source": [
    "names_s[i]"
   ]
  },
  {
   "cell_type": "code",
   "execution_count": 186,
   "metadata": {},
   "outputs": [],
   "source": [
    "for i in 1:length(names_s)\n",
    "    idx0 = findall(names_full .== names_s[i])\n",
    "    if idx0 == Int64[]\n",
    "       idx0 = findall(names_full_cut .== cutname(names_s[i])) \n",
    "    end\n",
    "    if length(idx0) == 1\n",
    "        t = 2*(i-1)+1\n",
    "        #@show idx0, names_s[i] == seq_seed[t]\n",
    "        open(\"inds_seed_\"*fam*\".txt\", \"a\") do io\n",
    "             writedlm(io, [idx0 seq_seed[t] seq_seed[t+1]])\n",
    "        end\n",
    "    else\n",
    "        #@show i,idx0        \n",
    "    end\n",
    "\n",
    "end"
   ]
  },
  {
   "cell_type": "code",
   "execution_count": 179,
   "metadata": {},
   "outputs": [
    {
     "data": {
      "text/plain": [
       "19"
      ]
     },
     "execution_count": 179,
     "metadata": {},
     "output_type": "execute_result"
    }
   ],
   "source": [
    "i=10\n",
    "t = 2*(i-1)+1"
   ]
  },
  {
   "cell_type": "code",
   "execution_count": 180,
   "metadata": {},
   "outputs": [
    {
     "data": {
      "text/plain": [
       "2-element Vector{Any}:\n",
       " \">D0NB34_PHYIT/109-138\"\n",
       " \"DYQKWIESFTED-GYPFYYNTNTGESSWYKP\""
      ]
     },
     "execution_count": 180,
     "metadata": {},
     "output_type": "execute_result"
    }
   ],
   "source": [
    "seq_seed[t:t+1]"
   ]
  },
  {
   "cell_type": "code",
   "execution_count": 181,
   "metadata": {},
   "outputs": [
    {
     "data": {
      "text/plain": [
       "(\"D0NB34_PHYIT/111-138\", \"QKWIESFTEDGYPFYYNTNTGESSWYKP\", \"----WIESFTED-GYPFYYNTNTGESSWYKP\", \"----WIESFTED-GYPFYYNTNTGESSWYKP\")"
      ]
     },
     "execution_count": 181,
     "metadata": {},
     "output_type": "execute_result"
    }
   ],
   "source": [
    "al[16444]"
   ]
  },
  {
   "cell_type": "code",
   "execution_count": null,
   "metadata": {},
   "outputs": [],
   "source": []
  }
 ],
 "metadata": {
  "kernelspec": {
   "display_name": "Julia 1.7.1",
   "language": "julia",
   "name": "julia-1.7"
  },
  "language_info": {
   "file_extension": ".jl",
   "mimetype": "application/julia",
   "name": "julia",
   "version": "1.7.1"
  }
 },
 "nbformat": 4,
 "nbformat_minor": 4
}
